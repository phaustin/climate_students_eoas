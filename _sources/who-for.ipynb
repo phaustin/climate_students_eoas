{
 "cells": [
  {
   "cell_type": "markdown",
   "id": "899bb5f4",
   "metadata": {},
   "source": [
    "# Who is the book for?\n",
    "\n",
    "*under construction*\n",
    "\n",
    "This book should be useful for:\n",
    "- Upper-level undergraduate with some (limited) background in atmospheric and climate science\n",
    "- Graduate students and researchers in climate science\n",
    "- Anyone else with some physics or atmospheric science background who is interested!\n",
    "\n",
    "The interactive code in the book is all written in Python.\n",
    "Familiarity with the Python language and its scientific packages is useful.\n",
    "However, we start off slow with lots of examples.\n",
    "Many students have learned Python by working through a version of this course!"
   ]
  }
 ],
 "metadata": {
  "jupytext": {
   "cell_metadata_filter": "-all",
   "formats": "md:myst",
   "text_representation": {
    "extension": ".md",
    "format_name": "myst",
    "format_version": 0.12,
    "jupytext_version": "1.6.0"
   }
  },
  "kernelspec": {
   "display_name": "Python 3",
   "language": "python",
   "name": "python3"
  },
  "source_map": [
   14
  ]
 },
 "nbformat": 4,
 "nbformat_minor": 5
}