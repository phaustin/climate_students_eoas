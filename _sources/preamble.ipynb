{
 "cells": [
  {
   "cell_type": "markdown",
   "id": "c3021841",
   "metadata": {},
   "source": [
    "# Preamble\n",
    "\n",
    "Let's amble through the courseware amiably."
   ]
  }
 ],
 "metadata": {
  "jupytext": {
   "cell_metadata_filter": "-all",
   "formats": "md:myst",
   "text_representation": {
    "extension": ".md",
    "format_name": "myst",
    "format_version": 0.12,
    "jupytext_version": "1.6.0"
   }
  },
  "kernelspec": {
   "display_name": "Python 3",
   "language": "python",
   "name": "python3"
  },
  "source_map": [
   14
  ]
 },
 "nbformat": 4,
 "nbformat_minor": 5
}