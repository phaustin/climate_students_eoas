{
 "cells": [
  {
   "cell_type": "markdown",
   "id": "2c19f2f5",
   "metadata": {},
   "source": [
    "# About the assignments\n",
    "\n",
    "The notebooks in this section offer a variety of homework Assignments\n",
    "suitable for undergraduate and graduate-level work.\n",
    "\n",
    "Required homework assignments in my classes will be drawn from this material.\n",
    "Specific assignments and due dates will usually be posted on class web pages.\n",
    "\n",
    "*Expect the content in the section to grow over the next few months.*"
   ]
  }
 ],
 "metadata": {
  "jupytext": {
   "cell_metadata_filter": "-all",
   "formats": "md:myst",
   "text_representation": {
    "extension": ".md",
    "format_name": "myst",
    "format_version": 0.12,
    "jupytext_version": "1.6.0"
   }
  },
  "kernelspec": {
   "display_name": "Python 3",
   "language": "python",
   "name": "python3"
  },
  "source_map": [
   14
  ]
 },
 "nbformat": 4,
 "nbformat_minor": 5
}