{
 "cells": [
  {
   "cell_type": "markdown",
   "id": "f829d76a",
   "metadata": {
    "slideshow": {
     "slide_type": "slide"
    }
   },
   "source": [
    "# What I wish I'd known about statistics"
   ]
  },
  {
   "cell_type": "markdown",
   "id": "03996fdf",
   "metadata": {
    "slideshow": {
     "slide_type": "slide"
    }
   },
   "source": [
    "## Probability is a subtle concept\n",
    "\n",
    "Money quote:  \"I must premiss that we, all of us, use this word [\"probability\"] with a degree of laxity which corrupts and rots our reasoning to a degree that very few of us are at all awake to.\" [Charles S. Pierce, 1910](https://philpapers.org/rec/BURIUW)\n",
    "\n",
    "[Fermat-Pascal letters (1654)](https://www.aps.org/publications/apsnews/200907/physicshistory.cfm)\n",
    "\n",
    "[Laplace and Bayes (1754)](https://www.lesswrong.com/posts/RTt59BtFLqQbsSiqd/a-history-of-bayes-theorem)"
   ]
  },
  {
   "cell_type": "markdown",
   "id": "bb26dab6",
   "metadata": {
    "slideshow": {
     "slide_type": "slide"
    }
   },
   "source": [
    "[Kolmogorov Axioms (1933)](https://plato.stanford.edu/entries/probability-interpret/#KolProCal): \n",
    "\n",
    "i)  0 ≤ p(E) ≤ 1.  \n",
    "\n",
    "ii) the certain event has probability 1  \n",
    "\n",
    "iii) The probability of the union of mutually exclusive events is the sum of the probabilities of the individual events."
   ]
  },
  {
   "cell_type": "markdown",
   "id": "32ad4e91",
   "metadata": {
    "slideshow": {
     "slide_type": "slide"
    }
   },
   "source": [
    "All of these interpretations are consistent with these axioms: \n",
    "\n",
    "<ul>\n",
    "\n",
    " <li><a href=\"https://plato.stanford.edu/entries/probability-interpret/#ClaPro\">3.1 Classical Probability</a></li>\n",
    " \n",
    " <li><a href=\"https://plato.stanford.edu/entries/probability-interpret/#LogPro\">3.2 Logical/Evidential Probability</a></li>\n",
    " \n",
    " <li><a href=\"https://plato.stanford.edu/entries/probability-interpret/#SubPro\">3.3 Subjective Probability</a></li>\n",
    " \n",
    " <li><a href=\"https://plato.stanford.edu/entries/probability-interpret/#FreInt\">3.4 Frequency Interpretations</a></li>\n",
    " \n",
    " <li><a href=\"https://plato.stanford.edu/entries/probability-interpret/#ProInt\">3.5 Propensity Interpretations</a></li>\n",
    " \n",
    " <li><a href=\"https://plato.stanford.edu/entries/probability-interpret/#BesSysInt\">3.6 Best-System Interpretations</a></li>\n",
    " </ul></li>\n",
    "\n",
    " <li><a href=\"https://plato.stanford.edu/entries/probability-interpret/#ConFutPro\">4. Conclusion: Future Prospects?</a>\n",
    " \n",
    "<ul>"
   ]
  },
  {
   "cell_type": "markdown",
   "id": "d498ae71",
   "metadata": {},
   "source": [
    "## Bayes theorem\n",
    "\n",
    "Bayes theorem gives the formula for computing conditional probabilities.  This formula applies regardless of your definition of probability, as long as it obeys Kolmogorov's axioms.\n",
    "\n",
    "[A famous example](https://www.ncbi.nlm.nih.gov/pmc/articles/PMC4818954/)"
   ]
  },
  {
   "cell_type": "markdown",
   "id": "a9c7be22",
   "metadata": {
    "slideshow": {
     "slide_type": "slide"
    }
   },
   "source": [
    "## [Frank Harrell on Bayes](https://www.fharrell.com/post/journey/)\n",
    "\n",
    "If you tossed a coin 100 times resulting in 60 heads, would you rather know the probability of getting > 59 heads out of 100 tosses if the coin happened to be fair, or the probability it is fair given exactly 60 heads? The frequentist approach is alluring because of the minimal work in carrying out a test of the null hypothesis θ=½. But the Bayesian approach provides a direct answer to the second question, and requires you to think. What is an “unfair” coin? Is it θ outside of [0.49, 0.51]? What is the world view of coins, e.g., is someone likely to provide a coin that is easily detectable as unfair because its θ=0.6? Was the coin chosen at random or handed to us?"
   ]
  },
  {
   "cell_type": "markdown",
   "id": "27b55900",
   "metadata": {
    "slideshow": {
     "slide_type": "slide"
    }
   },
   "source": [
    "and for the [correlation coefficient](https://baezortega.github.io/2018/05/28/robust-correlation/) the statements would be something like:\n",
    "\n",
    "**Bayes**: According to the model, the correlation coefficient is between -0.83 and -0.98 with 99% probability\n",
    "\n",
    "**Frequentist**: According to the test, we are 95% confident that the correlation coefficient has a value somewhere between -0.51 and -0.99; we don’t really know if this interval contains the value, but if we could repeat this analysis on infinite different samples, we would be wrong just 5% of the time!"
   ]
  },
  {
   "cell_type": "markdown",
   "id": "7d42f5dc",
   "metadata": {
    "slideshow": {
     "slide_type": "slide"
    }
   },
   "source": [
    "## What about probability of precipitation?\n",
    "\n",
    "* [UK Met. Office forecaster guidance (pdf p. 141)](https://www.weather.gov/media/zhu/ZHU_Training_Page/Met_Tutorials/Forecasters_Reference_Book_1997.pdf)\n",
    "\n",
    "**11.1.1 Interpretation of probabilities**\n",
    "\n",
    "Probabilities can be interpreted in two ways:\n",
    "\n",
    "(i) Relative frequency interpretation.\n",
    "\n",
    "(ii) Subjective interpretation."
   ]
  },
  {
   "cell_type": "markdown",
   "id": "d37426d8",
   "metadata": {
    "slideshow": {
     "slide_type": "subslide"
    }
   },
   "source": [
    "UK Met. Office continued:\n",
    "\n",
    "Thus consider a 'probability of precipitation (PoP) forecast of 30%':\n",
    "\n",
    "(i) Relative interpretation: the present meteorological situation, observed on a large number\n",
    "    of occasions, would give rise to precipitation on 30% of the time.\n",
    "\n",
    "(ii) Subjective interpretation: the forecaster's judgment is that the odds against\n",
    "     precipitation are 7 to 3 (odds against no precipitation being 3 to 7). Generally, if p is the\n",
    "     probability, the odds against the event are: (1/p - 1) to 1.  (Ed. note -- see [hartleys and decibans](https://en.wikipedia.org/wiki/Hartley_(unit) ) )\n",
    "     \n",
    "(iii) The subjective interpretation gives a practical way of thinking about probabilities.\n",
    "\n",
    "**So what's a graduate student to do?**"
   ]
  },
  {
   "cell_type": "markdown",
   "id": "14fc603b",
   "metadata": {
    "slideshow": {
     "slide_type": "slide"
    }
   },
   "source": [
    "## Case study: linear regression two ways\n",
    "\n",
    "### Frequentist first, following [Hogg et al., 2010](https://arxiv.org/abs/1008.4686)\n",
    "\n",
    "\"It is a miracle with which we hope everyone reading this is familiar that if you have a set of two-dimensional points (x, y) that depart from a perfect, narrow, straight line y = m x + b only by the addition of Gaussian distributed noise of known amplitudes in the y direction only, then the maximum-likelihood or best-fit line for the points has a slope m and intercept b that can be obtained justifiably by a perfectly linear matrix-algebra operation known as “weighted linear least-square fitting”. This miracle deserves contemplation.\""
   ]
  },
  {
   "cell_type": "markdown",
   "id": "c7b71e27",
   "metadata": {
    "slideshow": {
     "slide_type": "slide"
    }
   },
   "source": [
    "## The math, following: [Fleshman, 2019](https://towardsdatascience.com/linear-regression-91eeae7d6a2e)\n",
    "\n",
    "\n",
    "The generating process:\n",
    "\n",
    "$$\n",
    "y = \\theta_1 x + \\theta_0 + \\epsilon\n",
    "$$\n",
    "where $\\epsilon$ is normally distributed with mean $\\mu=0$ and standard deviation $\\sigma$.\n",
    "\n",
    "This means that the conditional (frequentist) probability that we make an observation $y$ given $x$ is to:\n",
    "\n",
    "$$\n",
    "p\\left(y | x ; \\theta_{0}, \\theta_{1}, \\sigma^{2}\\right)=\\frac{1}{\\sqrt{2 \\pi \\sigma^{2}}} e^{\\frac{-\\left(y-(\\theta_{1} x + \\theta_{0})\\right)^{2}}{2 \\sigma^{2}}}\n",
    "$$\n",
    "\n",
    "Since the data points are assumed to be independent, their probabilities multiply, and we define the **likelihood** of observing the data given the parameters $(\\theta_0,\\theta_1,\\sigma)$ as:\n",
    "$$\n",
    "L_{X}\\left(\\theta_{0}, \\theta_{1}, \\sigma^{2}\\right)=\\frac{1}{\\sqrt{2 \\pi \\sigma^{2}}} \\prod_{(x, y) \\in X} e^{\\frac{-\\left(y-(\\theta_{1} x +\\theta_{0})\\right)^{2}}{2 \\sigma^{2}}}\n",
    "$$"
   ]
  },
  {
   "cell_type": "markdown",
   "id": "b26c07b2",
   "metadata": {
    "slideshow": {
     "slide_type": "slide"
    }
   },
   "source": [
    "## Maximum likelihood\n",
    "\n",
    "Solve this for the set of parameters that give the **maximum likelihood** by taking the $\\log$ and finding the maximum by setting the derivative = 0 and solving for $(\\theta_0, \\theta_1)$.  This gives you the usual relationship for the slope and intercept in terms of the data statistics ($\\overline{x}$,$\\overline{y}$).  Note that we don't need to know $\\sigma$, because we're assuming it's constant.\n",
    "\n",
    "$$\n",
    "l_{X}\\left(\\theta_{0}, \\theta_{1}, \\sigma^{2}\\right)=\\log \\left[\\frac{1}{\\sqrt{2 \\pi \\sigma^{2}}} \\prod_{(x, y) \\in X} e^{\\frac{-\\left(y-\\left(\\theta_{1} x+\\theta_{0}\\right)\\right)^{2}}{2 \\sigma^{2}}}\\right]\n",
    "$$\n",
    "\n",
    "$$\n",
    "=-\\log (\\sqrt{2 \\pi \\sigma^{2}})-\\frac{1}{2 \\sigma^{2}} \\sum_{(x, y) \\in X}\\left[y-\\left(\\theta_{1} x+\\theta_{0}\\right)\\right]^{2}\n",
    "$$\n",
    "$$\n",
    "\\hat{y}=\\theta_{1} x+\\theta_{0}\n",
    "$$\n",
    "\n",
    "$$\n",
    "\\theta_{0}=\\overline{y}-\\theta_{1} \\overline{x}\n",
    "$$\n",
    "$$\n",
    "\\theta_{1}=\\frac{\\sum_{i}^{n}\\left(x_{i}-\\overline{x}\\right)\\left(y_{i}-\\overline{y}\\right)}{\\sum_{i}^{n}\\left(x_{i}-\\overline{x}\\right)^{2}}\n",
    "$$"
   ]
  },
  {
   "cell_type": "markdown",
   "id": "f5fe27d0",
   "metadata": {
    "slideshow": {
     "slide_type": "slide"
    }
   },
   "source": [
    "## Code this up\n",
    "\n",
    "A couple of lines of python"
   ]
  },
  {
   "cell_type": "code",
   "execution_count": null,
   "id": "45039f15",
   "metadata": {
    "slideshow": {
     "slide_type": "subslide"
    }
   },
   "outputs": [],
   "source": [
    "import numpy as np\n",
    "from matplotlib import pyplot as plt\n",
    "import pandas as pd\n",
    "\n",
    "def find_line(xs, ys):\n",
    "    \"\"\"Calculates the slope and intercept\"\"\"\n",
    "    \n",
    "    # number of points\n",
    "    n = len(xs)\n",
    "    # calculate means\n",
    "    x_bar = sum(xs)/n\n",
    "    y_bar = sum(ys)/n\n",
    "        \n",
    "    # calculate slope\n",
    "    num = 0\n",
    "    denom = 0\n",
    "    for i in range(n):\n",
    "        num += (xs[i]-x_bar)*(ys[i]-y_bar)\n",
    "        denom += (xs[i]-x_bar)**2\n",
    "    slope = num/denom\n",
    "    \n",
    "    # calculate intercept\n",
    "    intercept = y_bar - slope*x_bar\n",
    "    \n",
    "    return slope, intercept"
   ]
  },
  {
   "cell_type": "markdown",
   "id": "1b74e1ec",
   "metadata": {
    "slideshow": {
     "slide_type": "slide"
    }
   },
   "source": [
    "## Use it to find $\\theta_0, \\theta_1$\n",
    "\n",
    "### First create 200 simulated measurements using the model"
   ]
  },
  {
   "cell_type": "code",
   "execution_count": null,
   "id": "06001032",
   "metadata": {
    "slideshow": {
     "slide_type": "subslide"
    }
   },
   "outputs": [],
   "source": [
    "size = 200\n",
    "true_intercept = 1\n",
    "true_slope = 2\n",
    "true_sigma = 0.5\n",
    "\n",
    "x = np.linspace(0, 1, size)\n",
    "# y = a + b*x\n",
    "true_regression_line = true_intercept + true_slope * x\n",
    "# add noise\n",
    "y = true_regression_line + np.random.normal(scale=true_sigma, size=size)\n",
    "\n",
    "data = dict(x=x, y=y);"
   ]
  },
  {
   "cell_type": "markdown",
   "id": "15beb92d",
   "metadata": {
    "slideshow": {
     "slide_type": "slide"
    }
   },
   "source": [
    "## Plot the data with the true regression line"
   ]
  },
  {
   "cell_type": "code",
   "execution_count": null,
   "id": "8f6851a4",
   "metadata": {
    "slideshow": {
     "slide_type": "subslide"
    }
   },
   "outputs": [],
   "source": [
    "fig = plt.figure(figsize=(7, 7))\n",
    "ax = fig.add_subplot(111, xlabel='x', ylabel='y', title='Generated data and underlying model')\n",
    "ax.plot(x, y, 'x', label='sampled data')\n",
    "ax.plot(x, true_regression_line, label='true regression line', lw=2.)\n",
    "plt.legend(loc=0);"
   ]
  },
  {
   "cell_type": "markdown",
   "id": "c17b9fa7",
   "metadata": {
    "slideshow": {
     "slide_type": "slide"
    }
   },
   "source": [
    "## Compare the true and estimated (green) regression lines"
   ]
  },
  {
   "cell_type": "code",
   "execution_count": null,
   "id": "67f6383d",
   "metadata": {
    "slideshow": {
     "slide_type": "subslide"
    }
   },
   "outputs": [],
   "source": [
    "slope, intercept = find_line(x,y)\n",
    "fit_y = intercept + slope * x\n",
    "ax.plot(x, fit_y)\n",
    "display(fig)"
   ]
  },
  {
   "cell_type": "markdown",
   "id": "f927df05",
   "metadata": {
    "slideshow": {
     "slide_type": "slide"
    }
   },
   "source": [
    "## Use bootstrap resampling to estimate confidence intervals"
   ]
  },
  {
   "cell_type": "code",
   "execution_count": null,
   "id": "200ff49c",
   "metadata": {
    "slideshow": {
     "slide_type": "subslide"
    }
   },
   "outputs": [],
   "source": [
    "def draw_bs_pairs_linreg(x, y, size=1):\n",
    "    \"\"\"Perform pairs bootstrap for linear regression.\"\"\"\n",
    "\n",
    "    # Set up array of indices to sample from: inds\n",
    "    inds = np.arange(len(x))\n",
    "\n",
    "    # Initialize replicates: bs_slope_reps, bs_intercept_reps\n",
    "    bs_slope_reps = np.empty(size)\n",
    "    bs_intercept_reps = np.empty(size)\n",
    "\n",
    "    # Generate replicates\n",
    "    for i in range(size):\n",
    "        bs_inds = np.random.choice(inds, size=len(inds))\n",
    "        bs_x, bs_y = x[bs_inds], y[bs_inds]\n",
    "        #\n",
    "        # use np.polyfit for order 1 linear model\n",
    "        #\n",
    "        bs_slope_reps[i], bs_intercept_reps[i] = np.polyfit(bs_x, bs_y, 1)\n",
    "\n",
    "    return bs_slope_reps, bs_intercept_reps"
   ]
  },
  {
   "cell_type": "markdown",
   "id": "5bb647a4",
   "metadata": {
    "slideshow": {
     "slide_type": "slide"
    }
   },
   "source": [
    "## Plot 100 different regression lines"
   ]
  },
  {
   "cell_type": "code",
   "execution_count": null,
   "id": "892bfea9",
   "metadata": {
    "slideshow": {
     "slide_type": "subslide"
    }
   },
   "outputs": [],
   "source": [
    "slopes, intercepts = draw_bs_pairs_linreg(x, y, size=100)\n",
    "for the_slope,the_intercept in zip(slopes,intercepts):\n",
    "    fit_y = the_intercept + the_slope * x\n",
    "    ax.plot(x, fit_y)\n",
    "display(fig)"
   ]
  },
  {
   "cell_type": "markdown",
   "id": "aa70ccb0",
   "metadata": {
    "slideshow": {
     "slide_type": "slide"
    }
   },
   "source": [
    "## Histogram resampled $\\theta_0$ and $\\theta_1$"
   ]
  },
  {
   "cell_type": "code",
   "execution_count": null,
   "id": "301d1fe9",
   "metadata": {
    "slideshow": {
     "slide_type": "subslide"
    }
   },
   "outputs": [],
   "source": [
    "fig, ax = plt.subplots(1,2,figsize=(12,6))\n",
    "ax[0].hist(slopes); ax[0].set_title(\"slopes\");\n",
    "ax[1].hist(intercepts);ax[1].set_title(\"intercepts\");"
   ]
  },
  {
   "cell_type": "markdown",
   "id": "c2bcf2f9",
   "metadata": {
    "slideshow": {
     "slide_type": "slide"
    }
   },
   "source": [
    "## What's wrong with this workflow?\n",
    "\n",
    "1. No way to introduce uncertainty in x\n",
    "\n",
    "1. Unrealistically simple uncertainty in y (constant $\\sigma$)\n",
    "\n",
    "1. Can't make statements as frequentists about uncertainty in $\\theta_0, \\theta_1$\n",
    "\n",
    "1. Can't deal with outliers (robust regression)"
   ]
  },
  {
   "cell_type": "markdown",
   "id": "b579ab73",
   "metadata": {
    "slideshow": {
     "slide_type": "slide"
    }
   },
   "source": [
    "## Take 2: The Bayesian version\n",
    "\n",
    "Start with Bayes theorem, given the logical/subjective definition of probability:\n",
    "\n",
    "\\begin{align}\n",
    "\\underbrace{p(\\text{proposition} | data)}_{\\text{posterior probability}} & \\propto \n",
    "  \\underbrace{p(data | \\text{proposition} )}_{likelihood} \\times\n",
    "  \\underbrace{p(\\text{proposition})}_{\\text{prior probability}}\n",
    "\\end{align}\n",
    "\n",
    "The likelhood is exactly the same as the frequentist version:\n",
    "\n",
    "$$\n",
    "p(y | \\theta_{0}, \\theta_{1}, \\sigma^{2} ) \\propto \\left[\\frac{1}{\\sqrt{2 \\pi \\sigma^{2}}} \\prod_{(x, y) \\in X} e^{\\frac{-\\left(y-\\left(\\theta_{1} x+\\theta_{0}\\right)\\right)^{2}}{2 \\sigma^{2}}}\\right]\n",
    "$$\n",
    "\n",
    "Note that the Bayesian version makes clear that the likelihood is a function of the data for a fixed set\n",
    "of generating function parameters."
   ]
  },
  {
   "cell_type": "markdown",
   "id": "16f8e419",
   "metadata": {
    "slideshow": {
     "slide_type": "slide"
    }
   },
   "source": [
    "## What to do about $p(\\text{proposition})$ -- the prior probability\n",
    "\n",
    "1.  Take $p(\\theta_1)$ and $p(\\theta_0)$ as normally distributed with mean=0 and $\\sigma = 20$\n",
    "\n",
    "1.  Take $p(\\sigma)$ as [Halfcauchy](https://docs.pymc.io/api/distributions/continuous.html#pymc3.distributions.continuous.HalfCauchy) with $\\beta=10$\n",
    "\n",
    "1.  Again, assume independence, so prior is $p(\\theta_1) \\times p(\\theta_0) \\times p(\\sigma)$\n",
    "\n",
    "Essentially, we want to \"let the data speak\" so these are quite flat distributions that don't put any real preconditions on acceptable values for $\\theta_0, \\theta_1, \\sigma$."
   ]
  },
  {
   "cell_type": "markdown",
   "id": "13fa5cc1",
   "metadata": {
    "slideshow": {
     "slide_type": "subslide"
    }
   },
   "source": [
    "So Bayes rule says:\n",
    "\n",
    "$$\n",
    "p( \\theta_{0}, \\theta_{1}, \\sigma^{2} | y ) \\propto \\left[\\frac{1}{\\sqrt{2 \\pi \\sigma^{2}}} \\prod_{(x, y) \\in X} e^{\\frac{-\\left(y-\\left(\\theta_{1} x+\\theta_{0}\\right)\\right)^{2}}{2 \\sigma^{2}}}\\right] \\times p(\\theta_1) \\times p(\\theta_0) \\times p(\\sigma)\n",
    "$$\n",
    "\n",
    "and we can get, for example the pdf of $\\sigma^2$ by marginalization:\n",
    "\n",
    "$$\n",
    "p(\\sigma^{2}) \\propto \\int \\int p( \\theta_{0}, \\theta_{1}, \\sigma^{2} | y )\\, d \\theta_0 \\, d \\theta_1\n",
    "$$"
   ]
  },
  {
   "cell_type": "markdown",
   "id": "23734408",
   "metadata": {
    "slideshow": {
     "slide_type": "subslide"
    }
   },
   "source": [
    "## How to solve this integral?\n",
    "\n",
    "[Hamiltonian Markov Chain Montecarlo](https://arxiv.org/pdf/1206.1901.pdf)\n",
    "\n",
    "A (very) fancy version of naive Monte Carlo integration:\n",
    "\n",
    "<img src=\"images/naive_mc_integration.png\" width=\"80%\">"
   ]
  },
  {
   "cell_type": "markdown",
   "id": "abd54f10",
   "metadata": {
    "slideshow": {
     "slide_type": "slide"
    }
   },
   "source": [
    "## Code this using pymc3"
   ]
  },
  {
   "cell_type": "code",
   "execution_count": null,
   "id": "38f23277",
   "metadata": {
    "slideshow": {
     "slide_type": "slide"
    }
   },
   "outputs": [],
   "source": [
    "import pymc3 as pm\n",
    "with pm.Model() as model: # model specifications in PyMC3 are wrapped in a with-statement\n",
    "    # Define priors\n",
    "    sigma = pm.HalfCauchy('sigma', beta=10, testval=1.)\n",
    "    intercept = pm.Normal('Intercept', 0, sigma=20)\n",
    "    slope = pm.Normal('slope', 0, sigma=20)\n",
    "    \n",
    "    # Define likelihood\n",
    "    likelihood = pm.Normal('y', mu=intercept + slope * x, \n",
    "                        sigma=sigma, observed=y)\n",
    "    \n",
    "    # Inference!\n",
    "    trace = pm.sample(3000, cores=8, tune=2000) # draw 3000 posterior samples using NUTS sampling"
   ]
  },
  {
   "cell_type": "code",
   "execution_count": null,
   "id": "5c525ada",
   "metadata": {
    "slideshow": {
     "slide_type": "slide"
    }
   },
   "outputs": [],
   "source": [
    "axes=pm.plot_trace(trace[100:],figsize=(12, 7));"
   ]
  },
  {
   "cell_type": "code",
   "execution_count": null,
   "id": "ee562900",
   "metadata": {
    "slideshow": {
     "slide_type": "slide"
    }
   },
   "outputs": [],
   "source": [
    "plt.figure(figsize=(7, 7))\n",
    "plt.plot(x, y, 'rx', label='data')\n",
    "generating_fun = lambda x, sample: sample['Intercept'] + sample['slope'] * x\n",
    "pm.plot_posterior_predictive_glm(trace, lm=generating_fun, samples=100, \n",
    "                              label='posterior predictive regression lines')\n",
    "plt.plot(x, true_regression_line, label='true regression line', lw=3., c='y')\n",
    "\n",
    "plt.title('Posterior predictive regression lines')\n",
    "plt.legend(loc=0)\n",
    "plt.xlabel('x')\n",
    "plt.ylabel('y');"
   ]
  },
  {
   "cell_type": "markdown",
   "id": "5e60b567",
   "metadata": {
    "slideshow": {
     "slide_type": "slide"
    }
   },
   "source": [
    "## Well, that seemed complicated -- but worth it?\n",
    "\n",
    "Advantages:\n",
    "\n",
    "1. Estimate of $\\sigma$\n",
    "\n",
    "1. Distributions instead of single numbers for $\\theta_0$ and $\\theta_1$\n",
    "\n",
    "1. Actual (Bayesian) uncertainty estimates for all three parameters\n",
    "\n",
    "1. We can check the model against new data (\"posterior predictive checks\")\n",
    "\n",
    "1. Flexible approach generalizes to any generating function we can write in \n",
    "   terms of distributions.\n",
    "   \n",
    "   1. Example:  [Robust regression](https://docs.pymc.io/notebooks/GLM-robust.html)\n",
    "\n",
    "   1. Example: [Robust correlation](https://baezortega.github.io/2018/05/28/robust-correlation/)\n",
    "   \n",
    "   1. Example: [the pymc3 gallery](https://docs.pymc.io/nb_examples/index.html)"
   ]
  },
  {
   "cell_type": "markdown",
   "id": "3acec099",
   "metadata": {
    "slideshow": {
     "slide_type": "slide"
    }
   },
   "source": [
    "## Bottom line\n",
    "\n",
    "* Frequentists -- data-oriented, controlled clinical trials with preregistration, lab scientists\n",
    "  - all about the sample space\n",
    "  \n",
    "* Bayesians -- more model oriented, often interested in parameter estimation, understanding the \n",
    "  data generating process (i.e., our tribe for many in EOAS)\n",
    "  \n",
    "* All of this is distinct from null hypothesis testing/p-values/Bayes factors, which\n",
    "  when used naively have created replication issues in some research communities.\n",
    "  Pithy summary from Gelman: [The difference between significant and insignificant is not statistcially significant](http://www.stat.columbia.edu/~gelman/research/published/signif4.pdf)\n",
    "\n",
    "* In 1983 I needed [Hierarchical Bayesian Regression](https://docs.pymc.io/notebooks/GLM-hierarchical.html), I was too early by about a decade.\n",
    "\n",
    "* Bayesian updating via Bayes rule, and the logical/subjective interpretation of probability is closely connected to machine learning"
   ]
  },
  {
   "cell_type": "markdown",
   "id": "6eee0644",
   "metadata": {
    "slideshow": {
     "slide_type": "slide"
    }
   },
   "source": [
    "## Coda:  An example of the debate on Bayesian model comparison\n",
    "\n",
    "* [To Bayes or not to Bayes](https://www.dropbox.com/s/3vw85dkr506yxag/to_bayes_or_not.pdf?dl=0) -- Scales and Sneider (1997)\n",
    "\n",
    "* [Gelman and Shalizi's answer to those issues](http://www.stat.columbia.edu/~gelman/research/published/philosophy.pdf) -- posterior predictive checking"
   ]
  },
  {
   "cell_type": "markdown",
   "id": "16fb2c2b",
   "metadata": {
    "slideshow": {
     "slide_type": "slide"
    }
   },
   "source": [
    "## Further reading -- all books available online through the UBC library\n",
    "\n",
    "* [Statistical rethinking](https://www.oreilly.com/library/view/statistical-rethinking/9781482253481/?ar)\n",
    " \n",
    "  - Great read by the Richard McElreath, director of the Max Planck Institute for Evolutionary Anthropology -- well written and very accessible -- nice treatment on the connection between statistics and information theory\n",
    "  \n",
    "  - [SR and other python source code for stats texts](https://github.com/pymc-devs/resources)\n",
    "\n",
    "* [Statistics, data mining and machine learning in astronomy](https://www.degruyter.com/viewbooktoc/product/459330)\n",
    "\n",
    "  - Lots of pertinent examples from 4 astronomers -- closely related to our typical research problems\n",
    "  \n",
    "  - [SDMLA github repository](https://github.com/astroML/astroML)\n",
    "  \n",
    "  - Related article by one of the co-authors:\n",
    "  \n",
    "    - [Frequentism and Bayesianism: A python-driven primer, Jake Vanderplas 2014](https://arxiv.org/pdf/1411.5018.pdf)\n",
    "\n",
    "* [Bayesian analysis with python](http://gw2jh3xr2c.search.serialssolutions.com/?sid=sersol&SS_jc=TC_034362911&title=Bayesian%20Analysis%20with%20Python%20-%20Second%20Edition)\n",
    "\n",
    "  - Best intro to pymc3\n",
    "\n",
    "  - [BAP source code](https://github.com/aloctavodia/BAP)\n",
    "\n",
    "* [Hogg et al. Fitting a model to data](https://arxiv.org/abs/1008.4686)  -- motivation for the regression example in this talk -- read the footnotes\n",
    "\n",
    "* [Hogg et al. on conditional probability](https://arxiv.org/pdf/1205.4446v1.pdf) -- pdfs have units!\n",
    "\n",
    "* [Gelman's blog](https://statmodeling.stat.columbia.edu/)  -- [a representative post](https://statmodeling.stat.columbia.edu/2015/01/27/perhaps-merely-accident-history-skeptics-subjectivists-alike-strain-gnat-prior-distribution-swallowing-camel-likelihood/\n",
    ")\n",
    "\n",
    "* [David Hogg's blog](http://hoggresearch.blogspot.com/) -- [a representative post](http://hoggresearch.blogspot.com/2019/09/how-to-model-empirical-abundance-space.html)\n",
    "\n",
    "* Galleys of the 2nd edition of Kevin Murphy's \"Machine Learing: A probabilistic perspective\".  Good advanced undergrad grad textbook with great appendices:  [murphy_pm1.pdf](https://www.dropbox.com/s/nf3lwlohsg07u7w/murphy_pm1.pdf?dl=0).  [python code](https://github.com/probml/pyprobml)"
   ]
  },
  {
   "cell_type": "code",
   "execution_count": null,
   "id": "214e758b",
   "metadata": {},
   "outputs": [],
   "source": []
  }
 ],
 "metadata": {
  "jupytext": {
   "cell_metadata_filter": "all",
   "encoding": "# -*- coding: utf-8 -*-",
   "formats": "ipynb,py:percent,md:myst",
   "notebook_metadata_filter": "all,-language_info,-toc,-latex_envs",
   "text_representation": {
    "extension": ".md",
    "format_name": "myst",
    "format_version": 0.13,
    "jupytext_version": "1.11.0"
   }
  },
  "kernelspec": {
   "display_name": "Python 3",
   "language": "python",
   "name": "python3"
  },
  "source_map": [
   18,
   24,
   34,
   44,
   67,
   75,
   82,
   90,
   105,
   122,
   130,
   153,
   177,
   183,
   215,
   221,
   240,
   244,
   256,
   260,
   271,
   275,
   302,
   306,
   318,
   322,
   332,
   344,
   365,
   377,
   391,
   401,
   405,
   425,
   433,
   451,
   474,
   492,
   500,
   537
  ]
 },
 "nbformat": 4,
 "nbformat_minor": 5
}