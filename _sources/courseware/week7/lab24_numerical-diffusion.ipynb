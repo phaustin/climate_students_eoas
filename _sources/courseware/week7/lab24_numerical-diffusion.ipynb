{
 "cells": [
  {
   "cell_type": "markdown",
   "id": "6c53cd9d",
   "metadata": {
    "slideshow": {
     "slide_type": "slide"
    }
   },
   "source": [
    "(nb:nummeth)=\n",
    "# A peek at numerical methods for diffusion models\n",
    "\n",
    "This notebook is part of [The Climate Laboratory](https://brian-rose.github.io/ClimateLaboratoryBook) by [Brian E. J. Rose](http://www.atmos.albany.edu/facstaff/brose/index.html), University at Albany."
   ]
  },
  {
   "cell_type": "markdown",
   "id": "51f504ab",
   "metadata": {
    "slideshow": {
     "slide_type": "slide"
    }
   },
   "source": [
    "____________\n",
    "<a id='section1'></a>\n",
    "\n",
    "## 1. The one-dimensional diffusion equation\n",
    "____________"
   ]
  },
  {
   "cell_type": "markdown",
   "id": "8a9b4e77",
   "metadata": {
    "slideshow": {
     "slide_type": "slide"
    }
   },
   "source": [
    "Suppose that a quantity $u(x)$ is mixed down-gradient by a diffusive process.\n",
    "\n",
    "The diffusive flux is\n",
    "\n",
    "$$ F = - K \\frac{\\partial u}{\\partial x} $$\n",
    "\n",
    "There will be local changes in $u$ wherever this flux is convergent or divergent:\n",
    "\n",
    "$$ \\frac{\\partial u}{\\partial t} = - \\frac{\\partial F}{\\partial x} $$"
   ]
  },
  {
   "cell_type": "markdown",
   "id": "a2a9a236",
   "metadata": {
    "slideshow": {
     "slide_type": "slide"
    }
   },
   "source": [
    "Putting this together gives the classical diffusion equation in one dimension\n",
    "\n",
    "$$ \\frac{\\partial u}{\\partial t} = \\frac{\\partial}{\\partial x} \\left( K \\frac{\\partial u}{\\partial x} \\right) $$\n",
    "\n",
    "For simplicity, we are going to limit ourselves to Cartesian geometry rather than meridional diffusion on a sphere."
   ]
  },
  {
   "cell_type": "markdown",
   "id": "58d46088",
   "metadata": {
    "slideshow": {
     "slide_type": "slide"
    }
   },
   "source": [
    "We will also assume here that $K$ is a constant, so our governing equation is\n",
    "\n",
    "$$ \\frac{\\partial u}{\\partial t} = K \\frac{\\partial^2 u}{\\partial x^2} $$"
   ]
  },
  {
   "cell_type": "markdown",
   "id": "ece78746",
   "metadata": {
    "slideshow": {
     "slide_type": "fragment"
    }
   },
   "source": [
    "This equation represents a time-dependent diffusion process. It is an **initial-boundary value problem**. We want to integrate the model forward in time to model the changes in the field $u(x)$."
   ]
  },
  {
   "cell_type": "markdown",
   "id": "feef23e7",
   "metadata": {
    "slideshow": {
     "slide_type": "slide"
    }
   },
   "source": [
    "____________\n",
    "<a id='section2'></a>\n",
    "\n",
    "## 2. Discretizing the diffusion operator in space\n",
    "____________"
   ]
  },
  {
   "cell_type": "markdown",
   "id": "7bdf924a",
   "metadata": {
    "slideshow": {
     "slide_type": "slide"
    }
   },
   "source": [
    "Solving a differential equation on a computer always requires some approximation to represent the continuous function $u(x,t)$ and its derivatives in terms of discrete quantities (arrays of numbers).\n",
    "\n",
    "We have already dealt with simple discretization of the time derivative back in [Lecture 2](./Lecture02 -- Solving the zero-dimensional EBM.ipynb). We used the **forward Euler** method to step all our of radiation models forward in time so far."
   ]
  },
  {
   "cell_type": "markdown",
   "id": "dd21b1c9",
   "metadata": {
    "slideshow": {
     "slide_type": "slide"
    }
   },
   "source": [
    "### Some notation for discretization of $u(x,t)$\n",
    "\n",
    "We will discretize time and space on grids\n",
    "\n",
    "$$ x_j , ~~~ t^n $$\n",
    "\n",
    "so that \n",
    "\n",
    "$$ u_j^n = u(x_j, ~t^n) $$"
   ]
  },
  {
   "cell_type": "markdown",
   "id": "73a2abcb",
   "metadata": {
    "slideshow": {
     "slide_type": "slide"
    }
   },
   "source": [
    "### Discretizing the diffusive flux\n",
    "\n",
    "The governing equation can be written in terms of the convergence of the diffusive flux:\n",
    "\n",
    "$$ \\frac{\\partial u}{\\partial t} = - \\frac{\\partial F}{\\partial x} $$"
   ]
  },
  {
   "cell_type": "markdown",
   "id": "7a64270b",
   "metadata": {
    "slideshow": {
     "slide_type": "slide"
    }
   },
   "source": [
    "It is sensible to use a **centered difference** to approximate this derivative:\n",
    "\n",
    "$$ \\frac{\\partial F}{\\partial x} \\bigg|_j \\approx  \\frac{F_{j+\\frac{1}{2}} - F_{j-\\frac{1}{2}}}{x_{j+\\frac{1}{2}} - x_{j-\\frac{1}{2}}} $$"
   ]
  },
  {
   "cell_type": "markdown",
   "id": "7175aff3",
   "metadata": {
    "slideshow": {
     "slide_type": "slide"
    }
   },
   "source": [
    "The time tendency at point $x_j$ can thus be written\n",
    "\n",
    "$$ \\frac{\\partial u}{\\partial t} \\bigg|_j  \\approx - \\frac{F_{j+\\frac{1}{2}} - F_{j-\\frac{1}{2}}}{x_{j+\\frac{1}{2}} - x_{j-\\frac{1}{2}}} $$"
   ]
  },
  {
   "cell_type": "markdown",
   "id": "c581327c",
   "metadata": {
    "slideshow": {
     "slide_type": "slide"
    }
   },
   "source": [
    "The flux itself depends on a spatial derivative of $u$. We will apply the same centered difference approximation. At point $x_j$ this would look like\n",
    "\n",
    "$$ \\frac{\\partial u}{\\partial x} \\approx \\frac{u_{j+\\frac{1}{2}} - u_{j-\\frac{1}{2}}}{x_{j+\\frac{1}{2}} - x_{j-\\frac{1}{2}}} $$"
   ]
  },
  {
   "cell_type": "markdown",
   "id": "3d2b46f6",
   "metadata": {
    "slideshow": {
     "slide_type": "slide"
    }
   },
   "source": [
    "But we actually want to approximate $F_{j+\\frac{1}{2}}$ and $F_{j-\\frac{1}{2}}$, so we apply the centered difference formula at these intermediate points to get\n",
    "\n",
    "$$ F_{j+\\frac{1}{2}} \\approx -K \\frac{u_{j+1} - u_{j}}{x_{j+1} - x_{j}} $$\n",
    "\n",
    "and\n",
    "\n",
    "$$ F_{j-\\frac{1}{2}} \\approx -K \\frac{u_{j} - u_{j-1}}{x_{j} - x_{j-1}} $$"
   ]
  },
  {
   "cell_type": "markdown",
   "id": "912fbe0c",
   "metadata": {
    "slideshow": {
     "slide_type": "slide"
    }
   },
   "source": [
    "Putting this all together, we can write the time tendency at $x_j$ as\n",
    "\n",
    "$$ \\frac{\\partial u}{\\partial t} \\bigg|_j  \\approx K \\frac{ \\frac{u_{j+1} - u_{j}}{x_{j+1} - x_{j}} - \\frac{u_{j} - u_{j-1}}{x_{j} - x_{j-1}}}{x_{j+\\frac{1}{2}} - x_{j-\\frac{1}{2}}} $$"
   ]
  },
  {
   "cell_type": "markdown",
   "id": "7691f6fa",
   "metadata": {
    "slideshow": {
     "slide_type": "slide"
    }
   },
   "source": [
    "We'll make things easy on ourselves by using uniform grid spacing in $x$, so\n",
    "\n",
    "$$ x_{j+1} - x_{j} = x_{j} - x_{j-1} = x_{j+\\frac{1}{2}} - x_{j-\\frac{1}{2}} = \\Delta x $$"
   ]
  },
  {
   "cell_type": "markdown",
   "id": "5be4913a",
   "metadata": {
    "slideshow": {
     "slide_type": "slide"
    }
   },
   "source": [
    "So our final formula for the diffusive flux convergence is\n",
    "\n",
    "$$ \\frac{\\partial u}{\\partial t} \\bigg|_j  \\approx K \\frac{ u_{j+1} - 2 u_{j} + u_{j-1}}{\\Delta x^2} $$"
   ]
  },
  {
   "cell_type": "markdown",
   "id": "49ecca58",
   "metadata": {
    "slideshow": {
     "slide_type": "slide"
    }
   },
   "source": [
    "### No-flux boundary conditions"
   ]
  },
  {
   "cell_type": "markdown",
   "id": "9e1b7cd1",
   "metadata": {
    "slideshow": {
     "slide_type": "slide"
    }
   },
   "source": [
    "Suppose the domain is $0 \\le x \\le 1$, with solid walls at $x=0, 1$.\n",
    "\n",
    "The physical boundary condition at the walls is that there can be no flux in or out of the walls:\n",
    "\n",
    "$$ F(0) = F(1) = 0 $$\n",
    "\n",
    "So the boundary conditions on $u$ are\n",
    "\n",
    "$$ \\frac{\\partial u}{\\partial x} = 0 ~~~ \\text{at} ~~~ x=0,1 $$"
   ]
  },
  {
   "cell_type": "markdown",
   "id": "da02d0a0",
   "metadata": {
    "slideshow": {
     "slide_type": "slide"
    }
   },
   "source": [
    "### The staggered grid\n",
    "\n",
    "Suppose we have a grid of $J+1$ total points between $x=0$ and $x=1$, **including the boundaries**:\n",
    "\n",
    "- $x^*_0 = 0 $\n",
    "- $x^*_1 = \\Delta x$\n",
    "- $x^*_2 = 2~\\Delta x$\n",
    "- ...\n",
    "- $x^*_j = j~\\Delta x$\n",
    "- ...\n",
    "- $x^*_{J-1} = (J-1)~\\Delta x = 1 - \\Delta x $\n",
    "- $x^*_J = J ~ \\Delta x = 1 $\n",
    "\n",
    "Clearly then the grid spacing must be $\\Delta x = 1/J$."
   ]
  },
  {
   "cell_type": "markdown",
   "id": "ae4f2cf8",
   "metadata": {
    "slideshow": {
     "slide_type": "slide"
    }
   },
   "source": [
    "We'll define the fluxes on this grid. The boundary conditions can thus be written\n",
    "\n",
    "$$ F_0 = F_J = 0 $$"
   ]
  },
  {
   "cell_type": "markdown",
   "id": "1e5dddc2",
   "metadata": {
    "slideshow": {
     "slide_type": "slide"
    }
   },
   "source": [
    "Since our centered difference discretization defines $F$ at points halfway between the $u$ points, it is sensible to locate $u$ on another grid that is offset by $\\Delta x / 2$.\n",
    "\n",
    "The first grid point for $u$ is thus a distance $\\Delta x / 2$ from the wall, and there are a total of $J$ points:\n",
    "\n",
    "- $x_0 = \\Delta x / 2$\n",
    "- $x_1 = \\Delta x / 2 + \\Delta x$\n",
    "- $x_2 = \\Delta x / 2 + 2~\\Delta x$\n",
    "- ...\n",
    "- $x_j = \\Delta x / 2 + j~\\Delta x$\n",
    "- ...\n",
    "- $x_{J-1} = \\Delta x / 2 + (J-1)~\\Delta x = 1 - \\Delta x / 2 $"
   ]
  },
  {
   "cell_type": "markdown",
   "id": "c28576de",
   "metadata": {
    "slideshow": {
     "slide_type": "slide"
    }
   },
   "source": [
    "### Implementing the boundary condition on the staggered grid\n",
    "\n",
    "At $x_0$ we have\n",
    "\n",
    "$$ \\frac{\\partial u}{\\partial t} \\bigg|_0  \\approx -\\frac{ F_1 - F_0}{\\Delta x} $$\n",
    "\n",
    "Subbing in $F_0 = 0$ and the normal discretization for $F_1$ gives\n",
    "\n",
    "$$ \\frac{\\partial u}{\\partial t} \\bigg|_0  \\approx K \\frac{ u_1 - u_0 }{\\Delta x^2} $$"
   ]
  },
  {
   "cell_type": "markdown",
   "id": "8d979b3a",
   "metadata": {
    "slideshow": {
     "slide_type": "slide"
    }
   },
   "source": [
    "The same procedure at the other wall yields\n",
    "\n",
    "$$ \\frac{\\partial u}{\\partial t} \\bigg|_{J-1}  \\approx - K \\frac{ u_{J-1} - u_{J-2} }{\\Delta x^2} $$"
   ]
  },
  {
   "cell_type": "markdown",
   "id": "c095d61d",
   "metadata": {
    "slideshow": {
     "slide_type": "slide"
    }
   },
   "source": [
    "Pulling this all together we have a complete discretization of the diffusion operator including its boundary conditions:\n",
    "\n",
    "$$ \\frac{\\partial u}{\\partial t} \\bigg|_0  \\approx K \\frac{ u_1 - u_0 }{\\Delta x^2} $$\n",
    "\n",
    "$$ \\frac{\\partial u}{\\partial t} \\bigg|_j  \\approx K \\frac{ u_{j+1} - 2 u_{j} + u_{j-1}}{\\Delta x^2}, ~~~~~~ j=1,...,J-2 $$\n",
    "\n",
    "$$ \\frac{\\partial u}{\\partial t} \\bigg|_{J-1}  \\approx - K \\frac{ u_{J-1} - u_{J-2} }{\\Delta x^2} $$"
   ]
  },
  {
   "cell_type": "markdown",
   "id": "5e99c6f0",
   "metadata": {
    "slideshow": {
     "slide_type": "slide"
    }
   },
   "source": [
    "____________\n",
    "<a id='section3'></a>\n",
    "\n",
    "## 3. Coding the discretized diffusion operator in `numpy`\n",
    "____________"
   ]
  },
  {
   "cell_type": "code",
   "execution_count": null,
   "id": "19a12df6",
   "metadata": {
    "slideshow": {
     "slide_type": "-"
    }
   },
   "outputs": [],
   "source": [
    "%matplotlib inline\n",
    "import numpy as np\n",
    "import matplotlib.pyplot as plt\n",
    "from IPython.display import display, Math, Latex"
   ]
  },
  {
   "cell_type": "markdown",
   "id": "6256ac8d",
   "metadata": {
    "slideshow": {
     "slide_type": "slide"
    }
   },
   "source": [
    "Here we will divide our domain up into 20 grid points."
   ]
  },
  {
   "cell_type": "code",
   "execution_count": null,
   "id": "dbcfeed5",
   "metadata": {},
   "outputs": [],
   "source": [
    "J1 = 20\n",
    "J = J1\n",
    "deltax = 1./J\n",
    "display(Math(r'J = %i' %J))\n",
    "display(Math(r'\\Delta x = %0.3f' %deltax))"
   ]
  },
  {
   "cell_type": "markdown",
   "id": "82296ba9",
   "metadata": {
    "slideshow": {
     "slide_type": "slide"
    }
   },
   "source": [
    "The fluxes will be solved on the staggered grid with 21 points.\n",
    "\n",
    "$u$ will be solved on the 20 point grid."
   ]
  },
  {
   "cell_type": "code",
   "execution_count": null,
   "id": "1fa83f01",
   "metadata": {},
   "outputs": [],
   "source": [
    "xstag = np.linspace(0., 1., J+1)\n",
    "x = xstag[:-1] + deltax/2\n",
    "print( x)"
   ]
  },
  {
   "cell_type": "code",
   "execution_count": null,
   "id": "9dbd695c",
   "metadata": {},
   "outputs": [],
   "source": [
    "u = np.zeros_like(x)"
   ]
  },
  {
   "cell_type": "markdown",
   "id": "550af8db",
   "metadata": {
    "slideshow": {
     "slide_type": "slide"
    }
   },
   "source": [
    "Here's one way to implement the finite difference, using array indexing."
   ]
  },
  {
   "cell_type": "code",
   "execution_count": null,
   "id": "d902f589",
   "metadata": {},
   "outputs": [],
   "source": [
    "dudx = (u[1:] - u[:-1]) / (x[1:] - x[:-1])"
   ]
  },
  {
   "cell_type": "code",
   "execution_count": null,
   "id": "cce9542e",
   "metadata": {},
   "outputs": [],
   "source": [
    "dudx.shape"
   ]
  },
  {
   "cell_type": "markdown",
   "id": "80679d90",
   "metadata": {
    "slideshow": {
     "slide_type": "slide"
    }
   },
   "source": [
    "We can also use the function `numpy.diff()` to accomplish the same thing:"
   ]
  },
  {
   "cell_type": "code",
   "execution_count": null,
   "id": "aa0649bb",
   "metadata": {},
   "outputs": [],
   "source": [
    "help(np.diff)"
   ]
  },
  {
   "cell_type": "code",
   "execution_count": null,
   "id": "d4556141",
   "metadata": {
    "slideshow": {
     "slide_type": "slide"
    }
   },
   "outputs": [],
   "source": [
    "np.diff(u).shape"
   ]
  },
  {
   "cell_type": "markdown",
   "id": "187c530d",
   "metadata": {
    "slideshow": {
     "slide_type": "slide"
    }
   },
   "source": [
    "Here is a function that computes the diffusive flux $F$ on the staggered grid, including the boundaries."
   ]
  },
  {
   "cell_type": "code",
   "execution_count": null,
   "id": "b6723cc1",
   "metadata": {},
   "outputs": [],
   "source": [
    "def diffusive_flux(u, deltax, K=1):\n",
    "    #  Take the finite difference\n",
    "    F = np.diff(u)/deltax\n",
    "    #  add a zero as the first element (no flux on boundary)\n",
    "    F = np.insert(F, 0, 0.)\n",
    "    #  add another zero as the last element (no flux on boundary)\n",
    "    F = np.append(F, 0.)\n",
    "    #  flux is DOWN gradient, proportional to D\n",
    "    return -K*F"
   ]
  },
  {
   "cell_type": "code",
   "execution_count": null,
   "id": "423432e0",
   "metadata": {},
   "outputs": [],
   "source": [
    "diffusive_flux(u,deltax).shape"
   ]
  },
  {
   "cell_type": "markdown",
   "id": "0a59a099",
   "metadata": {
    "slideshow": {
     "slide_type": "slide"
    }
   },
   "source": [
    "The time tendency of $u$ is just the convergence of this flux, which requires one more finite difference:"
   ]
  },
  {
   "cell_type": "code",
   "execution_count": null,
   "id": "e967ba75",
   "metadata": {},
   "outputs": [],
   "source": [
    "def diffusion(u, deltax, K=1):\n",
    "    #  compute flux\n",
    "    F = diffusive_flux(u, deltax, K)\n",
    "    #  take convergence of flux\n",
    "    return -np.diff(F) / deltax"
   ]
  },
  {
   "cell_type": "markdown",
   "id": "4ae918d9",
   "metadata": {
    "slideshow": {
     "slide_type": "slide"
    }
   },
   "source": [
    "### A smooth example\n",
    "\n",
    "Suppose we have an initial $u$ field that has a local maximum in the interior.\n",
    "\n",
    "The gaussian (bell curve) function is a convenient way to create such a field."
   ]
  },
  {
   "cell_type": "code",
   "execution_count": null,
   "id": "1c0d5b06",
   "metadata": {},
   "outputs": [],
   "source": [
    "def gaussian(x, mean, std):\n",
    "    return np.exp(-(x-mean)**2/(2*std**2))/np.sqrt(2*np.pi*std**2)"
   ]
  },
  {
   "cell_type": "code",
   "execution_count": null,
   "id": "d42fde4b",
   "metadata": {
    "slideshow": {
     "slide_type": "slide"
    }
   },
   "outputs": [],
   "source": [
    "K = 0.01\n",
    "u = gaussian(x, 0.5, 0.08)\n",
    "dudt = diffusion(u, deltax, K=K)\n",
    "fig, ax = plt.subplots(1)\n",
    "ax.plot(x, u, label='$u(x)$')\n",
    "ax.plot(x, dudt, label='$du/dt$')\n",
    "ax.legend()"
   ]
  },
  {
   "cell_type": "markdown",
   "id": "e9d35853",
   "metadata": {
    "slideshow": {
     "slide_type": "slide"
    }
   },
   "source": [
    "Hopefully this makes sense. The diffusion is acting to smooth out $u$ by reducing the peak and increasing $u$ on the flanks of the gaussian bump."
   ]
  },
  {
   "cell_type": "markdown",
   "id": "67c3fbca",
   "metadata": {
    "slideshow": {
     "slide_type": "slide"
    }
   },
   "source": [
    "### Some non-smooth examples\n",
    "\n",
    "Use a random number generator to create some noisy initial conditions."
   ]
  },
  {
   "cell_type": "code",
   "execution_count": null,
   "id": "62016683",
   "metadata": {},
   "outputs": [],
   "source": [
    "fig = plt.figure(figsize=(10,8))\n",
    "for n in range(4):\n",
    "    u = np.random.random(J)\n",
    "    dudt = diffusion(u, deltax, K)\n",
    "    ax = fig.add_subplot(2,2,n+1)\n",
    "    ax.plot(x, u)\n",
    "    ax.plot(x, dudt)"
   ]
  },
  {
   "cell_type": "markdown",
   "id": "312bfdd1",
   "metadata": {
    "slideshow": {
     "slide_type": "slide"
    }
   },
   "source": [
    "____________\n",
    "<a id='section4'></a>\n",
    "\n",
    "## 4. Discretizing the time derivative\n",
    "____________"
   ]
  },
  {
   "cell_type": "markdown",
   "id": "2fc7c67b",
   "metadata": {
    "slideshow": {
     "slide_type": "slide"
    }
   },
   "source": [
    "The simplest way to discretize the time derivative is the **forward Euler** method:\n",
    "\n",
    "$$ \\frac{d u}{dt} \\bigg|^n \\approx \\frac{u^{n+1} - u^n}{\\Delta t} $$"
   ]
  },
  {
   "cell_type": "markdown",
   "id": "bc8ae69f",
   "metadata": {
    "slideshow": {
     "slide_type": "slide"
    }
   },
   "source": [
    "We have already used this method to step our prognostic variables forward in time.\n",
    "\n",
    "Solving the above for the future value of $u$ gives\n",
    "\n",
    "$$ u^{n+1} = u^n + \\Delta t \\frac{d u}{dt} \\bigg|^n $$"
   ]
  },
  {
   "cell_type": "markdown",
   "id": "afe5b6c2",
   "metadata": {
    "slideshow": {
     "slide_type": "slide"
    }
   },
   "source": [
    "We apply our discretization of the diffusion operator to the current value of the field $u^n_j$, to get our formula for the future values:\n",
    "\n",
    "$$ u_j^{n+1} = u_j^n + \\frac{K \\Delta t}{\\Delta x^2} \\left( u^n_{j+1} - 2 u^n_{j} + u^n_{j-1} \\right)  $$\n",
    "\n",
    "(except at the boundaries, where the diffusion operator is slightly different -- see above)."
   ]
  },
  {
   "cell_type": "markdown",
   "id": "dae9cc9f",
   "metadata": {
    "slideshow": {
     "slide_type": "slide"
    }
   },
   "source": [
    "Together, this scheme is known as **Forward Time, Centered Space** or **FTCS**.\n",
    "\n",
    "It is very simple to implement in `numpy` code."
   ]
  },
  {
   "cell_type": "code",
   "execution_count": null,
   "id": "723e7b70",
   "metadata": {},
   "outputs": [],
   "source": [
    "def step_forward(u, deltax, deltat, K=1):\n",
    "    dudt = diffusion(u, deltax, K)\n",
    "    return u + deltat * dudt"
   ]
  },
  {
   "cell_type": "code",
   "execution_count": null,
   "id": "515dc122",
   "metadata": {
    "slideshow": {
     "slide_type": "slide"
    }
   },
   "outputs": [],
   "source": [
    "K = 0.01\n",
    "deltat = 0.125\n",
    "deltat1 = deltat\n",
    "\n",
    "u0 = gaussian(x, 0.5, 0.08)\n",
    "u1 = step_forward(u0, deltax, deltat1, K)\n",
    "fig, ax = plt.subplots(1)\n",
    "ax.plot(x, u0, label='initial')\n",
    "ax.plot(x, u1, label='next')\n",
    "ax.legend()"
   ]
  },
  {
   "cell_type": "markdown",
   "id": "3ba95992",
   "metadata": {
    "slideshow": {
     "slide_type": "slide"
    }
   },
   "source": [
    "Let's loop through a number of timesteps."
   ]
  },
  {
   "cell_type": "code",
   "execution_count": null,
   "id": "a444880e",
   "metadata": {},
   "outputs": [],
   "source": [
    "#  regular resolution\n",
    "J = 20\n",
    "deltax = 1./J\n",
    "xstag = np.linspace(0., 1., J+1)\n",
    "x = xstag[:-1] + deltax/2"
   ]
  },
  {
   "cell_type": "code",
   "execution_count": null,
   "id": "160397c6",
   "metadata": {
    "slideshow": {
     "slide_type": "slide"
    }
   },
   "outputs": [],
   "source": [
    "u = gaussian(x, 0.5, 0.08)\n",
    "niter = 11\n",
    "for n in range(niter):\n",
    "    u = step_forward(u, deltax, deltat1, K)\n",
    "    plt.plot(x, u, label=n)\n",
    "plt.legend()"
   ]
  },
  {
   "cell_type": "markdown",
   "id": "4546bef2",
   "metadata": {
    "slideshow": {
     "slide_type": "slide"
    }
   },
   "source": [
    "The numerics were easy to implement, and the scheme seems to work very well! The results are physically sensible."
   ]
  },
  {
   "cell_type": "markdown",
   "id": "787d555b",
   "metadata": {
    "slideshow": {
     "slide_type": "slide"
    }
   },
   "source": [
    "### Now, suppose that you wanted to **double** the spatial resolution\n",
    "\n",
    "Try setting $J=40$ and repeat the above procedure.\n",
    "\n",
    "What happens?"
   ]
  },
  {
   "cell_type": "code",
   "execution_count": null,
   "id": "be928bfd",
   "metadata": {
    "slideshow": {
     "slide_type": "-"
    }
   },
   "outputs": [],
   "source": [
    "#  double the resolution\n",
    "scaling_factor = 2\n",
    "J = J1 * scaling_factor\n",
    "deltax = 1./J\n",
    "xstag = np.linspace(0., 1., J+1)\n",
    "x = xstag[:-1] + deltax/2"
   ]
  },
  {
   "cell_type": "code",
   "execution_count": null,
   "id": "575e1da8",
   "metadata": {
    "slideshow": {
     "slide_type": "slide"
    }
   },
   "outputs": [],
   "source": [
    "u = gaussian(x, 0.5, 0.08)\n",
    "for n in range(niter):\n",
    "    u = step_forward(u, deltax, deltat1, K)\n",
    "    plt.plot(x, u, label=n)\n",
    "plt.legend()"
   ]
  },
  {
   "cell_type": "markdown",
   "id": "4e70d3f9",
   "metadata": {
    "slideshow": {
     "slide_type": "slide"
    }
   },
   "source": [
    "Suddenly our scheme is producing numerical noise that grows in time and overwhelms to smooth physical solution we are trying to model.\n",
    "\n",
    "**This is bad!**\n",
    "\n",
    "What went wrong, and what can we do about it?"
   ]
  },
  {
   "cell_type": "markdown",
   "id": "00bc1f02",
   "metadata": {
    "slideshow": {
     "slide_type": "slide"
    }
   },
   "source": [
    "____________\n",
    "<a id='section5'></a>\n",
    "\n",
    "## 5. Stability analysis of the FTCS scheme\n",
    "____________\n",
    "\n",
    "Following Press et al. (1988), \"Numerical Recipes in C: The Art of Scientific Computing\", Cambridge University Press."
   ]
  },
  {
   "cell_type": "markdown",
   "id": "a8d3e0b8",
   "metadata": {
    "slideshow": {
     "slide_type": "slide"
    }
   },
   "source": [
    "This is an example of the so-called **von Neumann Stability Analysis**. It is a form of *normal mode* analysis for a discrete system.\n",
    "\n",
    "We look for normal mode solutions (i.e. wavy sines and cosines) of the finite difference equations of the form\n",
    "\n",
    "$$ u_j^n = \\xi^n \\exp(i~k~j~ \\Delta x) $$\n",
    "\n",
    "where $k$ is some real number that represents a spatial wavenumber (which can have any value), and $\\xi = \\xi(k)$ is a complex number that depends on $k$."
   ]
  },
  {
   "cell_type": "markdown",
   "id": "5cc4e147",
   "metadata": {
    "slideshow": {
     "slide_type": "-"
    }
   },
   "source": [
    "The number $\\xi$ is called the **amplification factor** at a given wavenumber $k$."
   ]
  },
  {
   "cell_type": "markdown",
   "id": "439df23a",
   "metadata": {
    "slideshow": {
     "slide_type": "slide"
    }
   },
   "source": [
    "The question is, **under what conditions do wavy solutions grow with time**?  (This is bad, as it means small numerical noise will become large numerical noise and make our differencing scheme unusable)"
   ]
  },
  {
   "cell_type": "markdown",
   "id": "170ff958",
   "metadata": {},
   "source": [
    "Let's substitute the normal mode solution into our finite difference equation\n",
    "\n",
    "$$ \\frac{u_j^{n+1} -  u_j^n}{\\Delta t} = \\frac{K}{\\Delta x^2} \\left( u^n_{j+1} - 2 u^n_{j} + u^n_{j-1} \\right)  $$"
   ]
  },
  {
   "cell_type": "markdown",
   "id": "b0e0d23f",
   "metadata": {
    "slideshow": {
     "slide_type": "slide"
    }
   },
   "source": [
    "$$ \\frac{\\xi^{n+1} \\exp(i~k~j~ \\Delta x) -  \\xi^n \\exp(i~k~j~ \\Delta x)}{\\Delta t} = \\frac{K}{\\Delta x^2} \\left( \\xi^n \\exp(i~k~(j+1)~ \\Delta x) - 2 \\xi^n \\exp(i~k~j~ \\Delta x) + \\xi^n \\exp(i~k~(j-1)~ \\Delta x) \\right)  $$"
   ]
  },
  {
   "cell_type": "markdown",
   "id": "64f45ddc",
   "metadata": {
    "slideshow": {
     "slide_type": "fragment"
    }
   },
   "source": [
    "Divide through by $\\xi^n \\exp(i~k~j~\\Delta x)$:"
   ]
  },
  {
   "cell_type": "markdown",
   "id": "10fc46ae",
   "metadata": {
    "slideshow": {
     "slide_type": "-"
    }
   },
   "source": [
    "$$ \\frac{\\xi^{n+1}}{\\xi^n} -  1 = \\frac{K \\Delta t}{\\Delta x^2} \\left(\\exp(i~k~\\Delta x) - 2 + \\exp(-i~k~\\Delta x) \\right)  $$"
   ]
  },
  {
   "cell_type": "markdown",
   "id": "3f006f13",
   "metadata": {
    "slideshow": {
     "slide_type": "slide"
    }
   },
   "source": [
    "The exponentials simplify"
   ]
  },
  {
   "cell_type": "markdown",
   "id": "86b98400",
   "metadata": {},
   "source": [
    "$$ \\frac{\\xi^{n+1}}{\\xi^n} = 1 + \\frac{K \\Delta t}{\\Delta x^2} \\left(2 \\cos(k~\\Delta x) - 2 \\right)  $$"
   ]
  },
  {
   "cell_type": "markdown",
   "id": "f8bb0124",
   "metadata": {
    "slideshow": {
     "slide_type": "fragment"
    }
   },
   "source": [
    "Or using a double angle identity,"
   ]
  },
  {
   "cell_type": "markdown",
   "id": "0801b2b6",
   "metadata": {},
   "source": [
    "$$ \\frac{\\xi^{n+1}}{\\xi^n} = 1 - \\frac{4 K \\Delta t}{\\Delta x^2} \\sin^2 \\left( \\frac{k~\\Delta x}{2} \\right)  $$"
   ]
  },
  {
   "cell_type": "markdown",
   "id": "c44d789a",
   "metadata": {
    "slideshow": {
     "slide_type": "slide"
    }
   },
   "source": [
    "### The wavy solution must not grow with time"
   ]
  },
  {
   "cell_type": "markdown",
   "id": "69ce2f98",
   "metadata": {},
   "source": [
    "We need to prevent growing normal modes. So successive amplitudes should be\n",
    "\n",
    "$$ \\bigg| \\frac{\\xi^{n+1}}{\\xi^n} \\bigg| \\le 1 $$"
   ]
  },
  {
   "cell_type": "markdown",
   "id": "4af9ccc7",
   "metadata": {
    "slideshow": {
     "slide_type": "slide"
    }
   },
   "source": [
    "The stability condition is thus\n",
    "\n",
    "$$ \\bigg| 1 - \\frac{4 K \\Delta t}{\\Delta x^2} \\sin^2 \\left( \\frac{k~\\Delta x}{2} \\right) \\bigg| \\le 1 $$"
   ]
  },
  {
   "cell_type": "markdown",
   "id": "634096cf",
   "metadata": {},
   "source": [
    "and this condition must be met for **EVERY** possible wavenumber $k$."
   ]
  },
  {
   "cell_type": "markdown",
   "id": "3a51683c",
   "metadata": {
    "slideshow": {
     "slide_type": "slide"
    }
   },
   "source": [
    "Because $0 \\le \\sin^2(\\phi) \\le 1$ for any $\\phi$, our condition can only be violated if\n",
    "\n",
    "$$ \\frac{4 K \\Delta t}{\\Delta x^2} > 2 $$"
   ]
  },
  {
   "cell_type": "markdown",
   "id": "15955789",
   "metadata": {},
   "source": [
    "We conclude the the FTCS scheme is stable so long as this stability condition is met:\n",
    "\n",
    "$$ \\Delta t \\le \\frac{\\Delta x^2}{2 K} $$"
   ]
  },
  {
   "cell_type": "markdown",
   "id": "d9be2d87",
   "metadata": {
    "slideshow": {
     "slide_type": "slide"
    }
   },
   "source": [
    "### We have just discovered an important constraint on the allowable timestep\n",
    "\n",
    "The maximum timestep we can use with the FTCS scheme for the diffusion equation is proportional to $\\Delta x^2$.\n",
    "\n",
    "**A doubling of the spatial resolution would require a 4x shorter timestep to preserve numerical stability.**\n",
    "\n",
    "Physically, the restriction is that the maximum allowable timestep is approximately the diffusion time across a grid cell of width $\\Delta x$."
   ]
  },
  {
   "cell_type": "markdown",
   "id": "64c3060b",
   "metadata": {
    "slideshow": {
     "slide_type": "slide"
    }
   },
   "source": [
    "____________\n",
    "<a id='section6'></a>\n",
    "\n",
    "## 6. Numerical tests with a shorter timestep\n",
    "____________\n",
    "\n",
    "Going back to our Gaussian example, let's double the resolution but shorten the timestep by a factor of 4."
   ]
  },
  {
   "cell_type": "code",
   "execution_count": null,
   "id": "59e76b5f",
   "metadata": {
    "slideshow": {
     "slide_type": "slide"
    }
   },
   "outputs": [],
   "source": [
    "#  double the resolution\n",
    "J = J1 * scaling_factor\n",
    "deltax = 1./J\n",
    "xstag = np.linspace(0., 1., J+1)\n",
    "x = xstag[:-1] + deltax/2"
   ]
  },
  {
   "cell_type": "code",
   "execution_count": null,
   "id": "ee7b8675",
   "metadata": {},
   "outputs": [],
   "source": [
    "K = 0.01\n",
    "#  The maximum stable timestep\n",
    "deltat_max = deltax**2 / 2 / K\n",
    "print( 'The maximum allowable timestep is %f' %deltat_max)\n",
    "\n",
    "deltat = deltat1 / scaling_factor**2\n",
    "print( '4x the previous timestep is %f' %deltat)"
   ]
  },
  {
   "cell_type": "code",
   "execution_count": null,
   "id": "09c4607f",
   "metadata": {
    "slideshow": {
     "slide_type": "slide"
    }
   },
   "outputs": [],
   "source": [
    "u = gaussian(x, 0.5, 0.08)\n",
    "for n in range(niter):\n",
    "    for t in range(scaling_factor**2):\n",
    "        u = step_forward(u, deltax, deltat, K)\n",
    "    plt.plot(x, u, label=n)\n",
    "plt.legend()"
   ]
  },
  {
   "cell_type": "markdown",
   "id": "315719dc",
   "metadata": {
    "slideshow": {
     "slide_type": "slide"
    }
   },
   "source": [
    "Success! The graph now looks like a smoother (higher resolution) version of our first integration with the coarser grid.\n",
    "\n",
    "**But at a big cost**:  our calculation required 4 times more timesteps to do the same integration.\n",
    "\n",
    "The total increase in computational cost was actally a factor of 8 to get a factor of 2 increase in spatial resolution."
   ]
  },
  {
   "cell_type": "markdown",
   "id": "9ecf2bf0",
   "metadata": {
    "slideshow": {
     "slide_type": "slide"
    }
   },
   "source": [
    "____________\n",
    "<a id='section7'></a>\n",
    "\n",
    "## 7. The need for a more efficient method\n",
    "____________"
   ]
  },
  {
   "cell_type": "markdown",
   "id": "49a2e8df",
   "metadata": {
    "slideshow": {
     "slide_type": "slide"
    }
   },
   "source": [
    "In practice the condition\n",
    "\n",
    "$$ \\Delta t \\le \\frac{\\Delta x^2}{2 K} $$\n",
    "\n",
    "is often too restrictive to be practical!\n",
    "\n",
    "Consider our diffusive EBM. Suppose we want a spatial resolution of 1º latitude. Then we have 180 grid points from pole to pole, and our physical length scale is \n",
    "\n",
    "$$ \\Delta x \\approx 10^5 \\text{m} $$"
   ]
  },
  {
   "cell_type": "markdown",
   "id": "6ac7e6a9",
   "metadata": {
    "slideshow": {
     "slide_type": "slide"
    }
   },
   "source": [
    "We were using a diffusivity of $D = 0.6 ~ \\text{W m}^{-2}~\\text{K}^{-1}$ and a heat capacity of $C = 4 \\times 10^7 ~ \\text{J m}^{-2} ~\\text{K}^{-1}$ (for 10 m of water, [see Lecture 17](./Lecture17%20--%20Seasonal%20cycle%20and%20heat%20capacity.ipynb)).\n",
    "\n",
    "Accounting for the spherical geometry in our EBM, this translates to \n",
    "\n",
    "$$ K = \\frac{2 \\pi a^2 D}{C} = \\frac{2 \\pi ~ (6.4 \\times 10^6 ~\\text{m})^2 ~(0.6 ~ \\text{W m}^{-2}~\\text{K}^{-1})}{4 \\times 10^7 ~ \\text{J m}^{-2} ~\\text{K}^{-1}} \\approx 4 \\times 10^{6} ~ \\text{m}^2 ~ \\text{s}^{-1} $$\n",
    "\n",
    "Recall that this is the diffusivity associated with the large-scale motion of the atmosphere (mostly). If we take a typical velocity scale for a mid-latitude eddy, $V \\approx 20~\\text{m s}^{-1}$, and a typical length scale for that eddy, $L \\approx 2000~\\text{km}$, the diffusivity then scales as\n",
    "\n",
    "$$ K = V~ L = 4 \\times 10^{6} ~ \\text{m}^2 ~ \\text{s}^{-1} $$"
   ]
  },
  {
   "cell_type": "markdown",
   "id": "c11b8624",
   "metadata": {
    "slideshow": {
     "slide_type": "slide"
    }
   },
   "source": [
    "Using these numbers the stability condition is roughly\n",
    "\n",
    "$$ \\Delta t \\le 10^3 ~\\text{s}$$\n",
    "\n",
    "which is less than one hour!\n",
    "\n",
    "And if we wanted to double the resolution to 0.5º, we would need a timestep of just a few minutes.\n",
    "\n",
    "This can be a very onerous requirement for a model that would like to integrate out for many years.  **We can do better, but we need a different time discretization!**"
   ]
  },
  {
   "cell_type": "markdown",
   "id": "f334594a",
   "metadata": {
    "slideshow": {
     "slide_type": "slide"
    }
   },
   "source": [
    "____________\n",
    "<a id='section8'></a>\n",
    "\n",
    "## 8. Implicit time method\n",
    "____________"
   ]
  },
  {
   "cell_type": "markdown",
   "id": "610ea805",
   "metadata": {
    "slideshow": {
     "slide_type": "slide"
    }
   },
   "source": [
    "With numerical methods for partial differential equations, it often turns out that a small change in the discretization can make an enormous difference in the results."
   ]
  },
  {
   "cell_type": "markdown",
   "id": "323052c2",
   "metadata": {
    "slideshow": {
     "slide_type": "-"
    }
   },
   "source": [
    "The **implicit time** scheme applies exactly the same centered difference scheme to the spatial derivatives in the diffusion operator.\n",
    "\n",
    "But instead of applying the operator to the field $u^n$ at time $n$, we instead apply it to the field **at the future time** $u^{n+1}$."
   ]
  },
  {
   "cell_type": "markdown",
   "id": "55d9d665",
   "metadata": {
    "slideshow": {
     "slide_type": "slide"
    }
   },
   "source": [
    "The scheme looks like\n",
    "\n",
    "$$ \\frac{u_j^{n+1} - u_j^n}{\\Delta t} =  \\frac{K}{\\Delta x^2} \\left( u^{n+1}_{j+1} - 2 u^{n+1}_{j} + u^{n+1}_{j-1} \\right)  $$\n",
    "\n",
    "in the interior, and at the boundaries:\n",
    "\n",
    "$$ \\frac{u_0^{n+1} - u_0^n}{\\Delta t} = \\frac{K}{\\Delta x^2} \\left( u^{n+1}_1 - u^{n+1}_0 \\right) $$\n",
    "\n",
    "and\n",
    "\n",
    "$$ \\frac{u_{J-1}^{n+1} - u_{J-1}^n}{\\Delta t} = - \\frac{K}{\\Delta x^2} \\left( u_{J-1}^{n+1} - u_{J-2}^{n+1} \\right) $$"
   ]
  },
  {
   "cell_type": "markdown",
   "id": "c1e8baa7",
   "metadata": {
    "slideshow": {
     "slide_type": "slide"
    }
   },
   "source": [
    "This might seem like a strange way to write the system, since **we don't know the future state of the system at $t^{n+1}$**. That's what we're trying to solve for!"
   ]
  },
  {
   "cell_type": "markdown",
   "id": "f421ef70",
   "metadata": {
    "slideshow": {
     "slide_type": "slide"
    }
   },
   "source": [
    "Let's move all terms evaluated at $t^{n+1}$ to the left hand side:\n",
    "\n",
    "$$ u_j^{n+1}  - \\frac{K \\Delta t}{\\Delta x^2} \\left( u^{n+1}_{j+1} - 2 u^{n+1}_{j} + u^{n+1}_{j-1} \\right) = u_j^n   $$\n",
    "\n",
    "or\n",
    "\n",
    "$$ -K^* u^{n+1}_{j+1} + \\left(1+2K^* \\right) u_j^{n+1} - K^* u_{j-1}^{n+1} = u_j^n $$\n",
    "\n",
    "(in the interior)\n",
    "\n",
    "where we have introduced a non-dimensional diffusivity\n",
    "\n",
    "$$ K^* = \\frac{K \\Delta t}{\\Delta x^2} $$"
   ]
  },
  {
   "cell_type": "markdown",
   "id": "9aa602cd",
   "metadata": {
    "slideshow": {
     "slide_type": "slide"
    }
   },
   "source": [
    "### The implicit scheme as a matrix problem\n",
    "\n",
    "We can write this as a matrix equation\n",
    "\n",
    "$$ \\mathbf{A} ~ \\mathbf{U}^{n+1} = \\mathbf{U}^n $$"
   ]
  },
  {
   "cell_type": "markdown",
   "id": "26e4d314",
   "metadata": {},
   "source": [
    "where $\\mathbf{U}$ is a $J\\times1$ column vector giving the field $u(x)$ at a particular instant in time:\n",
    "\n",
    "$$ \\mathbf{U}^n = \\left[ \\begin{array}{c} \n",
    "u^n_0 \\\\\n",
    "u^n_1  \\\\\n",
    "u^n_2 \\\\\n",
    "...  \\\\\n",
    "u^n_{J-2} \\\\\n",
    "u^n_{J-1} \\\\\n",
    "\\end{array}\n",
    "\\right] \n",
    "$$\n",
    "\n",
    "and $\\mathbf{U}^{n+1}$ is the same vector at $t^{n+1}$."
   ]
  },
  {
   "cell_type": "markdown",
   "id": "0001c2c5",
   "metadata": {
    "slideshow": {
     "slide_type": "slide"
    }
   },
   "source": [
    "$\\mathbf{A}$ is a $J\\times J$ tridiagonal matrix:\n",
    "\n",
    "$$ \\mathbf{A} = \\left[ \\begin{array}{cccccccc}\n",
    " 1+K^* & -K^* & 0 & 0 & ... & 0 & 0 & 0 \\\\\n",
    " -K^* & 1+2K^* & -K^* & 0 & ... & 0 & 0 & 0 \\\\\n",
    " 0 & -K^* & 1+2K^* & -K^* &... & 0 & 0 & 0 \\\\\n",
    " ... & ... & ... & ... & ... & ... & ... & ... \\\\\n",
    " 0 & 0 & 0 & 0 & ... & -K^* & 1+2K^* & -K^* \\\\\n",
    " 0 & 0 & 0 & 0 & ... & 0 & -K^* & 1+K^* \\\\\n",
    "\\end{array}\n",
    "\\right] \n",
    "$$"
   ]
  },
  {
   "cell_type": "markdown",
   "id": "8f3b526f",
   "metadata": {
    "slideshow": {
     "slide_type": "slide"
    }
   },
   "source": [
    "Solving for the future state of the system $\\mathbf{U}^{n+1}$ is then just the solution of the linear system\n",
    "\n",
    "$$ \\mathbf{U}^{n+1} = \\mathbf{A}^{-1} \\mathbf{U}^{n}$$"
   ]
  },
  {
   "cell_type": "markdown",
   "id": "e418ecba",
   "metadata": {},
   "source": [
    "Solving a tridiagonal matrix problem like this is a very common operation in computer science, and efficient numerical routines are available in many languages (including Python / `numpy`!)"
   ]
  },
  {
   "cell_type": "markdown",
   "id": "bf151ad0",
   "metadata": {
    "slideshow": {
     "slide_type": "slide"
    }
   },
   "source": [
    "### Stability analysis of the implicit scheme\n",
    "\n",
    "We'll skip the details, but the amplification factor for this scheme is (see *Numerical Recipes* book or other text on numerical methods):\n",
    "\n",
    "$$ \\frac{\\xi^{n+1}}{\\xi^n} = \\frac{1}{1+4 K^* \\sin^2 \\left( \\frac{k \\Delta x}{2} \\right) } $$\n",
    "\n",
    "so the stability criterion of $$ \\bigg| \\frac{\\xi^{n+1}}{\\xi^n} \\bigg| \\le 1 $$\n",
    "\n",
    "is met for any value of $K^*$ and thus **for any timestep $\\Delta t$**."
   ]
  },
  {
   "cell_type": "markdown",
   "id": "1e5c8848",
   "metadata": {
    "slideshow": {
     "slide_type": "slide"
    }
   },
   "source": [
    "The implicit method (also called **backward time**) is unconditionally stable for any choice of timestep."
   ]
  },
  {
   "cell_type": "markdown",
   "id": "8064701d",
   "metadata": {
    "slideshow": {
     "slide_type": "slide"
    }
   },
   "source": [
    "____________\n",
    "<a id='section9'></a>\n",
    "\n",
    "## 9. Your homework assignment\n",
    "____________\n",
    "\n",
    "\n",
    "Write Python code to solve the diffusion equation using this implicit time method. Demonstrate that it is numerically stable for much larger timesteps than we were able to use with the forward-time method. One way to do this is to use a much higher spatial resolution."
   ]
  },
  {
   "cell_type": "markdown",
   "id": "1edae971",
   "metadata": {
    "slideshow": {
     "slide_type": "slide"
    }
   },
   "source": [
    "### Some final thoughts:\n",
    "\n",
    "We have just scratched the surface of the wonders and sorrows of numerical methods here. The implicit method is very **stable** but is not the most **accurate** method for a diffusion problem, particularly when you are interested in some of the faster dynamics of the system (as opposed to just getting the system quickly to its equilibrium state).\n",
    "\n",
    "There are always trade-offs in the choice of a numerical method."
   ]
  },
  {
   "cell_type": "markdown",
   "id": "205511af",
   "metadata": {
    "slideshow": {
     "slide_type": "slide"
    }
   },
   "source": [
    "The equations for most climate models are sufficiently complex that more than one numerical method is necessary. Even in the simple diffusive EBM, the radiation terms are handled by a forward-time method while the diffusion term is solved implicitly.\n",
    "\n",
    "Once you have worked through the above problem (diffusion only), you might want to look in the `climlab` code to see how the diffusion solver is implemented there, and how it is used when you integrate the EBM."
   ]
  },
  {
   "cell_type": "markdown",
   "id": "3c2c3109",
   "metadata": {
    "slideshow": {
     "slide_type": "skip"
    }
   },
   "source": [
    "____________\n",
    "\n",
    "## Credits\n",
    "\n",
    "This notebook is part of [The Climate Laboratory](https://brian-rose.github.io/ClimateLaboratoryBook), an open-source textbook developed and maintained by [Brian E. J. Rose](http://www.atmos.albany.edu/facstaff/brose/index.html), University at Albany.\n",
    "\n",
    "It is licensed for free and open consumption under the\n",
    "[Creative Commons Attribution 4.0 International (CC BY 4.0)](https://creativecommons.org/licenses/by/4.0/) license.\n",
    "\n",
    "Development of these notes and the [climlab software](https://github.com/brian-rose/climlab) is partially supported by the National Science Foundation under award AGS-1455071 to Brian Rose. Any opinions, findings, conclusions or recommendations expressed here are mine and do not necessarily reflect the views of the National Science Foundation.\n",
    "____________"
   ]
  },
  {
   "cell_type": "code",
   "execution_count": null,
   "id": "e06f8530",
   "metadata": {
    "slideshow": {
     "slide_type": "skip"
    }
   },
   "outputs": [],
   "source": []
  }
 ],
 "metadata": {
  "jupytext": {
   "text_representation": {
    "extension": ".md",
    "format_name": "myst",
    "format_version": 0.12,
    "jupytext_version": "1.6.0"
   }
  },
  "kernelspec": {
   "display_name": "Python 3",
   "language": "python",
   "name": "python3"
  },
  "source_map": [
   14,
   20,
   28,
   41,
   49,
   55,
   59,
   68,
   74,
   86,
   94,
   100,
   106,
   112,
   122,
   128,
   134,
   140,
   144,
   156,
   173,
   179,
   193,
   205,
   211,
   222,
   231,
   242,
   246,
   254,
   260,
   266,
   270,
   274,
   278,
   282,
   286,
   290,
   298,
   302,
   314,
   318,
   322,
   330,
   338,
   343,
   357,
   361,
   367,
   377,
   387,
   393,
   401,
   409,
   415,
   421,
   438,
   442,
   450,
   463,
   467,
   475,
   488,
   500,
   508,
   518,
   528,
   532,
   536,
   542,
   546,
   550,
   554,
   558,
   562,
   566,
   570,
   574,
   580,
   586,
   590,
   596,
   602,
   612,
   622,
   634,
   644,
   657,
   665,
   673,
   685,
   697,
   709,
   718,
   722,
   728,
   743,
   747,
   763,
   771,
   788,
   803,
   809,
   813,
   825,
   829,
   840,
   848,
   854,
   868
  ]
 },
 "nbformat": 4,
 "nbformat_minor": 5
}