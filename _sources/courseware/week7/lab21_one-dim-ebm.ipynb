{
 "cells": [
  {
   "cell_type": "markdown",
   "id": "7f7a2a65",
   "metadata": {
    "slideshow": {
     "slide_type": "slide"
    }
   },
   "source": [
    "(nb:1DEBM)=\n",
    "# The one-dimensional energy balance model\n",
    "\n",
    "This notebook is part of [The Climate Laboratory](https://brian-rose.github.io/ClimateLaboratoryBook) by [Brian E. J. Rose](http://www.atmos.albany.edu/facstaff/brose/index.html), University at Albany."
   ]
  },
  {
   "cell_type": "markdown",
   "id": "0f0b1caa",
   "metadata": {},
   "source": [
    "*Subsections marked with the asterisk * are more detailed mathematical discussions which can be skipped by the first-time reader.*"
   ]
  },
  {
   "cell_type": "markdown",
   "id": "7393fcb8",
   "metadata": {
    "slideshow": {
     "slide_type": "slide"
    }
   },
   "source": [
    "____________\n",
    "<a id='section1'></a>\n",
    "\n",
    "## 1. Simulation versus parameterization of heat transport\n",
    "____________"
   ]
  },
  {
   "cell_type": "markdown",
   "id": "029641f6",
   "metadata": {
    "slideshow": {
     "slide_type": "slide"
    }
   },
   "source": [
    "In the previous lectures we have seen how heat transport by winds and ocean currents acts to COOL the tropics and WARM the poles. The observed temperature gradient is a product of both the insolation and the heat transport!"
   ]
  },
  {
   "cell_type": "markdown",
   "id": "f43983db",
   "metadata": {
    "slideshow": {
     "slide_type": "slide"
    }
   },
   "source": [
    "We were able to ignore this issue in our models of the global mean temperature, because the transport just moves energy around between latitude bands – does not create or destroy energy.\n",
    "\n",
    "But if want to move beyond the global mean and create models of the equator-to-pole temperature structure, we cannot ignore heat transport. Has to be included somehow!"
   ]
  },
  {
   "cell_type": "markdown",
   "id": "4ab1c0a1",
   "metadata": {
    "slideshow": {
     "slide_type": "slide"
    }
   },
   "source": [
    "This leads to us the old theme of **simulation versus parameterization**.\n",
    "\n",
    "Complex climate models like the CESM simulate the heat transport by solving the full equations of motion for the atmosphere (and ocean too, if coupled)."
   ]
  },
  {
   "cell_type": "markdown",
   "id": "7f143ad6",
   "metadata": {
    "slideshow": {
     "slide_type": "slide"
    }
   },
   "source": [
    "### Simulation of synoptic-scale variability in CESM\n",
    "\n",
    "Let's revisit an animation of the global 6-hourly sea-level pressure field from our slab ocean simulation with CESM. (We first saw this [back in Lecture 5](./Lecture05 -- Climate system and climate models.ipynb))"
   ]
  },
  {
   "cell_type": "code",
   "execution_count": null,
   "id": "6a96c776",
   "metadata": {
    "slideshow": {
     "slide_type": "slide"
    }
   },
   "outputs": [],
   "source": [
    "from IPython.display import YouTubeVideo\n",
    "YouTubeVideo('As85L34fKYQ')"
   ]
  },
  {
   "cell_type": "markdown",
   "id": "01867b19",
   "metadata": {
    "slideshow": {
     "slide_type": "slide"
    }
   },
   "source": [
    "All these traveling weather systems tend to move **warm, moist air poleward** and **cold, dry air equatorward**. There is thus a **net poleward energy transport**.\n",
    "\n",
    "A model like this needs to **simulate the weather** in order to **model the heat transport**."
   ]
  },
  {
   "cell_type": "markdown",
   "id": "cb649db8",
   "metadata": {
    "slideshow": {
     "slide_type": "slide"
    }
   },
   "source": [
    "### A simpler statistical approach\n",
    "\n",
    "Let’s emphasize: the most important role for heat transport by winds and ocean currents is to more energy from where it’s WARM to where it’s COLD, thereby reducing the temperature gradient (equator to pole) from what it would be if the planet were in radiative-convective equilibrium everywhere with no north-south motion.\n",
    "\n",
    "This is the basis for the parameterization of heat transport often used in simple climate models."
   ]
  },
  {
   "cell_type": "markdown",
   "id": "82e12e3d",
   "metadata": {
    "slideshow": {
     "slide_type": "slide"
    }
   },
   "source": [
    "Discuss analogy with molecular heat conduction: metal rod with one end in the fire.\n",
    "\n",
    "Define carefully temperature gradient dTs / dy\n",
    "Measures how quickly the temperature  decreases as we move northward\n",
    "(negative in NH, positive in SH)"
   ]
  },
  {
   "cell_type": "markdown",
   "id": "0c2c8319",
   "metadata": {
    "slideshow": {
     "slide_type": "slide"
    }
   },
   "source": [
    "In any conduction or diffusion process, the flux (transport) of a quantity is always DOWN-gradient  (from WARM to COLD).\n",
    "\n",
    "So our parameterization will look like\n",
    "\n",
    "$$ \\mathcal{H} = -K ~ dT / dy $$\n",
    "\n",
    "Where $K$ is some positive number “diffusivity of the climate system”."
   ]
  },
  {
   "cell_type": "markdown",
   "id": "d968c78a",
   "metadata": {
    "slideshow": {
     "slide_type": "slide"
    }
   },
   "source": [
    "____________\n",
    "\n",
    "## 2. The temperature diffusion parameterization\n",
    "____________"
   ]
  },
  {
   "cell_type": "markdown",
   "id": "618ef71e",
   "metadata": {
    "slideshow": {
     "slide_type": "slide"
    }
   },
   "source": [
    "### Definition\n",
    "\n",
    "Last time we wrote down an energy budget for a thin zonal band centered at latitude $\\phi$:\n",
    "\n",
    "$$ \\frac{\\partial E(\\phi)}{\\partial t} = \\text{ASR}(\\phi) - \\text{OLR}(\\phi) - \\frac{1}{2 \\pi a^2  \\cos⁡\\phi } \\frac{\\partial \\mathcal{H}}{\\partial \\phi} $$\n",
    "\n",
    "where we have written every term as an explicit function of latitude to remind ourselves that this is a **local** budget, unlike the zero-dimensional global budget we considered at the start of the course."
   ]
  },
  {
   "cell_type": "markdown",
   "id": "81f28eb3",
   "metadata": {
    "slideshow": {
     "slide_type": "slide"
    }
   },
   "source": [
    "Let’s now formally introduce a parameterization that **approximates the heat transport as a down-gradient diffusion process**:\n",
    "\n",
    "$$ \\mathcal{H}(\\phi) \\approx -2 \\pi a^2  \\cos⁡\\phi ~ D ~ \\frac{\\partial T_s}{\\partial \\phi} $$\n",
    "\n",
    "With $D$ a parameter for the **diffusivity** or **thermal conductivity** of the climate system, a number in W m$^{-2}$ ºC$^{-1}$."
   ]
  },
  {
   "cell_type": "markdown",
   "id": "555096ba",
   "metadata": {
    "slideshow": {
     "slide_type": "slide"
    }
   },
   "source": [
    "The value of $D$ will be chosen to match observations – i.e. tuned.\n",
    "\n",
    "Notice that we have explicitly chosen to the use **surface temperature gradient** to set the heat transport. This is a convenient (and traditional) choice to make, but it is not the only possibility! We could instead tune our parameterization to some measure of the free-tropospheric temperature gradient."
   ]
  },
  {
   "cell_type": "markdown",
   "id": "9d56ae0b",
   "metadata": {
    "slideshow": {
     "slide_type": "slide"
    }
   },
   "source": [
    "### The diffusive parameterization in the planetary energy budget\n",
    "\n",
    "Plug the parameterization into our energy budget to get\n",
    "\n",
    "$$ \\frac{\\partial E(\\phi)}{\\partial t} = \\text{ASR}(\\phi) - \\text{OLR}(\\phi) - \\frac{1}{2 \\pi a^2  \\cos⁡\\phi } \\frac{\\partial }{\\partial \\phi} \\left( -2 \\pi a^2  \\cos⁡\\phi ~ D ~ \\frac{\\partial T_s}{\\partial \\phi} \\right) $$"
   ]
  },
  {
   "cell_type": "markdown",
   "id": "a4ad1889",
   "metadata": {
    "slideshow": {
     "slide_type": "slide"
    }
   },
   "source": [
    "If we assume that $D$ is a constant (does not vary with latitude), then this simplifies to\n",
    "\n",
    "$$ \\frac{\\partial E(\\phi)}{\\partial t} = \\text{ASR}(\\phi) - \\text{OLR}(\\phi) + \\frac{D}{\\cos⁡\\phi } \\frac{\\partial }{\\partial \\phi} \\left(   \\cos⁡\\phi  ~ \\frac{\\partial T_s}{\\partial \\phi} \\right) $$"
   ]
  },
  {
   "cell_type": "markdown",
   "id": "24544a3c",
   "metadata": {
    "slideshow": {
     "slide_type": "slide"
    }
   },
   "source": [
    "### Surface temperature is a good measure of column heat content\n",
    "\n",
    "Let's now make the same assumption we made [back at the beginning of the course](Lecture01 -- Planetary energy budget.ipynb) when we first wrote down the zero-dimensional EBM."
   ]
  },
  {
   "cell_type": "markdown",
   "id": "3a6f5b2c",
   "metadata": {
    "slideshow": {
     "slide_type": "slide"
    }
   },
   "source": [
    "*Most of the heat capacity is in the oceans, so that the energy content of each column $E$ is proportional to surface temperature*:\n",
    "\n",
    "$$ E(\\phi) = C(\\phi) ~ T_s(\\phi) $$\n",
    "\n",
    "where $C$ is **effective heat capacity** of the atmosphere - ocean column, in units of J m$^{-2}$ K$^{-1}$. Here we are writing $C$ are a function of latitude so that our model is general enough to allow different land-ocean fractions at different latitudes."
   ]
  },
  {
   "cell_type": "markdown",
   "id": "a5f387da",
   "metadata": {
    "slideshow": {
     "slide_type": "slide"
    }
   },
   "source": [
    "### A heat equation for surface temperature\n",
    "\n",
    "Now our budget becomes a PDE for the surface temperature $T_s(\\phi, t)$:\n",
    "\n",
    "$$ C(\\phi) \\frac{\\partial T_s}{\\partial t} = \\text{ASR}(\\phi) - \\text{OLR}(\\phi) + \\frac{D}{\\cos⁡\\phi } \\frac{\\partial }{\\partial \\phi} \\left(   \\cos⁡\\phi  ~ \\frac{\\partial T_s}{\\partial \\phi} \\right) $$"
   ]
  },
  {
   "cell_type": "markdown",
   "id": "2ba7ee9e",
   "metadata": {
    "slideshow": {
     "slide_type": "slide"
    }
   },
   "source": [
    "Notice that if we were NOT on a spherical planet and didn’t have to worry about the changing size of latitude circles, this would look something like\n",
    "\n",
    "$$ \\frac{\\partial T}{\\partial t} = K \\frac{\\partial^2 T}{\\partial y^2} + \\text{forcing terms} $$\n",
    "with $K = D/C$ in m$^{2}$ s$^{-1}$.\n",
    "\n",
    "Does equation look familiar?"
   ]
  },
  {
   "cell_type": "markdown",
   "id": "8d9f8941",
   "metadata": {
    "slideshow": {
     "slide_type": "slide"
    }
   },
   "source": [
    "This is the *heat equation*, one of the central equations in classical mathematical physics. \n",
    "\n",
    "This equation describes the behavior of a diffusive system, i.e. how mixing by random molecular motion smears out the temperature. \n",
    "\n",
    "In our case, the analogy is between the random molecular motion of a metal rod, and the net mixing / stirring effect of weather systems."
   ]
  },
  {
   "cell_type": "markdown",
   "id": "7951c95f",
   "metadata": {
    "slideshow": {
     "slide_type": "slide"
    }
   },
   "source": [
    "### * Take the global average...\n",
    "\n",
    "Take the integral $\\int_{-\\pi/2}^{\\pi/2} \\cos\\phi ~ d\\phi$ of each term.\n",
    "\n",
    "\n",
    "$$ C \\frac{\\partial \\overline{T_s}}{\\partial t} d\\phi = \\overline{\\text{ASR}} - \\overline{\\text{OLR}} + D \\int_{-\\pi/2}^{\\pi/2} \\frac{\\partial }{\\partial \\phi} \\left(   \\cos⁡\\phi  ~ \\frac{\\partial T_s}{\\partial \\phi} \\right) d\\phi$$\n",
    "\n",
    "The global average of the last term (heat transport) must go to zero (why?)\n",
    "\n",
    "Therefore this reduces to our familiar zero-dimensional EBM."
   ]
  },
  {
   "cell_type": "markdown",
   "id": "20c03778",
   "metadata": {
    "slideshow": {
     "slide_type": "slide"
    }
   },
   "source": [
    "____________\n",
    "\n",
    "## 3. Solving the temperature diffusion equation with climlab\n",
    "____________"
   ]
  },
  {
   "cell_type": "markdown",
   "id": "7922cf60",
   "metadata": {
    "slideshow": {
     "slide_type": "-"
    }
   },
   "source": [
    "`climlab` has a pre-defined process for solving the meridional diffusion equation. Let's look at a simple example in which diffusion is the ONLY process that changes the temperature.\n",
    "\n",
    "The equation we're going to solve here is\n",
    "\n",
    "$$ C(\\phi) \\frac{\\partial T_s}{\\partial t} = \\frac{D}{\\cos⁡\\phi } \\frac{\\partial }{\\partial \\phi} \\left(   \\cos⁡\\phi  ~ \\frac{\\partial T_s}{\\partial \\phi} \\right) $$\n",
    "\n",
    "(i.e. the EBM equation without any radiation terms)"
   ]
  },
  {
   "cell_type": "code",
   "execution_count": null,
   "id": "78307ede",
   "metadata": {
    "slideshow": {
     "slide_type": "slide"
    }
   },
   "outputs": [],
   "source": [
    "%matplotlib inline\n",
    "import numpy as np\n",
    "import matplotlib.pyplot as plt\n",
    "import climlab\n",
    "from climlab import constants as const"
   ]
  },
  {
   "cell_type": "code",
   "execution_count": null,
   "id": "79652a56",
   "metadata": {
    "slideshow": {
     "slide_type": "slide"
    }
   },
   "outputs": [],
   "source": [
    "#  First define an initial temperature field\n",
    "#   that is warm at the equator and cold at the poles\n",
    "#   and varies smoothly with latitude in between\n",
    "\n",
    "from climlab.utils import legendre\n",
    "sfc = climlab.domain.zonal_mean_surface(num_lat=90, water_depth=10.)\n",
    "lat = sfc.lat.points\n",
    "initial = 12. - 40. * legendre.P2(np.sin(np.deg2rad(lat)))\n",
    "\n",
    "fig, ax = plt.subplots()\n",
    "ax.plot(lat, initial)\n",
    "ax.set_xlabel('Latitude')\n",
    "ax.set_ylabel('Temperature (deg C)');"
   ]
  },
  {
   "cell_type": "code",
   "execution_count": null,
   "id": "a1562892",
   "metadata": {
    "slideshow": {
     "slide_type": "slide"
    }
   },
   "outputs": [],
   "source": [
    "##  Set up the climlab diffusion process\n",
    "\n",
    "# make a copy of initial so that it remains unmodified\n",
    "Ts = climlab.Field(np.array(initial), domain=sfc)\n",
    "# thermal diffusivity in W/m**2/degC\n",
    "D = 0.55\n",
    "# create the climlab diffusion process\n",
    "#  setting the diffusivity and a timestep of ONE MONTH\n",
    "d = climlab.dynamics.MeridionalHeatDiffusion(name='Diffusion', \n",
    "            state=Ts, D=D, timestep=const.seconds_per_month)\n",
    "print(d)"
   ]
  },
  {
   "cell_type": "code",
   "execution_count": null,
   "id": "659944e6",
   "metadata": {
    "slideshow": {
     "slide_type": "slide"
    }
   },
   "outputs": [],
   "source": [
    "#  We are going to step forward one month at a time\n",
    "#  and store the temperature each time\n",
    "n_iter = 5\n",
    "temp = np.zeros((Ts.size, n_iter+1))\n",
    "temp[:, 0] = np.squeeze(Ts)\n",
    "for n in range(n_iter):\n",
    "    d.step_forward()\n",
    "    temp[:, n+1] = np.squeeze(Ts)"
   ]
  },
  {
   "cell_type": "code",
   "execution_count": null,
   "id": "6f0a0183",
   "metadata": {
    "slideshow": {
     "slide_type": "slide"
    }
   },
   "outputs": [],
   "source": [
    "#  Now plot the temperatures\n",
    "fig,ax = plt.subplots()\n",
    "ax.plot(lat, temp)\n",
    "ax.set_xlabel('Latitude')\n",
    "ax.set_ylabel('Temperature (deg C)')\n",
    "ax.legend(range(n_iter+1)); ax.grid();"
   ]
  },
  {
   "cell_type": "markdown",
   "id": "f1b7098a",
   "metadata": {
    "slideshow": {
     "slide_type": "slide"
    }
   },
   "source": [
    "At each timestep, the warm temperatures get cooler (at the equator) while the cold polar temperatures get warmer!\n",
    "\n",
    "Diffusion is acting to **reduce the temperature gradient**.\n",
    "\n",
    "If we let this run a long time, what should happen??\n",
    "\n",
    "Try it yourself and find out!"
   ]
  },
  {
   "cell_type": "code",
   "execution_count": null,
   "id": "a4ff35c5",
   "metadata": {},
   "outputs": [],
   "source": []
  },
  {
   "cell_type": "markdown",
   "id": "6cbf4fd6",
   "metadata": {
    "slideshow": {
     "slide_type": "slide"
    }
   },
   "source": [
    "### * Mathematical aside: the Legendre Polynomials\n",
    "\n",
    "Here we have used a function called the “2nd Legendre polynomial”, defined as\n",
    "\n",
    "$$ P_2 (x) = \\frac{1}{2} \\left( 3x^2-1 \\right) $$\n",
    "\n",
    "where we have also set\n",
    "\n",
    "$$ x = \\sin\\phi $$"
   ]
  },
  {
   "cell_type": "markdown",
   "id": "5827310a",
   "metadata": {
    "slideshow": {
     "slide_type": "slide"
    }
   },
   "source": [
    "Just turns out to be a useful mathematical description of the relatively smooth changes in things like annual-mean insolation from equator to pole.\n",
    "\n",
    "In fact these are so useful that they are coded up in a special module within `climlab`:"
   ]
  },
  {
   "cell_type": "code",
   "execution_count": null,
   "id": "bb5a7db6",
   "metadata": {
    "slideshow": {
     "slide_type": "slide"
    }
   },
   "outputs": [],
   "source": [
    "x = np.linspace(-1,1)\n",
    "fig,ax = plt.subplots()\n",
    "ax.plot(x, legendre.P2(x))\n",
    "ax.set_title('$P_2(x)$')"
   ]
  },
  {
   "cell_type": "markdown",
   "id": "ade88c2b",
   "metadata": {
    "slideshow": {
     "slide_type": "slide"
    }
   },
   "source": [
    "____________\n",
    "\n",
    "## 4. Parameterizing the radiation terms\n",
    "____________"
   ]
  },
  {
   "cell_type": "markdown",
   "id": "4b4adcba",
   "metadata": {
    "slideshow": {
     "slide_type": "slide"
    }
   },
   "source": [
    "### The basic problem\n",
    "\n",
    "Let's go back to the complete budget with our heat transport parameterization\n",
    "\n",
    "$$ C(\\phi) \\frac{\\partial T_s}{\\partial t} = \\text{ASR}(\\phi) - \\text{OLR}(\\phi) + \\frac{D}{\\cos⁡\\phi } \\frac{\\partial }{\\partial \\phi} \\left(   \\cos⁡\\phi  ~ \\frac{\\partial T_s}{\\partial \\phi} \\right) $$"
   ]
  },
  {
   "cell_type": "markdown",
   "id": "1b6303d8",
   "metadata": {},
   "source": [
    "To turn our **budget** into a **model**, we need specific *parameterizations* that link the radiation ASR and OLR to surface temperature $T_s$ (the state variable for our model).\n",
    "\n",
    "In mathematical terms, we want to express this **as a closed equation for surface temperature $T_s$**."
   ]
  },
  {
   "cell_type": "markdown",
   "id": "871eda71",
   "metadata": {
    "slideshow": {
     "slide_type": "slide"
    }
   },
   "source": [
    "### Fixed albedo assumption\n",
    "\n",
    "First, as usual, we can write the solar term as\n",
    "\n",
    "$$ \\text{ASR} = (1-\\alpha) ~ Q $$"
   ]
  },
  {
   "cell_type": "markdown",
   "id": "6f5cb55c",
   "metadata": {},
   "source": [
    "For now, we will **assume that the planetary albedo is fixed (does not depend on temperature)**. Therefore the entire shortwave term $(1-\\alpha) Q$ is a fixed source term in our budget. It varies in space and time but does not depend on $T_s$."
   ]
  },
  {
   "cell_type": "markdown",
   "id": "3eaa050d",
   "metadata": {},
   "source": [
    "Note that the solar term is (at least in annual average) larger at equator than poles… and transport term acts to flatten out the temperatures."
   ]
  },
  {
   "cell_type": "markdown",
   "id": "b4dc2ace",
   "metadata": {
    "slideshow": {
     "slide_type": "slide"
    }
   },
   "source": [
    "### Parameterizing the longwave radiation\n",
    "\n",
    "Now, we almost have a model we can solve for T!  Just need to express the OLR in terms of temperature.\n",
    "\n",
    "So…  what’s the link between OLR and temperature????\n",
    "\n",
    "[ discuss ]"
   ]
  },
  {
   "cell_type": "markdown",
   "id": "438824a5",
   "metadata": {
    "slideshow": {
     "slide_type": "slide"
    }
   },
   "source": [
    "We spent a good chunk of the course looking at this question, and developed a model of a vertical column of air.\n",
    "\n",
    "We are trying now to build a model of the equator-to-pole (or pole-to-pole) temperature structure."
   ]
  },
  {
   "cell_type": "markdown",
   "id": "29248ab3",
   "metadata": {
    "slideshow": {
     "slide_type": "slide"
    }
   },
   "source": [
    "We COULD use an array of column models, representing temperature as a function of height and latitude (and time).\n",
    "\n",
    "But instead, we will keep things simple, one spatial dimension at a time."
   ]
  },
  {
   "cell_type": "markdown",
   "id": "b9180d74",
   "metadata": {
    "slideshow": {
     "slide_type": "slide"
    }
   },
   "source": [
    "Introduce the following simple parameterization:\n",
    "\n",
    "$$ OLR = A + B T_s $$\n",
    "\n",
    "With:\n",
    "\n",
    "- $T_s$ the zonal average surface temperature in ºC\n",
    "- $A$ is a constant in W m$^{-2}$\n",
    "- $B$ is a constant in W m$^{-2}$ ºC$^{-1}$\n",
    "\n",
    "Think of $A$ as an inverse measure of the greenhouse gas amount (Why?).\n",
    "\n",
    "The parameter $B$ is closely related to the **climate feedback parameter** $λ$ that we defined a while back. The only difference is that in the EBM we are going to explicitly separate the **albedo feedback** from all other radiative feedbacks."
   ]
  },
  {
   "cell_type": "markdown",
   "id": "ec62e0cf",
   "metadata": {},
   "source": [
    "____________\n",
    "\n",
    "## 5. Tuning the longwave parameters with reanalysis data\n",
    "____________"
   ]
  },
  {
   "cell_type": "markdown",
   "id": "63b9d242",
   "metadata": {
    "slideshow": {
     "slide_type": "slide"
    }
   },
   "source": [
    "### OLR versus surface temperature in NCEP Reanalysis data\n",
    "\n",
    "Let's look at the data to find reasonable values for $A$ and $B$."
   ]
  },
  {
   "cell_type": "code",
   "execution_count": null,
   "id": "f972c4aa",
   "metadata": {
    "slideshow": {
     "slide_type": "slide"
    }
   },
   "outputs": [],
   "source": [
    "import xarray as xr\n",
    "## The NOAA ESRL server is shutdown! January 2019\n",
    "ncep_url = \"http://www.esrl.noaa.gov/psd/thredds/dodsC/Datasets/ncep.reanalysis.derived/\"\n",
    "ncep_Ts = xr.open_dataset( ncep_url + \"surface_gauss/skt.sfc.mon.1981-2010.ltm.nc\", decode_times=False)\n",
    "#url = 'http://apdrc.soest.hawaii.edu:80/dods/public_data/Reanalysis_Data/NCEP/NCEP/clima/'\n",
    "#ncep_Ts = xr.open_dataset(url + 'surface_gauss/skt')\n",
    "lat_ncep = ncep_Ts.lat; lon_ncep = ncep_Ts.lon\n",
    "print( ncep_Ts)"
   ]
  },
  {
   "cell_type": "code",
   "execution_count": null,
   "id": "1b49305f",
   "metadata": {
    "slideshow": {
     "slide_type": "slide"
    }
   },
   "outputs": [],
   "source": [
    "#  Take the annual and zonal average!\n",
    "Ts_ncep_annual = ncep_Ts.skt.mean(dim=('lon','time'))"
   ]
  },
  {
   "cell_type": "code",
   "execution_count": null,
   "id": "d5880cf4",
   "metadata": {
    "slideshow": {
     "slide_type": "-"
    }
   },
   "outputs": [],
   "source": [
    "# TOA radiation data\n",
    "ncep_ulwrf = xr.open_dataset( ncep_url + \"other_gauss/ulwrf.ntat.mon.1981-2010.ltm.nc\", decode_times=False)\n",
    "ncep_dswrf = xr.open_dataset( ncep_url + \"other_gauss/dswrf.ntat.mon.1981-2010.ltm.nc\", decode_times=False)\n",
    "ncep_uswrf = xr.open_dataset( ncep_url + \"other_gauss/uswrf.ntat.mon.1981-2010.ltm.nc\", decode_times=False)\n",
    "#ncep_ulwrf = xr.open_dataset(url + \"other_gauss/ulwrf\")\n",
    "#ncep_dswrf = xr.open_dataset(url + \"other_gauss/dswrf\")\n",
    "#ncep_uswrf = xr.open_dataset(url + \"other_gauss/uswrf\")\n",
    "OLR_ncep_annual = ncep_ulwrf.ulwrf.mean(dim=('lon','time'))\n",
    "ASR_ncep_annual = (ncep_dswrf.dswrf - ncep_uswrf.uswrf).mean(dim=('lon','time'))"
   ]
  },
  {
   "cell_type": "code",
   "execution_count": null,
   "id": "0043f3e4",
   "metadata": {
    "slideshow": {
     "slide_type": "slide"
    }
   },
   "outputs": [],
   "source": [
    "#  Use a linear regression package to compute best fit for the slope and intercept\n",
    "from scipy.stats import linregress\n",
    "slope, intercept, r_value, p_value, std_err = linregress(Ts_ncep_annual, OLR_ncep_annual)\n",
    "\n",
    "print( 'Best fit is A = %0.0f W/m2 and B = %0.1f W/m2/degC' %(intercept, slope))"
   ]
  },
  {
   "cell_type": "markdown",
   "id": "340898d7",
   "metadata": {
    "slideshow": {
     "slide_type": "slide"
    }
   },
   "source": [
    "We're going to plot the data and the best fit line, but also another line using these values:"
   ]
  },
  {
   "cell_type": "code",
   "execution_count": null,
   "id": "9e980eb0",
   "metadata": {},
   "outputs": [],
   "source": [
    "#  More standard values\n",
    "A = 210.\n",
    "B = 2."
   ]
  },
  {
   "cell_type": "code",
   "execution_count": null,
   "id": "6b9c4d38",
   "metadata": {
    "slideshow": {
     "slide_type": "-"
    }
   },
   "outputs": [],
   "source": [
    "fig, ax1 = plt.subplots(figsize=(8,6))\n",
    "ax1.plot( Ts_ncep_annual, OLR_ncep_annual, 'o' , label='data')\n",
    "ax1.plot( Ts_ncep_annual, intercept + slope * Ts_ncep_annual, 'k--', label='best fit')\n",
    "ax1.plot( Ts_ncep_annual, A + B * Ts_ncep_annual, 'r--', label='B=2')\n",
    "ax1.set_xlabel('Surface temperature (C)', fontsize=16)\n",
    "ax1.set_ylabel('OLR (W m$^{-2}$)', fontsize=16)\n",
    "ax1.set_title('OLR versus surface temperature from NCEP reanalysis', fontsize=18)\n",
    "ax1.legend(loc='upper left')\n",
    "ax1.grid()"
   ]
  },
  {
   "cell_type": "markdown",
   "id": "a52760bf",
   "metadata": {
    "slideshow": {
     "slide_type": "slide"
    }
   },
   "source": [
    "Discuss these curves...\n",
    "\n",
    "Suggestion of at least 3 different regimes with different slopes (cold, medium, warm).\n",
    "\n",
    "Unbiased \"best fit\" is actually a poor fit over all the intermediate temperatures.\n",
    "\n",
    "The astute reader will note that...   by taking the zonal average of the data before the regression, we are biasing this estimate toward cold temperatures.  [WHY?]"
   ]
  },
  {
   "cell_type": "markdown",
   "id": "ec47e91e",
   "metadata": {
    "slideshow": {
     "slide_type": "slide"
    }
   },
   "source": [
    "Let's take these reference values:\n",
    "\n",
    "$$ A = 210 ~ \\text{W m}^{-2}, ~~~ B = 2 ~ \\text{W m}^{-2}~^\\circ\\text{C}^{-1} $$"
   ]
  },
  {
   "cell_type": "markdown",
   "id": "e1cfed0c",
   "metadata": {
    "slideshow": {
     "slide_type": "slide"
    }
   },
   "source": [
    "### Checking the global average\n",
    "\n",
    "Note that in the **global average**, recall $\\overline{T_s} = 288 \\text{ K} = 15^\\circ\\text{C}$\n",
    "\n",
    "And so this parameterization gives \n",
    "\n",
    "$$ \\overline{\\text{OLR}} = 210 + 15 \\times 2 = 240 ~\\text{W m}^{-2} $$\n",
    "\n",
    "And the observed global mean is $\\overline{\\text{OLR}} = 239 ~\\text{W m}^{-2} $\n",
    "So this is consistent."
   ]
  },
  {
   "cell_type": "markdown",
   "id": "0d014dbe",
   "metadata": {},
   "source": [
    "### Relationship between $B$ and feedback parameters\n",
    "\n",
    "Recall that when we looked at climate forcing and feedback, we said that overall response to a forcing $\\Delta R$ in W m$^{-2}$ is\n",
    "\n",
    "$$ \\Delta T = \\frac{\\Delta R}{\\lambda} $$\n",
    "\n",
    "and where $\\lambda$ is the overall **climate feedback parameter**:\n",
    "\n",
    "$$\\lambda = \\lambda_0 - \\sum_{i=1}^{N} \\lambda_i $$\n",
    "\n",
    "and\n",
    "\n",
    "- $\\lambda_0 = 3.3$ W m$^{-2}$ K$^{-1}$ is the **no-feedback climate response**\n",
    "- $\\sum_{i=1}^{N} \\lambda_i$ is the sum of all radiative feedbacks, defined to be **positive** for **amplifying processes**.\n",
    "\n",
    "More positive feedbacks thus mean that $\\lambda$ is a smaller number, which means the response to a given forcing is larger!\n",
    "\n",
    "Here in the EBM the parameter $B$ plays the same role as $\\lambda$ -- a smaller number means a more sensitive model.\n",
    "\n",
    "Our estimate $B = 2 ~ \\text{W m}^{-2}~^\\circ\\text{C}^{-1}$ thus implies that the sum of all LW feedback processes (including water vapor, lapse rates and clouds) is\n",
    "\n",
    "$$ \\sum_{i=1}^{N} \\lambda_i = 3.3 ~\\text{W m}^{-2}~^\\circ\\text{C}^{-1} - 2 ~\\text{W m}^{-2}~^\\circ\\text{C}^{-1} = 1.3 ~\\text{W m}^{-2}~^\\circ\\text{C}^{-1} $$ \n",
    "\n",
    "Looking back at the chart of feedback parameter values from GCMs, does this seem plausible?"
   ]
  },
  {
   "cell_type": "markdown",
   "id": "d5b24a42",
   "metadata": {
    "slideshow": {
     "slide_type": "slide"
    }
   },
   "source": [
    "____________\n",
    "\n",
    "## 6. The one-dimensional diffusive Energy Balance Model\n",
    "____________"
   ]
  },
  {
   "cell_type": "markdown",
   "id": "e3cbee4c",
   "metadata": {
    "slideshow": {
     "slide_type": "slide"
    }
   },
   "source": [
    "### Putting the equation together\n",
    "\n",
    "Putting the above OLR parameterization into our budget equation gives\n",
    "\n",
    "$$ C(\\phi) \\frac{\\partial T_s}{\\partial t} = (1-\\alpha) ~ Q - \\left( A + B~T_s \\right) + \\frac{D}{\\cos⁡\\phi } \\frac{\\partial }{\\partial \\phi} \\left(   \\cos⁡\\phi  ~ \\frac{\\partial T_s}{\\partial \\phi} \\right) $$"
   ]
  },
  {
   "cell_type": "markdown",
   "id": "e8450a71",
   "metadata": {
    "slideshow": {
     "slide_type": "slide"
    }
   },
   "source": [
    "This is the equation for a very important and useful simple model of the climate system. It is typically referred to as the (one-dimensional) Energy Balance Model.\n",
    "\n",
    "(although as we have seen over and over, EVERY climate model is actually an “energy balance model” of some kind)\n",
    "\n",
    "Also for historical reasons this is often called the **Budyko-Sellers model**, after Budyko and Sellers who both (independently of each other) published influential papers on this subject in 1969."
   ]
  },
  {
   "cell_type": "markdown",
   "id": "22a85b6e",
   "metadata": {
    "slideshow": {
     "slide_type": "slide"
    }
   },
   "source": [
    "Recap: parameters in this model are\n",
    "\n",
    "- C: heat capacity in J m$^{-2}$ ºC$^{-1}$\n",
    "- A: longwave emission at 0ºC in W m$^{-2}$\n",
    "- B: increase in emission per degree, in W m$^{-2}$ ºC$^{-1}$\n",
    "- D: horizontal (north-south) diffusivity of the climate system in W m$^{-2}$ ºC$^{-1}$\n",
    "\n",
    "We also need to specify the albedo."
   ]
  },
  {
   "cell_type": "markdown",
   "id": "6d42b19e",
   "metadata": {
    "slideshow": {
     "slide_type": "slide"
    }
   },
   "source": [
    "### Observed albedo\n",
    "\n",
    "Let's go back to the NCEP Reanalysis data to see how planetary albedo actually varies as a function of latitude."
   ]
  },
  {
   "cell_type": "code",
   "execution_count": null,
   "id": "bc17a948",
   "metadata": {
    "slideshow": {
     "slide_type": "slide"
    }
   },
   "outputs": [],
   "source": [
    "days = np.linspace(1.,50.)/50 * const.days_per_year\n",
    "Qann_ncep = climlab.solar.insolation.daily_insolation(lat_ncep, days ).mean(dim='day')\n",
    "albedo_ncep = 1 - ASR_ncep_annual / Qann_ncep\n",
    "\n",
    "albedo_ncep_global = np.average(albedo_ncep, weights=np.cos(np.deg2rad(lat_ncep)))"
   ]
  },
  {
   "cell_type": "code",
   "execution_count": null,
   "id": "410f4fdf",
   "metadata": {
    "slideshow": {
     "slide_type": "slide"
    }
   },
   "outputs": [],
   "source": [
    "print( 'The annual, global mean planetary albedo is %0.3f' %albedo_ncep_global)\n",
    "fig,ax = plt.subplots()\n",
    "ax.plot(lat_ncep, albedo_ncep)\n",
    "ax.grid();\n",
    "ax.set_xlabel('Latitude')\n",
    "ax.set_ylabel('Albedo');"
   ]
  },
  {
   "cell_type": "markdown",
   "id": "9508ef02",
   "metadata": {
    "slideshow": {
     "slide_type": "slide"
    }
   },
   "source": [
    "**The albedo increases markedly toward the poles.**\n",
    "\n",
    "There are several reasons for this:\n",
    "\n",
    "- Surface snow and ice increase toward the poles\n",
    "- Cloudiness is an important (but complicated) factor.\n",
    "- Albedo increases with solar zenith angle (the angle at which the direct solar beam strikes a surface)"
   ]
  },
  {
   "cell_type": "markdown",
   "id": "12411115",
   "metadata": {
    "slideshow": {
     "slide_type": "slide"
    }
   },
   "source": [
    "### Approximating the observed albedo with a smooth function\n",
    "\n",
    "Like temperature and insolation, this can be approximated by a smooth function that increases with latitude:\n",
    "\n",
    "$$ \\alpha(\\phi) \\approx \\alpha_0 + \\alpha_2 P_2(\\sin\\phi) $$\n",
    "\n",
    "where $P_2$ is the 2nd Legendre polynomial (see above).\n",
    "\n",
    "In effect we are using a truncated series expansion of the full meridional structure of $\\alpha$. $a_0$ is the global average, and $a_2$ is proportional to the equator-to-pole gradient in $\\alpha$."
   ]
  },
  {
   "cell_type": "markdown",
   "id": "8c56cee7",
   "metadata": {
    "slideshow": {
     "slide_type": "slide"
    }
   },
   "source": [
    "We will set\n",
    "\n",
    "$$ \\alpha_0 = 0.354, ~~~ \\alpha_2 = 0.25 $$"
   ]
  },
  {
   "cell_type": "code",
   "execution_count": null,
   "id": "3fd9220f",
   "metadata": {
    "slideshow": {
     "slide_type": "slide"
    }
   },
   "outputs": [],
   "source": [
    "# Add a new curve to the previous figure\n",
    "a0 = albedo_ncep_global\n",
    "a2 = 0.25\n",
    "ax.plot(lat_ncep, a0 + a2 * legendre.P2(np.sin(np.deg2rad(lat_ncep))))\n",
    "fig"
   ]
  },
  {
   "cell_type": "markdown",
   "id": "71ad144f",
   "metadata": {
    "slideshow": {
     "slide_type": "slide"
    }
   },
   "source": [
    "Of course we are not fitting all the details of the observed albedo curve. But we do get the correct global mean a reasonable representation of the equator-to-pole gradient in albedo."
   ]
  },
  {
   "cell_type": "markdown",
   "id": "4d811f27",
   "metadata": {
    "slideshow": {
     "slide_type": "slide"
    }
   },
   "source": [
    "____________\n",
    "\n",
    "## 7. The annual-mean EBM\n",
    "____________"
   ]
  },
  {
   "cell_type": "markdown",
   "id": "b6077365",
   "metadata": {},
   "source": [
    "For now, we will be focusing on the **annual mean** model. \n",
    "\n",
    "For the **insolation**, we set $Q(\\phi,t) = \\bar{Q}(\\phi)$, the annual mean value *(large at equator, small at pole)*."
   ]
  },
  {
   "cell_type": "markdown",
   "id": "8f5f7fdf",
   "metadata": {
    "slideshow": {
     "slide_type": "slide"
    }
   },
   "source": [
    "### * Mathematical details: deriving the annual mean model\n",
    "\n",
    "Suppose we take the **annual mean of the planetary energy budget**.\n",
    "\n",
    "If the albedo is fixed, then the average is pretty simple. Our EBM equation is purely linear, so the change over one year is just\n",
    "\n",
    "$$ C \\frac{\\Delta \\overline{T_s}}{\\text{1 year}} = \\left(1-\\alpha(\\phi) \\right) ~ \\overline{Q}(\\phi) - \\left( A + B~\\overline{T_s} \\right) + \\frac{D}{\\cos⁡\\phi } \\frac{\\partial }{\\partial \\phi} \\left(   \\cos⁡\\phi  ~ \\frac{\\partial \\overline{T_s}}{\\partial \\phi} \\right) $$\n",
    "\n",
    "where $\\overline{T_s}(\\phi)$ is the annual mean surface temperature, and $\\overline{Q}(\\phi)$ is the annual mean insolation (both functions of latitude).\n",
    "\n",
    "Notice that once we average over the seasonal cycle, there are no time-dependent forcing terms. The temperature will just evolve toward a steady equilibrium."
   ]
  },
  {
   "cell_type": "markdown",
   "id": "9303be70",
   "metadata": {
    "slideshow": {
     "slide_type": "slide"
    }
   },
   "source": [
    "The equilibrium temperature is then the solution of this Ordinary Differential Equation (setting $\\Delta \\overline{T_s} = 0$ above):\n",
    "\n",
    "$$ 0 = \\left(1-\\alpha(\\phi) \\right) ~ \\overline{Q}(\\phi) - \\left( A + B~\\overline{T_s} \\right) + \\frac{D}{\\cos⁡\\phi } \\frac{d }{d \\phi} \\left(   \\cos⁡\\phi  ~ \\frac{d \\overline{T_s}}{d \\phi} \\right) $$"
   ]
  },
  {
   "cell_type": "markdown",
   "id": "d0a1d13a",
   "metadata": {
    "slideshow": {
     "slide_type": "slide"
    }
   },
   "source": [
    "You will often see this equation written in terms of the independent variable\n",
    "\n",
    "$$ x = \\sin\\phi $$\n",
    "\n",
    "which is 0 at the equator and $\\pm1$ at the poles. Substituting this for $\\phi$, noting that $dx = \\cos\\phi~ d\\phi$ and rearranging a bit gives\n",
    "\n",
    "$$  \\frac{D}{B} \\frac{d }{d x} \\left(   (1-x^2)  ~ \\frac{d \\overline{T_s}}{d x} \\right) - \\overline{T_s} = -\\frac{\\left(1-\\alpha(x) \\right) ~ \\overline{Q}(x) - A}{B}  $$"
   ]
  },
  {
   "cell_type": "markdown",
   "id": "ef2a9a19",
   "metadata": {
    "slideshow": {
     "slide_type": "slide"
    }
   },
   "source": [
    "This is actually a 2nd order ODE, and actually a 2-point Boundary Value Problem for the temperature $T(x)$, where the boundary conditions are no-flux at the boundaries (usually the poles).\n",
    "\n",
    "This form can be convenient for analytical solutions. As we will see, the non-dimensional number $D/B$ is a very important measure of the efficiency of heat transport in the climate system.  We will return to this later."
   ]
  },
  {
   "cell_type": "markdown",
   "id": "64a9793e",
   "metadata": {
    "slideshow": {
     "slide_type": "slide"
    }
   },
   "source": [
    "### Numerical solutions of the time-dependent EBM\n",
    "\n",
    "We will leave the time derivative in our model, because this is the most convenient way to find the equilibrium solution!\n",
    "\n",
    "There is code available in `climlab` to solve the diffusive EBM."
   ]
  },
  {
   "cell_type": "markdown",
   "id": "dccd3ee6",
   "metadata": {
    "slideshow": {
     "slide_type": "slide"
    }
   },
   "source": [
    "### Animating the adjustment of annual mean EBM to equilibrium\n",
    "\n",
    "Before looking at the details of how to set up an EBM in `climlab`, let's look at an animation of the adjustment of the model (its temperature and energy budget) from an **isothermal initial condition**.\n",
    "\n",
    "For reference, all the code necessary to generate the animation is here in the notebook."
   ]
  },
  {
   "cell_type": "code",
   "execution_count": null,
   "id": "ae573f97",
   "metadata": {
    "slideshow": {
     "slide_type": "skip"
    }
   },
   "outputs": [],
   "source": [
    "#  Some imports needed to make and display animations\n",
    "from IPython.display import HTML\n",
    "from matplotlib import animation\n",
    "\n",
    "def setup_figure():\n",
    "    templimits = -20,32\n",
    "    radlimits = -340, 340\n",
    "    htlimits = -6,6\n",
    "    latlimits = -90,90\n",
    "    lat_ticks = np.arange(-90,90,30)\n",
    "\n",
    "    fig, axes = plt.subplots(3,1,figsize=(8,10))\n",
    "    axes[0].set_ylabel('Temperature (deg C)')\n",
    "    axes[0].set_ylim(templimits)\n",
    "    axes[1].set_ylabel('Energy budget (W m$^{-2}$)')\n",
    "    axes[1].set_ylim(radlimits)\n",
    "    axes[2].set_ylabel('Heat transport (PW)')\n",
    "    axes[2].set_ylim(htlimits)\n",
    "    axes[2].set_xlabel('Latitude')\n",
    "    for ax in axes: ax.set_xlim(latlimits); ax.set_xticks(lat_ticks); ax.grid()\n",
    "    fig.suptitle('Diffusive energy balance model with annual-mean insolation', fontsize=14)\n",
    "    return fig, axes\n",
    "\n",
    "def initial_figure(model):\n",
    "    #  Make figure and axes\n",
    "    fig, axes = setup_figure()\n",
    "    # plot initial data\n",
    "    lines = []\n",
    "    lines.append(axes[0].plot(model.lat, model.Ts)[0])\n",
    "    lines.append(axes[1].plot(model.lat, model.ASR, 'k--', label='SW')[0])\n",
    "    lines.append(axes[1].plot(model.lat, -model.OLR, 'r--', label='LW')[0])\n",
    "    lines.append(axes[1].plot(model.lat, model.net_radiation, 'c-', label='net rad')[0])\n",
    "    lines.append(axes[1].plot(model.lat, model.heat_transport_convergence, 'g--', label='dyn')[0])\n",
    "    lines.append(axes[1].plot(model.lat, \n",
    "            model.net_radiation+model.heat_transport_convergence, 'b-', label='total')[0])\n",
    "    axes[1].legend(loc='upper right')\n",
    "    lines.append(axes[2].plot(model.lat_bounds, model.heat_transport)[0])\n",
    "    lines.append(axes[0].text(60, 25, 'Day 0'))\n",
    "    return fig, axes, lines\n",
    "\n",
    "def animate(day, model, lines):\n",
    "    model.step_forward()\n",
    "    #  The rest of this is just updating the plot\n",
    "    lines[0].set_ydata(model.Ts)\n",
    "    lines[1].set_ydata(model.ASR)\n",
    "    lines[2].set_ydata(-model.OLR)\n",
    "    lines[3].set_ydata(model.net_radiation)\n",
    "    lines[4].set_ydata(model.heat_transport_convergence)\n",
    "    lines[5].set_ydata(model.net_radiation+model.heat_transport_convergence)\n",
    "    lines[6].set_ydata(model.heat_transport)\n",
    "    lines[-1].set_text('Day {}'.format(int(model.time['days_elapsed'])))\n",
    "    return lines   "
   ]
  },
  {
   "cell_type": "code",
   "execution_count": null,
   "id": "e7ed3bbf",
   "metadata": {
    "slideshow": {
     "slide_type": "skip"
    }
   },
   "outputs": [],
   "source": [
    "#  A model starting from isothermal initial conditions\n",
    "e = climlab.EBM_annual()\n",
    "e.Ts[:] = 15.  # in degrees Celsius\n",
    "e.compute_diagnostics()"
   ]
  },
  {
   "cell_type": "code",
   "execution_count": null,
   "id": "500aa7bc",
   "metadata": {
    "slideshow": {
     "slide_type": "slide"
    }
   },
   "outputs": [],
   "source": [
    "#  Plot initial data\n",
    "fig, axes, lines = initial_figure(e)"
   ]
  },
  {
   "cell_type": "code",
   "execution_count": null,
   "id": "b438290c",
   "metadata": {
    "slideshow": {
     "slide_type": "skip"
    }
   },
   "outputs": [],
   "source": [
    "ani = animation.FuncAnimation(fig, animate, frames=np.arange(1, 100), fargs=(e, lines))"
   ]
  },
  {
   "cell_type": "code",
   "execution_count": null,
   "id": "7727b683",
   "metadata": {
    "slideshow": {
     "slide_type": "slide"
    }
   },
   "outputs": [],
   "source": [
    "HTML(ani.to_html5_video())"
   ]
  },
  {
   "cell_type": "markdown",
   "id": "04e98712",
   "metadata": {},
   "source": [
    "This animation lets us visualize the competition between the **radiation** which is trying to warm the tropics and cool the poles, and the **dynamics** which is doing the opposite. \n",
    "\n",
    "This is very much analogous to the competition between radiation and convection we saw in [our study of radiative-convective equilibrium](https://brian-rose.github.io/ClimateLaboratoryBook/courseware/rce.html#Adjustment-from-isothermal-initial-conditions) in a single vertical column."
   ]
  },
  {
   "cell_type": "markdown",
   "id": "be07d9a7",
   "metadata": {
    "slideshow": {
     "slide_type": "slide"
    }
   },
   "source": [
    "###  Example EBM using climlab\n",
    "\n",
    "Here is a simple example using the parameter values we just discussed.\n",
    "\n",
    "For simplicity, this model will use the **annual mean insolation**, so the forcing is steady in time.\n",
    "\n",
    "We haven't yet selected an appropriate value for the diffusivity $D$. Let's just try something and see what happens:"
   ]
  },
  {
   "cell_type": "code",
   "execution_count": null,
   "id": "123b7c52",
   "metadata": {
    "slideshow": {
     "slide_type": "slide"
    }
   },
   "outputs": [],
   "source": [
    "D = 0.1\n",
    "model = climlab.EBM_annual(name='EBM', A=210, B=2, D=D, a0=0.354, a2=0.25)\n",
    "print(model)"
   ]
  },
  {
   "cell_type": "code",
   "execution_count": null,
   "id": "1f79ddd4",
   "metadata": {
    "slideshow": {
     "slide_type": "slide"
    }
   },
   "outputs": [],
   "source": [
    "# The model object stores a dictionary of important parameters\n",
    "model.param"
   ]
  },
  {
   "cell_type": "code",
   "execution_count": null,
   "id": "861a7835",
   "metadata": {
    "slideshow": {
     "slide_type": "slide"
    }
   },
   "outputs": [],
   "source": [
    "# Run it out long enough to reach equilibrium\n",
    "model.integrate_years(10)"
   ]
  },
  {
   "cell_type": "markdown",
   "id": "eb4d3bc1",
   "metadata": {},
   "source": [
    "### Comparison of the equilibrium climate to observations"
   ]
  },
  {
   "cell_type": "code",
   "execution_count": null,
   "id": "6f503ea7",
   "metadata": {
    "slideshow": {
     "slide_type": "slide"
    }
   },
   "outputs": [],
   "source": [
    "fig, axes = plt.subplots(1,2, figsize=(12,4))\n",
    "ax = axes[0]\n",
    "ax.plot(model.lat, model.Ts, label=('D = %0.1f' %D))\n",
    "ax.plot(lat_ncep, Ts_ncep_annual, label='obs')\n",
    "ax.set_ylabel('Temperature (degC)')\n",
    "ax = axes[1]\n",
    "energy_in = np.squeeze(model.ASR - model.OLR)\n",
    "ax.plot(model.lat, energy_in, label=('D = %0.1f' %D))\n",
    "ax.plot(lat_ncep, ASR_ncep_annual - OLR_ncep_annual, label='obs')\n",
    "ax.set_ylabel('Net downwelling radiation at TOA (W m$^{-2}$)')\n",
    "for ax in axes:\n",
    "    ax.set_xlabel('Latitude'); ax.legend(); ax.grid();"
   ]
  },
  {
   "cell_type": "code",
   "execution_count": null,
   "id": "4e422326",
   "metadata": {
    "slideshow": {
     "slide_type": "slide"
    }
   },
   "outputs": [],
   "source": [
    "def inferred_heat_transport( energy_in, lat_deg ):\n",
    "    '''Returns the inferred heat transport (in PW) by integrating the net energy imbalance from pole to pole.'''\n",
    "    from scipy import integrate\n",
    "    from climlab import constants as const\n",
    "    lat_rad = np.deg2rad( lat_deg )\n",
    "    return ( 1E-15 * 2 * np.math.pi * const.a**2 * \n",
    "            integrate.cumtrapz( np.cos(lat_rad)*energy_in,\n",
    "            x=lat_rad, initial=0. ) )"
   ]
  },
  {
   "cell_type": "code",
   "execution_count": null,
   "id": "1ca350cb",
   "metadata": {
    "slideshow": {
     "slide_type": "slide"
    }
   },
   "outputs": [],
   "source": [
    "fig, ax = plt.subplots()\n",
    "ax.plot(model.lat, inferred_heat_transport(energy_in, model.lat), label=('D = %0.1f' %D))\n",
    "ax.set_ylabel('Heat transport (PW)')\n",
    "ax.legend(); ax.grid()\n",
    "ax.set_xlabel('Latitude')"
   ]
  },
  {
   "cell_type": "markdown",
   "id": "1df9e85d",
   "metadata": {
    "slideshow": {
     "slide_type": "slide"
    }
   },
   "source": [
    "The upshot: compared to observations, this model has a **much too large equator-to-pole temperature gradient**, and **not enough poleward heat transport**!\n",
    "\n",
    "Apparently we need to **increase the diffusivity** to get a better fit."
   ]
  },
  {
   "cell_type": "markdown",
   "id": "1516f71a",
   "metadata": {
    "slideshow": {
     "slide_type": "slide"
    }
   },
   "source": [
    "____________\n",
    "\n",
    "## 8. Effects of diffusivity in the annual mean EBM\n",
    "____________"
   ]
  },
  {
   "cell_type": "markdown",
   "id": "77d20f70",
   "metadata": {},
   "source": [
    "### What is the optimal value for $D$?\n",
    "\n",
    "We want to choose a value of $D$ that gives a reasonable approximation to observations:\n",
    "\n",
    "- $\\Delta T \\approx 45$ ºC between equator and pole\n",
    "- $\\mathcal{H}_{max} \\approx 5.5$ PW (peak heat transport)"
   ]
  },
  {
   "cell_type": "markdown",
   "id": "521bf288",
   "metadata": {},
   "source": [
    "I can do some trial and error. For no particular reason, let's start with $D = 1$ W m$^{-2}$ ºC$^{-1}$, and see how close we get to these targets."
   ]
  },
  {
   "cell_type": "code",
   "execution_count": null,
   "id": "17ce39df",
   "metadata": {},
   "outputs": [],
   "source": [
    "ebm = climlab.EBM_annual(num_lat=40, A=210, B=2, a0=0.354, a2=0.25, D=1.)\n",
    "ebm.integrate_years(20.)"
   ]
  },
  {
   "cell_type": "markdown",
   "id": "a830a5e8",
   "metadata": {},
   "source": [
    "Note that we have an array of 40 surface temperature values on our latitude grid:"
   ]
  },
  {
   "cell_type": "code",
   "execution_count": null,
   "id": "48203c54",
   "metadata": {},
   "outputs": [],
   "source": [
    "# I can always look at the model variables as xarray objects if it's helpful\n",
    "climlab.to_xarray(ebm.Ts)"
   ]
  },
  {
   "cell_type": "markdown",
   "id": "7f7943a4",
   "metadata": {},
   "source": [
    "I can calculate the equator-to-pole temperature difference just by looking for the largest and smallest values:"
   ]
  },
  {
   "cell_type": "code",
   "execution_count": null,
   "id": "658161d3",
   "metadata": {},
   "outputs": [],
   "source": [
    "deltaT = np.max(ebm.Ts) - np.min(ebm.Ts)\n",
    "print(deltaT)"
   ]
  },
  {
   "cell_type": "markdown",
   "id": "c7f58383",
   "metadata": {},
   "source": [
    "And the heat transport is a diagnostic calculated by the model:"
   ]
  },
  {
   "cell_type": "code",
   "execution_count": null,
   "id": "3c59fae8",
   "metadata": {},
   "outputs": [],
   "source": [
    "# the poleward heat transport in PW\n",
    "ebm.heat_transport"
   ]
  },
  {
   "cell_type": "markdown",
   "id": "d17008a3",
   "metadata": {},
   "source": [
    "I am mostly interested in finding its peak value:"
   ]
  },
  {
   "cell_type": "code",
   "execution_count": null,
   "id": "22d67b08",
   "metadata": {},
   "outputs": [],
   "source": [
    "np.max(ebm.heat_transport)"
   ]
  },
  {
   "cell_type": "markdown",
   "id": "1d0dfa48",
   "metadata": {},
   "source": [
    "So... for a diffusivity parameter $D = 1$ W m$^{-2}$ ºC$^{-1}$ I get the following results:\n",
    "\n",
    "- $\\Delta T = 32.8 ^\\circ$C\n",
    "- $\\mathcal{H}_{max} = 6.64$ PW\n",
    "\n",
    "Comparing to our observational targets, this is too much heat transport and too small temperature gradient!"
   ]
  },
  {
   "cell_type": "markdown",
   "id": "cb188267",
   "metadata": {},
   "source": [
    "### Class exercise: crowd-sourcing the optical value for $D$\n",
    "\n",
    "Repeat these calculations with some different values of $D$. We'll crowd-source the optimal value that best matches our observational targets."
   ]
  },
  {
   "cell_type": "code",
   "execution_count": null,
   "id": "53b595c2",
   "metadata": {},
   "outputs": [],
   "source": []
  },
  {
   "cell_type": "markdown",
   "id": "c4d8c1f2",
   "metadata": {},
   "source": [
    "### Tabulate our crowd-sourced results!\n",
    "\n",
    "The [pandas package](https://pandas.pydata.org/pandas-docs/stable/getting_started/10min.html) is very very useful for working with spreadsheet-style data in Python."
   ]
  },
  {
   "cell_type": "code",
   "execution_count": null,
   "id": "f1a54758",
   "metadata": {},
   "outputs": [],
   "source": [
    "import pandas as pd\n",
    "\n",
    "classdata = pd.DataFrame([\n",
    "              [1., 32.8, 6.64],  \n",
    "              # add more datasets in the same order: D, T, H\n",
    "              #[, ,],\n",
    "             ], \n",
    "            columns=['$D$', '$\\Delta T$', '$\\mathcal{H}_{max}$'])\n",
    "classdata"
   ]
  },
  {
   "cell_type": "markdown",
   "id": "bd989540",
   "metadata": {},
   "source": [
    "Now we can do fun things like make a scatterplot of the data. The `pd.DataFrame` object lets us make use of the labels in our dataset to make the code simpler and easier to read:"
   ]
  },
  {
   "cell_type": "code",
   "execution_count": null,
   "id": "d18b18a5",
   "metadata": {},
   "outputs": [],
   "source": [
    "fig, axes = plt.subplots(2,1)\n",
    "classdata.plot.scatter(x='$D$', y='$\\Delta T$', ax=axes[0])\n",
    "classdata.plot.scatter(x='$D$', y='$\\mathcal{H}_{max}$', ax=axes[1])"
   ]
  },
  {
   "cell_type": "markdown",
   "id": "9bd8c71a",
   "metadata": {},
   "source": [
    "Is it starting to become clear what value we should choose?"
   ]
  },
  {
   "cell_type": "markdown",
   "id": "947636c2",
   "metadata": {
    "slideshow": {
     "slide_type": "slide"
    }
   },
   "source": [
    "### A more systematic search\n",
    "\n",
    "**Do this as in-class investigation for a more advanced exercise**\n",
    "\n",
    "- Solve the annual-mean EBM (integrate out to equilibrium) over a range of different diffusivity parameters.\n",
    "- Make three plots:\n",
    "    - Global-mean temperature as a function of $D$\n",
    "    - Equator-to-pole temperature difference $\\Delta T$ as a function of $D$\n",
    "    - Maximum poleward heat transport $\\mathcal{H}_{max}$ as a function of $D$\n",
    "- Choose a value of $D$ that gives a reasonable approximation to observations:\n",
    "    - $\\Delta T \\approx 45$ ºC\n",
    "    - $\\mathcal{H}_{max} \\approx 5.5$ PW"
   ]
  },
  {
   "cell_type": "code",
   "execution_count": null,
   "id": "9bfee884",
   "metadata": {},
   "outputs": [],
   "source": []
  },
  {
   "cell_type": "markdown",
   "id": "3f8c2f71",
   "metadata": {
    "slideshow": {
     "slide_type": "slide"
    }
   },
   "source": [
    "#### One possible way to do this:"
   ]
  },
  {
   "cell_type": "code",
   "execution_count": null,
   "id": "d8a004ce",
   "metadata": {
    "slideshow": {
     "slide_type": "slide"
    }
   },
   "outputs": [],
   "source": []
  },
  {
   "cell_type": "code",
   "execution_count": null,
   "id": "59b45037",
   "metadata": {
    "slideshow": {
     "slide_type": "slide"
    }
   },
   "outputs": [],
   "source": [
    "Darray = np.arange(0., 2.05, 0.05)\n",
    "\n",
    "model_list = []\n",
    "Tmean_list = []\n",
    "deltaT_list = []\n",
    "Hmax_list = []\n",
    "\n",
    "for D in Darray:\n",
    "    ebm = climlab.EBM_annual(A=210, B=2, a0=0.354, a2=0.25, D=D)\n",
    "    ebm.integrate_years(20., verbose=False)\n",
    "    Tmean = ebm.global_mean_temperature()\n",
    "    deltaT = np.max(ebm.Ts) - np.min(ebm.Ts)\n",
    "    energy_in = np.squeeze(ebm.ASR - ebm.OLR)\n",
    "    Htrans = ebm.heat_transport\n",
    "    Hmax = np.max(Htrans)\n",
    "    model_list.append(ebm)\n",
    "    Tmean_list.append(Tmean)\n",
    "    deltaT_list.append(deltaT)\n",
    "    Hmax_list.append(Hmax)"
   ]
  },
  {
   "cell_type": "code",
   "execution_count": null,
   "id": "8f8f35a5",
   "metadata": {
    "slideshow": {
     "slide_type": "skip"
    }
   },
   "outputs": [],
   "source": [
    "color1 = 'b'\n",
    "color2 = 'r'\n",
    "\n",
    "fig = plt.figure(figsize=(8,6))\n",
    "ax1 = fig.add_subplot(111)\n",
    "ax1.plot(Darray, deltaT_list, color=color1)\n",
    "ax1.plot(Darray, Tmean_list, 'b--')\n",
    "ax1.set_xlabel('D (W m$^{-2}$ K$^{-1}$)', fontsize=14)\n",
    "ax1.set_xticks(np.arange(Darray[0], Darray[-1], 0.2))\n",
    "ax1.set_ylabel('$\\Delta T$ (equator to pole)', fontsize=14,  color=color1)\n",
    "for tl in ax1.get_yticklabels():\n",
    "    tl.set_color(color1)\n",
    "ax2 = ax1.twinx()\n",
    "ax2.plot(Darray, Hmax_list, color=color2)\n",
    "ax2.set_ylabel('Maximum poleward heat transport (PW)', fontsize=14, color=color2)\n",
    "for tl in ax2.get_yticklabels():\n",
    "    tl.set_color(color2)\n",
    "ax1.set_title('Effect of diffusivity on temperature gradient and heat transport in the EBM', fontsize=16)\n",
    "ax1.grid()\n",
    "\n",
    "ax1.plot([0.6, 0.6], [0, 140], 'k-');"
   ]
  },
  {
   "cell_type": "markdown",
   "id": "f2bb9084",
   "metadata": {
    "slideshow": {
     "slide_type": "slide"
    }
   },
   "source": [
    "When $D=0$, every latitude is in radiative equilibrium and the heat transport is zero. As we have already seen, this gives an equator-to-pole temperature gradient much too high.\n",
    "\n",
    "When $D$ is **large**, the model is very efficient at moving heat poleward. The heat transport is large and the temperture gradient is weak.\n",
    "\n",
    "The real climate seems to lie in a sweet spot in between these limits.\n",
    "\n",
    "It looks like our fitting criteria are met reasonably well with $D=0.6$ W m$^{-2}$ K$^{-1}$"
   ]
  },
  {
   "cell_type": "markdown",
   "id": "8fb97058",
   "metadata": {
    "slideshow": {
     "slide_type": "slide"
    }
   },
   "source": [
    "Also, note that the **global mean temperature** (plotted in dashed blue) is completely insensitive to $D$. Why do you think this is so?"
   ]
  },
  {
   "cell_type": "markdown",
   "id": "4aaa3a6a",
   "metadata": {
    "slideshow": {
     "slide_type": "slide"
    }
   },
   "source": [
    "____________\n",
    "\n",
    "## 9. Summary: parameter values in the diffusive EBM\n",
    "____________"
   ]
  },
  {
   "cell_type": "markdown",
   "id": "3daeb57a",
   "metadata": {
    "slideshow": {
     "slide_type": "slide"
    }
   },
   "source": [
    "Our model is defined by the following equation\n",
    "\n",
    "$$ C \\frac{\\partial T_s}{\\partial t} = (1-\\alpha) ~ Q - \\left( A + B~T_s \\right) + \\frac{D}{\\cos⁡\\phi } \\frac{\\partial }{\\partial \\phi} \\left(   \\cos⁡\\phi  ~ \\frac{\\partial T_s}{\\partial \\phi} \\right) $$\n",
    "\n",
    "with the albedo given by\n",
    "\n",
    "$$ \\alpha(\\phi) = \\alpha_0 + \\alpha_2 P_2(\\sin\\phi) $$"
   ]
  },
  {
   "cell_type": "markdown",
   "id": "3e38e798",
   "metadata": {
    "slideshow": {
     "slide_type": "slide"
    }
   },
   "source": [
    "We have chosen the following parameter values, which seems to give a reasonable fit to the observed **annual mean temperature and energy budget**:\n",
    "\n",
    "- $ A = 210 ~ \\text{W m}^{-2}$\n",
    "- $ B = 2 ~ \\text{W m}^{-2}~^\\circ\\text{C}^{-1} $\n",
    "- $ a_0 = 0.354$\n",
    "- $ a_2 = 0.25$\n",
    "- $ D = 0.6 ~ \\text{W m}^{-2}~^\\circ\\text{C}^{-1} $"
   ]
  },
  {
   "cell_type": "markdown",
   "id": "5ce3ca61",
   "metadata": {
    "slideshow": {
     "slide_type": "slide"
    }
   },
   "source": [
    "There is one parameter left to choose: the heat capacity $C$. We can't use the annual mean energy budget and temperatures to guide this choice.\n",
    "\n",
    "[Why?]\n",
    "\n",
    "We will instead look at seasonally varying models in the next set of notes."
   ]
  },
  {
   "cell_type": "markdown",
   "id": "1e1385af",
   "metadata": {
    "slideshow": {
     "slide_type": "skip"
    }
   },
   "source": [
    "____________\n",
    "\n",
    "## Credits\n",
    "\n",
    "This notebook is part of [The Climate Laboratory](https://brian-rose.github.io/ClimateLaboratoryBook), an open-source textbook developed and maintained by [Brian E. J. Rose](http://www.atmos.albany.edu/facstaff/brose/index.html), University at Albany.\n",
    "\n",
    "It is licensed for free and open consumption under the\n",
    "[Creative Commons Attribution 4.0 International (CC BY 4.0)](https://creativecommons.org/licenses/by/4.0/) license.\n",
    "\n",
    "Development of these notes and the [climlab software](https://github.com/brian-rose/climlab) is partially supported by the National Science Foundation under award AGS-1455071 to Brian Rose. Any opinions, findings, conclusions or recommendations expressed here are mine and do not necessarily reflect the views of the National Science Foundation.\n",
    "____________"
   ]
  },
  {
   "cell_type": "code",
   "execution_count": null,
   "id": "b80b8859",
   "metadata": {},
   "outputs": [],
   "source": []
  }
 ],
 "metadata": {
  "jupytext": {
   "text_representation": {
    "extension": ".md",
    "format_name": "myst",
    "format_version": 0.12,
    "jupytext_version": "1.6.0"
   }
  },
  "kernelspec": {
   "display_name": "Python 3",
   "language": "python",
   "name": "python3"
  },
  "source_map": [
   14,
   20,
   24,
   32,
   36,
   42,
   48,
   54,
   63,
   69,
   77,
   85,
   96,
   103,
   113,
   121,
   127,
   135,
   141,
   147,
   155,
   163,
   172,
   180,
   193,
   200,
   210,
   222,
   242,
   260,
   275,
   288,
   298,
   302,
   314,
   320,
   331,
   338,
   346,
   352,
   360,
   364,
   368,
   378,
   384,
   390,
   406,
   413,
   419,
   434,
   443,
   459,
   471,
   475,
   481,
   497,
   507,
   513,
   527,
   554,
   561,
   569,
   577,
   588,
   594,
   606,
   619,
   629,
   641,
   647,
   659,
   663,
   670,
   676,
   690,
   696,
   706,
   712,
   720,
   728,
   787,
   798,
   807,
   815,
   821,
   827,
   837,
   847,
   856,
   863,
   867,
   886,
   901,
   913,
   919,
   926,
   935,
   939,
   942,
   946,
   949,
   953,
   956,
   960,
   963,
   967,
   969,
   978,
   984,
   986,
   992,
   1002,
   1006,
   1010,
   1014,
   1029,
   1033,
   1037,
   1045,
   1071,
   1099,
   1109,
   1113,
   1120,
   1130,
   1140,
   1148,
   1162
  ]
 },
 "nbformat": 4,
 "nbformat_minor": 5
}