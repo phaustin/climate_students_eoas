{
 "cells": [
  {
   "cell_type": "markdown",
   "id": "663a8d4d",
   "metadata": {
    "slideshow": {
     "slide_type": "slide"
    }
   },
   "source": [
    "(nb:tas-seas)=\n",
    "# Modeling the seasonal cycle of surface temperature\n",
    "\n",
    "This notebook is part of [The Climate Laboratory](https://brian-rose.github.io/ClimateLaboratoryBook) by [Brian E. J. Rose](http://www.atmos.albany.edu/facstaff/brose/index.html), University at Albany."
   ]
  },
  {
   "cell_type": "markdown",
   "id": "45f21545",
   "metadata": {
    "slideshow": {
     "slide_type": "slide"
    }
   },
   "source": [
    "____________\n",
    "<a id='section1'></a>\n",
    "\n",
    "## 1. The observed seasonal cycle from NCEP Reanalysis data\n",
    "____________"
   ]
  },
  {
   "cell_type": "markdown",
   "id": "5ba231c5",
   "metadata": {},
   "source": [
    "Look at the observed seasonal cycle in the NCEP reanalysis data.\n",
    "\n",
    "Read in the necessary data from the online server.\n",
    "\n",
    "The catalog is here: <https://psl.noaa.gov/thredds/catalog/Datasets/ncep.reanalysis.derived/catalog.html>"
   ]
  },
  {
   "cell_type": "code",
   "execution_count": null,
   "id": "ce9138b9",
   "metadata": {},
   "outputs": [],
   "source": [
    "%matplotlib inline\n",
    "import numpy as np\n",
    "import matplotlib.pyplot as plt\n",
    "import xarray as xr\n",
    "import climlab\n",
    "from climlab import constants as const\n",
    "import cartopy.crs as ccrs  # use cartopy to make some maps"
   ]
  },
  {
   "cell_type": "code",
   "execution_count": null,
   "id": "5bee3647",
   "metadata": {
    "slideshow": {
     "slide_type": "slide"
    }
   },
   "outputs": [],
   "source": [
    "## The NOAA ESRL server is shutdown! January 2019\n",
    "ncep_url = \"http://www.esrl.noaa.gov/psd/thredds/dodsC/Datasets/ncep.reanalysis.derived/\"\n",
    "ncep_Ts = xr.open_dataset(ncep_url + \"surface_gauss/skt.sfc.mon.1981-2010.ltm.nc\", decode_times=False)\n",
    "#url = \"http://apdrc.soest.hawaii.edu:80/dods/public_data/Reanalysis_Data/NCEP/NCEP/clima/\"\n",
    "#ncep_Ts = xr.open_dataset(url + 'surface_gauss/skt')\n",
    "lat_ncep = ncep_Ts.lat; lon_ncep = ncep_Ts.lon\n",
    "Ts_ncep = ncep_Ts.skt\n",
    "print( Ts_ncep.shape)"
   ]
  },
  {
   "cell_type": "markdown",
   "id": "05385bc2",
   "metadata": {
    "slideshow": {
     "slide_type": "slide"
    }
   },
   "source": [
    "Make two maps: one of annual mean surface temperature, another of the seasonal range (max minus min)."
   ]
  },
  {
   "cell_type": "code",
   "execution_count": null,
   "id": "53c2c68f",
   "metadata": {},
   "outputs": [],
   "source": [
    "maxTs = Ts_ncep.max(dim='time')\n",
    "minTs = Ts_ncep.min(dim='time')\n",
    "meanTs = Ts_ncep.mean(dim='time')"
   ]
  },
  {
   "cell_type": "code",
   "execution_count": null,
   "id": "44c5b0ce",
   "metadata": {},
   "outputs": [],
   "source": [
    "fig = plt.figure( figsize=(16,6) )\n",
    "\n",
    "ax1 = fig.add_subplot(1,2,1, projection=ccrs.Robinson())\n",
    "cax1 = ax1.pcolormesh(lon_ncep, lat_ncep, meanTs, cmap=plt.cm.seismic , transform=ccrs.PlateCarree())\n",
    "cbar1 = plt.colorbar(cax1)\n",
    "ax1.set_title('Annual mean surface temperature ($^\\circ$C)', fontsize=14 )\n",
    "\n",
    "ax2 = fig.add_subplot(1,2,2, projection=ccrs.Robinson())\n",
    "cax2 = ax2.pcolormesh(lon_ncep, lat_ncep, maxTs - minTs, transform=ccrs.PlateCarree() )\n",
    "cbar2 = plt.colorbar(cax2)\n",
    "ax2.set_title('Seasonal temperature range ($^\\circ$C)', fontsize=14)\n",
    "\n",
    "for ax in [ax1,ax2]:\n",
    "    #ax.contour( lon_cesm, lat_cesm, topo.variables['LANDFRAC'][:], [0.5], colors='k');\n",
    "    #ax.set_xlabel('Longitude', fontsize=14 ); ax.set_ylabel('Latitude', fontsize=14 )\n",
    "    ax.coastlines()"
   ]
  },
  {
   "cell_type": "markdown",
   "id": "9fc83ec4",
   "metadata": {
    "slideshow": {
     "slide_type": "slide"
    }
   },
   "source": [
    "Make a contour plot of the zonal mean temperature as a function of time"
   ]
  },
  {
   "cell_type": "code",
   "execution_count": null,
   "id": "87fe4d44",
   "metadata": {},
   "outputs": [],
   "source": [
    "Tmax = 65; Tmin = -Tmax; delT = 10\n",
    "clevels = np.arange(Tmin,Tmax+delT,delT)\n",
    "fig_zonobs, ax = plt.subplots( figsize=(10,6) )\n",
    "cax = ax.contourf(np.arange(12)+0.5, lat_ncep, \n",
    "                  Ts_ncep.mean(dim='lon').transpose(), levels=clevels, \n",
    "                  cmap=plt.cm.seismic, vmin=Tmin, vmax=Tmax)\n",
    "ax.set_xlabel('Month', fontsize=16)\n",
    "ax.set_ylabel('Latitude', fontsize=16 )\n",
    "cbar = plt.colorbar(cax)\n",
    "ax.set_title('Zonal mean surface temperature (degC)', fontsize=20)"
   ]
  },
  {
   "cell_type": "markdown",
   "id": "dc631310",
   "metadata": {
    "slideshow": {
     "slide_type": "slide"
    }
   },
   "source": [
    "____________\n",
    "<a id='section2'></a>\n",
    "\n",
    "## 2. Analytical toy model of the seasonal cycle\n",
    "____________"
   ]
  },
  {
   "cell_type": "markdown",
   "id": "110cc85f",
   "metadata": {},
   "source": [
    "What factors determine the above pattern of seasonal temperatures? How large is the winter-to-summer variation in temperature? What is its phasing relative to the seasonal variations in insolation?\n",
    "\n",
    "We will start to examine this in a very simple zero-dimensional EBM."
   ]
  },
  {
   "cell_type": "markdown",
   "id": "6b3ded4f",
   "metadata": {
    "slideshow": {
     "slide_type": "slide"
    }
   },
   "source": [
    "Suppose the seasonal cycle of insolation at a point is \n",
    "\n",
    "$$ Q = Q^* \\sin\\omega t + Q_0$$\n",
    "\n",
    "where $\\omega = 2\\pi ~ \\text{year}^{-1}$, $Q_0$ is the annual mean insolation, and $Q^*$ is the amplitude of the seasonal variations.\n",
    "\n",
    "Here $\\omega ~ t=0$ is spring equinox, $\\omega~t = \\pi/2$ is summer solstice, $\\omega~t = \\pi$ is fall equinox, and $ \\omega ~t = 3 \\pi/2$ is winter solstice."
   ]
  },
  {
   "cell_type": "markdown",
   "id": "356cc6c3",
   "metadata": {
    "slideshow": {
     "slide_type": "slide"
    }
   },
   "source": [
    "Now suppose the temperature is governed by \n",
    "\n",
    "$$ C \\frac{d T}{d t} = Q - (A + B~T) $$\n",
    "\n",
    "so that we have a simple model\n",
    "\n",
    "$$ C \\frac{d T}{d t} = Q^* \\sin\\omega t + Q_0 - (A + B~T) $$"
   ]
  },
  {
   "cell_type": "markdown",
   "id": "77e227a6",
   "metadata": {
    "slideshow": {
     "slide_type": "slide"
    }
   },
   "source": [
    "We want to ask two questions:\n",
    "\n",
    "1. **What is the amplitude of the seasonal temperature variation?**\n",
    "2. **When does the temperature maximum occur?**"
   ]
  },
  {
   "cell_type": "markdown",
   "id": "a2c3513e",
   "metadata": {
    "slideshow": {
     "slide_type": "slide"
    }
   },
   "source": [
    "We will look for an oscillating solution\n",
    "\n",
    "$$  T(t) = T_0 + T^* \\sin(\\omega t - \\Phi) $$\n",
    "\n",
    "where $\\Phi$ is an unknown phase shift and $T^*$ is the unknown amplitude of seasonal temperature variations."
   ]
  },
  {
   "cell_type": "markdown",
   "id": "9edf8f37",
   "metadata": {
    "slideshow": {
     "slide_type": "slide"
    }
   },
   "source": [
    "### The annual mean:\n",
    "\n",
    "Integrate over one year to find\n",
    "\n",
    "$$ \\overline{T} = T_0 $$\n",
    "\n",
    "$$ Q_0 = A + B ~ \\overline{T} $$\n",
    "\n",
    "so that\n",
    "\n",
    "$$T_0 = \\frac{Q_0 - A}{B} $$"
   ]
  },
  {
   "cell_type": "markdown",
   "id": "887175a0",
   "metadata": {
    "slideshow": {
     "slide_type": "slide"
    }
   },
   "source": [
    "### The seasonal problem\n",
    "\n",
    "Now we need to solve for $T^*$ and $\\Phi$.\n",
    "\n",
    "Take the derivative\n",
    "\n",
    "$$  \\frac{d T}{dt} = T^* \\omega \\cos(\\omega t - \\Phi) $$\n",
    "\n",
    "and plug into the model equation to get\n",
    "\n",
    "\\begin{align*}\n",
    "C~ T^* \\omega \\cos(\\omega t - \\Phi) &=  Q^* \\sin\\omega t + Q_0  \\\\\n",
    "                                    & - \\left( A + B~(T_0 + T^* \\sin(\\omega t - \\Phi) )\\right)\n",
    "\\end{align*}"
   ]
  },
  {
   "cell_type": "markdown",
   "id": "2adc701b",
   "metadata": {
    "slideshow": {
     "slide_type": "slide"
    }
   },
   "source": [
    "Subtracting out the annual mean leaves us with\n",
    "\n",
    "$$ C~ T^* \\omega \\cos(\\omega t - \\Phi) =  Q^* \\sin\\omega t  - B ~ T^* \\sin(\\omega t - \\Phi)  $$"
   ]
  },
  {
   "cell_type": "markdown",
   "id": "fbc817f8",
   "metadata": {
    "slideshow": {
     "slide_type": "slide"
    }
   },
   "source": [
    "### Zero heat capacity: the radiative equilibrium solution\n",
    "\n",
    "It's instructive to first look at the case with $C=0$, which means that the system is not capable of storing heat, and the temperature must always be in radiative equilibrium with the insolation."
   ]
  },
  {
   "cell_type": "markdown",
   "id": "fa8ad814",
   "metadata": {
    "slideshow": {
     "slide_type": "slide"
    }
   },
   "source": [
    "In this case we would have\n",
    "\n",
    "$$ Q^* \\sin\\omega t  = B ~ T^* \\sin(\\omega t - \\Phi)  $$\n",
    "\n",
    "which requires that the phase shift is\n",
    "\n",
    "$$ \\Phi = 0 $$\n",
    "\n",
    "and the amplitude is\n",
    "\n",
    "$$ T^* = \\frac{Q^*}{B} $$"
   ]
  },
  {
   "cell_type": "markdown",
   "id": "4b861aae",
   "metadata": {
    "slideshow": {
     "slide_type": "-"
    }
   },
   "source": [
    "With no heat capacity, there can be no phase shift!  The temperature goes up and does in lockstep with the insolation. \n",
    "As we will see, the amplitude of the temperature variations is maximum in this limit."
   ]
  },
  {
   "cell_type": "markdown",
   "id": "04e81e01",
   "metadata": {
    "slideshow": {
     "slide_type": "slide"
    }
   },
   "source": [
    "As a practical example:  at 45ºN the amplitude of the seasonal insolation cycle is about 180 W m$^{-2}$  (see the [Insolation notes](Lecture11 -- Insolation.ipynb) -- the difference between insolation at summer and winter solstice is about 360 W m$^{-2}$ which we divide by two to get the amplitude of seasonal variations).\n",
    "\n",
    "We will follow our previous EBM work and take $B = 2$ W m$^{-2}$ K$^{-1}$. This would give a seasonal temperature amplitude of 90ºC!\n",
    "\n",
    "This highlights to important role for heat capacity to buffer the seasonal variations in sunlight."
   ]
  },
  {
   "cell_type": "markdown",
   "id": "2942ae00",
   "metadata": {
    "slideshow": {
     "slide_type": "slide"
    }
   },
   "source": [
    "### Non-dimensional heat capacity parameter\n",
    "\n",
    "We can rearrange the seasonal equation to give\n",
    "\n",
    "$$ \\frac{C~\\omega}{B} \\cos(\\omega t - \\Phi) + \\sin(\\omega t - \\Phi) = \\frac{Q^*}{B~T^*} \\sin\\omega t   $$\n",
    "\n",
    "The heat capacity appears in our equation through the non-dimensional ratio\n",
    "\n",
    "$$ \\tilde{C} = \\frac{C~\\omega}{B} $$\n",
    "\n",
    "This parameter measures the efficiency of heat storage versus damping of energy anomalies through longwave radiation to space in our system."
   ]
  },
  {
   "cell_type": "markdown",
   "id": "c08162d7",
   "metadata": {
    "slideshow": {
     "slide_type": "slide"
    }
   },
   "source": [
    "We will now use trigonometric identities\n",
    "\n",
    "\\begin{align*}\n",
    "\\cos(\\omega t - \\Phi) &= \\cos\\omega t \\cos\\Phi + \\sin\\omega t \\sin\\Phi  \\\\\n",
    "\\sin(\\omega t - \\Phi) &= \\sin\\omega t \\cos\\Phi - \\cos\\omega t \\sin\\Phi\n",
    "\\end{align*}\n",
    "\n",
    "to express our equation as\n",
    "\n",
    "\\begin{align*}\n",
    "\\frac{Q^*}{B~T^*} \\sin\\omega t = &\\tilde{C} \\cos\\omega t \\cos\\Phi \\\\\n",
    "                                + &\\tilde{C} \\sin\\omega t \\sin\\Phi \\\\\n",
    "                                + &\\sin\\omega t \\cos\\Phi  \\\\\n",
    "                                - &\\cos\\omega t \\sin\\Phi\n",
    "\\end{align*}"
   ]
  },
  {
   "cell_type": "markdown",
   "id": "34f61d78",
   "metadata": {
    "slideshow": {
     "slide_type": "slide"
    }
   },
   "source": [
    "Now gathering together all terms in $\\cos\\omega t$ and $\\sin\\omega t$:\n",
    "\n",
    "$$ \\cos\\omega t \\left( \\tilde{C} \\cos\\Phi - \\sin\\Phi \\right) = \\sin\\omega t \\left( \\frac{Q^*}{B~T^*} - \\tilde{C} \\sin\\Phi - \\cos\\Phi \\right) $$"
   ]
  },
  {
   "cell_type": "markdown",
   "id": "e78636d9",
   "metadata": {
    "slideshow": {
     "slide_type": "slide"
    }
   },
   "source": [
    "### Solving for the phase shift\n",
    "\n",
    "The equation above must be true for all $t$, which means that sum of terms in each set of parentheses must be zero.\n",
    "\n",
    "We therefore have an equation for the phase shift\n",
    "\n",
    "$$ \\tilde{C} \\cos\\Phi - \\sin\\Phi = 0 $$\n",
    "\n",
    "which means that the phase shift is\n",
    "\n",
    "$$ \\Phi = \\arctan \\tilde{C} $$"
   ]
  },
  {
   "cell_type": "markdown",
   "id": "c3f39662",
   "metadata": {
    "slideshow": {
     "slide_type": "slide"
    }
   },
   "source": [
    "### Solving for the amplitude\n",
    "\n",
    "The other equation is \n",
    "\n",
    "$$ \\frac{Q^*}{B~T^*} - \\tilde{C} \\sin\\Phi - \\cos\\Phi = 0 $$\n",
    "\n",
    "or\n",
    "\n",
    "$$ \\frac{Q^*}{B~T^*} - \\cos\\Phi \\left( 1+ \\tilde{C}^2 \\right)  = 0 $$\n",
    "\n",
    "which we solve for $T^*$ to get\n",
    "\n",
    "$$ T^* = \\frac{Q^*}{B} \\frac{1}{\\left( 1+ \\tilde{C}^2 \\right) \\cos\\left(\\arctan \\tilde{C} \\right) } $$"
   ]
  },
  {
   "cell_type": "markdown",
   "id": "1247fa59",
   "metadata": {
    "slideshow": {
     "slide_type": "slide"
    }
   },
   "source": [
    "### Shallow water limit:\n",
    "\n",
    "In low heat capacity limit,\n",
    "\n",
    "$$ \\tilde{C} << 1 $$\n",
    "\n",
    "the phase shift is\n",
    "\n",
    "$$ \\Phi \\approx \\tilde{C} $$\n",
    "\n",
    "and the amplitude is\n",
    "\n",
    "$$ T^* = \\frac{Q^*}{B} \\left( 1 - \\tilde{C} \\right) $$"
   ]
  },
  {
   "cell_type": "markdown",
   "id": "5e5cbd1c",
   "metadata": {
    "slideshow": {
     "slide_type": "slide"
    }
   },
   "source": [
    "Notice that for a system with very little heat capacity, the **phase shift approaches zero** and the **amplitude approaches its maximum value** $T^* = \\frac{Q^*}{B}$.\n",
    "\n",
    "In the shallow water limit the temperature maximum will occur just slightly after the insolation maximum, and the seasonal temperature variations will be large."
   ]
  },
  {
   "cell_type": "markdown",
   "id": "6cdd4412",
   "metadata": {
    "slideshow": {
     "slide_type": "slide"
    }
   },
   "source": [
    "### Deep water limit:\n",
    "\n",
    "Suppose instead we have an infinitely large heat reservoir (e.g. very deep ocean mixed layer).\n",
    "\n",
    "In the limit $\\tilde{C} \\rightarrow \\infty$, the phase shift tends toward\n",
    "\n",
    "$$ \\Phi \\rightarrow \\frac{\\pi}{2} $$\n",
    "\n",
    "so the warming is nearly perfectly out of phase with the insolation -- peak temperature would occur at fall equinox.\n",
    "\n",
    "But the amplitude in this limit is very small!\n",
    "\n",
    "$$ T^* \\rightarrow 0 $$"
   ]
  },
  {
   "cell_type": "markdown",
   "id": "bf2607ce",
   "metadata": {
    "slideshow": {
     "slide_type": "slide"
    }
   },
   "source": [
    "### What values of $\\tilde{C}$ are realistic?\n",
    "\n",
    "We need to evaluate \n",
    "\n",
    "$$ \\tilde{C} = \\frac{C~\\omega}{B} $$\n",
    "\n",
    "for reasonable values of $C$ and $B$.\n",
    "\n",
    "$B$ is the longwave radiative feedback in our system: a measure of how efficiently a warm anomaly is radiated away to space. We have previously chosen $B = 2$ W m$^{-2}$ K$^{-1}$.\n",
    "\n",
    "$C$ is the heat capacity of the whole column, a number in J m$^{-2}$ K$^{-1}$."
   ]
  },
  {
   "cell_type": "markdown",
   "id": "244b0470",
   "metadata": {
    "slideshow": {
     "slide_type": "slide"
    }
   },
   "source": [
    "#### Heat capacity of the atmosphere\n",
    "\n",
    "Integrating from the surface to the top of the atmosphere, we can write\n",
    "\n",
    "$$ C_a = \\int_0^{p_s} c_p \\frac{dp}{g} $$\n",
    "\n",
    "where $c_p = 10^3$ J kg$^{-1}$ K$^{-1}$ is the specific heat at constant pressure for a unit mass of air, and $dp/g$ is a mass element.\n",
    "\n",
    "This gives $C_a \\approx 10^7$ J m$^{-2}$ K$^{-1}$."
   ]
  },
  {
   "cell_type": "markdown",
   "id": "cddcb376",
   "metadata": {
    "slideshow": {
     "slide_type": "slide"
    }
   },
   "source": [
    "#### Heat capacity of a water surface\n",
    "\n",
    "As we wrote [back in Lecture 2](./Lecture02 -- Solving the zero-dimensional EBM.ipynb), the heat capacity for a well-mixed column of water is\n",
    "\n",
    "$$C_w = c_w \\rho_w H_w $$\n",
    "\n",
    "where \n",
    "\n",
    "$c_w = 4 \\times 10^3$ J kg$^{-1}$ $^\\circ$C$^{-1}$ is the specific heat of water,\n",
    "\n",
    "$\\rho_w = 10^3$ kg m$^{-3}$ is the density of water, and\n",
    "\n",
    "$H_w $ is the depth of the water column\n",
    "\n",
    "**The heat capacity of the entire atmosphere is thus equivalent to 2.5 meters of water.**"
   ]
  },
  {
   "cell_type": "markdown",
   "id": "03c9e91c",
   "metadata": {
    "slideshow": {
     "slide_type": "slide"
    }
   },
   "source": [
    "#### $\\tilde{C}$ for a dry land surface\n",
    "\n",
    "A dry land surface has very little heat capacity and $C$ is actually dominated by the atmosphere. So we can take $C = C_a = 10^7$ J m$^{-2}$ K$^{-1}$ as a reasonable lower bound.\n",
    "\n",
    "So our lower bound on $\\tilde{C}$ is thus, taking $B = 2$ W m$^{-2}$ K$^{-1}$ and $\\omega = 2\\pi ~ \\text{year}^{-1} = 2 \\times 10^{-7} \\text{ s}^{-1}$:\n",
    "\n",
    "$$ \\tilde{C} = 1 $$"
   ]
  },
  {
   "cell_type": "markdown",
   "id": "f3601b01",
   "metadata": {
    "slideshow": {
     "slide_type": "slide"
    }
   },
   "source": [
    "#### $\\tilde{C}$ for a 100 meter ocean mixed layer\n",
    "\n",
    "Setting $H_w = 100$ m gives $C_w = 4 \\times 10^8$ J m$^{-2}$ K$^{-1}$. Then our non-dimensional parameter is\n",
    "\n",
    "$$ \\tilde{C} = 40 $$"
   ]
  },
  {
   "cell_type": "markdown",
   "id": "e6629e31",
   "metadata": {
    "slideshow": {
     "slide_type": "slide"
    }
   },
   "source": [
    "### The upshot: $\\tilde{C}$ is closer to the deep water limit\n",
    "\n",
    "Even for a dry land surface, $\\tilde{C}$ is not small. This means that there is always going to be a substantial phase shift in the timing of the peak temperatures, and a reduction in the seasonal amplitude."
   ]
  },
  {
   "cell_type": "markdown",
   "id": "8aacdfdf",
   "metadata": {
    "slideshow": {
     "slide_type": "slide"
    }
   },
   "source": [
    "### Plot the full solution for a range of water depths"
   ]
  },
  {
   "cell_type": "code",
   "execution_count": null,
   "id": "90ff4be0",
   "metadata": {},
   "outputs": [],
   "source": [
    "omega = 2*np.pi / const.seconds_per_year\n",
    "omega"
   ]
  },
  {
   "cell_type": "code",
   "execution_count": null,
   "id": "a287a31b",
   "metadata": {},
   "outputs": [],
   "source": [
    "B = 2.\n",
    "Hw = np.linspace(0., 100.)\n",
    "Ctilde = const.cw * const.rho_w * Hw * omega / B\n",
    "amp = 1./((Ctilde**2+1)*np.cos(np.arctan(Ctilde)))\n",
    "Phi = np.arctan(Ctilde)"
   ]
  },
  {
   "cell_type": "code",
   "execution_count": null,
   "id": "060ec1c6",
   "metadata": {
    "slideshow": {
     "slide_type": "-"
    }
   },
   "outputs": [],
   "source": [
    "color1 = 'b'\n",
    "color2 = 'r'\n",
    "\n",
    "fig = plt.figure(figsize=(8,6))\n",
    "ax1 = fig.add_subplot(111)\n",
    "ax1.plot(Hw, amp, color=color1)\n",
    "ax1.set_xlabel('water depth (m)', fontsize=14)\n",
    "ax1.set_ylabel('Seasonal amplitude ($Q^* / B$)', fontsize=14,  color=color1)\n",
    "for tl in ax1.get_yticklabels():\n",
    "    tl.set_color(color1)\n",
    "ax2 = ax1.twinx()\n",
    "ax2.plot(Hw, np.rad2deg(Phi), color=color2)\n",
    "ax2.set_ylabel('Seasonal phase shift (degrees)', fontsize=14, color=color2)\n",
    "for tl in ax2.get_yticklabels():\n",
    "    tl.set_color(color2)\n",
    "ax1.set_title('Dependence of seasonal cycle phase and amplitude on water depth', fontsize=16)\n",
    "ax1.grid()\n",
    "\n",
    "ax1.plot([2.5, 2.5], [0, 1], 'k-');"
   ]
  },
  {
   "cell_type": "markdown",
   "id": "dc3ab3b9",
   "metadata": {
    "slideshow": {
     "slide_type": "slide"
    }
   },
   "source": [
    "The blue line shows the amplitude of the seasonal cycle of temperature, expressed as a fraction of its maximum value $\\frac{Q^*}{B}$ (the value that would occur if the system had zero heat capacity so that temperatures were always in radiative equilibrium with the instantaneous insolation).\n",
    "\n",
    "The red line shows the phase lag (in degrees) of the temperature cycle relative to the insolation cycle.\n",
    "\n",
    "The vertical black line indicates 2.5 meters of water, which is the heat capacity of the atmosphere and thus our effective lower bound on total column heat capacity."
   ]
  },
  {
   "cell_type": "markdown",
   "id": "81decfab",
   "metadata": {
    "slideshow": {
     "slide_type": "slide"
    }
   },
   "source": [
    "### The seasonal phase shift\n",
    "\n",
    "Even for the driest surfaces the phase shift is about 45º and the amplitude is half of its theoretical maximum. For most wet surfaces the cycle is damped out and delayed further.\n",
    "\n",
    "Of course we are already familiar with this phase shift from our day-to-day experience. Our calendar says that summer \"begins\" at the solstice and last until the equinox."
   ]
  },
  {
   "cell_type": "code",
   "execution_count": null,
   "id": "c661e9a2",
   "metadata": {
    "slideshow": {
     "slide_type": "slide"
    }
   },
   "outputs": [],
   "source": [
    "fig, ax = plt.subplots()\n",
    "years = np.linspace(0,2)\n",
    "Harray = np.array([0., 2.5, 10., 50.])\n",
    "for Hw in Harray:\n",
    "    Ctilde = const.cw * const.rho_w * Hw * omega / B\n",
    "    Phi = np.arctan(Ctilde)\n",
    "    ax.plot(years, np.sin(2*np.pi*years - Phi)/np.cos(Phi)/(1+Ctilde**2), label=Hw)\n",
    "ax.set_xlabel('Years', fontsize=14)\n",
    "ax.set_ylabel('Seasonal amplitude ($Q^* / B$)', fontsize=14)\n",
    "ax.set_title('Solution of toy seasonal model for several different water depths', fontsize=14)\n",
    "ax.legend(); ax.grid()"
   ]
  },
  {
   "cell_type": "markdown",
   "id": "d7d5ec34",
   "metadata": {},
   "source": [
    "The blue curve in this figure is in phase with the insolation."
   ]
  },
  {
   "cell_type": "markdown",
   "id": "7f2dfc7d",
   "metadata": {
    "slideshow": {
     "slide_type": "slide"
    }
   },
   "source": [
    "____________\n",
    "<a id='section3'></a>\n",
    "\n",
    "## 3. Exploring the amplitude of the seasonal cycle with an EBM\n",
    "____________"
   ]
  },
  {
   "cell_type": "markdown",
   "id": "5666d7da",
   "metadata": {
    "slideshow": {
     "slide_type": "slide"
    }
   },
   "source": [
    "Something important is missing from this toy model: heat transport!\n",
    "\n",
    "The amplitude of the seasonal cycle of insolation increases toward the poles, but the seasonal temperature variations are partly mitigated by heat transport from lower, warmer latitudes.\n",
    "\n",
    "Our 1D diffusive EBM is the appropriate tool for exploring this further."
   ]
  },
  {
   "cell_type": "markdown",
   "id": "7938d0b4",
   "metadata": {
    "slideshow": {
     "slide_type": "slide"
    }
   },
   "source": [
    "We are looking at the 1D (zonally averaged) energy balance model with diffusive heat transport. The equation is"
   ]
  },
  {
   "cell_type": "markdown",
   "id": "5ee2bed8",
   "metadata": {},
   "source": [
    "$$ C \\frac{\\partial T_s}{\\partial t} = (1-\\alpha) ~ Q - \\left( A + B~T_s \\right) + \\frac{D}{\\cos⁡\\phi } \\frac{\\partial }{\\partial \\phi} \\left(   \\cos⁡\\phi  ~ \\frac{\\partial T_s}{\\partial \\phi} \\right) $$\n",
    "\n",
    "with the albedo given by\n",
    "\n",
    "$$ \\alpha(\\phi) = \\alpha_0 + \\alpha_2 P_2(\\sin\\phi) $$"
   ]
  },
  {
   "cell_type": "markdown",
   "id": "4d8d8a19",
   "metadata": {},
   "source": [
    "and we will use\n",
    "```\n",
    "climlab.EBM_seasonal\n",
    "``` \n",
    "to solve this model numerically."
   ]
  },
  {
   "cell_type": "markdown",
   "id": "94bce424",
   "metadata": {
    "slideshow": {
     "slide_type": "slide"
    }
   },
   "source": [
    "One handy feature of `climlab` process code: the function `integrate_years()` automatically calculates the time averaged temperature. So if we run it for exactly one year, we get the annual mean temperature (and many other diagnostics) saved in the dictionary `timeave`."
   ]
  },
  {
   "cell_type": "markdown",
   "id": "859509d1",
   "metadata": {
    "slideshow": {
     "slide_type": "slide"
    }
   },
   "source": [
    "We will look at the seasonal cycle of temperature in three different models with different heat capacities (which we express through an equivalent depth of water in meters). \n",
    "\n",
    "All other parameters will be [as chosen in Lecture 16](./Lecture16 -- Diffusive energy balance model.ipynb) (which focussed on tuning the EBM to the annual mean energy budget)."
   ]
  },
  {
   "cell_type": "code",
   "execution_count": null,
   "id": "5f5e36cd",
   "metadata": {
    "slideshow": {
     "slide_type": "slide"
    }
   },
   "outputs": [],
   "source": [
    "#  for convenience, set up a dictionary with our reference parameters\n",
    "param = {'A':210, 'B':2, 'a0':0.354, 'a2':0.25, 'D':0.6}\n",
    "param"
   ]
  },
  {
   "cell_type": "code",
   "execution_count": null,
   "id": "084dccd8",
   "metadata": {},
   "outputs": [],
   "source": [
    "#  We can pass the entire dictionary as keyword arguments using the ** notation\n",
    "model1 = climlab.EBM_seasonal(**param, name='Seasonal EBM')\n",
    "print( model1)"
   ]
  },
  {
   "cell_type": "markdown",
   "id": "c5e4878e",
   "metadata": {
    "slideshow": {
     "slide_type": "-"
    }
   },
   "source": [
    "Notice that this model has an insolation subprocess called `DailyInsolation`, rather than `AnnualMeanInsolation`. These should be fairly self-explanatory."
   ]
  },
  {
   "cell_type": "code",
   "execution_count": null,
   "id": "3cae9b12",
   "metadata": {
    "slideshow": {
     "slide_type": "slide"
    }
   },
   "outputs": [],
   "source": [
    "#  We will try three different water depths\n",
    "water_depths = np.array([2., 10., 50.])\n",
    "\n",
    "num_depths = water_depths.size\n",
    "Tann = np.empty( [model1.lat.size, num_depths] )\n",
    "models = []\n",
    "\n",
    "for n in range(num_depths):\n",
    "    ebm = climlab.EBM_seasonal(water_depth=water_depths[n], **param)\n",
    "    models.append(ebm)\n",
    "    models[n].integrate_years(20., verbose=False )\n",
    "    models[n].integrate_years(1., verbose=False)\n",
    "    Tann[:,n] = np.squeeze(models[n].timeave['Ts'])"
   ]
  },
  {
   "cell_type": "markdown",
   "id": "fe80f122",
   "metadata": {
    "slideshow": {
     "slide_type": "slide"
    }
   },
   "source": [
    "All models should have the same annual mean temperature:"
   ]
  },
  {
   "cell_type": "code",
   "execution_count": null,
   "id": "45ffa4de",
   "metadata": {},
   "outputs": [],
   "source": [
    "lat = model1.lat\n",
    "fig, ax = plt.subplots()\n",
    "ax.plot(lat, Tann)\n",
    "ax.set_xlim(-90,90)\n",
    "ax.set_xlabel('Latitude')\n",
    "ax.set_ylabel('Temperature (degC)')\n",
    "ax.set_title('Annual mean temperature in the EBM')\n",
    "ax.legend( water_depths )"
   ]
  },
  {
   "cell_type": "markdown",
   "id": "aae35508",
   "metadata": {
    "slideshow": {
     "slide_type": "slide"
    }
   },
   "source": [
    "There is no automatic function in the `climlab` code to keep track of minimum and maximum temperatures (though we might add that in the future!)\n",
    "\n",
    "Instead we'll step through one year \"by hand\" and save all the temperatures."
   ]
  },
  {
   "cell_type": "code",
   "execution_count": null,
   "id": "06cc61e0",
   "metadata": {},
   "outputs": [],
   "source": [
    "num_steps_per_year = int(model1.time['num_steps_per_year'])\n",
    "Tyear = np.empty((lat.size, num_steps_per_year, num_depths))\n",
    "for n in range(num_depths):\n",
    "    for m in range(num_steps_per_year):\n",
    "        models[n].step_forward()\n",
    "        Tyear[:,m,n] = np.squeeze(models[n].Ts)"
   ]
  },
  {
   "cell_type": "markdown",
   "id": "4e68be3c",
   "metadata": {
    "slideshow": {
     "slide_type": "slide"
    }
   },
   "source": [
    "Make a figure to compare the observed zonal mean seasonal temperature cycle to what we get from the EBM with different heat capacities:"
   ]
  },
  {
   "cell_type": "code",
   "execution_count": null,
   "id": "d9616f5f",
   "metadata": {},
   "outputs": [],
   "source": [
    "fig = plt.figure( figsize=(16,10) )\n",
    "\n",
    "ax = fig.add_subplot(2,num_depths,2)\n",
    "cax = ax.contourf(np.arange(12)+0.5, lat_ncep, \n",
    "                  Ts_ncep.mean(dim='lon').transpose(), \n",
    "                  levels=clevels, cmap=plt.cm.seismic, \n",
    "                  vmin=Tmin, vmax=Tmax)\n",
    "ax.set_xlabel('Month')\n",
    "ax.set_ylabel('Latitude')\n",
    "cbar = plt.colorbar(cax)\n",
    "ax.set_title('Zonal mean surface temperature - observed (degC)', fontsize=20)\n",
    "\n",
    "for n in range(num_depths):\n",
    "    ax = fig.add_subplot(2,num_depths,num_depths+n+1)\n",
    "    cax = ax.contourf(4*np.arange(num_steps_per_year),\n",
    "                      lat, Tyear[:,:,n], levels=clevels, \n",
    "                      cmap=plt.cm.seismic, vmin=Tmin, vmax=Tmax)\n",
    "    cbar1 = plt.colorbar(cax)\n",
    "    ax.set_title('water depth = %.0f m' %models[n].param['water_depth'], fontsize=20 )\n",
    "    ax.set_xlabel('Days of year', fontsize=14 )\n",
    "    ax.set_ylabel('Latitude', fontsize=14 )"
   ]
  },
  {
   "cell_type": "markdown",
   "id": "0001b6bf",
   "metadata": {},
   "source": [
    "Which one looks more realistic? Depends a bit on where you look. But overall, the observed seasonal cycle matches the 10 meter case best. The effective heat capacity governing the seasonal cycle of the zonal mean temperature is closer to 10 meters of water than to either 2 or 50 meters."
   ]
  },
  {
   "cell_type": "markdown",
   "id": "93007886",
   "metadata": {
    "slideshow": {
     "slide_type": "slide"
    }
   },
   "source": [
    "### Making an animation of the EBM solutions\n",
    "\n",
    "Let's animate the seasonal cycle of insolation and temperature in our models with the three different water depths"
   ]
  },
  {
   "cell_type": "code",
   "execution_count": null,
   "id": "03a45cc3",
   "metadata": {
    "slideshow": {
     "slide_type": "skip"
    }
   },
   "outputs": [],
   "source": [
    "def initial_figure(models):\n",
    "    fig, axes = plt.subplots(1,len(models), figsize=(15,4))\n",
    "    lines = []\n",
    "    for n in range(len(models)):\n",
    "        ax = axes[n]\n",
    "        c1 = 'b'\n",
    "        Tsline = ax.plot(lat, models[n].Ts, c1)[0]\n",
    "        ax.set_title('water depth = %.0f m' %models[n].param['water_depth'], fontsize=20 )\n",
    "        ax.set_xlabel('Latitude', fontsize=14 )\n",
    "        if n is 0:\n",
    "            ax.set_ylabel('Temperature', fontsize=14, color=c1 )\n",
    "        ax.set_xlim([-90,90])\n",
    "        ax.set_ylim([-60,60])\n",
    "        for tl in ax.get_yticklabels():\n",
    "            tl.set_color(c1)\n",
    "        ax.grid()\n",
    "\n",
    "        c2 = 'r'\n",
    "        ax2 = ax.twinx()\n",
    "        Qline = ax2.plot(lat, models[n].insolation, c2)[0]\n",
    "        if n is 2:\n",
    "            ax2.set_ylabel('Insolation (W m$^{-2}$)', color=c2, fontsize=14)\n",
    "        for tl in ax2.get_yticklabels():\n",
    "            tl.set_color(c2)\n",
    "        ax2.set_xlim([-90,90])\n",
    "        ax2.set_ylim([0,600])\n",
    "        lines.append([Tsline, Qline])\n",
    "    return fig, axes, lines"
   ]
  },
  {
   "cell_type": "code",
   "execution_count": null,
   "id": "dd03fd92",
   "metadata": {
    "slideshow": {
     "slide_type": "skip"
    }
   },
   "outputs": [],
   "source": [
    "def animate(step, models, lines):\n",
    "    for n, ebm in enumerate(models):\n",
    "        ebm.step_forward()\n",
    "        #  The rest of this is just updating the plot\n",
    "        lines[n][0].set_ydata(ebm.Ts)\n",
    "        lines[n][1].set_ydata(ebm.insolation)\n",
    "    return lines"
   ]
  },
  {
   "cell_type": "code",
   "execution_count": null,
   "id": "f909797d",
   "metadata": {
    "slideshow": {
     "slide_type": "skip"
    }
   },
   "outputs": [],
   "source": [
    "#  Plot initial data\n",
    "fig, axes, lines = initial_figure(models)"
   ]
  },
  {
   "cell_type": "code",
   "execution_count": null,
   "id": "7b34f5fc",
   "metadata": {
    "slideshow": {
     "slide_type": "skip"
    }
   },
   "outputs": [],
   "source": [
    "#  Some imports needed to make and display animations\n",
    "from IPython.display import HTML\n",
    "from matplotlib import animation\n",
    "\n",
    "num_steps = int(models[0].time['num_steps_per_year'])\n",
    "ani = animation.FuncAnimation(fig, animate, \n",
    "        frames=num_steps,\n",
    "        interval=80,\n",
    "        fargs=(models, lines),\n",
    "        )"
   ]
  },
  {
   "cell_type": "code",
   "execution_count": null,
   "id": "5399b330",
   "metadata": {
    "slideshow": {
     "slide_type": "slide"
    }
   },
   "outputs": [],
   "source": [
    "HTML(ani.to_html5_video())"
   ]
  },
  {
   "cell_type": "markdown",
   "id": "0bad7a68",
   "metadata": {
    "slideshow": {
     "slide_type": "slide"
    }
   },
   "source": [
    "____________\n",
    "<a id='section4'></a>\n",
    "\n",
    "## 4. The seasonal cycle for a planet with 90º obliquity\n",
    "____________"
   ]
  },
  {
   "cell_type": "markdown",
   "id": "180fe4b8",
   "metadata": {
    "slideshow": {
     "slide_type": "slide"
    }
   },
   "source": [
    "The EBM code uses our familiar `insolation.py` code to calculate insolation, and therefore it's easy to set up a model with different orbital parameters. Here is an example with **very** different orbital parameters: 90º obliquity. We looked at the distribution of insolation by latitude and season for this type of planet in the last homework."
   ]
  },
  {
   "cell_type": "code",
   "execution_count": null,
   "id": "e14b87df",
   "metadata": {},
   "outputs": [],
   "source": [
    "orb_highobl = {'ecc':0., \n",
    "               'obliquity':90., \n",
    "               'long_peri':0.}\n",
    "print( orb_highobl)\n",
    "model_highobl = climlab.EBM_seasonal(orb=orb_highobl, **param)\n",
    "print( model_highobl.param['orb'])"
   ]
  },
  {
   "cell_type": "markdown",
   "id": "1865a3be",
   "metadata": {
    "slideshow": {
     "slide_type": "slide"
    }
   },
   "source": [
    "Repeat the same procedure to calculate and store temperature throughout one year, after letting the models run out to equilibrium."
   ]
  },
  {
   "cell_type": "code",
   "execution_count": null,
   "id": "cac9c7df",
   "metadata": {},
   "outputs": [],
   "source": [
    "Tann_highobl = np.empty( [lat.size, num_depths] )\n",
    "models_highobl = []\n",
    "\n",
    "for n in range(num_depths):\n",
    "    model = climlab.EBM_seasonal(water_depth=water_depths[n], \n",
    "                                 orb=orb_highobl, \n",
    "                                 **param)\n",
    "    models_highobl.append(model)\n",
    "    models_highobl[n].integrate_years(40., verbose=False )\n",
    "    models_highobl[n].integrate_years(1., verbose=False)\n",
    "    Tann_highobl[:,n] = np.squeeze(models_highobl[n].timeave['Ts'])\n",
    "\n",
    "Tyear_highobl = np.empty([lat.size, num_steps_per_year, num_depths])\n",
    "for n in range(num_depths):\n",
    "    for m in range(num_steps_per_year):\n",
    "        models_highobl[n].step_forward()\n",
    "        Tyear_highobl[:,m,n] = np.squeeze(models_highobl[n].Ts)"
   ]
  },
  {
   "cell_type": "markdown",
   "id": "2368c42a",
   "metadata": {
    "slideshow": {
     "slide_type": "slide"
    }
   },
   "source": [
    "And plot the seasonal temperature cycle same as we did above:"
   ]
  },
  {
   "cell_type": "code",
   "execution_count": null,
   "id": "00e2bf5c",
   "metadata": {},
   "outputs": [],
   "source": [
    "fig = plt.figure( figsize=(16,5) )\n",
    "Tmax_highobl = 125; Tmin_highobl = -Tmax_highobl; delT_highobl = 10\n",
    "clevels_highobl = np.arange(Tmin_highobl, Tmax_highobl+delT_highobl, delT_highobl)\n",
    "for n in range(num_depths):\n",
    "    ax = fig.add_subplot(1,num_depths,n+1)\n",
    "    cax = ax.contourf( 4*np.arange(num_steps_per_year), lat, Tyear_highobl[:,:,n], \n",
    "        levels=clevels_highobl, cmap=plt.cm.seismic, vmin=Tmin_highobl, vmax=Tmax_highobl )\n",
    "    cbar1 = plt.colorbar(cax)\n",
    "    ax.set_title('water depth = %.0f m' %models[n].param['water_depth'], fontsize=20 )\n",
    "    ax.set_xlabel('Days of year', fontsize=14 )\n",
    "    ax.set_ylabel('Latitude', fontsize=14 )"
   ]
  },
  {
   "cell_type": "markdown",
   "id": "cc147f4b",
   "metadata": {
    "slideshow": {
     "slide_type": "slide"
    }
   },
   "source": [
    "Note that the temperature range is much larger than for the Earth-like case above (but same contour interval, 10 degC)."
   ]
  },
  {
   "cell_type": "markdown",
   "id": "f610f11b",
   "metadata": {},
   "source": [
    "Why is the temperature so uniform in the north-south direction with 50 meters of water?\n",
    "\n",
    "To see the reason, let's plot the annual mean insolation at 90º obliquity, alongside the present-day annual mean insolation:"
   ]
  },
  {
   "cell_type": "code",
   "execution_count": null,
   "id": "1ea54759",
   "metadata": {
    "slideshow": {
     "slide_type": "-"
    }
   },
   "outputs": [],
   "source": [
    "lat2 = np.linspace(-90, 90, 181)\n",
    "days = np.linspace(1.,50.)/50 * const.days_per_year\n",
    "Q_present = climlab.solar.insolation.daily_insolation( lat2, days )\n",
    "Q_highobl = climlab.solar.insolation.daily_insolation( lat2, days, orb_highobl )\n",
    "Q_present_ann = np.mean( Q_present, axis=1 )\n",
    "Q_highobl_ann = np.mean( Q_highobl, axis=1 )"
   ]
  },
  {
   "cell_type": "code",
   "execution_count": null,
   "id": "9f6ba4cd",
   "metadata": {
    "slideshow": {
     "slide_type": "slide"
    }
   },
   "outputs": [],
   "source": [
    "fig, ax = plt.subplots()\n",
    "ax.plot( lat2, Q_present_ann, label='Earth' )\n",
    "ax.plot( lat2, Q_highobl_ann, label='90deg obliquity' )\n",
    "ax.grid()\n",
    "ax.legend(loc='lower center')\n",
    "ax.set_xlabel('Latitude', fontsize=14 )\n",
    "ax.set_ylabel('W m$^{-2}$', fontsize=14 )\n",
    "ax.set_title('Annual mean insolation for two different obliquities', fontsize=16)"
   ]
  },
  {
   "cell_type": "markdown",
   "id": "c0333e23",
   "metadata": {},
   "source": [
    "Though this is a bit misleading, because our model prescribes an increase in albedo from the equator to the pole. So the absorbed shortwave gradients look even more different."
   ]
  },
  {
   "cell_type": "markdown",
   "id": "81d8b467",
   "metadata": {},
   "source": [
    "If you are interested in how ice-albedo feedback might work on a high-obliquity planet with a cold equator, then I suggest you take a look at this paper:\n",
    "\n",
    "[Rose, Cronin and Bitz (2017): Ice Caps and Ice Belts: The Effects of Obliquity on Ice−Albedo Feedback, The Astrophysical Journal 846, doi:10.3847/1538-4357/aa8306](https://iopscience.iop.org/article/10.3847/1538-4357/aa8306/meta)"
   ]
  },
  {
   "cell_type": "markdown",
   "id": "dafabaee",
   "metadata": {
    "slideshow": {
     "slide_type": "skip"
    }
   },
   "source": [
    "____________\n",
    "\n",
    "## Credits\n",
    "\n",
    "This notebook is part of [The Climate Laboratory](https://brian-rose.github.io/ClimateLaboratoryBook), an open-source textbook developed and maintained by [Brian E. J. Rose](http://www.atmos.albany.edu/facstaff/brose/index.html), University at Albany.\n",
    "\n",
    "It is licensed for free and open consumption under the\n",
    "[Creative Commons Attribution 4.0 International (CC BY 4.0)](https://creativecommons.org/licenses/by/4.0/) license.\n",
    "\n",
    "Development of these notes and the [climlab software](https://github.com/brian-rose/climlab) is partially supported by the National Science Foundation under award AGS-1455071 to Brian Rose. Any opinions, findings, conclusions or recommendations expressed here are mine and do not necessarily reflect the views of the National Science Foundation.\n",
    "____________"
   ]
  },
  {
   "cell_type": "code",
   "execution_count": null,
   "id": "a2c6c298",
   "metadata": {
    "slideshow": {
     "slide_type": "skip"
    }
   },
   "outputs": [],
   "source": []
  }
 ],
 "metadata": {
  "jupytext": {
   "text_representation": {
    "extension": ".md",
    "format_name": "myst",
    "format_version": 0.12,
    "jupytext_version": "1.6.0"
   }
  },
  "kernelspec": {
   "display_name": "Python 3",
   "language": "python",
   "name": "python3"
  },
  "source_map": [
   14,
   20,
   29,
   37,
   47,
   62,
   66,
   72,
   91,
   95,
   108,
   116,
   122,
   132,
   142,
   149,
   157,
   171,
   188,
   194,
   200,
   214,
   219,
   227,
   241,
   259,
   265,
   279,
   295,
   311,
   317,
   333,
   347,
   359,
   377,
   387,
   395,
   401,
   405,
   410,
   418,
   444,
   452,
   460,
   476,
   480,
   488,
   496,
   500,
   510,
   518,
   522,
   528,
   538,
   544,
   548,
   568,
   572,
   583,
   589,
   598,
   602,
   624,
   628,
   634,
   669,
   683,
   692,
   709,
   717,
   725,
   729,
   738,
   742,
   762,
   766,
   780,
   784,
   790,
   803,
   816,
   820,
   826,
   840
  ]
 },
 "nbformat": 4,
 "nbformat_minor": 5
}