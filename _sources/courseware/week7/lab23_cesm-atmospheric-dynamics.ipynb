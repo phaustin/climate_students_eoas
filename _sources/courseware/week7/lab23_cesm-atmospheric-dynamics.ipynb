{
 "cells": [
  {
   "cell_type": "markdown",
   "id": "0381b53a",
   "metadata": {
    "slideshow": {
     "slide_type": "slide"
    }
   },
   "source": [
    "(nb:atmdyn)=\n",
    "# Atmospheric Dynamics in the CESM\n",
    "\n",
    "This notebook is an extension of [The Climate Laboratory](https://brian-rose.github.io/ClimateLaboratoryBook) by [Brian E. J. Rose](http://www.atmos.albany.edu/facstaff/brose/index.html), University at Albany. Notebook by Rachel H. White, University of British Columbia (https://www.eoas.ubc.ca/people/rachelwhite)\n",
    "\n",
    "There are 'Discussion points' and 'Exercises' throughout these notebooks. You should come to class prepared to discuss your thoughts on the Discussion points.\n",
    "\n",
    "Learning goals:\n",
    "- Be able to analyse atmospheric dynamics in the CESM climate model data\n",
    "- Compare the CESM model to re-analysis data (best guess of observations for most atmospheric dynamics)\n",
    "\n",
    "____________\n",
    "## About the CESM\n",
    "____________\n",
    "\n",
    "### Key components of CESM:\n",
    "\n",
    "see http://www.cesm.ucar.edu/models/cesm1.2/ for more info\n",
    " \n",
    " - Atmospheric model (AGCM)\n",
    "     - Community Atmsophere Model (CAM)\n",
    " - Ocean model (OGCM)\n",
    "     - Parallel Ocean Program (POP)\n",
    " - Land surface model\n",
    "     - Community Land Model (CLM)\n",
    " - Sea ice model\n",
    "     - Community Ice CodE (CICE)\n",
    "     \n",
    "**You need to be connected to the internet to run the code in this notebook**\n",
    "\n",
    "You can browse the available data through a web interface here:\n",
    "\n",
    "http://thredds.atmos.albany.edu:8080/thredds/catalog.html\n",
    "\n",
    "Within this folder called `CESM archive`, you will find another folder called `som_input` which contains all the input files.\n",
    "\n",
    "________\n",
    "## Large-scale circulation in the CESM\n",
    "________"
   ]
  },
  {
   "cell_type": "code",
   "execution_count": null,
   "id": "6bc0217a",
   "metadata": {},
   "outputs": [],
   "source": [
    "import numpy as np\n",
    "import matplotlib.pyplot as plt\n",
    "import matplotlib\n",
    "import xarray as xr\n",
    "import scipy as sp\n",
    "from scipy import integrate\n",
    "import Ngl\n",
    "import cartopy\n",
    "import cartopy.util\n",
    "import cartopy.crs as ccrs\n",
    "\n",
    "%matplotlib inline"
   ]
  },
  {
   "cell_type": "markdown",
   "id": "99db50be",
   "metadata": {},
   "source": [
    "We can compare the CESM model results to those in the Hartmann book we are reading (see in particular chapter 6), to see how well the CESM model reproduces observed circulation"
   ]
  },
  {
   "cell_type": "code",
   "execution_count": null,
   "id": "49de1665",
   "metadata": {},
   "outputs": [],
   "source": [
    "cesm_data_path = \"http://thredds.atmos.albany.edu:8080/thredds/dodsC/CESMA/\"\n",
    "cesm_input_path = cesm_data_path + \"som_input/\""
   ]
  },
  {
   "cell_type": "markdown",
   "id": "8ac36d12",
   "metadata": {},
   "source": [
    "### Zonal mean circulation"
   ]
  },
  {
   "cell_type": "code",
   "execution_count": null,
   "id": "efdbac23",
   "metadata": {},
   "outputs": [],
   "source": [
    "#  Let's compare the zonal mean circulation\n",
    "#atmfile = xr.open_dataset( cesm_data_path + 'som_cam5/' + 'atm/hist/' + 'som_cam5.cam.h0.0030-12.nc')\n",
    "atmfile = xr.open_dataset( cesm_data_path + \"cpl_1850_f19/concatenated/cpl_1850_f19.cam.h0.nc\")\n",
    "atmfile"
   ]
  },
  {
   "cell_type": "code",
   "execution_count": null,
   "id": "8dc1bfb8",
   "metadata": {},
   "outputs": [],
   "source": [
    "# we want to take the zonal mean\n",
    "zmU = atmfile.U.mean(dim='lon')\n",
    "\n",
    "# Now we want to take seasonal means\n",
    "zmU_seas = {}\n",
    "for label,data in zmU.groupby('time.season'):\n",
    "    zmU_seas[label] = data.mean(dim='time')"
   ]
  },
  {
   "cell_type": "markdown",
   "id": "0ad9f92c",
   "metadata": {},
   "source": [
    "The groupby function (https://xarray.pydata.org/en/stable/groupby.html) is very useful for quickly separating data. Explore the output from zmU.grouby('time.season'), in order to understand what data is in zmU_seas,\n",
    "\n",
    "**Discussion point:** _Why is this not an exact seasonal climatology? (Hint: Think about weighting.)_\n",
    "\n",
    "Let's make a plot! Remember `xarray` is able to automatically generate labeled plots. This is very handy for \"quick and dirty\" investigation of the data:"
   ]
  },
  {
   "cell_type": "code",
   "execution_count": null,
   "id": "28928d36",
   "metadata": {},
   "outputs": [],
   "source": [
    "zmU_seas['DJF'].plot()"
   ]
  },
  {
   "cell_type": "markdown",
   "id": "401883d1",
   "metadata": {},
   "source": [
    "But this is not the best way to look at zonal cross-sections. For a start, the plot is upside down, as pressure decreases with height. We can make a function to create a nicer looking plot:"
   ]
  },
  {
   "cell_type": "code",
   "execution_count": null,
   "id": "c31b5de9",
   "metadata": {},
   "outputs": [],
   "source": [
    "def plot_zonal_mean(plotvar,title):\n",
    "    # We can change the size/aspect ratio of our plot\n",
    "    # Note that these change values globally, i.e. throughout your notebook\n",
    "    matplotlib.rcParams['figure.figsize']=(10,4)\n",
    "    # and change the default font size\n",
    "    matplotlib.rcParams.update({'font.size':16})\n",
    "\n",
    "    # Plot DJF and then JJA\n",
    "    for seas in ['DJF','JJA']:\n",
    "        # use contourf to plot filled contours\n",
    "        # set the contour levels to be plotted as an array from -70 to 70 at intervals of 5\n",
    "        # note that to include to top value of 70, you must select a value slightly above 70\n",
    "        plotvar[seas].plot.contourf(levels=np.arange(-70, 71,5),extend='both')\n",
    "\n",
    "        # change the y scale to be logarithmic\n",
    "        plt.yscale('log')\n",
    "        # invert the axis so it represents height, but shows pressure\n",
    "        plt.gca().invert_yaxis()\n",
    "        # set the top and bottom pressure of the plot\n",
    "        plt.ylim(1000,10)\n",
    "        # set the y axis tick labels\n",
    "        plt.gca().set_yticks([1000,500,200,100,50,20,10])\n",
    "        plt.gca().set_yticklabels(['1000','500','200','100','50','20','10'])\n",
    "\n",
    "        # add a title\n",
    "        plt.title(title + ' ' + seas + ' zonal mean zonal wind')\n",
    "        plt.show()"
   ]
  },
  {
   "cell_type": "code",
   "execution_count": null,
   "id": "10d118ee",
   "metadata": {},
   "outputs": [],
   "source": [
    "plot_zonal_mean(zmU_seas,'CESM')"
   ]
  },
  {
   "cell_type": "code",
   "execution_count": null,
   "id": "7928ae5d",
   "metadata": {},
   "outputs": [],
   "source": [
    "## Compare to a plot created from NCER re-analysis data\n",
    "ncep_url = \"http://www.esrl.noaa.gov/psd/thredds/dodsC/Datasets/ncep.reanalysis.derived/\"\n",
    "ncep_uwnd = xr.open_dataset(ncep_url + \"pressure/uwnd.mon.1981-2010.ltm.nc\")\n",
    "\n",
    "# This is already a long term mean (ltm) but we still need to calculate means for each season:\n",
    "ncep_uwnd_seas = {}\n",
    "ncep_uwnd_seas['DJF'] = ncep_uwnd.uwnd.isel(time=[0,1,11]).mean(dim='time').mean(dim='lon') # selecting months 0 (Jan), 1 (Feb), and 11 (Dec)\n",
    "ncep_uwnd_seas['JJA'] = ncep_uwnd.uwnd.isel(time=[5,6,7]).mean(dim='time').mean(dim='lon') # selecting months 5 (Jun), 6 (Jul), and 7 (Aug)\n",
    "\n",
    "plot_zonal_mean(ncep_uwnd_seas,'NCEP reanalysis')\n"
   ]
  },
  {
   "cell_type": "markdown",
   "id": "2552e93f",
   "metadata": {},
   "source": [
    "When completing model evaluation like this, it is often useful to plot both the model and the re-analysis or observations on the same plot, so you can better evaluate model biases. Even better is to plot the model bias itself, but this involves re-gridding the datasets to be on the same grid (same latitudes, longitudes and pressure levels)."
   ]
  },
  {
   "cell_type": "code",
   "execution_count": null,
   "id": "42ad4e5a",
   "metadata": {},
   "outputs": [],
   "source": [
    "def plot_zonal_mean_comp(plotvarmodel,plotvarNCEP,title):\n",
    "    # We can change the size/aspect ratio of our plot\n",
    "    # Note that these change values globally, i.e. throughout your notebook\n",
    "    matplotlib.rcParams['figure.figsize']=(10,4)\n",
    "    # and change the default font size\n",
    "    matplotlib.rcParams.update({'font.size':16})\n",
    "\n",
    "    # Plot DJF and then JJA\n",
    "    for seas in ['DJF','JJA']:\n",
    "        # use contourf to plot filled contours\n",
    "        # set the contour levels to be plotted as an array from -70 to 70 at intervals of 5\n",
    "        # note that to include to top value of 70, you must select a value slightly above 70\n",
    "        plotvarmodel[seas].plot.contourf(levels=np.arange(-70, 71,5),extend='both')\n",
    "        plotvarmodel[seas].plot.contour(levels=np.arange(-70, 71,5),extend='both',colors='lightgrey')\n",
    "\n",
    "\n",
    "        plotvarNCEP[seas].plot.contour(levels=np.arange(-70, 71,5),extend='both',colors='k')\n",
    "\n",
    "        # change the y scale to be logarithmic\n",
    "        plt.yscale('log')\n",
    "        # invert the axis so it represents height, but shows pressure\n",
    "        plt.gca().invert_yaxis()\n",
    "        # set the top and bottom pressure of the plot\n",
    "        plt.ylim(1000,10)\n",
    "        # set the y axis tick labels\n",
    "        plt.gca().set_yticks([1000,500,200,100,50,20,10])\n",
    "        plt.gca().set_yticklabels(['1000','500','200','100','50','20','10'])\n",
    "\n",
    "        # add a title\n",
    "        plt.title(title + ' ' + seas + ' zonal mean zonal wind')\n",
    "        plt.show()"
   ]
  },
  {
   "cell_type": "code",
   "execution_count": null,
   "id": "3256a4e7",
   "metadata": {},
   "outputs": [],
   "source": [
    "plot_zonal_mean_comp(zmU_seas,ncep_uwnd_seas,'CESM and NCEP')"
   ]
  },
  {
   "cell_type": "markdown",
   "id": "61c0f331",
   "metadata": {},
   "source": [
    "**Discussion point:** _Compare the model to the re-analysis \"observations\". How well does the model do? What might affect the model results - think about what we know about the experiment cpl_1850_f19 from before._\n",
    "\n",
    "**Extra exercise:** try calculating an exact seasonal mean, and compare the differences.\n",
    "\n",
    "Now let's look at the meridional mass streamfunction, as in figure 6.5 in the Hartmann book. This is a measure of the strength of the meridional overturning circulation. Meridional mass streamfunction isn't an output of the model. So we need to calculate it.\n",
    "Similar to matlab, if there is a variable you want to calculate, it is likely someone has already made a package\n",
    "that calculate it. In this case we can use a function from the TropD package: https://tropd.github.io/pytropd/index.html\n",
    "This function is shown below."
   ]
  },
  {
   "cell_type": "code",
   "execution_count": null,
   "id": "a8f3c845",
   "metadata": {},
   "outputs": [],
   "source": [
    "def TropD_Calculate_StreamFunction(V, lat, lev):\n",
    "    ''' Calculate streamfunction by integrating meridional wind from top of the atmosphere to surface\n",
    "\n",
    "      Args:\n",
    "\n",
    "        V: array of zonal-mean meridional wind with dimensions (lat, lev)\n",
    "      \n",
    "        lat: equally spaced latitude array\n",
    "\n",
    "        lev: vertical level array in hPa\n",
    "\n",
    "      Returns:\n",
    "  \n",
    "        ndarray: the streamfunction psi(lat,lev) \n",
    "    '''\n",
    "    EarthRadius = 6371220.0\n",
    "    EarthGrav = 9.80616\n",
    "    B = np.ones(np.shape(V)) \n",
    "    B = np.where(np.isnan(V),0,1) # edited RHW\n",
    "    psi = np.zeros(np.shape(V))\n",
    "\n",
    "    # RHW edit: use tile to repeat cos(lat) len(lev) times, rather than repeat and then reshape\n",
    "    COS = np.tile(np.cos(lat*np.pi/180),[len(lev),1])\n",
    "    psi = (EarthRadius/EarthGrav) * 2 * np.pi \\\n",
    "         * sp.integrate.cumtrapz(B * V * COS, lev*100, axis=0, initial=0) \n",
    "  \n",
    "    return psi"
   ]
  },
  {
   "cell_type": "code",
   "execution_count": null,
   "id": "a61f854b",
   "metadata": {},
   "outputs": [],
   "source": [
    "# We need seasonal mean, zonal mean, meridional wind\n",
    "zmV = atmfile.V.mean(dim='lon')\n",
    "\n",
    "# Now we want to take seasonal means\n",
    "zmV_seas = {}\n",
    "for label,data in zmV.groupby('time.season'):\n",
    "    zmV_seas[label] = data.mean(dim='time')\n",
    "\n",
    "# Calculate mean meridional mass streamfunction on seasonal means:\n",
    "psi_cesm={}\n",
    "for iseas in ['DJF','JJA']:\n",
    "    psi_cesm[iseas] = TropD_Calculate_StreamFunction(zmV_seas[iseas], zmV_seas[iseas].lat, zmV_seas[iseas].lev)\n",
    "\n",
    "# now add the annual mean:\n",
    "psi_cesm['ANN'] = TropD_Calculate_StreamFunction(zmV.mean(dim='time'), zmV.lat, zmV.lev)"
   ]
  },
  {
   "cell_type": "markdown",
   "id": "b79bb62a",
   "metadata": {},
   "source": [
    "The output from TropD_Calculate_StreamFunction is a numpy array, not an xarray - this is often the case for functions from downloaded packages - so we have two options:\n",
    "1. turn it into an xarray since we know the coordinate and dimensions.\n",
    "or 2. plot by hand since we're going to have to adjust the plot anyway.\n",
    " For now, here's option 2:"
   ]
  },
  {
   "cell_type": "code",
   "execution_count": null,
   "id": "af56dd90",
   "metadata": {},
   "outputs": [],
   "source": [
    "matplotlib.rcParams['figure.figsize']=(8,4)\n",
    "matplotlib.rcParams.update({'font.size':16})\n",
    "\n",
    "for iseas in ['DJF','JJA','ANN']:\n",
    "    plt.contourf(zmV.lat, zmV.lev,psi_cesm[iseas],levels = np.arange(-20E10,21E10,2E10),cmap='RdBu_r')\n",
    "    plt.contour(zmV.lat, zmV.lev,psi_cesm[iseas],levels = np.arange(-20E10,21E10,2E10),colors='lightgrey',linewidths=1)\n",
    "\n",
    "    plt.show()"
   ]
  },
  {
   "cell_type": "markdown",
   "id": "182f37b2",
   "metadata": {},
   "source": [
    "**Exercise:** _Alter this code to improve this figure. Access the NCEP v field, calculate meridional streamfunction, and add in the NCEP meridional overturning streamfunction to this plot._\n",
    "\n",
    "**Discussion point:** _How well does the model do in comparison with the observations?_\n",
    "\n",
    "For those of you interested in creating xarrays. See https://xarray.pydata.org/en/stable/data-structures.html for  more detail, and the basics are shown below:"
   ]
  },
  {
   "cell_type": "code",
   "execution_count": null,
   "id": "0c3d38e6",
   "metadata": {},
   "outputs": [],
   "source": [
    "# First let's combine the seasons into a single np array, the first dimension will be season with our\n",
    "# 3 'seasons' of interest: 'DJF','JJA','ANN'\n",
    "psi_cesm_array = np.zeros([3,len(zmV.lev),len(zmV.lat)])\n",
    "# now fill with the values: note we now need to remember what index we use for each season here - we will add this\n",
    "# information back in later, so we store it in seas_array\n",
    "index=0\n",
    "seas_array = ['DJF','JJA','ANN']\n",
    "for iseas in seas_array:\n",
    "    psi_cesm_array[index,:,:] = psi_cesm[iseas]; index+=1 # this increments index by 1\n",
    "    \n",
    "psi_cesm_xr = xr.DataArray(psi_cesm_array,\n",
    "                          dims=['time','lev','lat'],\n",
    "                          coords={'time':seas_array,'lev':zmV.lev,'lat':zmV.lat})"
   ]
  },
  {
   "cell_type": "markdown",
   "id": "390a573e",
   "metadata": {},
   "source": [
    "**Exercise:** _Alter the code below to check this dataarray gives the same results as before._"
   ]
  },
  {
   "cell_type": "code",
   "execution_count": null,
   "id": "6363d548",
   "metadata": {},
   "outputs": [],
   "source": [
    "# Check this dataarray gives the same results as before\n",
    "psi_cesm_xr.sel(time='ANN').plot.contour()"
   ]
  },
  {
   "cell_type": "markdown",
   "id": "b1e143bf",
   "metadata": {},
   "source": [
    "### Eddy transport in CESM\n",
    "\n",
    "Moving away from zonal means, we can look at eddy transports. We can calculate the total vT from the model output:"
   ]
  },
  {
   "cell_type": "code",
   "execution_count": null,
   "id": "c2606214",
   "metadata": {},
   "outputs": [],
   "source": [
    "vT = (atmfile.V * atmfile.T).mean(dim='lon')\n",
    "\n",
    "# estimate the seasonal climatology\n",
    "zmVT_seas = {}\n",
    "zmV_seas = {}\n",
    "zmT_seas = {}\n",
    "\n",
    "for label,data in vT.groupby('time.season'):\n",
    "    zmVT_seas[label] = data.mean(dim='time')\n",
    "\n",
    "for label,data in atmfile.V.groupby('time.season'):\n",
    "    zmV_seas[label] = data.mean(dim='time')\n",
    "\n",
    "for label,data in atmfile.T.groupby('time.season'):\n",
    "    zmT_seas[label] = data.mean(dim='time')"
   ]
  },
  {
   "cell_type": "markdown",
   "id": "4326e8fd",
   "metadata": {},
   "source": [
    "**Exercise:** Now calculate and plot v*T* + v'T' as per equation 6.13 (Hartmann) to compare with figure 6.9 (Hartmann)."
   ]
  },
  {
   "cell_type": "code",
   "execution_count": null,
   "id": "fa587603",
   "metadata": {},
   "outputs": [],
   "source": []
  },
  {
   "cell_type": "markdown",
   "id": "7392272d",
   "metadata": {},
   "source": [
    "**Discussion point:** _How does the CESM model eddy transport compare to the \"observed\" values shown in Fig. 6.9? Think about the time resolution of the CESM model output (you may need to print/explore atmfields to remind yourself of this), and why this method of calculating vT could underestimate meridional heat transport._\n",
    "\n",
    "Models such as CESM actually have variables such as $\\overline{vT}$ as an output. This is an average over each timestep of vT and therefore provides a more accurate estimate of true vT than calculating it \"offline\" (i.e. after the model has run) without having to output variables on every timestep, which would take up too much space.\n",
    "\n",
    "**Exercise** _Find the vT field in atmfile, and then calculate and plot v'T' + v*T* using vT directly from the model. Compare to the observations and our previous plot._"
   ]
  },
  {
   "cell_type": "code",
   "execution_count": null,
   "id": "e6309b3c",
   "metadata": {},
   "outputs": [],
   "source": []
  },
  {
   "cell_type": "markdown",
   "id": "3120a178",
   "metadata": {},
   "source": [
    "**Exercise** _Explore the model and plot some other meridional transports, comparing the model calculated values with those calcualted offline_"
   ]
  },
  {
   "cell_type": "code",
   "execution_count": null,
   "id": "80107629",
   "metadata": {},
   "outputs": [],
   "source": []
  },
  {
   "cell_type": "markdown",
   "id": "d2332192",
   "metadata": {},
   "source": [
    "### Vertical levels\n",
    "\n",
    "Look at the y-axis in our first plot of zonal mean zonal wind. Notice that the variable is not 'pressure', it's 'hybrid level at midpoints'. If you explore the dimension 'lev' in atmfile you find the units are 'level' and the standard name is: 'atmosphere_hybrid_sigma_pressure_coordinate'.  The CESM model default outputs are on model levels, which are not isobaric surfaces. This version of the CESM uses what's known as a hybrid vertical co-ordinate: near the surface, the levels follow the terrain, often known as a 'sigma' co-ordinate; this makes calculation of the dynamics near the surface simpler. At the top of the model, the levels are isobaric surfaces; in between they are a hybrid, or \"sigma-pressure'. This is illustrated in the schematic below.\n",
    "\n",
    "<img src='../../images/Fig_hyb_coord.jpg'>\n",
    "\n",
    "> Figure | The hybrid sigma-pressure co-ordinates in this version of the CESM model.\n",
    "\n",
    "For more accurate plotting we need to convert the data from these model co-ordinates onto pressure levels, by using the identity p(t,k,j,i) = a(k)*p0 + b(k)*ps(t,j,i), where a and b are parameters (functions of level only). Handily NCAR (the developers of the CESM model) have built functions to do this for us, originally in NCL (the NCAR Command Language) and now in python (https://www.pyngl.ucar.edu/Functions/Ngl.vinth2p.shtml).\n",
    "\n",
    "This can take quite some time to run, particularly if you want to convert monthly or daily data onto pressure levels. Ideally this should be written as a separate function and run outside of your notebooks, but we will do this once here as an example."
   ]
  },
  {
   "cell_type": "code",
   "execution_count": null,
   "id": "0bb04622",
   "metadata": {},
   "outputs": [],
   "source": [
    "# the parameters hyam and hybm are parameters used to calculate the pressure from the level value\n",
    "hyam = atmfile['hyam']\n",
    "hybm = atmfile['hybm']\n",
    "T    = atmfile['T'].mean(dim='time')\n",
    "psfc = atmfile['PS'].mean(dim='time')\n",
    "U = atmfile['U'].mean(dim='time')\n",
    "p0mb = atmfile['P0']/100.0\n",
    "\n",
    "# Selection of the pressure levels you would like the data on \n",
    "# if you are plotting with log pressure as the vertical coodinate it is good to space yourlevels to be at least \n",
    "# approximately equally space in log-pressure coordinates.\n",
    "pnew = [1000.,850.,700.,600.,500.,400.,300.,250.,200.,150.,100.,70.,50.,30.,20.,10.,5.]\n",
    "\n",
    "Upres = Ngl.vinth2p(U, hyam, hybm, pnew, psfc, 1, p0mb, 1, False)\n",
    "# This has set values below the surface to 1E30. We want these to be nan:\n",
    "Upres = np.where(Upres>=1E30,np.nan,Upres)\n",
    "\n",
    "# Create xarray from this numpy ndarray:\n",
    "Upres_xr = xr.DataArray(Upres,\n",
    "                          dims=['plev','lat','lon'],\n",
    "                          coords={'plev':pnew,'lat':U.lat,'lon':U.lon})"
   ]
  },
  {
   "cell_type": "code",
   "execution_count": null,
   "id": "8c808df4",
   "metadata": {},
   "outputs": [],
   "source": [
    "# Now compare this to the annual mean on hybrid levels\n",
    "U.mean(dim='lon').plot.contourf(levels=np.arange(-70, 71,5),extend='both')\n",
    "# Add in black contours, also at 5m/s intervals. Note plot.contour automatically plots\n",
    "# negative contours as dashed\n",
    "U.mean(dim='lon').plot.contour(levels=np.arange(-70, 70,5),extend='both',colors='k')\n",
    "\n",
    "# change the y scale to be logarithmic\n",
    "plt.yscale('log') \n",
    "# invert the axis so it represents height, but shows pressure\n",
    "plt.gca().invert_yaxis()\n",
    "# set the top and bottom pressure of the plot\n",
    "plt.ylim(1000,10)\n",
    "# set the y axis tick labels\n",
    "plt.gca().set_yticks([1000,500,200,100,50,20,10])\n",
    "plt.gca().set_yticklabels(['1000','500','200','100','50','20','10'])\n",
    "\n",
    "# add a title\n",
    "plt.title('Annual mean zonal mean zonal wind: hybrid levels')\n",
    "plt.show()\n",
    "\n",
    "\n",
    "Upres_xr.mean(dim='lon').plot.contourf(levels=np.arange(-70, 71,5),extend='both')\n",
    "# Add in black contours, also at 5m/s intervals. Note plot.contour automatically plots\n",
    "# negative contours as dashed\n",
    "Upres_xr.mean(dim='lon').plot.contour(levels=np.arange(-70, 70,5),extend='both',colors='k')\n",
    "\n",
    "# change the y scale to be logarithmic\n",
    "plt.yscale('log') \n",
    "# invert the axis so it represents height, but shows pressure\n",
    "plt.gca().invert_yaxis()\n",
    "# set the top and bottom pressure of the plot\n",
    "plt.ylim(1000,10)\n",
    "# set the y axis tick labels\n",
    "plt.gca().set_yticks([1000,500,200,100,50,20,10])\n",
    "plt.gca().set_yticklabels(['1000','500','200','100','50','20','10'])\n",
    "\n",
    "# add a title\n",
    "plt.title('Annual mean zonal mean zonal wind: pressure levels')\n",
    "plt.show()"
   ]
  },
  {
   "cell_type": "markdown",
   "id": "582306df",
   "metadata": {},
   "source": [
    "Differences are minor, except close to the surface, as expected as this is where the model levels are least similar to pressure levels. We can now also plot maps of the winds on pressure surfaces, such as the upper-level jets.\n",
    "It is useful to define generic functions for sets of operations you will use repeatedly, e.g.:"
   ]
  },
  {
   "cell_type": "code",
   "execution_count": null,
   "id": "d8e83d39",
   "metadata": {},
   "outputs": [],
   "source": [
    "# Allow for a range of map projections\n",
    "# set directory where map data is downloaded\n",
    "cartopy.config['data_dir'] = '../data/'\n",
    "\n",
    "def set_proj(projection,nrows,ncols,n):\n",
    "    if projection == 'Ortho':\n",
    "        proj=ccrs.Orthographic(central_latitude=90)\n",
    "    elif projection == 'Mollweide':\n",
    "        proj=ccrs.Mollweide(central_longitude=0)\n",
    "    elif projection == 'NorthPole':\n",
    "        proj=ccrs.NorthPolarStereo()\n",
    "    elif projection == 'PlateCarree':\n",
    "        proj=ccrs.PlateCarree()\n",
    "    elif projection == 'Robinson':\n",
    "        proj=ccrs.Robinson()\n",
    "        \n",
    "\n",
    "    ax = plt.subplot(ncols,nrows,n,projection=proj)\n",
    "    # Draw land map\n",
    "    ax.coastlines()\n",
    "    # draw gridlines\n",
    "    gl = ax.gridlines(crs=ccrs.PlateCarree())\n",
    "\n",
    "    # Define where gridlines are for some map projections:    \n",
    "    if projection == 'PlateCarree':\n",
    "        ax.set_xticks([-180,-150,-120,-90,-60,-30,0, 30,60,90, 120,150, 180], crs=ccrs.PlateCarree())\n",
    "        ax.set_yticks([-90, -60,-30, 0, 30,60,90], crs=ccrs.PlateCarree())\n",
    "\n",
    "\n",
    "    return(ax)\n",
    "\n",
    "def plot_map(proj,toplot,levels,n,nrows,ncols,title):\n",
    "    matplotlib.rcParams['figure.figsize']=(12*ncols,6*nrows)\n",
    "    matplotlib.rcParams.update({'font.size':16})\n",
    "    \n",
    "    ax = set_proj(proj,ncols,nrows,n)\n",
    "    \n",
    "    # Add cyclic point so there isn't a gap in the data.\n",
    "    coord = 'lon'\n",
    "    try:\n",
    "        lon_idx = toplot.dims.index(coord)\n",
    "    except ValueError:\n",
    "        coord = 'longitude'\n",
    "        lon_idx = toplot.dims.index(coord)\n",
    "        \n",
    "    cyclic_data, cyclic_coord = cartopy.util.add_cyclic_point(toplot.values,\n",
    "                                                 coord=toplot.coords[coord],\n",
    "                                                 axis=lon_idx)\n",
    "    \n",
    "    cp = plt.contourf(cyclic_coord,toplot['lat'],cyclic_data,levels=levels,extend='both',\n",
    "                      transform=ccrs.PlateCarree(),cmap='RdBu_r')\n",
    "\n",
    "    # Add colorbar\n",
    "    cb = plt.colorbar(cp)\n",
    "    plt.title(title + ' ' + proj + ' projection')"
   ]
  },
  {
   "cell_type": "code",
   "execution_count": null,
   "id": "47671a91",
   "metadata": {},
   "outputs": [],
   "source": [
    "# We can plot different projections too, as subplots on one main plot\n",
    "plev=250\n",
    "\n",
    "toplot = Upres_xr.sel(plev=plev)\n",
    "\n",
    "n=1\n",
    "title = 'Annual mean zonal wind at ' + str(plev) + 'mb;'\n",
    "for projection in ['Robinson','Mollweide','Ortho','PlateCarree']:\n",
    "    plot_map(projection,toplot,np.arange(-50,51,10),n,2,2,title); n+=1                      \n",
    "\n",
    "# Add in black contours, also at 5m/s intervals. Note plot.contour automatically plots\n",
    "# negative contours as dashed\n",
    "\n",
    "# add a title\n",
    "plt.show()"
   ]
  },
  {
   "cell_type": "markdown",
   "id": "6b5ea25b",
   "metadata": {},
   "source": [
    "### Further exploration\n",
    "**Exercise:** _Explore the model data and create plots to help you understand more about the atmospheric circulation. Come to class prepared to share one of these plots and discuss what it shows you._"
   ]
  }
 ],
 "metadata": {
  "jupytext": {
   "text_representation": {
    "extension": ".md",
    "format_name": "myst",
    "format_version": 0.12,
    "jupytext_version": "1.9.1"
   }
  },
  "kernelspec": {
   "display_name": "Python 3",
   "language": "python",
   "name": "python3"
  },
  "source_map": [
   14,
   56,
   69,
   73,
   76,
   80,
   87,
   95,
   103,
   105,
   109,
   139,
   143,
   155,
   159,
   193,
   195,
   206,
   236,
   252,
   259,
   268,
   276,
   290,
   294,
   297,
   303,
   319,
   323,
   325,
   333,
   335,
   339,
   341,
   355,
   379,
   419,
   424,
   482,
   498
  ]
 },
 "nbformat": 4,
 "nbformat_minor": 5
}