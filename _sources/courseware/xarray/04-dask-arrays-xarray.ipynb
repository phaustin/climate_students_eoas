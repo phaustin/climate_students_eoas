{
 "cells": [
  {
   "cell_type": "markdown",
   "id": "c0231cc6",
   "metadata": {},
   "source": [
    "<img src=\"images/dask_horizontal.svg\" align=\"left\" width=\"30%\">"
   ]
  },
  {
   "cell_type": "markdown",
   "id": "0d107b6c",
   "metadata": {},
   "source": [
    "# Dask Arrays with Xarray\n",
    "\n",
    "Dask Array provides a parallel, larger-than-memory, n-dimensional array using blocked algorithms. Simply put: distributed Numpy.\n",
    "\n",
    "*  **Parallel**: Uses all of the cores on your computer\n",
    "*  **Larger-than-memory**:  Lets you work on datasets that are larger than your available memory by breaking up your array into many small pieces, operating on those pieces in an order that minimizes the memory footprint of your computation, and effectively streaming data from disk.\n",
    "*  **Blocked Algorithms**:  Perform large computations by performing many smaller computations\n",
    "\n",
    "This notebook demonstrates one of Xarray's most powerful features: the ability to wrap dask arrays and allow users to seamlessly execute analysis code in parallel.\n",
    "\n",
    "\n",
    "## Learning Objectives\n",
    "\n",
    "- Learn the distinction between *eager* and *lazy* execution, and how Xarray can work either way\n",
    "- Understand key features of dask arrays\n",
    "- Work with Dask Arrays in much the same way you would work with a NumPy array\n",
    "- Learn that xarray DataArrays and Datasets are \"dask collections\" i.e. you can execute top-level dask functions such as dask.visualize(xarray_object)\n",
    "- Learn that all xarray built-in operations can transparently use dask\n",
    "\n",
    "## Prerequisites\n",
    "\n",
    "\n",
    "| Concepts | Importance | Notes |\n",
    "| --- | --- | --- |\n",
    "| [Introduction to NumPy](../numpy/numpy-basics) | Necessary | Familiarity with Data Arrays |\n",
    "| [Introduction to Xarray](xarray-intro) | Necessary | Familiarity with Xarray Data Structures |\n",
    "\n",
    "\n",
    "- **Time to learn**: *30-40 minutes*"
   ]
  },
  {
   "cell_type": "markdown",
   "id": "1cd5a4a6",
   "metadata": {},
   "source": [
    "## Imports"
   ]
  },
  {
   "cell_type": "code",
   "execution_count": null,
   "id": "260e6397",
   "metadata": {},
   "outputs": [],
   "source": [
    "import dask\n",
    "import dask.array as da\n",
    "import numpy as np\n",
    "import xarray as xr\n",
    "from dask.diagnostics import ProgressBar\n",
    "from dask.utils import format_bytes\n",
    "from pythia_datasets import DATASETS"
   ]
  },
  {
   "cell_type": "markdown",
   "id": "4af97355",
   "metadata": {},
   "source": [
    "## Blocked algorithms\n",
    "\n",
    "A *blocked algorithm* executes on a large dataset by breaking it up into many small blocks.\n",
    "\n",
    "For example, consider taking the sum of a billion numbers, in a single computation. This would take a while. We might instead break up the array into 1,000 chunks, each of size 1,000,000, take the sum of each chunk, and then take the sum of the intermediate sums.\n",
    "\n",
    "We achieve the intended result (one sum on one billion numbers) by performing many smaller results (one thousand sums on one million numbers each, followed by another sum of a thousand numbers.)"
   ]
  },
  {
   "cell_type": "markdown",
   "id": "e5513ddd",
   "metadata": {},
   "source": [
    "### `dask.array` contains these algorithms\n",
    "\n",
    "`dask.array` implements a subset of the NumPy ndarray interface using blocked algorithms, cutting up the large array into many small arrays. This lets us compute on arrays larger than memory using multiple cores. Dask coordinates these blocked algorithms using Dask graphs. Dask Arrays are also **lazy**, meaning that they do not evaluate until you explicitly ask for a result using the compute method."
   ]
  },
  {
   "cell_type": "markdown",
   "id": "29163425",
   "metadata": {},
   "source": [
    "### Create a `dask.array` object\n",
    "\n",
    "If we want to create a 3D NumPy array of random values, we do it like this:"
   ]
  },
  {
   "cell_type": "code",
   "execution_count": null,
   "id": "c797c11f",
   "metadata": {
    "tags": []
   },
   "outputs": [],
   "source": [
    "shape = (600, 200, 200)\n",
    "arr = np.random.random(shape)\n",
    "arr"
   ]
  },
  {
   "cell_type": "code",
   "execution_count": null,
   "id": "4c8cdcde",
   "metadata": {},
   "outputs": [],
   "source": [
    "format_bytes(arr.nbytes)"
   ]
  },
  {
   "cell_type": "markdown",
   "id": "82e77482",
   "metadata": {},
   "source": [
    "This array contains `~183 MB` of data"
   ]
  },
  {
   "cell_type": "markdown",
   "id": "6060f961",
   "metadata": {},
   "source": [
    "Now let's create the same array using Dask's array interface."
   ]
  },
  {
   "cell_type": "code",
   "execution_count": null,
   "id": "3180fcf2",
   "metadata": {},
   "outputs": [],
   "source": [
    "darr = da.random.random(shape, chunks=(300, 100, 200))"
   ]
  },
  {
   "cell_type": "markdown",
   "id": "7195db93",
   "metadata": {},
   "source": [
    "A chunk size to tell us how to block up our array, like `(300, 100, 200)`."
   ]
  },
  {
   "cell_type": "markdown",
   "id": "497303c6",
   "metadata": {},
   "source": [
    "<div class=\"admonition alert alert-info\">\n",
    "    <p class=\"admonition-title\" style=\"font-weight:bold\">Specifying Chunks</p>\n",
    "    There are <a href=\"https://docs.dask.org/en/latest/array-chunks.html\">several ways to specify chunks</a>. In this tutorial, we will use a block shape.\n",
    "\n",
    "\n",
    "</div>"
   ]
  },
  {
   "cell_type": "code",
   "execution_count": null,
   "id": "db3566c2",
   "metadata": {},
   "outputs": [],
   "source": [
    "darr"
   ]
  },
  {
   "cell_type": "markdown",
   "id": "24037800",
   "metadata": {},
   "source": [
    "Notice that we just see a symbolic representation of the array, including its `shape`, `dtype`, and `chunksize`. No data has been generated yet. Let's visualize the constructed task graph."
   ]
  },
  {
   "cell_type": "code",
   "execution_count": null,
   "id": "65c55c94",
   "metadata": {},
   "outputs": [],
   "source": [
    "darr.visualize()"
   ]
  },
  {
   "cell_type": "markdown",
   "id": "af197ef1",
   "metadata": {},
   "source": [
    "Our array has four chunks. To generate it, Dask calls `np.random.random` four times and then concatenates this together into one array."
   ]
  },
  {
   "cell_type": "markdown",
   "id": "9f09958f",
   "metadata": {},
   "source": [
    "### Manipulate a `dask.array` object as you would a numpy array\n",
    "\n",
    "\n",
    "Now that we have an `Array` we perform standard numpy-style computations like arithmetic, mathematics, slicing, reductions, etc..\n",
    "\n",
    "The interface is familiar, but the actual work is different. `dask_array.sum()` does not do the same thing as `numpy_array.sum()`.\n",
    "\n",
    "#### What's the difference?\n",
    "\n",
    "`dask_array.sum()` builds an expression of the computation. It does not do the computation yet, also known as **lazy execution**. `numpy_array.sum()` computes the sum immediately (**eager execution**).\n",
    "\n",
    "#### Why the difference?\n",
    "\n",
    "A `dask.array` is split into chunks. Each chunk must have computations run on that chunk explicitly. If the desired answer comes from a small slice of the entire dataset, running the computation over all data would be wasteful of CPU and memory."
   ]
  },
  {
   "cell_type": "code",
   "execution_count": null,
   "id": "37b8c175",
   "metadata": {},
   "outputs": [],
   "source": [
    "total = darr.sum()\n",
    "total"
   ]
  },
  {
   "cell_type": "code",
   "execution_count": null,
   "id": "165af083",
   "metadata": {},
   "outputs": [],
   "source": [
    "total.visualize()"
   ]
  },
  {
   "cell_type": "markdown",
   "id": "af5eaffa",
   "metadata": {},
   "source": [
    "#### Compute the result\n",
    "\n",
    "`dask.array` objects are lazily evaluated.  Operations like `.sum` build up a graph of blocked tasks to execute.  \n",
    "\n",
    "We ask for the final result with a call to `.compute()`.  This triggers the actual computation."
   ]
  },
  {
   "cell_type": "code",
   "execution_count": null,
   "id": "7f7a1d11",
   "metadata": {},
   "outputs": [],
   "source": [
    "%%time\n",
    "total.compute()"
   ]
  },
  {
   "cell_type": "markdown",
   "id": "58104c98",
   "metadata": {},
   "source": [
    "### Exercise with `dask.arrays`\n",
    "Modify the chunk size (or shape) in the random dask array, call `.sum()` on the new array, and visualize how the task graph changes."
   ]
  },
  {
   "cell_type": "code",
   "execution_count": null,
   "id": "d6b690b0",
   "metadata": {},
   "outputs": [],
   "source": [
    "da.random.random(shape, chunks=(50, 200, 400)).sum().visualize()"
   ]
  },
  {
   "cell_type": "markdown",
   "id": "a97f87fb",
   "metadata": {},
   "source": [
    "Here we see Dask's strategy for finding the sum. This simple example illustrates the beauty of Dask: it automatically designs an algorithm appropriate for custom operations with big data."
   ]
  },
  {
   "cell_type": "markdown",
   "id": "893843d7",
   "metadata": {},
   "source": [
    "If we make our operation more complex, the graph gets more complex:\n",
    "\n",
    "For an example, we use an arbitrarily complex calculation."
   ]
  },
  {
   "cell_type": "code",
   "execution_count": null,
   "id": "19b60b70",
   "metadata": {},
   "outputs": [],
   "source": [
    "z = darr.dot(darr.T).mean(axis=0)[::2, :].std(axis=1)\n",
    "z"
   ]
  },
  {
   "cell_type": "code",
   "execution_count": null,
   "id": "561fc80c",
   "metadata": {},
   "outputs": [],
   "source": [
    "z.visualize()"
   ]
  },
  {
   "cell_type": "markdown",
   "id": "c6cafd42",
   "metadata": {},
   "source": [
    "### Testing a bigger calculation\n",
    "\n",
    "The examples above were toy examples; the data (180 MB) is probably not big enough to warrant the use of Dask.\n",
    "\n",
    "We can make it a lot bigger! Let's create a new, big array"
   ]
  },
  {
   "cell_type": "code",
   "execution_count": null,
   "id": "fb5cda42",
   "metadata": {},
   "outputs": [],
   "source": [
    "darr = da.random.random((4000, 100, 4000), chunks=(1000, 100, 500)).astype('float32')\n",
    "darr"
   ]
  },
  {
   "cell_type": "markdown",
   "id": "e37069e1",
   "metadata": {},
   "source": [
    "This dataset is `~6 GB`, rather than 32 MB! This is probably close to or greater than the amount of available RAM than you have in your computer. Nevertheless, Dask has no problem working on it."
   ]
  },
  {
   "cell_type": "code",
   "execution_count": null,
   "id": "1d0dc829",
   "metadata": {},
   "outputs": [],
   "source": [
    "z = (darr + darr.T)[::2, :].mean(axis=2)"
   ]
  },
  {
   "cell_type": "code",
   "execution_count": null,
   "id": "1e91d6d5",
   "metadata": {},
   "outputs": [],
   "source": [
    "z.visualize()"
   ]
  },
  {
   "cell_type": "code",
   "execution_count": null,
   "id": "65fed6f0",
   "metadata": {},
   "outputs": [],
   "source": [
    "with ProgressBar():\n",
    "    computed_ds = z.compute()"
   ]
  },
  {
   "cell_type": "markdown",
   "id": "d276dd12",
   "metadata": {},
   "source": [
    "## Dask Arrays with Xarray\n",
    "\n",
    "Often times, you won't be directly interacting with `dask.arrays` directly; odds are you will be interacting with them via [`Xarray`!](http://xarray.pydata.org/en/stable/\n",
    ") Xarray wraps NumPy arrays similar to how we showed in the previous section, helping the user jump right into the dask array interface!"
   ]
  },
  {
   "cell_type": "markdown",
   "id": "0c554243",
   "metadata": {},
   "source": [
    "### Reading data with `Dask` and `Xarray`\n",
    "\n",
    "Recall that a Dask's array consists of many chunked arrays:"
   ]
  },
  {
   "cell_type": "code",
   "execution_count": null,
   "id": "63847988",
   "metadata": {},
   "outputs": [],
   "source": [
    "darr"
   ]
  },
  {
   "cell_type": "markdown",
   "id": "694e4aca",
   "metadata": {},
   "source": [
    "To read data as Dask arrays with Xarray, we need to specify the `chunks` argument to `open_dataset()` function."
   ]
  },
  {
   "cell_type": "code",
   "execution_count": null,
   "id": "e9c599d2",
   "metadata": {},
   "outputs": [],
   "source": [
    "ds = xr.open_dataset(DATASETS.fetch('CESM2_sst_data.nc'), chunks={})\n",
    "ds.tos"
   ]
  },
  {
   "cell_type": "markdown",
   "id": "8edaa5db",
   "metadata": {},
   "source": [
    "Passing `chunks={}` to `open_dataset()` works, but since we didn't tell dask how to split up (or chunk) the array, Dask will create a single chunk for our array.\n",
    "\n",
    "The `chunks` here indicate how values should go into each chunk - for example, `chunks={'time':90}` will tell `Xarray` + `Dask` to place 90 time slices into a single chunk.\n",
    "\n",
    "Notice how `tos` (sea surface temperature) is now split in the time dimension, with two chunks (since there are a total of 180 time slices in this dataset)."
   ]
  },
  {
   "cell_type": "code",
   "execution_count": null,
   "id": "86ced04e",
   "metadata": {},
   "outputs": [],
   "source": [
    "ds = xr.open_dataset(\n",
    "    DATASETS.fetch('CESM2_sst_data.nc'),\n",
    "    engine=\"netcdf4\",\n",
    "    chunks={\"time\": 90, \"lat\": 180, \"lon\": 360},\n",
    ")\n",
    "ds.tos"
   ]
  },
  {
   "cell_type": "markdown",
   "id": "3b3047c5",
   "metadata": {},
   "source": [
    "Calling `.chunks` on the `tos` `xarray.DataArray` displays the number of slices in each dimension within each chunk, with (`time`, `lat`, `lon`). Notice how there are now **two** chunks each with 90 time slices for the time dimension."
   ]
  },
  {
   "cell_type": "code",
   "execution_count": null,
   "id": "7c2faa5d",
   "metadata": {},
   "outputs": [],
   "source": [
    "ds.tos.chunks"
   ]
  },
  {
   "cell_type": "markdown",
   "id": "1c51b812",
   "metadata": {},
   "source": [
    "### Xarray data structures are first-class dask collections\n",
    "\n",
    "This means you can call the following functions \n",
    "\n",
    "- `dask.visualize(...)`\n",
    "- `dask.compute(...)`\n",
    "\n",
    "on both `xarray.DataArray` and `xarray.Dataset` objects backed by `dask.array`.\n",
    "\n",
    "Let's visualize our dataset using Dask!"
   ]
  },
  {
   "cell_type": "code",
   "execution_count": null,
   "id": "602085d3",
   "metadata": {},
   "outputs": [],
   "source": [
    "dask.visualize(ds)"
   ]
  },
  {
   "cell_type": "markdown",
   "id": "aff856a4",
   "metadata": {},
   "source": [
    "### Parallel and lazy computation using `dask.array` with Xarray\n",
    "\n",
    "\n",
    "Xarray seamlessly wraps Dask so all computation is deferred until explicitly requested."
   ]
  },
  {
   "cell_type": "code",
   "execution_count": null,
   "id": "c9bdc89b",
   "metadata": {},
   "outputs": [],
   "source": [
    "z = ds.tos.mean(['lat', 'lon']).dot(ds.tos.T)\n",
    "z"
   ]
  },
  {
   "cell_type": "markdown",
   "id": "fc601d57",
   "metadata": {},
   "source": [
    "As you can see, `z` contains a Dask array. This is true for all Xarray built-in operations including subsetting"
   ]
  },
  {
   "cell_type": "code",
   "execution_count": null,
   "id": "22e4bf97",
   "metadata": {},
   "outputs": [],
   "source": [
    "z.isel(lat=0)"
   ]
  },
  {
   "cell_type": "markdown",
   "id": "c16805e4",
   "metadata": {},
   "source": [
    "We can visualize this subset too!"
   ]
  },
  {
   "cell_type": "code",
   "execution_count": null,
   "id": "11f35298",
   "metadata": {},
   "outputs": [],
   "source": [
    "dask.visualize(z)"
   ]
  },
  {
   "cell_type": "markdown",
   "id": "14174746",
   "metadata": {},
   "source": [
    "Now that we have prepared our calculation, we can go ahead and call `.compute()`"
   ]
  },
  {
   "cell_type": "code",
   "execution_count": null,
   "id": "a9291876",
   "metadata": {},
   "outputs": [],
   "source": [
    "with ProgressBar():\n",
    "    computed_ds = z.compute()"
   ]
  },
  {
   "cell_type": "markdown",
   "id": "2e2689eb",
   "metadata": {},
   "source": [
    "---"
   ]
  },
  {
   "cell_type": "markdown",
   "id": "e94625a4",
   "metadata": {},
   "source": [
    "## Summary\n",
    "\n",
    "We saw that we can use `Xarray` to access `dask.arrays`, which required passing a `chunks` argument to upon opening the dataset. Once the data were loaded into Xarray, we could interact with the `xarray.Datasets` and `xarray.DataArrays` as we would if we were working with `dask.arrays`. This can be a powerful tool for working with larger-than-memory datasets!\n",
    "\n",
    "### Dask Shortcomings\n",
    "\n",
    "Dask Array does not implement the entire Numpy interface.  Users expecting this\n",
    "will be disappointed.  Notably Dask Array has the following failings:\n",
    "\n",
    "1.  Dask Array does not support some operations where the resulting shape\n",
    "    depends on the values of the array. For those that it does support\n",
    "    (for example, masking one Dask Array with another boolean mask),\n",
    "    the chunk sizes will be unknown, which may cause issues with other\n",
    "    operations that need to know the chunk sizes.\n",
    "2.  Dask Array does not attempt operations like ``sort`` which are notoriously\n",
    "    difficult to do in parallel and are of somewhat diminished value on very\n",
    "    large data (you rarely actually need a full sort).\n",
    "    Often we include parallel-friendly alternatives like [``topk``](https://pytorch.org/docs/stable/generated/torch.topk.html).\n",
    "3.  Dask development is driven by immediate need, and so many lesser used\n",
    "    functions, like ``np.sometrue`` have simply not been implemented yet.  These would make excellent community contributions.\n",
    "\n",
    "## Learn More\n",
    "\n",
    "Visit the [Dask Array documentation](https://docs.dask.org/en/latest/array.html). In particular, this [array screencast](https://youtu.be/9h_61hXCDuI) will reinforce the concepts you learned here."
   ]
  },
  {
   "cell_type": "code",
   "execution_count": null,
   "id": "e76802a9",
   "metadata": {},
   "outputs": [],
   "source": [
    "from IPython.display import YouTubeVideo\n",
    "\n",
    "YouTubeVideo(id=\"9h_61hXCDuI\", width=600, height=300)"
   ]
  },
  {
   "cell_type": "markdown",
   "id": "dfe1c7d4",
   "metadata": {},
   "source": [
    "## Resources and references\n",
    "\n",
    "* Reference\n",
    "    *  [Dask Docs](https://dask.org/)\n",
    "    *  [Dask Examples](https://examples.dask.org/)\n",
    "    *  [Dask Code](https://github.com/dask/dask/)\n",
    "    *  [Dask Blog](https://blog.dask.org/)\n",
    "    \n",
    "    *  [Xarray Docs](https://xarray.pydata.org/)\n",
    "  \n",
    "*  Ask for help\n",
    "    *   [`dask`](http://stackoverflow.com/questions/tagged/dask) tag on Stack Overflow, for usage questions\n",
    "    *   [github discussions: dask](https://github.com/dask/dask/discussions) for general, non-bug, discussion, and usage questions\n",
    "    *   [github issues: dask](https://github.com/dask/dask/issues/new) for bug reports and feature requests\n",
    "     *   [github discussions: xarray](https://github.com/pydata/xarray/discussions) for general, non-bug, discussion, and usage questions\n",
    "    *   [github issues: xarray](https://github.com/pydata/xarray/issues/new) for bug reports and feature requests\n",
    "    \n",
    "* Pieces of this notebook are adapted from the following sources\n",
    "  * [Dask Array Tutorial](https://tutorial.dask.org/02_array.html)\n",
    "  * [Parallel Computing with Xarray and Dask](https://tutorial.xarray.dev/intermediate/xarray_and_dask.html)"
   ]
  },
  {
   "cell_type": "code",
   "execution_count": null,
   "id": "3bd2cb62",
   "metadata": {},
   "outputs": [],
   "source": []
  }
 ],
 "metadata": {
  "jupytext": {
   "text_representation": {
    "extension": ".md",
    "format_name": "myst",
    "format_version": 0.13,
    "jupytext_version": "1.14.4"
   }
  },
  "kernelspec": {
   "display_name": "Python 3 (ipykernel)",
   "language": "python",
   "name": "python3"
  },
  "source_map": [
   12,
   16,
   48,
   52,
   60,
   70,
   76,
   82,
   90,
   92,
   96,
   100,
   102,
   106,
   115,
   117,
   121,
   123,
   127,
   144,
   149,
   151,
   159,
   162,
   167,
   169,
   173,
   179,
   184,
   186,
   194,
   197,
   201,
   205,
   209,
   212,
   219,
   225,
   227,
   231,
   234,
   242,
   249,
   253,
   255,
   268,
   270,
   277,
   280,
   284,
   286,
   290,
   292,
   296,
   299,
   303,
   330,
   334,
   357
  ]
 },
 "nbformat": 4,
 "nbformat_minor": 5
}