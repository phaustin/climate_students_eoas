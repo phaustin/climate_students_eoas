{
 "cells": [
  {
   "cell_type": "markdown",
   "id": "fc91c41f",
   "metadata": {
    "tags": []
   },
   "source": [
    "# Calculating ENSO with Xarray"
   ]
  },
  {
   "cell_type": "markdown",
   "id": "083b55ac",
   "metadata": {},
   "source": [
    "---"
   ]
  },
  {
   "cell_type": "markdown",
   "id": "b9d4869a",
   "metadata": {},
   "source": [
    "## Overview\n",
    "\n",
    "In this notebook, we will:\n",
    "\n",
    "1. Load SST data from the CESM2 model\n",
    "2. Mask data using `.where()`\n",
    "3. Compute climatologies and anomalies using `.groupby()`\n",
    "4. Use `.rolling()` to compute moving average\n",
    "5. Compute, normalize, and plot the Niño 3.4 Index"
   ]
  },
  {
   "cell_type": "markdown",
   "id": "f84acabd",
   "metadata": {},
   "source": [
    "## Prerequisites\n",
    "\n",
    "\n",
    "| Concepts | Importance | Notes |\n",
    "| --- | --- | --- |\n",
    "| [Introduction to Xarray](xarray-intro) | Necessary | |\n",
    "| [Computation and Masking](computation-masking) | Necessary | |\n",
    "\n",
    "\n",
    "\n",
    "- **Time to learn**: 20 minutes"
   ]
  },
  {
   "cell_type": "markdown",
   "id": "95e95300",
   "metadata": {},
   "source": [
    "---"
   ]
  },
  {
   "cell_type": "markdown",
   "id": "10ecda80",
   "metadata": {
    "tags": []
   },
   "source": [
    "## Imports"
   ]
  },
  {
   "cell_type": "code",
   "execution_count": null,
   "id": "ba0ab750",
   "metadata": {},
   "outputs": [],
   "source": [
    "import cartopy.crs as ccrs\n",
    "import matplotlib.pyplot as plt\n",
    "import xarray as xr\n",
    "from pythia_datasets import DATASETS"
   ]
  },
  {
   "cell_type": "markdown",
   "id": "de09613b",
   "metadata": {
    "tags": []
   },
   "source": [
    "## The Niño 3.4 Index"
   ]
  },
  {
   "cell_type": "markdown",
   "id": "4ce4d45c",
   "metadata": {},
   "source": [
    "In this notebook, we are going to combine several topics we've covered so far to compute the [Niño 3.4 Index](https://climatedataguide.ucar.edu/climate-data/nino-sst-indices-nino-12-3-34-4-oni-and-tni) for the CESM2 submission for the [CMIP6 project](https://esgf-node.llnl.gov/projects/cmip6/). \n",
    "\n",
    "> Niño 3.4 (5N-5S, 170W-120W): The Niño 3.4 anomalies may be thought of as representing the average equatorial SSTs across the Pacific from about the dateline to the South American coast. The Niño 3.4 index typically uses a 5-month running mean, and El Niño or La Niña events are defined when the Niño 3.4 SSTs exceed +/- 0.4C for a period of six months or more.\n",
    "\n",
    "> Nino X Index computation: (a) Compute area averaged total SST from Niño X region; (b) Compute monthly climatology (e.g., 1950-1979) for area averaged total SST from Niño X region, and subtract climatology from area averaged total SST time series to obtain anomalies; (c) Smooth the anomalies with a 5-month running mean; (d) Normalize the smoothed values by its standard deviation over the climatological period.\n",
    "\n",
    "![](https://www.ncdc.noaa.gov/monitoring-content/teleconnections/nino-regions.gif)\n",
    "\n",
    "At the end of this notebook, you should be able to produce a plot that looks similar to this [Oceanic Niño Index plot](https://climatedataguide.ucar.edu/sites/default/files/styles/extra_large/public/2022-03/indices_oni_2_2_lg.png):\n",
    "\n",
    "![ONI index plot from NCAR Climate Data Guide](https://climatedataguide.ucar.edu/sites/default/files/styles/extra_large/public/2022-03/indices_oni_2_2_lg.png)"
   ]
  },
  {
   "cell_type": "markdown",
   "id": "2aeee689",
   "metadata": {
    "tags": []
   },
   "source": [
    "Open the SST and areacello datasets, and use Xarray's `merge` method to combine them into a single dataset:"
   ]
  },
  {
   "cell_type": "code",
   "execution_count": null,
   "id": "2575d7fd",
   "metadata": {},
   "outputs": [],
   "source": [
    "filepath = DATASETS.fetch('CESM2_sst_data.nc')\n",
    "data = xr.open_dataset(filepath)\n",
    "filepath2 = DATASETS.fetch('CESM2_grid_variables.nc')\n",
    "areacello = xr.open_dataset(filepath2).areacello\n",
    "\n",
    "ds = xr.merge([data, areacello])\n",
    "ds"
   ]
  },
  {
   "cell_type": "markdown",
   "id": "06a0ea96",
   "metadata": {},
   "source": [
    "Visualize the first time slice to make sure the data looks as expected:"
   ]
  },
  {
   "cell_type": "code",
   "execution_count": null,
   "id": "d4582ad2",
   "metadata": {},
   "outputs": [],
   "source": [
    "fig = plt.figure(figsize=(12, 6))\n",
    "ax = plt.axes(projection=ccrs.Robinson(central_longitude=180))\n",
    "ax.coastlines()\n",
    "ax.gridlines()\n",
    "ds.tos.isel(time=0).plot(\n",
    "    ax=ax, transform=ccrs.PlateCarree(), vmin=-2, vmax=30, cmap='coolwarm'\n",
    ");"
   ]
  },
  {
   "cell_type": "markdown",
   "id": "fda49156",
   "metadata": {},
   "source": [
    "## Select the Niño 3.4 region \n",
    "\n",
    "There are a couple ways to select the Niño 3.4 region:\n",
    "\n",
    "1. Use `sel()` or `isel()`\n",
    "2. Use `where()` and select all values within the bounds of interest"
   ]
  },
  {
   "cell_type": "code",
   "execution_count": null,
   "id": "16c41d3f",
   "metadata": {},
   "outputs": [],
   "source": [
    "tos_nino34 = ds.sel(lat=slice(-5, 5), lon=slice(190, 240))\n",
    "tos_nino34"
   ]
  },
  {
   "cell_type": "markdown",
   "id": "654bd7ef",
   "metadata": {},
   "source": [
    "The other option for selecting our region of interest is to use"
   ]
  },
  {
   "cell_type": "code",
   "execution_count": null,
   "id": "8066ce43",
   "metadata": {},
   "outputs": [],
   "source": [
    "tos_nino34 = ds.where(\n",
    "    (ds.lat < 5) & (ds.lat > -5) & (ds.lon > 190) & (ds.lon < 240), drop=True\n",
    ")\n",
    "tos_nino34"
   ]
  },
  {
   "cell_type": "markdown",
   "id": "f78a96ef",
   "metadata": {},
   "source": [
    "Let's plot the selected region to make sure we are doing the right thing."
   ]
  },
  {
   "cell_type": "code",
   "execution_count": null,
   "id": "e532d2e4",
   "metadata": {},
   "outputs": [],
   "source": [
    "fig = plt.figure(figsize=(12, 6))\n",
    "ax = plt.axes(projection=ccrs.Robinson(central_longitude=180))\n",
    "ax.coastlines()\n",
    "ax.gridlines()\n",
    "tos_nino34.tos.isel(time=0).plot(\n",
    "    ax=ax, transform=ccrs.PlateCarree(), vmin=-2, vmax=30, cmap='coolwarm'\n",
    ")\n",
    "ax.set_extent((120, 300, 10, -10))"
   ]
  },
  {
   "cell_type": "markdown",
   "id": "8281c32d",
   "metadata": {},
   "source": [
    "## Compute the anomalies\n",
    "\n",
    "We first group by month and subtract the mean SST at each point in the Niño 3.4 region. We then compute the weighted average over the region to obtain the anomalies:"
   ]
  },
  {
   "cell_type": "code",
   "execution_count": null,
   "id": "5fcc15bc",
   "metadata": {},
   "outputs": [],
   "source": [
    "gb = tos_nino34.tos.groupby('time.month')\n",
    "tos_nino34_anom = gb - gb.mean(dim='time')\n",
    "index_nino34 = tos_nino34_anom.weighted(tos_nino34.areacello).mean(dim=['lat', 'lon'])"
   ]
  },
  {
   "cell_type": "markdown",
   "id": "b22b401b",
   "metadata": {},
   "source": [
    "Now, smooth the anomalies with a 5-month running mean:"
   ]
  },
  {
   "cell_type": "code",
   "execution_count": null,
   "id": "ba9d26a2",
   "metadata": {},
   "outputs": [],
   "source": [
    "index_nino34_rolling_mean = index_nino34.rolling(time=5, center=True).mean()"
   ]
  },
  {
   "cell_type": "code",
   "execution_count": null,
   "id": "d174ad3a",
   "metadata": {},
   "outputs": [],
   "source": [
    "index_nino34.plot(size=8)\n",
    "index_nino34_rolling_mean.plot()\n",
    "plt.legend(['anomaly', '5-month running mean anomaly'])\n",
    "plt.title('SST anomaly over the Niño 3.4 region');"
   ]
  },
  {
   "cell_type": "markdown",
   "id": "254d844a",
   "metadata": {},
   "source": [
    "Compute the standard deviation of the SST in the Nino 3.4 region, over the entire time period of the data array:"
   ]
  },
  {
   "cell_type": "code",
   "execution_count": null,
   "id": "70c559f6",
   "metadata": {},
   "outputs": [],
   "source": [
    "std_dev = tos_nino34.tos.std()\n",
    "std_dev"
   ]
  },
  {
   "cell_type": "markdown",
   "id": "851f49f0",
   "metadata": {},
   "source": [
    "Then we'll normalize the values by dividing the rolling mean by the standard deviation of the SST in the Niño 3.4 region:"
   ]
  },
  {
   "cell_type": "code",
   "execution_count": null,
   "id": "15bfce47",
   "metadata": {},
   "outputs": [],
   "source": [
    "normalized_index_nino34_rolling_mean = index_nino34_rolling_mean / std_dev"
   ]
  },
  {
   "cell_type": "markdown",
   "id": "107c933d",
   "metadata": {},
   "source": [
    "## Visualize the computed Niño 3.4 index"
   ]
  },
  {
   "cell_type": "markdown",
   "id": "7696ab3f",
   "metadata": {},
   "source": [
    "We will highlight values in excess of $\\pm$0.5, roughly corresponding to El Niño (warm) and La Niña (cold) events."
   ]
  },
  {
   "cell_type": "code",
   "execution_count": null,
   "id": "ba211005",
   "metadata": {},
   "outputs": [],
   "source": [
    "fig = plt.figure(figsize=(12, 6))\n",
    "\n",
    "plt.fill_between(\n",
    "    normalized_index_nino34_rolling_mean.time.data,\n",
    "    normalized_index_nino34_rolling_mean.where(\n",
    "        normalized_index_nino34_rolling_mean >= 0.4\n",
    "    ).data,\n",
    "    0.4,\n",
    "    color='red',\n",
    "    alpha=0.9,\n",
    ")\n",
    "plt.fill_between(\n",
    "    normalized_index_nino34_rolling_mean.time.data,\n",
    "    normalized_index_nino34_rolling_mean.where(\n",
    "        normalized_index_nino34_rolling_mean <= -0.4\n",
    "    ).data,\n",
    "    -0.4,\n",
    "    color='blue',\n",
    "    alpha=0.9,\n",
    ")\n",
    "\n",
    "normalized_index_nino34_rolling_mean.plot(color='black')\n",
    "plt.axhline(0, color='black', lw=0.5)\n",
    "plt.axhline(0.4, color='black', linewidth=0.5, linestyle='dotted')\n",
    "plt.axhline(-0.4, color='black', linewidth=0.5, linestyle='dotted')\n",
    "plt.title('Niño 3.4 Index');"
   ]
  },
  {
   "cell_type": "markdown",
   "id": "535c010c",
   "metadata": {},
   "source": [
    "---"
   ]
  },
  {
   "cell_type": "markdown",
   "id": "f77cedd4",
   "metadata": {},
   "source": [
    "## Summary\n",
    "\n",
    "We have applied a variety of Xarray's selection, grouping, and statistical functions to compute and visualize an important climate index."
   ]
  },
  {
   "cell_type": "markdown",
   "id": "35b32443",
   "metadata": {},
   "source": [
    "## Resources and References\n",
    "\n",
    "- [Niño 3.4 index](https://climatedataguide.ucar.edu/climate-data/nino-sst-indices-nino-12-3-34-4-oni-and-tni)\n",
    "- [Matplotlib's `fill_between` method](https://matplotlib.org/stable/api/_as_gen/matplotlib.pyplot.fill_between.html)\n",
    "- [Matplotlib's `axhline` method](https://matplotlib.org/stable/api/_as_gen/matplotlib.pyplot.axhline.html) (see also its analogous `axvline` method)"
   ]
  },
  {
   "cell_type": "code",
   "execution_count": null,
   "id": "91e99d62",
   "metadata": {},
   "outputs": [],
   "source": []
  }
 ],
 "metadata": {
  "jupytext": {
   "text_representation": {
    "extension": ".md",
    "format_name": "myst",
    "format_version": 0.13,
    "jupytext_version": "1.14.4"
   }
  },
  "kernelspec": {
   "display_name": "Python 3 (ipykernel)",
   "language": "python",
   "name": "python3"
  },
  "source_map": [
   14,
   18,
   22,
   34,
   48,
   52,
   56,
   63,
   67,
   81,
   85,
   93,
   97,
   105,
   114,
   117,
   121,
   126,
   130,
   139,
   145,
   149,
   153,
   157,
   162,
   166,
   169,
   173,
   175,
   179,
   183,
   210,
   214,
   220,
   228
  ]
 },
 "nbformat": 4,
 "nbformat_minor": 5
}