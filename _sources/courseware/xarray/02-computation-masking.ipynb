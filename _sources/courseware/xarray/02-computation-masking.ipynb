{
 "cells": [
  {
   "cell_type": "markdown",
   "id": "bf54c1b8",
   "metadata": {
    "tags": []
   },
   "source": [
    "# Computations and Masks with Xarray"
   ]
  },
  {
   "cell_type": "markdown",
   "id": "3b4db464",
   "metadata": {},
   "source": [
    "---"
   ]
  },
  {
   "cell_type": "markdown",
   "id": "65d760c1",
   "metadata": {
    "tags": []
   },
   "source": [
    "## Overview\n",
    "\n",
    "In this notebook, we will:\n",
    "\n",
    "1. Do basic arithmetic with DataArrays and Datasets\n",
    "2. Perform aggregation (reduction) along one or multiple dimensions of a DataArray or Dataset\n",
    "3. Compute climatology and anomaly using xarray's \"split-apply-combine\" approach via `.groupby()`\n",
    "4. Perform weighted reductions along one or multiple dimensions of a DataArray or Dataset\n",
    "5. Provide an overview of masking data in xarray\n",
    "6. Mask data using `.where()` method"
   ]
  },
  {
   "cell_type": "markdown",
   "id": "7d6aaede",
   "metadata": {
    "tags": []
   },
   "source": [
    "## Prerequisites\n",
    "\n",
    "\n",
    "| Concepts | Importance | Notes |\n",
    "| --- | --- | --- |\n",
    "| [Introduction to Xarray](xarray-intro) | Necessary | |\n",
    "\n",
    "\n",
    "- **Time to learn**: 60 minutes"
   ]
  },
  {
   "cell_type": "markdown",
   "id": "39b4b7bd",
   "metadata": {},
   "source": [
    "---"
   ]
  },
  {
   "cell_type": "markdown",
   "id": "d6393fa0",
   "metadata": {
    "tags": []
   },
   "source": [
    "## Imports"
   ]
  },
  {
   "cell_type": "code",
   "execution_count": null,
   "id": "f4a052c0",
   "metadata": {},
   "outputs": [],
   "source": [
    "import matplotlib.pyplot as plt\n",
    "import numpy as np\n",
    "import xarray as xr\n",
    "from pythia_datasets import DATASETS"
   ]
  },
  {
   "cell_type": "markdown",
   "id": "8d53fdab",
   "metadata": {},
   "source": [
    "Let's open the monthly sea surface temperature (SST) data from the Community Earth System Model v2 (CESM2), which is a Global Climate Model:"
   ]
  },
  {
   "cell_type": "code",
   "execution_count": null,
   "id": "2d696d02",
   "metadata": {},
   "outputs": [],
   "source": [
    "filepath = DATASETS.fetch('CESM2_sst_data.nc')\n",
    "ds = xr.open_dataset(filepath)\n",
    "ds"
   ]
  },
  {
   "cell_type": "markdown",
   "id": "00edaf4c",
   "metadata": {
    "tags": []
   },
   "source": [
    "## Arithmetic Operations\n",
    "\n",
    "Arithmetic operations with a single DataArray automatically apply over all array values (like NumPy). This process is called vectorization.  Let's convert the air temperature from degrees Celsius to kelvins:"
   ]
  },
  {
   "cell_type": "code",
   "execution_count": null,
   "id": "0fe302e1",
   "metadata": {},
   "outputs": [],
   "source": [
    "ds.tos + 273.15"
   ]
  },
  {
   "cell_type": "markdown",
   "id": "9f5748ca",
   "metadata": {},
   "source": [
    "Lets's square all values in `tos`:"
   ]
  },
  {
   "cell_type": "code",
   "execution_count": null,
   "id": "d19f0f7f",
   "metadata": {},
   "outputs": [],
   "source": [
    "ds.tos**2"
   ]
  },
  {
   "cell_type": "markdown",
   "id": "fca084b1",
   "metadata": {
    "tags": []
   },
   "source": [
    "## Aggregation Methods \n",
    "\n",
    "A very common step during data analysis is to summarize the data in question by computing aggregations like `sum()`, `mean()`, `median()`, `min()`, `max()` in which reduced data provide insight into the nature of large dataset. Let's explore some of these aggregation methods."
   ]
  },
  {
   "cell_type": "markdown",
   "id": "8cd4a241",
   "metadata": {},
   "source": [
    "Compute the mean:"
   ]
  },
  {
   "cell_type": "code",
   "execution_count": null,
   "id": "7cb14062",
   "metadata": {},
   "outputs": [],
   "source": [
    "ds.tos.mean()"
   ]
  },
  {
   "cell_type": "markdown",
   "id": "331c8b08",
   "metadata": {},
   "source": [
    "Because we specified no `dim` argument the function was applied over all dimensions, computing the mean of every element of `tos` across time and space. It is possible to specify a dimension along which to compute an aggregation. For example, to calculate the mean in time for all locations, specify the time dimension as the dimension along which the mean should be calculated:"
   ]
  },
  {
   "cell_type": "code",
   "execution_count": null,
   "id": "6c0d9c70",
   "metadata": {},
   "outputs": [],
   "source": [
    "ds.tos.mean(dim='time').plot(size=7);"
   ]
  },
  {
   "cell_type": "markdown",
   "id": "cf3d451a",
   "metadata": {},
   "source": [
    "Compute the temporal min:"
   ]
  },
  {
   "cell_type": "code",
   "execution_count": null,
   "id": "8a7d3e0d",
   "metadata": {},
   "outputs": [],
   "source": [
    "ds.tos.min(dim=['time'])"
   ]
  },
  {
   "cell_type": "markdown",
   "id": "31895157",
   "metadata": {},
   "source": [
    "Compute the spatial sum:"
   ]
  },
  {
   "cell_type": "code",
   "execution_count": null,
   "id": "d1e1da39",
   "metadata": {},
   "outputs": [],
   "source": [
    "ds.tos.sum(dim=['lat', 'lon'])"
   ]
  },
  {
   "cell_type": "markdown",
   "id": "f54dede0",
   "metadata": {},
   "source": [
    "Compute the temporal median:"
   ]
  },
  {
   "cell_type": "code",
   "execution_count": null,
   "id": "48f9c921",
   "metadata": {},
   "outputs": [],
   "source": [
    "ds.tos.median(dim='time')"
   ]
  },
  {
   "cell_type": "markdown",
   "id": "0972f961",
   "metadata": {},
   "source": [
    "The following table summarizes some other built-in xarray aggregations:\n",
    "\n",
    "| Aggregation              | Description                     |\n",
    "|--------------------------|---------------------------------|\n",
    "| ``count()``              | Total number of items           |\n",
    "| ``mean()``, ``median()`` | Mean and median                 |\n",
    "| ``min()``, ``max()``     | Minimum and maximum             |\n",
    "| ``std()``, ``var()``     | Standard deviation and variance |\n",
    "| ``prod()``               | Compute product of elements            |\n",
    "| ``sum()``                | Compute sum of elements                |\n",
    "| ``argmin()``, ``argmax()``| Find index of minimum and maximum value |"
   ]
  },
  {
   "cell_type": "markdown",
   "id": "28713c0e",
   "metadata": {
    "tags": []
   },
   "source": [
    "## GroupBy: Split, Apply, Combine\n",
    "\n",
    "Simple aggregations can give useful summary of our dataset, but often we would prefer to aggregate conditionally on some coordinate labels or groups. Xarray provides the so-called `groupby` operation which enables the **split-apply-combine** workflow on xarray DataArrays and Datasets. The split-apply-combine operation is illustrated in this figure\n",
    "\n",
    "<img src=\"./images/xarray-split-apply-combine.jpeg\">\n",
    "\n",
    "This makes clear what the `groupby` accomplishes:\n",
    "\n",
    "- The split step involves breaking up and grouping an xarray Dataset or DataArray depending on the value of the specified group key.\n",
    "- The apply step involves computing some function, usually an aggregate, transformation, or filtering, within the individual groups.\n",
    "- The combine step merges the results of these operations into an output xarray Dataset or DataArray.\n",
    "\n",
    "We are going to use `groupby` to remove the seasonal cycle (\"climatology\") from our dataset. See the [xarray `groupby` user guide](https://xarray.pydata.org/en/stable/user-guide/groupby.html) for more examples of what `groupby` can take as an input."
   ]
  },
  {
   "cell_type": "markdown",
   "id": "87a2c762",
   "metadata": {},
   "source": [
    "First, let's select a gridpoint closest to a specified lat-lon, and plot a time series of SST at that point. The annual cycle will be quite evident."
   ]
  },
  {
   "cell_type": "code",
   "execution_count": null,
   "id": "3a135b01",
   "metadata": {},
   "outputs": [],
   "source": [
    "ds.tos.sel(lon=310, lat=50, method='nearest').plot();"
   ]
  },
  {
   "cell_type": "markdown",
   "id": "8442e6cb",
   "metadata": {},
   "source": [
    "### Split\n",
    "\n",
    "Let's group data by month, i.e. all Januaries in one group, all Februaries in one group, etc."
   ]
  },
  {
   "cell_type": "code",
   "execution_count": null,
   "id": "1524ca60",
   "metadata": {},
   "outputs": [],
   "source": [
    "ds.tos.groupby(ds.time.dt.month)"
   ]
  },
  {
   "cell_type": "markdown",
   "id": "38d99081",
   "metadata": {},
   "source": [
    "<div class=\"admonition alert alert-info\">\n",
    "\n",
    "In the above code, we are using the `.dt` [`DatetimeAccessor`](https://xarray.pydata.org/en/stable/generated/xarray.core.accessor_dt.DatetimeAccessor.html) to extract specific components of dates/times in our time coordinate dimension. For example, we can extract the year with `ds.time.dt.year`. See also the equivalent [Pandas documentation](https://pandas.pydata.org/pandas-docs/stable/reference/api/pandas.Series.dt.html).\n",
    "    \n",
    "   </div>"
   ]
  },
  {
   "cell_type": "markdown",
   "id": "1ef4cd96",
   "metadata": {},
   "source": [
    "Xarray also offers a more concise syntax when the variable you’re grouping on is already present in the dataset. This is identical to `ds.tos.groupby(ds.time.dt.month)`:"
   ]
  },
  {
   "cell_type": "code",
   "execution_count": null,
   "id": "307861c1",
   "metadata": {},
   "outputs": [],
   "source": [
    "ds.tos.groupby('time.month')"
   ]
  },
  {
   "cell_type": "markdown",
   "id": "a40ae776",
   "metadata": {
    "tags": []
   },
   "source": [
    "### Apply & Combine \n",
    "\n",
    "Now that we have groups defined, it’s time to “apply” a calculation to the group. These calculations can either be:\n",
    "\n",
    "- aggregation: reduces the size of the group\n",
    "- transformation: preserves the group’s full size\n",
    "\n",
    "At then end of the apply step, xarray will automatically combine the aggregated/transformed groups back into a single object. \n",
    "\n",
    "\n",
    "\n",
    "#### Compute climatology \n",
    "\n",
    "\n",
    "Let's calculate the climatology at every point in the dataset:"
   ]
  },
  {
   "cell_type": "code",
   "execution_count": null,
   "id": "dd1e1374",
   "metadata": {},
   "outputs": [],
   "source": [
    "tos_clim = ds.tos.groupby('time.month').mean()\n",
    "tos_clim"
   ]
  },
  {
   "cell_type": "markdown",
   "id": "f428bbf5",
   "metadata": {},
   "source": [
    "Plot climatology at a specific point:"
   ]
  },
  {
   "cell_type": "code",
   "execution_count": null,
   "id": "4b854b25",
   "metadata": {},
   "outputs": [],
   "source": [
    "tos_clim.sel(lon=310, lat=50, method='nearest').plot();"
   ]
  },
  {
   "cell_type": "markdown",
   "id": "b6344f8f",
   "metadata": {},
   "source": [
    "Plot zonal mean climatology:"
   ]
  },
  {
   "cell_type": "code",
   "execution_count": null,
   "id": "4e41e06f",
   "metadata": {},
   "outputs": [],
   "source": [
    "tos_clim.mean(dim='lon').transpose().plot.contourf(levels=12, cmap='turbo');"
   ]
  },
  {
   "cell_type": "markdown",
   "id": "719edfea",
   "metadata": {},
   "source": [
    "Calculate and plot the difference between January and December climatologies:"
   ]
  },
  {
   "cell_type": "code",
   "execution_count": null,
   "id": "c3e223ae",
   "metadata": {},
   "outputs": [],
   "source": [
    "(tos_clim.sel(month=1) - tos_clim.sel(month=12)).plot(size=6, robust=True);"
   ]
  },
  {
   "cell_type": "markdown",
   "id": "9d6caf9a",
   "metadata": {},
   "source": [
    "#### Compute anomaly\n",
    "\n",
    "Now let's combine the previous steps to compute climatology and use xarray's `groupby` arithmetic to remove this climatology from our original data:"
   ]
  },
  {
   "cell_type": "code",
   "execution_count": null,
   "id": "42d6857a",
   "metadata": {},
   "outputs": [],
   "source": [
    "gb = ds.tos.groupby('time.month')\n",
    "tos_anom = gb - gb.mean(dim='time')\n",
    "tos_anom"
   ]
  },
  {
   "cell_type": "code",
   "execution_count": null,
   "id": "c9fa0cdf",
   "metadata": {},
   "outputs": [],
   "source": [
    "tos_anom.sel(lon=310, lat=50, method='nearest').plot();"
   ]
  },
  {
   "cell_type": "markdown",
   "id": "29549676",
   "metadata": {},
   "source": [
    "Let's compute and visualize the mean global anomaly over time. We need to specify both `lat` and `lon` dimensions in the `dim` argument to `mean()`:"
   ]
  },
  {
   "cell_type": "code",
   "execution_count": null,
   "id": "a1294819",
   "metadata": {},
   "outputs": [],
   "source": [
    "unweighted_mean_global_anom = tos_anom.mean(dim=['lat', 'lon'])\n",
    "unweighted_mean_global_anom.plot();"
   ]
  },
  {
   "cell_type": "markdown",
   "id": "6eb7c3ee",
   "metadata": {},
   "source": [
    "<div class=\"admonition alert alert-warning\">\n",
    "   \n",
    "\n",
    "An operation which combines grid cells of different size is not scientifically valid unless each cell is weighted by the size of the grid cell. Xarray has a convenient [`.weighted()`](https://xarray.pydata.org/en/stable/user-guide/computation.html#weighted-array-reductions) method to accomplish this\n",
    "\n",
    "</div>"
   ]
  },
  {
   "cell_type": "markdown",
   "id": "8d15bad3",
   "metadata": {},
   "source": [
    "Let's first load the cell area data from another CESM2 dataset that contains the weights for the grid cells:"
   ]
  },
  {
   "cell_type": "code",
   "execution_count": null,
   "id": "07ff63fc",
   "metadata": {},
   "outputs": [],
   "source": [
    "filepath2 = DATASETS.fetch('CESM2_grid_variables.nc')\n",
    "areacello = xr.open_dataset(filepath2).areacello\n",
    "areacello"
   ]
  },
  {
   "cell_type": "markdown",
   "id": "676871e7",
   "metadata": {},
   "source": [
    "As before, let's calculate area-weighted mean global anomaly:"
   ]
  },
  {
   "cell_type": "code",
   "execution_count": null,
   "id": "618bfd5c",
   "metadata": {},
   "outputs": [],
   "source": [
    "weighted_mean_global_anom = tos_anom.weighted(areacello).mean(dim=['lat', 'lon'])"
   ]
  },
  {
   "cell_type": "markdown",
   "id": "f2045788",
   "metadata": {},
   "source": [
    "Let's plot both unweighted and weighted means:"
   ]
  },
  {
   "cell_type": "code",
   "execution_count": null,
   "id": "cb32f6b0",
   "metadata": {},
   "outputs": [],
   "source": [
    "unweighted_mean_global_anom.plot(size=7)\n",
    "weighted_mean_global_anom.plot()\n",
    "plt.legend(['unweighted', 'weighted']);"
   ]
  },
  {
   "cell_type": "markdown",
   "id": "88e2c2c0",
   "metadata": {
    "tags": []
   },
   "source": [
    "## Other high level computation functionality\n",
    "\n",
    "- `resample`: [Groupby-like functionality specifialized for time dimensions. Can be used for temporal upsampling and downsampling](https://xarray.pydata.org/en/stable/user-guide/time-series.html#resampling-and-grouped-operations)\n",
    "- `rolling`: [Useful for computing aggregations on moving windows of your dataset e.g. computing moving averages](https://xarray.pydata.org/en/stable/user-guide/computation.html#rolling-window-operations)\n",
    "- `coarsen`: [Generic functionality for downsampling data](https://xarray.pydata.org/en/stable/user-guide/computation.html#coarsen-large-arrays)"
   ]
  },
  {
   "cell_type": "markdown",
   "id": "b55bdde1",
   "metadata": {},
   "source": [
    "For example, resample to annual frequency:"
   ]
  },
  {
   "cell_type": "code",
   "execution_count": null,
   "id": "97499f0c",
   "metadata": {},
   "outputs": [],
   "source": [
    "r = ds.tos.resample(time='AS')\n",
    "r"
   ]
  },
  {
   "cell_type": "code",
   "execution_count": null,
   "id": "4b61b6ae",
   "metadata": {},
   "outputs": [],
   "source": [
    "r.mean()"
   ]
  },
  {
   "cell_type": "markdown",
   "id": "fad2c41f",
   "metadata": {},
   "source": [
    "Compute a 5-month moving average:"
   ]
  },
  {
   "cell_type": "code",
   "execution_count": null,
   "id": "cc27db41",
   "metadata": {},
   "outputs": [],
   "source": [
    "m_avg = ds.tos.rolling(time=5, center=True).mean()\n",
    "m_avg"
   ]
  },
  {
   "cell_type": "code",
   "execution_count": null,
   "id": "9e22445d",
   "metadata": {},
   "outputs": [],
   "source": [
    "lat = 50\n",
    "lon = 310\n",
    "\n",
    "m_avg.isel(lat=lat, lon=lon).plot(size=6)\n",
    "ds.tos.isel(lat=lat, lon=lon).plot()\n",
    "plt.legend(['5-month moving average', 'monthly data']);"
   ]
  },
  {
   "cell_type": "markdown",
   "id": "edeedf5a",
   "metadata": {
    "tags": []
   },
   "source": [
    "## Masking Data"
   ]
  },
  {
   "cell_type": "markdown",
   "id": "5fc255ab",
   "metadata": {
    "tags": []
   },
   "source": [
    "Using the `xr.where()` or `.where()` method, elements of an xarray Dataset or xarray DataArray that satisfy a given condition or multiple conditions can be replaced/masked. To demonstrate this, we are going to use the `.where()` method on the `tos` DataArray."
   ]
  },
  {
   "cell_type": "markdown",
   "id": "a8c11bb0",
   "metadata": {},
   "source": [
    "We will use the same sea surface temperature dataset:"
   ]
  },
  {
   "cell_type": "code",
   "execution_count": null,
   "id": "2863c238",
   "metadata": {},
   "outputs": [],
   "source": [
    "ds"
   ]
  },
  {
   "cell_type": "markdown",
   "id": "b3165d12",
   "metadata": {},
   "source": [
    "### Using `where` with one condition"
   ]
  },
  {
   "cell_type": "markdown",
   "id": "073eea1a",
   "metadata": {},
   "source": [
    "Imagine we wish to analyze just the last time in the dataset. We could of course use `.isel()` for this:"
   ]
  },
  {
   "cell_type": "code",
   "execution_count": null,
   "id": "8bcbb3c0",
   "metadata": {},
   "outputs": [],
   "source": [
    "sample = ds.tos.isel(time=-1)\n",
    "sample"
   ]
  },
  {
   "cell_type": "markdown",
   "id": "279fe651",
   "metadata": {},
   "source": [
    "Unlike `.isel()` and `.sel()` that change the shape of the returned results, `.where()` preserves the shape of the original data. It accomplishes this by returning values from the original DataArray or Dataset if the `condition` is `True`, and fills in values (by default `nan`) wherever the `condition` is `False`. \n",
    "\n",
    "Before applying it, let's look at the [`.where()` documentation](http://xarray.pydata.org/en/stable/generated/xarray.DataArray.where.html). As the documention points out, the conditional expression in `.where()` can be: \n",
    "\n",
    "- a DataArray\n",
    "- a Dataset\n",
    "- a function\n",
    "\n",
    "For demonstration purposes, let's use `.where()` to mask locations with temperature values greater than `0`:"
   ]
  },
  {
   "cell_type": "code",
   "execution_count": null,
   "id": "1208c0a2",
   "metadata": {},
   "outputs": [],
   "source": [
    "masked_sample = sample.where(sample < 0.0)\n",
    "masked_sample"
   ]
  },
  {
   "cell_type": "markdown",
   "id": "0841cd04",
   "metadata": {},
   "source": [
    "Let's plot both our original sample, and the masked sample:"
   ]
  },
  {
   "cell_type": "code",
   "execution_count": null,
   "id": "4a071b14",
   "metadata": {},
   "outputs": [],
   "source": [
    "fig, axes = plt.subplots(ncols=2, figsize=(19, 6))\n",
    "sample.plot(ax=axes[0])\n",
    "masked_sample.plot(ax=axes[1]);"
   ]
  },
  {
   "cell_type": "markdown",
   "id": "dfb48165",
   "metadata": {
    "tags": []
   },
   "source": [
    "### Using `where` with multiple conditions"
   ]
  },
  {
   "cell_type": "markdown",
   "id": "474c7cc9",
   "metadata": {},
   "source": [
    "`.where()` allows providing multiple conditions. To do this, we need to make sure each conditional expression is enclosed in `()`. To combine conditions, we use the `bit-wise and` (`&`) operator and/or the `bit-wise or` (`|`). Let's use `.where()` to mask locations with temperature values less than 25 and greater than 30:"
   ]
  },
  {
   "cell_type": "code",
   "execution_count": null,
   "id": "f1bd37ca",
   "metadata": {},
   "outputs": [],
   "source": [
    "sample.where((sample > 25) & (sample < 30)).plot(size=6);"
   ]
  },
  {
   "cell_type": "markdown",
   "id": "278ccc9d",
   "metadata": {},
   "source": [
    "We can use coordinates to apply a mask as well. Below, we use the `latitude` and `longitude` coordinates to mask everywhere outside of the [Niño 3.4 region](https://www.ncdc.noaa.gov/teleconnections/enso/indicators/sst/):\n",
    "\n",
    "![](https://www.ncdc.noaa.gov/monitoring-content/teleconnections/nino-regions.gif)"
   ]
  },
  {
   "cell_type": "code",
   "execution_count": null,
   "id": "81e16115",
   "metadata": {},
   "outputs": [],
   "source": [
    "sample.where(\n",
    "    (sample.lat < 5) & (sample.lat > -5) & (sample.lon > 190) & (sample.lon < 240)\n",
    ").plot(size=6);"
   ]
  },
  {
   "cell_type": "markdown",
   "id": "4d072d82",
   "metadata": {},
   "source": [
    "### Using `where` with a custom fill value"
   ]
  },
  {
   "cell_type": "markdown",
   "id": "e5eef775",
   "metadata": {},
   "source": [
    "`.where()` can take a second argument, which, if supplied, defines a fill value for the masked region. Below we fill masked regions with a constant `0`:"
   ]
  },
  {
   "cell_type": "code",
   "execution_count": null,
   "id": "a89c0aa9",
   "metadata": {},
   "outputs": [],
   "source": [
    "sample.where((sample > 25) & (sample < 30), 0).plot(size=6);"
   ]
  },
  {
   "cell_type": "markdown",
   "id": "9849dc9f",
   "metadata": {},
   "source": [
    "---"
   ]
  },
  {
   "cell_type": "markdown",
   "id": "9a808561",
   "metadata": {
    "tags": []
   },
   "source": [
    "## Summary \n",
    "\n",
    "- Similar to NumPy, arithmetic operations are vectorized over a DataArray\n",
    "- Xarray provides aggregation methods like `sum()` and `mean()`, with the option to specify which dimension over which the operation will be done\n",
    "- `groupby` enables the convenient split-apply-combine workflow\n",
    "- The `.where()` method allows for filtering or replacing of data based on one or more provided conditions\n",
    "\n",
    "### What's next?\n",
    "\n",
    "In the next notebook, we will work through an example of plotting the [Niño 3.4 Index](https://climatedataguide.ucar.edu/climate-data/nino-sst-indices-nino-12-3-34-4-oni-and-tni)."
   ]
  },
  {
   "cell_type": "markdown",
   "id": "256640db",
   "metadata": {},
   "source": [
    "## Resources and References\n",
    "\n",
    "- `groupby`: [Useful for binning/grouping data and applying reductions and/or transformations on those groups](https://xarray.pydata.org/en/stable/user-guide/groupby.html)\n",
    "- `resample`: [Groupby-like functionality specifialized for time dimensions. Can be used for temporal upsampling and downsampling](https://xarray.pydata.org/en/stable/user-guide/time-series.html#resampling-and-grouped-operations)\n",
    "- `rolling`: [Useful for computing aggregations on moving windows of your dataset e.g. computing moving averages](https://xarray.pydata.org/en/stable/user-guide/computation.html#rolling-window-operations)\n",
    "- `coarsen`: [Generic functionality for downsampling data](https://xarray.pydata.org/en/stable/user-guide/computation.html#coarsen-large-arrays)\n",
    "\n",
    "- `weighted`: [Useful for weighting data before applying reductions](https://xarray.pydata.org/en/stable/user-guide/computation.html#weighted-array-reductions)\n",
    "\n",
    "- [More xarray tutorials and videos](https://xarray.pydata.org/en/stable/tutorials-and-videos.html)\n",
    "- [Xarray Documentation - Masking with `where()`](https://xarray.pydata.org/en/stable/user-guide/indexing.html#masking-with-where)"
   ]
  }
 ],
 "metadata": {
  "jupytext": {
   "text_representation": {
    "extension": ".md",
    "format_name": "myst",
    "format_version": 0.13,
    "jupytext_version": "1.14.4"
   }
  },
  "kernelspec": {
   "display_name": "Python 3 (ipykernel)",
   "language": "python",
   "name": "python3"
  },
  "source_map": [
   14,
   18,
   22,
   35,
   47,
   51,
   55,
   60,
   64,
   70,
   76,
   78,
   82,
   86,
   92,
   96,
   98,
   102,
   104,
   108,
   110,
   114,
   116,
   120,
   122,
   136,
   152,
   156,
   158,
   164,
   166,
   174,
   178,
   182,
   200,
   203,
   207,
   209,
   213,
   215,
   219,
   221,
   227,
   233,
   235,
   239,
   242,
   251,
   255,
   259,
   263,
   265,
   269,
   275,
   283,
   287,
   292,
   294,
   298,
   303,
   312,
   316,
   320,
   324,
   326,
   330,
   334,
   337,
   349,
   352,
   356,
   362,
   366,
   370,
   372,
   378,
   382,
   386,
   390,
   392,
   396,
   409
  ]
 },
 "nbformat": 4,
 "nbformat_minor": 5
}