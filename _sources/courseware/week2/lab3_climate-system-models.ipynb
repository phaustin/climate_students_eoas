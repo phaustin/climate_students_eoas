{
 "cells": [
  {
   "cell_type": "markdown",
   "id": "7a9ea8b5",
   "metadata": {
    "slideshow": {
     "slide_type": "slide"
    }
   },
   "source": [
    "(nb:system)=\n",
    "# The climate system and climate models\n",
    "\n",
    "This notebook is part of [The Climate Laboratory](https://brian-rose.github.io/ClimateLaboratoryBook) by [Brian E. J. Rose](http://www.atmos.albany.edu/facstaff/brose/index.html), University at Albany."
   ]
  },
  {
   "cell_type": "markdown",
   "id": "3cfea15d",
   "metadata": {
    "slideshow": {
     "slide_type": "slide"
    }
   },
   "source": [
    "____________\n",
    "<a id='section1'></a>\n",
    "## 1. The climate system and its interactions\n",
    "____________"
   ]
  },
  {
   "cell_type": "markdown",
   "id": "e65f4404",
   "metadata": {
    "slideshow": {
     "slide_type": "slide"
    }
   },
   "source": [
    "### Definition of the “climate system” and its “spheres”\n",
    "\n",
    "From the IPCC AR5 report:\n",
    "\n",
    "> **Climate System:** “The climate system is the highly complex system consisting of five major components: the atmosphere, the hydrosphere, the cryosphere, the lithosphere and the biosphere, and the interactions between them. The climate system evolves in time under the influence of its own internal dynamics and because of external forcings such as volcanic eruptions, solar variations and anthropogenic forcings such as the changing composition of the atmosphere and land use change.”"
   ]
  },
  {
   "cell_type": "markdown",
   "id": "4a47e6e5",
   "metadata": {},
   "source": [
    "Which begs some further definitions:"
   ]
  },
  {
   "cell_type": "markdown",
   "id": "3572e734",
   "metadata": {
    "slideshow": {
     "slide_type": "slide"
    }
   },
   "source": [
    "#### Atmosphere\n",
    "\n",
    ">The gaseous envelope surrounding the Earth."
   ]
  },
  {
   "cell_type": "markdown",
   "id": "feab0e9f",
   "metadata": {
    "slideshow": {
     "slide_type": "fragment"
    }
   },
   "source": [
    "#### Hydrosphere\n",
    "\n",
    ">The component of the climate system comprising liquid surface and subterranean water, such as oceans, seas, rivers, lakes, underground water, etc."
   ]
  },
  {
   "cell_type": "markdown",
   "id": "511ea0bf",
   "metadata": {
    "slideshow": {
     "slide_type": "slide"
    }
   },
   "source": [
    "#### **Biosphere** (terrestrial and marine):\n",
    "> The part of the Earth system comprising all ecosystems and living organisms… including derived dead organic matter, such as litter, soil organic matter and oceanic detritus."
   ]
  },
  {
   "cell_type": "markdown",
   "id": "f6ddab27",
   "metadata": {
    "slideshow": {
     "slide_type": "fragment"
    }
   },
   "source": [
    "#### **Cryosphere**:\n",
    "> All regions on and beneath the surface of the Earth and ocean where water is in solid form, including sea ice, lake ice, river ice, snow cover, glaciers and ice sheets, and frozen ground (which includes permafrost)."
   ]
  },
  {
   "cell_type": "markdown",
   "id": "b903cc0a",
   "metadata": {
    "slideshow": {
     "slide_type": "slide"
    }
   },
   "source": [
    "#### **Lithosphere**: \n",
    "> The upper layer of the solid Earth, both continental and oceanic, which comprises all crustal rocks and the cold, mainly elastic part of the uppermost mantle."
   ]
  },
  {
   "cell_type": "markdown",
   "id": "aa5a4509",
   "metadata": {
    "slideshow": {
     "slide_type": "slide"
    }
   },
   "source": [
    "### WHY might we want to include all these “spheres” in our models?\n",
    "\n",
    "Here are two nice figures from the IPCC AR5 WG1 report:"
   ]
  },
  {
   "cell_type": "markdown",
   "id": "1e4126ab",
   "metadata": {
    "slideshow": {
     "slide_type": "slide"
    }
   },
   "source": [
    "<img src='http://www.climatechange2013.org/images/figures/WGI_AR5_Fig1-1.jpg' width=\"800\">"
   ]
  },
  {
   "cell_type": "markdown",
   "id": "e1ad43b0",
   "metadata": {
    "slideshow": {
     "slide_type": "skip"
    }
   },
   "source": [
    ">Figure 1.1 | Main drivers of climate change. The radiative balance between incoming solar shortwave radiation (SWR) and outgoing longwave radiation (OLR) is influenced by global climate ‘drivers’. Natural fluctuations in solar output (solar cycles) can cause changes in the energy balance (through fluctuations in the amount of incoming SWR) (Section 2.3). Human activity changes the emissions of gases and aerosols, which are involved in atmospheric chemical reactions, resulting in modified O3 and aerosol amounts (Section 2.2). O3 and aerosol particles absorb, scatter and reflect SWR, changing the energy balance. Some aerosols act as cloud condensation nuclei modifying the properties of cloud droplets and possibly affecting precipitation (Section 7.4). Because cloud interactions with SWR and LWR are large, small changes in the properties of clouds have important implications for the radiative budget (Section 7.4). Anthropogenic changes in GHGs (e.g., CO2, CH4, N2O, O3, CFCs) and large aerosols (>2.5 μm in size) modify the amount of outgoing LWR by absorbing outgoing LWR and re-emitting less energy at a lower temperature (Section 2.2). Surface albedo is changed by changes in vegetation or land surface properties, snow or ice cover and ocean colour (Section 2.3). These changes are driven by natural seasonal and diurnal changes (e.g., snow cover), as well as human influence (e.g., changes in vegetation types) (Forster et al., 2007)."
   ]
  },
  {
   "cell_type": "markdown",
   "id": "746b9b5d",
   "metadata": {
    "slideshow": {
     "slide_type": "slide"
    }
   },
   "source": [
    "<img src='https://www.ipcc.ch/site/assets/uploads/2017/09/Fig1-02.jpg' width=\"800\">"
   ]
  },
  {
   "cell_type": "markdown",
   "id": "10f7042e",
   "metadata": {
    "slideshow": {
     "slide_type": "skip"
    }
   },
   "source": [
    "> Figure 1.2 | Climate feedbacks and timescales. The climate feedbacks related to increasing CO2 and rising temperature include negative feedbacks (–) such as LWR, lapse rate (see Glossary in Annex III), and air–sea carbon exchange and positive feedbacks (+) such as water vapour and snow/ice albedo feedbacks. Some feedbacks may be positive or negative (±): clouds, ocean circulation changes, air–land CO2 exchange, and emissions of non-GHGs and aerosols from natural systems. In the smaller box, the large difference in timescales for the various feedbacks is highlighted."
   ]
  },
  {
   "cell_type": "markdown",
   "id": "87a9cc83",
   "metadata": {
    "slideshow": {
     "slide_type": "slide"
    }
   },
   "source": [
    "### The key is that all these processes ultimately affect the planetary energy budget\n",
    "\n",
    "Let’s talk about **timescales**.\n",
    "\n",
    "Note that the IPCC figure only goes out to centuries – deep ocean circulation – but there are many even longer timescales in the climate system.\n",
    "e.g. growth and decay of ice sheets, geological processes like chemical weathering, continental drift\n",
    "\n",
    "The choice of which processes to include in a model should therefore be **guided by the timescales of interest**. For example, the IPCC process is primarily concerned with the century timescale – because it is of special concern to human affairs.\n",
    "So we don’t tend to include ice sheet and geological feedbacks – though coupled ice sheet modeling is becoming more important."
   ]
  },
  {
   "cell_type": "markdown",
   "id": "6cf7cccd",
   "metadata": {
    "slideshow": {
     "slide_type": "slide"
    }
   },
   "source": [
    "<img src=\"../../images/Primer_Table1.8.png\" width=\"800\">"
   ]
  },
  {
   "cell_type": "markdown",
   "id": "72230d86",
   "metadata": {
    "slideshow": {
     "slide_type": "slide"
    }
   },
   "source": [
    "____________\n",
    "<a id='section2'></a>\n",
    "## 2. Simulation versus Parameterization\n",
    "____________"
   ]
  },
  {
   "cell_type": "markdown",
   "id": "a6681634",
   "metadata": {
    "slideshow": {
     "slide_type": "slide"
    }
   },
   "source": [
    "### Definitions\n",
    "\n",
    "The *Climate Modelling Primer* (4th ed., page 124) defines **parameterization** as\n",
    "\n",
    "> The process of capturing a physical process through some mathematical relationship between important parameters in the process, but without explicitly modeling all the actual processes. For example, the albedo of leaves might be related to the soil moisture (via some specification of wilting point) but the physical and biological mechanisms in the plant that happen when the leaf wilts are not modelled."
   ]
  },
  {
   "cell_type": "markdown",
   "id": "8b339945",
   "metadata": {
    "slideshow": {
     "slide_type": "slide"
    }
   },
   "source": [
    "An example from our own work so far: the **greenhouse effect**, which causes the OLR to be much lower than the surface emission, and the equilibrium temperature of the surface to be much warmer than it would otherwise be.\n",
    "\n",
    "In reality the greenhouse effect arises from the contributions of several different gases, at various levels, to the absorption and emission of longwave radiation. Key greenhouse species include water vapor and cloud droplets, which both strongly tied to the day-to-day variations in weather.\n",
    "\n",
    "How can we represent this in a climate model?"
   ]
  },
  {
   "cell_type": "markdown",
   "id": "cd6aeda2",
   "metadata": {
    "slideshow": {
     "slide_type": "slide"
    }
   },
   "source": [
    "### Parameterization\n",
    "\n",
    "Represent the time-averaged, net effect of the complex radiative transfer process, and its coupling to day-to-day water and cloud variations, with an **empirical relationship**, e.g. \n",
    "\n",
    "$$ OLR = \\tau \\sigma T_s^4 $$\n",
    "\n",
    "Use observed temperature and OLR to choose an appropriate value for $\\tau$ \n",
    "\n",
    "(this is what we have done so far)"
   ]
  },
  {
   "cell_type": "markdown",
   "id": "6dc3c8be",
   "metadata": {
    "slideshow": {
     "slide_type": "slide"
    }
   },
   "source": [
    "#### Pro\n",
    "\n",
    "Simple to implement, easy to understand the result\n",
    "\n",
    "#### Con\n",
    "\n",
    "How might the value of $\\tau$ change with climate change? We have no way of knowing, and have to make assumptions."
   ]
  },
  {
   "cell_type": "markdown",
   "id": "caf2344d",
   "metadata": {
    "slideshow": {
     "slide_type": "slide"
    }
   },
   "source": [
    "### Simulation\n",
    "\n",
    "Solve a large set of coupled equations for the time-dependent behavior of the atmosphere:\n",
    "\n",
    "- Equations of radiative transfer, with detailed information about the various greenhouse gases\n",
    "- Equations of fluid motion to predict growth and decay of weather system and movement of water vapor\n",
    "- Cloud microphysics to predict the formation of cloud droplets and their optical properties\n",
    "\n",
    "This is essentially what goes on in a so-called GCM (General Circulation Model or Global Climate Model)."
   ]
  },
  {
   "cell_type": "markdown",
   "id": "bd38a0ed",
   "metadata": {
    "slideshow": {
     "slide_type": "slide"
    }
   },
   "source": [
    "#### Pro\n",
    "\n",
    "Model is based on real physical principles (e.g. Newton’s laws of motion, conservation of mass and energy). It is therefore more likely to remain valid under changing climate conditions.\n",
    "\n",
    "#### Con\n",
    "\n",
    "Requires lots of computer resources. Must simulate the weather even though we really just want the climate (statistics of weather!)"
   ]
  },
  {
   "cell_type": "markdown",
   "id": "6c017eb5",
   "metadata": {
    "slideshow": {
     "slide_type": "slide"
    }
   },
   "source": [
    "Essentially a **simulation** involves representing (at least some aspects of) the underlying rules that govern the process. *There is a chain of causality linking input to output*.\n",
    "\n",
    "**Parameterization** involves making assumptions about the **statistical properties** of the process – so we can calculate some relevant statistical properties of the output given the input, without needing to explicitly model the actual events."
   ]
  },
  {
   "cell_type": "markdown",
   "id": "7170e017",
   "metadata": {
    "slideshow": {
     "slide_type": "slide"
    }
   },
   "source": [
    "____________\n",
    "<a id='section3'></a>\n",
    "## 3. A taxonomy of climate models\n",
    "____________"
   ]
  },
  {
   "cell_type": "markdown",
   "id": "330dbf5a",
   "metadata": {
    "slideshow": {
     "slide_type": "slide"
    }
   },
   "source": [
    "### Key components of a climate model"
   ]
  },
  {
   "cell_type": "markdown",
   "id": "165b4195",
   "metadata": {
    "slideshow": {
     "slide_type": "fragment"
    }
   },
   "source": [
    "#### Radiation\n",
    "\n",
    "The way in which the input and absorption of solar radiation and the emission of infrared radiation are handled"
   ]
  },
  {
   "cell_type": "markdown",
   "id": "dc489962",
   "metadata": {
    "slideshow": {
     "slide_type": "fragment"
    }
   },
   "source": [
    "#### Dynamics\n",
    "\n",
    "The movement of energy around the globe by winds and ocean currents (specifically from low to high latitudes) and vertical movements (e.g. small-scale turbulence, convection and deep-water formation)"
   ]
  },
  {
   "cell_type": "markdown",
   "id": "ab895b94",
   "metadata": {
    "slideshow": {
     "slide_type": "slide"
    }
   },
   "source": [
    "#### Surface processes\n",
    "\n",
    "Inclusion of the effects of sea and land ice, snow, vegetation and the resultant change in albedo, emissivity and surface-atmosphere energy and moisture interchanges."
   ]
  },
  {
   "cell_type": "markdown",
   "id": "97814621",
   "metadata": {
    "slideshow": {
     "slide_type": "fragment"
    }
   },
   "source": [
    "#### Chemistry\n",
    "\n",
    "The chemical composition of the atmosphere and interactions, including biological, with other components (e.g. carbon exchanges between ocean, land and atmosphere)"
   ]
  },
  {
   "cell_type": "markdown",
   "id": "1f99f39d",
   "metadata": {
    "slideshow": {
     "slide_type": "fragment"
    }
   },
   "source": [
    "#### Resolution (in both time and space)\n",
    "\n",
    "The timestep of the model and the horizontal and vertical scales resolved."
   ]
  },
  {
   "cell_type": "markdown",
   "id": "a7aac058",
   "metadata": {
    "slideshow": {
     "slide_type": "slide"
    }
   },
   "source": [
    "### The climate modeling pyramid\n",
    "\n",
    "The edges represent the basic elements of the models, with **complexity increasing upwards**. Around the base of the pyramid are the simpler climate models, which incorporate only one primary process."
   ]
  },
  {
   "cell_type": "markdown",
   "id": "eef683ca",
   "metadata": {
    "slideshow": {
     "slide_type": "slide"
    }
   },
   "source": [
    "<img src='../../images/Primer_Figure2.2.png' width=\"800\">"
   ]
  },
  {
   "cell_type": "markdown",
   "id": "7babf00f",
   "metadata": {
    "slideshow": {
     "slide_type": "slide"
    }
   },
   "source": [
    "### Five basic types of climate model\n",
    "\n",
    "1. Energy Balance Models (EBMs)\n",
    "2. Radiative-Convective (RC) or Single-Column models (SCMs)\n",
    "3. \"Dimensionally Constrained\" models\n",
    "4. Global Circulation Models (GCMs)\n",
    "5. Earth System Models (ESMs)\n",
    "\n",
    "The vertical axis in the pyramid figures shows increasing complexity BOTH in terms of number of processes included and linked together, AND increasing resolution in space and time."
   ]
  },
  {
   "cell_type": "markdown",
   "id": "54f13853",
   "metadata": {
    "slideshow": {
     "slide_type": "slide"
    }
   },
   "source": [
    "### 1. Energy Balance Models (EBMs)\n",
    "\n",
    "Zero- or one-dimensional models predicting the surface (strictly the sea-level) temperature as a function of the energy balance of the Earth. \n",
    "\n",
    "Simplified relationships are used to calculate the terms contributing to the energy balance in each latitude zone in the one-dimensional case.\n",
    "\n",
    "*How might we extend our zero-dimensional model to include a latitude dimension? What new kinds of processes might we have to include?*"
   ]
  },
  {
   "cell_type": "markdown",
   "id": "de6760b1",
   "metadata": {
    "slideshow": {
     "slide_type": "slide"
    }
   },
   "source": [
    "### 2. Radiative-Convective (RC) or Single-Column models (SCMs)\n",
    "\n",
    "Focus on processes in the **vertical column**. \n",
    "\n",
    "- RC models compute the (usually global average) temperature profile by explicit modelling of **radiation** and **convection** processes, which together determine the *lapse rate. \n",
    "- SCMs are single columns 'extracted' from a three-dimensional model and include all the processes that would be modelled in the three-dimensional version but without any of the horizontal energy transfers."
   ]
  },
  {
   "cell_type": "markdown",
   "id": "71736172",
   "metadata": {
    "slideshow": {
     "slide_type": "slide"
    }
   },
   "source": [
    "### 3. Dimensionally constrained models\n",
    "\n",
    "Include the following:\n",
    "\n",
    "- Statistical-Dynamical (SD) models, deal explicitly with surface processes and dynamics in a zonal average (average around latitude circles) framework and have a vertically resolved atmosphere. \n",
    "- Earth-System Models of Intermediate Complexity (EMICs) extend SD models to include interactive chemistry, especially the cycling of carbon between ocean, atmosphere and land.\n",
    "- Integrated Assessment Models (IAMs) couple the climate system to models of economic activity to more fully assess the impact of particular policy choices affective emissions."
   ]
  },
  {
   "cell_type": "markdown",
   "id": "fca8b4e2",
   "metadata": {
    "slideshow": {
     "slide_type": "slide"
    }
   },
   "source": [
    "### 4. Global Circulation Models (GCMs)\n",
    "\n",
    "The **three-dimensional nature** of the atmosphere and ocean is incorporated. \n",
    "\n",
    "These models can exists as *fully coupled ocean-atmosphere models* or, for testing and evaluation, as independent ocean or atmospheric circulation models. \n",
    "\n",
    "These models attempt to simulate as many processes as possible and produce a three-dimensional picture of the time evolution of the state of the whole climate system. \n",
    "\n",
    "Vertical resolution is much finer than horizontal resolution but, even so, the number of layers is usually much less than the number of columns."
   ]
  },
  {
   "cell_type": "markdown",
   "id": "19e468f5",
   "metadata": {
    "slideshow": {
     "slide_type": "slide"
    }
   },
   "source": [
    "#### Fun fact\n",
    "\n",
    "Depending on who you ask, **GCM** stands for any of the following:\n",
    "\n",
    "- **General Circulation Model** (the original)\n",
    "- **Global Climate Model** (more common these days)\n",
    "- **Global Circulation Model** (possibly the most accurate name)\n",
    "\n",
    "A GCM was originally a representation of the processes that shape and maintain the **time-average circulation** of the atmosphere, e.g. why are the surface winds, on average, westerly in mid-latitudes and easterly in the tropics?"
   ]
  },
  {
   "cell_type": "markdown",
   "id": "19a771ea",
   "metadata": {
    "slideshow": {
     "slide_type": "slide"
    }
   },
   "source": [
    "Distinctions have historically been drawn between **oceanic** and **atmospheric** general circulation models, which are often denoted **OGCM** and **AGCM** respectively. \n",
    "\n",
    "As the pyramid is ascended, more processes are integrated to develop a coupled ocean-atmosphere global model, which might be denoted **AOGCM** or **CGCM**."
   ]
  },
  {
   "cell_type": "markdown",
   "id": "c4d1e423",
   "metadata": {
    "slideshow": {
     "slide_type": "slide"
    }
   },
   "source": [
    "### 5. Earth System Models\n",
    "\n",
    "Ascending the pyramid even more and moving forward in climate modeling history, more processes that used to be fixed come to be incorporated into GCMs and the coupling becomes more complete: e.g. changes in biomes and vegetation, chemical changes in atmosphere, ocean and soil.  \n",
    "\n",
    "Such models are now generally known as **Earth System Models**. \n",
    "\n",
    "For brevity we use the generic term GCM to mean any complex three-dimensional model of the atmosphere and ocean and possibly other components, used for climate simulation. We will be more precise where necessary."
   ]
  },
  {
   "cell_type": "markdown",
   "id": "f3fb8e8e",
   "metadata": {
    "slideshow": {
     "slide_type": "slide"
    }
   },
   "source": [
    "### Simple vs. Complex models: their different roles in the science"
   ]
  },
  {
   "cell_type": "markdown",
   "id": "1f413013",
   "metadata": {
    "slideshow": {
     "slide_type": "slide"
    }
   },
   "source": [
    "<img src='../../images/Primer_Table2.1.png' width=\"800\">"
   ]
  },
  {
   "cell_type": "markdown",
   "id": "fd7f9d67",
   "metadata": {
    "slideshow": {
     "slide_type": "slide"
    }
   },
   "source": [
    "In this course we are going to work extensively with two kinds of simple one-dimensional model: **EBM**s and **RCM**s. \n",
    "\n",
    "Section 2.2.1 and 2.2.2 of the *Primer* give a sneak peek of the ingredients and uses for these models."
   ]
  },
  {
   "cell_type": "markdown",
   "id": "358b22da",
   "metadata": {
    "slideshow": {
     "slide_type": "slide"
    }
   },
   "source": [
    "____________\n",
    "<a id='section4'></a>\n",
    "## 4. Introducing the GCM\n",
    "____________"
   ]
  },
  {
   "cell_type": "markdown",
   "id": "c46b4d5b",
   "metadata": {},
   "source": [
    "### Ingredients of the GCM\n",
    "\n",
    "The aim of the GCM is the calculation of the **full three-dimensional character** of the atmosphere and ocean.  \n",
    "\n",
    "To **simulate** the fluid flow and its effects on other components of the climate system, instead of **parameterizing** the flow."
   ]
  },
  {
   "cell_type": "markdown",
   "id": "b90e4cdc",
   "metadata": {
    "slideshow": {
     "slide_type": "slide"
    }
   },
   "source": [
    "This requires the solution of a series of equations governing the motion of fluids\n",
    "\n",
    "- Conservation of energy\n",
    "- Conservation of momentum, Newton's 2nd law of motion (F=ma) for a moving fluid\n",
    "- Conservation of mass, for the fluid itself (air or water) as well as any quantities carried by the fluid (e.g. water vapor in the atmosphere, salt in the ocean)\n",
    "- Equation of state, linking thermodynamic properties of the fluid (e.g. ideal gas law for atmosphere)\n",
    "- Also, equations for the formation of clouds, sea ice, etc."
   ]
  },
  {
   "cell_type": "markdown",
   "id": "829d7186",
   "metadata": {},
   "source": [
    "Atmospheric Science students will recognize this list - the so-called \"governing equations\" for the atmosphere. \n",
    "\n",
    "These equations are the basis of *numerical weather prediction* as well as climate modeling."
   ]
  },
  {
   "cell_type": "markdown",
   "id": "461b196c",
   "metadata": {
    "slideshow": {
     "slide_type": "slide"
    }
   },
   "source": [
    "The physical laws are expressed in terms of **differential equations**. \n",
    "\n",
    "Just as we saw with the zero-dimensional EBM, we need to approximate the derivatives in order to represent them on a computer."
   ]
  },
  {
   "cell_type": "markdown",
   "id": "bca63eb8",
   "metadata": {
    "slideshow": {
     "slide_type": "slide"
    }
   },
   "source": [
    "One way to do this is to divide the Earth into a **series of boxes on a regular grid**. \n",
    "\n",
    "The model then represents all the **state variables**, e.g. for the atmosphere\n",
    "\n",
    "- Temperature\n",
    "- Wind speed and direction\n",
    "- Humidity\n",
    "- Pressure\n",
    "\n",
    "for each box - essentially a spatial average of these quantities over the box.\n",
    "\n",
    "The discretized equations are then solved numerically by **timestepping**, (conceptually at least) just like we have already done with the EBM."
   ]
  },
  {
   "cell_type": "markdown",
   "id": "6e8c5804",
   "metadata": {
    "slideshow": {
     "slide_type": "slide"
    }
   },
   "source": [
    "<img src='http://www.atmos.albany.edu/facstaff/brose/classes/ENV415_Spring2018/images/Primer_Figure2.5.png' width=\"800\">"
   ]
  },
  {
   "cell_type": "markdown",
   "id": "cb77ca20",
   "metadata": {
    "slideshow": {
     "slide_type": "slide"
    }
   },
   "source": [
    "### Evolving complexity of GCMs"
   ]
  },
  {
   "cell_type": "markdown",
   "id": "89e14390",
   "metadata": {
    "slideshow": {
     "slide_type": "slide"
    }
   },
   "source": [
    "<img src='https://www.ipcc.ch/site/assets/uploads/2018/02/Fig1-13.jpg' width=\"800\">"
   ]
  },
  {
   "cell_type": "markdown",
   "id": "93c5e8b8",
   "metadata": {
    "slideshow": {
     "slide_type": "skip"
    }
   },
   "source": [
    "> Figure 1.13 | The development of climate models over the last 35 years showing how the different components were coupled into comprehensive climate models over time. In each aspect (e.g., the atmosphere, which comprises a wide range of atmospheric processes) the complexity and range of processes has increased over time (illustrated by growing cylinders). Note that during the same time the horizontal and vertical resolution has increased considerably e.g., for spectral models from T21L9 (roughly 500 km horizontal resolu- tion and 9 vertical levels) in the 1970s to T95L95 (roughly 100 km horizontal resolution and 95 vertical levels) at present, and that now ensembles with at least three independent experiments can be considered as standard."
   ]
  },
  {
   "cell_type": "markdown",
   "id": "377a77a3",
   "metadata": {
    "slideshow": {
     "slide_type": "slide"
    }
   },
   "source": [
    "<img src='http://www.climatechange2013.org/images/figures/WGI_AR5_Fig1-14.jpg' width=\"800\">"
   ]
  },
  {
   "cell_type": "markdown",
   "id": "9e9c86bf",
   "metadata": {
    "slideshow": {
     "slide_type": "skip"
    }
   },
   "source": [
    "> Figure 1.14 | Horizontal resolutions considered in today’s higher resolution models and in the very high resolution models now being tested: (a) Illustration of the European topography at a resolution of 87.5 × 87.5 km; (b) same as (a) but for a resolution of 30.0 × 30.0 km."
   ]
  },
  {
   "cell_type": "markdown",
   "id": "26c09721",
   "metadata": {
    "slideshow": {
     "slide_type": "slide"
    }
   },
   "source": [
    "### A hierarchy of complexity for ocean models"
   ]
  },
  {
   "cell_type": "markdown",
   "id": "0e6a28a8",
   "metadata": {},
   "source": [
    "<img src=\"http://www.atmos.albany.edu/facstaff/brose/classes/ENV415_Spring2018/images/Primer_Figure2.9.png\" width=\"800\" alt=\"Figure 2.9: ocean model hierarchy\">"
   ]
  },
  {
   "cell_type": "markdown",
   "id": "82d0d04e",
   "metadata": {
    "slideshow": {
     "slide_type": "slide"
    }
   },
   "source": [
    "One goal of all this complexity is to do **more simulation** and **less parameterization** in order to get a more accurate prediction of climate change.\n",
    "\n",
    "In terms of our simple view of planetary energy budget, **we are trying to represent the net climate feedback parameter $\\lambda$ correctly**, and so get the correct climate sensitivity.\n",
    "\n",
    "Ideally this means basing the model on **laws of physics and chemistry**."
   ]
  },
  {
   "cell_type": "markdown",
   "id": "583546c5",
   "metadata": {
    "slideshow": {
     "slide_type": "slide"
    }
   },
   "source": [
    "However it doesn’t always work this way. In many cases we know that a feedback operates in nature, but we can’t represent it in terms of first principles.\n",
    "\n",
    "Land surface processes are a good example.\n",
    "\n",
    "Exchanges of energy, water and carbon between the land and atmosphere are biologically mediated. We must (to a certain extent) rely on empirical relationships. A bit like economic modeling.\n",
    "\n",
    "We also must deal with interaction across spatial scales.\n",
    "\n",
    "E.g. cumulus convection and vertical transport of heat and water vapor"
   ]
  },
  {
   "cell_type": "markdown",
   "id": "94a8a702",
   "metadata": {
    "slideshow": {
     "slide_type": "slide"
    }
   },
   "source": [
    "____________\n",
    "<a id='section5'></a>\n",
    "## 5. What can we resolve with a 2º atmosphere?\n",
    "____________\n",
    "\n",
    "The following animation shows contours of sea level pressure in the control simulation. It is based on 6-hourly output from the numerical model.\n",
    "\n",
    "The atmosphere is simulated with a 2º finite volume dynamical core."
   ]
  },
  {
   "cell_type": "code",
   "execution_count": null,
   "id": "a2e4ad01",
   "metadata": {
    "slideshow": {
     "slide_type": "slide"
    }
   },
   "outputs": [],
   "source": [
    "from IPython.display import YouTubeVideo\n",
    "YouTubeVideo('As85L34fKYQ')"
   ]
  },
  {
   "cell_type": "markdown",
   "id": "fd22beec",
   "metadata": {
    "slideshow": {
     "slide_type": "slide"
    }
   },
   "source": [
    "### Discussion point:\n",
    "How well does this represent the true general circulation of the atmosphere?"
   ]
  },
  {
   "cell_type": "markdown",
   "id": "0ac1af1f",
   "metadata": {
    "slideshow": {
     "slide_type": "skip"
    }
   },
   "source": [
    "____________\n",
    "\n",
    "## Citation information\n",
    "\n",
    "Several figures above are reproduced from Chapter 1 of the IPCC AR5 Working Group 1 report.\n",
    "The report and images can be found online at http://www.climatechange2013.org/report/full-report/\n",
    "\n",
    "The full citation is:\n",
    "\n",
    "> Cubasch, U., D. Wuebbles, D. Chen, M.C. Facchini, D. Frame, N. Mahowald and J.-G. Winther, 2013: Introduction. In: Climate Change 2013: The Physical Science Basis. Contribution of Working Group I to the Fifth Assessment Report of the Intergovernmental Panel on Climate Change [Stocker, T.F., D. Qin, G.-K. Plattner, M. Tignor, S.K. Allen, J. Boschung, A. Nauels, Y. Xia, V. Bex and P.M. Midgley (eds.)]. Cambridge University Press, Cambridge, United Kingdom and New York, NY, USA, pp. 119–158, doi:10.1017/CBO9781107415324.007.\n",
    "\n",
    "Some other figures are reproduced from [*The Climate Modelling Primer* (4th ed)](https://www.wiley.com/en-us/The+Climate+Modelling+Primer%2C+4th+Edition-p-9781119943365)  by Kendal McGuffie and Ann Henderson-Sellers, Wiley-Blackwell 2014.\n",
    "\n",
    "____________"
   ]
  },
  {
   "cell_type": "markdown",
   "id": "d76fc73b",
   "metadata": {
    "slideshow": {
     "slide_type": "skip"
    }
   },
   "source": [
    "____________\n",
    "\n",
    "## Credits\n",
    "\n",
    "This notebook is part of [The Climate Laboratory](https://brian-rose.github.io/ClimateLaboratoryBook), an open-source textbook developed and maintained by [Brian E. J. Rose](http://www.atmos.albany.edu/facstaff/brose/index.html), University at Albany.\n",
    "\n",
    "It is licensed for free and open consumption under the\n",
    "[Creative Commons Attribution 4.0 International (CC BY 4.0)](https://creativecommons.org/licenses/by/4.0/) license.\n",
    "\n",
    "Development of these notes and the [climlab software](https://github.com/brian-rose/climlab) is partially supported by the National Science Foundation under award AGS-1455071 to Brian Rose. Any opinions, findings, conclusions or recommendations expressed here are mine and do not necessarily reflect the views of the National Science Foundation.\n",
    "____________"
   ]
  }
 ],
 "metadata": {
  "jupytext": {
   "text_representation": {
    "extension": ".md",
    "format_name": "myst",
    "format_version": 0.13,
    "jupytext_version": "1.14.4"
   }
  },
  "kernelspec": {
   "display_name": "Python 3 (ipykernel)",
   "language": "python",
   "name": "python3"
  },
  "source_map": [
   14,
   21,
   28,
   36,
   40,
   46,
   52,
   57,
   62,
   67,
   73,
   77,
   81,
   85,
   89,
   101,
   105,
   112,
   120,
   128,
   140,
   150,
   162,
   172,
   178,
   185,
   189,
   195,
   201,
   207,
   213,
   219,
   225,
   229,
   241,
   251,
   260,
   270,
   282,
   294,
   300,
   310,
   314,
   318,
   324,
   331,
   339,
   349,
   355,
   361,
   376,
   380,
   384,
   388,
   392,
   396,
   400,
   404,
   408,
   416,
   428,
   439,
   448,
   453,
   470
  ]
 },
 "nbformat": 4,
 "nbformat_minor": 5
}