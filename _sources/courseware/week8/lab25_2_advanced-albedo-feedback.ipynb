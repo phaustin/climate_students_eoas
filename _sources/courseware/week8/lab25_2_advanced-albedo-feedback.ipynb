{
 "cells": [
  {
   "cell_type": "markdown",
   "id": "a5ea19c5",
   "metadata": {
    "slideshow": {
     "slide_type": "slide"
    }
   },
   "source": [
    "# Advanced topic: Ice albedo feedback in the EBM -- test2\n",
    "\n",
    "This notebook is part of [The Climate Laboratory](https://brian-rose.github.io/ClimateLaboratoryBook) by [Brian E. J. Rose](http://www.atmos.albany.edu/facstaff/brose/index.html), University at Albany."
   ]
  },
  {
   "cell_type": "markdown",
   "id": "2c186811",
   "metadata": {},
   "source": [
    "*These notes and the companion [Advanced topic: Snowball Earth and Large Ice Cap Instability in the EBM](https://brian-rose.github.io/ClimateLaboratoryBook/courseware/advanced-snowball-earth.html) extend the material in the [Ice-albedo feedback and Snowball Earth in the EBM](https://brian-rose.github.io/ClimateLaboratoryBook/courseware/albedo-snowball.html) notes.*"
   ]
  },
  {
   "cell_type": "markdown",
   "id": "9015b87e",
   "metadata": {
    "slideshow": {
     "slide_type": "slide"
    }
   },
   "source": [
    "____________\n",
    "<a id='section1'></a>\n",
    "\n",
    "## 1. Interactive snow and ice line in the EBM\n",
    "____________"
   ]
  },
  {
   "cell_type": "markdown",
   "id": "c2edeb45",
   "metadata": {
    "slideshow": {
     "slide_type": "slide"
    }
   },
   "source": [
    "### The annual mean EBM\n",
    "\n",
    "The equation is\n",
    "\n",
    "\\begin{align*}\n",
    "C(\\phi) \\frac{\\partial T_s}{\\partial t} = & ~(1-\\alpha) ~ Q - \\left( A + B~T_s \\right) +  \\\\\n",
    "& \\frac{D}{\\cos⁡\\phi } \\frac{\\partial }{\\partial \\phi} \\left(\\cos⁡\\phi  ~ \\frac{\\partial T_s}{\\partial \\phi} \\right)\n",
    "\\end{align*}"
   ]
  },
  {
   "cell_type": "markdown",
   "id": "bf8d7632",
   "metadata": {
    "slideshow": {
     "slide_type": "slide"
    }
   },
   "source": [
    "### Temperature-dependent ice line parameterization\n",
    "\n",
    "Let the surface albedo be larger wherever the temperature is below some threshold $T_f$:\n",
    "\n",
    "$$ \\alpha\\left(\\phi, T(\\phi) \\right) = \\left\\{\\begin{array}{ccc} \n",
    "\\alpha_0 + \\alpha_2 P_2(\\sin\\phi) & ~ & T(\\phi) > T_f \\\\\n",
    "a_i & ~ & T(\\phi) \\le T_f \\\\\n",
    "\\end{array} \\right. $$"
   ]
  },
  {
   "cell_type": "markdown",
   "id": "935a4b69",
   "metadata": {},
   "source": [
    "### Adding the interactive ice line to the EBM in climlab"
   ]
  },
  {
   "cell_type": "code",
   "execution_count": null,
   "id": "aa34608f",
   "metadata": {
    "slideshow": {
     "slide_type": "slide"
    }
   },
   "outputs": [],
   "source": [
    "%matplotlib inline\n",
    "import numpy as np\n",
    "import matplotlib.pyplot as plt\n",
    "import climlab"
   ]
  },
  {
   "cell_type": "code",
   "execution_count": null,
   "id": "fd22bc95",
   "metadata": {},
   "outputs": [],
   "source": [
    "#  for convenience, set up a dictionary with our reference parameters\n",
    "param = {'A':210, 'B':2, 'a0':0.3, 'a2':0.078, 'ai':0.62, 'Tf':-10.}\n",
    "model1 = climlab.EBM_annual(name='Annual EBM with ice line', \n",
    "                            num_lat=180, D=0.55, **param )\n",
    "print( model1)"
   ]
  },
  {
   "cell_type": "markdown",
   "id": "f650dc1b",
   "metadata": {
    "slideshow": {
     "slide_type": "slide"
    }
   },
   "source": [
    "Because we provided a parameter `ai` for the icy albedo, our model now contains several sub-processes contained within the process called `albedo`. Together these implement the step-function formula above.\n",
    "\n",
    "The process called `iceline` simply looks for grid cells with temperature below $T_f$."
   ]
  },
  {
   "cell_type": "code",
   "execution_count": null,
   "id": "4600e289",
   "metadata": {},
   "outputs": [],
   "source": [
    "print(model1.param)"
   ]
  },
  {
   "cell_type": "code",
   "execution_count": null,
   "id": "ab996ede",
   "metadata": {
    "slideshow": {
     "slide_type": "skip"
    }
   },
   "outputs": [],
   "source": [
    "def ebm_plot( model, figsize=(8,12), show=True ):\n",
    "    '''This function makes a plot of the current state of the model,\n",
    "    including temperature, energy budget, and heat transport.'''\n",
    "    templimits = -30,35\n",
    "    radlimits = -340, 340\n",
    "    htlimits = -7,7\n",
    "    latlimits = -90,90\n",
    "    lat_ticks = np.arange(-90,90,30)\n",
    "    \n",
    "    fig = plt.figure(figsize=figsize)\n",
    "    \n",
    "    ax1 = fig.add_subplot(3,1,1)\n",
    "    ax1.plot(model.lat, model.Ts)\n",
    "    ax1.set_xlim(latlimits)\n",
    "    ax1.set_ylim(templimits)\n",
    "    ax1.set_ylabel('Temperature (deg C)')\n",
    "    ax1.set_xticks( lat_ticks )\n",
    "    ax1.grid()\n",
    "    \n",
    "    ax2 = fig.add_subplot(3,1,2)\n",
    "    ax2.plot(model.lat, model.ASR, 'k--', label='SW' )\n",
    "    ax2.plot(model.lat, -model.OLR, 'r--', label='LW' )\n",
    "    ax2.plot(model.lat, model.net_radiation, 'c-', label='net rad' )\n",
    "    ax2.plot(model.lat, model.heat_transport_convergence, 'g--', label='dyn' )\n",
    "    ax2.plot(model.lat, model.net_radiation\n",
    "                        + model.heat_transport_convergence, 'b-', label='total' )\n",
    "    ax2.set_xlim(latlimits)\n",
    "    ax2.set_ylim(radlimits)\n",
    "    ax2.set_ylabel('Energy budget (W m$^{-2}$)')\n",
    "    ax2.set_xticks( lat_ticks )\n",
    "    ax2.grid()\n",
    "    ax2.legend()\n",
    "    \n",
    "    ax3 = fig.add_subplot(3,1,3)\n",
    "    ax3.plot(model.lat_bounds, model.heat_transport)\n",
    "    ax3.set_xlim(latlimits)\n",
    "    ax3.set_ylim(htlimits)\n",
    "    ax3.set_ylabel('Heat transport (PW)')\n",
    "    ax3.set_xlabel('Latitude')\n",
    "    ax3.set_xticks( lat_ticks )\n",
    "    ax3.grid()\n",
    "\n",
    "    return fig"
   ]
  },
  {
   "cell_type": "code",
   "execution_count": null,
   "id": "a0ead7a1",
   "metadata": {
    "slideshow": {
     "slide_type": "slide"
    }
   },
   "outputs": [],
   "source": [
    "model1.integrate_years(5)\n",
    "f = ebm_plot(model1)"
   ]
  },
  {
   "cell_type": "code",
   "execution_count": null,
   "id": "52760df1",
   "metadata": {
    "slideshow": {
     "slide_type": "slide"
    }
   },
   "outputs": [],
   "source": [
    "model1.icelat"
   ]
  },
  {
   "cell_type": "markdown",
   "id": "6509ed4b",
   "metadata": {
    "slideshow": {
     "slide_type": "slide"
    }
   },
   "source": [
    "____________\n",
    "<a id='section2'></a>\n",
    "\n",
    "## 2. Polar-amplified warming in the EBM\n",
    "____________"
   ]
  },
  {
   "cell_type": "markdown",
   "id": "582ab12a",
   "metadata": {
    "slideshow": {
     "slide_type": "slide"
    }
   },
   "source": [
    "### Add a small radiative forcing\n",
    "\n",
    "The equivalent of doubling CO2 in this model is something like \n",
    "\n",
    "$$ A \\rightarrow A - \\delta A $$\n",
    "\n",
    "where $\\delta A = 4$ W m$^{-2}$."
   ]
  },
  {
   "cell_type": "code",
   "execution_count": null,
   "id": "d4fa8a20",
   "metadata": {
    "slideshow": {
     "slide_type": "slide"
    }
   },
   "outputs": [],
   "source": [
    "deltaA = 4.\n",
    "\n",
    "model2 = climlab.process_like(model1)\n",
    "model2.subprocess['LW'].A = param['A'] - deltaA\n",
    "model2.integrate_years(5, verbose=False)\n",
    "\n",
    "plt.plot(model1.lat, model1.Ts)\n",
    "plt.plot(model2.lat, model2.Ts)"
   ]
  },
  {
   "cell_type": "markdown",
   "id": "96bbf525",
   "metadata": {
    "slideshow": {
     "slide_type": "slide"
    }
   },
   "source": [
    "The warming is polar-amplified:  more warming at the poles than elsewhere.\n",
    "\n",
    "Why?\n",
    "\n",
    "Also, the current ice line is now:"
   ]
  },
  {
   "cell_type": "code",
   "execution_count": null,
   "id": "179f316b",
   "metadata": {},
   "outputs": [],
   "source": [
    "model2.icelat"
   ]
  },
  {
   "cell_type": "markdown",
   "id": "8fd2abd1",
   "metadata": {},
   "source": [
    "There is no ice left!"
   ]
  },
  {
   "cell_type": "markdown",
   "id": "551aac7c",
   "metadata": {
    "slideshow": {
     "slide_type": "slide"
    }
   },
   "source": [
    "### Effects of further radiative forcing in the ice-free regime\n",
    "\n",
    "Let's do some more greenhouse warming:"
   ]
  },
  {
   "cell_type": "code",
   "execution_count": null,
   "id": "5eca36bd",
   "metadata": {},
   "outputs": [],
   "source": [
    "model3 = climlab.process_like(model1)\n",
    "model3.subprocess['LW'].A = param['A'] - 2*deltaA\n",
    "model3.integrate_years(5, verbose=False)\n",
    "\n",
    "plt.plot(model1.lat, model1.Ts)\n",
    "plt.plot(model2.lat, model2.Ts)\n",
    "plt.plot(model3.lat, model3.Ts)\n",
    "plt.xlim(-90, 90)\n",
    "plt.grid()"
   ]
  },
  {
   "cell_type": "markdown",
   "id": "80f101ab",
   "metadata": {
    "slideshow": {
     "slide_type": "slide"
    }
   },
   "source": [
    "In the ice-free regime, there is no polar-amplified warming. A uniform radiative forcing produces a uniform warming."
   ]
  },
  {
   "cell_type": "markdown",
   "id": "e361dec2",
   "metadata": {
    "slideshow": {
     "slide_type": "slide"
    }
   },
   "source": [
    "____________\n",
    "<a id='section3'></a>\n",
    "\n",
    "## 3. Effects of diffusivity in the annual mean EBM with albedo feedback\n",
    "____________"
   ]
  },
  {
   "cell_type": "markdown",
   "id": "632d6005",
   "metadata": {
    "slideshow": {
     "slide_type": "slide"
    }
   },
   "source": [
    "### In-class investigation: Effects of diffusivity with albedo feedback\n",
    "\n",
    "We will repeat the diffusivity-tuning exercise from the [notes on the 1D EBM](https://brian-rose.github.io/ClimateLaboratoryBook/courseware/one-dim-ebm.html), but this time with albedo feedback included in our model.\n",
    "\n",
    "- Solve the annual-mean EBM (integrate out to equilibrium) over a range of different diffusivity parameters.\n",
    "- Make three plots:\n",
    "    - Global-mean temperature as a function of $D$\n",
    "    - Equator-to-pole temperature difference $\\Delta T$ as a function of $D$\n",
    "    - Poleward heat transport across 35 degrees $\\mathcal{H}_{max}$ as a function of $D$\n",
    "- Choose a value of $D$ that gives a reasonable approximation to observations:\n",
    "    - $\\Delta T \\approx 45$ ºC"
   ]
  },
  {
   "cell_type": "markdown",
   "id": "bba9a5a0",
   "metadata": {
    "slideshow": {
     "slide_type": "slide"
    }
   },
   "source": [
    "Use these parameter values:"
   ]
  },
  {
   "cell_type": "code",
   "execution_count": null,
   "id": "fe6d01d9",
   "metadata": {},
   "outputs": [],
   "source": [
    "param = {'A':210, 'B':2, 'a0':0.3, 'a2':0.078, 'ai':0.62, 'Tf':-10.}\n",
    "print( param)"
   ]
  },
  {
   "cell_type": "code",
   "execution_count": null,
   "id": "56c3d2f0",
   "metadata": {},
   "outputs": [],
   "source": []
  },
  {
   "cell_type": "markdown",
   "id": "c628d3f1",
   "metadata": {
    "slideshow": {
     "slide_type": "slide"
    }
   },
   "source": [
    "### One possible way to do this:"
   ]
  },
  {
   "cell_type": "code",
   "execution_count": null,
   "id": "56ec41cd",
   "metadata": {},
   "outputs": [],
   "source": [
    "Darray = np.arange(0., 2.05, 0.05)"
   ]
  },
  {
   "cell_type": "code",
   "execution_count": null,
   "id": "634fd59b",
   "metadata": {
    "slideshow": {
     "slide_type": "slide"
    }
   },
   "outputs": [],
   "source": [
    "model_list = []\n",
    "Tmean_list = []\n",
    "deltaT_list = []\n",
    "Hmax_list = []\n",
    "for D in Darray:\n",
    "    ebm = climlab.EBM_annual(num_lat=360, D=D, **param )\n",
    "    ebm.integrate_years(5., verbose=False)\n",
    "    Tmean = ebm.global_mean_temperature()\n",
    "    deltaT = np.max(ebm.Ts) - np.min(ebm.Ts)\n",
    "    HT = np.squeeze(ebm.heat_transport)\n",
    "    ind = np.where(ebm.lat_bounds==35.5)[0]\n",
    "    Hmax = HT[ind]\n",
    "    model_list.append(ebm)\n",
    "    Tmean_list.append(Tmean)\n",
    "    deltaT_list.append(deltaT)\n",
    "    Hmax_list.append(Hmax)"
   ]
  },
  {
   "cell_type": "code",
   "execution_count": null,
   "id": "682a2df7",
   "metadata": {
    "slideshow": {
     "slide_type": "skip"
    }
   },
   "outputs": [],
   "source": [
    "color1 = 'b'\n",
    "color2 = 'r'\n",
    "\n",
    "fig = plt.figure(figsize=(8,6))\n",
    "ax1 = fig.add_subplot(111)\n",
    "ax1.plot(Darray, deltaT_list, color=color1, label='$\\Delta T$')\n",
    "ax1.plot(Darray, Tmean_list, '--', color=color1, label='$\\overline{T}$')\n",
    "ax1.set_xlabel('D (W m$^{-2}$ K$^{-1}$)', fontsize=14)\n",
    "ax1.set_xticks(np.arange(Darray[0], Darray[-1], 0.2))\n",
    "ax1.set_ylabel('Temperature ($^\\circ$C)', fontsize=14,  color=color1)\n",
    "for tl in ax1.get_yticklabels():\n",
    "    tl.set_color(color1)\n",
    "ax1.legend(loc='center right')\n",
    "ax2 = ax1.twinx()\n",
    "ax2.plot(Darray, Hmax_list, color=color2)\n",
    "ax2.set_ylabel('Poleward heat transport across 35.5$^\\circ$ (PW)', fontsize=14, color=color2)\n",
    "for tl in ax2.get_yticklabels():\n",
    "    tl.set_color(color2)\n",
    "ax1.set_title('Effect of diffusivity on EBM with albedo feedback', fontsize=16)\n",
    "ax1.grid()"
   ]
  },
  {
   "cell_type": "markdown",
   "id": "6ebfcafa",
   "metadata": {},
   "source": [
    "Discuss!\n",
    "\n",
    "The heat transport is no longer stricly monotonic in diffusivity $D$. The kink in the graph results from competing effects of increased transport efficiency and decreased temperature gradients due to ice loss.\n",
    "\n",
    "Realistic present-day conditions seem to occur right near the local maximum of the $\\mathcal{H}_{max}$ graph, showing that total heat transport is relatively insensitive to details of the atmosphere-ocean dynamics.\n",
    "\n",
    "This actually reproduces a result from a classic paper:\n",
    "\n",
    "[Stone (1978), Constraints on dynamical transports of energy on a spherical planet. *Dyn. Atmos. Oceans* 2, 123--139](https://www.sciencedirect.com/science/article/pii/0377026578900064)"
   ]
  },
  {
   "cell_type": "markdown",
   "id": "3443749c",
   "metadata": {
    "slideshow": {
     "slide_type": "slide"
    }
   },
   "source": [
    "____________\n",
    "\n",
    "## 4. Diffusive response to a point source of energy\n",
    "____________"
   ]
  },
  {
   "cell_type": "markdown",
   "id": "70e3fdeb",
   "metadata": {
    "slideshow": {
     "slide_type": "slide"
    }
   },
   "source": [
    "### Step 1: Adding a point heat source to the EBM without albedo feedback\n",
    "\n",
    "Let's add a point heat source to the EBM and see what sets the spatial structure of the response.\n",
    "\n",
    "We will add a heat source at about 45º latitude.\n",
    "\n",
    "First, we will calculate the response in a model **without albedo feedback**."
   ]
  },
  {
   "cell_type": "code",
   "execution_count": null,
   "id": "4cdff987",
   "metadata": {
    "slideshow": {
     "slide_type": "slide"
    }
   },
   "outputs": [],
   "source": [
    "param_noalb = {'A': 210, 'B': 2, 'D': 0.55, 'Tf': -10.0, 'a0': 0.3, 'a2': 0.078}\n",
    "m1 = climlab.EBM_annual(num_lat=180, **param_noalb)\n",
    "print(m1)"
   ]
  },
  {
   "cell_type": "code",
   "execution_count": null,
   "id": "a6f75398",
   "metadata": {
    "slideshow": {
     "slide_type": "-"
    }
   },
   "outputs": [],
   "source": [
    "m1.integrate_years(5.)"
   ]
  },
  {
   "cell_type": "code",
   "execution_count": null,
   "id": "1a6de56c",
   "metadata": {
    "slideshow": {
     "slide_type": "slide"
    }
   },
   "outputs": [],
   "source": [
    "m2 = climlab.process_like(m1)"
   ]
  },
  {
   "cell_type": "code",
   "execution_count": null,
   "id": "a7d5cc8c",
   "metadata": {},
   "outputs": [],
   "source": [
    "point_source = climlab.process.energy_budget.ExternalEnergySource(state=m2.state, timestep=m2.timestep)\n",
    "ind = np.where(m2.lat == 45.5)\n",
    "point_source.heating_rate['Ts'][ind] = 100.\n",
    "\n",
    "m2.add_subprocess('point source', point_source)\n",
    "print( m2)"
   ]
  },
  {
   "cell_type": "code",
   "execution_count": null,
   "id": "7f7bf324",
   "metadata": {},
   "outputs": [],
   "source": [
    "m2.integrate_years(5.)"
   ]
  },
  {
   "cell_type": "code",
   "execution_count": null,
   "id": "8ee47f47",
   "metadata": {
    "slideshow": {
     "slide_type": "slide"
    }
   },
   "outputs": [],
   "source": [
    "plt.plot(m2.lat, m2.Ts - m1.Ts)\n",
    "plt.xlim(-90,90)\n",
    "plt.grid()"
   ]
  },
  {
   "cell_type": "markdown",
   "id": "0ece589e",
   "metadata": {
    "slideshow": {
     "slide_type": "slide"
    }
   },
   "source": [
    "The warming effects of our point source are felt **at all latitudes** but the effects decay away from the heat source.\n",
    "\n",
    "Some analysis will show that the length scale of the warming is proportional to \n",
    "\n",
    "$$  \\sqrt{\\frac{D}{B}} $$\n",
    "\n",
    "so increases with the diffusivity."
   ]
  },
  {
   "cell_type": "markdown",
   "id": "df6f47b9",
   "metadata": {
    "slideshow": {
     "slide_type": "slide"
    }
   },
   "source": [
    "### Step 2: Effects of point heat source with albedo feedback\n",
    "\n",
    "Now repeat this calculation **with ice albedo feedback**"
   ]
  },
  {
   "cell_type": "code",
   "execution_count": null,
   "id": "161a0d46",
   "metadata": {},
   "outputs": [],
   "source": [
    "m3 = climlab.EBM_annual(num_lat=180, **param)\n",
    "m3.integrate_years(5.)\n",
    "m4 = climlab.process_like(m3)\n",
    "point_source = climlab.process.energy_budget.ExternalEnergySource(state=m4.state, timestep=m4.timestep)\n",
    "point_source.heating_rate['Ts'][ind] = 100.\n",
    "m4.add_subprocess('point source', point_source)\n",
    "m4.integrate_years(5.)"
   ]
  },
  {
   "cell_type": "code",
   "execution_count": null,
   "id": "c10eeb78",
   "metadata": {
    "slideshow": {
     "slide_type": "slide"
    }
   },
   "outputs": [],
   "source": [
    "plt.plot(m4.lat, m4.Ts - m3.Ts)\n",
    "plt.xlim(-90,90)\n",
    "plt.grid()"
   ]
  },
  {
   "cell_type": "markdown",
   "id": "ea9aa571",
   "metadata": {
    "slideshow": {
     "slide_type": "slide"
    }
   },
   "source": [
    "Now the maximum warming **does not coincide with the heat source at 45º**!\n",
    "\n",
    "Our heat source has led to melting of snow and ice, which induces an additional heat source in the high northern latitudes.\n",
    "\n",
    "**Heat transport communicates the external warming to the ice cap, and also commuicates the increased shortwave absorption due to ice melt globally!**"
   ]
  },
  {
   "cell_type": "markdown",
   "id": "88db50e8",
   "metadata": {
    "slideshow": {
     "slide_type": "skip"
    }
   },
   "source": [
    "____________\n",
    "\n",
    "## Credits\n",
    "\n",
    "This notebook is part of [The Climate Laboratory](https://brian-rose.github.io/ClimateLaboratoryBook), an open-source textbook developed and maintained by [Brian E. J. Rose](http://www.atmos.albany.edu/facstaff/brose/index.html), University at Albany.\n",
    "\n",
    "It is licensed for free and open consumption under the\n",
    "[Creative Commons Attribution 4.0 International (CC BY 4.0)](https://creativecommons.org/licenses/by/4.0/) license.\n",
    "\n",
    "Development of these notes and the [climlab software](https://github.com/brian-rose/climlab) is partially supported by the National Science Foundation under award AGS-1455071 to Brian Rose. Any opinions, findings, conclusions or recommendations expressed here are mine and do not necessarily reflect the views of the National Science Foundation.\n",
    "____________"
   ]
  },
  {
   "cell_type": "code",
   "execution_count": null,
   "id": "2b2b12f8",
   "metadata": {
    "slideshow": {
     "slide_type": "skip"
    }
   },
   "outputs": [],
   "source": []
  }
 ],
 "metadata": {
  "jupytext": {
   "formats": "md:myst,py:percent",
   "text_representation": {
    "extension": ".md",
    "format_name": "myst",
    "format_version": 0.12,
    "jupytext_version": "1.9.1"
   }
  },
  "kernelspec": {
   "display_name": "Python 3",
   "language": "python",
   "name": "python3"
  },
  "source_map": [
   15,
   21,
   25,
   33,
   44,
   55,
   59,
   70,
   78,
   84,
   88,
   138,
   147,
   155,
   163,
   173,
   188,
   196,
   198,
   202,
   208,
   220,
   224,
   232,
   246,
   250,
   255,
   259,
   263,
   267,
   290,
   315,
   327,
   334,
   344,
   354,
   362,
   370,
   379,
   383,
   393,
   403,
   409,
   419,
   429,
   437,
   451
  ]
 },
 "nbformat": 4,
 "nbformat_minor": 5
}