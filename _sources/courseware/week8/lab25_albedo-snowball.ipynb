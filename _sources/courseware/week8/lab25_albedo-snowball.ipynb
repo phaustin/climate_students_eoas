{
 "cells": [
  {
   "cell_type": "markdown",
   "id": "4f2b678f",
   "metadata": {},
   "source": [
    "(nb:snowball)=\n",
    "# Ice-albedo feedback and Snowball Earth in the EBM\n",
    "\n",
    "This notebook is part of [The Climate Laboratory](https://brian-rose.github.io/ClimateLaboratoryBook) by [Brian E. J. Rose](http://www.atmos.albany.edu/facstaff/brose/index.html), University at Albany."
   ]
  },
  {
   "cell_type": "markdown",
   "id": "02db3c05",
   "metadata": {},
   "source": [
    "____________\n",
    "\n",
    "## 1. Review of the 1D EBM\n",
    "____________"
   ]
  },
  {
   "cell_type": "markdown",
   "id": "af57fed0",
   "metadata": {},
   "source": [
    "Last time we derived the equation for the one-dimensional EBM with diffusive heat transport:"
   ]
  },
  {
   "cell_type": "markdown",
   "id": "fde11c69",
   "metadata": {},
   "source": [
    "$$ C \\frac{\\partial T}{\\partial t} = (1-\\alpha) ~ Q - \\left( A + B~T \\right) + \\frac{D}{\\cos⁡\\phi } \\frac{\\partial }{\\partial \\phi} \\left(   \\cos⁡\\phi  ~ \\frac{\\partial T}{\\partial \\phi} \\right) $$"
   ]
  },
  {
   "cell_type": "markdown",
   "id": "bc7a6b79",
   "metadata": {},
   "source": [
    "We have chosen the following parameter values, which seems to give a reasonable fit to the observed **annual mean temperature and energy budget**:\n",
    "\n",
    "- $ A = 210 ~ \\text{W m}^{-2}$ (emission at 0$^\\circ$C)\n",
    "- $ B = 2 ~ \\text{W m}^{-2}~^\\circ\\text{C}^{-1} $ (increase in emission per degree, related to net longwave climate feedback)\n",
    "- $ D = 0.6 ~ \\text{W m}^{-2}~^\\circ\\text{C}^{-1} $ (thermal diffusivity of the climate system)"
   ]
  },
  {
   "cell_type": "markdown",
   "id": "ff2b85f8",
   "metadata": {},
   "source": [
    "We looked at the adjustment of this model to equilibrium, with annual mean insolation $\\overline{Q(\\phi)}$ and specified albedo $\\alpha(\\phi)$ (giving a reasonable fit to observations).\n",
    "\n",
    "We also tuned the diffuvisity $D$ so that our annual mean solution has a reasonable pole-to-equator temperature gradient and peak poleward heat transport.\n",
    "\n",
    "Actually for the new version of this model with interactive ice line, we are going to reduce the diffusivity down to $ D = 0.55 ~ \\text{W m}^{-2}~^\\circ\\text{C}^{-1} $."
   ]
  },
  {
   "cell_type": "markdown",
   "id": "c183ea0e",
   "metadata": {},
   "source": [
    "____________\n",
    "<a id='section2'></a>\n",
    "\n",
    "## 2. Interactive snow/ice line in the EBM\n",
    "____________"
   ]
  },
  {
   "cell_type": "markdown",
   "id": "c0fd5f98",
   "metadata": {},
   "source": [
    "What we want to do today is introduce another process into our model: an **interactive snow and ice line**. \n",
    "\n",
    "The idea is simply that, as the climate gets warmer, the snow and ice will retreat poleward, and the planetary albedo will decrease (or vice-versa)."
   ]
  },
  {
   "cell_type": "markdown",
   "id": "cfdfdbf3",
   "metadata": {},
   "source": [
    "We modeled this in the zero-dimensional model by using a kind of ramp function for the global mean albedo as a function of global mean temperature."
   ]
  },
  {
   "cell_type": "markdown",
   "id": "49a2fe18",
   "metadata": {},
   "source": [
    "Here, since our model resolves temperature at each latitude, we want to do something more physical: *suppose that the surface is covered in ice and snow wherever the temperature is below some threshold $T_f$.*"
   ]
  },
  {
   "cell_type": "markdown",
   "id": "10e81556",
   "metadata": {},
   "source": [
    "### Temperature-dependent ice line\n",
    "\n",
    "Let the surface albedo be larger wherever the temperature is below some threshold $T_f$:\n",
    "\n",
    "$$ \\alpha\\left(\\phi, T(\\phi) \\right) = \\left\\{\\begin{array}{ccc} \n",
    "\\alpha_0 + \\alpha_2 P_2(\\sin\\phi) & ~ & T(\\phi) > T_f  & \\text{(no ice)} \\\\\n",
    "a_i & ~ & T(\\phi) \\le T_f & \\text{(ice-covered)} \\\\\n",
    "\\end{array} \\right. $$\n",
    "\n",
    "where $P_2(\\sin\\phi) = \\frac{1}{2}\\left( 3\\left(\\sin\\phi\\right)^2 - 1 \\right) $ is called the *second Legendre Polynomial* (just a mathematically convenient description of a smooth variation between the equator and pole)."
   ]
  },
  {
   "cell_type": "markdown",
   "id": "1459bf84",
   "metadata": {},
   "source": [
    "Empirically, we follow classic work by Budyko and set the threshold temperature\n",
    "\n",
    "$$ T_f = -10^\\circ\\text{C} $$"
   ]
  },
  {
   "cell_type": "markdown",
   "id": "cfd2c762",
   "metadata": {},
   "source": [
    "This is known as a \"step function\" formula, because the value of $\\alpha$ steps or jumps up to a higher value as we cross the ice line."
   ]
  },
  {
   "cell_type": "markdown",
   "id": "687c92c1",
   "metadata": {},
   "source": [
    "____________\n",
    "<a id='section3'></a>\n",
    "\n",
    "## 3. Solving the EBM with variable snow/ice line in CLIMLAB\n",
    "____________"
   ]
  },
  {
   "cell_type": "code",
   "execution_count": null,
   "id": "7d9a76b9",
   "metadata": {},
   "outputs": [],
   "source": [
    "%matplotlib inline\n",
    "import numpy as np\n",
    "import matplotlib.pyplot as plt\n",
    "import climlab\n",
    "from climlab import constants as const"
   ]
  },
  {
   "cell_type": "code",
   "execution_count": null,
   "id": "cae9a9d3",
   "metadata": {},
   "outputs": [],
   "source": [
    "#  for convenience, set up a dictionary with our reference parameters\n",
    "param = {'D':0.55, 'A':210, 'B':2, 'a0':0.3, 'a2':0.078, 'ai':0.62, 'Tf':-10.}\n",
    "model1 = climlab.EBM_annual(name='EBM with interactive ice line',\n",
    "                            num_lat=180, \n",
    "                            D=0.55, \n",
    "                            A=210., \n",
    "                            B=2., \n",
    "                            Tf=-10., \n",
    "                            a0=0.3, \n",
    "                            a2=0.078, \n",
    "                            ai=0.62)\n",
    "print(model1)"
   ]
  },
  {
   "cell_type": "markdown",
   "id": "497be6a2",
   "metadata": {},
   "source": [
    "Because we provided a parameter `ai` for the icy albedo, our model now contains several sub-processes contained within the process called `albedo`. Together these implement the step-function formula above.\n",
    "\n",
    "The process called `iceline` simply looks for grid cells with temperature below $T_f$."
   ]
  },
  {
   "cell_type": "code",
   "execution_count": null,
   "id": "0fe8f49f",
   "metadata": {},
   "outputs": [],
   "source": [
    "print(model1.param)"
   ]
  },
  {
   "cell_type": "code",
   "execution_count": null,
   "id": "b206d912",
   "metadata": {},
   "outputs": [],
   "source": [
    "#  A python shortcut... we can use the dictionary to pass lots of input arguments simultaneously:\n",
    "\n",
    "#  same thing as before, but written differently:\n",
    "model1 = climlab.EBM_annual(name='EBM with interactive ice line',\n",
    "                            num_lat=180,\n",
    "                            **param)\n",
    "print(model1)"
   ]
  },
  {
   "cell_type": "code",
   "execution_count": null,
   "id": "03dd63e1",
   "metadata": {},
   "outputs": [],
   "source": [
    "def ebm_plot(e, return_fig=False):    \n",
    "    templimits = -60,32\n",
    "    radlimits = -340, 340\n",
    "    htlimits = -6,6\n",
    "    latlimits = -90,90\n",
    "    lat_ticks = np.arange(-90,90,30)\n",
    "    \n",
    "    fig = plt.figure(figsize=(8,12))\n",
    "\n",
    "    ax1 = fig.add_subplot(3,1,1)\n",
    "    ax1.plot(e.lat, e.Ts)\n",
    "    ax1.set_ylim(templimits)\n",
    "    ax1.set_ylabel('Temperature (deg C)')\n",
    "    \n",
    "    ax2 = fig.add_subplot(3,1,2)\n",
    "    ax2.plot(e.lat, e.ASR, 'k--', label='SW' )\n",
    "    ax2.plot(e.lat, -e.OLR, 'r--', label='LW' )\n",
    "    ax2.plot(e.lat, e.net_radiation, 'c-', label='net rad' )\n",
    "    ax2.plot(e.lat, e.heat_transport_convergence, 'g--', label='dyn' )\n",
    "    ax2.plot(e.lat, e.net_radiation + e.heat_transport_convergence, 'b-', label='total' )\n",
    "    ax2.set_ylim(radlimits)\n",
    "    ax2.set_ylabel('Energy budget (W m$^{-2}$)')\n",
    "    ax2.legend()\n",
    "    \n",
    "    ax3 = fig.add_subplot(3,1,3)\n",
    "    ax3.plot(e.lat_bounds, e.heat_transport )\n",
    "    ax3.set_ylim(htlimits)\n",
    "    ax3.set_ylabel('Heat transport (PW)')\n",
    "    \n",
    "    for ax in [ax1, ax2, ax3]:\n",
    "        ax.set_xlabel('Latitude')\n",
    "        ax.set_xlim(latlimits)\n",
    "        ax.set_xticks(lat_ticks)\n",
    "        ax.grid()\n",
    "    \n",
    "    if return_fig:\n",
    "        return fig"
   ]
  },
  {
   "cell_type": "code",
   "execution_count": null,
   "id": "f543cd38",
   "metadata": {},
   "outputs": [],
   "source": [
    "model1.integrate_years(5)"
   ]
  },
  {
   "cell_type": "markdown",
   "id": "89a3d5b1",
   "metadata": {},
   "source": [
    "Diagnostics in this model are mostly on the latitude axis, e.g.:"
   ]
  },
  {
   "cell_type": "code",
   "execution_count": null,
   "id": "c0ce0b34",
   "metadata": {},
   "outputs": [],
   "source": [
    "model1.ASR.to_xarray()"
   ]
  },
  {
   "cell_type": "markdown",
   "id": "2e887670",
   "metadata": {},
   "source": [
    "There is a built-in utility to take properly area-weighted global averages!"
   ]
  },
  {
   "cell_type": "markdown",
   "id": "434c324f",
   "metadata": {},
   "source": [
    "This gives us the net global energy imbalance:"
   ]
  },
  {
   "cell_type": "code",
   "execution_count": null,
   "id": "e246201f",
   "metadata": {},
   "outputs": [],
   "source": [
    "climlab.global_mean(model1.ASR - model1.OLR)"
   ]
  },
  {
   "cell_type": "markdown",
   "id": "26f7763e",
   "metadata": {},
   "source": [
    "There is also a built-in diagnostic `net_radiation` that has the same information (i.e. ASR - OLR):"
   ]
  },
  {
   "cell_type": "code",
   "execution_count": null,
   "id": "e5c02495",
   "metadata": {},
   "outputs": [],
   "source": [
    "climlab.global_mean(model1.net_radiation)"
   ]
  },
  {
   "cell_type": "markdown",
   "id": "fe9baa6d",
   "metadata": {},
   "source": [
    "Since it's not fully equilibrated yet, we can run it out a little longer:"
   ]
  },
  {
   "cell_type": "code",
   "execution_count": null,
   "id": "f506c05d",
   "metadata": {},
   "outputs": [],
   "source": [
    "# Integrate out to equilibrium.\n",
    "model1.integrate_years(5)\n",
    "#  Check for energy balance\n",
    "print(climlab.global_mean(model1.net_radiation))\n",
    "f = ebm_plot(model1)"
   ]
  },
  {
   "cell_type": "code",
   "execution_count": null,
   "id": "2173dab4",
   "metadata": {},
   "outputs": [],
   "source": [
    "#  There is a diagnostic that tells us the current location of the ice edge:\n",
    "model1.icelat"
   ]
  },
  {
   "cell_type": "markdown",
   "id": "91fca877",
   "metadata": {},
   "source": [
    "This model is tuned up to reasonable \"present-day\" conditions."
   ]
  },
  {
   "cell_type": "markdown",
   "id": "19161718",
   "metadata": {},
   "source": [
    "____________\n",
    "<a id='section4'></a>\n",
    "\n",
    "## 4. Polar-amplified warming in the EBM\n",
    "____________"
   ]
  },
  {
   "cell_type": "markdown",
   "id": "bb86eb17",
   "metadata": {},
   "source": [
    "### Add a small radiative forcing\n",
    "\n",
    "The equivalent of doubling CO2 in this model is something like \n",
    "\n",
    "$$ A \\rightarrow A - \\delta A $$\n",
    "\n",
    "where $\\delta A = 4$ W m$^{-2}$."
   ]
  },
  {
   "cell_type": "code",
   "execution_count": null,
   "id": "5ac14a54",
   "metadata": {},
   "outputs": [],
   "source": [
    "model1.subprocess['LW'].A"
   ]
  },
  {
   "cell_type": "code",
   "execution_count": null,
   "id": "3126871e",
   "metadata": {},
   "outputs": [],
   "source": [
    "deltaA = 4.\n",
    "\n",
    "#  This is a very handy way to \"clone\" an existing model:\n",
    "model2 = climlab.process_like(model1)\n",
    "\n",
    "#  Now change the longwave parameter:\n",
    "model2.subprocess['LW'].A = param['A'] - deltaA\n",
    "#  and integrate out to equilibrium again\n",
    "model2.integrate_years(5, verbose=False)\n",
    "\n",
    "plt.plot(model1.lat, model1.Ts, label='model1')\n",
    "plt.plot(model2.lat, model2.Ts, label='model2')\n",
    "plt.legend(); plt.grid()"
   ]
  },
  {
   "cell_type": "markdown",
   "id": "243295f6",
   "metadata": {},
   "source": [
    "**The warming is polar-amplified**:  more warming at the poles than elsewhere.\n",
    "\n",
    "Why?\n",
    "\n",
    "Also, the current ice line is now:"
   ]
  },
  {
   "cell_type": "code",
   "execution_count": null,
   "id": "6d02ece6",
   "metadata": {},
   "outputs": [],
   "source": [
    "model2.icelat"
   ]
  },
  {
   "cell_type": "markdown",
   "id": "fe1e9ae4",
   "metadata": {},
   "source": [
    "There is no ice left!"
   ]
  },
  {
   "cell_type": "markdown",
   "id": "459bca6d",
   "metadata": {},
   "source": [
    "Let's do some more greenhouse warming:"
   ]
  },
  {
   "cell_type": "code",
   "execution_count": null,
   "id": "ff68834f",
   "metadata": {},
   "outputs": [],
   "source": [
    "model3 = climlab.process_like(model1)\n",
    "model3.subprocess['LW'].A = param['A'] - 2*deltaA\n",
    "model3.integrate_years(5, verbose=False)\n",
    "\n",
    "plt.plot(model1.lat, model1.Ts, label='model1')\n",
    "plt.plot(model2.lat, model2.Ts, label='model2')\n",
    "plt.plot(model3.lat, model3.Ts, label='model3')\n",
    "plt.xlim(-90, 90)\n",
    "plt.grid()\n",
    "plt.legend()"
   ]
  },
  {
   "cell_type": "markdown",
   "id": "c1a373d6",
   "metadata": {},
   "source": [
    "In the ice-free regime, there is no polar-amplified warming. A uniform radiative forcing produces a uniform warming."
   ]
  },
  {
   "cell_type": "markdown",
   "id": "33263f0b",
   "metadata": {},
   "source": [
    "____________\n",
    "<a id='section5'></a>\n",
    "\n",
    "## 5. A different kind of climate forcing: changing the solar constant\n",
    "____________"
   ]
  },
  {
   "cell_type": "markdown",
   "id": "da65c201",
   "metadata": {},
   "source": [
    "Historically EBMs have been used to study the climatic response to a change in the energy output from the Sun.\n",
    "\n",
    "We can do that easily with `climlab`:"
   ]
  },
  {
   "cell_type": "code",
   "execution_count": null,
   "id": "27a10772",
   "metadata": {},
   "outputs": [],
   "source": [
    "m = climlab.EBM_annual(num_lat=180, **param)\n",
    "#  The current (default) solar constant, corresponding to present-day conditions:\n",
    "m.subprocess.insolation.S0"
   ]
  },
  {
   "cell_type": "markdown",
   "id": "b463331e",
   "metadata": {},
   "source": [
    "###  What happens if we decrease $S_0$?"
   ]
  },
  {
   "cell_type": "code",
   "execution_count": null,
   "id": "9ce69698",
   "metadata": {},
   "outputs": [],
   "source": [
    "#  First, get to equilibrium\n",
    "m.integrate_years(5.)\n",
    "#  Check for energy balance\n",
    "climlab.global_mean(m.net_radiation)"
   ]
  },
  {
   "cell_type": "code",
   "execution_count": null,
   "id": "c6e1c223",
   "metadata": {},
   "outputs": [],
   "source": [
    "m.icelat"
   ]
  },
  {
   "cell_type": "code",
   "execution_count": null,
   "id": "08d11052",
   "metadata": {},
   "outputs": [],
   "source": [
    "#  Now make the solar constant smaller:\n",
    "m.subprocess.insolation.S0 = 1300."
   ]
  },
  {
   "cell_type": "code",
   "execution_count": null,
   "id": "e43782e9",
   "metadata": {},
   "outputs": [],
   "source": [
    "#  Integrate to new equilibrium\n",
    "m.integrate_years(10.)\n",
    "#  Check for energy balance\n",
    "climlab.global_mean(m.net_radiation)"
   ]
  },
  {
   "cell_type": "code",
   "execution_count": null,
   "id": "d93feee1",
   "metadata": {},
   "outputs": [],
   "source": [
    "m.icelat"
   ]
  },
  {
   "cell_type": "code",
   "execution_count": null,
   "id": "b5528987",
   "metadata": {},
   "outputs": [],
   "source": [
    "ebm_plot(m)"
   ]
  },
  {
   "cell_type": "markdown",
   "id": "e35a1201",
   "metadata": {},
   "source": [
    "A much colder climate!  The ice line is sitting at 54º. The heat transport shows that the atmosphere is moving lots of energy across the ice line, trying hard to compensate for the strong radiative cooling everywhere poleward of the ice line."
   ]
  },
  {
   "cell_type": "markdown",
   "id": "011385d0",
   "metadata": {},
   "source": [
    "____________\n",
    "<a id='section6'></a>\n",
    "\n",
    "## 6. The large ice cap instability\n",
    "____________"
   ]
  },
  {
   "cell_type": "markdown",
   "id": "c2a88158",
   "metadata": {},
   "source": [
    "###  What happens if we decrease $S_0$ even more?"
   ]
  },
  {
   "cell_type": "code",
   "execution_count": null,
   "id": "7a44a328",
   "metadata": {},
   "outputs": [],
   "source": [
    "#  Now make the solar constant smaller:\n",
    "m.subprocess.insolation.S0 = 1200.\n",
    "#  First, get to equilibrium\n",
    "m.integrate_years(5.)\n",
    "#  Check for energy balance\n",
    "climlab.global_mean(m.net_radiation)"
   ]
  },
  {
   "cell_type": "code",
   "execution_count": null,
   "id": "694c6f5e",
   "metadata": {},
   "outputs": [],
   "source": [
    "m.integrate_years(10.)\n",
    "#  Check for energy balance\n",
    "climlab.global_mean(m.net_radiation)"
   ]
  },
  {
   "cell_type": "code",
   "execution_count": null,
   "id": "bf72dd8c",
   "metadata": {},
   "outputs": [],
   "source": [
    "ebm_plot(m)"
   ]
  },
  {
   "cell_type": "markdown",
   "id": "7bbe702f",
   "metadata": {},
   "source": [
    "Something very different happened! Where is the ice line now?"
   ]
  },
  {
   "cell_type": "code",
   "execution_count": null,
   "id": "93a207bb",
   "metadata": {},
   "outputs": [],
   "source": [
    "m.icelat"
   ]
  },
  {
   "cell_type": "markdown",
   "id": "13cd67c2",
   "metadata": {},
   "source": [
    "### Now what happens if we set $S_0$ back to its present-day value?"
   ]
  },
  {
   "cell_type": "code",
   "execution_count": null,
   "id": "387ee77f",
   "metadata": {},
   "outputs": [],
   "source": [
    "#  Now make the solar constant smaller:\n",
    "m.subprocess.insolation.S0 = 1365.2\n",
    "#  First, get to equilibrium\n",
    "m.integrate_years(5.)\n",
    "#  Check for energy balance\n",
    "climlab.global_mean(m.net_radiation)"
   ]
  },
  {
   "cell_type": "code",
   "execution_count": null,
   "id": "416b291c",
   "metadata": {},
   "outputs": [],
   "source": [
    "ebm_plot(m)"
   ]
  },
  {
   "cell_type": "markdown",
   "id": "f787d9d6",
   "metadata": {},
   "source": [
    "Is this the same climate we started with?"
   ]
  },
  {
   "cell_type": "markdown",
   "id": "c26c1a41",
   "metadata": {},
   "source": [
    "This is an example of a **hysteresis** in the climate system:  the state of the climate depends on its history!\n",
    "\n",
    "- A global cooling caused snow and ice to expand to the equator\n",
    "- External conditions (i.e. the solar constant) returned back to its present-day value\n",
    "- The climate stayed cold and completely ice-covered.\n",
    "\n",
    "If the oceans froze over and the Earth were covered in ice and snow today, it would remain that way!"
   ]
  },
  {
   "cell_type": "markdown",
   "id": "7dd58d1f",
   "metadata": {},
   "source": [
    "____________\n",
    "<a id='section7'></a>\n",
    "\n",
    "## 7. The Neoproterozoic Snowball Earth\n",
    "____________"
   ]
  },
  {
   "cell_type": "markdown",
   "id": "48624977",
   "metadata": {},
   "source": [
    "### The Geologic Time Scale\n",
    "\n",
    "First, some information on the nomenclature for Earth history:"
   ]
  },
  {
   "cell_type": "markdown",
   "id": "5f7a90e6",
   "metadata": {},
   "source": [
    "<img src='../../images/GeoTimeScale2009.png'>\n",
    "\n",
    "Source: Walker, J. and Geissman, J. (2009). Geologic time scale. Technical report, Geological Society of America."
   ]
  },
  {
   "cell_type": "markdown",
   "id": "7fb61293",
   "metadata": {},
   "source": [
    "The long view of glacial epochs on Earth:"
   ]
  },
  {
   "cell_type": "markdown",
   "id": "637b362a",
   "metadata": {},
   "source": [
    "<img src='../../images/Hoffman_etal_SciAdv_Fig2.pdf' width=\"800\">\n",
    "\n",
    "Source: [Hoffman et al. (2017), Science Advances 3:e1600983, doi:10.1126/sciadv.1600983](https://advances.sciencemag.org/lookup/doi/10.1126/sciadv.1600983)"
   ]
  },
  {
   "cell_type": "markdown",
   "id": "370d69fa",
   "metadata": {},
   "source": [
    "### Extensive evidence for large glaciers at sea level in the tropics \n",
    "\n",
    "Evidently the climate was **very cold** at these times (635 Ma and 715 Ma)"
   ]
  },
  {
   "cell_type": "markdown",
   "id": "4cc5c1ea",
   "metadata": {},
   "source": [
    "<img src='../../images/Hoffman_Li_2009.png'>\n",
    "\n",
    "Source: [Hoffman, P. F. and Li, Z.-X. (2009). A palaeogeographic context for Neoproterozoic glaciation. Palaeogeogr. Palaeoclimatol. Palaeoecol., 277:158–172.](https://doi.org/10.1016/j.palaeo.2009.03.013)"
   ]
  },
  {
   "cell_type": "markdown",
   "id": "cb3cec69",
   "metadata": {},
   "source": [
    "###  The Snowball Earth hypothesis\n",
    "\n",
    "Various bizarre features in the geological record from 635 and 715 Ma ago indicate that the Earth underwent some very extreme environmental changes… at least twice. The **Snowball Earth hypothesis** postulates that:\n",
    "\n",
    "- The Earth was completely ice-covered (including the oceans)\n",
    "- The total glaciation endured for millions of years\n",
    "- CO$_2$ slowly accumulated in the atmosphere from volcanoes\n",
    "- Weathering of rocks (normally acting to reduce CO$_2$) extremely slow due to cold, dry climate\n",
    "- Eventually the extreme greenhouse effect is enough to melt back the ice\n",
    "- The Earth then enters a period of extremely hot climate."
   ]
  },
  {
   "cell_type": "markdown",
   "id": "7bcb8be1",
   "metadata": {},
   "source": [
    "The hypothesis rests on a phenomenon first discovered by climate modelers in the Budyko-Sellers EBM: **runaway ice-albedo feedback** or **large ice cap instability**."
   ]
  },
  {
   "cell_type": "markdown",
   "id": "2a5e0247",
   "metadata": {},
   "source": [
    "____________\n",
    "<a id='section8'></a>\n",
    "\n",
    "## 8. Computing the complete hysteresis curve for the 1D diffusive EBM\n",
    "____________"
   ]
  },
  {
   "cell_type": "markdown",
   "id": "66f8a6c1",
   "metadata": {},
   "source": [
    "<div class=\"alert alert-warning\">\n",
    "The calculations in this section may take a long time to complete, depending on the speed of your computer.\n",
    "</div>"
   ]
  },
  {
   "cell_type": "markdown",
   "id": "4876b24f",
   "metadata": {},
   "source": [
    "The ice edge in our model is always where the temperature crosses $T_f = -10^\\circ$C. The system is at **equilibrium** when the temperature is such that there is a balance between ASR, OLR, and heat transport convergence everywhere. \n",
    "\n",
    "Suppose that sun was hotter or cooler at different times (in fact it was significantly cooler during early Earth history). That would mean that the solar constant $S_0 = 4Q$ was larger or smaller. We should expect that the temperature (and thus the ice edge) should increase and decrease as we change $S_0$."
   ]
  },
  {
   "cell_type": "markdown",
   "id": "a3f56029",
   "metadata": {},
   "source": [
    "$S_0$ during the Neoproterozoic Snowball Earth events is believed to be about 93% of its present-day value, or about 1270 W m$^{-2}$.\n",
    "\n",
    "We are going to look at how the **equilibrium** ice edge depends on $S_0$, by integrating the model out to equilibrium for lots of different values of $S_0$. We will start by slowly decreasing $S_0$, and then slowly increasing $S_0$."
   ]
  },
  {
   "cell_type": "code",
   "execution_count": null,
   "id": "30bf148f",
   "metadata": {},
   "outputs": [],
   "source": [
    "model2 = climlab.EBM_annual(num_lat = 360, **param)\n",
    "S0array = np.linspace(1400., 1200., 200)\n",
    "model2.integrate_years(5)\n",
    "icelat_cooling = np.empty_like(S0array)\n",
    "icelat_warming = np.empty_like(S0array)\n",
    "# First cool....\n",
    "for n in range(S0array.size):\n",
    "    model2.subprocess['insolation'].S0 = S0array[n]\n",
    "    model2.integrate_years(10, verbose=False)\n",
    "    icelat_cooling[n] = np.max(model2.icelat)\n",
    "# Then warm...\n",
    "for n in range(S0array.size):\n",
    "    model2.subprocess['insolation'].S0 = np.flipud(S0array)[n]\n",
    "    model2.integrate_years(10, verbose=False)\n",
    "    icelat_warming[n] = np.max(model2.icelat)\n",
    "# For completeness -- also start from present-day conditions and warm up.\n",
    "model3 = climlab.EBM_annual(num_lat=360, **param)\n",
    "S0array3 = np.linspace(1350., 1400., 50)\n",
    "icelat3 = np.empty_like(S0array3)\n",
    "for n in range(S0array3.size):\n",
    "    model3.subprocess['insolation'].S0 = S0array3[n]\n",
    "    model3.integrate_years(10, verbose=False)\n",
    "    icelat3[n] = np.max(model3.icelat)"
   ]
  },
  {
   "cell_type": "code",
   "execution_count": null,
   "id": "a1175173",
   "metadata": {},
   "outputs": [],
   "source": [
    "fig = plt.figure( figsize=(10,6) )\n",
    "ax = fig.add_subplot(111)\n",
    "ax.plot(S0array, icelat_cooling, 'r-', label='cooling' )\n",
    "ax.plot(S0array, icelat_warming, 'b-', label='warming' )\n",
    "ax.plot(S0array3, icelat3, 'g-', label='warming' )\n",
    "ax.set_ylim(-10,100)\n",
    "ax.set_yticks((0,15,30,45,60,75,90))\n",
    "ax.grid()\n",
    "ax.set_ylabel('Ice edge latitude', fontsize=16)\n",
    "ax.set_xlabel('Solar constant (W m$^{-2}$)', fontsize=16)\n",
    "ax.plot( [const.S0, const.S0], [-10, 100], 'k--', label='present-day' )\n",
    "ax.legend(loc='upper left')\n",
    "ax.set_title('Solar constant versus ice edge latitude in the EBM with albedo feedback', fontsize=16);"
   ]
  },
  {
   "cell_type": "markdown",
   "id": "6330eac7",
   "metadata": {},
   "source": [
    "There are actually up to 3 different climates possible for a given value of $S_0$!"
   ]
  },
  {
   "cell_type": "markdown",
   "id": "46f443e1",
   "metadata": {},
   "source": [
    "### How to un-freeze the Snowball"
   ]
  },
  {
   "cell_type": "markdown",
   "id": "7262d40a",
   "metadata": {},
   "source": [
    "The graph indicates that if the Earth were completely frozen over, it would be perfectly happy to stay that way even if the sun were brighter and hotter than it is today.\n",
    "\n",
    "Our EBM predicts that (with present-day parameters) the equilibrium temperature at the equator in the Snowball state is about -33ºC, which is much colder than the threshold temperature $T_f = -10^\\circ$C. How can we melt the Snowball?"
   ]
  },
  {
   "cell_type": "markdown",
   "id": "cd1fbc15",
   "metadata": {},
   "source": [
    "We need to increase the avaible energy sufficiently to get the equatorial temperatures above this threshold! That is going to require a much larger increase in $S_0$ (could also increase the greenhouse gases, which would have a similar effect)!\n",
    "\n",
    "Let's crank up the sun to 1830 W m$^{-2}$ (about a 35% increase from present-day)."
   ]
  },
  {
   "cell_type": "code",
   "execution_count": null,
   "id": "55a2b8e6",
   "metadata": {},
   "outputs": [],
   "source": [
    "my_ticks = [-90,-60,-30,0,30,60,90]\n",
    "\n",
    "model4 = climlab.process_like(model2)  # initialize with cold Snowball temperature\n",
    "model4.subprocess['insolation'].S0 = 1830.\n",
    "model4.integrate_years(40)\n",
    "plt.plot(model4.lat, model4.Ts)\n",
    "plt.xlim(-90,90); plt.ylabel('Temperature'); plt.xlabel('Latitude')\n",
    "plt.grid(); plt.xticks(my_ticks)\n",
    "print('The ice edge is at ' + str(model4.icelat) + ' degrees latitude.' )"
   ]
  },
  {
   "cell_type": "markdown",
   "id": "02f7b10c",
   "metadata": {},
   "source": [
    "Still a Snowball... but just barely! The temperature at the equator is just below the threshold.\n",
    "\n",
    "Try to imagine what might happen once it starts to melt. The solar constant is huge, and if it weren't for the highly reflective ice and snow, the climate would be really really hot!\n",
    "\n",
    "We're going to increase $S_0$ one more time..."
   ]
  },
  {
   "cell_type": "code",
   "execution_count": null,
   "id": "1844f2f5",
   "metadata": {},
   "outputs": [],
   "source": [
    "model4.subprocess['insolation'].S0 = 1840.\n",
    "model4.integrate_years(10)\n",
    "plt.plot(model4.lat, model4.Ts)\n",
    "plt.xlim(-90,90); plt.ylabel('Temperature'); plt.xlabel('Latitude')\n",
    "plt.grid(); plt.xticks(my_ticks);"
   ]
  },
  {
   "cell_type": "markdown",
   "id": "21da57ef",
   "metadata": {},
   "source": [
    "Suddenly the climate looks very very different again! The global mean temperature is"
   ]
  },
  {
   "cell_type": "code",
   "execution_count": null,
   "id": "5c2a3d30",
   "metadata": {},
   "outputs": [],
   "source": [
    "model4.global_mean_temperature()"
   ]
  },
  {
   "cell_type": "markdown",
   "id": "782ad222",
   "metadata": {},
   "source": [
    "A roasty 58ºC, and the poles are above 20ºC. A tiny increase in $S_0$ has led to a very drastic change in the climate."
   ]
  },
  {
   "cell_type": "markdown",
   "id": "acbe4403",
   "metadata": {},
   "source": [
    "Now we will complete the plot of ice edge versus solar constant."
   ]
  },
  {
   "cell_type": "code",
   "execution_count": null,
   "id": "567ca0f3",
   "metadata": {},
   "outputs": [],
   "source": [
    "S0array_snowballmelt = np.linspace(1400., 1900., 50)\n",
    "icelat_snowballmelt = np.empty_like(S0array_snowballmelt)\n",
    "icelat_snowballmelt_cooling = np.empty_like(S0array_snowballmelt)\n",
    "\n",
    "for n in range(S0array_snowballmelt.size):\n",
    "    model2.subprocess['insolation'].S0 = S0array_snowballmelt[n]\n",
    "    model2.integrate_years(10, verbose=False)\n",
    "    icelat_snowballmelt[n] = np.max(model2.icelat)\n",
    "    \n",
    "for n in range(S0array_snowballmelt.size):\n",
    "    model2.subprocess['insolation'].S0 = np.flipud(S0array_snowballmelt)[n]\n",
    "    model2.integrate_years(10, verbose=False)\n",
    "    icelat_snowballmelt_cooling[n] = np.max(model2.icelat)"
   ]
  },
  {
   "cell_type": "code",
   "execution_count": null,
   "id": "9f0cd0d7",
   "metadata": {},
   "outputs": [],
   "source": [
    "fig = plt.figure( figsize=(18,6) )\n",
    "ax = fig.add_subplot(111)\n",
    "ax.plot(S0array, icelat_cooling, 'r-', label='cooling' )\n",
    "ax.plot(S0array, icelat_warming, 'b-', label='warming' )\n",
    "ax.plot(S0array3, icelat3, 'g-', label='warming' )\n",
    "ax.plot(S0array_snowballmelt, icelat_snowballmelt, 'b-' )\n",
    "ax.plot(S0array_snowballmelt, icelat_snowballmelt_cooling, 'r-' )\n",
    "ax.set_ylim(-10,100)\n",
    "ax.set_yticks((0,15,30,45,60,75,90))\n",
    "ax.grid()\n",
    "ax.set_ylabel('Ice edge latitude', fontsize=16)\n",
    "ax.set_xlabel('Solar constant (W m$^{-2}$)', fontsize=16)\n",
    "ax.plot( [const.S0, const.S0], [-10, 100], 'k--', label='present-day' )\n",
    "ax.legend(loc='upper left')\n",
    "ax.set_title('Solar constant versus ice edge latitude in the EBM with albedo feedback', fontsize=16);"
   ]
  },
  {
   "cell_type": "markdown",
   "id": "51d4805e",
   "metadata": {},
   "source": [
    "The upshot:\n",
    "\n",
    "- For extremely large $S_0$, the only possible climate is a hot Earth with no ice.\n",
    "- For extremely small $S_0$, the only possible climate is a cold Earth completely covered in ice.\n",
    "- For a large range of $S_0$ including the present-day value, more than one climate is possible!\n",
    "- Once we get into a Snowball Earth state, getting out again is rather difficult!"
   ]
  },
  {
   "cell_type": "markdown",
   "id": "650f5b1f",
   "metadata": {},
   "source": [
    "____________\n",
    "\n",
    "## Credits\n",
    "\n",
    "This notebook is part of [The Climate Laboratory](https://brian-rose.github.io/ClimateLaboratoryBook), an open-source textbook developed and maintained by [Brian E. J. Rose](http://www.atmos.albany.edu/facstaff/brose/index.html), University at Albany.\n",
    "\n",
    "It is licensed for free and open consumption under the\n",
    "[Creative Commons Attribution 4.0 International (CC BY 4.0)](https://creativecommons.org/licenses/by/4.0/) license.\n",
    "\n",
    "Development of these notes and the [climlab software](https://github.com/brian-rose/climlab) is partially supported by the National Science Foundation under award AGS-1455071 to Brian Rose. Any opinions, findings, conclusions or recommendations expressed here are mine and do not necessarily reflect the views of the National Science Foundation.\n",
    "____________"
   ]
  },
  {
   "cell_type": "code",
   "execution_count": null,
   "id": "6a008c50",
   "metadata": {},
   "outputs": [],
   "source": []
  }
 ],
 "metadata": {
  "jupytext": {
   "text_representation": {
    "extension": ".md",
    "format_name": "myst",
    "format_version": 0.12,
    "jupytext_version": "1.6.0"
   }
  },
  "kernelspec": {
   "display_name": "Python 3",
   "language": "python",
   "name": "python3"
  },
  "source_map": [
   12,
   18,
   25,
   29,
   33,
   41,
   49,
   57,
   63,
   67,
   71,
   84,
   90,
   94,
   102,
   110,
   123,
   129,
   133,
   143,
   183,
   185,
   189,
   191,
   195,
   199,
   201,
   205,
   207,
   211,
   219,
   222,
   226,
   234,
   245,
   249,
   263,
   271,
   273,
   277,
   281,
   292,
   296,
   304,
   310,
   314,
   318,
   325,
   329,
   334,
   341,
   345,
   347,
   351,
   359,
   363,
   372,
   378,
   380,
   384,
   386,
   390,
   399,
   401,
   405,
   415,
   423,
   429,
   435,
   439,
   445,
   451,
   457,
   470,
   474,
   482,
   488,
   494,
   500,
   526,
   540,
   544,
   548,
   554,
   560,
   570,
   578,
   584,
   588,
   590,
   594,
   598,
   614,
   630,
   639,
   653
  ]
 },
 "nbformat": 4,
 "nbformat_minor": 5
}