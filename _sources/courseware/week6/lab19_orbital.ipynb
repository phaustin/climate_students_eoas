{
 "cells": [
  {
   "cell_type": "markdown",
   "id": "0c6bf2cd",
   "metadata": {
    "slideshow": {
     "slide_type": "slide"
    }
   },
   "source": [
    "(nb:orbital)=\n",
    "# Orbital variations, insolation, and the ice ages\n",
    "\n",
    "This notebook is part of [The Climate Laboratory](https://brian-rose.github.io/ClimateLaboratoryBook) by [Brian E. J. Rose](http://www.atmos.albany.edu/facstaff/brose/index.html), University at Albany."
   ]
  },
  {
   "cell_type": "code",
   "execution_count": null,
   "id": "b07cf46e",
   "metadata": {
    "slideshow": {
     "slide_type": "slide"
    }
   },
   "outputs": [],
   "source": [
    "%matplotlib inline\n",
    "import numpy as np\n",
    "import matplotlib.pyplot as plt\n",
    "from climlab import constants as const"
   ]
  },
  {
   "cell_type": "markdown",
   "id": "4acaa9b6",
   "metadata": {
    "slideshow": {
     "slide_type": "slide"
    }
   },
   "source": [
    "____________\n",
    "<a id='section1'></a>\n",
    "\n",
    "## 1. The ice ages\n",
    "____________\n",
    "\n",
    "Recent Earth history (past few million years) has been dominated by the repeated growth and retreat of large continental ice sheets, mostly over the land masses of the Northern Hemisphere."
   ]
  },
  {
   "cell_type": "markdown",
   "id": "c50e14ca",
   "metadata": {
    "slideshow": {
     "slide_type": "slide"
    }
   },
   "source": [
    "### Extent of glaciation\n",
    "\n",
    "The images below show typical maximum extents of the ice sheets during recent glaciations (grey) compared with present-day ice sheets (black)"
   ]
  },
  {
   "cell_type": "markdown",
   "id": "a298fbc7",
   "metadata": {},
   "source": [
    "<img src='http://upload.wikimedia.org/wikipedia/commons/thumb/e/ef/Iceage_north-intergl_glac_hg.png/480px-Iceage_north-intergl_glac_hg.png'>"
   ]
  },
  {
   "cell_type": "markdown",
   "id": "c73f47d5",
   "metadata": {},
   "source": [
    "<img src='http://upload.wikimedia.org/wikipedia/commons/thumb/4/44/Iceage_south-intergl_glac_hg.png/480px-Iceage_south-intergl_glac_hg.png'>"
   ]
  },
  {
   "cell_type": "markdown",
   "id": "e210d7fc",
   "metadata": {
    "slideshow": {
     "slide_type": "skip"
    }
   },
   "source": [
    "> Hannes Grobe/AWI, http://commons.wikimedia.org/wiki/File:Iceage_north-intergl_glac_hg.png"
   ]
  },
  {
   "cell_type": "markdown",
   "id": "60affa00",
   "metadata": {
    "slideshow": {
     "slide_type": "slide"
    }
   },
   "source": [
    "<a id='icevolumeseries'></a>\n",
    "### Pacing of ice ages: evidence from ocean sediments"
   ]
  },
  {
   "cell_type": "markdown",
   "id": "8c1985a0",
   "metadata": {},
   "source": [
    "The figure below shows a global record of **oxygen isotopes** recorded in the shells of marine organisms. This record tells us primarily about variations in **global ice volume** -- because the net evaporation of water from the oceans to build up the ice sheets leaves the oceans enriched in heavier isotopes.\n",
    "\n",
    "The x axis is plotted in **Thousands of years before present** (present-day is at zero on the left)."
   ]
  },
  {
   "cell_type": "markdown",
   "id": "cd53d360",
   "metadata": {},
   "source": [
    "<img src='../../images/Lisiecki_Raymo_Fig.4top.png' width=800>"
   ]
  },
  {
   "cell_type": "markdown",
   "id": "67d57e52",
   "metadata": {},
   "source": [
    "> Lisiecki, L. E. and Raymo, M. E. (2005). A Pliocene-Pleistocene stack of 57 globally distributed benthic δ18O records. Paleoceanog., 20."
   ]
  },
  {
   "cell_type": "markdown",
   "id": "191334a4",
   "metadata": {
    "slideshow": {
     "slide_type": "slide"
    }
   },
   "source": [
    "The ice ages (times of extensive glaciation and high ocean $\\delta^{18}$O) do not seem to be random fluctations. They have come and gone (approximately) periodically, somewhat like the seasons."
   ]
  },
  {
   "cell_type": "markdown",
   "id": "409ad864",
   "metadata": {
    "slideshow": {
     "slide_type": "-"
    }
   },
   "source": [
    "**Spectral analysis** of such records reveals peaks at some special frequencies:"
   ]
  },
  {
   "cell_type": "markdown",
   "id": "1c672b5c",
   "metadata": {},
   "source": [
    "<img src='../../images/ImbrieImbrie_Fig42.png' width=400>"
   ]
  },
  {
   "cell_type": "markdown",
   "id": "af0021c9",
   "metadata": {},
   "source": [
    "> Imbrie, J. and Imbrie, K. P. (1986). Ice Ages: Solving the Mystery. Harvard University Press, Cambridge, Massachusetts."
   ]
  },
  {
   "cell_type": "markdown",
   "id": "f5c5576a",
   "metadata": {
    "slideshow": {
     "slide_type": "slide"
    }
   },
   "source": [
    "The peaks noted on this figure are special because they correspond to frequencies of variations in Earth's orbital parameters, as we will see.\n",
    "\n",
    "These kind of results became available in the 1970’s for the first time, because ocean sediment cores allowed a sufficiently detailed look into the past to use time series analysis methods on them, e.g. to compute spectra.\n",
    "\n",
    "The presence of peaks in the spectrum at orbital frequencies was seen as convincing evidence that the so-called **astronomical theory of the ice ages** was (at least partially) correct."
   ]
  },
  {
   "cell_type": "markdown",
   "id": "b7ce40b3",
   "metadata": {
    "slideshow": {
     "slide_type": "slide"
    }
   },
   "source": [
    "____________\n",
    "<a id='section2'></a>\n",
    "\n",
    "## 2. Introducing the astronomical theory of the ice ages\n",
    "____________\n",
    "\n",
    "The **Astronomical Theory** of climate and the ice ages looks to the **regular, predictable variations in the Earth's orbit around the Sun** as the driving force for the growth and melt of the great ice sheets. Such theories have been discussed since long before there was any evidence about the timing of past glaciations."
   ]
  },
  {
   "cell_type": "markdown",
   "id": "f865e361",
   "metadata": {
    "slideshow": {
     "slide_type": "slide"
    }
   },
   "source": [
    "Last time we saw that insolation is NOT perfectly symmetrically distributed between the two hemispheres and seasons. \n",
    "\n",
    "To refresh our memory, let's use \n",
    "```\n",
    "climlab.solar.insolation.daily_insolation()\n",
    "```\n",
    "to compare the maximum insolation received at the North Pole (at its summer solstice) and the South Pole (at its summer solstice)."
   ]
  },
  {
   "cell_type": "code",
   "execution_count": null,
   "id": "64575cf6",
   "metadata": {
    "slideshow": {
     "slide_type": "slide"
    }
   },
   "outputs": [],
   "source": [
    "from climlab.solar.insolation import daily_insolation\n",
    "days = np.linspace(0, const.days_per_year, 365)\n",
    "Qnorth = daily_insolation(90,days)\n",
    "Qsouth = daily_insolation(-90,days)\n",
    "print( 'Daily average insolation at summer solstice:')\n",
    "print( 'North Pole: %0.2f W/m2.' %np.max(Qnorth))\n",
    "print( 'South Pole: %0.2f W/m2.' %np.max(Qsouth))"
   ]
  },
  {
   "cell_type": "markdown",
   "id": "e50a8bec",
   "metadata": {},
   "source": [
    "These asymmetries arise because of the detailed shape of the orbit of the Earth around the Sun and the tilt of the Earth's axis of rotation.\n",
    "\n",
    "As these orbitals details change over time, there are significant changes in the distribution of sunlight over the seasons and latitudes."
   ]
  },
  {
   "cell_type": "markdown",
   "id": "11df3ea1",
   "metadata": {
    "slideshow": {
     "slide_type": "slide"
    }
   },
   "source": [
    "### The Milankovitch hypothesis\n",
    "\n",
    "Version of the astronomical theory have been debated for at least 150 years.\n",
    "\n",
    "The most popular flavor has been the so-called **Milankovitch hypothesis**:\n",
    "\n",
    "> Ice sheets grow during periods of *weak summer insolation* in the Northern high latitudes."
   ]
  },
  {
   "cell_type": "markdown",
   "id": "e42d5526",
   "metadata": {
    "slideshow": {
     "slide_type": "fragment"
    }
   },
   "source": [
    "The idea is that for an ice sheet to grow, seasonal snow must survive through the summer. Milankovitch therefore focussed on the factors determining the climatic conditions during **summer**."
   ]
  },
  {
   "cell_type": "markdown",
   "id": "32b4a68e",
   "metadata": {
    "slideshow": {
     "slide_type": "slide"
    }
   },
   "source": [
    "____________\n",
    "<a id='section3'></a>\n",
    "\n",
    "## 3. Ellipses and orbits\n",
    "____________\n",
    "\n",
    "First, watch this neat animation from [Peter Huybers](http://www.people.fas.harvard.edu/~phuybers) (Harvard University):\n",
    "\n",
    "http://www.people.fas.harvard.edu/~phuybers/Inso/Orbit.mv4\n",
    "\n",
    "Watch carefully and note the three ways that the orbit is varying simultaneously."
   ]
  },
  {
   "cell_type": "markdown",
   "id": "53f9f926",
   "metadata": {
    "slideshow": {
     "slide_type": "slide"
    }
   },
   "source": [
    "From Professor Huybers' web page:\n",
    ">A movie depicting Earth's changing orbit over the last 100Ky. The orientation is such that spring equinox (indicated by a vertical bar) is directly to the front with the sun behind it. Northern Hemisphere summer is to our right, and Northern Hemisphere winter is to the left. The apsidal (dashed) line connects perihelion (Earth's closest approach to the sun) to aphelion (the point when Earth is furthest from the sun). The rotaion of the apsidal line occurs because of the precession of the equinoxes and has a roughly twenty-two thousand year period. The semi-circle around the Earth indicates the location of the equator and the straight line is the polar axis. Obliquity is defined as the angle beetween the orbital and equatorial planes. The variations in Earth's obliquity and the eccentricity of Earth's orbit have both been increased in magnitude by a factor of ten. Also, the Earth's angular velocity has been decreased by a factor of five thousand. Note that Earth's angular velocity is slowest at aphelion and fastest at perihelion."
   ]
  },
  {
   "cell_type": "markdown",
   "id": "9ee4e36b",
   "metadata": {
    "slideshow": {
     "slide_type": "slide"
    }
   },
   "source": [
    "The Earth’s orbit around the Sun traces out an **ellipse**, with the Sun at one focal point."
   ]
  },
  {
   "cell_type": "markdown",
   "id": "fec11d44",
   "metadata": {},
   "source": [
    "<img src='../../images/ImbrieImbrie_Fig14.png' width=600>"
   ]
  },
  {
   "cell_type": "markdown",
   "id": "290ddf3d",
   "metadata": {},
   "source": [
    "> Imbrie, J. and Imbrie, K. P. (1986). Ice Ages: Solving the Mystery. Harvard University Press, Cambridge, Massachusetts."
   ]
  },
  {
   "cell_type": "markdown",
   "id": "9c4f45ef",
   "metadata": {
    "slideshow": {
     "slide_type": "slide"
    }
   },
   "source": [
    "### How to draw an ellipse\n",
    "\n",
    "1. Take any two points on a plane\n",
    "2. Attach the two ends of a piece of string to the two points. \n",
    "3. Pull the loose string out as far as it will go in any direction, and place a pencil mark at that point.\n",
    "4. Do the same for every possible direction.\n",
    "5. Congratulations, you have just drawn a perfect ellipse. The two points are called **foci** or focal points."
   ]
  },
  {
   "cell_type": "markdown",
   "id": "d89b470f",
   "metadata": {
    "slideshow": {
     "slide_type": "slide"
    }
   },
   "source": [
    "Keep this in mind, and you will always understand the **mathematical definition of an ellipse**:\n",
    "\n",
    "> An ellipse is a curve that is the locus of all points in the plane the sum of whose distances from two fixed points (the foci) is a positive constant.\n",
    "\n",
    "In our case, the positive constant is the total length of the string."
   ]
  },
  {
   "cell_type": "markdown",
   "id": "fc19822f",
   "metadata": {
    "slideshow": {
     "slide_type": "slide"
    }
   },
   "source": [
    "### Perihelion and Aphelion\n",
    "\n",
    "The point in the orbit that is **closest to the sun** is called **Perihelion**.\n",
    "The farthest point is called **Aphelion**.\n",
    "\n",
    "Distances (present-day): \n",
    "\n",
    "- Perihelion,  $ d_p = 1.47 \\times 10^{11}$ m\n",
    "- Aphelion,  $ d_a = 1.52 \\times 10^{11}$ m"
   ]
  },
  {
   "cell_type": "markdown",
   "id": "9ba6fc4d",
   "metadata": {
    "slideshow": {
     "slide_type": "slide"
    }
   },
   "source": [
    "### Eccentricity\n",
    "\n",
    "The eccentricity of the orbit is defined as\n",
    "$$ e = \\frac{d_a-d_p}{d_a+d_p} $$\n",
    "\n",
    "So for present-day values, $e = 0.017 = 1.7\\%$\n",
    "\n",
    "Earth’s orbit is nearly circular, but not quite!  \n",
    "\n",
    "(What value of $e$ would a purely circular orbit have?)"
   ]
  },
  {
   "cell_type": "markdown",
   "id": "d829b3ef",
   "metadata": {
    "slideshow": {
     "slide_type": "slide"
    }
   },
   "source": [
    "As the Earth travels around its orbit, the **distance to the sun varies**. The energy flux (W m$^{-2}$) is larger when the Earth is closer to the sun (i.e. near perihelion).\n",
    "\n",
    "At present, perihelion occurs on January 3. This is very close to the Northern Hemisphere winter solstice (Dec. 21)."
   ]
  },
  {
   "cell_type": "markdown",
   "id": "1961fa57",
   "metadata": {
    "slideshow": {
     "slide_type": "slide"
    }
   },
   "source": [
    "**The Earth actually receives MORE total sunlight during Northern Winter than during Northern Summer.**\n",
    "\n",
    "It is thus critical to understand the relative timing of our seasons (which are determined by the axial tilt or obliquity) and the perehelion."
   ]
  },
  {
   "cell_type": "markdown",
   "id": "d7a285ae",
   "metadata": {
    "slideshow": {
     "slide_type": "slide"
    }
   },
   "source": [
    "### Obliquity\n",
    "\n",
    "The obliquity $\\Phi$ is the **tilt of the Earth’s axis of rotation with respect to a line normal to the plane of the Earth’s orbit around the Sun.**  \n",
    "\n",
    "Currently $\\Phi = 23.5^\\circ$"
   ]
  },
  {
   "cell_type": "markdown",
   "id": "e33f5efb",
   "metadata": {
    "slideshow": {
     "slide_type": "slide"
    }
   },
   "source": [
    "Obliquity is the fundamental reason we have seasons, and would have seasons even with a perfectly circular orbit ($e=0$)\n",
    "\n",
    "Higher obliquity means:\n",
    "\n",
    "- more summertime insolation at the poles\n",
    "- less wintertime insolation in mid-latitudes"
   ]
  },
  {
   "cell_type": "markdown",
   "id": "1f1e4d82",
   "metadata": {
    "slideshow": {
     "slide_type": "slide"
    }
   },
   "source": [
    "### Longitude of perihelion and precession of the equinoxes\n",
    "\n",
    "The **longitude of perihelion** is defined as the angle $\\Lambda$ between the Earth-Sun line at vernal equinox and the line from the Sun to perihelion (see sketch).\n",
    "\n",
    "The current value is $\\Lambda = 281^\\circ$ (perihelion on January 3, shortly after NH winter solstice).\n",
    "\n",
    "We call the gradual change over time of the longitude of perihelion the **precession of the equinoxes** (or just precession).  It is the **gradual change in the time of year at which the Earth is closest to the Sun**."
   ]
  },
  {
   "cell_type": "markdown",
   "id": "82f36694",
   "metadata": {
    "slideshow": {
     "slide_type": "slide"
    }
   },
   "source": [
    "#### Question\n",
    "\n",
    "Can there be any precession for a planet with a *perfectly circular* orbit (zero eccentricity)?"
   ]
  },
  {
   "cell_type": "markdown",
   "id": "a509e18d",
   "metadata": {
    "slideshow": {
     "slide_type": "slide"
    }
   },
   "source": [
    "It is important to understand that eccentricity modulates the precession. *Highly eccentric orbits lead to larger differences in the seasonal distribution of insolation.* \n",
    "\n",
    "We quantify this with the **precessional parameter**\n",
    "\n",
    "$$ e \\sin \\Lambda $$\n",
    "\n",
    "Large positive precessional parameter = Excess insolation during summer in the northern hemisphere."
   ]
  },
  {
   "cell_type": "markdown",
   "id": "526a1975",
   "metadata": {
    "slideshow": {
     "slide_type": "slide"
    }
   },
   "source": [
    "### The three orbital parameters\n",
    "\n",
    "We have just identified three parameters that control the seasonal and latitudinal distribution of insolation: $e, \\Lambda, \\Phi$\n",
    "\n",
    "All three vary in predictable ways over time. They have been calculated very accurately from astronomical considerations (basically the gravity of the Earth, Sun, moon, and other solar system objects)."
   ]
  },
  {
   "cell_type": "markdown",
   "id": "2405e945",
   "metadata": {
    "slideshow": {
     "slide_type": "slide"
    }
   },
   "source": [
    "____________\n",
    "<a id='section4'></a>\n",
    "\n",
    "## 4. Past orbital variations\n",
    "____________"
   ]
  },
  {
   "cell_type": "markdown",
   "id": "9b15b047",
   "metadata": {
    "slideshow": {
     "slide_type": "slide"
    }
   },
   "source": [
    "There are tools in `climlab` to look up orbital parameters for Earth over the last 5 million years.\n",
    "\n",
    "We will use the package\n",
    "```\n",
    "climlab.solar.orbital\n",
    "```"
   ]
  },
  {
   "cell_type": "code",
   "execution_count": null,
   "id": "e2a4afd2",
   "metadata": {},
   "outputs": [],
   "source": [
    "from climlab.solar.orbital import OrbitalTable"
   ]
  },
  {
   "cell_type": "code",
   "execution_count": null,
   "id": "ed42300d",
   "metadata": {},
   "outputs": [],
   "source": [
    "OrbitalTable"
   ]
  },
  {
   "cell_type": "markdown",
   "id": "f3a2c3de",
   "metadata": {
    "slideshow": {
     "slide_type": "slide"
    }
   },
   "source": [
    "Make reference plots of the variation in the three orbital parameter over the last 1 million years"
   ]
  },
  {
   "cell_type": "code",
   "execution_count": null,
   "id": "a2060b66",
   "metadata": {},
   "outputs": [],
   "source": [
    "kyears = np.arange( -1000., 1.)\n",
    "orb = OrbitalTable.interp(kyear=kyears)\n",
    "orb"
   ]
  },
  {
   "cell_type": "markdown",
   "id": "316793f0",
   "metadata": {
    "slideshow": {
     "slide_type": "slide"
    }
   },
   "source": [
    "The object called \n",
    "```\n",
    "orb\n",
    "```\n",
    "is an `xarray.Dataset` which now holds 1 million years worth of orbital data, total of 1001 data points for each element: \n",
    "\n",
    "- eccentricity `ecc`\n",
    "- obliquity angle `obliquity`\n",
    "- solar longitude of perihelion `long_peri`"
   ]
  },
  {
   "cell_type": "code",
   "execution_count": null,
   "id": "33c52cd4",
   "metadata": {
    "slideshow": {
     "slide_type": "skip"
    }
   },
   "outputs": [],
   "source": [
    "fig = plt.figure( figsize = (8,8) )\n",
    "ax1 = fig.add_subplot(3,1,1)\n",
    "ax1.plot( kyears, orb['ecc'] )\n",
    "ax1.set_title('Eccentricity $e$', fontsize=18 )\n",
    "ax2 = fig.add_subplot(3,1,3)\n",
    "ax2.plot( kyears, orb['ecc'] * np.sin( np.deg2rad( orb['long_peri'] ) ) )\n",
    "ax2.set_title('Precessional parameter $e \\sin(\\Lambda)$', fontsize=18 )\n",
    "ax2.set_xlabel( 'Thousands of years before present', fontsize=14 )\n",
    "ax3 = fig.add_subplot(3,1,2)\n",
    "ax3.plot( kyears, orb['obliquity'] )\n",
    "ax3.set_title('Obliquity (axial tilt) $\\Phi$', fontsize=18 )"
   ]
  },
  {
   "cell_type": "markdown",
   "id": "22cafb60",
   "metadata": {
    "slideshow": {
     "slide_type": "slide"
    }
   },
   "source": [
    "### Timescales of orbital variation:\n",
    "\n",
    "- Eccentricity varies slowly between nearly circular and slightly eccentric, with dominant periodicities of about 100 and 400 kyear. Current eccentricity is relatively small compared to previous few million years\n",
    "- Longitude of perihelion has a period around 20 kyears, but effect is modulated by slow eccentricity variations. Precessional cycles are predicted to be small for the coming 50 kyears because of weak eccentricity.\n",
    "- Obliquity varies between about 22.5º and 24.5º over a period of 40 kyears. It is currently near the middle of its range."
   ]
  },
  {
   "cell_type": "markdown",
   "id": "2caa065c",
   "metadata": {
    "slideshow": {
     "slide_type": "slide"
    }
   },
   "source": [
    "____________\n",
    "<a id='section5'></a>\n",
    "\n",
    "## 5. Using `climlab` to calculate insolation for arbitrary orbital parameters\n",
    "____________"
   ]
  },
  {
   "cell_type": "markdown",
   "id": "432329aa",
   "metadata": {
    "slideshow": {
     "slide_type": "slide"
    }
   },
   "source": [
    "We can use the function \n",
    "```\n",
    "climlab.solar.insolation.daily_insolation()\n",
    "```\n",
    "to calculate insolation for any arbitrary orbital parameters.\n",
    "\n",
    "We just need to pass a dictionary of orbital parameters. This works automatically when we slice or interpolate from the `xarray` object `OrbitalTable`."
   ]
  },
  {
   "cell_type": "markdown",
   "id": "cb33e67b",
   "metadata": {
    "slideshow": {
     "slide_type": "slide"
    }
   },
   "source": [
    "### An example: zero obliquity\n",
    "\n",
    "Calculate the insolation at the **North Pole** for a planet with **zero obliquity** and **zero eccentricity**."
   ]
  },
  {
   "cell_type": "code",
   "execution_count": null,
   "id": "144a88d7",
   "metadata": {},
   "outputs": [],
   "source": [
    "from climlab.solar.insolation import daily_insolation"
   ]
  },
  {
   "cell_type": "code",
   "execution_count": null,
   "id": "d91cd3fa",
   "metadata": {},
   "outputs": [],
   "source": [
    "thisorb = {'ecc':0., 'obliquity':0., 'long_peri':0.}"
   ]
  },
  {
   "cell_type": "code",
   "execution_count": null,
   "id": "2784851e",
   "metadata": {},
   "outputs": [],
   "source": [
    "days = np.linspace(1.,20.)/20 * const.days_per_year\n",
    "daily_insolation(90, days, thisorb)"
   ]
  },
  {
   "cell_type": "markdown",
   "id": "136add80",
   "metadata": {
    "slideshow": {
     "slide_type": "slide"
    }
   },
   "source": [
    "Compare this with the same calculation for default (present-day) orbital parameters:"
   ]
  },
  {
   "cell_type": "code",
   "execution_count": null,
   "id": "26b41f33",
   "metadata": {},
   "outputs": [],
   "source": [
    "daily_insolation(90, days)"
   ]
  },
  {
   "cell_type": "markdown",
   "id": "4474cbf3",
   "metadata": {},
   "source": [
    "Do you understand what's going on here?"
   ]
  },
  {
   "cell_type": "markdown",
   "id": "f12cf803",
   "metadata": {
    "slideshow": {
     "slide_type": "slide"
    }
   },
   "source": [
    "____________\n",
    "<a id='section6'></a>\n",
    "\n",
    "## 6. Past changes in insolation: investigating the Milankovitch hypothesis\n",
    "____________"
   ]
  },
  {
   "cell_type": "markdown",
   "id": "c8e9a145",
   "metadata": {
    "slideshow": {
     "slide_type": "slide"
    }
   },
   "source": [
    "The **Last Glacial Maximum** or \"LGM\" occurred around 23,000 years before present, when the ice sheets were at their greatest extent. \n",
    "\n",
    "By 10,000 years ago, the ice sheets were mostly gone and the last ice age was over. \n",
    "\n",
    "If the **Milankovitch hypothesis** is correct, we should that **summer insolation in the high northern latitudes** increased substantially after the LGM.\n",
    "\n",
    "The classical way to plot this is the look at **insolation at summer solstice at 65ºN**.  Let's plot this for the last 100,000 years."
   ]
  },
  {
   "cell_type": "code",
   "execution_count": null,
   "id": "caef212e",
   "metadata": {
    "slideshow": {
     "slide_type": "slide"
    }
   },
   "outputs": [],
   "source": [
    "#  Plot summer solstice insolation at 65ºN\n",
    "years = np.linspace(-100, 0, 101)  #  last 100 kyr\n",
    "thisorb = OrbitalTable.interp(kyear=years)\n",
    "S65 = daily_insolation( 65, 172, thisorb )\n",
    "fig, ax = plt.subplots()\n",
    "ax.plot(years, S65)\n",
    "ax.set_xlabel('Thousands of years before present')\n",
    "ax.set_ylabel('W/m2')\n",
    "ax.set_title('Summer solstice insolation at 65N')\n",
    "ax.grid()"
   ]
  },
  {
   "cell_type": "markdown",
   "id": "624c9c0b",
   "metadata": {
    "slideshow": {
     "slide_type": "slide"
    }
   },
   "source": [
    "Indeed, there was an increase of 60 W m$^{-2}$ over a 10 kyr interval following the LGM.\n",
    "\n",
    "Why?\n",
    "\n",
    "What orbital factors favor high insolation at 65ºN at summer solstice?\n",
    "\n",
    "- high obliquity\n",
    "- large, positive precessional parameter"
   ]
  },
  {
   "cell_type": "markdown",
   "id": "fd720773",
   "metadata": {
    "slideshow": {
     "slide_type": "slide"
    }
   },
   "source": [
    "Looking back at our plots of the orbital parameters, it turns out that both were optimal around 10,000 years ago.\n",
    "\n",
    "Actually 10,000 years ago the climate was slightly warmer than today and the ice sheets had mostly disappeared already. \n",
    "\n",
    "The LGM occurred near a minimum in summer insolation in the north – mostly due to obliquity reaching a minimum, since we have been in a period of weak precession due to the nearly circular orbit. So this is consistent with the orbital theory.\n",
    "\n",
    "The hypothesis is incomplete, but compelling."
   ]
  },
  {
   "cell_type": "markdown",
   "id": "4b1ea50d",
   "metadata": {
    "slideshow": {
     "slide_type": "slide"
    }
   },
   "source": [
    "### Comparing insolation at 10 kyr and 23 kyr"
   ]
  },
  {
   "cell_type": "code",
   "execution_count": null,
   "id": "a32ce0c7",
   "metadata": {},
   "outputs": [],
   "source": [
    "lat = np.linspace(-90, 90, 181)\n",
    "days = np.linspace(1.,50.)/50 * const.days_per_year\n",
    "\n",
    "orb_0 = OrbitalTable.interp(kyear=0)  # present-day orbital parameters\n",
    "orb_10 = OrbitalTable.interp(kyear=-10)  # orbital parameters for 10 kyrs before present\n",
    "orb_23 = OrbitalTable.interp(kyear=-23)   # 23 kyrs before present\n",
    "Q_0 = daily_insolation( lat, days, orb_0 )    \n",
    "Q_10 = daily_insolation( lat, days, orb_10 )   # insolation arrays for each of the three sets of orbital parameters\n",
    "Q_23 = daily_insolation( lat, days, orb_23 )"
   ]
  },
  {
   "cell_type": "code",
   "execution_count": null,
   "id": "ef50feb3",
   "metadata": {
    "slideshow": {
     "slide_type": "skip"
    }
   },
   "outputs": [],
   "source": [
    "fig = plt.figure( figsize=(12,6) )\n",
    "\n",
    "\n",
    "ax1 = fig.add_subplot(1,2,1)\n",
    "Qdiff = Q_10 - Q_23\n",
    "CS1 = ax1.contour( days, lat, Qdiff, levels = np.arange(-100., 100., 10.) )\n",
    "ax1.clabel(CS1, CS1.levels, inline=True, fmt='%r', fontsize=10)\n",
    "ax1.contour( days, lat, Qdiff, levels = [0], colors='k' )\n",
    "ax1.set_xlabel('Days since January 1', fontsize=16 )\n",
    "ax1.set_ylabel('Latitude', fontsize=16 )\n",
    "ax1.set_title('Insolation differences: 10 kyrs - 23 kyrs', fontsize=18 )\n",
    "\n",
    "ax2 = fig.add_subplot(1,2,2)\n",
    "ax2.plot( np.mean( Qdiff, axis=1 ), lat )\n",
    "ax2.set_xlabel('W m$^{-2}$', fontsize=16 )\n",
    "ax2.set_ylabel( 'Latitude', fontsize=16 )\n",
    "ax2.set_title(' Annual mean differences', fontsize=18 )\n",
    "ax2.set_ylim((-90,90))\n",
    "ax2.grid()"
   ]
  },
  {
   "cell_type": "markdown",
   "id": "0ec3c3c9",
   "metadata": {
    "slideshow": {
     "slide_type": "slide"
    }
   },
   "source": [
    "This figure shows that the **insolation at summer solstice** does not tell the whole story!\n",
    "\n",
    "For example, the insolation in **late summer / early fall** apparently got weaker between 23 and 10 kyr (in the high northern latitudes)."
   ]
  },
  {
   "cell_type": "markdown",
   "id": "d1297e91",
   "metadata": {
    "slideshow": {
     "slide_type": "slide"
    }
   },
   "source": [
    "The annual mean plot is perfectly symmetric about the equator.\n",
    "\n",
    "This actually shows a classic obliquity signal: at 10 kyrs, the axis close to its maximum tilt, around 24.2º. At 23 kyrs, the tilt was much weaker, only about 22.7º. In the annual mean, a stronger tilt means more sunlight to the poles and less to the equator. This is very helpful if you are trying to melt an ice sheet."
   ]
  },
  {
   "cell_type": "markdown",
   "id": "fd884ce1",
   "metadata": {
    "slideshow": {
     "slide_type": "slide"
    }
   },
   "source": [
    "Finally, take the **global average** of the difference:"
   ]
  },
  {
   "cell_type": "code",
   "execution_count": null,
   "id": "2e7887a3",
   "metadata": {},
   "outputs": [],
   "source": [
    "print( np.average(np.mean(Qdiff,axis=1), weights=np.cos(np.deg2rad(lat))) )"
   ]
  },
  {
   "cell_type": "markdown",
   "id": "c644a6dc",
   "metadata": {},
   "source": [
    "The difference is tiny (and due to very small changes in the eccentricity). \n",
    "\n",
    "**Ice ages are driven by seasonal and latitudinal redistributions of solar energy**, NOT by changes in the total global amount of solar energy!"
   ]
  },
  {
   "cell_type": "markdown",
   "id": "498baa4e",
   "metadata": {
    "slideshow": {
     "slide_type": "slide"
    }
   },
   "source": [
    "____________\n",
    "<a id='section7'></a>\n",
    "\n",
    "## 7. Understanding the effects of orbital variations on insolation\n",
    "____________"
   ]
  },
  {
   "cell_type": "markdown",
   "id": "8deae26c",
   "metadata": {
    "slideshow": {
     "slide_type": "slide"
    }
   },
   "source": [
    "We are going to create a figure showing past time variations in three quantities:\n",
    "\n",
    "1. Global, annual mean insolation\n",
    "2. Annual mean insolation at high northern latitudes\n",
    "3. Summer solstice insolation at high northern latitudes\n",
    "\n",
    "which we will compare to the orbital variations we plotted earlier."
   ]
  },
  {
   "cell_type": "markdown",
   "id": "cc219d2b",
   "metadata": {
    "slideshow": {
     "slide_type": "slide"
    }
   },
   "source": [
    "Create a large array of insolation over the whole globe, whole year, and for every set of orbital parameters."
   ]
  },
  {
   "cell_type": "code",
   "execution_count": null,
   "id": "67f9b903",
   "metadata": {},
   "outputs": [],
   "source": [
    "lat = np.linspace(-90, 90, 91)\n",
    "num = 365.\n",
    "days = np.linspace(1.,num,365)/num * const.days_per_year\n",
    "Q = daily_insolation(lat, days, orb)\n",
    "print( Q.shape)"
   ]
  },
  {
   "cell_type": "code",
   "execution_count": null,
   "id": "f015101b",
   "metadata": {},
   "outputs": [],
   "source": [
    "Qann = np.mean(Q, axis=1)  # time average over the year\n",
    "print( Qann.shape)\n",
    "Qglobal = np.empty_like( kyears )\n",
    "for n in range( kyears.size ):   # global area-weighted average\n",
    "    Qglobal[n] = np.average( Qann[:,n], weights=np.cos(np.deg2rad(lat)))\n",
    "print( Qglobal.shape)"
   ]
  },
  {
   "cell_type": "code",
   "execution_count": null,
   "id": "5092616d",
   "metadata": {
    "slideshow": {
     "slide_type": "skip"
    }
   },
   "outputs": [],
   "source": [
    "fig = plt.figure(figsize = (16,10))\n",
    "ax = []\n",
    "for n in range(6):\n",
    "    ax.append(fig.add_subplot(3,2,n+1))\n",
    "\n",
    "ax[0].plot( kyears, orb['ecc'] )\n",
    "ax[0].set_title('Eccentricity $e$', fontsize=18 )\n",
    "ax[2].plot( kyears, orb['obliquity'] )\n",
    "ax[2].set_title('Obliquity (axial tilt) $\\Phi$', fontsize=18 )\n",
    "ax[4].plot( kyears, orb['ecc'] * np.sin( np.deg2rad( orb['long_peri'] ) ) )\n",
    "ax[4].set_title('Precessional parameter $e \\sin(\\Lambda)$', fontsize=18 )\n",
    "\n",
    "ax[1].plot( kyears, Qglobal )\n",
    "ax[1].set_title('Global, annual mean insolation', fontsize=18 )\n",
    "ax[1].ticklabel_format( useOffset=False )\n",
    "\n",
    "ax[3].plot( kyears, Qann[80,:] )\n",
    "ax[3].set_title('Annual mean insolation at 70N', fontsize=18 )\n",
    "\n",
    "ax[5].plot( kyears, Q[80,170,:] )\n",
    "ax[5].set_title('Summer solstice insolation at 70N', fontsize=18 )\n",
    "\n",
    "for n in range(6):\n",
    "    ax[n].grid()\n",
    "for n in [4,5]:\n",
    "    ax[n].set_xlabel( 'Thousands of years before present', fontsize=14 )"
   ]
  },
  {
   "cell_type": "markdown",
   "id": "87c3771a",
   "metadata": {
    "slideshow": {
     "slide_type": "slide"
    }
   },
   "source": [
    "We see that\n",
    "\n",
    "1. **Global annual mean** insolation **varies only with eccentricity** (slow), and the variations are **very small**!\n",
    "2. **Annual mean** insolation **varies with obliquity** (medium). Annual mean insolation does NOT depend on precession!\n",
    "3. Summer solstice insolation at high northern latitudes is affected by both precession and obliquity. The variations are large."
   ]
  },
  {
   "cell_type": "markdown",
   "id": "15ce9935",
   "metadata": {
    "slideshow": {
     "slide_type": "slide"
    }
   },
   "source": [
    "____________\n",
    "<a id='section8'></a>\n",
    "\n",
    "## 8. Summary\n",
    "____________"
   ]
  },
  {
   "cell_type": "markdown",
   "id": "12dd8801",
   "metadata": {
    "slideshow": {
     "slide_type": "slide"
    }
   },
   "source": [
    "- The annual, global mean insolation varies only as a result of eccentricity $e$. The changes are very small (about 0.1 % through a typical eccentricity cycle from more circular to more elliptical)\n",
    "- Obliquity controls the annual-mean equator-to-pole insolation gradient.\n",
    "- The precessional parameter $e \\sin⁡\\Lambda$ controls the modulation in seasonal insolation due to eccentricity and longitude of perihelion $\\Lambda$."
   ]
  },
  {
   "cell_type": "markdown",
   "id": "34213a2c",
   "metadata": {
    "slideshow": {
     "slide_type": "slide"
    }
   },
   "source": [
    "- The combined effects can result in 15% changes in high-latitude summer insolation\n",
    "- Obliquity combined with eccentricity and longitude of perihelion control the amplitude of seasonal insolation variations at a point.\n",
    "- Combined effects of the three orbital parameters can cause variations in seasonal insolation as large as 30% in high latitudes."
   ]
  },
  {
   "cell_type": "markdown",
   "id": "c01fc0be",
   "metadata": {
    "slideshow": {
     "slide_type": "slide"
    }
   },
   "source": [
    "These geometrical considerations tell us that **seasonal variations in $Q$ can be rather large**, and will surely impact the climate. But to go from there to understanding how large ice sheets come and go is a difficult step, and requires climate models!\n",
    "\n",
    "One thing is clear: any serious astronomical theory of climate needs to take account of the climate response to seasonal variations in Q, because these are much larger than the variations in annual mean insolation."
   ]
  },
  {
   "cell_type": "markdown",
   "id": "206ea6c2",
   "metadata": {
    "slideshow": {
     "slide_type": "skip"
    }
   },
   "source": [
    "____________\n",
    "\n",
    "## Credits\n",
    "\n",
    "This notebook is part of [The Climate Laboratory](https://brian-rose.github.io/ClimateLaboratoryBook), an open-source textbook developed and maintained by [Brian E. J. Rose](http://www.atmos.albany.edu/facstaff/brose/index.html), University at Albany.\n",
    "\n",
    "It is licensed for free and open consumption under the\n",
    "[Creative Commons Attribution 4.0 International (CC BY 4.0)](https://creativecommons.org/licenses/by/4.0/) license.\n",
    "\n",
    "Development of these notes and the [climlab software](https://github.com/brian-rose/climlab) is partially supported by the National Science Foundation under award AGS-1455071 to Brian Rose. Any opinions, findings, conclusions or recommendations expressed here are mine and do not necessarily reflect the views of the National Science Foundation.\n",
    "____________"
   ]
  },
  {
   "cell_type": "code",
   "execution_count": null,
   "id": "92ec151c",
   "metadata": {
    "slideshow": {
     "slide_type": "skip"
    }
   },
   "outputs": [],
   "source": []
  }
 ],
 "metadata": {
  "jupytext": {
   "text_representation": {
    "extension": ".md",
    "format_name": "myst",
    "format_version": 0.12,
    "jupytext_version": "1.6.0"
   }
  },
  "kernelspec": {
   "display_name": "Python 3",
   "language": "python",
   "name": "python3"
  },
  "source_map": [
   14,
   20,
   31,
   41,
   47,
   51,
   55,
   59,
   64,
   71,
   75,
   79,
   83,
   87,
   91,
   95,
   103,
   113,
   123,
   135,
   141,
   151,
   155,
   169,
   175,
   179,
   183,
   187,
   197,
   205,
   217,
   230,
   236,
   242,
   250,
   259,
   269,
   275,
   285,
   293,
   301,
   310,
   314,
   318,
   322,
   328,
   340,
   358,
   366,
   375,
   385,
   391,
   395,
   399,
   404,
   408,
   410,
   414,
   423,
   433,
   450,
   461,
   471,
   475,
   487,
   513,
   519,
   525,
   529,
   531,
   537,
   545,
   555,
   559,
   567,
   576,
   609,
   617,
   625,
   631,
   637,
   643,
   657
  ]
 },
 "nbformat": 4,
 "nbformat_minor": 5
}