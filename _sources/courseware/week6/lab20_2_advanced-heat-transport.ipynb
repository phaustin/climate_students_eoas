{
 "cells": [
  {
   "cell_type": "markdown",
   "id": "95f3bc5a",
   "metadata": {
    "slideshow": {
     "slide_type": "slide"
    }
   },
   "source": [
    "# Advanced topic: Heat transport decomposition\n",
    "\n",
    "This notebook is part of [The Climate Laboratory](https://brian-rose.github.io/ClimateLaboratoryBook) by [Brian E. J. Rose](http://www.atmos.albany.edu/facstaff/brose/index.html), University at Albany."
   ]
  },
  {
   "cell_type": "markdown",
   "id": "c6339fa6",
   "metadata": {},
   "source": [
    "*This notebook is an extension of the [Heat transport notes](https://brian-rose.github.io/ClimateLaboratoryBook/courseware/heat-transport.html) containing some additional advanced material on the decomposition of total heat transport in components. The advanced notes are unfinished but may be useful.*"
   ]
  },
  {
   "cell_type": "markdown",
   "id": "48ac51ed",
   "metadata": {
    "slideshow": {
     "slide_type": "slide"
    }
   },
   "source": [
    "____________\n",
    "<a id='section1'></a>\n",
    "\n",
    "## 1. Spatial patterns of insolation and surface temperature\n",
    "____________\n",
    "\n",
    "Let's take a look at seasonal and spatial pattern of insolation and compare this to the zonal average surface temperatures."
   ]
  },
  {
   "cell_type": "code",
   "execution_count": null,
   "id": "89f0d2a5",
   "metadata": {
    "slideshow": {
     "slide_type": "slide"
    }
   },
   "outputs": [],
   "source": [
    "%matplotlib inline\n",
    "import numpy as np\n",
    "import matplotlib.pyplot as plt\n",
    "import xarray as xr\n",
    "import climlab\n",
    "from climlab import constants as const"
   ]
  },
  {
   "cell_type": "code",
   "execution_count": null,
   "id": "e739157f",
   "metadata": {},
   "outputs": [],
   "source": [
    "#  Calculate daily average insolation as function of latitude and time of year\n",
    "lat = np.linspace( -90., 90., 500 )\n",
    "days = np.linspace(0, const.days_per_year, 365 )\n",
    "Q = climlab.solar.insolation.daily_insolation( lat, days )"
   ]
  },
  {
   "cell_type": "code",
   "execution_count": null,
   "id": "81e7f180",
   "metadata": {
    "slideshow": {
     "slide_type": "slide"
    }
   },
   "outputs": [],
   "source": [
    "##  daily surface temperature from  NCEP reanalysis\n",
    "ncep_url = \"http://www.esrl.noaa.gov/psd/thredds/dodsC/Datasets/ncep.reanalysis.derived/\"\n",
    "ncep_temp = xr.open_dataset( ncep_url + \"surface_gauss/skt.sfc.day.1981-2010.ltm.nc\", decode_times=False)\n",
    "#url = 'http://apdrc.soest.hawaii.edu:80/dods/public_data/Reanalysis_Data/NCEP/NCEP/clima/'\n",
    "#skt_path = 'surface_gauss/skt'\n",
    "#ncep_temp = xr.open_dataset(url+skt_path)\n",
    "ncep_temp_zon = ncep_temp.skt.mean(dim='lon')"
   ]
  },
  {
   "cell_type": "code",
   "execution_count": null,
   "id": "9243ba2d",
   "metadata": {},
   "outputs": [],
   "source": [
    "fig = plt.figure(figsize=(12,6))\n",
    "\n",
    "ax1 = fig.add_subplot(121)\n",
    "CS = ax1.contour( days, lat, Q , levels = np.arange(0., 600., 50.) )\n",
    "ax1.clabel(CS, CS.levels, inline=True, fmt='%r', fontsize=10)\n",
    "ax1.set_title('Daily average insolation', fontsize=18 )\n",
    "ax1.contourf ( days, lat, Q, levels=[-100., 0.], colors='k' )\n",
    "\n",
    "ax2 = fig.add_subplot(122)\n",
    "CS = ax2.contour( (ncep_temp.time - ncep_temp.time[0])/const.hours_per_day, ncep_temp.lat, \n",
    "                 ncep_temp_zon.T, levels=np.arange(210., 310., 10. ) )\n",
    "ax2.clabel(CS, CS.levels, inline=True, fmt='%r', fontsize=10)\n",
    "ax2.set_title('Observed zonal average surface temperature', fontsize=18 )\n",
    "\n",
    "for ax in [ax1,ax2]:\n",
    "    ax.set_xlabel('Days since January 1', fontsize=16 )\n",
    "    ax.set_ylabel('Latitude', fontsize=16 )\n",
    "    ax.set_yticks([-90,-60,-30,0,30,60,90])\n",
    "    ax.grid()"
   ]
  },
  {
   "cell_type": "markdown",
   "id": "34cfae2f",
   "metadata": {
    "slideshow": {
     "slide_type": "slide"
    }
   },
   "source": [
    "This figure reveals something fairly obvious, but still worth thinking about:\n",
    "\n",
    "**Warm temperatures are correlated with high insolation**. It's warm where the sun shines.\n",
    "\n",
    "More specifically, we can see a few interesting details here:\n",
    "\n",
    "- The seasonal cycle is weakest in the tropics and strongest in the high latitudes.\n",
    "- The warmest temperatures occur slighly NORTH of the equator\n",
    "- The highest insolation occurs at the poles at summer solstice."
   ]
  },
  {
   "cell_type": "markdown",
   "id": "e725c029",
   "metadata": {
    "slideshow": {
     "slide_type": "slide"
    }
   },
   "source": [
    "The local surface temperature does not correlate perfectly with local insolation for two reasons:\n",
    "\n",
    "- the climate system has heat capacity, which buffers some of the seasonal variations\n",
    "- the climate system moves energy around in space!"
   ]
  },
  {
   "cell_type": "markdown",
   "id": "0c329d41",
   "metadata": {
    "slideshow": {
     "slide_type": "slide"
    }
   },
   "source": [
    "____________\n",
    "<a id='section2'></a>\n",
    "\n",
    "## 2. Calculating Radiative-Convective Equilibrium as a function of latitude\n",
    "____________\n",
    "\n",
    "As a first step to understanding the effects of **heat transport by fluid motions** in the atmosphere and ocean, we can calculate **what the surface temperature would be without any motion**.\n",
    "\n",
    "Let's calculate a **radiative-convective equilibrium** state for every latitude band."
   ]
  },
  {
   "cell_type": "markdown",
   "id": "34bcfaba",
   "metadata": {
    "slideshow": {
     "slide_type": "slide"
    }
   },
   "source": [
    "### Putting realistic insolation into an RCM\n",
    "\n",
    "This code demonstrates how to create a model with both latitude and vertical dimensions."
   ]
  },
  {
   "cell_type": "code",
   "execution_count": null,
   "id": "88d8c07d",
   "metadata": {
    "slideshow": {
     "slide_type": "slide"
    }
   },
   "outputs": [],
   "source": [
    "# A two-dimensional domain\n",
    "state = climlab.column_state(num_lev=30, num_lat=40, water_depth=10.)\n",
    "#  Specified relative humidity distribution\n",
    "h2o = climlab.radiation.ManabeWaterVapor(name='Fixed Relative Humidity', state=state)\n",
    "#  Hard convective adjustment\n",
    "conv = climlab.convection.ConvectiveAdjustment(name='Convective Adjustment', state=state, adj_lapse_rate=6.5)\n",
    "#  Daily insolation as a function of latitude and time of year\n",
    "sun = climlab.radiation.DailyInsolation(name='Insolation', domains=state['Ts'].domain)\n",
    "#  Couple the radiation to insolation and water vapor processes\n",
    "rad = climlab.radiation.RRTMG(name='Radiation',\n",
    "                             state=state, \n",
    "                             specific_humidity=h2o.q, \n",
    "                             albedo=0.125,\n",
    "                             insolation=sun.insolation,\n",
    "                             coszen=sun.coszen)\n",
    "model = climlab.couple([rad,sun,h2o,conv], name='RCM')\n",
    "print( model)"
   ]
  },
  {
   "cell_type": "code",
   "execution_count": null,
   "id": "70be28f8",
   "metadata": {},
   "outputs": [],
   "source": [
    "model.compute_diagnostics()"
   ]
  },
  {
   "cell_type": "code",
   "execution_count": null,
   "id": "1d86b4db",
   "metadata": {
    "slideshow": {
     "slide_type": "-"
    }
   },
   "outputs": [],
   "source": [
    "fig, ax = plt.subplots()\n",
    "ax.plot(model.lat, model.insolation)\n",
    "ax.set_xlabel('Latitude')\n",
    "ax.set_ylabel('Insolation (W/m2)');"
   ]
  },
  {
   "cell_type": "markdown",
   "id": "0f496eb1",
   "metadata": {
    "slideshow": {
     "slide_type": "slide"
    }
   },
   "source": [
    "This new insolation process uses the same code we've already been working with to compute realistic distributions of insolation. Here we are using\n",
    "```\n",
    "climlab.radiation.DailyInsolation\n",
    "```\n",
    "but there is also\n",
    "\n",
    "```\n",
    "climlab.radiation.AnnualMeanInsolation\n",
    "```\n",
    "for models in which you prefer to suppress the seasonal cycle and prescribe a time-invariant insolation."
   ]
  },
  {
   "cell_type": "markdown",
   "id": "136227fe",
   "metadata": {
    "slideshow": {
     "slide_type": "slide"
    }
   },
   "source": [
    "The following code will just integrate the model forward in four steps in order to get snapshots of insolation at the solstices and equinoxes."
   ]
  },
  {
   "cell_type": "code",
   "execution_count": null,
   "id": "8b68618d",
   "metadata": {},
   "outputs": [],
   "source": [
    "#  model is initialized on Jan. 1\n",
    "\n",
    "#  integrate forward just under 1/4 year... should get about to the NH spring equinox\n",
    "model.integrate_days(31+28+22)\n",
    "Q_spring = model.insolation.copy()\n",
    "#  Then forward to NH summer solstice\n",
    "model.integrate_days(31+30+31)\n",
    "Q_summer = model.insolation.copy()\n",
    "#  and on to autumnal equinox\n",
    "model.integrate_days(30+31+33)\n",
    "Q_fall = model.insolation.copy()\n",
    "#  and finally to NH winter solstice\n",
    "model.integrate_days(30+31+30)\n",
    "Q_winter = model.insolation.copy()"
   ]
  },
  {
   "cell_type": "code",
   "execution_count": null,
   "id": "69ead011",
   "metadata": {
    "slideshow": {
     "slide_type": "slide"
    }
   },
   "outputs": [],
   "source": [
    "fig, ax = plt.subplots()\n",
    "ax.plot(model.lat, Q_spring, label='Spring')\n",
    "ax.plot(model.lat, Q_summer, label='Summer')\n",
    "ax.plot(model.lat, Q_fall, label='Fall')\n",
    "ax.plot(model.lat, Q_winter, label='Winter')\n",
    "ax.legend()\n",
    "ax.set_xlabel('Latitude')\n",
    "ax.set_ylabel('Insolation (W/m2)');"
   ]
  },
  {
   "cell_type": "markdown",
   "id": "469b0f6b",
   "metadata": {
    "slideshow": {
     "slide_type": "slide"
    }
   },
   "source": [
    "This just serves to demonstrate that the `DailyInsolation` process is doing something sensible."
   ]
  },
  {
   "cell_type": "markdown",
   "id": "b8a69f8b",
   "metadata": {},
   "source": [
    "Note that we could also pass different orbital parameters to this subprocess. They default to present-day values, which is what we are using here."
   ]
  },
  {
   "cell_type": "markdown",
   "id": "53758c5a",
   "metadata": {
    "slideshow": {
     "slide_type": "slide"
    }
   },
   "source": [
    "### Find the steady seasonal cycle of temperature in radiative-convective equilibrium"
   ]
  },
  {
   "cell_type": "code",
   "execution_count": null,
   "id": "8e6719cc",
   "metadata": {},
   "outputs": [],
   "source": [
    "model.integrate_years(4.)"
   ]
  },
  {
   "cell_type": "code",
   "execution_count": null,
   "id": "74e35303",
   "metadata": {},
   "outputs": [],
   "source": [
    "model.integrate_years(1.)"
   ]
  },
  {
   "cell_type": "markdown",
   "id": "8e94f480",
   "metadata": {
    "slideshow": {
     "slide_type": "slide"
    }
   },
   "source": [
    "All climlab `Process` objects have an attribute called `timeave`. \n",
    "\n",
    "This is a dictionary of time-averaged diagnostics, which are automatically calculated during the most recent call to `integrate_years()` or `integrate_days()`."
   ]
  },
  {
   "cell_type": "code",
   "execution_count": null,
   "id": "0830510a",
   "metadata": {},
   "outputs": [],
   "source": [
    "model.timeave.keys()"
   ]
  },
  {
   "cell_type": "markdown",
   "id": "4d58836c",
   "metadata": {
    "slideshow": {
     "slide_type": "slide"
    }
   },
   "source": [
    "Here we use the `timeave['insolation']` to plot the annual mean insolation. \n",
    "\n",
    "(We know it is the *annual* average because the last call to `model.integrate_years` was for exactly 1 year)"
   ]
  },
  {
   "cell_type": "code",
   "execution_count": null,
   "id": "5749d962",
   "metadata": {},
   "outputs": [],
   "source": [
    "fig, ax = plt.subplots()\n",
    "ax.plot(model.lat, model.timeave['insolation'])\n",
    "ax.set_xlabel('Latitude')\n",
    "ax.set_ylabel('Insolation (W/m2)')"
   ]
  },
  {
   "cell_type": "markdown",
   "id": "aab57516",
   "metadata": {
    "slideshow": {
     "slide_type": "slide"
    }
   },
   "source": [
    "###  Compare annual average temperature in RCE to the zonal-, annual mean observations."
   ]
  },
  {
   "cell_type": "code",
   "execution_count": null,
   "id": "c80b85fe",
   "metadata": {},
   "outputs": [],
   "source": [
    "# Plot annual mean surface temperature in the model,\n",
    "#   compare to observed annual mean surface temperatures\n",
    "fig, ax = plt.subplots()\n",
    "ax.plot(model.lat, model.timeave['Ts'], label='RCE')\n",
    "ax.plot(ncep_temp_zon.lat, ncep_temp_zon.mean(dim='time'), label='obs')\n",
    "ax.set_xticks(range(-90,100,30))\n",
    "ax.grid(); ax.legend();"
   ]
  },
  {
   "cell_type": "markdown",
   "id": "e336d7f6",
   "metadata": {
    "slideshow": {
     "slide_type": "slide"
    }
   },
   "source": [
    "Our modeled RCE state is **far too warm in the tropics**, and **too cold in the mid- to high latitudes.**"
   ]
  },
  {
   "cell_type": "markdown",
   "id": "4d231823",
   "metadata": {
    "slideshow": {
     "slide_type": "slide"
    }
   },
   "source": [
    "###  Vertical structure of temperature: comparing RCE to observations"
   ]
  },
  {
   "cell_type": "code",
   "execution_count": null,
   "id": "e567e96e",
   "metadata": {},
   "outputs": [],
   "source": [
    "#  Observed air temperature from NCEP reanalysis\n",
    "## The NOAA ESRL server is shutdown! January 2019\n",
    "ncep_air = xr.open_dataset( ncep_url + \"pressure/air.mon.1981-2010.ltm.nc\", decode_times=False)\n",
    "#air = xr.open_dataset(url+'pressure/air')\n",
    "#ncep_air = air.rename({'lev':'level'})\n",
    "level_ncep_air = ncep_air.level\n",
    "lat_ncep_air = ncep_air.lat\n",
    "Tzon = ncep_air.air.mean(dim=('time','lon'))"
   ]
  },
  {
   "cell_type": "code",
   "execution_count": null,
   "id": "68bb4b98",
   "metadata": {
    "slideshow": {
     "slide_type": "skip"
    }
   },
   "outputs": [],
   "source": [
    "#  Compare temperature profiles in RCE and observations\n",
    "contours = np.arange(180., 350., 15.)\n",
    "\n",
    "fig = plt.figure(figsize=(14,6))\n",
    "ax1 = fig.add_subplot(1,2,1)\n",
    "cax1 = ax1.contourf(lat_ncep_air, level_ncep_air, Tzon+const.tempCtoK, levels=contours)\n",
    "fig.colorbar(cax1)\n",
    "ax1.set_title('Observered temperature (K)')\n",
    "\n",
    "ax2 = fig.add_subplot(1,2,2)\n",
    "field = model.timeave['Tatm'].transpose()\n",
    "cax2 = ax2.contourf(model.lat, model.lev, field, levels=contours)\n",
    "fig.colorbar(cax2)\n",
    "ax2.set_title('RCE temperature (K)')\n",
    "\n",
    "for ax in [ax1, ax2]:\n",
    "    ax.invert_yaxis()\n",
    "    ax.set_xlim(-90,90)\n",
    "    ax.set_xticks([-90, -60, -30, 0, 30, 60, 90])"
   ]
  },
  {
   "cell_type": "markdown",
   "id": "72110234",
   "metadata": {
    "slideshow": {
     "slide_type": "slide"
    }
   },
   "source": [
    "Again, this plot reveals temperatures that are too warm in the tropics, too cold at the poles throughout the troposphere.\n",
    "\n",
    "Note however that the **vertical temperature gradients** are largely dictated by the convective adjustment in our model. We have parameterized this gradient, and so we can change it by changing our parameter for the adjustment.\n",
    "\n",
    "We have (as yet) no parameterization for the **horizontal** redistribution of energy in the climate system."
   ]
  },
  {
   "cell_type": "markdown",
   "id": "63564d24",
   "metadata": {
    "slideshow": {
     "slide_type": "slide"
    }
   },
   "source": [
    "###  TOA energy budget in RCE equilibrium\n",
    "\n",
    "Because there is no horizontal energy transport in this model, the TOA radiation budget should be closed (net flux is zero) at all latitudes.\n",
    "\n",
    "Let's check this by plotting time-averaged shortwave and longwave radiation:"
   ]
  },
  {
   "cell_type": "code",
   "execution_count": null,
   "id": "4d622b87",
   "metadata": {
    "slideshow": {
     "slide_type": "slide"
    }
   },
   "outputs": [],
   "source": [
    "fig, ax = plt.subplots()\n",
    "ax.plot(model.lat, model.timeave['ASR'], label='ASR')\n",
    "ax.plot(model.lat, model.timeave['OLR'], label='OLR')\n",
    "ax.set_xlabel('Latitude')\n",
    "ax.set_ylabel('W/m2')\n",
    "ax.legend(); ax.grid()"
   ]
  },
  {
   "cell_type": "markdown",
   "id": "a8513395",
   "metadata": {},
   "source": [
    "Indeed, the budget is (very nearly) closed everywhere. Each latitude is in energy balance, independent of every other column."
   ]
  },
  {
   "cell_type": "markdown",
   "id": "f75070fd",
   "metadata": {
    "slideshow": {
     "slide_type": "slide"
    }
   },
   "source": [
    "____________\n",
    "<a id='section3'></a>\n",
    "\n",
    "## 3. Observed and modeled TOA radiation budget\n",
    "____________"
   ]
  },
  {
   "cell_type": "markdown",
   "id": "16cb95b3",
   "metadata": {
    "slideshow": {
     "slide_type": "slide"
    }
   },
   "source": [
    "We are going to look at the (time average) TOA budget as a function of latitude to see how it differs from the RCE state we just plotted.\n",
    "\n",
    "Ideally we would look at actual satellite observations of SW and LW fluxes. Instead, here we will use the NCEP Reanalysis for convenience. \n",
    "\n",
    "But bear in mind that the radiative fluxes in the reanalysis are a model-generated product, they are not really observations."
   ]
  },
  {
   "cell_type": "markdown",
   "id": "a56f53aa",
   "metadata": {
    "slideshow": {
     "slide_type": "slide"
    }
   },
   "source": [
    "### TOA budget from NCEP Reanalysis"
   ]
  },
  {
   "cell_type": "code",
   "execution_count": null,
   "id": "152dee3f",
   "metadata": {},
   "outputs": [],
   "source": [
    "# Get TOA radiative flux data from NCEP reanalysis\n",
    "# downwelling SW\n",
    "dswrf = xr.open_dataset(ncep_url + '/other_gauss/dswrf.ntat.mon.1981-2010.ltm.nc', decode_times=False)\n",
    "#dswrf = xr.open_dataset(url + 'other_gauss/dswrf')\n",
    "#  upwelling SW\n",
    "uswrf = xr.open_dataset(ncep_url + '/other_gauss/uswrf.ntat.mon.1981-2010.ltm.nc', decode_times=False)\n",
    "#uswrf = xr.open_dataset(url + 'other_gauss/uswrf')\n",
    "#  upwelling LW\n",
    "ulwrf = xr.open_dataset(ncep_url + '/other_gauss/ulwrf.ntat.mon.1981-2010.ltm.nc', decode_times=False)\n",
    "#ulwrf = xr.open_dataset(url + 'other_gauss/ulwrf')"
   ]
  },
  {
   "cell_type": "code",
   "execution_count": null,
   "id": "dc9b3828",
   "metadata": {
    "slideshow": {
     "slide_type": "slide"
    }
   },
   "outputs": [],
   "source": [
    "ASR = dswrf.dswrf - uswrf.uswrf\n",
    "OLR = ulwrf.ulwrf"
   ]
  },
  {
   "cell_type": "code",
   "execution_count": null,
   "id": "ca8e04ac",
   "metadata": {},
   "outputs": [],
   "source": [
    "ASRzon = ASR.mean(dim=('time','lon'))\n",
    "OLRzon = OLR.mean(dim=('time','lon'))"
   ]
  },
  {
   "cell_type": "code",
   "execution_count": null,
   "id": "1338d01c",
   "metadata": {
    "slideshow": {
     "slide_type": "slide"
    }
   },
   "outputs": [],
   "source": [
    "ticks = [-90, -60, -30, 0, 30, 60, 90]\n",
    "fig, ax = plt.subplots()\n",
    "ax.plot(ASRzon.lat, ASRzon, label='ASR')\n",
    "ax.plot(OLRzon.lat, OLRzon, label='OLR')\n",
    "ax.set_ylabel('W/m2')\n",
    "ax.set_xlabel('Latitude')\n",
    "ax.set_xlim(-90,90); ax.set_ylim(50,310)\n",
    "ax.set_xticks(ticks);\n",
    "ax.set_title('Observed annual mean radiation at TOA')\n",
    "ax.legend(); ax.grid();"
   ]
  },
  {
   "cell_type": "markdown",
   "id": "e0750521",
   "metadata": {
    "slideshow": {
     "slide_type": "slide"
    }
   },
   "source": [
    "We find that ASR does NOT balance OLR in most locations. \n",
    "\n",
    "Across the tropics the absorbed solar radiation exceeds the longwave emission to space.  The tropics have a **net gain of energy by radiation**.\n",
    "\n",
    "The opposite is true in mid- to high latitudes: **the Earth is losing energy by net radiation to space** at these latitudes."
   ]
  },
  {
   "cell_type": "markdown",
   "id": "39a48bc1",
   "metadata": {
    "slideshow": {
     "slide_type": "slide"
    }
   },
   "source": [
    "### TOA budget from the control CESM simulation\n",
    "\n",
    "Load data from the fully coupled CESM control simulation that we've used before."
   ]
  },
  {
   "cell_type": "code",
   "execution_count": null,
   "id": "2a67b70d",
   "metadata": {},
   "outputs": [],
   "source": [
    "casenames = {'cpl_control': 'cpl_1850_f19',\n",
    "             'cpl_CO2ramp': 'cpl_CO2ramp_f19',\n",
    "             'som_control': 'som_1850_f19',\n",
    "             'som_2xCO2':   'som_1850_2xCO2',\n",
    "            }\n",
    "# The path to the THREDDS server, should work from anywhere\n",
    "basepath = 'http://thredds.atmos.albany.edu:8080/thredds/dodsC/CESMA/'\n",
    "# For better performance if you can access the roselab_rit filesystem (e.g. from JupyterHub)\n",
    "#basepath = '/roselab_rit/cesm_archive/'\n",
    "casepaths = {}\n",
    "for name in casenames:\n",
    "    casepaths[name] = basepath + casenames[name] + '/concatenated/'\n",
    "\n",
    "# make a dictionary of all the CAM atmosphere output\n",
    "atm = {}\n",
    "for name in casenames:\n",
    "    path = casepaths[name] + casenames[name] + '.cam.h0.nc'\n",
    "    print('Attempting to open the dataset ', path)\n",
    "    atm[name] = xr.open_dataset(path)"
   ]
  },
  {
   "cell_type": "code",
   "execution_count": null,
   "id": "f5f35d46",
   "metadata": {},
   "outputs": [],
   "source": [
    "lat_cesm = atm['cpl_control'].lat\n",
    "ASR_cesm = atm['cpl_control'].FSNT\n",
    "OLR_cesm = atm['cpl_control'].FLNT"
   ]
  },
  {
   "cell_type": "code",
   "execution_count": null,
   "id": "9a1ef444",
   "metadata": {},
   "outputs": [],
   "source": [
    "# extract the last 10 years from the slab ocean control simulation\n",
    "# and the last 20 years from the coupled control\n",
    "nyears_slab = 10\n",
    "nyears_cpl = 20\n",
    "clim_slice_slab = slice(-(nyears_slab*12),None)\n",
    "clim_slice_cpl = slice(-(nyears_cpl*12),None)\n",
    "\n",
    "#  For now we're just working with the coupled control simulation\n",
    "#  Take the time and zonal average\n",
    "ASR_cesm_zon = ASR_cesm.isel(time=clim_slice_slab).mean(dim=('lon','time'))\n",
    "OLR_cesm_zon = OLR_cesm.isel(time=clim_slice_slab).mean(dim=('lon','time'))"
   ]
  },
  {
   "cell_type": "markdown",
   "id": "12aab820",
   "metadata": {},
   "source": [
    "Now we can make the same plot of ASR and OLR that we made for the observations above."
   ]
  },
  {
   "cell_type": "code",
   "execution_count": null,
   "id": "39730a38",
   "metadata": {
    "slideshow": {
     "slide_type": "slide"
    }
   },
   "outputs": [],
   "source": [
    "fig, ax = plt.subplots()\n",
    "ax.plot(lat_cesm, ASR_cesm_zon, label='ASR')\n",
    "ax.plot(lat_cesm, OLR_cesm_zon, label='OLR')\n",
    "ax.set_ylabel('W/m2')\n",
    "ax.set_xlabel('Latitude')\n",
    "ax.set_xlim(-90,90); ax.set_ylim(50,310)\n",
    "ax.set_xticks(ticks);\n",
    "ax.set_title('CESM control simulation: Annual mean radiation at TOA')\n",
    "ax.legend(); ax.grid();"
   ]
  },
  {
   "cell_type": "markdown",
   "id": "934ad5e4",
   "metadata": {
    "slideshow": {
     "slide_type": "slide"
    }
   },
   "source": [
    "Essentially the same story as the reanalysis data: there is a **surplus of energy across the tropics** and a net **energy deficit in mid- to high latitudes**.\n",
    "\n",
    "There are two locations where ASR = OLR, near about 35º in both hemispheres."
   ]
  },
  {
   "cell_type": "markdown",
   "id": "73d3897f",
   "metadata": {
    "slideshow": {
     "slide_type": "slide"
    }
   },
   "source": [
    "____________\n",
    "\n",
    "## 4. The energy budget for a zonal band\n",
    "____________"
   ]
  },
  {
   "cell_type": "markdown",
   "id": "87b1f938",
   "metadata": {},
   "source": [
    "### The basic idea\n",
    "\n",
    "Through most of the previous notes we have been thinking about **global averages**.\n",
    "\n",
    "We've been working with an energy budget that looks something like this:\n",
    "\n",
    "![column sketch]('../column_sketch.pdf')"
   ]
  },
  {
   "cell_type": "markdown",
   "id": "5db1e314",
   "metadata": {},
   "source": [
    "When we start thinking about regional climates, we need to modify our budget to account for the **additional heating or cooling** due to **transport** in and out of the column:\n",
    "\n",
    "![column sketch 2]('../column_sketch2.pdf')"
   ]
  },
  {
   "cell_type": "markdown",
   "id": "9052a63f",
   "metadata": {},
   "source": [
    "Conceptually, the additional energy source is the difference between what's coming in and what's going out:\n",
    "\n",
    "$$ h = \\mathcal{H}_{in}  - \\mathcal{H}_{out} $$\n",
    "\n",
    "where $h$ is a **dynamic heating rate** in W m$^{-2}$."
   ]
  },
  {
   "cell_type": "markdown",
   "id": "539c8ed2",
   "metadata": {},
   "source": [
    "### A more careful budget\n",
    "\n",
    "Let’s now consider a thin band of the climate system, of width $\\delta \\phi$ , and write down a careful energy budget for it."
   ]
  },
  {
   "cell_type": "markdown",
   "id": "73efbd9b",
   "metadata": {},
   "source": [
    "<img src='../../images/ZonalEnergyBudget_sketch.png' width=400>"
   ]
  },
  {
   "cell_type": "markdown",
   "id": "ef1b9fab",
   "metadata": {
    "slideshow": {
     "slide_type": "slide"
    }
   },
   "source": [
    "Let $\\mathcal{H}(\\phi)$ be the total rate of northward energy transport across the latitude line $\\phi$, measured in Watts (usually PW).\n",
    "\n",
    "Let $T(\\phi,t)$ be the zonal average surface temperature (\"zonal average\" = average around latitude circle)."
   ]
  },
  {
   "cell_type": "markdown",
   "id": "e967dd30",
   "metadata": {
    "slideshow": {
     "slide_type": "slide"
    }
   },
   "source": [
    "We can write the energy budget as\n",
    "\n",
    "$$ \\frac{\\partial E}{\\partial t} = \\text{energy in} - \\text{energy out} $$\n",
    "\n",
    "where $E$ is the total energy content of the column, which is useful to write as\n",
    "\n",
    "$$ E = \\int_{bottom}^{top} \\rho ~ e ~ dz $$\n",
    "\n",
    "and $e$ is the local **enthalpy** of the fluid, in units of J kg$^{-1}$. The integral energy content $E$ thus has units of J m$^{-2}$."
   ]
  },
  {
   "cell_type": "markdown",
   "id": "403d9b40",
   "metadata": {
    "slideshow": {
     "slide_type": "slide"
    }
   },
   "source": [
    "We have written the time tendency as a partial derivative now because $E$ varies in both space and time."
   ]
  },
  {
   "cell_type": "markdown",
   "id": "e8acf9b6",
   "metadata": {
    "slideshow": {
     "slide_type": "slide"
    }
   },
   "source": [
    "Now there are two energy sources and two energy sinks to think about:\n",
    "Radiation and dynamics (horizontal transport)\n",
    "\n",
    "$$ \\frac{\\partial E}{\\partial t} = R_{TOA} - (\\text{transport out} - \\text{transport in})~/ ~\\text{area of band} $$\n",
    "\n",
    "where we define the net incoming radiation at the top of atmosphere as\n",
    "\n",
    "$$ R_{TOA} = \\text{ASR} - \\text{OLR} = (1-\\alpha) Q - \\text{OLR} $$"
   ]
  },
  {
   "cell_type": "markdown",
   "id": "750a4dce",
   "metadata": {
    "slideshow": {
     "slide_type": "slide"
    }
   },
   "source": [
    "The surface area of the latitude band is\n",
    "\n",
    "$$ A = \\text{Circumference} ~\\times ~ \\text{north-south width} $$\n",
    "\n",
    "$$ A = 2 \\pi a \\cos \\phi  ~ \\times ~  a \\delta \\phi  $$\n",
    "\n",
    "$$ A = 2 \\pi a^2  \\cos⁡\\phi ~ \\delta\\phi $$"
   ]
  },
  {
   "cell_type": "markdown",
   "id": "ce460077",
   "metadata": {
    "slideshow": {
     "slide_type": "slide"
    }
   },
   "source": [
    "We will denote the energy transport in and out of the band respectively as $\\mathcal{H}(\\phi), \\mathcal{H}(\\phi + \\delta\\phi)$\n",
    "\n",
    "Then the budget can be written\n",
    "\n",
    "$$ \\frac{\\partial E}{\\partial t} = \\text{ASR} - \\text{OLR} - \\frac{1}{2 \\pi a^2  \\cos⁡\\phi ~ \\delta\\phi} \\Big( \\mathcal{H}(\\phi + \\delta\\phi) - \\mathcal{H}(\\phi) \\Big) $$"
   ]
  },
  {
   "cell_type": "markdown",
   "id": "0075a0de",
   "metadata": {
    "slideshow": {
     "slide_type": "slide"
    }
   },
   "source": [
    "For thin bands where $\\delta\\phi$ is very small, we can write\n",
    "\n",
    "$$ \\frac{1}{\\delta\\phi} \\Big( \\mathcal{H}(\\phi + \\delta\\phi) - \\mathcal{H}(\\phi) \\Big) = \\frac{\\partial \\mathcal{H}}{\\partial \\phi} $$"
   ]
  },
  {
   "cell_type": "markdown",
   "id": "e2c02a8b",
   "metadata": {
    "slideshow": {
     "slide_type": "fragment"
    }
   },
   "source": [
    "So the local budget at any latitude $\\phi$ is\n",
    "\n",
    "$$ \\frac{\\partial E}{\\partial t} = \\text{ASR} - \\text{OLR} - \\frac{1}{2 \\pi a^2  \\cos⁡\\phi } \\frac{\\partial \\mathcal{H}}{\\partial \\phi} $$"
   ]
  },
  {
   "cell_type": "markdown",
   "id": "89231cca",
   "metadata": {
    "slideshow": {
     "slide_type": "slide"
    }
   },
   "source": [
    "The **dynamical heating rate** in W m$^{-2}$ is thus\n",
    "\n",
    "$$ h = - \\frac{1}{2 \\pi a^2  \\cos⁡\\phi } \\frac{\\partial \\mathcal{H}}{\\partial \\phi} $$\n",
    "\n",
    "which is the **convergence of energy transport** into this latitude band: the difference between what's coming in and what's going out."
   ]
  },
  {
   "cell_type": "markdown",
   "id": "1812905d",
   "metadata": {
    "slideshow": {
     "slide_type": "slide"
    }
   },
   "source": [
    "### Calculating heat transport from the steady-state energy budget\n",
    "\n",
    "Notice that if the above budget is in **equilibrium** then $\\partial E/ \\partial t = 0$ and the budget says that **divergence of heat transport balances the net radiative heating** at every latitude.\n",
    "\n",
    "If we can **assume that the budget is balanced**, i.e. assume that the system is at equilibrium and there is negligible heat storage, then we can use the budget to infer $\\mathcal{H}$ from a measured (or modeled) TOA radiation imbalance."
   ]
  },
  {
   "cell_type": "markdown",
   "id": "d3a7cfd0",
   "metadata": {
    "slideshow": {
     "slide_type": "slide"
    }
   },
   "source": [
    "Setting $\\partial E/ \\partial t = 0$ and rearranging:\n",
    "\n",
    "$$ \\frac{\\partial \\mathcal{H}}{\\partial \\phi}  = 2 \\pi ~a^2  \\cos⁡\\phi ~ R_{TOA} $$"
   ]
  },
  {
   "cell_type": "markdown",
   "id": "eac76213",
   "metadata": {},
   "source": [
    "Now integrate from the South Pole ($\\phi = -\\pi/2$):\n",
    "\n",
    "$$ \\int_{-\\pi/2}^{\\phi} \\frac{\\partial \\mathcal{H}}{\\partial \\phi^\\prime}  d\\phi^\\prime = 2 \\pi ~a^2 \\int_{-\\pi/2}^{\\phi} \\cos⁡\\phi^\\prime ~ R_{TOA} d\\phi^\\prime  $$\n",
    "\n",
    "$$ \\mathcal{H}(\\phi) - \\mathcal{H}(-\\pi/2) = 2 \\pi ~a^2 \\int_{-\\pi/2}^{\\phi} \\cos⁡\\phi^\\prime ~ R_{TOA} d\\phi^\\prime  $$"
   ]
  },
  {
   "cell_type": "markdown",
   "id": "3cc45c6f",
   "metadata": {
    "slideshow": {
     "slide_type": "slide"
    }
   },
   "source": [
    "Our boundary condition is that the transport must go to zero at the pole. We therefore have a formula for calculating the heat transport at any latitude, by integrating the imbalance from the South Pole:\n",
    "\n",
    "$$ \\mathcal{H}(\\phi) = 2 \\pi ~a^2 \\int_{-\\pi/2}^{\\phi} \\cos⁡\\phi^\\prime ~ R_{TOA} d\\phi^\\prime  $$"
   ]
  },
  {
   "cell_type": "markdown",
   "id": "60b4dcbd",
   "metadata": {
    "slideshow": {
     "slide_type": "slide"
    }
   },
   "source": [
    "What about the boundary condition at the other pole? We must have $\\mathcal{H}(\\pi/2) = 0$ as well, because a non-zero transport at the pole is not physically meaningful.\n",
    "\n",
    "Notice that if we apply the above formula and integrate all the way to the other pole, we then have\n",
    "\n",
    "$$ \\mathcal{H}(\\pi/2) = 2 \\pi ~a^2 \\int_{-\\pi/2}^{\\pi/2} \\cos⁡\\phi^\\prime ~ R_{TOA} d\\phi^\\prime  $$"
   ]
  },
  {
   "cell_type": "markdown",
   "id": "a806c955",
   "metadata": {
    "slideshow": {
     "slide_type": "slide"
    }
   },
   "source": [
    "This is an integral of the radiation imbalance weighted by cosine of latitude. In other words, this is **proportional to the area-weighted global average energy imbalance**.\n",
    "\n",
    "We started by assuming that this imbalance is zero.\n",
    "\n",
    "If the **global budget is balanced**, then the physical boundary condition of no-flux at the poles is satisfied."
   ]
  },
  {
   "cell_type": "markdown",
   "id": "6da28aae",
   "metadata": {
    "slideshow": {
     "slide_type": "slide"
    }
   },
   "source": [
    "____________\n",
    "<a id='section5'></a>\n",
    "\n",
    "## 5. Observed and modeled poleward heat transport\n",
    "____________"
   ]
  },
  {
   "cell_type": "markdown",
   "id": "7d58d385",
   "metadata": {
    "slideshow": {
     "slide_type": "-"
    }
   },
   "source": [
    "Here we will code up a function that performs the above integration."
   ]
  },
  {
   "cell_type": "code",
   "execution_count": null,
   "id": "f43b007d",
   "metadata": {
    "slideshow": {
     "slide_type": "slide"
    }
   },
   "outputs": [],
   "source": [
    "def inferred_heat_transport(energy_in, lat=None, latax=None):\n",
    "    '''Compute heat transport as integral of local energy imbalance.\n",
    "    Required input:\n",
    "        energy_in: energy imbalance in W/m2, positive in to domain\n",
    "    As either numpy array or xarray.DataArray\n",
    "    If using plain numpy, need to supply these arguments:\n",
    "        lat: latitude in degrees\n",
    "        latax: axis number corresponding to latitude in the data\n",
    "            (axis over which to integrate)\n",
    "    returns the heat transport in PW.\n",
    "    Will attempt to return data in xarray.DataArray if possible.\n",
    "    '''\n",
    "    from scipy import integrate\n",
    "    from climlab import constants as const\n",
    "    if lat is None:\n",
    "        try: lat = energy_in.lat\n",
    "        except:\n",
    "            raise InputError('Need to supply latitude array if input data is not self-describing.')\n",
    "    lat_rad = np.deg2rad(lat)\n",
    "    coslat = np.cos(lat_rad)\n",
    "    field = coslat*energy_in\n",
    "    if latax is None:\n",
    "        try: latax = field.get_axis_num('lat')\n",
    "        except:\n",
    "            raise ValueError('Need to supply axis number for integral over latitude.')\n",
    "    #  result as plain numpy array\n",
    "    integral = integrate.cumtrapz(field, x=lat_rad, initial=0., axis=latax)\n",
    "    result = (1E-15 * 2 * np.math.pi * const.a**2 * integral)\n",
    "    if isinstance(field, xr.DataArray):\n",
    "        result_xarray = field.copy()\n",
    "        result_xarray.values = result\n",
    "        return result_xarray\n",
    "    else:\n",
    "        return result"
   ]
  },
  {
   "cell_type": "markdown",
   "id": "32ae6fa4",
   "metadata": {
    "slideshow": {
     "slide_type": "slide"
    }
   },
   "source": [
    "Let's now use this to calculate the total northward heat transport from our control simulation with the CESM:"
   ]
  },
  {
   "cell_type": "code",
   "execution_count": null,
   "id": "9b0d8f2e",
   "metadata": {
    "slideshow": {
     "slide_type": "slide"
    }
   },
   "outputs": [],
   "source": [
    "fig, ax = plt.subplots()\n",
    "ax.plot(lat_cesm, inferred_heat_transport(ASR_cesm_zon - OLR_cesm_zon))\n",
    "ax.set_ylabel('PW')\n",
    "ax.set_xticks(ticks)\n",
    "ax.grid()\n",
    "ax.set_title('Total northward heat transport inferred from CESM control simulation')"
   ]
  },
  {
   "cell_type": "markdown",
   "id": "df7ab7c4",
   "metadata": {
    "slideshow": {
     "slide_type": "slide"
    }
   },
   "source": [
    "The total heat transport is very nearly symmetric about the equator, with poleward transport of about 5 to 6 PW in both hemispheres.\n",
    "\n",
    "The transport peaks in magnitude near 35º latitude, the same latitude where we found that ASR = OLR. This is no coincidence!\n",
    "\n",
    "Equatorward of 35º (across the tropics) there is **net heating by radiation** and **net cooling by dynamics**. The opposite is true poleward of 35º."
   ]
  },
  {
   "cell_type": "markdown",
   "id": "c94b2587",
   "metadata": {
    "slideshow": {
     "slide_type": "slide"
    }
   },
   "source": [
    "What about the \"observations\", i.e. the reanalysis data?\n",
    "\n",
    "We can try to do the same calculation."
   ]
  },
  {
   "cell_type": "code",
   "execution_count": null,
   "id": "8ac1851d",
   "metadata": {
    "slideshow": {
     "slide_type": "slide"
    }
   },
   "outputs": [],
   "source": [
    "#  Need to flip the arrays because we want to start from the south pole\n",
    "Rtoa_ncep = ASRzon-OLRzon\n",
    "lat_ncep = ASRzon.lat\n",
    "fig, ax = plt.subplots()\n",
    "ax.plot(lat_ncep, inferred_heat_transport(Rtoa_ncep))\n",
    "ax.set_ylabel('PW')\n",
    "ax.set_xticks(ticks)\n",
    "ax.grid()\n",
    "ax.set_title('Total northward heat transport inferred from NCEP reanalysis')"
   ]
  },
  {
   "cell_type": "markdown",
   "id": "24db8642",
   "metadata": {
    "slideshow": {
     "slide_type": "slide"
    }
   },
   "source": [
    "Our integral **does NOT go to zero at the North Pole!**. This means that the global energy budget is NOT balanced in the reanalysis data.\n",
    "\n",
    "Let's look at the global imbalance:"
   ]
  },
  {
   "cell_type": "code",
   "execution_count": null,
   "id": "50df581b",
   "metadata": {
    "slideshow": {
     "slide_type": "fragment"
    }
   },
   "outputs": [],
   "source": [
    "#  global average of TOA radiation in reanalysis data\n",
    "weight_ncep = np.cos(np.deg2rad(lat_ncep)) / np.cos(np.deg2rad(lat_ncep)).mean(dim='lat')\n",
    "imbal_ncep = (Rtoa_ncep * weight_ncep).mean(dim='lat')\n",
    "print( 'The net downward TOA radiation flux in NCEP renalysis data is %0.1f W/m2.' %imbal_ncep)"
   ]
  },
  {
   "cell_type": "markdown",
   "id": "e502c0d5",
   "metadata": {
    "slideshow": {
     "slide_type": "slide"
    }
   },
   "source": [
    "Evidently there is a substantial net flux out to space in this dataset.\n",
    "\n",
    "Before we can compute heat transport from this data, we need to **balance the global data**.\n",
    "\n",
    "To do this requires making assumptions about the spatial distribution of the imbalance. \n",
    "\n",
    "The simplest assumption we can make is that the imbalance is uniform across the Earth."
   ]
  },
  {
   "cell_type": "code",
   "execution_count": null,
   "id": "0c9e5b32",
   "metadata": {
    "slideshow": {
     "slide_type": "slide"
    }
   },
   "outputs": [],
   "source": [
    "Rtoa_ncep_balanced = Rtoa_ncep - imbal_ncep\n",
    "newimbalance = float((Rtoa_ncep_balanced * weight_ncep).mean(dim='lat'))\n",
    "print( 'The net downward TOA radiation flux after balancing the data is %0.2e W/m2.' %newimbalance)"
   ]
  },
  {
   "cell_type": "code",
   "execution_count": null,
   "id": "8aeb39af",
   "metadata": {
    "slideshow": {
     "slide_type": "slide"
    }
   },
   "outputs": [],
   "source": [
    "fig, ax = plt.subplots()\n",
    "ax.plot(lat_ncep, inferred_heat_transport(Rtoa_ncep_balanced))\n",
    "ax.set_ylabel('PW')\n",
    "ax.set_xticks(ticks)\n",
    "ax.grid()\n",
    "ax.set_title('Total northward heat transport inferred from NCEP reanalysis (after global balancing)')"
   ]
  },
  {
   "cell_type": "markdown",
   "id": "ea65e42d",
   "metadata": {
    "slideshow": {
     "slide_type": "slide"
    }
   },
   "source": [
    "We now get a physically sensible result (zero at both poles).\n",
    "\n",
    "The heat transport is poleward everywhere, and very nearly anti-symmetric across the equator. The shape is very similar to what we found from the CESM simulation, with peaks near 35º."
   ]
  },
  {
   "cell_type": "markdown",
   "id": "8787f6b8",
   "metadata": {
    "slideshow": {
     "slide_type": "slide"
    }
   },
   "source": [
    "However the magnitude of the peaks is substantially smaller. **Does this indicate a shortcoming of the CESM simulation?**\n",
    "\n",
    "**Probably not!**\n",
    "\n",
    "It turns out that our result here is **very sensitive to the details** of how we balance the radiation data.\n",
    "\n",
    "As an exercise, you might try applying different corrections other than the globally uniform correction we used above. E.g. try weighting the tropics or the mid-latitudes more strongly."
   ]
  },
  {
   "cell_type": "markdown",
   "id": "5d85087c",
   "metadata": {
    "slideshow": {
     "slide_type": "slide"
    }
   },
   "source": [
    "### An example of a recently published observational estimate of meridional heat transport"
   ]
  },
  {
   "cell_type": "markdown",
   "id": "f315be70",
   "metadata": {},
   "source": [
    "<img src='../../images/Fasullo_Trenberth_2008b_Fig7.jpg'>"
   ]
  },
  {
   "cell_type": "markdown",
   "id": "f8317d8f",
   "metadata": {
    "slideshow": {
     "slide_type": "-"
    }
   },
   "source": [
    "> The ERBE period zonal mean annual cycle of the meridional energy transport in PW by (a) the atmosphere and ocean as inferred from ERBE $R_T$, NRA $\\delta$A_E/$\\delta$t, and GODAS $\\delta$O_E/$\\delta$t; (b) the atmosphere based on NRA; and (c) by the ocean as implied by ERBE + NRA $F_S$ and GODAS $\\delta$O_E/$\\delta$t. Stippling and hatching in (a)–(c) represent regions and times of year in which the standard deviation of the monthly mean values among estimates, some of which include the CERES period (see text), exceeds 0.5 and 1.0 PW, respectively. (d) The median annual mean transport by latitude for the total (gray), atmosphere (red), and ocean (blue) accompanied with the associated $\\pm2\\sigma$ range (shaded).\n",
    "\n",
    "This is a reproduction of Figure 7 from Fasullo and Trenberth (2008), \"The Annual Cycle of the Energy Budget. Part II: Meridional Structures and Poleward Transports\", J. Climate 21, doi:10.1175/2007JCLI1936.1"
   ]
  },
  {
   "cell_type": "markdown",
   "id": "22cd6370",
   "metadata": {
    "slideshow": {
     "slide_type": "slide"
    }
   },
   "source": [
    "This figure shows the breakdown of the heat transport by **season** as well as the **partition between the atmosphere and ocean**.\n",
    "\n",
    "Focussing just on the total, annual transport in panel (d) (black curve), we see that is quite consistent with what we computed from the CESM simulation."
   ]
  },
  {
   "cell_type": "markdown",
   "id": "979d52e4",
   "metadata": {
    "slideshow": {
     "slide_type": "slide"
    }
   },
   "source": [
    "____________\n",
    "<a id='section6'></a>\n",
    "\n",
    "## 6. Energy budgets for the atmosphere and ocean\n",
    "____________"
   ]
  },
  {
   "cell_type": "markdown",
   "id": "93901dd3",
   "metadata": {
    "slideshow": {
     "slide_type": "slide"
    }
   },
   "source": [
    "The total transport (which we have been inferring from the TOA radiation imbalance) includes contributions from both the **atmosphere** and the **ocean**:\n",
    "\n",
    "$$ \\mathcal{H} = \\mathcal{H}_{a} + \\mathcal{H}_{o} $$"
   ]
  },
  {
   "cell_type": "markdown",
   "id": "b9cf555e",
   "metadata": {
    "slideshow": {
     "slide_type": "slide"
    }
   },
   "source": [
    "We have used the **TOA imbalance** to infer the total transport because TOA radiation is the only significant energy source / sink to the climate system as a whole.\n",
    "\n",
    "However, if we want to study (or model) the individual contributions from the atmosphere and ocean, we need to consider the energy budgets for **each individual domain**.\n",
    "\n",
    "We will therefore need to broaden our discussion to include the **net surface heat flux**, i.e. the total flux of energy between the surface and the atmosphere."
   ]
  },
  {
   "cell_type": "markdown",
   "id": "a9dd43a1",
   "metadata": {
    "slideshow": {
     "slide_type": "slide"
    }
   },
   "source": [
    "### Surface fluxes\n",
    "\n",
    "Let's denote the **net upward energy flux at the surface** as $F_S$."
   ]
  },
  {
   "cell_type": "markdown",
   "id": "bde16b1e",
   "metadata": {
    "slideshow": {
     "slide_type": "slide"
    }
   },
   "source": [
    "There are four principal contributions to $F_S$:\n",
    "\n",
    "1. Shortwave radiation\n",
    "2. Longwave radiation\n",
    "3. Sensible heat flux\n",
    "4. Evaporation or latent heat flux\n",
    "\n",
    "Sensible and latent heat fluxes involve turbulent exchanges in the planetary boundary layer. We will look at these in more detail later."
   ]
  },
  {
   "cell_type": "code",
   "execution_count": null,
   "id": "adf382a5",
   "metadata": {
    "slideshow": {
     "slide_type": "slide"
    }
   },
   "outputs": [],
   "source": [
    "# monthly climatologies for surface flux data from reanalysis\n",
    "#  all defined as positive UP\n",
    "ncep_nswrs = xr.open_dataset(ncep_url + \"surface_gauss/nswrs.sfc.mon.1981-2010.ltm.nc\", decode_times=False)\n",
    "ncep_nlwrs = xr.open_dataset(ncep_url + \"surface_gauss/nlwrs.sfc.mon.1981-2010.ltm.nc\", decode_times=False)\n",
    "ncep_shtfl = xr.open_dataset(ncep_url + \"surface_gauss/shtfl.sfc.mon.1981-2010.ltm.nc\", decode_times=False)\n",
    "ncep_lhtfl = xr.open_dataset(ncep_url + \"surface_gauss/lhtfl.sfc.mon.1981-2010.ltm.nc\", decode_times=False)\n",
    "#ncep_nswrs = xr.open_dataset(url + 'surface_gauss/nswrs')\n",
    "#ncep_nlwrs = xr.open_dataset(url + 'surface_gauss/nlwrs')\n",
    "#ncep_shtfl = xr.open_dataset(url + 'surface_gauss/shtfl')\n",
    "#ncep_lhtfl = xr.open_dataset(url + 'surface_gauss/lhtfl')"
   ]
  },
  {
   "cell_type": "code",
   "execution_count": null,
   "id": "8596e1c3",
   "metadata": {
    "slideshow": {
     "slide_type": "slide"
    }
   },
   "outputs": [],
   "source": [
    "#  Calculate ANNUAL AVERAGE net upward surface flux\n",
    "ncep_net_surface_up = (ncep_nlwrs.nlwrs\n",
    "                     + ncep_nswrs.nswrs\n",
    "                     + ncep_shtfl.shtfl\n",
    "                     + ncep_lhtfl.lhtfl\n",
    "                      ).mean(dim='time')"
   ]
  },
  {
   "cell_type": "code",
   "execution_count": null,
   "id": "811e283b",
   "metadata": {
    "slideshow": {
     "slide_type": "slide"
    }
   },
   "outputs": [],
   "source": [
    "lon_ncep = ncep_net_surface_up.lon\n",
    "fig, ax = plt.subplots()\n",
    "cax = ax.pcolormesh(lon_ncep, lat_ncep, ncep_net_surface_up, \n",
    "               cmap=plt.cm.seismic, vmin=-200., vmax=200. )\n",
    "fig.colorbar(cax, ax=ax)\n",
    "ax.set_title('Net upward surface energy flux in NCEP Reanalysis data')"
   ]
  },
  {
   "cell_type": "markdown",
   "id": "e5d8abbe",
   "metadata": {},
   "source": [
    "Discuss...  Large net fluxes over ocean, not over land."
   ]
  },
  {
   "cell_type": "markdown",
   "id": "7452a3de",
   "metadata": {
    "slideshow": {
     "slide_type": "slide"
    }
   },
   "source": [
    "### Energy budget for the ocean\n",
    "\n",
    "Using exactly the same reasoning we used for the whole climate system, we can write a budget for the OCEAN ONLY:\n",
    "\n",
    "$$ \\frac{\\partial E_o}{\\partial t} = -F_S - \\frac{1}{2 \\pi a^2  \\cos⁡\\phi } \\frac{\\partial \\mathcal{H_o}}{\\partial \\phi} $$"
   ]
  },
  {
   "cell_type": "markdown",
   "id": "e449097a",
   "metadata": {},
   "source": [
    "In principle it is possible to calculate $\\mathcal{H}_o$ from this budget, analagously to how we calculated the total $\\mathcal{H}$."
   ]
  },
  {
   "cell_type": "markdown",
   "id": "c7692249",
   "metadata": {
    "slideshow": {
     "slide_type": "slide"
    }
   },
   "source": [
    "Assuming that\n",
    "\n",
    "- surface fluxes are well-known\n",
    "- the ocean heat storage is negligible (a big assumption!)\n",
    "\n",
    "we can write\n",
    "\n",
    "$$ \\mathcal{H}_o(\\phi) = 2 \\pi ~a^2 \\int_{-\\pi/2}^{\\phi} - \\cos⁡\\phi^\\prime ~ F_S d\\phi^\\prime  $$\n",
    "\n",
    "where the minus sign account for the fact that we defined $F_S$ as **positive up** (out of the ocean)."
   ]
  },
  {
   "cell_type": "markdown",
   "id": "1c83cc0d",
   "metadata": {
    "slideshow": {
     "slide_type": "slide"
    }
   },
   "source": [
    "### Energy budget for the atmosphere\n",
    "\n",
    "The net energy source to the atmosphere is the sum of the TOA flux and the surface flux. Thus we can write\n",
    "\n",
    "$$ \\frac{\\partial E_a}{\\partial t} = R_{TOA} + F_S - \\frac{1}{2 \\pi a^2  \\cos⁡\\phi } \\frac{\\partial \\mathcal{H_a}}{\\partial \\phi} $$"
   ]
  },
  {
   "cell_type": "markdown",
   "id": "0c8fc903",
   "metadata": {
    "slideshow": {
     "slide_type": "slide"
    }
   },
   "source": [
    "and we can similarly integrate to get the transport:\n",
    "\n",
    "$$ \\mathcal{H}_a(\\phi) = 2 \\pi ~a^2 \\int_{-\\pi/2}^{\\phi} \\cos⁡\\phi^\\prime ~ \\big( R_{TOA} + F_S \\big) d\\phi^\\prime  $$\n",
    "\n",
    "Note that these formulas ensure that $\\mathcal{H} = \\mathcal{H}_a + \\mathcal{H}_o$."
   ]
  },
  {
   "cell_type": "markdown",
   "id": "3c0276af",
   "metadata": {
    "slideshow": {
     "slide_type": "slide"
    }
   },
   "source": [
    "### Atmospheric water budget and latent heat transport\n",
    "\n",
    "Water vapor contributes to the atmopsheric energy transport because **energy consumed through evaporation** is converted back to **sensible heat** wherever the vapor subsequently condenses. \n",
    "\n",
    "If the evaporation and the condensation occur at different latitudes then there is a net transport of energy due to the **movement of water vapor**."
   ]
  },
  {
   "cell_type": "markdown",
   "id": "6e21d454",
   "metadata": {
    "slideshow": {
     "slide_type": "slide"
    }
   },
   "source": [
    "We can use the same kind of budget reasoning to compute this **latent heat transport**. But this time we will make a budget for water vapor only."
   ]
  },
  {
   "cell_type": "markdown",
   "id": "a506a4c5",
   "metadata": {
    "slideshow": {
     "slide_type": "slide"
    }
   },
   "source": [
    "The only sources and sinks of water vapor to the atmosphere are surface evaporation and precipitation:\n",
    "\n",
    "$$ L_v \\frac{\\partial Q}{\\partial t} = L_v \\big( Evap - Precip \\big) - \\frac{1}{2 \\pi a^2  \\cos⁡\\phi } \\frac{\\partial \\mathcal{H}_{LH}}{\\partial \\phi} $$"
   ]
  },
  {
   "cell_type": "markdown",
   "id": "adae5aa2",
   "metadata": {
    "slideshow": {
     "slide_type": "slide"
    }
   },
   "source": [
    "Here we are using\n",
    "\n",
    "- $Q$ is the depth-integrated water vapor (the \"precipitable water\") in kg m$^{-2}$\n",
    "- Evap and Precip are in kg m$^{-2}$ s$^{-1}$ (equivalent to mm/s)\n",
    "- $L_v = 2.5 \\times 10^6$ J kg$^{-1}$ is the latent heat of vaporization\n",
    "- $\\mathcal{H}_{LH}$ is the northward latent heat transport\n",
    "\n",
    "All terms in the above equation thus have units of W m$^{-2}$."
   ]
  },
  {
   "cell_type": "markdown",
   "id": "e7404014",
   "metadata": {
    "slideshow": {
     "slide_type": "slide"
    }
   },
   "source": [
    "Using the now-familiar equilibrium reasoning, we can use this water balance to compute the latent heat transport from the net surface evaporation minus precipitation:\n",
    "\n",
    "$$ \\mathcal{H}_{LH}(\\phi) = 2 \\pi ~a^2 \\int_{-\\pi/2}^{\\phi} \\cos⁡\\phi^\\prime ~ L_v ~\\big( Evap - Precip \\big) d\\phi^\\prime  $$"
   ]
  },
  {
   "cell_type": "markdown",
   "id": "6878c08f",
   "metadata": {
    "slideshow": {
     "slide_type": "slide"
    }
   },
   "source": [
    "From this we can then infer all the energy transport associated with the motion of dry air as a residual:\n",
    "\n",
    "$$\\mathcal{H}_{Dry} = \\mathcal{H}_a - \\mathcal{H}_{LH} $$"
   ]
  },
  {
   "cell_type": "markdown",
   "id": "20eb1d1a",
   "metadata": {
    "slideshow": {
     "slide_type": "slide"
    }
   },
   "source": [
    "____________\n",
    "<a id='section7'></a>\n",
    "\n",
    "## 7. Calculating the partitioning of poleward energy transport into different components\n",
    "____________"
   ]
  },
  {
   "cell_type": "markdown",
   "id": "7b386d10",
   "metadata": {
    "slideshow": {
     "slide_type": "slide"
    }
   },
   "source": [
    "This function implements the above formulas to calculate the following quantities from CESM simulation output:\n",
    "\n",
    "- Total heat transport, $\\mathcal{H}$\n",
    "- Ocean heat transport, $\\mathcal{H}_o$\n",
    "- Atmospheric heat transport, $\\mathcal{H}_a$\n",
    "- Atmospheric latent heat transport, $\\mathcal{H}_{LH}$\n",
    "- Atmospheric dry heat transport, $\\mathcal{H}_{Dry}$"
   ]
  },
  {
   "cell_type": "code",
   "execution_count": null,
   "id": "65fcc7bf",
   "metadata": {
    "slideshow": {
     "slide_type": "slide"
    }
   },
   "outputs": [],
   "source": [
    "def CESM_heat_transport(run, timeslice=clim_slice_cpl):\n",
    "    #  Take zonal and time averages of the necessary input fields\n",
    "    fieldlist = ['FLNT','FSNT','LHFLX','SHFLX','FLNS','FSNS','PRECSC','PRECSL','QFLX','PRECC','PRECL']\n",
    "    zon = run[fieldlist].isel(time=timeslice).mean(dim=('lon','time'))\n",
    "    OLR = zon.FLNT\n",
    "    ASR = zon.FSNT\n",
    "    Rtoa = ASR - OLR  # net downwelling radiation\n",
    "    #  surface energy budget terms, all defined as POSITIVE UP\n",
    "    #    (from ocean to atmosphere)\n",
    "    LHF = zon.LHFLX\n",
    "    SHF = zon.SHFLX\n",
    "    LWsfc = zon.FLNS\n",
    "    SWsfc = -zon.FSNS\n",
    "    SnowFlux =  ((zon.PRECSC + zon.PRECSL) *\n",
    "                      const.rho_w * const.Lhfus)\n",
    "    # net upward radiation from surface\n",
    "    SurfaceRadiation = LWsfc + SWsfc\n",
    "    # net upward surface heat flux\n",
    "    SurfaceHeatFlux = SurfaceRadiation + LHF + SHF + SnowFlux\n",
    "    # net heat flux into atmosphere\n",
    "    Fatmin = Rtoa + SurfaceHeatFlux\n",
    "    #  hydrological cycle, all terms in  kg/m2/s or mm/s\n",
    "    Evap = zon.QFLX\n",
    "    Precip = (zon.PRECC + zon.PRECL) * const.rho_w\n",
    "    EminusP = Evap - Precip\n",
    "        \n",
    "    # heat transport terms\n",
    "    HT = {}\n",
    "    HT['total'] = inferred_heat_transport(Rtoa)\n",
    "    HT['atm'] = inferred_heat_transport(Fatmin)\n",
    "    HT['ocean'] = inferred_heat_transport(-SurfaceHeatFlux)\n",
    "    HT['latent'] = inferred_heat_transport(EminusP*const.Lhvap) # atm. latent heat transport from moisture imbal.\n",
    "    HT['dse'] = HT['atm'] - HT['latent']  # dry static energy transport as residual\n",
    "\n",
    "    return HT"
   ]
  },
  {
   "cell_type": "code",
   "execution_count": null,
   "id": "f407ee3c",
   "metadata": {
    "slideshow": {
     "slide_type": "slide"
    }
   },
   "outputs": [],
   "source": [
    "#  Compute heat transport partition for both control and 2xCO2 simulations\n",
    "HT_control = CESM_heat_transport(atm['cpl_control'])\n",
    "HT_2xCO2 = CESM_heat_transport(atm['cpl_CO2ramp'])"
   ]
  },
  {
   "cell_type": "code",
   "execution_count": null,
   "id": "cee65ae6",
   "metadata": {},
   "outputs": [],
   "source": [
    "fig = plt.figure(figsize=(16,6))\n",
    "runs = [HT_control, HT_2xCO2]\n",
    "N = len(runs)\n",
    "\n",
    "for n, HT in enumerate([HT_control, HT_2xCO2]):\n",
    "    ax = fig.add_subplot(1, N, n+1)\n",
    "    ax.plot(lat_cesm, HT['total'], 'k-', label='total', linewidth=2)\n",
    "    ax.plot(lat_cesm, HT['atm'], 'r-', label='atm', linewidth=2)\n",
    "    ax.plot(lat_cesm, HT['dse'], 'r--', label='dry')\n",
    "    ax.plot(lat_cesm, HT['latent'], 'r:', label='latent')\n",
    "    ax.plot(lat_cesm, HT['ocean'], 'b-', label='ocean', linewidth=2)\n",
    "\n",
    "    ax.set_xlim(-90,90)\n",
    "    ax.set_xticks(ticks)\n",
    "    ax.legend(loc='upper left')\n",
    "    ax.grid()"
   ]
  },
  {
   "cell_type": "markdown",
   "id": "cc3a659a",
   "metadata": {},
   "source": [
    "Discuss the shape of these curves, before and after the global warming."
   ]
  },
  {
   "cell_type": "markdown",
   "id": "024b67e1",
   "metadata": {
    "slideshow": {
     "slide_type": "slide"
    }
   },
   "source": [
    "____________\n",
    "<a id='section8'></a>\n",
    "\n",
    "## 8. Mechanisms of heat transport\n",
    "____________"
   ]
  },
  {
   "cell_type": "markdown",
   "id": "f9cc7714",
   "metadata": {
    "slideshow": {
     "slide_type": "slide"
    }
   },
   "source": [
    "Energy is transported across latitude lines whenever there is an exchange of fluids with different energy content: e.g. warm fluid moving northward while colder fluid moves southward.\n",
    "\n",
    "Thus energy transport always involves **correlations between northward component of velocity $v$ and energy $e$**"
   ]
  },
  {
   "cell_type": "markdown",
   "id": "9c98cb88",
   "metadata": {
    "slideshow": {
     "slide_type": "slide"
    }
   },
   "source": [
    "The transport is an integral of these correlations, around a latitude circle and over the depth of the fluid:\n",
    "\n",
    "$$ \\mathcal{H} = \\int_0^{2\\pi} \\int_{\\text{bottom}}^{\\text{top}} \\rho ~ v ~ e ~ dz ~ a \\cos\\phi ~ d\\lambda$$"
   ]
  },
  {
   "cell_type": "markdown",
   "id": "04b9a49a",
   "metadata": {
    "slideshow": {
     "slide_type": "slide"
    }
   },
   "source": [
    "The total transport (which we have been inferring from the TOA radiation imbalance) includes contributions from both the **atmosphere** and the **ocean**:\n",
    "\n",
    "$$ \\mathcal{H} = \\mathcal{H}_{a} + \\mathcal{H}_{o} $$"
   ]
  },
  {
   "cell_type": "markdown",
   "id": "18ebbc37",
   "metadata": {
    "slideshow": {
     "slide_type": "slide"
    }
   },
   "source": [
    "We can apply the above definition to both fluids (with appropriate values for bottom and top in the depth integral).\n",
    "\n",
    "The appropriate measure of energy content is different for the atmosphere and ocean."
   ]
  },
  {
   "cell_type": "markdown",
   "id": "01cf5106",
   "metadata": {
    "slideshow": {
     "slide_type": "slide"
    }
   },
   "source": [
    "For the ocean, we usually use the **enthalpy for an incompressible fluid**:\n",
    "\n",
    "$$ e_o \\approx c_w ~ T $$\n",
    "\n",
    "where $c_w \\approx 4.2 \\times 10^{3}$ J kg$^{-1}$ K$^{-1}$ is the specific heat for seawater."
   ]
  },
  {
   "cell_type": "markdown",
   "id": "96297ab7",
   "metadata": {
    "slideshow": {
     "slide_type": "slide"
    }
   },
   "source": [
    "For the atmosphere, it's a bit more complicated. We need to account for both the compressibility of air, and for its water vapor content. This is because of the latent energy associated with evaporation and condensation of vapor."
   ]
  },
  {
   "cell_type": "markdown",
   "id": "061de5b2",
   "metadata": {
    "slideshow": {
     "slide_type": "slide"
    }
   },
   "source": [
    "It is convenient to define the **moist static energy** for the atmosphere:\n",
    "\n",
    "$$ MSE = c_p ~T + g~ Z + L_v ~q  $$\n",
    "\n",
    "whose terms are respectively the internal energy, the potential energy, and the latent heat of water vapor (see texts on atmopsheric thermodynamics for details)."
   ]
  },
  {
   "cell_type": "markdown",
   "id": "ec7b14f3",
   "metadata": {
    "slideshow": {
     "slide_type": "slide"
    }
   },
   "source": [
    "We will assume that $MSE$ is a good approximation to the total energy content of the atmosphere, so\n",
    "\n",
    "$$ e_a \\approx MSE $$"
   ]
  },
  {
   "cell_type": "markdown",
   "id": "5c9156c4",
   "metadata": {
    "slideshow": {
     "slide_type": "slide"
    }
   },
   "source": [
    "Note that in both cases we have **neglected the kinetic energy** from this budget.\n",
    "\n",
    "The kinetic energy per unit mass is $e_k = |\\vec{v}|^2/2$, where $\\vec{v} = (u,v,w)$ is the velocity vector.\n",
    "\n",
    "In practice it is a very small component of the total energy content of the fluid and is usually neglected in analyses of poleward energy transport."
   ]
  },
  {
   "cell_type": "markdown",
   "id": "88f982dc",
   "metadata": {
    "slideshow": {
     "slide_type": "slide"
    }
   },
   "source": [
    "As we have seen, we can further divide the atmospheric transport into transports due to the movement of **dry air** (the tranport of **dry static energy**) and transport associated with evaporation and condensation of **water vapor** (the **latent heat transport**)"
   ]
  },
  {
   "cell_type": "markdown",
   "id": "ffadcb24",
   "metadata": {
    "slideshow": {
     "slide_type": "slide"
    }
   },
   "source": [
    "### Mechanisms of energy transport in the ocean\n",
    "\n",
    "Assuming the ocean extends from $z=-H$ to $z=0$ we can then write\n",
    "\n",
    "$$ \\mathcal{H}_o \\approx a \\cos\\phi \\int_0^{2\\pi} \\int_{-H}^{0}  c_w ~\\rho ~ v ~ T ~ dz  ~ d\\lambda$$\n",
    "\n",
    "setting $v ~ T = 0$ at all land locations around the latitude circle."
   ]
  },
  {
   "cell_type": "markdown",
   "id": "ebf78643",
   "metadata": {
    "slideshow": {
     "slide_type": "slide"
    }
   },
   "source": [
    "The northward transport $\\mathcal{H}_o$ is positive if there is a net northward flow of warm water and southward flow of cold water."
   ]
  },
  {
   "cell_type": "markdown",
   "id": "856e5667",
   "metadata": {
    "slideshow": {
     "slide_type": "slide"
    }
   },
   "source": [
    "This can occur due to **horizontal** differences in currents and temperatures.\n",
    "\n",
    "The classic example is flow in the subtropical gyres and western boundary currents. In the subtropical North Atlantic, there is rapid northward flow of warm water in the Gulf Stream. This is compensated by a slow southward flow of cooler water across the interior of the basin. \n",
    "\n",
    "**Because the water masses are at different temperatures, equal and opposite north-south exchanges of mass result in net northward transport of energy.**"
   ]
  },
  {
   "cell_type": "markdown",
   "id": "e0e0f15a",
   "metadata": {
    "slideshow": {
     "slide_type": "slide"
    }
   },
   "source": [
    "Energy transport can also result from **vertical** structure of the currents.\n",
    "\n",
    "There is a large-scale **overturning circulation** in the Atlantic that involves near-surface northward flow of warmer water, compensated by deeper southward flow of colder water.\n",
    "\n",
    "Again, equal exchange of water but net transport of energy."
   ]
  },
  {
   "cell_type": "markdown",
   "id": "842eb2e7",
   "metadata": {
    "slideshow": {
     "slide_type": "skip"
    }
   },
   "source": [
    "### *These notes are not really finished...*"
   ]
  },
  {
   "cell_type": "markdown",
   "id": "a87307cf",
   "metadata": {
    "slideshow": {
     "slide_type": "skip"
    }
   },
   "source": [
    "____________\n",
    "\n",
    "## Credits\n",
    "\n",
    "This notebook is part of [The Climate Laboratory](https://brian-rose.github.io/ClimateLaboratoryBook), an open-source textbook developed and maintained by [Brian E. J. Rose](http://www.atmos.albany.edu/facstaff/brose/index.html), University at Albany.\n",
    "\n",
    "It is licensed for free and open consumption under the\n",
    "[Creative Commons Attribution 4.0 International (CC BY 4.0)](https://creativecommons.org/licenses/by/4.0/) license.\n",
    "\n",
    "Development of these notes and the [climlab software](https://github.com/brian-rose/climlab) is partially supported by the National Science Foundation under award AGS-1455071 to Brian Rose. Any opinions, findings, conclusions or recommendations expressed here are mine and do not necessarily reflect the views of the National Science Foundation.\n",
    "____________"
   ]
  },
  {
   "cell_type": "code",
   "execution_count": null,
   "id": "b3115781",
   "metadata": {
    "slideshow": {
     "slide_type": "skip"
    }
   },
   "outputs": [],
   "source": []
  }
 ],
 "metadata": {
  "jupytext": {
   "text_representation": {
    "extension": ".md",
    "format_name": "myst",
    "format_version": 0.12,
    "jupytext_version": "1.6.0"
   }
  },
  "kernelspec": {
   "display_name": "Python 3",
   "language": "python",
   "name": "python3"
  },
  "source_map": [
   14,
   20,
   24,
   34,
   47,
   54,
   68,
   90,
   102,
   109,
   121,
   127,
   151,
   155,
   166,
   179,
   183,
   200,
   215,
   219,
   223,
   227,
   231,
   235,
   241,
   245,
   251,
   258,
   262,
   272,
   276,
   280,
   291,
   317,
   325,
   333,
   344,
   348,
   356,
   364,
   368,
   381,
   390,
   395,
   412,
   420,
   426,
   448,
   454,
   466,
   470,
   486,
   492,
   499,
   509,
   515,
   523,
   529,
   533,
   539,
   551,
   555,
   566,
   576,
   584,
   590,
   596,
   604,
   612,
   618,
   626,
   632,
   640,
   648,
   657,
   661,
   702,
   706,
   719,
   727,
   733,
   749,
   755,
   766,
   776,
   786,
   799,
   805,
   815,
   819,
   823,
   829,
   835,
   843,
   849,
   857,
   863,
   874,
   891,
   904,
   915,
   919,
   927,
   931,
   944,
   952,
   960,
   968,
   972,
   978,
   989,
   995,
   1001,
   1010,
   1020,
   1062,
   1072,
   1089,
   1093,
   1102,
   1108,
   1114,
   1120,
   1126,
   1134,
   1138,
   1146,
   1152,
   1160,
   1164,
   1174,
   1178,
   1186,
   1194,
   1198,
   1212
  ]
 },
 "nbformat": 4,
 "nbformat_minor": 5
}