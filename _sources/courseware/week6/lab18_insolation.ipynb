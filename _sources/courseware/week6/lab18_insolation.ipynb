{
 "cells": [
  {
   "cell_type": "markdown",
   "id": "75420ad7",
   "metadata": {
    "slideshow": {
     "slide_type": "slide"
    }
   },
   "source": [
    "(nb:insolation)=\n",
    "# Insolation\n",
    "\n",
    "This notebook is part of [The Climate Laboratory](https://brian-rose.github.io/ClimateLaboratoryBook) by [Brian E. J. Rose](http://www.atmos.albany.edu/facstaff/brose/index.html), University at Albany."
   ]
  },
  {
   "cell_type": "markdown",
   "id": "1819e11c",
   "metadata": {
    "slideshow": {
     "slide_type": "slide"
    }
   },
   "source": [
    "____________\n",
    "<a id='section1'></a>\n",
    "\n",
    "## 1. Distribution of insolation\n",
    "____________"
   ]
  },
  {
   "cell_type": "markdown",
   "id": "9d1878c8",
   "metadata": {},
   "source": [
    "*These notes closely follow section 2.7 of Dennis L. Hartmann, \"Global Physical Climatology\", Academic Press 1994.*"
   ]
  },
  {
   "cell_type": "markdown",
   "id": "384374de",
   "metadata": {
    "slideshow": {
     "slide_type": "slide"
    }
   },
   "source": [
    "The **amount of solar radiation** incident on the top of the atmosphere (what we call the \"insolation\") depends on\n",
    "\n",
    "- latitude\n",
    "- season\n",
    "- time of day\n",
    "\n",
    "This insolation is the primary driver of the climate system. Here we will examine the geometric factors that determine insolation, focussing primarily on the **daily average** values."
   ]
  },
  {
   "cell_type": "markdown",
   "id": "1324b3a7",
   "metadata": {
    "slideshow": {
     "slide_type": "slide"
    }
   },
   "source": [
    "### Solar zenith angle\n",
    "\n",
    "We define the **solar zenith angle** $\\theta_s$ as the angle between the local normal to Earth's surface and a line between a point on Earth's surface and the sun."
   ]
  },
  {
   "cell_type": "markdown",
   "id": "db5fd536",
   "metadata": {},
   "source": [
    "<img src='../../images/Hartmann_Fig2.5.png'>"
   ]
  },
  {
   "cell_type": "markdown",
   "id": "abb79704",
   "metadata": {},
   "source": [
    "From the above figure (reproduced from Hartmann's book), the ratio of the shadow area to the surface area is equal to the cosine of the solar zenith angle."
   ]
  },
  {
   "cell_type": "markdown",
   "id": "335b24af",
   "metadata": {
    "slideshow": {
     "slide_type": "slide"
    }
   },
   "source": [
    "### Instantaneous solar flux\n",
    "\n",
    "We can write the solar flux per unit surface area as\n",
    "\n",
    "$$ Q = S_0 \\left( \\frac{\\overline{d}}{d} \\right)^2 \\cos \\theta_s $$\n",
    "\n",
    "where $\\overline{d}$ is the mean distance for which the flux density $S_0$ (i.e. the solar constant) is measured, and $d$ is the actual distance from the sun.\n",
    "\n",
    "Question:\n",
    "\n",
    "- what factors determine $\\left( \\frac{\\overline{d}}{d} \\right)^2$ ?\n",
    "- under what circumstances would this ratio always equal 1?"
   ]
  },
  {
   "cell_type": "markdown",
   "id": "f5fb9c0f",
   "metadata": {
    "slideshow": {
     "slide_type": "slide"
    }
   },
   "source": [
    "### Calculating the zenith angle\n",
    "\n",
    "Just like the flux itself, the solar zenith angle depends latitude, season, and time of day."
   ]
  },
  {
   "cell_type": "markdown",
   "id": "60468d9d",
   "metadata": {
    "slideshow": {
     "slide_type": "slide"
    }
   },
   "source": [
    "#### Declination angle\n",
    "The seasonal dependence can be expressed in terms of the **declination angle** of the sun: the latitude of the point on the surface of Earth directly under the sun at noon (denoted by $\\delta$).\n",
    "\n",
    "$\\delta$ currenly varies between +23.45º at northern summer solstice (June 21) to -23.45º at northern winter solstice (Dec. 21)."
   ]
  },
  {
   "cell_type": "markdown",
   "id": "dced2e0a",
   "metadata": {
    "slideshow": {
     "slide_type": "slide"
    }
   },
   "source": [
    "#### Hour angle\n",
    "\n",
    "The **hour angle** $h$ is defined as the longitude of the subsolar point relative to its position at noon."
   ]
  },
  {
   "cell_type": "markdown",
   "id": "99aa85d0",
   "metadata": {
    "slideshow": {
     "slide_type": "slide"
    }
   },
   "source": [
    "#### Formula for zenith angle\n",
    "With these definitions and some spherical geometry (see Appendix A of Hartmann's book), we can express the solar zenith angle for any latitude $\\phi$, season, and time of day as\n",
    "\n",
    "$$ \\cos \\theta_s = \\sin \\phi \\sin \\delta + \\cos\\phi \\cos\\delta \\cos h $$"
   ]
  },
  {
   "cell_type": "markdown",
   "id": "4a96a6e2",
   "metadata": {
    "slideshow": {
     "slide_type": "slide"
    }
   },
   "source": [
    "#### Sunrise and sunset\n",
    "\n",
    "If $\\cos\\theta_s < 0$ then the sun is below the horizon and the insolation is zero (i.e. it's night time!)\n",
    "\n",
    "Sunrise and sunset occur when the solar zenith angle is 90º and thus $\\cos\\theta_s=0$. The above formula then gives\n",
    "\n",
    "$$ \\cos h_0 = - \\tan\\phi \\tan\\delta $$\n",
    "\n",
    "where $h_0$ is the hour angle at sunrise and sunset."
   ]
  },
  {
   "cell_type": "markdown",
   "id": "24230059",
   "metadata": {
    "slideshow": {
     "slide_type": "slide"
    }
   },
   "source": [
    "#### Polar night\n",
    "\n",
    "Near the poles special conditions prevail. Latitudes poleward of 90º-$\\delta$ are constantly illuminated in summer, when $\\phi$ and $\\delta$ are of the same sign.  Right at the pole there is 6 months of perpetual daylight in which the sun moves around the compass at a constant angle $\\delta$ above the horizon.\n",
    "\n",
    "In the winter, $\\phi$ and $\\delta$ are of opposite sign, and latitudes poleward of 90º-$|\\delta|$ are in perpetual darkness. At the poles, six months of daylight alternate with six months of daylight.\n",
    "\n",
    "At the equator day and night are both 12 hours long throughout the year."
   ]
  },
  {
   "cell_type": "markdown",
   "id": "c261e42a",
   "metadata": {
    "slideshow": {
     "slide_type": "slide"
    }
   },
   "source": [
    "### Daily average insolation\n",
    "\n",
    "Substituting the expression for solar zenith angle into the insolation formula gives the instantaneous insolation as a function of latitude, season, and time of day:\n",
    "\n",
    "$$ Q = S_0 \\left( \\frac{\\overline{d}}{d} \\right)^2 \\Big( \\sin \\phi \\sin \\delta + \\cos\\phi \\cos\\delta \\cos h  \\Big) $$\n",
    "\n",
    "which is valid only during daylight hours, $|h| < h_0$, and $Q=0$ otherwise (night)."
   ]
  },
  {
   "cell_type": "markdown",
   "id": "b9c45f05",
   "metadata": {
    "slideshow": {
     "slide_type": "slide"
    }
   },
   "source": [
    "To get the daily average insolation, we integrate this expression between sunrise and sunset and divide by 24 hours (or $2\\pi$ radians since we express the time of day in terms of hour angle):\n",
    "\n",
    "$$ \\overline{Q}^{day} = \\frac{1}{2\\pi} \\int_{-h_0}^{h_0} Q ~dh$$\n",
    "\n",
    "$$ = \\frac{S_0}{2\\pi} \\left( \\frac{\\overline{d}}{d} \\right)^2 \\int_{-h_0}^{h_0} \\Big( \\sin \\phi \\sin \\delta + \\cos\\phi \\cos\\delta \\cos h  \\Big) ~ dh $$"
   ]
  },
  {
   "cell_type": "markdown",
   "id": "9844de93",
   "metadata": {
    "slideshow": {
     "slide_type": "slide"
    }
   },
   "source": [
    "which is easily integrated to get our formula for daily average insolation:\n",
    "\n",
    "$$ \\overline{Q}^{day} = \\frac{S_0}{\\pi} \\left( \\frac{\\overline{d}}{d} \\right)^2 \\Big( h_0 \\sin\\phi \\sin\\delta + \\cos\\phi \\cos\\delta \\sin h_0 \\Big)$$\n",
    "\n",
    "where the hour angle at sunrise/sunset $h_0$ must be in radians."
   ]
  },
  {
   "cell_type": "markdown",
   "id": "426f08cd",
   "metadata": {
    "slideshow": {
     "slide_type": "slide"
    }
   },
   "source": [
    "### The daily average zenith angle\n",
    "\n",
    "It turns out that, due to optical properties of the Earth's surface (particularly bodies of water), the surface albedo depends on the solar zenith angle. It is therefore useful to consider the average solar zenith angle during daylight hours as a function of latidude and season.\n",
    "\n",
    "The appropriate daily average here is weighted with respect to the insolation, rather than weighted by time. The formula is\n",
    "\n",
    "$$ \\overline{\\cos\\theta_s}^{day} = \\frac{\\int_{-h_0}^{h_0} Q \\cos\\theta_s~dh}{\\int_{-h_0}^{h_0} Q ~dh} $$"
   ]
  },
  {
   "cell_type": "markdown",
   "id": "1b85e445",
   "metadata": {},
   "source": [
    "<img src='../../images/Hartmann_Fig2.8.png'>"
   ]
  },
  {
   "cell_type": "markdown",
   "id": "ca989a6f",
   "metadata": {
    "slideshow": {
     "slide_type": "-"
    }
   },
   "source": [
    "The average zenith angle is much higher at the poles than in the tropics. This contributes to the very high surface albedos observed at high latitudes."
   ]
  },
  {
   "cell_type": "markdown",
   "id": "d0502813",
   "metadata": {
    "slideshow": {
     "slide_type": "slide"
    }
   },
   "source": [
    "____________\n",
    "<a id='section2'></a>\n",
    "\n",
    "## 2. Computing daily insolation with `climlab`\n",
    "____________"
   ]
  },
  {
   "cell_type": "markdown",
   "id": "94e5766c",
   "metadata": {
    "slideshow": {
     "slide_type": "slide"
    }
   },
   "source": [
    "Here are some examples calculating daily average insolation at different locations and times.\n",
    "\n",
    "These all use a function called \n",
    "```\n",
    "daily_insolation\n",
    "``` \n",
    "in the package \n",
    "```\n",
    "climlab.solar.insolation\n",
    "``` \n",
    "to do the calculation. The code implements the above formulas to calculates daily average insolation anywhere on Earth at any time of year."
   ]
  },
  {
   "cell_type": "markdown",
   "id": "fb0039d2",
   "metadata": {
    "slideshow": {
     "slide_type": "slide"
    }
   },
   "source": [
    "The code takes account of *orbital parameters* to calculate current Sun-Earth distance.  \n",
    "\n",
    "We can look up *past orbital variations* to compute their effects on insolation using the package \n",
    "```\n",
    "climlab.solar.orbital\n",
    "```\n",
    "See the [next lecture](./Lecture14 -- Orbital variations.ipynb)!"
   ]
  },
  {
   "cell_type": "markdown",
   "id": "4d7625dc",
   "metadata": {
    "slideshow": {
     "slide_type": "slide"
    }
   },
   "source": [
    "### Using the `daily_insolation` function"
   ]
  },
  {
   "cell_type": "code",
   "execution_count": null,
   "id": "4fee698c",
   "metadata": {
    "slideshow": {
     "slide_type": "-"
    }
   },
   "outputs": [],
   "source": [
    "%matplotlib inline\n",
    "import numpy as np\n",
    "import matplotlib.pyplot as plt\n",
    "from climlab import constants as const\n",
    "from climlab.solar.insolation import daily_insolation"
   ]
  },
  {
   "cell_type": "markdown",
   "id": "aa471e93",
   "metadata": {
    "slideshow": {
     "slide_type": "slide"
    }
   },
   "source": [
    "First, get a little help on using the `daily_insolation` function:"
   ]
  },
  {
   "cell_type": "code",
   "execution_count": null,
   "id": "679feeed",
   "metadata": {},
   "outputs": [],
   "source": [
    "help(daily_insolation)"
   ]
  },
  {
   "cell_type": "markdown",
   "id": "025c38c2",
   "metadata": {
    "slideshow": {
     "slide_type": "slide"
    }
   },
   "source": [
    "Here are a few simple examples.\n",
    "\n",
    "First, compute the daily average insolation at 45ºN on January 1:"
   ]
  },
  {
   "cell_type": "code",
   "execution_count": null,
   "id": "9d47745d",
   "metadata": {},
   "outputs": [],
   "source": [
    "daily_insolation(45,1)"
   ]
  },
  {
   "cell_type": "markdown",
   "id": "414614e5",
   "metadata": {
    "slideshow": {
     "slide_type": "fragment"
    }
   },
   "source": [
    "Same location, July 1:"
   ]
  },
  {
   "cell_type": "code",
   "execution_count": null,
   "id": "de8a9cb7",
   "metadata": {},
   "outputs": [],
   "source": [
    "daily_insolation(45,181)"
   ]
  },
  {
   "cell_type": "markdown",
   "id": "e1e402ac",
   "metadata": {
    "slideshow": {
     "slide_type": "slide"
    }
   },
   "source": [
    "We could give an array of values. Let's calculate and plot insolation at all latitudes on the spring equinox = March 21 = Day 80"
   ]
  },
  {
   "cell_type": "code",
   "execution_count": null,
   "id": "1bd7beb7",
   "metadata": {},
   "outputs": [],
   "source": [
    "lat = np.linspace(-90., 90., 30)\n",
    "Q = daily_insolation(lat, 80)\n",
    "fig, ax = plt.subplots()\n",
    "ax.plot(lat,Q)\n",
    "ax.set_xlim(-90,90); ax.set_xticks([-90,-60,-30,-0,30,60,90])\n",
    "ax.set_xlabel('Latitude')\n",
    "ax.set_ylabel('W/m2')\n",
    "ax.grid()\n",
    "ax.set_title('Daily average insolation on March 21')"
   ]
  },
  {
   "cell_type": "markdown",
   "id": "38ada3f3",
   "metadata": {
    "slideshow": {
     "slide_type": "slide"
    }
   },
   "source": [
    "### In-class exercises\n",
    "\n",
    "Try to answer the following questions **before reading the rest of these notes**.\n",
    "\n",
    "- What is the daily insolation today here at Albany (latitude 42.65ºN)?\n",
    "- What is the **annual mean** insolation at the latitude of Albany?\n",
    "- At what latitude and at what time of year does the **maximum daily insolation** occur?\n",
    "- What latitude is experiencing either **polar sunrise** or **polar sunset** today?"
   ]
  },
  {
   "cell_type": "markdown",
   "id": "b9e400be",
   "metadata": {},
   "source": [
    "____________\n",
    "<a id='section3'></a>\n",
    "\n",
    "## 3. Global, seasonal distribution of insolation (present-day orbital parameters)\n",
    "____________"
   ]
  },
  {
   "cell_type": "markdown",
   "id": "c0139c16",
   "metadata": {
    "slideshow": {
     "slide_type": "-"
    }
   },
   "source": [
    "Calculate an array of insolation over the year and all latitudes (for present-day orbital parameters). We'll use a dense grid in order to make a nice contour plot"
   ]
  },
  {
   "cell_type": "code",
   "execution_count": null,
   "id": "c5ccd562",
   "metadata": {},
   "outputs": [],
   "source": [
    "lat = np.linspace( -90., 90., 500)\n",
    "days = np.linspace(0, const.days_per_year, 365 )\n",
    "Q = daily_insolation( lat, days )"
   ]
  },
  {
   "cell_type": "markdown",
   "id": "93440904",
   "metadata": {
    "slideshow": {
     "slide_type": "slide"
    }
   },
   "source": [
    "And make a contour plot of Q as function of latitude and time of year."
   ]
  },
  {
   "cell_type": "code",
   "execution_count": null,
   "id": "04bd7119",
   "metadata": {},
   "outputs": [],
   "source": [
    "fig, ax = plt.subplots(figsize=(10,8))\n",
    "CS = ax.contour( days, lat, Q , levels = np.arange(0., 600., 50.) )\n",
    "ax.clabel(CS, CS.levels, inline=True, fmt='%r', fontsize=10)\n",
    "ax.set_xlabel('Days since January 1', fontsize=16 )\n",
    "ax.set_ylabel('Latitude', fontsize=16 )\n",
    "ax.set_title('Daily average insolation', fontsize=24 )\n",
    "ax.contourf ( days, lat, Q, levels=[-1000., 0.], colors='k' )"
   ]
  },
  {
   "cell_type": "markdown",
   "id": "bb11c63e",
   "metadata": {
    "slideshow": {
     "slide_type": "slide"
    }
   },
   "source": [
    "### Time and space averages"
   ]
  },
  {
   "cell_type": "markdown",
   "id": "5b02229a",
   "metadata": {},
   "source": [
    "Take the area-weighted global, annual average of Q..."
   ]
  },
  {
   "cell_type": "code",
   "execution_count": null,
   "id": "839948de",
   "metadata": {},
   "outputs": [],
   "source": [
    "Qaverage = np.average(np.mean(Q, axis=1), weights=np.cos(np.deg2rad(lat)))\n",
    "print( 'The annual, global average insolation is %.2f W/m2.' %Qaverage)"
   ]
  },
  {
   "cell_type": "markdown",
   "id": "87df7c01",
   "metadata": {
    "slideshow": {
     "slide_type": "slide"
    }
   },
   "source": [
    "Also plot the zonally averaged insolation at a few different times of the year:"
   ]
  },
  {
   "cell_type": "code",
   "execution_count": null,
   "id": "ed9ec3df",
   "metadata": {},
   "outputs": [],
   "source": [
    "summer_solstice = 170\n",
    "winter_solstice = 353\n",
    "fig, ax = plt.subplots(figsize=(10,8))\n",
    "ax.plot( lat, Q[:,(summer_solstice, winter_solstice)] );\n",
    "ax.plot( lat, np.mean(Q, axis=1), linewidth=2 )\n",
    "ax.set_xbound(-90, 90)\n",
    "ax.set_xticks( range(-90,100,30) )\n",
    "ax.set_xlabel('Latitude', fontsize=16 );\n",
    "ax.set_ylabel('Insolation (W m$^{-2}$)', fontsize=16 );\n",
    "ax.grid()"
   ]
  },
  {
   "cell_type": "markdown",
   "id": "c862986d",
   "metadata": {
    "slideshow": {
     "slide_type": "skip"
    }
   },
   "source": [
    "____________\n",
    "\n",
    "## Credits\n",
    "\n",
    "This notebook is part of [The Climate Laboratory](https://brian-rose.github.io/ClimateLaboratoryBook), an open-source textbook developed and maintained by [Brian E. J. Rose](http://www.atmos.albany.edu/facstaff/brose/index.html), University at Albany.\n",
    "\n",
    "It is licensed for free and open consumption under the\n",
    "[Creative Commons Attribution 4.0 International (CC BY 4.0)](https://creativecommons.org/licenses/by/4.0/) license.\n",
    "\n",
    "Development of these notes and the [climlab software](https://github.com/brian-rose/climlab) is partially supported by the National Science Foundation under award AGS-1455071 to Brian Rose. Any opinions, findings, conclusions or recommendations expressed here are mine and do not necessarily reflect the views of the National Science Foundation.\n",
    "____________"
   ]
  },
  {
   "cell_type": "code",
   "execution_count": null,
   "id": "cdc5c2ab",
   "metadata": {
    "slideshow": {
     "slide_type": "skip"
    }
   },
   "outputs": [],
   "source": []
  }
 ],
 "metadata": {
  "jupytext": {
   "text_representation": {
    "extension": ".md",
    "format_name": "myst",
    "format_version": 0.12,
    "jupytext_version": "1.6.0"
   }
  },
  "kernelspec": {
   "display_name": "Python 3",
   "language": "python",
   "name": "python3"
  },
  "source_map": [
   14,
   20,
   28,
   32,
   42,
   48,
   52,
   56,
   71,
   77,
   84,
   90,
   97,
   109,
   119,
   129,
   137,
   145,
   155,
   159,
   163,
   171,
   185,
   195,
   199,
   211,
   215,
   219,
   225,
   229,
   233,
   237,
   241,
   253,
   264,
   272,
   276,
   282,
   286,
   296,
   300,
   304,
   309,
   313,
   326,
   340
  ]
 },
 "nbformat": 4,
 "nbformat_minor": 5
}