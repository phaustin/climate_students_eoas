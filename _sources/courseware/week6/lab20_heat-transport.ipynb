{
 "cells": [
  {
   "cell_type": "markdown",
   "id": "36ceb3c9",
   "metadata": {
    "slideshow": {
     "slide_type": "slide"
    }
   },
   "source": [
    "(nb:heat-transport)=\n",
    "# Heat transport\n",
    "\n",
    "This notebook is part of [The Climate Laboratory](https://brian-rose.github.io/ClimateLaboratoryBook) by [Brian E. J. Rose](http://www.atmos.albany.edu/facstaff/brose/index.html), University at Albany."
   ]
  },
  {
   "cell_type": "markdown",
   "id": "1137cc80",
   "metadata": {
    "slideshow": {
     "slide_type": "slide"
    }
   },
   "source": [
    "____________\n",
    "<a id='section1'></a>\n",
    "\n",
    "## 1. Spatial patterns of insolation and surface temperature\n",
    "____________\n",
    "\n",
    "Let's take a look at seasonal and spatial pattern of insolation and compare this to the zonal average surface temperatures."
   ]
  },
  {
   "cell_type": "code",
   "execution_count": null,
   "id": "7d230394",
   "metadata": {
    "slideshow": {
     "slide_type": "slide"
    }
   },
   "outputs": [],
   "source": [
    "%matplotlib inline\n",
    "import numpy as np\n",
    "import matplotlib.pyplot as plt\n",
    "import xarray as xr\n",
    "import climlab\n",
    "from climlab import constants as const"
   ]
  },
  {
   "cell_type": "code",
   "execution_count": null,
   "id": "ae7c4d60",
   "metadata": {},
   "outputs": [],
   "source": [
    "#  Calculate daily average insolation as function of latitude and time of year\n",
    "lat = np.linspace( -90., 90., 500 )\n",
    "days = np.linspace(0, const.days_per_year, 365 )\n",
    "Q = climlab.solar.insolation.daily_insolation( lat, days )"
   ]
  },
  {
   "cell_type": "code",
   "execution_count": null,
   "id": "d7fd1467",
   "metadata": {
    "slideshow": {
     "slide_type": "slide"
    }
   },
   "outputs": [],
   "source": [
    "##  daily surface temperature from  NCEP reanalysis\n",
    "ncep_url = \"http://www.esrl.noaa.gov/psd/thredds/dodsC/Datasets/ncep.reanalysis.derived/\"\n",
    "ncep_temp = xr.open_dataset( ncep_url + \"surface_gauss/skt.sfc.day.1981-2010.ltm.nc\", decode_times=False)\n",
    "#url = 'http://apdrc.soest.hawaii.edu:80/dods/public_data/Reanalysis_Data/NCEP/NCEP/clima/'\n",
    "#skt_path = 'surface_gauss/skt'\n",
    "#ncep_temp = xr.open_dataset(url+skt_path)\n",
    "ncep_temp_zon = ncep_temp.skt.mean(dim='lon')"
   ]
  },
  {
   "cell_type": "code",
   "execution_count": null,
   "id": "724eeac1",
   "metadata": {},
   "outputs": [],
   "source": [
    "fig = plt.figure(figsize=(12,6))\n",
    "\n",
    "ax1 = fig.add_subplot(121)\n",
    "CS = ax1.contour( days, lat, Q , levels = np.arange(0., 600., 50.) )\n",
    "ax1.clabel(CS, CS.levels, inline=True, fmt='%r', fontsize=10)\n",
    "ax1.set_title('Daily average insolation', fontsize=18 )\n",
    "ax1.contourf ( days, lat, Q, levels=[-100., 0.], colors='k' )\n",
    "\n",
    "ax2 = fig.add_subplot(122)\n",
    "CS = ax2.contour( (ncep_temp.time - ncep_temp.time[0])/const.hours_per_day, ncep_temp.lat, \n",
    "                 ncep_temp_zon.T, levels=np.arange(210., 310., 10. ) )\n",
    "ax2.clabel(CS, CS.levels, inline=True, fmt='%r', fontsize=10)\n",
    "ax2.set_title('Observed zonal average surface temperature', fontsize=18 )\n",
    "\n",
    "for ax in [ax1,ax2]:\n",
    "    ax.set_xlabel('Days since January 1', fontsize=16 )\n",
    "    ax.set_ylabel('Latitude', fontsize=16 )\n",
    "    ax.set_yticks([-90,-60,-30,0,30,60,90])\n",
    "    ax.grid()"
   ]
  },
  {
   "cell_type": "markdown",
   "id": "b9e86548",
   "metadata": {
    "slideshow": {
     "slide_type": "slide"
    }
   },
   "source": [
    "This figure reveals something fairly obvious, but still worth thinking about:\n",
    "\n",
    "**Warm temperatures are correlated with high insolation**. It's warm where the sun shines.\n",
    "\n",
    "More specifically, we can see a few interesting details here:\n",
    "\n",
    "- The seasonal cycle is weakest in the tropics and strongest in the high latitudes.\n",
    "- The warmest temperatures occur slighly NORTH of the equator\n",
    "- The highest insolation occurs at the poles at summer solstice."
   ]
  },
  {
   "cell_type": "markdown",
   "id": "d28571bf",
   "metadata": {
    "slideshow": {
     "slide_type": "slide"
    }
   },
   "source": [
    "The local surface temperature does not correlate perfectly with local insolation for two reasons:\n",
    "\n",
    "- the climate system has heat capacity, which buffers some of the seasonal variations\n",
    "- the climate system moves energy around in space!"
   ]
  },
  {
   "cell_type": "markdown",
   "id": "701c0e38",
   "metadata": {
    "slideshow": {
     "slide_type": "slide"
    }
   },
   "source": [
    "____________\n",
    "<a id='section2'></a>\n",
    "\n",
    "## 2. Calculating Radiative-Convective Equilibrium as a function of latitude\n",
    "____________\n",
    "\n",
    "As a first step to understanding the effects of **heat transport by fluid motions** in the atmosphere and ocean, we can calculate **what the surface temperature would be without any motion**.\n",
    "\n",
    "Let's calculate a **radiative-convective equilibrium** state for every latitude band."
   ]
  },
  {
   "cell_type": "markdown",
   "id": "bbb3fb57",
   "metadata": {
    "slideshow": {
     "slide_type": "slide"
    }
   },
   "source": [
    "### Putting realistic insolation into an RCM\n",
    "\n",
    "This code demonstrates how to create a model with both latitude and vertical dimensions."
   ]
  },
  {
   "cell_type": "code",
   "execution_count": null,
   "id": "5821421d",
   "metadata": {
    "slideshow": {
     "slide_type": "slide"
    }
   },
   "outputs": [],
   "source": [
    "# A two-dimensional domain\n",
    "state = climlab.column_state(num_lev=30, num_lat=40, water_depth=10.)\n",
    "#  Specified relative humidity distribution\n",
    "h2o = climlab.radiation.ManabeWaterVapor(name='Fixed Relative Humidity', state=state)\n",
    "#  Hard convective adjustment\n",
    "conv = climlab.convection.ConvectiveAdjustment(name='Convective Adjustment', state=state, adj_lapse_rate=6.5)\n",
    "#  Daily insolation as a function of latitude and time of year\n",
    "sun = climlab.radiation.DailyInsolation(name='Insolation', domains=state['Ts'].domain)\n",
    "#  Couple the radiation to insolation and water vapor processes\n",
    "rad = climlab.radiation.RRTMG(name='Radiation',\n",
    "                             state=state, \n",
    "                             specific_humidity=h2o.q, \n",
    "                             albedo=0.125,\n",
    "                             insolation=sun.insolation,\n",
    "                             coszen=sun.coszen)\n",
    "model = climlab.couple([rad,sun,h2o,conv], name='RCM')\n",
    "print( model)"
   ]
  },
  {
   "cell_type": "code",
   "execution_count": null,
   "id": "173445e0",
   "metadata": {},
   "outputs": [],
   "source": [
    "model.compute_diagnostics()"
   ]
  },
  {
   "cell_type": "code",
   "execution_count": null,
   "id": "6c079a88",
   "metadata": {
    "slideshow": {
     "slide_type": "-"
    }
   },
   "outputs": [],
   "source": [
    "fig, ax = plt.subplots()\n",
    "ax.plot(model.lat, model.insolation)\n",
    "ax.set_xlabel('Latitude')\n",
    "ax.set_ylabel('Insolation (W/m2)');"
   ]
  },
  {
   "cell_type": "markdown",
   "id": "4a60b3ce",
   "metadata": {
    "slideshow": {
     "slide_type": "slide"
    }
   },
   "source": [
    "This new insolation process uses the same code we've already been working with to compute realistic distributions of insolation. Here we are using\n",
    "```\n",
    "climlab.radiation.DailyInsolation\n",
    "```\n",
    "but there is also\n",
    "\n",
    "```\n",
    "climlab.radiation.AnnualMeanInsolation\n",
    "```\n",
    "for models in which you prefer to suppress the seasonal cycle and prescribe a time-invariant insolation."
   ]
  },
  {
   "cell_type": "markdown",
   "id": "0ce94ad3",
   "metadata": {
    "slideshow": {
     "slide_type": "slide"
    }
   },
   "source": [
    "The following code will just integrate the model forward in four steps in order to get snapshots of insolation at the solstices and equinoxes."
   ]
  },
  {
   "cell_type": "code",
   "execution_count": null,
   "id": "ac515981",
   "metadata": {},
   "outputs": [],
   "source": [
    "#  model is initialized on Jan. 1\n",
    "\n",
    "#  integrate forward just under 1/4 year... should get about to the NH spring equinox\n",
    "model.integrate_days(31+28+22)\n",
    "Q_spring = model.insolation.copy()\n",
    "#  Then forward to NH summer solstice\n",
    "model.integrate_days(31+30+31)\n",
    "Q_summer = model.insolation.copy()\n",
    "#  and on to autumnal equinox\n",
    "model.integrate_days(30+31+33)\n",
    "Q_fall = model.insolation.copy()\n",
    "#  and finally to NH winter solstice\n",
    "model.integrate_days(30+31+30)\n",
    "Q_winter = model.insolation.copy()"
   ]
  },
  {
   "cell_type": "code",
   "execution_count": null,
   "id": "221ba621",
   "metadata": {
    "slideshow": {
     "slide_type": "slide"
    }
   },
   "outputs": [],
   "source": [
    "fig, ax = plt.subplots()\n",
    "ax.plot(model.lat, Q_spring, label='Spring')\n",
    "ax.plot(model.lat, Q_summer, label='Summer')\n",
    "ax.plot(model.lat, Q_fall, label='Fall')\n",
    "ax.plot(model.lat, Q_winter, label='Winter')\n",
    "ax.legend()\n",
    "ax.set_xlabel('Latitude')\n",
    "ax.set_ylabel('Insolation (W/m2)');"
   ]
  },
  {
   "cell_type": "markdown",
   "id": "7a2fcbed",
   "metadata": {
    "slideshow": {
     "slide_type": "slide"
    }
   },
   "source": [
    "This just serves to demonstrate that the `DailyInsolation` process is doing something sensible."
   ]
  },
  {
   "cell_type": "markdown",
   "id": "f8ed477a",
   "metadata": {},
   "source": [
    "Note that we could also pass different orbital parameters to this subprocess. They default to present-day values, which is what we are using here."
   ]
  },
  {
   "cell_type": "markdown",
   "id": "c63de0dd",
   "metadata": {
    "slideshow": {
     "slide_type": "slide"
    }
   },
   "source": [
    "### Find the steady seasonal cycle of temperature in radiative-convective equilibrium"
   ]
  },
  {
   "cell_type": "code",
   "execution_count": null,
   "id": "fd313496",
   "metadata": {},
   "outputs": [],
   "source": [
    "model.integrate_years(4.)"
   ]
  },
  {
   "cell_type": "code",
   "execution_count": null,
   "id": "22f8fa15",
   "metadata": {},
   "outputs": [],
   "source": [
    "model.integrate_years(1.)"
   ]
  },
  {
   "cell_type": "markdown",
   "id": "1e36c1fe",
   "metadata": {
    "slideshow": {
     "slide_type": "slide"
    }
   },
   "source": [
    "All climlab `Process` objects have an attribute called `timeave`. \n",
    "\n",
    "This is a dictionary of time-averaged diagnostics, which are automatically calculated during the most recent call to `integrate_years()` or `integrate_days()`."
   ]
  },
  {
   "cell_type": "code",
   "execution_count": null,
   "id": "54295ee0",
   "metadata": {},
   "outputs": [],
   "source": [
    "model.timeave.keys()"
   ]
  },
  {
   "cell_type": "markdown",
   "id": "aa5b74a4",
   "metadata": {
    "slideshow": {
     "slide_type": "slide"
    }
   },
   "source": [
    "Here we use the `timeave['insolation']` to plot the annual mean insolation. \n",
    "\n",
    "(We know it is the *annual* average because the last call to `model.integrate_years` was for exactly 1 year)"
   ]
  },
  {
   "cell_type": "code",
   "execution_count": null,
   "id": "2068f4fc",
   "metadata": {},
   "outputs": [],
   "source": [
    "fig, ax = plt.subplots()\n",
    "ax.plot(model.lat, model.timeave['insolation'])\n",
    "ax.set_xlabel('Latitude')\n",
    "ax.set_ylabel('Insolation (W/m2)')"
   ]
  },
  {
   "cell_type": "markdown",
   "id": "3ab8a077",
   "metadata": {
    "slideshow": {
     "slide_type": "slide"
    }
   },
   "source": [
    "###  Compare annual average temperature in RCE to the zonal-, annual mean observations."
   ]
  },
  {
   "cell_type": "code",
   "execution_count": null,
   "id": "43cb6a72",
   "metadata": {},
   "outputs": [],
   "source": [
    "# Plot annual mean surface temperature in the model,\n",
    "#   compare to observed annual mean surface temperatures\n",
    "fig, ax = plt.subplots()\n",
    "ax.plot(model.lat, model.timeave['Ts'], label='RCE')\n",
    "ax.plot(ncep_temp_zon.lat, ncep_temp_zon.mean(dim='time'), label='obs')\n",
    "ax.set_xticks(range(-90,100,30))\n",
    "ax.grid(); ax.legend();"
   ]
  },
  {
   "cell_type": "markdown",
   "id": "7308b8ff",
   "metadata": {
    "slideshow": {
     "slide_type": "slide"
    }
   },
   "source": [
    "Our modeled RCE state is **far too warm in the tropics**, and **too cold in the mid- to high latitudes.**"
   ]
  },
  {
   "cell_type": "markdown",
   "id": "dba26b52",
   "metadata": {
    "slideshow": {
     "slide_type": "slide"
    }
   },
   "source": [
    "###  Vertical structure of temperature: comparing RCE to observations"
   ]
  },
  {
   "cell_type": "code",
   "execution_count": null,
   "id": "3e655fdc",
   "metadata": {},
   "outputs": [],
   "source": [
    "#  Observed air temperature from NCEP reanalysis\n",
    "## The NOAA ESRL server is shutdown! January 2019\n",
    "ncep_air = xr.open_dataset( ncep_url + \"pressure/air.mon.1981-2010.ltm.nc\", decode_times=False)\n",
    "#air = xr.open_dataset(url+'pressure/air')\n",
    "#ncep_air = air.rename({'lev':'level'})\n",
    "level_ncep_air = ncep_air.level\n",
    "lat_ncep_air = ncep_air.lat\n",
    "Tzon = ncep_air.air.mean(dim=('time','lon'))"
   ]
  },
  {
   "cell_type": "code",
   "execution_count": null,
   "id": "95d8f53a",
   "metadata": {
    "slideshow": {
     "slide_type": "skip"
    }
   },
   "outputs": [],
   "source": [
    "#  Compare temperature profiles in RCE and observations\n",
    "contours = np.arange(180., 350., 15.)\n",
    "\n",
    "fig = plt.figure(figsize=(14,6))\n",
    "ax1 = fig.add_subplot(1,2,1)\n",
    "cax1 = ax1.contourf(lat_ncep_air, level_ncep_air, Tzon+const.tempCtoK, levels=contours)\n",
    "fig.colorbar(cax1)\n",
    "ax1.set_title('Observered temperature (K)')\n",
    "\n",
    "ax2 = fig.add_subplot(1,2,2)\n",
    "field = model.timeave['Tatm'].transpose()\n",
    "cax2 = ax2.contourf(model.lat, model.lev, field, levels=contours)\n",
    "fig.colorbar(cax2)\n",
    "ax2.set_title('RCE temperature (K)')\n",
    "\n",
    "for ax in [ax1, ax2]:\n",
    "    ax.invert_yaxis()\n",
    "    ax.set_xlim(-90,90)\n",
    "    ax.set_xticks([-90, -60, -30, 0, 30, 60, 90])"
   ]
  },
  {
   "cell_type": "markdown",
   "id": "0a9ae653",
   "metadata": {
    "slideshow": {
     "slide_type": "slide"
    }
   },
   "source": [
    "Again, this plot reveals temperatures that are too warm in the tropics, too cold at the poles throughout the troposphere.\n",
    "\n",
    "Note however that the **vertical temperature gradients** are largely dictated by the convective adjustment in our model. We have parameterized this gradient, and so we can change it by changing our parameter for the adjustment.\n",
    "\n",
    "We have (as yet) no parameterization for the **horizontal** redistribution of energy in the climate system."
   ]
  },
  {
   "cell_type": "markdown",
   "id": "70ac58f6",
   "metadata": {
    "slideshow": {
     "slide_type": "slide"
    }
   },
   "source": [
    "###  TOA energy budget in RCE equilibrium\n",
    "\n",
    "Because there is no horizontal energy transport in this model, the TOA radiation budget should be closed (net flux is zero) at all latitudes.\n",
    "\n",
    "Let's check this by plotting time-averaged shortwave and longwave radiation:"
   ]
  },
  {
   "cell_type": "code",
   "execution_count": null,
   "id": "6747cb83",
   "metadata": {
    "slideshow": {
     "slide_type": "slide"
    }
   },
   "outputs": [],
   "source": [
    "fig, ax = plt.subplots()\n",
    "ax.plot(model.lat, model.timeave['ASR'], label='ASR')\n",
    "ax.plot(model.lat, model.timeave['OLR'], label='OLR')\n",
    "ax.set_xlabel('Latitude')\n",
    "ax.set_ylabel('W/m2')\n",
    "ax.legend(); ax.grid()"
   ]
  },
  {
   "cell_type": "markdown",
   "id": "ef7ca00e",
   "metadata": {},
   "source": [
    "Indeed, the budget is (very nearly) closed everywhere. Each latitude is in energy balance, independent of every other column."
   ]
  },
  {
   "cell_type": "markdown",
   "id": "bef5c812",
   "metadata": {
    "slideshow": {
     "slide_type": "slide"
    }
   },
   "source": [
    "____________\n",
    "<a id='section3'></a>\n",
    "\n",
    "## 3. Observed and modeled TOA radiation budget\n",
    "____________"
   ]
  },
  {
   "cell_type": "markdown",
   "id": "6961f89a",
   "metadata": {
    "slideshow": {
     "slide_type": "slide"
    }
   },
   "source": [
    "We are going to look at the (time average) TOA budget as a function of latitude to see how it differs from the RCE state we just plotted.\n",
    "\n",
    "Ideally we would look at actual satellite observations of SW and LW fluxes. Instead, here we will use the NCEP Reanalysis for convenience. \n",
    "\n",
    "But bear in mind that the radiative fluxes in the reanalysis are a model-generated product, they are not really observations."
   ]
  },
  {
   "cell_type": "markdown",
   "id": "ea8e0ce9",
   "metadata": {
    "slideshow": {
     "slide_type": "slide"
    }
   },
   "source": [
    "### TOA budget from NCEP Reanalysis"
   ]
  },
  {
   "cell_type": "code",
   "execution_count": null,
   "id": "08381cd5",
   "metadata": {},
   "outputs": [],
   "source": [
    "# Get TOA radiative flux data from NCEP reanalysis\n",
    "# downwelling SW\n",
    "dswrf = xr.open_dataset(ncep_url + '/other_gauss/dswrf.ntat.mon.1981-2010.ltm.nc', decode_times=False)\n",
    "#dswrf = xr.open_dataset(url + 'other_gauss/dswrf')\n",
    "#  upwelling SW\n",
    "uswrf = xr.open_dataset(ncep_url + '/other_gauss/uswrf.ntat.mon.1981-2010.ltm.nc', decode_times=False)\n",
    "#uswrf = xr.open_dataset(url + 'other_gauss/uswrf')\n",
    "#  upwelling LW\n",
    "ulwrf = xr.open_dataset(ncep_url + '/other_gauss/ulwrf.ntat.mon.1981-2010.ltm.nc', decode_times=False)\n",
    "#ulwrf = xr.open_dataset(url + 'other_gauss/ulwrf')"
   ]
  },
  {
   "cell_type": "code",
   "execution_count": null,
   "id": "9b96f55e",
   "metadata": {
    "slideshow": {
     "slide_type": "slide"
    }
   },
   "outputs": [],
   "source": [
    "ASR = dswrf.dswrf - uswrf.uswrf\n",
    "OLR = ulwrf.ulwrf"
   ]
  },
  {
   "cell_type": "code",
   "execution_count": null,
   "id": "efbc2d20",
   "metadata": {},
   "outputs": [],
   "source": [
    "ASRzon = ASR.mean(dim=('time','lon'))\n",
    "OLRzon = OLR.mean(dim=('time','lon'))"
   ]
  },
  {
   "cell_type": "code",
   "execution_count": null,
   "id": "16631c34",
   "metadata": {
    "slideshow": {
     "slide_type": "slide"
    }
   },
   "outputs": [],
   "source": [
    "ticks = [-90, -60, -30, 0, 30, 60, 90]\n",
    "fig, ax = plt.subplots()\n",
    "ax.plot(ASRzon.lat, ASRzon, label='ASR')\n",
    "ax.plot(OLRzon.lat, OLRzon, label='OLR')\n",
    "ax.set_ylabel('W/m2')\n",
    "ax.set_xlabel('Latitude')\n",
    "ax.set_xlim(-90,90); ax.set_ylim(50,310)\n",
    "ax.set_xticks(ticks);\n",
    "ax.set_title('Observed annual mean radiation at TOA')\n",
    "ax.legend(); ax.grid();"
   ]
  },
  {
   "cell_type": "markdown",
   "id": "b00a5294",
   "metadata": {
    "slideshow": {
     "slide_type": "slide"
    }
   },
   "source": [
    "We find that ASR does NOT balance OLR in most locations. \n",
    "\n",
    "Across the tropics the absorbed solar radiation exceeds the longwave emission to space.  The tropics have a **net gain of energy by radiation**.\n",
    "\n",
    "The opposite is true in mid- to high latitudes: **the Earth is losing energy by net radiation to space** at these latitudes."
   ]
  },
  {
   "cell_type": "markdown",
   "id": "86550814",
   "metadata": {
    "slideshow": {
     "slide_type": "slide"
    }
   },
   "source": [
    "### TOA budget from the control CESM simulation\n",
    "\n",
    "Load data from the fully coupled CESM control simulation that we've used before."
   ]
  },
  {
   "cell_type": "code",
   "execution_count": null,
   "id": "e8fe6bcb",
   "metadata": {},
   "outputs": [],
   "source": [
    "casenames = {'cpl_control': 'cpl_1850_f19',\n",
    "             'cpl_CO2ramp': 'cpl_CO2ramp_f19',\n",
    "             'som_control': 'som_1850_f19',\n",
    "             'som_2xCO2':   'som_1850_2xCO2',\n",
    "            }\n",
    "# The path to the THREDDS server, should work from anywhere\n",
    "basepath = 'http://thredds.atmos.albany.edu:8080/thredds/dodsC/CESMA/'\n",
    "# For better performance if you can access the roselab_rit filesystem (e.g. from JupyterHub)\n",
    "#basepath = '/roselab_rit/cesm_archive/'\n",
    "casepaths = {}\n",
    "for name in casenames:\n",
    "    casepaths[name] = basepath + casenames[name] + '/concatenated/'\n",
    "\n",
    "# make a dictionary of all the CAM atmosphere output\n",
    "atm = {}\n",
    "for name in casenames:\n",
    "    path = casepaths[name] + casenames[name] + '.cam.h0.nc'\n",
    "    print('Attempting to open the dataset ', path)\n",
    "    atm[name] = xr.open_dataset(path)"
   ]
  },
  {
   "cell_type": "code",
   "execution_count": null,
   "id": "5670c772",
   "metadata": {},
   "outputs": [],
   "source": [
    "lat_cesm = atm['cpl_control'].lat\n",
    "ASR_cesm = atm['cpl_control'].FSNT\n",
    "OLR_cesm = atm['cpl_control'].FLNT"
   ]
  },
  {
   "cell_type": "code",
   "execution_count": null,
   "id": "4385c878",
   "metadata": {},
   "outputs": [],
   "source": [
    "# extract the last 10 years from the slab ocean control simulation\n",
    "# and the last 20 years from the coupled control\n",
    "nyears_slab = 10\n",
    "nyears_cpl = 20\n",
    "clim_slice_slab = slice(-(nyears_slab*12),None)\n",
    "clim_slice_cpl = slice(-(nyears_cpl*12),None)\n",
    "\n",
    "#  For now we're just working with the coupled control simulation\n",
    "#  Take the time and zonal average\n",
    "ASR_cesm_zon = ASR_cesm.isel(time=clim_slice_slab).mean(dim=('lon','time'))\n",
    "OLR_cesm_zon = OLR_cesm.isel(time=clim_slice_slab).mean(dim=('lon','time'))"
   ]
  },
  {
   "cell_type": "markdown",
   "id": "b50e89c8",
   "metadata": {},
   "source": [
    "Now we can make the same plot of ASR and OLR that we made for the observations above."
   ]
  },
  {
   "cell_type": "code",
   "execution_count": null,
   "id": "9b24db4e",
   "metadata": {
    "slideshow": {
     "slide_type": "slide"
    }
   },
   "outputs": [],
   "source": [
    "fig, ax = plt.subplots()\n",
    "ax.plot(lat_cesm, ASR_cesm_zon, label='ASR')\n",
    "ax.plot(lat_cesm, OLR_cesm_zon, label='OLR')\n",
    "ax.set_ylabel('W/m2')\n",
    "ax.set_xlabel('Latitude')\n",
    "ax.set_xlim(-90,90); ax.set_ylim(50,310)\n",
    "ax.set_xticks(ticks);\n",
    "ax.set_title('CESM control simulation: Annual mean radiation at TOA')\n",
    "ax.legend(); ax.grid();"
   ]
  },
  {
   "cell_type": "markdown",
   "id": "49c441e6",
   "metadata": {
    "slideshow": {
     "slide_type": "slide"
    }
   },
   "source": [
    "Essentially the same story as the reanalysis data: there is a **surplus of energy across the tropics** and a net **energy deficit in mid- to high latitudes**.\n",
    "\n",
    "There are two locations where ASR = OLR, near about 35º in both hemispheres."
   ]
  },
  {
   "cell_type": "markdown",
   "id": "40140cd0",
   "metadata": {
    "slideshow": {
     "slide_type": "slide"
    }
   },
   "source": [
    "____________\n",
    "\n",
    "## 4. The energy budget for a zonal band\n",
    "____________"
   ]
  },
  {
   "cell_type": "markdown",
   "id": "125c9b13",
   "metadata": {},
   "source": [
    "### The basic idea\n",
    "\n",
    "Through most of the previous notes we have been thinking about **global averages**.\n",
    "\n",
    "We've been working with an energy budget that looks something like this:\n",
    "\n",
    "<img src='../../images/column_sketch.pdf' width=200>"
   ]
  },
  {
   "cell_type": "markdown",
   "id": "723332db",
   "metadata": {},
   "source": [
    "When we start thinking about regional climates, we need to modify our budget to account for the **additional heating or cooling** due to **transport** in and out of the column:\n",
    "\n",
    "<img src='../../images/column_sketch2.pdf' width=200>"
   ]
  },
  {
   "cell_type": "markdown",
   "id": "c10f7819",
   "metadata": {},
   "source": [
    "Conceptually, the additional energy source is the difference between what's coming in and what's going out:\n",
    "\n",
    "$$ h = \\mathcal{H}_{in}  - \\mathcal{H}_{out} $$\n",
    "\n",
    "where $h$ is a **dynamic heating rate** in W m$^{-2}$."
   ]
  },
  {
   "cell_type": "markdown",
   "id": "ab52bcdc",
   "metadata": {},
   "source": [
    "### A more careful budget\n",
    "\n",
    "Let’s now consider a thin band of the climate system, of width $\\delta \\phi$ , and write down a careful energy budget for it."
   ]
  },
  {
   "cell_type": "markdown",
   "id": "c3a95315",
   "metadata": {},
   "source": [
    "<img src='../../images/ZonalEnergyBudget_sketch.png' width=400>"
   ]
  },
  {
   "cell_type": "markdown",
   "id": "0df36df7",
   "metadata": {
    "slideshow": {
     "slide_type": "slide"
    }
   },
   "source": [
    "Let $\\mathcal{H}(\\phi)$ be the total rate of northward energy transport across the latitude line $\\phi$, measured in Watts (usually PW).\n",
    "\n",
    "So the transport into the band is $\\mathcal{H}(\\phi)$, and the transport out is just $\\mathcal{H}(\\phi + \\delta \\phi)$\n",
    "\n",
    "The dynamic heating rate looks like\n",
    "\n",
    "$$ h = \\frac{\\text{transport in} - \\text{transport out}}{\\text{area of band}} $$"
   ]
  },
  {
   "cell_type": "markdown",
   "id": "e26d2ec8",
   "metadata": {
    "slideshow": {
     "slide_type": "slide"
    }
   },
   "source": [
    "The surface area of the latitude band is\n",
    "\n",
    "$$ A = \\text{Circumference} ~\\times ~ \\text{north-south width} $$\n",
    "\n",
    "$$ A = 2 \\pi a \\cos \\phi  ~ \\times ~  a \\delta \\phi  $$\n",
    "\n",
    "$$ A = 2 \\pi a^2  \\cos⁡\\phi ~ \\delta\\phi $$"
   ]
  },
  {
   "cell_type": "markdown",
   "id": "106dc88e",
   "metadata": {},
   "source": [
    "So we can write the heating rate as\n",
    "\n",
    "\\begin{align*}\n",
    "h &= \\frac{\\mathcal{H}(\\phi) - \\mathcal{H}(\\phi+\\delta\\phi)}{2 \\pi a^2  \\cos⁡\\phi ~ \\delta\\phi} \\\\\n",
    " &= -\\frac{1}{2 \\pi a^2  \\cos⁡\\phi} \\left( \\frac{\\mathcal{H}(\\phi+\\delta\\phi) - \\mathcal{H}(\\phi)}{\\delta\\phi} \\right)\n",
    "\\end{align*}"
   ]
  },
  {
   "cell_type": "markdown",
   "id": "5cae8506",
   "metadata": {},
   "source": [
    "Writing it this way, we can see that if the width of the band $\\delta \\phi$ becomes very small, then the quantity in parentheses is simply the **derivative** $d\\mathcal{H}/d\\phi$."
   ]
  },
  {
   "cell_type": "markdown",
   "id": "b62868e5",
   "metadata": {},
   "source": [
    "The **dynamical heating rate** in W m$^{-2}$ is thus\n",
    "\n",
    "$$ h = - \\frac{1}{2 \\pi a^2  \\cos⁡\\phi } \\frac{\\partial \\mathcal{H}}{\\partial \\phi} $$\n",
    "\n",
    "which is the **convergence of energy transport** into this latitude band: the difference between what's coming in and what's going out."
   ]
  },
  {
   "cell_type": "markdown",
   "id": "39d29c07",
   "metadata": {
    "slideshow": {
     "slide_type": "slide"
    }
   },
   "source": [
    "____________\n",
    "\n",
    "## 5. Calculating heat transport from the steady-state energy budget\n",
    "____________\n",
    "\n",
    "\n",
    "If we can **assume that the budget is balanced**, i.e. assume that the system is at equilibrium and there is negligible heat storage, then we can use the energy budget to infer $\\mathcal{H}$ from a measured (or modeled) TOA radiation imbalance:\n",
    "\n",
    "The balanced budget is\n",
    "\n",
    "$$ ASR + h = OLR $$\n",
    "\n",
    "(i.e. the **sources** balance the **sinks**)\n",
    "\n",
    "which we can substitute in for $h$ and rearrange to write as\n",
    "\n",
    "$$ \\frac{\\partial \\mathcal{H}}{\\partial \\phi}  = 2 \\pi ~a^2  \\cos⁡\\phi ~ \\left( \\text{ASR} - \\text{OLR} \\right)  = 2 \\pi ~a^2  \\cos⁡\\phi ~ R_{TOA} $$\n",
    "\n",
    "where for convenience we write $R_{TOA} = ASR - OLR$, the net downward flux at the top of atmosphere."
   ]
  },
  {
   "cell_type": "markdown",
   "id": "dfc6b79f",
   "metadata": {},
   "source": [
    "Now integrate from the South Pole ($\\phi = -\\pi/2$):\n",
    "\n",
    "$$ \\int_{-\\pi/2}^{\\phi} \\frac{\\partial \\mathcal{H}}{\\partial \\phi^\\prime}  d\\phi^\\prime = 2 \\pi ~a^2 \\int_{-\\pi/2}^{\\phi} \\cos⁡\\phi^\\prime ~ R_{TOA} d\\phi^\\prime  $$\n",
    "\n",
    "$$ \\mathcal{H}(\\phi) - \\mathcal{H}(-\\pi/2) = 2 \\pi ~a^2 \\int_{-\\pi/2}^{\\phi} \\cos⁡\\phi^\\prime ~ R_{TOA} d\\phi^\\prime  $$"
   ]
  },
  {
   "cell_type": "markdown",
   "id": "f2884293",
   "metadata": {
    "slideshow": {
     "slide_type": "slide"
    }
   },
   "source": [
    "Our boundary condition is that the transport must go to zero at the pole. We therefore have a formula for calculating the heat transport at any latitude, by integrating the imbalance from the South Pole:\n",
    "\n",
    "$$ \\mathcal{H}(\\phi) = 2 \\pi ~a^2 \\int_{-\\pi/2}^{\\phi} \\cos⁡\\phi^\\prime ~ R_{TOA} d\\phi^\\prime  $$"
   ]
  },
  {
   "cell_type": "markdown",
   "id": "2e6c74c0",
   "metadata": {
    "slideshow": {
     "slide_type": "slide"
    }
   },
   "source": [
    "What about the boundary condition at the other pole? We must have $\\mathcal{H}(\\pi/2) = 0$ as well, because a non-zero transport at the pole is not physically meaningful.\n",
    "\n",
    "Notice that if we apply the above formula and integrate all the way to the other pole, we then have\n",
    "\n",
    "$$ \\mathcal{H}(\\pi/2) = 2 \\pi ~a^2 \\int_{-\\pi/2}^{\\pi/2} \\cos⁡\\phi^\\prime ~ R_{TOA} d\\phi^\\prime  $$"
   ]
  },
  {
   "cell_type": "markdown",
   "id": "b6667a3a",
   "metadata": {
    "slideshow": {
     "slide_type": "slide"
    }
   },
   "source": [
    "This is an integral of the radiation imbalance weighted by cosine of latitude. In other words, this is **proportional to the area-weighted global average energy imbalance**.\n",
    "\n",
    "We started by assuming that this imbalance is zero.\n",
    "\n",
    "If the **global budget is balanced**, then the physical boundary condition of no-flux at the poles is satisfied."
   ]
  },
  {
   "cell_type": "markdown",
   "id": "3fbc0b6a",
   "metadata": {
    "slideshow": {
     "slide_type": "slide"
    }
   },
   "source": [
    "____________\n",
    "\n",
    "## 6. Poleward heat transport in the CESM\n",
    "____________"
   ]
  },
  {
   "cell_type": "markdown",
   "id": "de6bab46",
   "metadata": {
    "slideshow": {
     "slide_type": "-"
    }
   },
   "source": [
    "Here we will code up a function that performs the above integration."
   ]
  },
  {
   "cell_type": "code",
   "execution_count": null,
   "id": "cd71cd9d",
   "metadata": {
    "slideshow": {
     "slide_type": "slide"
    }
   },
   "outputs": [],
   "source": [
    "def inferred_heat_transport(energy_in, lat=None, latax=None):\n",
    "    '''Compute heat transport as integral of local energy imbalance.\n",
    "    Required input:\n",
    "        energy_in: energy imbalance in W/m2, positive in to domain\n",
    "    As either numpy array or xarray.DataArray\n",
    "    If using plain numpy, need to supply these arguments:\n",
    "        lat: latitude in degrees\n",
    "        latax: axis number corresponding to latitude in the data\n",
    "            (axis over which to integrate)\n",
    "    returns the heat transport in PW.\n",
    "    Will attempt to return data in xarray.DataArray if possible.\n",
    "    '''\n",
    "    from scipy import integrate\n",
    "    from climlab import constants as const\n",
    "    if lat is None:\n",
    "        try: lat = energy_in.lat\n",
    "        except:\n",
    "            raise InputError('Need to supply latitude array if input data is not self-describing.')\n",
    "    lat_rad = np.deg2rad(lat)\n",
    "    coslat = np.cos(lat_rad)\n",
    "    field = coslat*energy_in\n",
    "    if latax is None:\n",
    "        try: latax = field.get_axis_num('lat')\n",
    "        except:\n",
    "            raise ValueError('Need to supply axis number for integral over latitude.')\n",
    "    #  result as plain numpy array\n",
    "    integral = integrate.cumtrapz(field, x=lat_rad, initial=0., axis=latax)\n",
    "    result = (1E-15 * 2 * np.math.pi * const.a**2 * integral)\n",
    "    if isinstance(field, xr.DataArray):\n",
    "        result_xarray = field.copy()\n",
    "        result_xarray.values = result\n",
    "        return result_xarray\n",
    "    else:\n",
    "        return result"
   ]
  },
  {
   "cell_type": "markdown",
   "id": "4e0902d2",
   "metadata": {
    "slideshow": {
     "slide_type": "slide"
    }
   },
   "source": [
    "Let's now use this to calculate the total northward heat transport from our control simulation with the CESM:"
   ]
  },
  {
   "cell_type": "code",
   "execution_count": null,
   "id": "d9a3cf3c",
   "metadata": {
    "slideshow": {
     "slide_type": "slide"
    }
   },
   "outputs": [],
   "source": [
    "fig, ax = plt.subplots()\n",
    "ax.plot(lat_cesm, inferred_heat_transport(ASR_cesm_zon - OLR_cesm_zon))\n",
    "ax.set_ylabel('PW')\n",
    "ax.set_xticks(ticks)\n",
    "ax.grid()\n",
    "ax.set_title('Total northward heat transport inferred from CESM control simulation')"
   ]
  },
  {
   "cell_type": "markdown",
   "id": "d97fb84d",
   "metadata": {
    "slideshow": {
     "slide_type": "slide"
    }
   },
   "source": [
    "The total heat transport is very nearly symmetric about the equator, with poleward transport of about 5 to 6 PW in both hemispheres.\n",
    "\n",
    "The transport peaks in magnitude near 35º latitude, the same latitude where we found that ASR = OLR. This is no coincidence!\n",
    "\n",
    "Equatorward of 35º (across the tropics) there is **net heating by radiation** and **net cooling by dynamics**. The opposite is true poleward of 35º."
   ]
  },
  {
   "cell_type": "markdown",
   "id": "21fd740f",
   "metadata": {
    "slideshow": {
     "slide_type": "slide"
    }
   },
   "source": [
    "### An example of a recently published observational estimate of meridional heat transport"
   ]
  },
  {
   "cell_type": "markdown",
   "id": "1e6338a3",
   "metadata": {},
   "source": [
    "<img src='../../images/Fasullo_Trenberth_2008b_Fig7.jpg'>"
   ]
  },
  {
   "cell_type": "markdown",
   "id": "27e96ac4",
   "metadata": {
    "slideshow": {
     "slide_type": "-"
    }
   },
   "source": [
    "> The ERBE period zonal mean annual cycle of the meridional energy transport in PW by (a) the atmosphere and ocean as inferred from ERBE $R_T$, NRA $\\delta$A_E/$\\delta$t, and GODAS $\\delta$O_E/$\\delta$t; (b) the atmosphere based on NRA; and (c) by the ocean as implied by ERBE + NRA $F_S$ and GODAS $\\delta$O_E/$\\delta$t. Stippling and hatching in (a)–(c) represent regions and times of year in which the standard deviation of the monthly mean values among estimates, some of which include the CERES period (see text), exceeds 0.5 and 1.0 PW, respectively. (d) The median annual mean transport by latitude for the total (gray), atmosphere (red), and ocean (blue) accompanied with the associated $\\pm2\\sigma$ range (shaded).\n",
    "\n",
    "This is a reproduction of Figure 7 from Fasullo and Trenberth (2008), \"The Annual Cycle of the Energy Budget. Part II: Meridional Structures and Poleward Transports\", J. Climate 21, doi:10.1175/2007JCLI1936.1"
   ]
  },
  {
   "cell_type": "markdown",
   "id": "b15d4632",
   "metadata": {
    "slideshow": {
     "slide_type": "slide"
    }
   },
   "source": [
    "This figure shows the breakdown of the heat transport by **season** as well as the **partition between the atmosphere and ocean**.\n",
    "\n",
    "Focussing just on the total, annual transport in panel (d) (black curve), we see that is quite consistent with what we computed from the CESM simulation."
   ]
  },
  {
   "cell_type": "markdown",
   "id": "4d198f3c",
   "metadata": {
    "slideshow": {
     "slide_type": "skip"
    }
   },
   "source": [
    "____________\n",
    "\n",
    "## Credits\n",
    "\n",
    "This notebook is part of [The Climate Laboratory](https://brian-rose.github.io/ClimateLaboratoryBook), an open-source textbook developed and maintained by [Brian E. J. Rose](http://www.atmos.albany.edu/facstaff/brose/index.html), University at Albany.\n",
    "\n",
    "It is licensed for free and open consumption under the\n",
    "[Creative Commons Attribution 4.0 International (CC BY 4.0)](https://creativecommons.org/licenses/by/4.0/) license.\n",
    "\n",
    "Development of these notes and the [climlab software](https://github.com/brian-rose/climlab) is partially supported by the National Science Foundation under award AGS-1455071 to Brian Rose. Any opinions, findings, conclusions or recommendations expressed here are mine and do not necessarily reflect the views of the National Science Foundation.\n",
    "____________"
   ]
  },
  {
   "cell_type": "code",
   "execution_count": null,
   "id": "3698421b",
   "metadata": {
    "slideshow": {
     "slide_type": "skip"
    }
   },
   "outputs": [],
   "source": []
  }
 ],
 "metadata": {
  "jupytext": {
   "text_representation": {
    "extension": ".md",
    "format_name": "myst",
    "format_version": 0.12,
    "jupytext_version": "1.6.0"
   }
  },
  "kernelspec": {
   "display_name": "Python 3",
   "language": "python",
   "name": "python3"
  },
  "source_map": [
   14,
   20,
   30,
   43,
   50,
   64,
   86,
   98,
   105,
   117,
   123,
   147,
   151,
   162,
   175,
   179,
   196,
   211,
   215,
   219,
   223,
   227,
   231,
   237,
   241,
   247,
   254,
   258,
   268,
   272,
   276,
   287,
   313,
   321,
   329,
   340,
   344,
   352,
   360,
   364,
   377,
   386,
   391,
   408,
   416,
   422,
   444,
   450,
   462,
   466,
   482,
   488,
   495,
   505,
   511,
   519,
   525,
   529,
   539,
   549,
   558,
   562,
   570,
   592,
   600,
   606,
   614,
   622,
   629,
   633,
   674,
   678,
   691,
   699,
   703,
   707,
   713,
   719,
   733
  ]
 },
 "nbformat": 4,
 "nbformat_minor": 5
}