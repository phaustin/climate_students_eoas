{
 "cells": [
  {
   "cell_type": "markdown",
   "id": "bf4ab898",
   "metadata": {
    "slideshow": {
     "slide_type": "slide"
    }
   },
   "source": [
    "(nb:surfEB)=\n",
    "# The surface energy balance\n",
    "\n",
    "This notebook is part of [The Climate Laboratory](https://brian-rose.github.io/ClimateLaboratoryBook) by [Brian E. J. Rose](http://www.atmos.albany.edu/facstaff/brose/index.html), University at Albany."
   ]
  },
  {
   "cell_type": "markdown",
   "id": "7d7fa0de",
   "metadata": {
    "slideshow": {
     "slide_type": "slide"
    }
   },
   "source": [
    "____________\n",
    "<a id='section1'></a>\n",
    "\n",
    "## 1. Energy exchange mechanisms at the Earth's surface\n",
    "____________"
   ]
  },
  {
   "cell_type": "markdown",
   "id": "ac4d380e",
   "metadata": {
    "slideshow": {
     "slide_type": "slide"
    }
   },
   "source": [
    "The surface of the Earth is the boundary between the atmosphere and the land, ocean, or ice. Understanding the energy fluxes across the surface are very important for three main reasons:\n",
    "\n",
    "1. We are most interested in the climate at the surface because we live at the surface.\n",
    "2. The surface energy budget determines how much energy is available to evaporate water and moisten the atmosphere.\n",
    "3. Air-sea energy fluxes set the thermal structure of the oceans, which in turn act to redistribute energy around the planet, with many important consequences for climate."
   ]
  },
  {
   "cell_type": "markdown",
   "id": "bafd7165",
   "metadata": {
    "slideshow": {
     "slide_type": "slide"
    }
   },
   "source": [
    "The energy budget at the surface is more complex that the budget at the top of the atmosphere. At the TOA the only energy transfer mechanisms are radiative (shortwave and longwave). At the surface, in addition to radiation we need to consider fluxes of energy by conduction and by convection of heat and moisture through turbulent fluid motion."
   ]
  },
  {
   "cell_type": "markdown",
   "id": "e1db5036",
   "metadata": {
    "slideshow": {
     "slide_type": "slide"
    }
   },
   "source": [
    "### Major terms in the surface energy budget\n",
    "\n",
    "We will denote the **net upward energy flux at the surface** as $F_S$."
   ]
  },
  {
   "cell_type": "markdown",
   "id": "ea56b8d5",
   "metadata": {
    "slideshow": {
     "slide_type": "slide"
    }
   },
   "source": [
    "As we mentioned back in [Lecture 15 on heat transport](./Lecture15 -- Heat transport.ipynb), there are four principal contributions to $F_S$:\n",
    "\n",
    "1. Shortwave radiation\n",
    "2. Longwave radiation\n",
    "3. Sensible heat flux\n",
    "4. Evaporation or latent heat flux"
   ]
  },
  {
   "cell_type": "markdown",
   "id": "9fdd4dbb",
   "metadata": {
    "slideshow": {
     "slide_type": "slide"
    }
   },
   "source": [
    "Wherever $F_S \\ne 0$, there is a net flux of energy between the atmosphere and the surface below. This implies either that there is heat storage / release occuring below the surface (e.g. warming or cooling of water, melting of snow and ice), and/or there is horizontal heat transport by fluid motions occuring below the surface (ocean circulation, groundwater flow)."
   ]
  },
  {
   "cell_type": "markdown",
   "id": "64a4efd8",
   "metadata": {
    "slideshow": {
     "slide_type": "slide"
    }
   },
   "source": [
    "### Minor terms in the surface energy budget\n",
    "\n",
    "All of these terms are small globally but can be significant locally or seasonally.\n",
    "\n",
    "- Latent heat of fusion required for melting ice and snow\n",
    "- Conversion of the kinetic energy of winds and waves to thermal energy\n",
    "- Heat transport by precipitation, if precipitation is at a different temperature than the surface\n",
    "- Biological uptake of solar energy through photosynthesis\n",
    "- Biological release of energy through oxidation (respiration, decay, fires)\n",
    "- Geothermal heat sources (hot springs, volcanoes, etc.)\n",
    "- Anthropogenic heat released through fossil fuel burning and nuclear power generation."
   ]
  },
  {
   "cell_type": "markdown",
   "id": "95ca3ff1",
   "metadata": {
    "slideshow": {
     "slide_type": "slide"
    }
   },
   "source": [
    "____________\n",
    "<a id='section2'></a>\n",
    "\n",
    "## 2. The surface energy budget in CESM simulations\n",
    "____________"
   ]
  },
  {
   "cell_type": "markdown",
   "id": "c3858bfa",
   "metadata": {
    "slideshow": {
     "slide_type": "slide"
    }
   },
   "source": [
    "We will examine the surface budget in the CESM slab ocean simulations. The advantage of looking at surface fluxes in a model rather than observations is that the model fluxes are completely consistent with the model climate, so that the net flux $F_S$ will be a meaningful measure of the heat storage in the system.\n",
    "\n",
    "The model also gives us an opportunity to look at how the surface budget reponds to global warming under a doubling of CO$_2$."
   ]
  },
  {
   "cell_type": "markdown",
   "id": "c46f8396",
   "metadata": {
    "slideshow": {
     "slide_type": "slide"
    }
   },
   "source": [
    "### First, load the data"
   ]
  },
  {
   "cell_type": "code",
   "execution_count": null,
   "id": "6d200de9",
   "metadata": {
    "slideshow": {
     "slide_type": "-"
    }
   },
   "outputs": [],
   "source": [
    "%matplotlib inline\n",
    "import numpy as np\n",
    "import matplotlib.pyplot as plt\n",
    "import xarray as xr\n",
    "from climlab import constants as const"
   ]
  },
  {
   "cell_type": "code",
   "execution_count": null,
   "id": "c7195136",
   "metadata": {
    "slideshow": {
     "slide_type": "-"
    }
   },
   "outputs": [],
   "source": [
    "datapath = \"http://thredds.atmos.albany.edu:8080/thredds/dodsC/CESMA/\"\n",
    "\n",
    "topo = xr.open_dataset(datapath+'som_input/USGS-gtopo30_1.9x2.5_remap_c050602.nc')\n",
    "\n",
    "runlist=['control','2xCO2']\n",
    "runnames = {}\n",
    "runnames['control'] = '1850_f19'\n",
    "runnames['2xCO2'] = '1850_2xCO2'\n",
    "runs = {}\n",
    "for run in runlist:\n",
    "    runstr = 'som_' + runnames[run]\n",
    "    path = datapath + runstr + '/clim/' + runstr + '.cam.h0.clim.nc'\n",
    "    runs[run] = xr.open_dataset(path, decode_times=False)"
   ]
  },
  {
   "cell_type": "code",
   "execution_count": null,
   "id": "c2a7581a",
   "metadata": {},
   "outputs": [],
   "source": [
    "lat = runs['control'].lat\n",
    "lon = runs['control'].lon\n",
    "lev = runs['control'].lev"
   ]
  },
  {
   "cell_type": "markdown",
   "id": "2f0c48ef",
   "metadata": {
    "slideshow": {
     "slide_type": "slide"
    }
   },
   "source": [
    "### Annual mean surface energy budget"
   ]
  },
  {
   "cell_type": "code",
   "execution_count": null,
   "id": "18b1e61b",
   "metadata": {},
   "outputs": [],
   "source": [
    "#  Surface energy budget terms, all defined as positive up (from ocean to atmosphere)\n",
    "surface_budget = {}\n",
    "\n",
    "for (name, run) in runs.items():\n",
    "    budget = xr.Dataset()\n",
    "    budget['LHF'] = run.LHFLX\n",
    "    budget['SHF'] = run.SHFLX\n",
    "    budget['LWsfc'] = run.FLNS\n",
    "    budget['LWsfc_clr'] = run.FLNSC\n",
    "    budget['SWsfc'] = -run.FSNS\n",
    "    budget['SWsfc_clr'] = -run.FSNSC\n",
    "    budget['SnowFlux'] = ((run.PRECSC+run.PRECSL)\n",
    "                           *const.rho_w*const.Lhfus)\n",
    "    # net upward radiation from surface\n",
    "    budget['NetRad'] = budget['LWsfc'] + budget['SWsfc']  \n",
    "    budget['NetRad_clr'] = budget['LWsfc_clr'] + budget['SWsfc_clr']  \n",
    "    # net upward surface heat flux\n",
    "    budget['Net'] = (budget['NetRad'] + budget['LHF'] + \n",
    "                     budget['SHF'] + budget['SnowFlux'])\n",
    "    surface_budget[name] = budget"
   ]
  },
  {
   "cell_type": "markdown",
   "id": "7f57dc47",
   "metadata": {
    "slideshow": {
     "slide_type": "slide"
    }
   },
   "source": [
    "### Compute anomalies for all terms"
   ]
  },
  {
   "cell_type": "code",
   "execution_count": null,
   "id": "565f623a",
   "metadata": {
    "slideshow": {
     "slide_type": "-"
    }
   },
   "outputs": [],
   "source": [
    "#   Here we take advantage of xarray!\n",
    "#   We can simply subtract the two xarray.Dataset objects \n",
    "#   to get anomalies for every term\n",
    "surface_budget['anom'] = surface_budget['2xCO2'] - surface_budget['control']"
   ]
  },
  {
   "cell_type": "code",
   "execution_count": null,
   "id": "e8de90c0",
   "metadata": {},
   "outputs": [],
   "source": [
    "#  Also compute zonal averages\n",
    "zonal_budget = {}\n",
    "for run, budget in surface_budget.items():\n",
    "    zonal_budget[run] = budget.mean(dim='lon')"
   ]
  },
  {
   "cell_type": "markdown",
   "id": "e919515f",
   "metadata": {
    "slideshow": {
     "slide_type": "slide"
    }
   },
   "source": [
    "### Plot the annual mean net upward flux $F_S$ (control and anomaly after warming)"
   ]
  },
  {
   "cell_type": "code",
   "execution_count": null,
   "id": "38cdd3c0",
   "metadata": {
    "slideshow": {
     "slide_type": "skip"
    }
   },
   "outputs": [],
   "source": [
    "fig, axes = plt.subplots(1,2, figsize=(16,5))\n",
    "cax1 = axes[0].pcolormesh(lon, lat, surface_budget['control'].Net.mean(dim='time'),\n",
    "                          cmap=plt.cm.seismic, vmin=-200., vmax=200. )\n",
    "axes[0].set_title('Annual mean net surface heat flux (+ up) - CESM control')\n",
    "cax2 = axes[1].pcolormesh(lon, lat, surface_budget['anom'].Net.mean(dim='time'),\n",
    "                    cmap=plt.cm.seismic, vmin=-20., vmax=20. )\n",
    "fig.colorbar(cax1, ax=axes[0]); fig.colorbar(cax2, ax=axes[1])\n",
    "axes[1].set_title('Anomaly after CO2 doubling')\n",
    "for ax in axes:\n",
    "    ax.set_xlim(0, 360); ax.set_ylim(-90, 90); ax.contour( lon, lat, topo.LANDFRAC, [0.5], colors='k');"
   ]
  },
  {
   "cell_type": "markdown",
   "id": "2b4da69a",
   "metadata": {
    "slideshow": {
     "slide_type": "slide"
    }
   },
   "source": [
    "Some notable points about the control state:\n",
    "\n",
    "- The net flux over all land surfaces is very close to zero!\n",
    "- In the long-term annual mean, a non-zero $F_S$ must be balanced by heat transport. \n",
    "- The spatial pattern of $F_S$ over the oceans is essentially just the prescribed q-flux that we have imposed on the slab ocean to represent ocean heat transport.\n",
    "- We have looked at maps like this before, back in [Lecture 15](./Lecture15 -- Heat transport.ipynb) and [Assignment 2](../Assignments/Assignment02 -- Introducing CESM.ipynb).\n",
    "- Net heat uptake by the oceans occurs mostly along the equator and the cold tongues on the eastern sides of the tropical basins.\n",
    "- Net heat release from oceans to atmosphere occurs mostly in mid- to high latitudes. Hot spots include the Gulf Stream and Kuroshio regions on the western sides of the mid-latitude basins, as well as the subpolar North Atlantic. These features are largely determined by ocean dynamics."
   ]
  },
  {
   "cell_type": "markdown",
   "id": "a3bad853",
   "metadata": {
    "slideshow": {
     "slide_type": "slide"
    }
   },
   "source": [
    "**After greenhouse warming**:\n",
    "\n",
    "- The net change in $F_S$ is very small in most locations. \n",
    "- This indicates that the model has reached quasi-equilibrium. Non-zero changes in $F_S$ would indicate either\n",
    "    - heat storage below the surface\n",
    "    - changes in ocean heat transport (not permitted in a slab ocean model).\n",
    "- Non-zero changes are found in areas where the sea ice cover is changing in the model."
   ]
  },
  {
   "cell_type": "markdown",
   "id": "d31cf2d1",
   "metadata": {
    "slideshow": {
     "slide_type": "slide"
    }
   },
   "source": [
    "### Variation of energy balance components with latitude"
   ]
  },
  {
   "cell_type": "code",
   "execution_count": null,
   "id": "760f2fa2",
   "metadata": {
    "slideshow": {
     "slide_type": "skip"
    }
   },
   "outputs": [],
   "source": [
    "fieldlist = ['SWsfc', 'LWsfc', 'LHF', 'SHF', 'Net']\n",
    "fig, axes = plt.subplots(1,2, figsize=(16,5))\n",
    "for ax, run in zip(axes, ['control', 'anom']):\n",
    "    for field in fieldlist:\n",
    "        ax.plot(lat, zonal_budget[run][field].mean(dim='time'), label=field)\n",
    "    ax.set_xlim(-90, 90); ax.grid(); ax.legend()\n",
    "axes[0].set_title('Components of ANNUAL surface energy budget (+ up) - CESM control')\n",
    "axes[1].set_title('Anomaly after CO2 doubling');"
   ]
  },
  {
   "cell_type": "markdown",
   "id": "11981368",
   "metadata": {
    "slideshow": {
     "slide_type": "slide"
    }
   },
   "source": [
    "In these graphs, the curve labeled \"Net\" is the net flux $F_S$. It is just the zonal average of the maps from the previous figure, and shows the ocean heat uptake at the equator and release in mid- to high latitudes.\n",
    "\n",
    "More interestingly, these graphs show the contribution of the various terms to $F_S$. They are all plotted as positive up. A **negative** value thus indicates **heating of the surface**, and a **positive** value indicates a **cooling of the surface**."
   ]
  },
  {
   "cell_type": "markdown",
   "id": "b7c368f6",
   "metadata": {
    "slideshow": {
     "slide_type": "slide"
    }
   },
   "source": [
    "Key points about the control simulation:\n",
    "\n",
    "- Solar radiation acts to warm the surface everywhere. \n",
    "- Note that this is a net shortwave flux, so it is the amount that is actually absorbed by the surface after accounting for the reflected fraction.\n",
    "- All other mechanisms act to cool the surface. \n",
    "- The dominant balance across the **tropics** is between **warming by solar radiation** and **cooling by evaporation** (latent heat flux or LHF).\n",
    "- The latent heat flux decreases poleward.\n",
    "- Latent heat flux is dominant over sensible heat flux at most latitudes except close to the poles.\n",
    "- The net longwave radiation also acts to cool the surface.\n",
    "- This is the residual between the surface emissions (essentially $\\sigma~T_s^4$) and the back-radiation from the atmosphere."
   ]
  },
  {
   "cell_type": "markdown",
   "id": "9c5adce9",
   "metadata": {
    "slideshow": {
     "slide_type": "slide"
    }
   },
   "source": [
    "**After greenhouse warming**\n",
    "\n",
    "- The anomaly in net upward longwave radiation is negative at most latitudes.\n",
    "- This implies that the downwelling back-radiation increases faster than the upwelling surface emissions.\n",
    "- This is a signature of greenhouse warming! Both the upwelling and downwelling beams increase with warming. But the downwelling beam also increases because of the CO$_2$-induced increase in emissivity of the atmosphere.\n",
    "- So the surface is warmed by excess longwave radiation.\n",
    "- This warming is largely balanced by increased evaporation (red curve)!\n",
    "- There are also significant changes in shortwave radiation. We could use the modeled clear-sky diagnostics to infer which of these changes are due to clouds.\n",
    "- The negative shortwave anomalies in high latitudes are consistent with surface albedo feedback and loss of ice and snow."
   ]
  },
  {
   "cell_type": "markdown",
   "id": "27976303",
   "metadata": {
    "slideshow": {
     "slide_type": "slide"
    }
   },
   "source": [
    "###  Seasonal variations\n",
    "\n",
    "We will compute the budgets for the months of January and July, and plot their differences."
   ]
  },
  {
   "cell_type": "code",
   "execution_count": null,
   "id": "1bc685a3",
   "metadata": {},
   "outputs": [],
   "source": [
    "#  July minus January\n",
    "julminusjan_budget = {}\n",
    "for name, budget in surface_budget.items():\n",
    "    #  xarray.Dataset objects let you \"select\" a subset in various ways\n",
    "    #  Here we are using the integer time index (0-11)\n",
    "    julminusjan_budget[name] = budget.isel(time=6) - budget.isel(time=0)"
   ]
  },
  {
   "cell_type": "code",
   "execution_count": null,
   "id": "d25acfb3",
   "metadata": {
    "slideshow": {
     "slide_type": "skip"
    }
   },
   "outputs": [],
   "source": [
    "fieldlist = ['SWsfc', 'LWsfc', 'LHF', 'SHF', 'Net']\n",
    "fig,axes = plt.subplots(1,2,figsize=(16,5))\n",
    "for field in fieldlist:\n",
    "    axes[0].plot(lat, julminusjan_budget['control'][field].mean(dim='lon'), label=field)\n",
    "axes[0].set_title('Components of JUL-JAN surface energy budget (+ up) - CESM control')\n",
    "for field in fieldlist:\n",
    "    axes[1].plot(lat, julminusjan_budget['anom'][field].mean(dim='lon'), label=field)\n",
    "axes[1].set_title('Anomaly after CO2 doubling')\n",
    "for ax in axes:\n",
    "    ax.set_xlim(-90, 90)\n",
    "    ax.grid()\n",
    "    ax.legend()"
   ]
  },
  {
   "cell_type": "markdown",
   "id": "39eace20",
   "metadata": {},
   "source": [
    "Seasonally, the dominant balance by far is between solar radiation and heat storage!"
   ]
  },
  {
   "cell_type": "markdown",
   "id": "b588fcad",
   "metadata": {
    "slideshow": {
     "slide_type": "slide"
    }
   },
   "source": [
    "____________\n",
    "<a id='section3'></a>\n",
    "\n",
    "## 3. Sensible and Latent Heat Fluxes in the boundary layer\n",
    "____________\n",
    "\n",
    "These notes largely follow Chapter 4 of Hartmann (1994) \"Global Physical Climatology\", Academic Press."
   ]
  },
  {
   "cell_type": "markdown",
   "id": "f54540bf",
   "metadata": {
    "slideshow": {
     "slide_type": "slide"
    }
   },
   "source": [
    "Turbulent fluxes of heat: eddy fluxes of heat and moisture at some level in the atmospheric boundary layer\n",
    "\n",
    "$$ \\text{SH} = c_p ~\\rho ~ \\overline{w^\\prime T^\\prime} $$\n",
    "\n",
    "$$ \\text{LE} = L ~\\rho ~\\overline{w^\\prime q^\\prime} $$\n",
    "\n",
    "where $c_p$ is the specific heat of air at constant pressure, $L$ is the latent heat of vaporization, $\\text{SH}$ is the sensible heat flux and $\\text{LE}$ is the latent heat flux."
   ]
  },
  {
   "cell_type": "markdown",
   "id": "39a21359",
   "metadata": {
    "slideshow": {
     "slide_type": "slide"
    }
   },
   "source": [
    "### Bulk aerodynamic formulas\n",
    "\n",
    "From theory of boundary layer turbulence, we suppose that the eddy heat fluxes is related to boundary layer temperature gradients, as well as the mean wind speed:\n",
    "\n",
    "$$ \\text{SH} = c_p ~\\rho ~ C_D ~ U \\left( T_s - T_a \\right) $$\n",
    "\n",
    "where $T_s$ is the surface temperature and $T_a$ is the air temperature at some reference height above the surface. $U$ is the wind speed at the reference height, and $C_D$ is a dimensionless aerodynamic drag coefficient.\n",
    "\n",
    "$C_D$ will depend, among other things, on the roughness of the surface."
   ]
  },
  {
   "cell_type": "markdown",
   "id": "353fe5e0",
   "metadata": {
    "slideshow": {
     "slide_type": "slide"
    }
   },
   "source": [
    "Similarly, we assume that the latent heat flux is related to boundary layer moisture gradients:\n",
    "\n",
    "$$ \\text{LE} = L ~\\rho ~ C_D ~ U \\left( q_s - q_a \\right) $$\n",
    "\n",
    "where $q_s$ is the specific humidity of air immediately above the surface, and $q_a$ is the specific humidity at the reference height.\n",
    "\n",
    "In general the transfer coefficients $C_D$ could be different for sensible and latent heat flux, but empirically they are found to be very similar to each other. We will assume they are equal here."
   ]
  },
  {
   "cell_type": "markdown",
   "id": "490bdfc9",
   "metadata": {
    "slideshow": {
     "slide_type": "slide"
    }
   },
   "source": [
    "### The Bowen ratio\n",
    "\n",
    "The **Bowen ratio** is a dimensionless number defined as \n",
    "\n",
    "$$  B_o = \\frac{\\text{SH}}{\\text{LE}} $$\n",
    "\n",
    "i.e. the ratio of **sensible heat loss** to **evaporative cooling**.\n",
    "\n",
    "From the above plots, the Bowen ratio tends to be small in the low latitudes."
   ]
  },
  {
   "cell_type": "markdown",
   "id": "998110d3",
   "metadata": {
    "slideshow": {
     "slide_type": "slide"
    }
   },
   "source": [
    "### The Bowen ratio for wet surfaces\n",
    "\n",
    "Over a water surface or a very wet land surface, we may assume that the mixing ratio of water vapor at the surface is equal to the saturation mixing ratio $q^*$ at the temperature of the surface:\n",
    "\n",
    "$$ q_s = q^*(T_s) $$\n",
    "\n",
    "Recall that the saturation vapor pressure $q^*$ is a sensitive function of temperature through the Clausius-Claperyon relation. (It also depends on pressure)"
   ]
  },
  {
   "cell_type": "markdown",
   "id": "101e5e84",
   "metadata": {
    "slideshow": {
     "slide_type": "slide"
    }
   },
   "source": [
    "Let's approximate the mixing ratio for **saturated air** at the reference height through a first-order Taylor series expansion:\n",
    "\n",
    "$$ q_a^* \\approx q_s^*(T_s) + \\frac{\\partial q^*}{\\partial T} \\left( T_a - T_s \\right) $$"
   ]
  },
  {
   "cell_type": "markdown",
   "id": "81e45c01",
   "metadata": {
    "slideshow": {
     "slide_type": "slide"
    }
   },
   "source": [
    "The actual mixing ratio at the reference height can be expressed as\n",
    "\n",
    "$$ q_a = r ~ q_a^* $$\n",
    "\n",
    "where $r$ is the relative humidity at that level."
   ]
  },
  {
   "cell_type": "markdown",
   "id": "6d3259b0",
   "metadata": {
    "slideshow": {
     "slide_type": "slide"
    }
   },
   "source": [
    "Then we have an appoximation for $q_a$ in terms of temperature gradients:\n",
    "\n",
    "$$ q_a \\approx r \\left( q_s^*(T_s) + \\frac{\\partial q^*}{\\partial T} \\left( T_a - T_s \\right) \\right) $$"
   ]
  },
  {
   "cell_type": "markdown",
   "id": "4685781b",
   "metadata": {
    "slideshow": {
     "slide_type": "slide"
    }
   },
   "source": [
    "Substituting this into the bulk formula for latent heat flux, we get\n",
    "\n",
    "$$ \\text{LE} \\approx L ~\\rho ~ C_D ~ U \\left( q_s^* - r \\left( q_s^* + \\frac{\\partial q^*}{\\partial T} \\left( T_a - T_s \\right) \\right) \\right) $$\n",
    "\n",
    "or, rearranging a bit,\n",
    "\n",
    "$$ \\text{LE} \\approx L ~\\rho ~ C_D ~ U \\left( (1-r) ~ q_s^* + r \\frac{\\partial q^*}{\\partial T} \\left( T_s - T_a \\right) \\right)  $$"
   ]
  },
  {
   "cell_type": "markdown",
   "id": "f231cbe1",
   "metadata": {
    "slideshow": {
     "slide_type": "slide"
    }
   },
   "source": [
    "The Bowen ratio is thus\n",
    "\n",
    "$$ B_o = \\frac{c_p}{ L \\left( \\frac{(1-r)}{\\left( T_s - T_a \\right)} q_s^* + r \\frac{\\partial q^*}{\\partial T} \\right)} $$"
   ]
  },
  {
   "cell_type": "markdown",
   "id": "3d2b2e24",
   "metadata": {
    "slideshow": {
     "slide_type": "slide"
    }
   },
   "source": [
    "### The equilibrium Bowen ratio (for saturated air)\n",
    "\n",
    "Notice that **if the boundary layer air is saturated**, then $r=1$ and the Bowen ratio takes on a special value\n",
    "\n",
    "$$ B_e = \\frac{c_p}{ L \\frac{\\partial q^*}{\\partial T} } $$\n",
    "\n",
    "When the surface and the air at the reference level are saturated, the Bowen ratio approaches the value $B_e$, which is called the equilibrium Bowen ratio. We presume that the flux of moisture from the boundary layer to the free atmosphere is sufficient to just balance the upward flux of moisture from the surface so that the humidity at the reference height is in equilibrium at the saturation value."
   ]
  },
  {
   "cell_type": "markdown",
   "id": "efe81e2d",
   "metadata": {
    "slideshow": {
     "slide_type": "slide"
    }
   },
   "source": [
    "Recall that from the Clausius-Claperyon relation, the rate of change of the saturation mixing ratio is itself a strong function of temperature:\n",
    "\n",
    "$$ \\frac{\\partial q^*}{\\partial T} = q^*(T) \\frac{L}{R_v ~ T^2} $$\n",
    "\n",
    "Here the quasi-exponential dependence of $q^*$ on $T$ far outweighs the inverse square dependence, so the **equilibrium Bowen ratio decreases roughly exponentially with temperature**."
   ]
  },
  {
   "cell_type": "markdown",
   "id": "23cc0fcf",
   "metadata": {
    "slideshow": {
     "slide_type": "slide"
    }
   },
   "source": [
    "The following code reproduces Figure 4.10 of Hartmann (1994)."
   ]
  },
  {
   "cell_type": "code",
   "execution_count": null,
   "id": "f8002291",
   "metadata": {},
   "outputs": [],
   "source": [
    "from climlab.utils.thermo import qsat\n",
    "T = np.linspace(-40, 40) + const.tempCtoK\n",
    "qstar = qsat(T, const.ps)  # in kg / kg\n",
    "\n",
    "def Be(T):\n",
    "    qstar = qsat(T, const.ps)  # in kg / kg\n",
    "    dqstardT = qstar * const.Lhvap / const.Rv / T**2\n",
    "    return const.cp / const.Lhvap / dqstardT"
   ]
  },
  {
   "cell_type": "code",
   "execution_count": null,
   "id": "dd66058c",
   "metadata": {
    "slideshow": {
     "slide_type": "slide"
    }
   },
   "outputs": [],
   "source": [
    "fig, ax = plt.subplots()\n",
    "ax.semilogy(T + const.tempKtoC, qstar*1000, label='$q^*$')\n",
    "ax.semilogy(T + const.tempKtoC, Be(T), label='$B_e$')\n",
    "ax.grid()\n",
    "ax.set_xlabel('Temperature (degC)')\n",
    "ax.legend(loc='upper center')\n",
    "ax.set_title('Saturation specific humidity (g/kg) and equilibrium Bowen ratio');"
   ]
  },
  {
   "cell_type": "markdown",
   "id": "0eb68655",
   "metadata": {
    "slideshow": {
     "slide_type": "slide"
    }
   },
   "source": [
    "- Equilibrium Bowen ratio is near 1 at 0ºC, and decreases to about 0.2 at 30ºC.\n",
    "- As relative humidity is decreased from 1 to smaller values, **evaporative cooling increases**.\n",
    "- The equilibrium Bowen ratio is the **maximum possible Bowen ratio for a wet surface**.\n",
    "- Actual Bowen ratio over a wet surface will generally be smaller than $B_e$, because the air is usually not saturated.\n",
    "- Because of the strong temperature dependence of the saturation specific humidity:\n",
    "    - Evaporative cooling (latent heat flux) dominates over sensible cooling of wet surfaces at **tropical** temperatures.\n",
    "    - Sensible heat flux becomes important wherever the surface is either **cold** or **dry**."
   ]
  },
  {
   "cell_type": "markdown",
   "id": "658516d7",
   "metadata": {
    "slideshow": {
     "slide_type": "slide"
    }
   },
   "source": [
    "____________\n",
    "<a id='section4'></a>\n",
    "\n",
    "## 4. Bowen ratio in CESM simulations\n",
    "____________"
   ]
  },
  {
   "cell_type": "code",
   "execution_count": null,
   "id": "479bf703",
   "metadata": {
    "slideshow": {
     "slide_type": "skip"
    }
   },
   "outputs": [],
   "source": [
    "Bo_control = (surface_budget['control'].SHF.mean(dim='time') / \n",
    "              surface_budget['control'].LHF.mean(dim='time'))\n",
    "Be_control = Be(runs['control'].TS.mean(dim='time'))\n",
    "\n",
    "fig,axes = plt.subplots(1,3,figsize=(16,4))\n",
    "cax1 = axes[0].pcolormesh(lon, lat, Bo_control,\n",
    "                    vmin=0., vmax=5. )\n",
    "fig.colorbar(cax1, ax=axes[0])\n",
    "axes[0].set_title('$B_o$ (CESM control)', fontsize=20)\n",
    "cax2 = axes[1].pcolormesh(lon, lat, Be_control,\n",
    "                    vmin=0., vmax=5. )\n",
    "fig.colorbar(cax2, ax=axes[1])\n",
    "axes[1].set_title('$B_e$ (CESM control)', fontsize=20)\n",
    "cax3 = axes[2].pcolormesh(lon, lat, (Bo_control - Be_control),\n",
    "                    cmap='seismic', vmin=-10., vmax=10. )\n",
    "fig.colorbar(cax3, ax=axes[2])\n",
    "axes[2].set_title('$B_o - B_e$ (CESM control)', fontsize=20)\n",
    "for ax in axes:\n",
    "    ax.set_xlim(0, 360)\n",
    "    ax.set_ylim(-90, 90)\n",
    "    ax.contour( lon, lat, topo.variables['LANDFRAC'][:], [0.5], colors='k');"
   ]
  },
  {
   "cell_type": "markdown",
   "id": "439c5bd6",
   "metadata": {
    "slideshow": {
     "slide_type": "-"
    }
   },
   "source": [
    "On the difference plot, the blue colors indicate the actual Bowen ratio is smaller than the equilibrium Bowen ratio. This will typically occur for **wet surfaces** with **undersaturated air**.\n",
    "\n",
    "The red colors indicate the actual Bowen ratio is larger than the equilibrium Bowen ratio. This typically occurs for **dry surfaces** where there is not enough water available to satisfy the energetic demand for evaporation."
   ]
  },
  {
   "cell_type": "markdown",
   "id": "848dd26f",
   "metadata": {
    "slideshow": {
     "slide_type": "skip"
    }
   },
   "source": [
    "____________\n",
    "\n",
    "## Credits\n",
    "\n",
    "This notebook is part of [The Climate Laboratory](https://brian-rose.github.io/ClimateLaboratoryBook), an open-source textbook developed and maintained by [Brian E. J. Rose](http://www.atmos.albany.edu/facstaff/brose/index.html), University at Albany.\n",
    "\n",
    "It is licensed for free and open consumption under the\n",
    "[Creative Commons Attribution 4.0 International (CC BY 4.0)](https://creativecommons.org/licenses/by/4.0/) license.\n",
    "\n",
    "Development of these notes and the [climlab software](https://github.com/brian-rose/climlab) is partially supported by the National Science Foundation under award AGS-1455071 to Brian Rose. Any opinions, findings, conclusions or recommendations expressed here are mine and do not necessarily reflect the views of the National Science Foundation.\n",
    "____________"
   ]
  },
  {
   "cell_type": "code",
   "execution_count": null,
   "id": "cf0764da",
   "metadata": {
    "slideshow": {
     "slide_type": "skip"
    }
   },
   "outputs": [],
   "source": []
  }
 ],
 "metadata": {
  "jupytext": {
   "text_representation": {
    "extension": ".md",
    "format_name": "myst",
    "format_version": 0.12,
    "jupytext_version": "1.6.0"
   }
  },
  "kernelspec": {
   "display_name": "Python 3",
   "language": "python",
   "name": "python3"
  },
  "source_map": [
   14,
   20,
   28,
   36,
   40,
   46,
   55,
   59,
   73,
   81,
   87,
   91,
   103,
   124,
   130,
   134,
   157,
   161,
   172,
   179,
   183,
   200,
   211,
   221,
   225,
   240,
   246,
   259,
   271,
   277,
   286,
   303,
   307,
   317,
   327,
   339,
   349,
   361,
   371,
   377,
   385,
   391,
   401,
   408,
   418,
   426,
   430,
   441,
   455,
   465,
   473,
   501,
   507,
   521
  ]
 },
 "nbformat": 4,
 "nbformat_minor": 5
}