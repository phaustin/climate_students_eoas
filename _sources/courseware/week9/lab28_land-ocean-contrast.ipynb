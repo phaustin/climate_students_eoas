{
 "cells": [
  {
   "cell_type": "markdown",
   "id": "9a961e19",
   "metadata": {},
   "source": [
    "(nb:landocean)=\n",
    "# Land-Ocean contrasts under climate change\n",
    "\n",
    "This notebook is part of [The Climate Laboratory](https://brian-rose.github.io/ClimateLaboratoryBook) by [Brian E. J. Rose](http://www.atmos.albany.edu/facstaff/brose/index.html), University at Albany."
   ]
  },
  {
   "cell_type": "markdown",
   "id": "7824c186",
   "metadata": {},
   "source": [
    "## A recent tweet that caught my attention..."
   ]
  },
  {
   "cell_type": "code",
   "execution_count": null,
   "id": "b14a9f9a",
   "metadata": {},
   "outputs": [],
   "source": [
    "%%HTML\n",
    "<blockquote class=\"twitter-tweet\" data-lang=\"en\"><p lang=\"en\" dir=\"ltr\">actual trends <a href=\"https://t.co/abnDJGeawr\">pic.twitter.com/abnDJGeawr</a></p>&mdash; Gavin Schmidt (@ClimateOfGavin) <a href=\"https://twitter.com/ClimateOfGavin/status/1117136233409536000?ref_src=twsrc%5Etfw\">April 13, 2019</a></blockquote> <script async src=\"https://platform.twitter.com/widgets.js\" charset=\"utf-8\"></script> "
   ]
  },
  {
   "cell_type": "markdown",
   "id": "5be6cb05",
   "metadata": {},
   "source": [
    "Statistics such as the global average or zonal average temperature do not tell the whole story about climate change!"
   ]
  },
  {
   "cell_type": "markdown",
   "id": "552519dd",
   "metadata": {},
   "source": [
    "## Some observational results on land-ocean warming differences from a recent paper"
   ]
  },
  {
   "cell_type": "markdown",
   "id": "7470531f",
   "metadata": {},
   "source": [
    "<img src='https://www.pnas.org/content/pnas/115/19/4863/F1.large.jpg' width=\"500\">\n",
    "\n",
    "> A–C) Surface-air annual (A) temperature, (B) specific humidity, and (C) relative humidity anomalies averaged from 40∘S to 40∘N and best-fit trends (1979–2016) over land (red solid lines and asterisks) and ocean (blue lines and asterisks). The best-fit trends in the land–ocean contrasts in temperature and specific humidity (δTL−δTO and δqL−δqO, respectively) are also plotted (black asterisks). Land values are from the HadISDH dataset (13, 14) and ocean values are from the ERA-Interim reanalysis (15). Ocean specific humidity anomalies are calculated assuming fixed climatological relative humidity (Materials and Methods). Also shown are land anomalies and associated trends (dashed lines and circles) estimated using the simple theory (Eqs. 2–4) and subsampled to the months and gridboxes for which HadISDH observations are available. Error bars on the trends indicate the 90% confidence intervals corrected to account for serial correlation (Materials and Methods).\n",
    "\n",
    "Byrne and O'Gorman (2018): Trends in continental temperature and humidity directly linked to ocean warming, PNAS 115 (19) 4863-4868, https://doi.org/10.1073/pnas.1722312115"
   ]
  },
  {
   "cell_type": "markdown",
   "id": "8f311700",
   "metadata": {},
   "source": [
    "## Looking at land-ocean warming patterns in the CESM"
   ]
  },
  {
   "cell_type": "code",
   "execution_count": null,
   "id": "7f64b5d2",
   "metadata": {},
   "outputs": [],
   "source": [
    "%matplotlib inline\n",
    "import numpy as np\n",
    "import matplotlib.pyplot as plt\n",
    "import xarray as xr\n",
    "import cartopy.crs as ccrs"
   ]
  },
  {
   "cell_type": "markdown",
   "id": "d77b3a53",
   "metadata": {},
   "source": [
    "The following repeats the calculation we already did of the Equilibrium Climate Sensitity (ECS) and Transient Climate Response (TCR):"
   ]
  },
  {
   "cell_type": "code",
   "execution_count": null,
   "id": "fe059d5c",
   "metadata": {},
   "outputs": [],
   "source": [
    "casenames = {'cpl_control': 'cpl_1850_f19',\n",
    "             'cpl_CO2ramp': 'cpl_CO2ramp_f19',\n",
    "             'som_control': 'som_1850_f19',\n",
    "             'som_2xCO2':   'som_1850_2xCO2',\n",
    "            }\n",
    "# The path to the THREDDS server, should work from anywhere\n",
    "basepath = 'http://thredds.atmos.albany.edu:8080/thredds/dodsC/CESMA/'\n",
    "# For better performance if you can access the roselab_rit filesystem (e.g. from JupyterHub)\n",
    "#basepath = '/roselab_rit/cesm_archive/'\n",
    "casepaths = {}\n",
    "for name in casenames:\n",
    "    casepaths[name] = basepath + casenames[name] + '/concatenated/'\n",
    "    \n",
    "# make a dictionary of all the CAM atmosphere output\n",
    "atm = {}\n",
    "for name in casenames:\n",
    "    path = casepaths[name] + casenames[name] + '.cam.h0.nc'\n",
    "    print('Attempting to open the dataset ', path)\n",
    "    atm[name] = xr.open_dataset(path, decode_times=False)"
   ]
  },
  {
   "cell_type": "code",
   "execution_count": null,
   "id": "a9e22562",
   "metadata": {},
   "outputs": [],
   "source": [
    "# extract the last 10 years from the slab ocean control simulation\n",
    "nyears_som = 10\n",
    "# and the last 20 years from the coupled control\n",
    "nyears_cpl = 20\n",
    "clim_slice_som = slice(-(nyears_som*12),None)\n",
    "clim_slice_cpl = slice(-(nyears_cpl*12),None)"
   ]
  },
  {
   "cell_type": "code",
   "execution_count": null,
   "id": "c5e12d9e",
   "metadata": {},
   "outputs": [],
   "source": [
    "Tmap_cpl_2x = atm['cpl_CO2ramp'].TREFHT.isel(time=clim_slice_cpl).mean(dim='time')\n",
    "Tmap_cpl_control = atm['cpl_control'].TREFHT.isel(time=clim_slice_cpl).mean(dim='time')\n",
    "DeltaTmap_cpl = Tmap_cpl_2x - Tmap_cpl_control\n",
    "\n",
    "Tmap_som_2x = atm['som_2xCO2'].TREFHT.isel(time=clim_slice_som).mean(dim='time')\n",
    "Tmap_som_control = atm['som_control'].TREFHT.isel(time=clim_slice_som).mean(dim='time')\n",
    "DeltaTmap_som = Tmap_som_2x - Tmap_som_control"
   ]
  },
  {
   "cell_type": "code",
   "execution_count": null,
   "id": "369382c5",
   "metadata": {},
   "outputs": [],
   "source": [
    "def make_map(field, title=None):\n",
    "    '''input field should be a 2D xarray.DataArray on a lat/lon grid.\n",
    "        Make a filled contour plot of the field, and a line plot of the zonal mean\n",
    "    '''\n",
    "    fig = plt.figure(figsize=(14,6))\n",
    "    nrows = 10; ncols = 3\n",
    "    mapax = plt.subplot2grid((nrows,ncols), (0,0), colspan=ncols-1, rowspan=nrows-1, projection=ccrs.Robinson())\n",
    "    barax = plt.subplot2grid((nrows,ncols), (nrows-1,0), colspan=ncols-1)\n",
    "    plotax = plt.subplot2grid((nrows,ncols), (0,ncols-1), rowspan=nrows-1)\n",
    "    cx = mapax.contourf(field.lon, field.lat, field, transform=ccrs.PlateCarree())\n",
    "    mapax.set_global(); mapax.coastlines();\n",
    "    plt.colorbar(cx, cax=barax, orientation='horizontal')\n",
    "    plotax.plot(field.mean(dim='lon'), field.lat)\n",
    "    plotax.set_ylabel('Latitude')\n",
    "    plotax.grid()\n",
    "    fig.suptitle(title, fontsize=16);\n",
    "    return fig, (mapax, plotax, barax), cx"
   ]
  },
  {
   "cell_type": "code",
   "execution_count": null,
   "id": "260934a5",
   "metadata": {},
   "outputs": [],
   "source": [
    "fig, axes, cx = make_map(DeltaTmap_cpl, title='Surface air temperature anomaly (coupled transient)')\n",
    "axes[1].set_xlim(0,7)  # ensure the line plots have same axes\n",
    "cx.set_clim([0, 8])    # ensure the contour maps have the same color intervals\n",
    "\n",
    "fig, axes,cx  = make_map(DeltaTmap_som, title='Surface air temperature anomaly (equilibrium SOM)')\n",
    "axes[1].set_xlim(0,7)\n",
    "cx.set_clim([0, 8])"
   ]
  },
  {
   "cell_type": "code",
   "execution_count": null,
   "id": "70568fc4",
   "metadata": {},
   "outputs": [],
   "source": [
    "def global_mean(field, weight=atm['som_control'].gw):\n",
    "    '''Return the area-weighted global average of the input field'''\n",
    "    return (field*weight).mean(dim=('lat','lon'))/weight.mean(dim='lat')\n",
    "\n",
    "ECS = global_mean(DeltaTmap_som)\n",
    "TCR = global_mean(DeltaTmap_cpl)\n",
    "\n",
    "print('The Equilibrium Climate Sensitivity is {:.3} K.'.format(float(ECS)))\n",
    "print('The Transient Climate Response is {:.3} K.'.format(float(TCR)))"
   ]
  },
  {
   "cell_type": "code",
   "execution_count": null,
   "id": "4d959b05",
   "metadata": {},
   "outputs": [],
   "source": [
    "# Make a map like Gavin's...  places where warming is > global average\n",
    "fig = plt.figure(figsize=(18,5))\n",
    "\n",
    "ax1 = fig.add_subplot(1,2,1, projection=ccrs.Robinson())\n",
    "ax1.contourf(DeltaTmap_cpl.lon, DeltaTmap_cpl.lat, \n",
    "             DeltaTmap_cpl.where(DeltaTmap_cpl>TCR), \n",
    "             levels=[0, 100], colors='#81090A',\n",
    "             transform=ccrs.PlateCarree())\n",
    "ax1.set_title('Coupled transient (TCR = {:.3} K)'.format(float(TCR)), fontsize=14)\n",
    "ax2 = fig.add_subplot(1,2,2, projection=ccrs.Robinson())\n",
    "ax2.contourf(DeltaTmap_som.lon, DeltaTmap_som.lat, \n",
    "             DeltaTmap_som.where(DeltaTmap_som>ECS), \n",
    "             levels=[0, 100], colors='#81090A',\n",
    "             transform=ccrs.PlateCarree())\n",
    "ax2.set_title('Equilibrium SOM (ECS = {:.3} K)'.format(float(ECS)), fontsize=14)\n",
    "\n",
    "for ax in [ax1, ax2]:\n",
    "    ax.set_global(); ax.coastlines();\n",
    "\n",
    "fig.suptitle('Places that warm more than the global mean in CESM simulations', fontsize=18)"
   ]
  },
  {
   "cell_type": "markdown",
   "id": "fe6742b2",
   "metadata": {},
   "source": [
    "## Key Point\n",
    "\n",
    "The **enhanced warming over land** is not just a feature of the transient, but is also found in the equilibrium response!\n",
    "\n",
    "We cannot understand this result solely in terms of heat capacity differences.\n",
    "\n",
    "**This motivates some detailed study of surface processes and the climatic coupling between land and ocean.**"
   ]
  },
  {
   "cell_type": "markdown",
   "id": "43d7d093",
   "metadata": {},
   "source": [
    "## Plot the \"land amplification factor\"\n",
    "\n",
    "Plot the time average warming over land **per unit zonally averaged warming of the surrounding oceans**\n",
    "\n",
    "$$A \\equiv \\frac{\\delta T_L}{\\delta T_O} $$\n",
    "\n",
    "where $\\delta T_L$ is the near-surface air temperature increase **over land**, and $\\delta T_O$ is the **zonally averaged** near-surface air temperature increase **over ocean**."
   ]
  },
  {
   "cell_type": "code",
   "execution_count": null,
   "id": "acd4764e",
   "metadata": {},
   "outputs": [],
   "source": [
    "#  The land-ocean mask ... same for all simulations\n",
    "landfrac = atm['cpl_control'].LANDFRAC.mean(dim='time')"
   ]
  },
  {
   "cell_type": "code",
   "execution_count": null,
   "id": "6fe5b1b0",
   "metadata": {},
   "outputs": [],
   "source": [
    "# Zonally averaged ocean warming\n",
    "DeltaTO_cpl = DeltaTmap_cpl.where(landfrac<0.5).mean(dim='lon')\n",
    "DeltaTO_som = DeltaTmap_som.where(landfrac<0.5).mean(dim='lon')\n",
    "\n",
    "land_amplification_cpl = DeltaTmap_cpl.where(landfrac>0.5) / DeltaTO_cpl\n",
    "land_amplification_som = DeltaTmap_som.where(landfrac>0.5) / DeltaTO_som\n",
    "\n",
    "fig, axes, cx = make_map(land_amplification_cpl, title='Land warming amplification factor (coupled transient)');\n",
    "axes[1].set_xlim(0,2)  # ensure the line plots have same axes\n",
    "cx.set_clim([0, 3])    # ensure the contour maps have the same color intervals\n",
    "\n",
    "fig, axes, cx = make_map(land_amplification_som, title='Land warming amplification factor (equilibrium SOM)');\n",
    "axes[1].set_xlim(0,2)  # ensure the line plots have same axes\n",
    "cx.set_clim([0, 3])    # ensure the contour maps have the same color intervals"
   ]
  },
  {
   "cell_type": "markdown",
   "id": "93358250",
   "metadata": {},
   "source": [
    "## A simple theory for land-ocean warming contrast\n",
    "\n",
    "This section is based on a series of papers by Byrne and O'Gorman:\n",
    "\n",
    "- Byrne and O'Gorman (2013): Land–Ocean Warming Contrast over a Wide Range of Climates: Convective Quasi-Equilibrium Theory and Idealized Simulations. J. Clim. 26, https://journals.ametsoc.org/doi/full/10.1175/JCLI-D-12-00262.1\n",
    "- Byrne and O'Gorman (2016): Understanding Decreases in Land Relative Humidity with Global Warming: Conceptual Model and GCM Simulations. J. Clim. 29, https://journals.ametsoc.org/doi/10.1175/JCLI-D-16-0351.1\n",
    "- Byrne and O'Gorman (2018): Trends in continental temperature and humidity directly linked to ocean warming, PNAS 115 (19) 4863-4868, https://doi.org/10.1073/pnas.1722312115\n",
    "\n",
    "### The atmospheric dynamics constraint\n",
    "\n",
    "The dynamical argument has a few components:\n",
    "\n",
    "- Frequent moist convection maintains a nearly moist-neutral lapse rate in the convectively active equatorial regions (\"convective quasi-equilibrium\").\n",
    "- \"Weak Temperature Gradient\" theory for the low-latitude atmosphere asserts that air temperatures in the free troposphere are nearly homogeneous.\n",
    "- Therefore the free troposphere is moist adiabatic everywhere.\n",
    "- The differences between surface air temperature over land and ocean can be expressed in terms of different Lifting Condensation Levels (LCL):\n",
    "\n",
    "<img src='https://journals.ametsoc.org/na101/home/literatum/publisher/ams/journals/content/clim/2013/15200442-26.12/jcli-d-12-00262.1/20130609/images/large/jcli-d-12-00262.1-f1.jpeg' width=\"300\">\n",
    "\n",
    "> Fig. 1. Schematic diagram of potential temperature vs height for moist adiabats over land and ocean and equal temperatures at upper levels. A land–ocean surface air temperature contrast is implied by different LCLs over land and ocean. \n",
    "\n",
    "> Byrne and O'Gorman (2013) J. Clim. 26, https://journals.ametsoc.org/doi/full/10.1175/JCLI-D-12-00262.1\n",
    "\n",
    "A consequence of these constraints is that, under a climate change, the near-surface **moist static energy** content over land and ocean are equal:\n",
    "\n",
    "$$ \\delta h_L = \\delta h_O $$\n",
    "\n",
    "with the following standard notation:\n",
    "\n",
    "- $h = c_p T + L_v q + g z_g$ is the moist static energy per unit mass\n",
    "- $T$ is air temperature\n",
    "- $q$ is the specific humidity\n",
    "- $z_g$ is the geopotential height\n",
    "\n",
    "From this we can infer that the **land warming amplification factor** is related to differences in boundary layer moistening:\n",
    "\n",
    "$$ A \\equiv \\frac{\\delta T_L}{\\delta T_O} = 1 + \\frac{L_v}{c_p} \\frac{\\delta q_O - \\delta q_L}{\\delta T_O} $$\n",
    "\n",
    "which implies that there will be **greater warming over land than ocean** so long as *the moistening rate with warming over ocean is greater than over land*, $\\delta q_O > \\delta q_L$."
   ]
  },
  {
   "cell_type": "markdown",
   "id": "76b9e103",
   "metadata": {},
   "source": [
    "### The surface moisture constraint\n",
    "\n",
    "This section is drawn directly from Byrne and O'Gorman (2016) J. Clim. 29, https://journals.ametsoc.org/doi/10.1175/JCLI-D-16-0351.1\n",
    "\n",
    "Consider the following simple moisture budgets for the boundary layers over ocean and over land:\n",
    "\n",
    "<img src='https://journals.ametsoc.org/na101/home/literatum/publisher/ams/journals/content/clim/2016/15200442-29.24/jcli-d-16-0351.1/20161201/images/large/jcli-d-16-0351.1-f2.jpeg' width=\"500\">\n",
    "\n",
    "> Fig. 2. Schematic diagram of processes involved in the moisture budget of the boundary layer above a land surface [see text and (1) for definitions of the various quantities].\n",
    "\n",
    "The budget over land is\n",
    "\n",
    "$$ l h_L \\frac{d q_L}{dt} = h_O v_1 (q_O - q_L) + (h_L - h_O) v_1 (q_{FT,O} - q_L) + l v_2 (q_{FT,L} - q_L ) + \\frac{1}{\\rho_a} E_L $$\n",
    "\n",
    "where \n",
    "\n",
    "- $l$ is the horizontal length scale of the land\n",
    "- $h_L, h_O$ are the boundary layer depths\n",
    "- $v_1, v_2$ are the horizontal and vertical mixing velocities\n",
    "- $q_{FT,L}, q_{FT,O}$ are the free-tropospheric specific humidities above the boundary layers\n",
    "- $\\rho_a$ is the density of air\n",
    "- $E_L$ is the evapotranspiration from the land surface\n",
    "\n",
    "The source terms on the RHS are respectively horizontal mixing of boundary layer air, horizontal mixing of free-tropospheric air, vertical mixing, and surface fluxes.\n",
    "\n",
    "Now assume that free-tropospheric moisture is proportional to boundary layer moisture:\n",
    "\n",
    "\\begin{align*}\n",
    "q_{FT,L} &= \\lambda_L q_L  &  q_{FT,O} &= \\lambda_O q_O\n",
    "\\end{align*}\n",
    "\n",
    "Setting the LHS of the moisture budget to zero, we can solve the steady-state budget for land specific humidity $q_L$:\n",
    "\n",
    "$$ q_L = \\frac{\\left[ h_O + \\lambda_O ( h_L - h_O)\\right] \\tau_2}{h_L\\left[\\tau_1(1-\\lambda_L) + \\tau_2 \\right]} q_O + \\frac{\\tau_1 \\tau_2 }{\\rho_a h_L \\left[ \\tau_1(1-\\lambda_L) + \\tau_2 \\right]} E_L $$\n",
    "\n",
    "where for convenience we have defined horizontal and vertical mixing timescales\n",
    "\n",
    "\\begin{align*}\n",
    "\\tau_1 &= \\frac{l}{v_1}  &  \\tau_2 &= \\frac{h_L}{v_2} \n",
    "\\end{align*}\n",
    "\n",
    "The two terms above quantify the relative importance of remote ocean specific humidity and local evapotransipiration on land specific humidity. We can rewrite this as\n",
    "\n",
    "$$ q_L = \\gamma q_O + q_E $$"
   ]
  },
  {
   "cell_type": "markdown",
   "id": "fe7348ec",
   "metadata": {},
   "source": [
    "### The \"Ocean-influence\" box model\n",
    "\n",
    "The simplest form of the moisture constraint comes from assuming that the influence of evapotranspiration on boundary layer specific humidity over land is negligible. \n",
    "\n",
    "Setting $E_L = 0$ we get simply\n",
    "\n",
    "$$ q_L = \\gamma q_O$$\n",
    "\n",
    "where the proportionality is\n",
    "\n",
    "$$\\gamma = \\frac{\\left[ h_O + \\lambda_O ( h_L - h_O)\\right] \\tau_2}{h_L\\left[\\tau_1(1-\\lambda_L) + \\tau_2 \\right]} $$\n",
    "\n",
    "We now make one more assumption: the proportionality $\\gamma$ remains constant under climate change. Then changes in boundary specific humidity are related through\n",
    "\n",
    "$$\\delta q_L = \\gamma \\delta q_O $$\n",
    "\n",
    "where the constant can be evaluated from the reference climate:\n",
    "\n",
    "$$ \\gamma = \\frac{\\overline{q_L}}{\\overline{q_O}} $$"
   ]
  },
  {
   "cell_type": "markdown",
   "id": "483c3fdc",
   "metadata": {},
   "source": [
    "### Combined theory: dynamic and moisture constraints\n",
    "\n",
    "Combining the dynamic and moisture constraints gives the change in land warming amplification factor **solely in terms of the ocean warming and moistening*:\n",
    "\n",
    "$$ A \\equiv \\frac{\\delta T_L}{\\delta T_O}  = 1 + \\frac{L_v}{c_p} (1-\\gamma) \\frac{\\delta q_O}{\\delta T_O} $$\n",
    "\n",
    "which implies that there will be **greater warming over land than ocean** so long as the land surface is drier than the ocean surface ($\\gamma < 1$) and the air gets moister with warming over the ocean ($\\delta q_O > 0$).\n",
    "\n",
    "Notice that with the combined constraints we are able to make this prediction without using an information about the land surface conditions other than the reference specific humidity (parameter $\\gamma$)."
   ]
  },
  {
   "cell_type": "markdown",
   "id": "2efc0b24",
   "metadata": {},
   "source": [
    "### Relative humidity changes over land\n",
    "\n",
    "The **relative humidity** is well approximated by\n",
    "\n",
    "$$ r = \\frac{q}{q^*} $$\n",
    "\n",
    "(over land or ocean) where $q^*$ is the relevant **saturation** specific humidity.\n",
    "\n",
    "For small climate changes we can thus write *fractional* changes in relative humidity as\n",
    "\n",
    "$$ \\frac{\\delta r}{r} \\approx \\frac{\\delta q}{q} - \\frac{\\delta q^*}{q^*}$$\n",
    "\n",
    "and the fractional change in saturation is governed by the Clausius-Clapeyron relation, which is well approximated by\n",
    "\n",
    "$$ \\frac{\\delta q^*}{q^*} \\approx \\alpha \\delta T $$\n",
    "\n",
    "with the CC rate\n",
    "\n",
    "$$ \\alpha = \\frac{L_v}{R_v T^2} \\approx 6 \\% / K $$\n",
    "\n",
    "We typically assume that **relative humidity remains constant over the ocean**, so $\\frac{\\delta r_O}{r_O} = 0$ and thus\n",
    "\n",
    "$$\\frac{\\delta q_O}{q_O} = \\alpha \\delta T_O $$\n",
    "\n",
    "while over land we find instead\n",
    "\n",
    "$$ \\frac{\\delta r_L}{r_L} \\approx \\frac{\\delta q_L}{q_L} - \\alpha \\delta T_L $$\n",
    "\n",
    "An implication of the moisture constraint above is that the **fractional** changes in specific humidity must be the same over land and ocean:\n",
    "\n",
    "$$ \\frac{\\delta q_L}{q_L} = \\frac{\\delta q_O}{q_O} = \\alpha \\delta T_O $$\n",
    "\n",
    "Combining this with the dynamic constraint then gives\n",
    "\n",
    "$$ \\frac{\\delta r_L}{r_L} \\approx - \\alpha (1-\\gamma) \\frac{L_v}{c_p} \\delta q_O $$\n",
    "\n",
    "The conclusion is that **the relative humidity over land must decrease** along with the amplified warming over land.\n",
    "\n",
    "See Byrne and O'Gorman (2016) for discussion and caveats."
   ]
  },
  {
   "cell_type": "markdown",
   "id": "ccfc7442",
   "metadata": {},
   "source": [
    "## Evaluation of simple land amplification theory\n",
    "\n",
    "To summarize the above derivations:\n",
    "\n",
    "1. The dynamic constraint gives the amplification factor $A$ as\n",
    "\n",
    "$$ A \\equiv \\frac{\\delta T_L}{\\delta T_O} = 1 + \\frac{L_v}{c_p} \\frac{\\delta q_O - \\delta q_L}{\\delta T_O} $$\n",
    "\n",
    "while \n",
    "\n",
    "2. the moisture constraint (in its simplest form) gives\n",
    "\n",
    "\\begin{align*}\n",
    "\\delta q_L &= \\gamma \\delta q_O  \\\\\n",
    "\\gamma &= \\frac{\\overline{q_L}}{\\overline{q_O}}\n",
    "\\end{align*}\n",
    "\n",
    "so that the amplification factor is simply\n",
    "$$ A = 1 + \\frac{L_v}{c_p} (1-\\gamma) \\frac{\\delta q_O}{\\delta T_O} $$\n",
    "\n",
    "We are going to evaluate this theory quantitatively against the CESM simulations."
   ]
  },
  {
   "cell_type": "code",
   "execution_count": null,
   "id": "1d8b5ec1",
   "metadata": {},
   "outputs": [],
   "source": [
    "from climlab.utils.constants import Lhvap, cp, Rv\n",
    "\n",
    "def land_amp(deltaQO, deltaQL, deltaTO):\n",
    "    return 1 + Lhvap/cp*(deltaQO - deltaQL)/deltaTO"
   ]
  },
  {
   "cell_type": "code",
   "execution_count": null,
   "id": "0551a4ea",
   "metadata": {},
   "outputs": [],
   "source": [
    "# Look at zonally averaged specific humidity over land and ocean\n",
    "qL = atm['cpl_control'].QREFHT.where(landfrac>0.5).isel(time=clim_slice_cpl).mean(dim=('time', 'lon'))\n",
    "qO = atm['cpl_control'].QREFHT.where(landfrac<0.5).isel(time=clim_slice_cpl).mean(dim=('time', 'lon'))\n",
    "\n",
    "qO.plot(label='Ocean')\n",
    "qL.plot(label='Land')\n",
    "plt.legend(); plt.grid();\n",
    "plt.ylabel('Specific humidity (kg/kg)');"
   ]
  },
  {
   "cell_type": "markdown",
   "id": "2949b0d8",
   "metadata": {},
   "source": [
    "### Amplification factors using dynamic constraint only"
   ]
  },
  {
   "cell_type": "code",
   "execution_count": null,
   "id": "eeeb5792",
   "metadata": {},
   "outputs": [],
   "source": [
    "#  Compute changes in specific humidity\n",
    "Qmap_cpl_2x = atm['cpl_CO2ramp'].QREFHT.isel(time=clim_slice_cpl).mean(dim='time')\n",
    "Qmap_cpl_control = atm['cpl_control'].QREFHT.isel(time=clim_slice_cpl).mean(dim='time')\n",
    "DeltaQmap_cpl = Qmap_cpl_2x - Qmap_cpl_control\n",
    "\n",
    "Qmap_som_2x = atm['som_2xCO2'].QREFHT.isel(time=clim_slice_som).mean(dim='time')\n",
    "Qmap_som_control = atm['som_control'].QREFHT.isel(time=clim_slice_som).mean(dim='time')\n",
    "DeltaQmap_som = Qmap_som_2x - Qmap_som_control"
   ]
  },
  {
   "cell_type": "code",
   "execution_count": null,
   "id": "ceb2c84f",
   "metadata": {},
   "outputs": [],
   "source": [
    "# Increase in specific humidity over oceans per degree warming\n",
    "DeltaQO_cpl = DeltaQmap_cpl.where(landfrac<0.5).mean(dim='lon')\n",
    "DeltaQO_som = DeltaQmap_som.where(landfrac<0.5).mean(dim='lon')\n",
    "\n",
    "(DeltaQO_cpl / DeltaTO_cpl).plot(label='coupled transient')\n",
    "(DeltaQO_som / DeltaTO_som).plot(label='equilibrium SOM')\n",
    "# Simple estimate of the moistening rate from Clausius-Clapeyron\n",
    "alpha = Lhvap/Rv/288**2\n",
    "(alpha * qO).plot(label='Clausius-Clapeyron moistening rate', linestyle='--', color='grey')\n",
    "plt.legend();\n",
    "plt.ylabel('kg/kg/K')"
   ]
  },
  {
   "cell_type": "markdown",
   "id": "1091f3c6",
   "metadata": {},
   "source": [
    "Notice that the normalized humidity increase is nearly identical in the two models, and very well predicted by Clausius-Clapeyron."
   ]
  },
  {
   "cell_type": "code",
   "execution_count": null,
   "id": "dabc9239",
   "metadata": {},
   "outputs": [],
   "source": [
    "# Compute the land amplification factor based on dynamic constraint only\n",
    "#  Note that this requires knowledge of actual specific humidity changes over land\n",
    "\n",
    "predicted_land_amplification_cpl = land_amp(DeltaQO_cpl, DeltaQmap_cpl.where(landfrac>0.5), DeltaTO_cpl)\n",
    "predicted_land_amplification_som = land_amp(DeltaQO_som, DeltaQmap_som.where(landfrac>0.5), DeltaTO_som)\n",
    "\n",
    "make_map(predicted_land_amplification_cpl, \n",
    "        title='PREDICTED land amplification factor (dynamic constraint only - coupled transient)');\n",
    "make_map(predicted_land_amplification_som,\n",
    "        title='PREDICTED land amplification factor (dynamic constraint only - equilibrium SOM)');"
   ]
  },
  {
   "cell_type": "markdown",
   "id": "9560ad1d",
   "metadata": {},
   "source": [
    "### Amplification factors using dynamic + moisture constraint"
   ]
  },
  {
   "cell_type": "code",
   "execution_count": null,
   "id": "63a6a552",
   "metadata": {},
   "outputs": [],
   "source": [
    "# Make a map of the \"gamma\" factor, ratio of land specific humidity to surrounding oceans\n",
    "qL_map = atm['cpl_control'].QREFHT.where(landfrac>0.5).isel(time=clim_slice_cpl).mean(dim=('time'))\n",
    "gamma_map = qL_map / qO\n",
    "make_map(gamma_map, 'Relative dryness of land surface compared to oceans, $\\gamma = q_L / q_O$');"
   ]
  },
  {
   "cell_type": "code",
   "execution_count": null,
   "id": "07882fdc",
   "metadata": {},
   "outputs": [],
   "source": [
    "predicted_land_amplification_simple = land_amp(DeltaQO_cpl, gamma_map*DeltaQO_cpl, DeltaTO_cpl)\n",
    "make_map(predicted_land_amplification_simple,\n",
    "        title='PREDICTED Land warming amplification factor (dynamic+moisture constraints)');"
   ]
  },
  {
   "cell_type": "code",
   "execution_count": null,
   "id": "95cf2ec9",
   "metadata": {},
   "outputs": [],
   "source": [
    "# Summarize the zonal average results (Plot coupled model only)\n",
    "plt.figure(figsize=(10,6))\n",
    "land_amplification_cpl.mean(dim='lon').plot(label='Simulated', color='blue')\n",
    "predicted_land_amplification_cpl.mean(dim='lon').plot(label='Dynamic constraint theory', \n",
    "                                                      color='blue', linestyle='--')\n",
    "predicted_land_amplification_simple.mean(dim='lon').plot(label='Combined theory', linestyle='--', color='grey')\n",
    "plt.legend();\n",
    "plt.grid();\n",
    "plt.ylim(0.6, 2.2);"
   ]
  },
  {
   "cell_type": "markdown",
   "id": "2556af91",
   "metadata": {},
   "source": [
    "Compare to CMIP5 multi-model mean:"
   ]
  },
  {
   "cell_type": "markdown",
   "id": "3dd683b4",
   "metadata": {},
   "source": [
    "<img src='https://journals.ametsoc.org/na101/home/literatum/publisher/ams/journals/content/clim/2016/15200442-29.24/jcli-d-16-0351.1/20161201/images/large/jcli-d-16-0351.1-fa1.jpeg' width=\"400\">\n",
    "\n",
    "> Fig. B1. The CMIP5 multimodel mean (a) land–ocean warming contrast (expressed as an amplification factor) and (b) surface-air land pseudo relative humidity change normalized by the global-mean surface-air temperature change (solid lines) and as estimated by the combined moisture and dynamic constraints (dashed lines). The amplification factor and land relative humidity changes are estimated for each land grid point and for each month of the year before taking the zonal and annual means.\n",
    "\n",
    "Byrne and O'Gorman (2016) J. Clim. 29, https://journals.ametsoc.org/doi/10.1175/JCLI-D-16-0351.1"
   ]
  },
  {
   "cell_type": "markdown",
   "id": "fcd97c2d",
   "metadata": {},
   "source": [
    "Our results are consistent with Byrne and O'Gorman in that the simple theory captures the amplification signal in the **southern subtropics** quite well, but strongly overestimates the amplifcation in the **northern subtropics**.\n",
    "\n",
    "The simple \"ocean influence\" theory works best in the hemisphere dominated by ocean!\n",
    "\n",
    "We may get more insight into the weaknesses of the theory by looking more carefully at the relative humidity changes, and the role of land-surface evaporation changes (neglected under the \"ocean-influence\" theory)."
   ]
  },
  {
   "cell_type": "markdown",
   "id": "6f4e4850",
   "metadata": {},
   "source": [
    "## Critical evaluation of assumptions"
   ]
  },
  {
   "cell_type": "code",
   "execution_count": null,
   "id": "eeb7f3e1",
   "metadata": {},
   "outputs": [],
   "source": [
    "# Recompute gamma for the warmer climate.\n",
    "# We assumed it did not change with global warming\n",
    "\n",
    "# Look at zonally averaged specific humidity over land and ocean\n",
    "qL_2x = atm['cpl_CO2ramp'].QREFHT.where(landfrac>0.5).isel(time=clim_slice_cpl).mean(dim=('time', 'lon'))\n",
    "qO_2x = atm['cpl_CO2ramp'].QREFHT.where(landfrac<0.5).isel(time=clim_slice_cpl).mean(dim=('time', 'lon'))\n",
    "\n",
    "# Make a map of the \"gamma\" factor, ratio of land specific humidity to surrounding oceans\n",
    "qL_map_2x = atm['cpl_CO2ramp'].QREFHT.where(landfrac>0.5).isel(time=clim_slice_cpl).mean(dim=('time'))\n",
    "gamma_map_2x = qL_map_2x / qO_2x\n",
    "make_map(gamma_map_2x, 'Relative dryness of land surface compared to oceans (2x CO2), $\\gamma = q_L / q_O$');"
   ]
  },
  {
   "cell_type": "code",
   "execution_count": null,
   "id": "895dd2e7",
   "metadata": {},
   "outputs": [],
   "source": [
    "# Plot the percentage change\n",
    "make_map((gamma_map_2x-gamma_map)/gamma_map * 100, title='Percent change in gamma');"
   ]
  },
  {
   "cell_type": "markdown",
   "id": "dbc06680",
   "metadata": {},
   "source": [
    "The error is pretty small."
   ]
  },
  {
   "cell_type": "markdown",
   "id": "c8ac9ebb",
   "metadata": {},
   "source": [
    "### Relative humidity change"
   ]
  },
  {
   "cell_type": "code",
   "execution_count": null,
   "id": "9f1f18f2",
   "metadata": {},
   "outputs": [],
   "source": [
    "RHmap = atm['cpl_control'].RELHUM.isel(lev=-1, time=clim_slice_cpl).mean(dim='time')\n",
    "RHmap_2x = atm['cpl_CO2ramp'].RELHUM.isel(lev=-1, time=clim_slice_cpl).mean(dim='time')\n",
    "DeltaRHmap = RHmap_2x - RHmap"
   ]
  },
  {
   "cell_type": "code",
   "execution_count": null,
   "id": "a4d32604",
   "metadata": {},
   "outputs": [],
   "source": [
    "make_map(RHmap, title='Control relative humidity');"
   ]
  },
  {
   "cell_type": "code",
   "execution_count": null,
   "id": "9694bb85",
   "metadata": {},
   "outputs": [],
   "source": [
    "make_map(DeltaRHmap, title='Relative humidity change (transient coupled)');"
   ]
  },
  {
   "cell_type": "markdown",
   "id": "33bf3eba",
   "metadata": {},
   "source": [
    "Looks like a big source of error in the simple estimates of land amplification here is the unexpected relative moistening over the arid regions of North Africa and Arabia."
   ]
  },
  {
   "cell_type": "markdown",
   "id": "254adfbd",
   "metadata": {
    "slideshow": {
     "slide_type": "skip"
    }
   },
   "source": [
    "____________\n",
    "\n",
    "## Credits\n",
    "\n",
    "This notebook is part of [The Climate Laboratory](https://brian-rose.github.io/ClimateLaboratoryBook), an open-source textbook developed and maintained by [Brian E. J. Rose](http://www.atmos.albany.edu/facstaff/brose/index.html), University at Albany.\n",
    "\n",
    "It is licensed for free and open consumption under the\n",
    "[Creative Commons Attribution 4.0 International (CC BY 4.0)](https://creativecommons.org/licenses/by/4.0/) license.\n",
    "\n",
    "Development of these notes and the [climlab software](https://github.com/brian-rose/climlab) is partially supported by the National Science Foundation under award AGS-1455071 to Brian Rose. Any opinions, findings, conclusions or recommendations expressed here are mine and do not necessarily reflect the views of the National Science Foundation.\n",
    "____________"
   ]
  }
 ],
 "metadata": {
  "jupytext": {
   "text_representation": {
    "extension": ".md",
    "format_name": "myst",
    "format_version": 0.12,
    "jupytext_version": "1.9.1"
   }
  },
  "kernelspec": {
   "display_name": "Python 3",
   "language": "python",
   "name": "python3"
  },
  "source_map": [
   12,
   18,
   22,
   25,
   29,
   33,
   41,
   45,
   51,
   55,
   77,
   86,
   96,
   116,
   126,
   138,
   159,
   169,
   179,
   184,
   199,
   241,
   288,
   310,
   322,
   364,
   388,
   395,
   404,
   408,
   419,
   431,
   435,
   446,
   450,
   457,
   463,
   473,
   477,
   485,
   493,
   497,
   511,
   514,
   518,
   522,
   528,
   532,
   534,
   538
  ]
 },
 "nbformat": 4,
 "nbformat_minor": 5
}