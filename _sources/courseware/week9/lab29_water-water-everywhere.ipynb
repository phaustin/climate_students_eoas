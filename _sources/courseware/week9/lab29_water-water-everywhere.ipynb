{
 "cells": [
  {
   "cell_type": "markdown",
   "id": "b77fc82e",
   "metadata": {
    "slideshow": {
     "slide_type": "slide"
    }
   },
   "source": [
    "(nb:water)=\n",
    "# Water, water everywhere! \n",
    "\n",
    "##  A brief look at the effects of evaporation on global climate\n",
    "\n",
    "This notebook is part of [The Climate Laboratory](https://brian-rose.github.io/ClimateLaboratoryBook) by [Brian E. J. Rose](http://www.atmos.albany.edu/facstaff/brose/index.html), University at Albany."
   ]
  },
  {
   "cell_type": "markdown",
   "id": "faacac77",
   "metadata": {
    "slideshow": {
     "slide_type": "slide"
    }
   },
   "source": [
    "____________\n",
    "<a id='section1'></a>\n",
    "\n",
    "## 1. Imagine a world with reduced efficiency of evaporation\n",
    "____________"
   ]
  },
  {
   "cell_type": "markdown",
   "id": "cf30bda4",
   "metadata": {
    "slideshow": {
     "slide_type": "slide"
    }
   },
   "source": [
    "Recall from [last lecture](./Lecture21 -- The surface energy balance.ipynb) that the bulk formula for surface evaporation (latent heat flux) is \n",
    "\n",
    "$$ \\text{LE} = L ~\\rho ~ C_D ~ U \\left( q_s - q_a \\right) $$\n",
    "\n",
    "which we approximated in terms of temperatures for a wet surface as\n",
    "\n",
    "$$ \\text{LE} \\approx L ~\\rho ~ C_D ~ U \\left( (1-r) ~ q_s^* + r \\frac{\\partial q^*}{\\partial T} \\left( T_s - T_a \\right) \\right)  $$"
   ]
  },
  {
   "cell_type": "markdown",
   "id": "5b0de191",
   "metadata": {
    "slideshow": {
     "slide_type": "slide"
    }
   },
   "source": [
    "The drag coefficient $C_D$ determines the flux for a given set of temperatures, relative humidity, and wind speed.\n",
    "\n",
    "Now suppose that the drag coefficient is **reduced by a factor of two** (for evaporation only, not for sensible heat flux). i.e. *all else being equal, there will be half as much evaporation*.\n",
    "\n",
    "Reasoning through the effects of this perturbation (and calculating the effects in models) will give us some insight into several different roles played by water in the climate system."
   ]
  },
  {
   "cell_type": "markdown",
   "id": "b5744c00",
   "metadata": {
    "slideshow": {
     "slide_type": "slide"
    }
   },
   "source": [
    "### In-class exercise:\n",
    "\n",
    "**What is the effect of the reduced evaporation efficiency on surface temperature?**\n",
    "\n",
    "- Form small groups.\n",
    "- Each group should formulate a hypothesis about how and why the surface temperature will change when $C_D$ is reduced by a factor of 2.\n",
    "- Draw a sketch of the **surface temperature anomaly** as a function of latitude.\n",
    "- Be prepared to explain your sketch and your hypothesis."
   ]
  },
  {
   "cell_type": "markdown",
   "id": "e6e559de",
   "metadata": {
    "slideshow": {
     "slide_type": "slide"
    }
   },
   "source": [
    "____________\n",
    "<a id='section2'></a>\n",
    "\n",
    "## 2. Reduced evaporation experiment in a simple model with `climlab`\n",
    "____________"
   ]
  },
  {
   "cell_type": "markdown",
   "id": "88337421",
   "metadata": {
    "slideshow": {
     "slide_type": "slide"
    }
   },
   "source": [
    "We can use `climlab` to construct a model for the zonal-average climate. The model will be on a pressure-latitude grid. It will include the following processes:\n",
    "\n",
    "- **Seasonally varying insolation** as function of latitude\n",
    "- RRTMG radiation, including water vapor dependence and prescribed clouds\n",
    "- Fixed relative humidity\n",
    "- Shortave absorption by ozone\n",
    "- Meridional heat transport, implemented as a **horizontal down-gradient temperature diffusion** at every vertical level\n",
    "- Sensible and Latent heat fluxes at the surface using the bulk formulas\n",
    "- Convective adjustment of the **atmospheric** lapse rate (not surface)"
   ]
  },
  {
   "cell_type": "markdown",
   "id": "d428276f",
   "metadata": {
    "slideshow": {
     "slide_type": "slide"
    }
   },
   "source": [
    "This model basically draws together all the process models we have developed throughout the course, and adds the surface flux parameterizations.\n",
    "\n",
    "Note that since we are using explicit surface flux parameterizations, we will now use the convective adjustment only on the **atmospheric** air temperatures. Previous our adjustment has also modified the **surface** temperature, which was implicitly taking account of the turbulent heat fluxes."
   ]
  },
  {
   "cell_type": "code",
   "execution_count": null,
   "id": "480ade63",
   "metadata": {
    "slideshow": {
     "slide_type": "slide"
    }
   },
   "outputs": [],
   "source": [
    "%matplotlib inline\n",
    "import numpy as np\n",
    "import matplotlib.pyplot as plt\n",
    "import xarray as xr\n",
    "import climlab\n",
    "from climlab import constants as const"
   ]
  },
  {
   "cell_type": "code",
   "execution_count": null,
   "id": "778e3d57",
   "metadata": {},
   "outputs": [],
   "source": [
    "def inferred_heat_transport( energy_in, lat_deg ):\n",
    "    '''Returns the inferred heat transport (in PW) by integrating the net energy imbalance from pole to pole.'''\n",
    "    from scipy import integrate\n",
    "    from climlab import constants as const\n",
    "    lat_rad = np.deg2rad( lat_deg )\n",
    "    return ( 1E-15 * 2 * np.math.pi * const.a**2 * \n",
    "            integrate.cumtrapz( np.cos(lat_rad)*energy_in,\n",
    "            x=lat_rad, initial=0. ) )"
   ]
  },
  {
   "cell_type": "code",
   "execution_count": null,
   "id": "bf78c2f0",
   "metadata": {
    "slideshow": {
     "slide_type": "slide"
    }
   },
   "outputs": [],
   "source": [
    "# A two-dimensional domain\n",
    "num_lev = 50\n",
    "state = climlab.column_state(num_lev=num_lev, num_lat=60, water_depth=10.)\n",
    "lev = state.Tatm.domain.axes['lev'].points"
   ]
  },
  {
   "cell_type": "markdown",
   "id": "f1f4d40d",
   "metadata": {
    "slideshow": {
     "slide_type": "slide"
    }
   },
   "source": [
    "Here we specify cloud properties. The combination of the two cloud layers defined below were found to reproduce the **global, annual mean energy balance** in a single-column model.\n",
    "\n",
    "We will specify the same clouds everywhere for simplicity. A more thorough investigation would incorporate some meridional variations in cloud properties."
   ]
  },
  {
   "cell_type": "code",
   "execution_count": null,
   "id": "34a77893",
   "metadata": {},
   "outputs": [],
   "source": [
    "#  Define two types of cloud, high and low\n",
    "cldfrac = np.zeros_like(state.Tatm)\n",
    "r_liq = np.zeros_like(state.Tatm)\n",
    "r_ice = np.zeros_like(state.Tatm)\n",
    "clwp = np.zeros_like(state.Tatm)\n",
    "ciwp = np.zeros_like(state.Tatm)\n",
    "#   indices\n",
    "high = 10  # corresponds to 210 hPa\n",
    "low = 40   #  corresponds to 810 hPa\n",
    "#  A high, thin ice layer (cirrus cloud)\n",
    "r_ice[:,high] = 14. # Cloud ice crystal effective radius (microns)\n",
    "ciwp[:,high] = 10.  # in-cloud ice water path (g/m2)\n",
    "cldfrac[:,high] = 0.322\n",
    "#  A low, thick, water cloud layer (stratus)\n",
    "r_liq[:,low] = 14.  # Cloud water drop effective radius (microns)\n",
    "clwp[:,low] = 100.  # in-cloud liquid water path (g/m2)\n",
    "cldfrac[:,low] = 0.21\n",
    "# wrap everything up in a dictionary\n",
    "mycloud = {'cldfrac': cldfrac,\n",
    "          'ciwp': ciwp,\n",
    "          'clwp': clwp,\n",
    "          'r_ice': r_ice,\n",
    "          'r_liq': r_liq}"
   ]
  },
  {
   "cell_type": "code",
   "execution_count": null,
   "id": "8a521adb",
   "metadata": {
    "slideshow": {
     "slide_type": "slide"
    }
   },
   "outputs": [],
   "source": [
    "plt.plot(cldfrac[0,:], lev)\n",
    "plt.gca().invert_yaxis()\n",
    "plt.ylabel('Pressure (hPa)')\n",
    "plt.xlabel('Cloud fraction')\n",
    "plt.title('Prescribed cloud fraction in the column model')\n",
    "plt.show()"
   ]
  },
  {
   "cell_type": "code",
   "execution_count": null,
   "id": "8006d0cf",
   "metadata": {
    "slideshow": {
     "slide_type": "slide"
    }
   },
   "outputs": [],
   "source": [
    "#  The top-level model\n",
    "model = climlab.TimeDependentProcess(state=state, name='Radiative-Convective-Diffusive Model')\n",
    "#  Specified relative humidity distribution\n",
    "h2o = climlab.radiation.ManabeWaterVapor(state=state)\n",
    "#  Hard convective adjustment for ATMOSPHERE ONLY (not surface)\n",
    "conv = climlab.convection.ConvectiveAdjustment(state={'Tatm':model.state['Tatm']},\n",
    "                                               adj_lapse_rate=6.5,\n",
    "                                               **model.param)\n",
    "#  Annual mean insolation as a function of latitude and time of year\n",
    "sun = climlab.radiation.DailyInsolation(domains=model.Ts.domain)\n",
    "#  Couple the radiation to insolation and water vapor processes\n",
    "rad = climlab.radiation.RRTMG(state=state, \n",
    "                              specific_humidity=h2o.q, \n",
    "                              albedo=0.125,\n",
    "                              insolation=sun.insolation,\n",
    "                              coszen=sun.coszen,\n",
    "                              **mycloud)\n",
    "model.add_subprocess('Radiation', rad)\n",
    "model.add_subprocess('Insolation', sun)\n",
    "model.add_subprocess('WaterVapor', h2o)\n",
    "model.add_subprocess('Convection', conv)\n",
    "\n",
    "print( model)"
   ]
  },
  {
   "cell_type": "markdown",
   "id": "9c727a1d",
   "metadata": {
    "slideshow": {
     "slide_type": "slide"
    }
   },
   "source": [
    "Here we add a diffusive heat transport process. The `climlab` code is set up to handle meridional diffusion level-by-level with a constant coefficient."
   ]
  },
  {
   "cell_type": "code",
   "execution_count": null,
   "id": "c6626e59",
   "metadata": {},
   "outputs": [],
   "source": [
    "from climlab.dynamics import MeridionalDiffusion\n",
    "\n",
    "# thermal diffusivity in W/m**2/degC\n",
    "D = 0.04\n",
    "# meridional diffusivity in m**2/s\n",
    "K = D / model.Tatm.domain.heat_capacity[0] * const.a**2\n",
    "d = MeridionalDiffusion(state={'Tatm': model.state['Tatm']}, \n",
    "                        K=K, **model.param)\n",
    "model.add_subprocess('Diffusion', d)"
   ]
  },
  {
   "cell_type": "markdown",
   "id": "4a3c5b41",
   "metadata": {
    "slideshow": {
     "slide_type": "slide"
    }
   },
   "source": [
    "Now we will add the surface heat flux processes. We have not used these before.\n",
    "\n",
    "Note that the drag coefficient $C_D$ is passed as an input argument when we create the process. It is also stored as an attribute of the process and can be modified (see below).\n",
    "\n",
    "The bulk formulas depend on a wind speed $U$. In this model, $U$ is specified as a constant. In a model with more complete dynamics, $U$ would be interactively calculated from the equations of motion."
   ]
  },
  {
   "cell_type": "code",
   "execution_count": null,
   "id": "65eeaefa",
   "metadata": {},
   "outputs": [],
   "source": [
    "#  Add surface heat fluxes\n",
    "shf = climlab.surface.SensibleHeatFlux(state=model.state, Cd=0.5E-3)\n",
    "lhf = climlab.surface.LatentHeatFlux(state=model.state, Cd=0.5E-3)\n",
    "# set the water vapor input field for LHF\n",
    "lhf.q = h2o.q\n",
    "model.add_subprocess('SHF', shf)\n",
    "model.add_subprocess('LHF', lhf)"
   ]
  },
  {
   "cell_type": "markdown",
   "id": "3ca5388c",
   "metadata": {
    "slideshow": {
     "slide_type": "slide"
    }
   },
   "source": [
    "### The complete model, ready to use!"
   ]
  },
  {
   "cell_type": "code",
   "execution_count": null,
   "id": "e0be6221",
   "metadata": {},
   "outputs": [],
   "source": [
    "print( model)"
   ]
  },
  {
   "cell_type": "markdown",
   "id": "d141187b",
   "metadata": {
    "slideshow": {
     "slide_type": "slide"
    }
   },
   "source": [
    "<div class=\"alert alert-warning\">\n",
    "Although this is a \"simple\" model, it has a 60 x 30 point grid and is **by far the most complex model** we have built so far in these notes. These runs will probably take 15 minutes or more to execute, depending on the speed of your computer.\n",
    "</div>"
   ]
  },
  {
   "cell_type": "code",
   "execution_count": null,
   "id": "6f9c5c26",
   "metadata": {
    "slideshow": {
     "slide_type": "slide"
    }
   },
   "outputs": [],
   "source": [
    "model.integrate_years(4.)"
   ]
  },
  {
   "cell_type": "code",
   "execution_count": null,
   "id": "c6aa528c",
   "metadata": {},
   "outputs": [],
   "source": [
    "#  One more year to get annual-mean diagnostics\n",
    "model.integrate_years(1.)"
   ]
  },
  {
   "cell_type": "code",
   "execution_count": null,
   "id": "738ba64c",
   "metadata": {
    "slideshow": {
     "slide_type": "skip"
    }
   },
   "outputs": [],
   "source": [
    "ticks = [-90, -60, -30, 0, 30, 60, 90]\n",
    "fig, axes = plt.subplots(2,2,figsize=(14,10))\n",
    "ax = axes[0,0]\n",
    "ax.plot(model.lat, model.timeave['Ts'])\n",
    "ax.set_title('Surface temperature (reference)')\n",
    "ax.set_ylabel('K')\n",
    "\n",
    "ax2 = axes[0,1]\n",
    "field = (model.timeave['Tatm']).transpose()\n",
    "cax = ax2.contourf(model.lat, model.lev, field)\n",
    "ax2.invert_yaxis()\n",
    "fig.colorbar(cax, ax=ax2)\n",
    "ax2.set_title('Atmospheric temperature (reference)');\n",
    "ax2.set_ylabel('hPa')\n",
    "\n",
    "ax3 = axes[1,0]\n",
    "ax3.plot(model.lat, model.timeave['LHF'], label='LHF')\n",
    "ax3.plot(model.lat, model.timeave['SHF'], label='SHF')\n",
    "ax3.set_title('Surface heat flux (reference)')\n",
    "ax3.set_ylabel('W/m2')\n",
    "ax3.legend();\n",
    "\n",
    "ax4 = axes[1,1]\n",
    "Rtoa = np.squeeze(model.timeave['ASR'] - model.timeave['OLR'])\n",
    "ax4.plot(model.lat, inferred_heat_transport(Rtoa, model.lat))\n",
    "ax4.set_title('Meridional heat transport (reference)');\n",
    "ax4.set_ylabel('PW')\n",
    "\n",
    "for ax in axes.flatten():\n",
    "    ax.set_xlim(-90,90); ax.set_xticks(ticks)\n",
    "    ax.set_xlabel('Latitude'); ax.grid();"
   ]
  },
  {
   "cell_type": "markdown",
   "id": "7b22d701",
   "metadata": {
    "slideshow": {
     "slide_type": "slide"
    }
   },
   "source": [
    "###  Reducing the evaporation efficiency\n",
    "\n",
    "Just need to clone our model, and modify $C_D$ in the latent heat flux subprocess."
   ]
  },
  {
   "cell_type": "code",
   "execution_count": null,
   "id": "995c90d8",
   "metadata": {},
   "outputs": [],
   "source": [
    "model2 = climlab.process_like(model)\n",
    "model2.subprocess['LHF'].Cd *= 0.5\n",
    "model2.integrate_years(4.)\n",
    "model2.integrate_years(1.)"
   ]
  },
  {
   "cell_type": "code",
   "execution_count": null,
   "id": "e7029c21",
   "metadata": {
    "slideshow": {
     "slide_type": "skip"
    }
   },
   "outputs": [],
   "source": [
    "fig, axes = plt.subplots(2,2,figsize=(14,10))\n",
    "ax = axes[0,0]\n",
    "ax.plot(model.lat, model2.timeave['Ts'] - model.timeave['Ts'])\n",
    "ax.set_title('Surface temperature anomaly')\n",
    "ax.set_ylabel('K')\n",
    "\n",
    "ax2 = axes[0,1]\n",
    "field = (model2.timeave['Tatm'] - model.timeave['Tatm']).transpose()\n",
    "cax = ax2.contourf(model.lat, model.lev, field)\n",
    "ax2.invert_yaxis()\n",
    "fig.colorbar(cax, ax=ax2)\n",
    "ax2.set_title('Atmospheric temperature anomaly');\n",
    "ax2.set_ylabel('hPa')\n",
    "\n",
    "ax3 = axes[1,0]\n",
    "for field in ['LHF','SHF']:\n",
    "    ax3.plot(model2.lat, model2.timeave[field] - model.timeave[field], label=field)\n",
    "ax3.set_title('Surface heat flux anomalies')\n",
    "ax3.set_ylabel('W/m2')\n",
    "ax3.legend();\n",
    "\n",
    "ax4 = axes[1,1]\n",
    "Rtoa = np.squeeze(model.timeave['ASR'] - model.timeave['OLR'])\n",
    "Rtoa2 = np.squeeze(model2.timeave['ASR'] - model2.timeave['OLR'])\n",
    "ax4.plot(model.lat, inferred_heat_transport(Rtoa2-Rtoa, model.lat))\n",
    "ax4.set_title('Meridional heat transport anomaly');\n",
    "ax4.set_ylabel('PW')\n",
    "\n",
    "for ax in axes.flatten():\n",
    "    ax.set_xlim(-90,90); ax.set_xticks(ticks)\n",
    "    ax.set_xlabel('Latitude'); ax.grid();\n",
    "    \n",
    "print ('The global mean surface temperature anomaly is %0.2f K.' \n",
    "       %np.average(model2.timeave['Ts'] - model.timeave['Ts'], \n",
    "                   weights=np.cos(np.deg2rad(model.lat)), axis=0) )"
   ]
  },
  {
   "cell_type": "markdown",
   "id": "b043e9ba",
   "metadata": {
    "slideshow": {
     "slide_type": "slide"
    }
   },
   "source": [
    "This model predicts the following:\n",
    "\n",
    "- The **surface temperature** warms slightly in the tropics, and cools at high latitudes\n",
    "- The **atmosphere** gets colder everywhere!\n",
    "- There is a substantial reduction in surface latent heat flux, especially in the tropics where it is dominant.\n",
    "- There is also a substantial **increase** in sensible heat flux. This is consistent with the cooler air temperatures and warmer surface.\n",
    "- Colder tropical atmosphere leads to a decrease in the poleward heat tranpsort. This helps explain the high-latitude cooling.\n",
    "- Notice that the heat transport responds to the **atmopsheric** temperature gradient, which changes in the opposite direction of the **surface** temperature gradient."
   ]
  },
  {
   "cell_type": "markdown",
   "id": "e50db19e",
   "metadata": {
    "slideshow": {
     "slide_type": "slide"
    }
   },
   "source": [
    "Basically, this model predicts that by inhibiting evaporation in the tropics, we force the tropical surface to warm and the tropical atmosphere to cool. This cooling signal is then communicated globally by atmospheric heat transport. The result is small positive global surface temperature anomaly."
   ]
  },
  {
   "cell_type": "markdown",
   "id": "1719bf9c",
   "metadata": {
    "slideshow": {
     "slide_type": "slide"
    }
   },
   "source": [
    "### Discussion: what is this model missing?"
   ]
  },
  {
   "cell_type": "markdown",
   "id": "3d2d97ab",
   "metadata": {},
   "source": [
    "We could list many things, but as we will see below, two key climate components that are not included in this model are\n",
    "\n",
    "- changes in relative humidity\n",
    "- cloud feedback\n",
    "\n",
    "We will compare this result to an analogous experiment in a GCM."
   ]
  },
  {
   "cell_type": "markdown",
   "id": "0c131e7f",
   "metadata": {
    "slideshow": {
     "slide_type": "slide"
    }
   },
   "source": [
    "____________\n",
    "<a id='section3'></a>\n",
    "\n",
    "## 3. Reduced evaporation efficiency experiment in an aquaplanet GCM\n",
    "____________"
   ]
  },
  {
   "cell_type": "markdown",
   "id": "9c09de5c",
   "metadata": {},
   "source": [
    "The model is the familiar CESM but in simplified \"aquaplanet\" setup. The surface is completely covered by a shallow slab ocean.\n",
    "\n",
    "This model setup (with CAM4 model physics) is described in detail in this paper:\n",
    "\n",
    "> [Rose, B. E. J., Armour, K. C., Battisti, D. S., Feldl, N., and Koll, D. D. B. (2014). The dependence of transient climate sensitivity and radiative feedbacks on the spatial pattern of ocean heat uptake. Geophys. Res. Lett., 41, doi:10.1002/2013GL058955](http://onlinelibrary.wiley.com/doi/10.1002/2013GL058955/abstract;jsessionid=D32402F77E96A1F42972A200BF6FC535.f03t01)"
   ]
  },
  {
   "cell_type": "markdown",
   "id": "2cb47455",
   "metadata": {
    "slideshow": {
     "slide_type": "slide"
    }
   },
   "source": [
    "Here we will compare a control simulation with a perturbation simulation in which we have once again **reduced the drag coefficient by a factor of 2**."
   ]
  },
  {
   "cell_type": "code",
   "execution_count": null,
   "id": "41aa3421",
   "metadata": {},
   "outputs": [],
   "source": [
    "# Load the climatologies from the CAM4 aquaplanet runs\n",
    "datapath = \"http://ramadda.atmos.albany.edu:8080/repository/opendap/latest/Top/Users/BrianRose/CESM_runs/\"\n",
    "endstr = \"/entry.das\"\n",
    "ctrl = xr.open_dataset(datapath + 'aquaplanet_som/QAqu_ctrl.cam.h0.clim.nc' + endstr, decode_times=False).mean(dim='time')\n",
    "halfEvap = xr.open_dataset(datapath + 'aquaplanet_som/QAqu_halfEvap.cam.h0.clim.nc' + endstr, decode_times=False).mean(dim='time')"
   ]
  },
  {
   "cell_type": "code",
   "execution_count": null,
   "id": "0c115430",
   "metadata": {},
   "outputs": [],
   "source": [
    "lat = ctrl.lat\n",
    "lon = ctrl.lon\n",
    "lev = ctrl.lev"
   ]
  },
  {
   "cell_type": "code",
   "execution_count": null,
   "id": "92a889c5",
   "metadata": {},
   "outputs": [],
   "source": [
    "TS_anom = halfEvap.TS - ctrl.TS\n",
    "Tatm_anom = halfEvap['T'] - ctrl['T']"
   ]
  },
  {
   "cell_type": "markdown",
   "id": "ead8ada6",
   "metadata": {
    "slideshow": {
     "slide_type": "slide"
    }
   },
   "source": [
    "### Temperature anomalies"
   ]
  },
  {
   "cell_type": "code",
   "execution_count": null,
   "id": "19a2252c",
   "metadata": {},
   "outputs": [],
   "source": [
    "fig, (ax1,ax2) = plt.subplots(1,2,figsize=(14,5))\n",
    "ax1.plot(lat, TS_anom.mean(dim='lon')); ax1.set_title('Surface temperature anomaly')\n",
    "cax2 = ax2.contourf(lat, lev, Tatm_anom.mean(dim='lon'), levels=np.arange(-7, 8., 2.), cmap='seismic')\n",
    "ax2.invert_yaxis(); fig.colorbar(cax2,ax=ax2); ax2.set_title('Atmospheric temperature anomaly');\n",
    "for ax in (ax1, ax2):\n",
    "    ax.set_xlim(-90,90); ax.set_xticks(ticks); ax.grid();\n",
    "    \n",
    "print ('The global mean surface temperature anomaly is %0.2f K.' %((TS_anom*ctrl.gw).mean(dim=('lat','lon'))/ctrl.gw.mean(dim='lat')))"
   ]
  },
  {
   "cell_type": "markdown",
   "id": "cf5b38bb",
   "metadata": {
    "slideshow": {
     "slide_type": "slide"
    }
   },
   "source": [
    "In this model, reducing the evaporation efficiency leads to a **much warmer climate**.  The largest warming occurs in mid-latitudes. The warming is **not** limited to the surface but in fact extends deeply through the troposphere.\n",
    "\n",
    "Both the spatial pattern and the magnitude of the warming are completely different than what our much simpler model predicted.\n",
    "\n",
    "Why?"
   ]
  },
  {
   "cell_type": "markdown",
   "id": "3bcb1a92",
   "metadata": {
    "slideshow": {
     "slide_type": "slide"
    }
   },
   "source": [
    "### Compute all the terms in the TOA and surface energy and water budget anomalies"
   ]
  },
  {
   "cell_type": "code",
   "execution_count": null,
   "id": "65393cd8",
   "metadata": {},
   "outputs": [],
   "source": [
    "energy_budget = {}\n",
    "for name, run in zip(['ctrl','halfEvap'],[ctrl,halfEvap]):\n",
    "    budget = xr.Dataset()\n",
    "    # TOA radiation\n",
    "    budget['OLR'] = run.FLNT\n",
    "    budget['OLR_clr'] = run.FLNTC\n",
    "    budget['ASR'] = run.FSNT\n",
    "    budget['ASR_clr'] = run.FSNTC\n",
    "    budget['Rtoa'] = budget.ASR - budget.OLR  # net downwelling radiation\n",
    "    #  surface fluxes  (all positive UP)\n",
    "    budget['LHF'] = run.LHFLX\n",
    "    budget['SHF'] = run.SHFLX\n",
    "    budget['LWsfc'] = run.FLNS\n",
    "    budget['LWsfc_clr'] = run.FLNSC\n",
    "    budget['SWsfc'] = -run.FSNS\n",
    "    budget['SWsfc_clr'] = -run.FSNSC\n",
    "    budget['SnowFlux'] = ((run.PRECSC+run.PRECSL)\n",
    "                           *const.rho_w*const.Lhfus)\n",
    "    # net upward radiation from surface\n",
    "    budget['SfcNetRad'] = budget['LWsfc'] + budget['SWsfc']  \n",
    "    budget['SfcNetRad_clr'] = budget['LWsfc_clr'] + budget['SWsfc_clr']  \n",
    "    # net upward surface heat flux\n",
    "    budget['SfcNet'] = (budget['SfcNetRad'] + budget['LHF'] + \n",
    "                     budget['SHF'] + budget['SnowFlux'])\n",
    "    # net heat flux in to atmosphere\n",
    "    budget['Fatmin'] = budget['Rtoa'] + budget['SfcNet']  \n",
    "    #  hydrological cycle\n",
    "    budget['Evap'] = run['QFLX']  # kg/m2/s or mm/s\n",
    "    budget['Precip'] = (run['PRECC']+run['PRECL'][:])*const.rho_w  # kg/m2/s or mm/s\n",
    "    budget['EminusP'] = budget.Evap - budget.Precip  # kg/m2/s or mm/s\n",
    "    energy_budget[name] = budget"
   ]
  },
  {
   "cell_type": "code",
   "execution_count": null,
   "id": "b4b097e1",
   "metadata": {
    "slideshow": {
     "slide_type": "slide"
    }
   },
   "outputs": [],
   "source": [
    "#   Here we take advantage of xarray!\n",
    "#   We can simply subtract the two xarray.Dataset objects \n",
    "#   to get anomalies for every term\n",
    "#   And also take the zonal averages for all anomaly fields in one line of code\n",
    "anom = energy_budget['halfEvap'] - energy_budget['ctrl']\n",
    "zonanom = anom.mean(dim='lon')"
   ]
  },
  {
   "cell_type": "markdown",
   "id": "78a00f65",
   "metadata": {
    "slideshow": {
     "slide_type": "slide"
    }
   },
   "source": [
    "### Energy budget anomalies at TOA and surface"
   ]
  },
  {
   "cell_type": "code",
   "execution_count": null,
   "id": "a65dd559",
   "metadata": {
    "slideshow": {
     "slide_type": "skip"
    }
   },
   "outputs": [],
   "source": [
    "fig, (ax1,ax2) = plt.subplots(1,2,figsize=(14,5))\n",
    "ax1.plot(lat, zonanom.ASR, color='b', label='ASR')\n",
    "ax1.plot(lat, zonanom.OLR, color='r', label='OLR')\n",
    "ax1.plot(lat, zonanom.ASR_clr, color='b', linestyle='--')\n",
    "ax1.plot(lat, zonanom.OLR_clr, color='r', linestyle='--')\n",
    "ax1.set_title('TOA radiation anomalies')\n",
    "    \n",
    "ax2.plot(lat, zonanom.SWsfc, color='b', label='SW')\n",
    "ax2.plot(lat, zonanom.SWsfc_clr, color='b', linestyle='--')\n",
    "ax2.plot(lat, zonanom.LWsfc, color='g', label='LW')\n",
    "ax2.plot(lat, zonanom.LWsfc_clr, color='g', linestyle='--')\n",
    "ax2.plot(lat, zonanom.LHF, color='r', label='LHF')\n",
    "ax2.plot(lat, zonanom.SHF, color='c', label='SHF')\n",
    "ax2.plot(lat, zonanom.SfcNet, color='m', label='Net')\n",
    "ax2.set_title('Surface energy budget anomalies')\n",
    "\n",
    "for ax in [ax1, ax2]:\n",
    "    ax.set_ylabel('W/m2'); ax.set_xlabel('Latitude')\n",
    "    ax.set_xlim(-90,90); ax.set_xticks(ticks);\n",
    "    ax.legend(); ax.grid();"
   ]
  },
  {
   "cell_type": "markdown",
   "id": "b032cd9f",
   "metadata": {
    "slideshow": {
     "slide_type": "slide"
    }
   },
   "source": [
    "Dashed lines are **clear-sky** radiation anomalies.\n",
    "\n",
    "Looking at the TOA budget:\n",
    "\n",
    "- Reducing evaporation efficiency leads to very large increase in ASR, especially in mid-latitudes\n",
    "- This increase is almost entirely due to clouds!\n",
    "- Accompanied by a (mostly) clear-sky OLR increase, consistent with the warmer temperatures.\n",
    "\n",
    "This is very suggestive of an important role for **low-level cloud changes**.  [Why?]"
   ]
  },
  {
   "cell_type": "markdown",
   "id": "c6a78a2c",
   "metadata": {
    "slideshow": {
     "slide_type": "slide"
    }
   },
   "source": [
    "From the **surface budget**:\n",
    "\n",
    "- Notice that the **decrease in evaporation is much weaker** than we found in the simple model.\n",
    "- Here, the decreased evaporation **efficiency** is competing against the **warmer temperatures** which tend to strongly increase evaporation, all else being equal.\n",
    "- The surface (ocean) gains a lot of excess heat by solar radiation.\n",
    "- As noted from the TOA budget, this is **due to changes in cloudiness**.\n",
    "- The clear-sky SW anomaly is actually positive, consistent with a warmer, moister atmosphere (but this effect is small).\n",
    "- The LW anomaly is positive, indicating increased radiative cooling of the surface.\n",
    "- This is also largely a cloud effect, and consistent with a **decrease in low-level cloudiness**. [Why?]\n",
    "- As in the simple model, there is an **increase in the sensible heat flux** (though weaker).\n",
    "- According to bulk formula, should be driven by one or both of\n",
    "    - increased wind speed\n",
    "    - increased air-sea temperature difference"
   ]
  },
  {
   "cell_type": "markdown",
   "id": "2bcd33f5",
   "metadata": {
    "slideshow": {
     "slide_type": "slide"
    }
   },
   "source": [
    "###  Vertical structure of relative humidity and cloud changes"
   ]
  },
  {
   "cell_type": "code",
   "execution_count": null,
   "id": "a31c3e8d",
   "metadata": {},
   "outputs": [],
   "source": [
    "fig, (ax1,ax2) = plt.subplots(1,2,figsize=(12,5))\n",
    "RH = (halfEvap.RELHUM - ctrl.RELHUM).mean(dim='lon'); CLOUD = (halfEvap.CLOUD - ctrl.CLOUD).mean(dim='lon')\n",
    "contours = np.arange(-15, 16., 2.)\n",
    "cax1 = ax1.contourf(lat, lev, RH, levels=contours, cmap='seismic'); fig.colorbar(cax1, ax=ax1); ax1.set_title('Relative Humidity (%)')\n",
    "cax2 = ax2.contourf(lat, lev, 100*CLOUD, levels=contours, cmap='seismic'); ax2.set_title('Cloud fraction (%)')\n",
    "for ax in [ax1, ax2]:\n",
    "    ax.invert_yaxis(); ax.set_xlim(-90,90); ax.set_xticks(ticks);"
   ]
  },
  {
   "cell_type": "markdown",
   "id": "16778bea",
   "metadata": {
    "slideshow": {
     "slide_type": "slide"
    }
   },
   "source": [
    "###  Meridional heat transport anomalies"
   ]
  },
  {
   "cell_type": "code",
   "execution_count": null,
   "id": "7aa157f8",
   "metadata": {},
   "outputs": [],
   "source": [
    "HT = {}\n",
    "HT['total'] = inferred_heat_transport(anom.Rtoa.mean(dim='lon'), lat)\n",
    "HT['atm'] = inferred_heat_transport(anom.Fatmin.mean(dim='lon'), lat)\n",
    "HT['latent'] = inferred_heat_transport(anom.EminusP.mean(dim='lon') * const.Lhvap, lat)\n",
    "HT['dse'] = HT['atm'] - HT['latent']"
   ]
  },
  {
   "cell_type": "code",
   "execution_count": null,
   "id": "0ddb81a4",
   "metadata": {
    "slideshow": {
     "slide_type": "slide"
    }
   },
   "outputs": [],
   "source": [
    "fig, ax = plt.subplots()\n",
    "ax.plot(lat, HT['total'], 'k-', label='total', linewidth=2)\n",
    "ax.plot(lat, HT['dse'], 'b', label='dry')\n",
    "ax.plot(lat, HT['latent'], 'r', label='latent')\n",
    "ax.set_xlim(-90,90); ax.set_xticks(ticks); ax.grid()\n",
    "ax.legend(loc='upper left'); ax.set_ylabel('PW'); ax.set_xlabel('Latitude')"
   ]
  },
  {
   "cell_type": "markdown",
   "id": "04bb5781",
   "metadata": {
    "slideshow": {
     "slide_type": "slide"
    }
   },
   "source": [
    "____________\n",
    "<a id='section4'></a>\n",
    "\n",
    "## 4. Conclusion\n",
    "____________"
   ]
  },
  {
   "cell_type": "markdown",
   "id": "26fd72d4",
   "metadata": {
    "slideshow": {
     "slide_type": "slide"
    }
   },
   "source": [
    "We have forced a climate change NOT by adding any kind of radiative forcing, but just by changing the efficiency of evaporation at the sea surface.\n",
    "\n",
    "The climate system then find a new equilibrium in which the radiative fluxes, surface temperature, air-sea temperature difference, boundary layer relative humidity, and wind speeds all change simultaneously."
   ]
  },
  {
   "cell_type": "markdown",
   "id": "6e0a3e11",
   "metadata": {
    "slideshow": {
     "slide_type": "slide"
    }
   },
   "source": [
    "Reasoning our way through such a problem from first principles in practically impossible. This is particularly true because in this example, the dominant driver of the climate change is an increase in SW absorption due to a substantial decrease in low-level clouds across the subtropics and mid-latitudes.\n",
    "\n",
    "A comprehensive theory to explain these cloud changes does not yet exist. **Understanding changes in low-level cloudiness under climate change is enormously important** -- because these clouds, which have an unambiguous cooling effect, are a key determinant of climate sensitivity. There is lots of work left to do."
   ]
  },
  {
   "cell_type": "markdown",
   "id": "94fc5c97",
   "metadata": {
    "slideshow": {
     "slide_type": "slide"
    }
   },
   "source": [
    "Water is intimately involved in just about every aspect of the planetary energy budget. Here we have highlighted the role of water in:\n",
    "\n",
    "- Cooling of the surface by evaporation\n",
    "- Water vapor greenhouse effect\n",
    "- Poleward latent heat transport\n",
    "- Cloud formation"
   ]
  },
  {
   "cell_type": "markdown",
   "id": "4226ed26",
   "metadata": {
    "slideshow": {
     "slide_type": "skip"
    }
   },
   "source": [
    "____________\n",
    "\n",
    "## Credits\n",
    "\n",
    "This notebook is part of [The Climate Laboratory](https://brian-rose.github.io/ClimateLaboratoryBook), an open-source textbook developed and maintained by [Brian E. J. Rose](http://www.atmos.albany.edu/facstaff/brose/index.html), University at Albany.\n",
    "\n",
    "It is licensed for free and open consumption under the\n",
    "[Creative Commons Attribution 4.0 International (CC BY 4.0)](https://creativecommons.org/licenses/by/4.0/) license.\n",
    "\n",
    "Development of these notes and the [climlab software](https://github.com/brian-rose/climlab) is partially supported by the National Science Foundation under award AGS-1455071 to Brian Rose. Any opinions, findings, conclusions or recommendations expressed here are mine and do not necessarily reflect the views of the National Science Foundation.\n",
    "____________"
   ]
  },
  {
   "cell_type": "code",
   "execution_count": null,
   "id": "c553828f",
   "metadata": {
    "slideshow": {
     "slide_type": "skip"
    }
   },
   "outputs": [],
   "source": []
  }
 ],
 "metadata": {
  "jupytext": {
   "text_representation": {
    "extension": ".md",
    "format_name": "myst",
    "format_version": 0.12,
    "jupytext_version": "1.6.0"
   }
  },
  "kernelspec": {
   "display_name": "Python 3",
   "language": "python",
   "name": "python3"
  },
  "source_map": [
   14,
   22,
   30,
   40,
   48,
   59,
   67,
   79,
   85,
   98,
   109,
   120,
   126,
   152,
   165,
   195,
   199,
   211,
   219,
   229,
   233,
   237,
   243,
   251,
   256,
   294,
   300,
   307,
   349,
   360,
   364,
   368,
   377,
   385,
   393,
   397,
   405,
   411,
   416,
   420,
   431,
   439,
   443,
   477,
   490,
   494,
   521,
   533,
   549,
   553,
   563,
   567,
   575,
   588,
   597,
   603,
   609,
   618,
   632
  ]
 },
 "nbformat": 4,
 "nbformat_minor": 5
}