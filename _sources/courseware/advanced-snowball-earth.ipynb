{
 "cells": [
  {
   "cell_type": "raw",
   "id": "cdbc343b-f9b9-47f0-a58f-b50a3584c090",
   "metadata": {
    "slideshow": {
     "slide_type": "slide"
    }
   },
   "source": [
    "# Advanced topic: Snowball Earth and Large Ice Cap Instability in the EBM\n",
    "\n",
    "This notebook is part of [The Climate Laboratory](https://brian-rose.github.io/ClimateLaboratoryBook) by [Brian E. J. Rose](http://www.atmos.albany.edu/facstaff/brose/index.html), University at Albany."
   ]
  },
  {
   "cell_type": "markdown",
   "id": "28fde6d0",
   "metadata": {},
   "source": [
    "*These notes and the companion [Advanced topic: Ice albedo feedback in the EBM](https://brian-rose.github.io/ClimateLaboratoryBook/courseware/advanced-albedo-feedback.html) extend the material in the [Ice-albedo feedback and Snowball Earth in the EBM](https://brian-rose.github.io/ClimateLaboratoryBook/courseware/albedo-snowball.html) notes.*"
   ]
  },
  {
   "cell_type": "markdown",
   "id": "042b30cb",
   "metadata": {
    "slideshow": {
     "slide_type": "slide"
    }
   },
   "source": [
    "<div class=\"alert alert-warning\">\n",
    "Unlike most of the other notebooks in this series, this one performs some intensive computations and may take more than an hour to run from start to finish (your mileage may vary).\n",
    "</div>"
   ]
  },
  {
   "cell_type": "code",
   "execution_count": null,
   "id": "43049ce5",
   "metadata": {
    "slideshow": {
     "slide_type": "skip"
    }
   },
   "outputs": [],
   "source": [
    "%matplotlib inline\n",
    "import numpy as np\n",
    "import matplotlib.pyplot as plt\n",
    "from climlab import constants as const\n",
    "import climlab"
   ]
  },
  {
   "cell_type": "markdown",
   "id": "f5a903d9",
   "metadata": {
    "slideshow": {
     "slide_type": "slide"
    }
   },
   "source": [
    "____________\n",
    "<a id='section1'></a>\n",
    "\n",
    "## 1. The Neoproterozoic Snowball Earth events\n",
    "____________"
   ]
  },
  {
   "cell_type": "markdown",
   "id": "e521da31",
   "metadata": {
    "slideshow": {
     "slide_type": "skip"
    }
   },
   "source": [
    "### The Geologic Time Scale\n",
    "\n",
    "First, some information on the nomenclature for Earth history:"
   ]
  },
  {
   "cell_type": "markdown",
   "id": "809521ee",
   "metadata": {},
   "source": [
    "<img src='../images/GeoTimeScale2009.png'>\n",
    "\n",
    "Source: Walker, J. and Geissman, J. (2009). Geologic time scale. Technical report, Geological Society of America."
   ]
  },
  {
   "cell_type": "markdown",
   "id": "08d76cec",
   "metadata": {
    "slideshow": {
     "slide_type": "slide"
    }
   },
   "source": [
    "### Extensive evidence for large glaciers at sea level in the tropics \n",
    "\n",
    "Evidently the climate was **very cold** at these times (635 Ma and 715 Ma)"
   ]
  },
  {
   "cell_type": "markdown",
   "id": "913b1a8e",
   "metadata": {},
   "source": [
    "<img src='../images/Hoffman_Li_2009.png'>\n",
    "\n",
    "Source: [Hoffman, P. F. and Li, Z.-X. (2009). A palaeogeographic context for Neoproterozoic glaciation. Palaeogeogr. Palaeoclimatol. Palaeoecol., 277:158–172.](https://doi.org/10.1016/j.palaeo.2009.03.013)"
   ]
  },
  {
   "cell_type": "markdown",
   "id": "e8c33175",
   "metadata": {},
   "source": [
    "<img src='../images/Hoffman_Schrag_2002_Fig2.png'>\n",
    "\n",
    "Source: [Hoffman, P. F. and Schrag, D. P. (2002). The snowball Earth hypothesis: testing the limits of global change. Terra Nova, 14(3):129–155.](https://doi.org/10.1046/j.1365-3121.2002.00408.x)"
   ]
  },
  {
   "cell_type": "markdown",
   "id": "9e02bbcc",
   "metadata": {
    "slideshow": {
     "slide_type": "slide"
    }
   },
   "source": [
    "###  The Snowball Earth hypothesis\n",
    "\n",
    "Various bizarre features in the geological record from 635 and 715 Ma ago indicate that the Earth underwent some very extreme environmental changes… at least twice. The **Snowball Earth hypothesis** postulates that:\n",
    "\n",
    "- The Earth was completely ice-covered (including the oceans)\n",
    "- The total glaciation endured for millions of years\n",
    "- CO$_2$ slowly accumulated in the atmosphere from volcanoes\n",
    "- Weathering of rocks (normally acting to reduce CO$_2$) extremely slow due to cold, dry climate\n",
    "- Eventually the extreme greenhouse effect is enough to melt back the ice\n",
    "- The Earth then enters a period of extremely hot climate."
   ]
  },
  {
   "cell_type": "markdown",
   "id": "98757869",
   "metadata": {
    "slideshow": {
     "slide_type": "slide"
    }
   },
   "source": [
    "The hypothesis rests on a phenomenon first discovered by climate modelers in the Budyko-Sellers EBM: **runaway ice-albedo feedback** or **large ice cap instability**."
   ]
  },
  {
   "cell_type": "markdown",
   "id": "579d0420",
   "metadata": {
    "slideshow": {
     "slide_type": "slide"
    }
   },
   "source": [
    "____________\n",
    "<a id='section2'></a>\n",
    "\n",
    "## 2. Stability of the polar ice caps: the concept\n",
    "____________"
   ]
  },
  {
   "cell_type": "markdown",
   "id": "588404a2",
   "metadata": {},
   "source": [
    "<img src='../images/large_ice_cap_sketch.png'>"
   ]
  },
  {
   "cell_type": "markdown",
   "id": "e495228b",
   "metadata": {
    "slideshow": {
     "slide_type": "slide"
    }
   },
   "source": [
    "For small perturbations, we can relate the cooling to the displacement of the ice edge as:\n",
    "\n",
    "$$  \\delta T = -\\frac{dT}{d\\phi} \\bigg|_{\\phi_i} \\delta \\phi  $$"
   ]
  },
  {
   "cell_type": "markdown",
   "id": "d1ecd0b6",
   "metadata": {
    "slideshow": {
     "slide_type": "slide"
    }
   },
   "source": [
    "### Stability criterion:\n",
    "\n",
    "$$ \\frac{\\delta a ~ S(\\phi_i) ~ \\cos\\phi_i}{B} < -\\frac{dT}{d\\phi} \\bigg|_{\\phi_i} \\delta \\phi  $$\n",
    "\n",
    "The LHS is **largest at the equator**, while the RHS is **large in mid-latitudes and near zero at the equator**.\n",
    "\n",
    "The conclusion:  **The ice will always grow unstably toward the equator once it reaches some critical latitude.**\n",
    "\n",
    "This is called **Large Ice Cap Instability**, and was first discovered in the Budyko-Sellers EBM.\n",
    "\n",
    "See [Rose (2015), J. Geophys. Res., doi:10.1002/2014JD022659](http://onlinelibrary.wiley.com/doi/10.1002/2014JD022659/abstract)"
   ]
  },
  {
   "cell_type": "markdown",
   "id": "548174a9",
   "metadata": {
    "slideshow": {
     "slide_type": "slide"
    }
   },
   "source": [
    "____________\n",
    "<a id='section3'></a>\n",
    "\n",
    "## 3. Annual-mean EBM with albedo feedback: adjustment to equilibrium\n",
    "____________"
   ]
  },
  {
   "cell_type": "markdown",
   "id": "36bde2dd",
   "metadata": {
    "slideshow": {
     "slide_type": "slide"
    }
   },
   "source": [
    "Here we will use the 1-dimensional diffusive Energy Balance Model (EBM) to explore the effects of albedo feedback and heat transport on climate sensitivity."
   ]
  },
  {
   "cell_type": "code",
   "execution_count": null,
   "id": "0ae6e8dc",
   "metadata": {},
   "outputs": [],
   "source": [
    "#  for convenience, set up a dictionary with our reference parameters\n",
    "param = {'A':210, 'B':2, 'a0':0.3, 'a2':0.078, 'ai':0.62, 'Tf':-10., 'D':0.55}\n",
    "model1 = climlab.EBM_annual(name='Annual Mean EBM with ice line', num_lat=180, **param )\n",
    "print(model1)"
   ]
  },
  {
   "cell_type": "code",
   "execution_count": null,
   "id": "5bf53d70",
   "metadata": {
    "slideshow": {
     "slide_type": "slide"
    }
   },
   "outputs": [],
   "source": [
    "model1.integrate_years(5)\n",
    "Tequil = np.array(model1.Ts)\n",
    "ALBequil = np.array(model1.albedo)\n",
    "OLRequil = np.array(model1.OLR)\n",
    "ASRequil = np.array(model1.ASR)"
   ]
  },
  {
   "cell_type": "markdown",
   "id": "c6bc07db",
   "metadata": {
    "slideshow": {
     "slide_type": "slide"
    }
   },
   "source": [
    "Let's look at what happens if we perturb the temperature -- make it 20ºC colder everywhere!"
   ]
  },
  {
   "cell_type": "code",
   "execution_count": null,
   "id": "d734bc8e",
   "metadata": {},
   "outputs": [],
   "source": [
    "model1.Ts -= 20.\n",
    "model1.compute_diagnostics()"
   ]
  },
  {
   "cell_type": "markdown",
   "id": "64c87382",
   "metadata": {
    "slideshow": {
     "slide_type": "slide"
    }
   },
   "source": [
    "Let's take a look at how we have just perturbed the absorbed shortwave:"
   ]
  },
  {
   "cell_type": "code",
   "execution_count": null,
   "id": "c79cd29f",
   "metadata": {
    "slideshow": {
     "slide_type": "skip"
    }
   },
   "outputs": [],
   "source": [
    "my_ticks = [-90,-60,-30,0,30,60,90]\n",
    "lat = model1.lat\n",
    "\n",
    "fig = plt.figure( figsize=(12,5) )\n",
    "\n",
    "ax1 = fig.add_subplot(1,2,1)\n",
    "ax1.plot(lat, Tequil, label='equil') \n",
    "ax1.plot(lat, model1.state['Ts'], label='pert' )\n",
    "ax1.grid()\n",
    "ax1.legend()\n",
    "ax1.set_xlim(-90,90)\n",
    "ax1.set_xticks(my_ticks)\n",
    "ax1.set_xlabel('Latitude')\n",
    "ax1.set_ylabel('Temperature (degC)')\n",
    "\n",
    "ax2 = fig.add_subplot(1,2,2)\n",
    "ax2.plot( lat, ASRequil, label='equil') \n",
    "ax2.plot( lat, model1.diagnostics['ASR'], label='pert' )\n",
    "ax2.grid()\n",
    "ax2.legend()\n",
    "ax2.set_xlim(-90,90)\n",
    "ax2.set_xticks(my_ticks)\n",
    "ax2.set_xlabel('Latitude')\n",
    "ax2.set_ylabel('ASR (W m$^{-2}$)')"
   ]
  },
  {
   "cell_type": "markdown",
   "id": "216cf59c",
   "metadata": {
    "slideshow": {
     "slide_type": "slide"
    }
   },
   "source": [
    "So there is less absorbed shortwave now, because of the increased albedo. The global mean difference is:"
   ]
  },
  {
   "cell_type": "code",
   "execution_count": null,
   "id": "610f2068",
   "metadata": {},
   "outputs": [],
   "source": [
    "climlab.global_mean( model1.ASR - ASRequil )"
   ]
  },
  {
   "cell_type": "markdown",
   "id": "ab8c945c",
   "metadata": {},
   "source": [
    "Less shortwave means that there is a tendency for the climate to cool down even more! In other words, the shortwave feedback is **positive**."
   ]
  },
  {
   "cell_type": "markdown",
   "id": "c0045361",
   "metadata": {
    "slideshow": {
     "slide_type": "slide"
    }
   },
   "source": [
    "____________\n",
    "<a id='section4'></a>\n",
    "\n",
    "## 4. Global feedback analysis in the EBM\n",
    "____________\n",
    "\n",
    "Take the global mean of the EBM equation, the transport term drops out\n",
    "\n",
    "$$ C \\frac{\\partial \\langle T_s \\rangle}{\\partial t} = \\langle (1-\\alpha) ~ Q \\rangle - ~A - B~\\langle T_s \\rangle $$"
   ]
  },
  {
   "cell_type": "markdown",
   "id": "acaad3d0",
   "metadata": {
    "slideshow": {
     "slide_type": "slide"
    }
   },
   "source": [
    "Way back in [Lecture 3](./Lecture03 -- Climate sensitivity and feedback.ipynb) we defined the net climate feedback parameter through a linear Taylor series expansion of the global energy budget:\n",
    "\n",
    "$$ \\lambda = \\frac{\\partial}{\\partial \\langle T_s \\rangle} \\bigg( \\Delta F_{TOA} \\bigg) $$\n",
    "\n",
    "where $\\Delta F_{TOA}$ is the change in the net downward radiative flux at the TOA associated with a change $\\delta \\langle T_s \\rangle$ in the global average surface temperature."
   ]
  },
  {
   "cell_type": "markdown",
   "id": "76d6c615",
   "metadata": {
    "slideshow": {
     "slide_type": "slide"
    }
   },
   "source": [
    "Applying this to the RHS of our EBM equation gives\n",
    "\n",
    "$$ \\lambda = \\lambda_{LW} + \\lambda_{SW} $$\n",
    "\n",
    "with longwave and shortwave contributions:\n",
    "\n",
    "$$ \\lambda_{LW} = -B $$\n",
    "\n",
    "and \n",
    "\n",
    "$$ \\lambda_{SW} = \\frac{\\Delta \\langle (1-\\alpha) ~ Q \\rangle}{\\Delta \\langle T_s \\rangle} $$"
   ]
  },
  {
   "cell_type": "markdown",
   "id": "58f9623d",
   "metadata": {
    "slideshow": {
     "slide_type": "slide"
    }
   },
   "source": [
    "The longwave feedback is a constant in our model, by contruction.\n",
    "\n",
    "The shortwave feedback, on the other hand, is **state-dependent**. The feedback depends on the detailed displacement of the ice line for a given global temperature change."
   ]
  },
  {
   "cell_type": "markdown",
   "id": "f4055c70",
   "metadata": {
    "slideshow": {
     "slide_type": "slide"
    }
   },
   "source": [
    "Plugging in numbers from our example above gives\n",
    "\n",
    "$\\lambda = - 2 + \\frac{-20.4}{-20} = -2 + 1 = -1$ W m$^{-2}$ $^{\\circ}$C$^{-1}$\n",
    "\n",
    "The feedback is negative, as we expect! The tendency to warm up from reduced OLR outweighs the tendency to cool down from reduced ASR. A negative net feedback means that the system will relax back towards the equilibrium."
   ]
  },
  {
   "cell_type": "markdown",
   "id": "782a5ba1",
   "metadata": {
    "slideshow": {
     "slide_type": "slide"
    }
   },
   "source": [
    "Let's let the temperature evolve one year at a time and add extra lines to the graph:"
   ]
  },
  {
   "cell_type": "code",
   "execution_count": null,
   "id": "2a4f8929",
   "metadata": {
    "slideshow": {
     "slide_type": "-"
    }
   },
   "outputs": [],
   "source": [
    "plt.plot( lat, Tequil, 'k--', label='equil' )\n",
    "plt.plot( lat, model1.Ts, 'k-', label='pert' )\n",
    "plt.grid(); plt.xlim(-90,90); plt.legend()\n",
    "for n in range(5):\n",
    "    model1.integrate_years(years=1.0, verbose=False)\n",
    "    plt.plot(lat, model1.Ts)"
   ]
  },
  {
   "cell_type": "markdown",
   "id": "269a50a5",
   "metadata": {
    "slideshow": {
     "slide_type": "slide"
    }
   },
   "source": [
    "Temperature drifts back towards equilibrium, as we expected!"
   ]
  },
  {
   "cell_type": "markdown",
   "id": "2ce06883",
   "metadata": {},
   "source": [
    "What if we cool the climate **so much** that the entire planet is ice covered?"
   ]
  },
  {
   "cell_type": "code",
   "execution_count": null,
   "id": "de5a42d7",
   "metadata": {
    "slideshow": {
     "slide_type": "slide"
    }
   },
   "outputs": [],
   "source": [
    "model1.Ts -= 40.\n",
    "model1.compute_diagnostics()"
   ]
  },
  {
   "cell_type": "markdown",
   "id": "42ce1645",
   "metadata": {},
   "source": [
    "Look again at the change in absorbed shortwave:"
   ]
  },
  {
   "cell_type": "code",
   "execution_count": null,
   "id": "20779af5",
   "metadata": {},
   "outputs": [],
   "source": [
    "climlab.global_mean( model1.ASR - ASRequil )"
   ]
  },
  {
   "cell_type": "markdown",
   "id": "0c12572b",
   "metadata": {
    "slideshow": {
     "slide_type": "slide"
    }
   },
   "source": [
    "It's much larger because we've covered so much more surface area with ice!\n",
    "\n",
    "The feedback calculation now looks like\n",
    "\n",
    "$\\lambda = - 2 + \\frac{-109}{-40} = -2 + 2.7 = +0.7$ W m$^{-2}$ $^{\\circ}$C$^{-1}$\n",
    "\n",
    "What? Looks like the **positive** albedo feedback is so strong here that it has outweighed the **negative** longwave feedback. What will happen to the system now? Let's find out..."
   ]
  },
  {
   "cell_type": "code",
   "execution_count": null,
   "id": "da3ad01d",
   "metadata": {
    "slideshow": {
     "slide_type": "slide"
    }
   },
   "outputs": [],
   "source": [
    "plt.plot( lat, Tequil, 'k--', label='equil' )\n",
    "plt.plot( lat, model1.Ts, 'k-', label='pert' )\n",
    "plt.grid(); plt.xlim(-90,90); plt.legend()\n",
    "for n in range(5):\n",
    "    model1.integrate_years(years=1.0, verbose=False)\n",
    "    plt.plot(lat, model1.Ts)"
   ]
  },
  {
   "cell_type": "markdown",
   "id": "fa2d2290",
   "metadata": {
    "slideshow": {
     "slide_type": "slide"
    }
   },
   "source": [
    "Something **very different** happened! The climate drifted towards an entirely different equilibrium state, in which the entire planet is cold and ice-covered.\n",
    "\n",
    "We will refer to this as the **SNOWBALL EARTH**.\n",
    "\n",
    "Note that the warmest spot on the planet is still the equator, but it is now about -33ºC rather than +28ºC!"
   ]
  },
  {
   "cell_type": "markdown",
   "id": "2b7a7aea",
   "metadata": {
    "slideshow": {
     "slide_type": "slide"
    }
   },
   "source": [
    "____________\n",
    "<a id='section5'></a>\n",
    "\n",
    "## 5. Here Comes the Sun! Where is the ice edge?\n",
    "____________"
   ]
  },
  {
   "cell_type": "markdown",
   "id": "5c486032",
   "metadata": {
    "slideshow": {
     "slide_type": "slide"
    }
   },
   "source": [
    "The ice edge in our model is always where the temperature crosses $T_f = -10^\\circ$C. The system is at **equilibrium** when the temperature is such that there is a balance between ASR, OLR, and heat transport convergence everywhere. \n",
    "\n",
    "Suppose that sun was hotter or cooler at different times (in fact it was significantly cooler during early Earth history). That would mean that the solar constant $S_0 = 4Q$ was larger or smaller. We should expect that the temperature (and thus the ice edge) should increase and decrease as we change $S_0$."
   ]
  },
  {
   "cell_type": "markdown",
   "id": "3f6cada1",
   "metadata": {
    "slideshow": {
     "slide_type": "slide"
    }
   },
   "source": [
    "$S_0$ during the Neoproterozoic Snowball Earth events is believed to be about 93% of its present-day value, or about 1270 W m$^{-2}$.\n",
    "\n",
    "We are going to look at how the **equilibrium** ice edge depends on $S_0$, by integrating the model out to equilibrium for lots of different values of $S_0$. We will start by slowly decreasing $S_0$, and then slowly increasing $S_0$."
   ]
  },
  {
   "cell_type": "code",
   "execution_count": null,
   "id": "9994437c",
   "metadata": {
    "slideshow": {
     "slide_type": "slide"
    }
   },
   "outputs": [],
   "source": [
    "model2 = climlab.EBM_annual(num_lat = 360, **param)"
   ]
  },
  {
   "cell_type": "code",
   "execution_count": null,
   "id": "0cc1c2df",
   "metadata": {},
   "outputs": [],
   "source": [
    "S0array = np.linspace(1400., 1200., 200)"
   ]
  },
  {
   "cell_type": "code",
   "execution_count": null,
   "id": "896a3fe0",
   "metadata": {},
   "outputs": [],
   "source": [
    "model2.integrate_years(5)"
   ]
  },
  {
   "cell_type": "code",
   "execution_count": null,
   "id": "250e05bb",
   "metadata": {},
   "outputs": [],
   "source": [
    "print( model2.icelat)"
   ]
  },
  {
   "cell_type": "code",
   "execution_count": null,
   "id": "5723a45f",
   "metadata": {
    "slideshow": {
     "slide_type": "slide"
    }
   },
   "outputs": [],
   "source": [
    "icelat_cooling = np.empty_like(S0array)\n",
    "icelat_warming = np.empty_like(S0array)"
   ]
  },
  {
   "cell_type": "code",
   "execution_count": null,
   "id": "85a303ed",
   "metadata": {},
   "outputs": [],
   "source": [
    "# First cool....\n",
    "for n in range(S0array.size):\n",
    "    model2.subprocess['insolation'].S0 = S0array[n]\n",
    "    model2.integrate_years(10, verbose=False)\n",
    "    icelat_cooling[n] = np.max(model2.icelat)\n",
    "# Then warm...\n",
    "for n in range(S0array.size):\n",
    "    model2.subprocess['insolation'].S0 = np.flipud(S0array)[n]\n",
    "    model2.integrate_years(10, verbose=False)\n",
    "    icelat_warming[n] = np.max(model2.icelat)"
   ]
  },
  {
   "cell_type": "markdown",
   "id": "97a4da2d",
   "metadata": {
    "slideshow": {
     "slide_type": "slide"
    }
   },
   "source": [
    "For completeness: also start from present-day conditions and warm up."
   ]
  },
  {
   "cell_type": "code",
   "execution_count": null,
   "id": "b9c29f78",
   "metadata": {},
   "outputs": [],
   "source": [
    "model3 = climlab.EBM_annual(num_lat=360, **param)\n",
    "S0array3 = np.linspace(1350., 1400., 50)\n",
    "#S0array3 = np.linspace(1350., 1400., 5)\n",
    "icelat3 = np.empty_like(S0array3)"
   ]
  },
  {
   "cell_type": "code",
   "execution_count": null,
   "id": "46d97f4c",
   "metadata": {},
   "outputs": [],
   "source": [
    "for n in range(S0array3.size):\n",
    "    model3.subprocess['insolation'].S0 = S0array3[n]\n",
    "    model3.integrate_years(10, verbose=False)\n",
    "    icelat3[n] = np.max(model3.icelat)"
   ]
  },
  {
   "cell_type": "code",
   "execution_count": null,
   "id": "05f2424c",
   "metadata": {
    "slideshow": {
     "slide_type": "skip"
    }
   },
   "outputs": [],
   "source": [
    "fig = plt.figure( figsize=(10,6) )\n",
    "ax = fig.add_subplot(111)\n",
    "ax.plot(S0array, icelat_cooling, 'r-', label='cooling' )\n",
    "ax.plot(S0array, icelat_warming, 'b-', label='warming' )\n",
    "ax.plot(S0array3, icelat3, 'g-', label='warming' )\n",
    "ax.set_ylim(-10,100)\n",
    "ax.set_yticks((0,15,30,45,60,75,90))\n",
    "ax.grid()\n",
    "ax.set_ylabel('Ice edge latitude', fontsize=16)\n",
    "ax.set_xlabel('Solar constant (W m$^{-2}$)', fontsize=16)\n",
    "ax.plot( [const.S0, const.S0], [-10, 100], 'k--', label='present-day' )\n",
    "ax.legend(loc='upper left')\n",
    "ax.set_title('Solar constant versus ice edge latitude in the EBM with albedo feedback', fontsize=16);"
   ]
  },
  {
   "cell_type": "markdown",
   "id": "9ac1152a",
   "metadata": {},
   "source": [
    "There are actually up to 3 different climates possible for a given value of $S_0$!"
   ]
  },
  {
   "cell_type": "markdown",
   "id": "bcdbfd30",
   "metadata": {
    "slideshow": {
     "slide_type": "slide"
    }
   },
   "source": [
    "### How to un-freeze the Snowball"
   ]
  },
  {
   "cell_type": "markdown",
   "id": "980f0df6",
   "metadata": {},
   "source": [
    "The graph indicates that if the Earth were completely frozen over, it would be perfectly happy to stay that way even if the sun were brighter and hotter than it is today.\n",
    "\n",
    "Our EBM predicts that (with present-day parameters) the equilibrium temperature at the equator in the Snowball state is about -33ºC, which is much colder than the threshold temperature $T_f = -10^\\circ$C. How can we melt the Snowball?"
   ]
  },
  {
   "cell_type": "markdown",
   "id": "27e97c4e",
   "metadata": {
    "slideshow": {
     "slide_type": "slide"
    }
   },
   "source": [
    "We need to increase the avaible energy sufficiently to get the equatorial temperatures above this threshold! That is going to require a much larger increase in $S_0$ (could also increase the greenhouse gases, which would have a similar effect)!\n",
    "\n",
    "Let's crank up the sun to 1830 W m$^{-2}$ (about a 35% increase from present-day)."
   ]
  },
  {
   "cell_type": "code",
   "execution_count": null,
   "id": "6b84cec9",
   "metadata": {
    "slideshow": {
     "slide_type": "slide"
    }
   },
   "outputs": [],
   "source": [
    "model4 = climlab.process_like(model2)  # initialize with cold Snowball temperature\n",
    "model4.subprocess['insolation'].S0 = 1830.\n",
    "model4.integrate_years(40)\n",
    "plt.plot(model4.lat, model4.Ts)\n",
    "plt.xlim(-90,90); plt.ylabel('Temperature'); plt.xlabel('Latitude')\n",
    "plt.grid(); plt.xticks(my_ticks)\n",
    "print('The ice edge is at ' + str(model4.icelat) + ' degrees latitude.' )"
   ]
  },
  {
   "cell_type": "markdown",
   "id": "15f58c7c",
   "metadata": {
    "slideshow": {
     "slide_type": "slide"
    }
   },
   "source": [
    "Still a Snowball... but just barely! The temperature at the equator is just below the threshold.\n",
    "\n",
    "Try to imagine what might happen once it starts to melt. The solar constant is huge, and if it weren't for the highly reflective ice and snow, the climate would be really really hot!\n",
    "\n",
    "We're going to increase $S_0$ one more time..."
   ]
  },
  {
   "cell_type": "code",
   "execution_count": null,
   "id": "cbca3dfb",
   "metadata": {
    "slideshow": {
     "slide_type": "slide"
    }
   },
   "outputs": [],
   "source": [
    "model4.subprocess['insolation'].S0 = 1840.\n",
    "model4.integrate_years(10)\n",
    "plt.plot(model4.lat, model4.Ts)\n",
    "plt.xlim(-90,90); plt.ylabel('Temperature'); plt.xlabel('Latitude')\n",
    "plt.grid(); plt.xticks(my_ticks);"
   ]
  },
  {
   "cell_type": "markdown",
   "id": "5aca7e08",
   "metadata": {
    "slideshow": {
     "slide_type": "slide"
    }
   },
   "source": [
    "Suddenly the climate looks very very different again! The global mean temperature is"
   ]
  },
  {
   "cell_type": "code",
   "execution_count": null,
   "id": "0b9a3663",
   "metadata": {},
   "outputs": [],
   "source": [
    "print( model4.global_mean_temperature() )"
   ]
  },
  {
   "cell_type": "markdown",
   "id": "59de2752",
   "metadata": {},
   "source": [
    "A roasty 58ºC, and the poles are above 20ºC. A tiny increase in $S_0$ has led to a very drastic change in the climate."
   ]
  },
  {
   "cell_type": "code",
   "execution_count": null,
   "id": "c461a4a7",
   "metadata": {
    "slideshow": {
     "slide_type": "slide"
    }
   },
   "outputs": [],
   "source": [
    "S0array_snowballmelt = np.linspace(1400., 1900., 50)\n",
    "icelat_snowballmelt = np.empty_like(S0array_snowballmelt)\n",
    "icelat_snowballmelt_cooling = np.empty_like(S0array_snowballmelt)\n",
    "\n",
    "for n in range(S0array_snowballmelt.size):\n",
    "    model2.subprocess['insolation'].S0 = S0array_snowballmelt[n]\n",
    "    model2.integrate_years(10, verbose=False)\n",
    "    icelat_snowballmelt[n] = np.max(model2.icelat)\n",
    "    \n",
    "for n in range(S0array_snowballmelt.size):\n",
    "    model2.subprocess['insolation'].S0 = np.flipud(S0array_snowballmelt)[n]\n",
    "    model2.integrate_years(10, verbose=False)\n",
    "    icelat_snowballmelt_cooling[n] = np.max(model2.icelat)"
   ]
  },
  {
   "cell_type": "markdown",
   "id": "e0c6ce1f",
   "metadata": {},
   "source": [
    "Now we will complete the plot of ice edge versus solar constant."
   ]
  },
  {
   "cell_type": "code",
   "execution_count": null,
   "id": "f8c11e24",
   "metadata": {
    "slideshow": {
     "slide_type": "skip"
    }
   },
   "outputs": [],
   "source": [
    "fig = plt.figure( figsize=(10,6) )\n",
    "ax = fig.add_subplot(111)\n",
    "ax.plot(S0array, icelat_cooling, 'r-', label='cooling' )\n",
    "ax.plot(S0array, icelat_warming, 'b-', label='warming' )\n",
    "ax.plot(S0array3, icelat3, 'g-', label='warming' )\n",
    "ax.plot(S0array_snowballmelt, icelat_snowballmelt, 'b-' )\n",
    "ax.plot(S0array_snowballmelt, icelat_snowballmelt_cooling, 'r-' )\n",
    "ax.set_ylim(-10,100)\n",
    "ax.set_yticks((0,15,30,45,60,75,90))\n",
    "ax.grid()\n",
    "ax.set_ylabel('Ice edge latitude', fontsize=16)\n",
    "ax.set_xlabel('Solar constant (W m$^{-2}$)', fontsize=16)\n",
    "ax.plot( [const.S0, const.S0], [-10, 100], 'k--', label='present-day' )\n",
    "ax.legend(loc='upper left')\n",
    "ax.set_title('Solar constant versus ice edge latitude in the EBM with albedo feedback', fontsize=16);"
   ]
  },
  {
   "cell_type": "markdown",
   "id": "0dd43faa",
   "metadata": {
    "slideshow": {
     "slide_type": "slide"
    }
   },
   "source": [
    "The upshot:\n",
    "\n",
    "- For extremely large $S_0$, the only possible climate is a hot Earth with no ice.\n",
    "- For extremely small $S_0$, the only possible climate is a cold Earth completely covered in ice.\n",
    "- For a large range of $S_0$ including the present-day value, more than one climate is possible!\n",
    "- Once we get into a Snowball Earth state, getting out again is rather difficult!"
   ]
  },
  {
   "cell_type": "markdown",
   "id": "01f9970e",
   "metadata": {
    "slideshow": {
     "slide_type": "skip"
    }
   },
   "source": [
    "____________\n",
    "\n",
    "## Credits\n",
    "\n",
    "This notebook is part of [The Climate Laboratory](https://brian-rose.github.io/ClimateLaboratoryBook), an open-source textbook developed and maintained by [Brian E. J. Rose](http://www.atmos.albany.edu/facstaff/brose/index.html), University at Albany.\n",
    "\n",
    "It is licensed for free and open consumption under the\n",
    "[Creative Commons Attribution 4.0 International (CC BY 4.0)](https://creativecommons.org/licenses/by/4.0/) license.\n",
    "\n",
    "Development of these notes and the [climlab software](https://github.com/brian-rose/climlab) is partially supported by the National Science Foundation under award AGS-1455071 to Brian Rose. Any opinions, findings, conclusions or recommendations expressed here are mine and do not necessarily reflect the views of the National Science Foundation.\n",
    "____________"
   ]
  },
  {
   "cell_type": "code",
   "execution_count": null,
   "id": "579b377a",
   "metadata": {},
   "outputs": [],
   "source": []
  }
 ],
 "metadata": {
  "jupytext": {
   "formats": "ipynb,md:myst"
  },
  "kernelspec": {
   "display_name": "Python 3 (ipykernel)",
   "language": "python",
   "name": "python3"
  },
  "language_info": {
   "codemirror_mode": {
    "name": "ipython",
    "version": 3
   },
   "file_extension": ".py",
   "mimetype": "text/x-python",
   "name": "python",
   "nbconvert_exporter": "python",
   "pygments_lexer": "ipython3",
   "version": "3.10.8"
  }
 },
 "nbformat": 4,
 "nbformat_minor": 5
}
