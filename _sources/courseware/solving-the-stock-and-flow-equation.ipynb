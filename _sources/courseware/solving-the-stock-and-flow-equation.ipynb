{
 "cells": [
  {
   "cell_type": "markdown",
   "id": "d1199a75",
   "metadata": {},
   "source": [
    "# Stock and flow with feedback\n",
    "\n",
    "---\n",
    "\n",
    "Below we derive Hartmann equation 13.7  with\n",
    "constant climate sensitivity $\\lambda$ and forcing $Q_0$ the temperature response is given by\n",
    "\n",
    "$$\\Delta T = \\lambda Q_0 \\left (1 - \\exp (-t/\\tau ) \\right )$$\n",
    "\n",
    "1\\.  Start with the definition for the energy in a 1 $m^2$ column of the ocean mixed layer, compared to a reference\n",
    "temperature $T_{ref}$ like the average temperature between 1960-1980:\n",
    "\n",
    "$$E = \\rho_w c_p H \\Delta T\\ (J\\,m^{-2})$$\n",
    "\n",
    "where $\\rho_w\\ (kg\\,m^{-3})$ and $c_p\\ (J\\,kg^{-1}\\,K^{-1})$ are the density and heat capacity of liquid\n",
    "water, H (m) is the depth of the mixed layer and $\\Delta T = T - T_{ref}$ is the temperature difference.  Note that\n",
    "since $T_{ref}$ is a constant, $\\frac{d\\Delta T}{dt} = \\frac{d (T - T_{ref})}{dt} = \\frac{dT}{dt}$\n",
    "\n",
    "---"
   ]
  },
  {
   "cell_type": "markdown",
   "id": "0a7c28c6",
   "metadata": {},
   "source": [
    "2\\. We know that the energy in the column is going to change due to the combination of forcing and feedbacks:\n",
    "\n",
    "$$\\frac{dE}{dt} = Q_0 - \\frac{\\Delta T}{\\lambda}$$\n",
    "\n",
    "or expanding E:\n",
    "\n",
    "$$\\rho_w c_p H \\frac{\\Delta T}{dt} =Q_0 - \\frac{\\Delta T}{\\lambda}$$\n",
    "\n",
    "---"
   ]
  },
  {
   "cell_type": "markdown",
   "id": "93d48267",
   "metadata": {},
   "source": [
    "3\\. First rearrange the terms:\n",
    "\n",
    "$$\\frac{d \\Delta T}{dt} = \\frac{\\lambda Q_0}{\\tau} - \\frac{\\Delta T}{\\tau}$$\n",
    "\n",
    "where we define the time constant $\\tau = \\lambda \\rho_w c_p H$.\n",
    "\n",
    "Then transform to the new variable $z$:\n",
    "\n",
    "$$z = \\lambda Q_0 - \\Delta T$$  \n",
    "\n",
    "where, since $\\lambda Q_0$ is constant:\n",
    "\n",
    "$$\\frac{dz}{dt} = - \\frac{\\Delta T}{dt}$$\n",
    "\n",
    "So the stock and flow equation becomes:\n",
    "\n",
    "$$\\frac{dz}{dt} = -\\frac{z}{\\tau}$$\n",
    "\n",
    "---"
   ]
  },
  {
   "cell_type": "markdown",
   "id": "020a92e6",
   "metadata": {},
   "source": [
    "4\\. Substitute $z = C \\exp(-t/\\tau)$.   To find the constant $C$ recognize\n",
    "that at time $t=0$ $\\Delta T = 0$, so $z(0) = C = \\lambda Q_0$.   That means that:\n",
    "\n",
    "$$z = C \\exp(-t/\\tau) = \\lambda Q_0 \\exp (-t/\\tau) = \\lambda Q_0 - \\Delta T$$\n",
    "\n",
    "and solving for $\\Delta T$:\n",
    "\n",
    "$$ \\lambda Q_0 \\left ( \\exp (-t/\\tau) - 1 \\right ) = - \\Delta T$$\n",
    "\n",
    "and rearranging gives the answer:\n",
    "\n",
    "\n",
    "$$ \\Delta T = \\lambda Q_0 \\left (1 - \\exp (-t/\\tau) \\right ) $$"
   ]
  }
 ],
 "metadata": {
  "jupytext": {
   "text_representation": {
    "extension": ".md",
    "format_name": "myst",
    "format_version": 0.12,
    "jupytext_version": "1.9.1"
   }
  },
  "kernelspec": {
   "display_name": "Python 3",
   "language": "python",
   "name": "python3"
  },
  "source_map": [
   15,
   37,
   49,
   71
  ]
 },
 "nbformat": 4,
 "nbformat_minor": 5
}