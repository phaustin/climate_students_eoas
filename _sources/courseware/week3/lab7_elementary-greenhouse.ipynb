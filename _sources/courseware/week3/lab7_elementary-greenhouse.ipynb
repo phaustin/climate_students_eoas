{
 "cells": [
  {
   "cell_type": "markdown",
   "id": "f98b3095",
   "metadata": {
    "slideshow": {
     "slide_type": "slide"
    }
   },
   "source": [
    "(nb:elementary-greenhouse)=\n",
    "# Elementary greenhouse models\n",
    "\n",
    "This notebook is part of [The Climate Laboratory](https://brian-rose.github.io/ClimateLaboratoryBook) by [Brian E. J. Rose](http://www.atmos.albany.edu/facstaff/brose/index.html), University at Albany."
   ]
  },
  {
   "cell_type": "markdown",
   "id": "446ad4f4",
   "metadata": {
    "slideshow": {
     "slide_type": "slide"
    }
   },
   "source": [
    "____________\n",
    "<a id='section1'></a>\n",
    "\n",
    "## 1. A single layer atmosphere\n",
    "____________\n",
    "\n",
    "We will make our first attempt at quantifying the greenhouse effect in the simplest possible greenhouse model: a single layer of atmosphere that is able to absorb and emit longwave radiation."
   ]
  },
  {
   "cell_type": "markdown",
   "id": "e4aa3459",
   "metadata": {},
   "source": [
    "<img src=\"../../images/1layerAtm_sketch.png\">"
   ]
  },
  {
   "cell_type": "markdown",
   "id": "e313b30d",
   "metadata": {
    "slideshow": {
     "slide_type": "slide"
    }
   },
   "source": [
    "### Assumptions\n",
    "\n",
    "- Atmosphere is a single layer of air at temperature $T_a$\n",
    "- Atmosphere is **completely transparent to shortwave** solar radiation.\n",
    "- The **surface** absorbs shortwave radiation $(1-\\alpha) Q$\n",
    "- Atmosphere is **completely opaque to infrared** radiation\n",
    "- Both surface and atmosphere emit radiation as **blackbodies** ($\\sigma T_s^4, \\sigma T_a^4$)\n",
    "- Atmosphere radiates **equally up and down** ($\\sigma T_a^4$)\n",
    "- There are no other heat transfer mechanisms\n",
    "\n",
    "We can now use the concept of energy balance to ask what the temperature need to be in order to balance the energy budgets at the surface and the atmosphere, i.e. the **radiative equilibrium temperatures**."
   ]
  },
  {
   "cell_type": "markdown",
   "id": "32a636cd",
   "metadata": {
    "slideshow": {
     "slide_type": "slide"
    }
   },
   "source": [
    "### Energy balance at the surface\n",
    "\n",
    "\\begin{align}\n",
    "\\text{energy in} &= \\text{energy out} \\\\\n",
    "(1-\\alpha) Q + \\sigma T_a^4 &= \\sigma T_s^4 \\\\\n",
    "\\end{align}\n",
    "\n",
    "The presence of the atmosphere above means there is an additional source term: downwelling infrared radiation from the atmosphere.\n",
    "\n",
    "We call this the **back radiation**."
   ]
  },
  {
   "cell_type": "markdown",
   "id": "144e98ac",
   "metadata": {
    "slideshow": {
     "slide_type": "slide"
    }
   },
   "source": [
    "### Energy balance for the atmosphere\n",
    "\n",
    "$$\n",
    "\\begin{align}\n",
    "\\text{energy in} &= \\text{energy out} \\\\\n",
    "\\sigma T_s^4 &= A\\uparrow + A\\downarrow = 2 \\sigma T_a^4 \\\\\n",
    "\\end{align}\n",
    "$$\n",
    "\n",
    "which means that \n",
    "$$ T_s = 2^\\frac{1}{4} T_a \\approx 1.2 T_a $$\n",
    "\n",
    "So we have just determined that, in order to have a purely **radiative equilibrium**, we must have $T_s > T_a$. \n",
    "\n",
    "*The surface must be warmer than the atmosphere.*"
   ]
  },
  {
   "cell_type": "markdown",
   "id": "7210ba85",
   "metadata": {
    "slideshow": {
     "slide_type": "slide"
    }
   },
   "source": [
    "### Solve for the radiative equilibrium surface temperature\n",
    "\n",
    "Now plug this into the surface equation to find\n",
    "\n",
    "$$ \\frac{1}{2} \\sigma T_s^4 = (1-\\alpha) Q  $$\n",
    "\n",
    "and use the definition of the emission temperature $T_e$ to write\n",
    "\n",
    "$$ (1-\\alpha) Q = \\sigma T_e^4 $$\n",
    "\n",
    "*In fact, in this model, $T_e$ is identical to the atmospheric temperature $T_a$, since all the OLR originates from this layer.*"
   ]
  },
  {
   "cell_type": "markdown",
   "id": "6e8d6dab",
   "metadata": {
    "slideshow": {
     "slide_type": "slide"
    }
   },
   "source": [
    "Solve for the surface temperature:\n",
    "$$ T_s = 2^\\frac{1}{4} T_e $$\n",
    "\n",
    "Putting in observed numbers, $T_e = 255$ K gives a surface temperature of \n",
    "$$T_s = 303 ~\\text{K}$$\n",
    "\n",
    "This model is one small step closer to reality: surface is warmer than atmosphere, emissions to space generated in the atmosphere, atmosphere heated from below and helping to keep surface warm."
   ]
  },
  {
   "cell_type": "markdown",
   "id": "3620e439",
   "metadata": {
    "slideshow": {
     "slide_type": "slide"
    }
   },
   "source": [
    "### Why does this model overpredict the surface temperature\n",
    "\n",
    "Our model now overpredicts the surface temperature by about 15ºC (303 K versus the observed 288 K).\n",
    "\n",
    "Ideas about why?"
   ]
  },
  {
   "cell_type": "markdown",
   "id": "e8f5280f",
   "metadata": {
    "slideshow": {
     "slide_type": "slide"
    }
   },
   "source": [
    "Basically we just need to read our **list of assumptions** above and realize that none of them are very good approximations:\n",
    "\n",
    "- Atmosphere absorbs some solar radiation.\n",
    "- Atmosphere is NOT a perfect absorber of longwave radiation\n",
    "- Absorption and emission varies strongly with wavelength *(atmosphere does not behave like a blackbody)*.\n",
    "- Emissions are not determined by a single temperature $T_a$ but by the detailed *vertical profile* of air temperture.\n",
    "- Energy is redistributed in the vertical by a variety of dynamical transport mechanisms (e.g. convection and boundary layer turbulence)."
   ]
  },
  {
   "cell_type": "markdown",
   "id": "2cd78da6",
   "metadata": {
    "slideshow": {
     "slide_type": "slide"
    }
   },
   "source": [
    "____________\n",
    "<a id='section2'></a>\n",
    "\n",
    "## 2. Introducing the two-layer grey gas model\n",
    "____________"
   ]
  },
  {
   "cell_type": "markdown",
   "id": "ade837a3",
   "metadata": {
    "slideshow": {
     "slide_type": "slide"
    }
   },
   "source": [
    "Let's generalize the above model just a little bit to build a slighly more realistic model of longwave radiative transfer.\n",
    "\n",
    "We will address two shortcomings of our single-layer model:\n",
    "1. No vertical structure\n",
    "2. 100% longwave opacity\n",
    "\n",
    "Relaxing these two assumptions gives us what turns out to be a very useful prototype model for **understanding how the greenhouse effect works**."
   ]
  },
  {
   "cell_type": "markdown",
   "id": "ff491df2",
   "metadata": {
    "slideshow": {
     "slide_type": "slide"
    }
   },
   "source": [
    "### Assumptions\n",
    "\n",
    "- The atmosphere is **transparent to shortwave radiation** (still)\n",
    "- Divide the atmosphere up into **two layers of equal mass** (the dividing line is thus at 500 hPa pressure level)\n",
    "- Each layer **absorbs only a fraction $\\epsilon$** of whatever longwave radiation is incident upon it.\n",
    "- We will call the fraction $\\epsilon$ the **absorptivity** of the layer.\n",
    "- Assume $\\epsilon$ is the same in each layer\n",
    "\n",
    "This is called the **grey gas** model, where **grey** here means the emission and absorption have **no spectral dependence** (same at every wavelength).\n",
    "\n",
    "We can think of this model informally as a \"leaky greenhouse\"."
   ]
  },
  {
   "cell_type": "markdown",
   "id": "aa76c827",
   "metadata": {
    "slideshow": {
     "slide_type": "slide"
    }
   },
   "source": [
    "Note that the assumption that $\\epsilon$ is the same in each layer is appropriate if the absorption is actually carried out by a gas that is **well-mixed** in the atmosphere.\n",
    "\n",
    "Out of our two most important absorbers:\n",
    "\n",
    "- CO$_2$ is well mixed\n",
    "- H$_2$O is not (mostly confined to lower troposphere due to strong temperature dependence of the saturation vapor pressure).\n",
    "\n",
    "But we will ignore this aspect of reality for now."
   ]
  },
  {
   "cell_type": "markdown",
   "id": "fbd7187c",
   "metadata": {
    "slideshow": {
     "slide_type": "slide"
    }
   },
   "source": [
    "### Kirchoff's Law\n",
    "\n",
    "In order to build our model, we need to introduce one additional piece of physics known as **Kirchoff's Law**:\n",
    "\n",
    "$$ \\text{absorptivity} = \\text{emissivity} $$\n",
    "\n",
    "So **if a layer of atmosphere at temperature $T$ absorbs a fraction $\\epsilon$** of incident longwave radiation, it must **emit**\n",
    "\n",
    "$$ \\epsilon ~\\sigma ~T^4 $$\n",
    "\n",
    "both up and down."
   ]
  },
  {
   "cell_type": "markdown",
   "id": "5121469d",
   "metadata": {
    "slideshow": {
     "slide_type": "slide"
    }
   },
   "source": [
    "### A sketch of the radiative fluxes in the 2-layer atmosphere"
   ]
  },
  {
   "cell_type": "markdown",
   "id": "63f56949",
   "metadata": {},
   "source": [
    "<img src='../../images/2layerAtm_sketch.png'>"
   ]
  },
  {
   "cell_type": "markdown",
   "id": "77012e0c",
   "metadata": {
    "slideshow": {
     "slide_type": "slide"
    }
   },
   "source": [
    "- Surface temperature is $T_s$\n",
    "- Atm. temperatures are $T_0, T_1$ where $T_0$ is closest to the surface.\n",
    "- absorptivity of atm layers is $\\epsilon$\n",
    "- Surface emission is $\\sigma T_s^4$\n",
    "- Atm emission is $\\epsilon \\sigma T_0^4, \\epsilon \\sigma T_1^4$ (up and down)\n",
    "- Absorptivity = emissivity for atmospheric layers\n",
    "- a fraction $(1-\\epsilon)$ of the longwave beam is **transmitted** through each layer"
   ]
  },
  {
   "cell_type": "markdown",
   "id": "9e4dfce6",
   "metadata": {},
   "source": [
    "____________\n",
    "## 3. Tracing the upwelling beam of longwave radiation\n",
    "____________"
   ]
  },
  {
   "cell_type": "markdown",
   "id": "3d31253b",
   "metadata": {
    "slideshow": {
     "slide_type": "slide"
    }
   },
   "source": [
    "Let's think about the upwelling beam of longwave radiation, which we denote $U$.\n",
    "\n",
    "### Surface to layer 0\n",
    "\n",
    "We start at the surface. The upward flux **from the surface to layer 0** is \n",
    "\n",
    "$$U_0 = \\sigma T_s^4$$\n",
    "\n",
    "(just the emission from the suface)."
   ]
  },
  {
   "cell_type": "markdown",
   "id": "8c6cd4b7",
   "metadata": {},
   "source": [
    "### Layer 0 to layer 1\n",
    "\n",
    "Now **following this beam upward**, we first recognize that a fraction $\\epsilon$ of this beam is **absorbed** in layer 0. \n",
    "\n",
    "The upward flux from layer 0 to layer 1 consists of the sum of two parts:\n",
    "\n",
    "1. The **transmitted part** of whatever is incident from below (i.e. the part that is **not absorbed**)\n",
    "2. **New upward emissions** from layer 0\n",
    "\n",
    "We can write this upward flux from layer 0 to layer 1 as:\n",
    "\n",
    "$$U_1 = (1-\\epsilon) \\sigma T_s^4 + \\epsilon \\sigma T_0^4$$"
   ]
  },
  {
   "cell_type": "markdown",
   "id": "2b33c6ad",
   "metadata": {},
   "source": [
    "### Beyond layer 1\n",
    "\n",
    "Continuing to follow the same beam, we follow the same logic! A fraction $\\epsilon$ of $U_1$ is absorbed in layer 1, and therefore the transmitted part is $(1-\\epsilon) U_1$.\n",
    "\n",
    "Including new emissions from layer 1, the upwelling flux above layer 1 is\n",
    "\n",
    "$$U_2 = (1-\\epsilon) U_1 + \\epsilon \\sigma T_1^4$$"
   ]
  },
  {
   "cell_type": "markdown",
   "id": "9e4c5977",
   "metadata": {
    "slideshow": {
     "slide_type": "slide"
    }
   },
   "source": [
    "### Outgoing Longwave Radiation\n",
    "\n",
    "Since there is **no more atmosphere above layer 1**, this upwelling beam is our OLR for this model:\n",
    "\n",
    "$$OLR = U_2 = (1-\\epsilon) U_1 + \\epsilon \\sigma T_1^4$$\n",
    "\n",
    "which, plugging in the above expression for $U_1$, works out to\n",
    "\n",
    "$$OLR= (1-\\epsilon)^2 \\sigma T_s^4 + \\epsilon(1-\\epsilon)\\sigma T_0^4 + \\epsilon \\sigma T_1^4$$\n",
    "\n",
    "Here the three terms represent **contributions to the total OLR** that **originate from each of the three levels**"
   ]
  },
  {
   "cell_type": "markdown",
   "id": "5ee2e16f",
   "metadata": {},
   "source": [
    "### Limits of large and small absorptivity/emissivity\n",
    "\n",
    "Think about the following two questions:\n",
    "\n",
    "- What happens to this expression if $\\epsilon=1$? *What does this represent physically?*\n",
    "- What about $\\epsilon=0$?"
   ]
  },
  {
   "cell_type": "markdown",
   "id": "78427c34",
   "metadata": {},
   "source": [
    "By allowing the atmosphere to partially absorb emissions from other levels, we now see that the Outgoing Longwave Radiation to space **includes emissions from every level** - and therefore **affected by temperature at every level**!"
   ]
  },
  {
   "cell_type": "markdown",
   "id": "c46f7eb6",
   "metadata": {
    "slideshow": {
     "slide_type": "slide"
    }
   },
   "source": [
    "____________\n",
    "\n",
    "## 4. Tuning the grey gas model to observations\n",
    "____________"
   ]
  },
  {
   "cell_type": "markdown",
   "id": "0a133819",
   "metadata": {
    "slideshow": {
     "slide_type": "slide"
    }
   },
   "source": [
    "In building our new model we have introduced exactly **one parameter**, the absorptivity $\\epsilon$. We need to choose a value for $\\epsilon$.\n",
    "\n",
    "We will tune our model so that it **reproduces the observed global mean OLR** given **observed global mean temperatures**.\n",
    "\n",
    "### Global mean air temperature observations\n",
    "\n",
    "To get appropriate temperatures for $T_s, T_0, T_1$, let's revisit the global, annual mean lapse rate plot from NCEP Reanalysis data we first encountered in the [Radiation notes](https://brian-rose.github.io/ClimateLaboratoryBook/courseware/radiation.html)."
   ]
  },
  {
   "cell_type": "code",
   "execution_count": null,
   "id": "51b1ba14",
   "metadata": {
    "tags": [
     "hide_input"
    ]
   },
   "outputs": [],
   "source": [
    "#  This code is used just to create the skew-T plot of global, annual mean air temperature\n",
    "%matplotlib inline\n",
    "import numpy as np\n",
    "import matplotlib.pyplot as plt\n",
    "import xarray as xr\n",
    "from metpy.plots import SkewT\n",
    "ncep_url = \"http://www.esrl.noaa.gov/psd/thredds/dodsC/Datasets/ncep.reanalysis.derived/\"\n",
    "ncep_air = xr.open_dataset( ncep_url + \"pressure/air.mon.1981-2010.ltm.nc\", use_cftime=True)\n",
    "#  Take global, annual average and convert to Kelvin\n",
    "coslat = np.cos(np.deg2rad(ncep_air.lat))\n",
    "weight = coslat / coslat.mean(dim='lat')\n",
    "Tglobal = (ncep_air.air * weight).mean(dim=('lat','lon','time'))\n",
    "fig = plt.figure(figsize=(9, 9))\n",
    "skew = SkewT(fig, rotation=30)\n",
    "skew.plot(Tglobal.level, Tglobal, color='black', linestyle='-', linewidth=2, label='Observations')\n",
    "skew.ax.set_ylim(1050, 10)\n",
    "skew.ax.set_xlim(-75, 45)\n",
    "# Add the relevant special lines\n",
    "skew.plot_dry_adiabats(linewidth=0.5)\n",
    "skew.plot_moist_adiabats(linewidth=0.5)\n",
    "#skew.plot_mixing_lines()\n",
    "skew.ax.legend()\n",
    "skew.ax.set_title('Global, annual mean sounding from NCEP Reanalysis', fontsize = 16);"
   ]
  },
  {
   "cell_type": "markdown",
   "id": "06e82c66",
   "metadata": {
    "slideshow": {
     "slide_type": "slide"
    }
   },
   "source": [
    "### Target temperatures for our model tuning\n",
    "\n",
    "First, we set \n",
    "$$T_s = 288 \\text{ K}  $$\n",
    "\n",
    "From the lapse rate plot, an average temperature for the layer between 1000 and 500 hPa is \n",
    "\n",
    "$$ T_0 = 275 \\text{ K}$$\n",
    "\n",
    "Defining an average temperature for the layer between 500 and 0 hPa is more ambiguous because of the lapse rate reversal at the tropopause. We will choose\n",
    "\n",
    "$$ T_1 = 230 \\text{ K}$$\n",
    "\n",
    "From the graph, this is approximately the observed global mean temperature at 275 hPa or about 10 km."
   ]
  },
  {
   "cell_type": "markdown",
   "id": "fdd0d4a0",
   "metadata": {
    "slideshow": {
     "slide_type": "slide"
    }
   },
   "source": [
    "### OLR\n",
    "\n",
    "From the [observed global energy budget](https://brian-rose.github.io/ClimateLaboratoryBook/courseware/models-budgets-fun.html#2.-The-observed-global-energy-budget) we set \n",
    "\n",
    "$$OLR = 238.5 \\text{ W m}^{-2}$$"
   ]
  },
  {
   "cell_type": "markdown",
   "id": "e8905f60",
   "metadata": {
    "slideshow": {
     "slide_type": "slide"
    }
   },
   "source": [
    "### Solving for $\\epsilon$\n",
    "\n",
    "We wrote down the expression for OLR as a function of temperatures and absorptivity in our model above. \n",
    "\n",
    "All we need to do is plug the observed values into the above expression for OLR, and solve for $\\epsilon$.\n",
    "\n",
    "It is a **quadratic equation** for the unknown $\\epsilon$. We could work out the exact solution using the quadratic formula.\n",
    "\n",
    "But let's do it **graphically**, using Python!"
   ]
  },
  {
   "cell_type": "markdown",
   "id": "6499c57c",
   "metadata": {
    "slideshow": {
     "slide_type": "slide"
    }
   },
   "source": [
    "### Exercise: graphical solution to find the best fit value of $\\epsilon$\n",
    "\n",
    "The OLR formula for the leaky greenhouse that we derived above is\n",
    "\n",
    "$$OLR= (1-\\epsilon)^2 \\sigma T_s^4 + \\epsilon(1-\\epsilon)\\sigma T_0^4 + \\epsilon \\sigma T_1^4$$\n",
    "\n",
    "Do the following:\n",
    "\n",
    "- Write a Python function that implements this formula\n",
    "- The function should accept **four input parameters**:\n",
    "    - The three temperatures $T_s, T_0, T_1$\n",
    "    - The emissivity $\\epsilon$\n",
    "- Using this function, make a **graph of OLR vs. $\\epsilon$** for the observed temperature values $T_s = 288, T_0 = 275, T_1 = 230$\n",
    "- For the graph, $\\epsilon$ should range between 0 and 1.\n",
    "- From your graph, find the approximate value of $\\epsilon$ that gives $OLR = 238.5$"
   ]
  },
  {
   "cell_type": "code",
   "execution_count": null,
   "id": "0f0f64c0",
   "metadata": {},
   "outputs": [],
   "source": []
  },
  {
   "cell_type": "markdown",
   "id": "8a7466de",
   "metadata": {
    "slideshow": {
     "slide_type": "slide"
    }
   },
   "source": [
    "Note if you solve the quadratic equation algebraically you will get two solutions: \n",
    "\n",
    "- $\\epsilon \\approx 0.586$ \n",
    "- $\\epsilon \\approx 3.93$\n",
    "\n",
    "(for details, see [the advanced notes here](https://brian-rose.github.io/ClimateLaboratoryBook/courseware/sympy-greenhouse.html))\n",
    "\n",
    "**Why is the second solution not physically meaningful?**\n",
    "\n",
    "Hopefully your graph shows that $\\epsilon = 0.586$ gives the correct value of OLR. \n",
    "\n",
    "This is the absorptivity that guarantees that **our model reproduces the observed OLR given the observed temperatures**."
   ]
  },
  {
   "cell_type": "markdown",
   "id": "8a02aa06",
   "metadata": {
    "slideshow": {
     "slide_type": "slide"
    }
   },
   "source": [
    "____________\n",
    "\n",
    "## 5. Level of emission\n",
    "____________"
   ]
  },
  {
   "cell_type": "markdown",
   "id": "03755e44",
   "metadata": {
    "slideshow": {
     "slide_type": "slide"
    }
   },
   "source": [
    "### Contributions from each level to the outgoing radiation\n",
    "\n",
    "Now that we have tuned up our model, we can see exactly how strongly each level contributes to the OLR. \n",
    "\n",
    "The three components of the OLR are\n",
    "\n",
    "\\begin{align*}\n",
    "OLR_s &= (1-\\epsilon)^2 \\sigma T_s^4  \\\\\n",
    "OLR_0 &= \\epsilon(1-\\epsilon)\\sigma T_0^4 \\\\\n",
    "OLR_1 &= \\epsilon \\sigma T_1^4 \n",
    "\\end{align*}\n",
    "\n",
    "which of course add up to the total OLR we wrote down above."
   ]
  },
  {
   "cell_type": "markdown",
   "id": "6bd9060d",
   "metadata": {},
   "source": [
    "### Exercise: calculate contributions to OLR\n",
    "\n",
    "**Write some simple Python code to calculate each term in the OLR using the observed temperatures and the tuned value $\\epsilon = 0.586$. Fill out the list below using your calculated numbers.**"
   ]
  },
  {
   "cell_type": "code",
   "execution_count": null,
   "id": "392bf4d1",
   "metadata": {},
   "outputs": [],
   "source": []
  },
  {
   "cell_type": "markdown",
   "id": "519146ba",
   "metadata": {
    "slideshow": {
     "slide_type": "slide"
    }
   },
   "source": [
    "**Contributions to the OLR originating from each level, in W/m2:**\n",
    "\n",
    "- Surface: \n",
    "- Level 0: \n",
    "- Level 1:"
   ]
  },
  {
   "cell_type": "code",
   "execution_count": null,
   "id": "51890323",
   "metadata": {},
   "outputs": [],
   "source": [
    "# now sum up the numbers to verify you get something very close to 238.5"
   ]
  },
  {
   "cell_type": "markdown",
   "id": "ed46c996",
   "metadata": {},
   "source": [
    "Notice that the largest single contribution is coming from the top layer. \n",
    "\n",
    "*This is in spite of the fact that the emissions from this layer are weak, because it is so cold.*"
   ]
  },
  {
   "cell_type": "markdown",
   "id": "08320f28",
   "metadata": {
    "slideshow": {
     "slide_type": "slide"
    }
   },
   "source": [
    "###  Changing the level of emission by adding absorbers"
   ]
  },
  {
   "cell_type": "markdown",
   "id": "c7212802",
   "metadata": {
    "slideshow": {
     "slide_type": "-"
    }
   },
   "source": [
    "Adding some **extra greenhouse absorbers** will mean that a **greater fraction** of incident longwave radiation is **absorbed in each layer**.\n",
    "\n",
    "Thus **$\\epsilon$ must increase** as we add greenhouse gases."
   ]
  },
  {
   "cell_type": "markdown",
   "id": "c7dc84a6",
   "metadata": {
    "slideshow": {
     "slide_type": "slide"
    }
   },
   "source": [
    "Suppose we have $\\epsilon$ initially, and the absorptivity increases to $\\epsilon_2 = \\epsilon + \\Delta \\epsilon$.\n",
    "\n",
    "Suppose further that this increase happens **abruptly** so that there is no time for the temperatures to respond to this change. **We hold the temperatures fixed** in the column and ask how the radiative fluxes change.\n",
    "\n",
    "**Question: Do you expect the OLR to increase or decrease?**"
   ]
  },
  {
   "cell_type": "markdown",
   "id": "e299c78e",
   "metadata": {},
   "source": [
    "### Calculating the change in level of emission\n",
    "\n",
    "Let's use our two-layer leaky greenhouse model to investigate the answer."
   ]
  },
  {
   "cell_type": "markdown",
   "id": "8349f25d",
   "metadata": {
    "slideshow": {
     "slide_type": "slide"
    }
   },
   "source": [
    "The components of the OLR before the perturbation are\n",
    "\n",
    "\\begin{align*}\n",
    "OLR_s &= (1-\\epsilon)^2 \\sigma T_s^4  \\\\\n",
    "OLR_0 &= \\epsilon(1-\\epsilon)\\sigma T_0^4 \\\\\n",
    "OLR_1 &= \\epsilon \\sigma T_1^4 \n",
    "\\end{align*}"
   ]
  },
  {
   "cell_type": "markdown",
   "id": "def20511",
   "metadata": {
    "slideshow": {
     "slide_type": "slide"
    }
   },
   "source": [
    "and after the perturbation we have\n",
    "\n",
    "\\begin{align*}\n",
    "OLR_s &= (1-\\epsilon - \\Delta \\epsilon)^2 \\sigma T_s^4  \\\\\n",
    "OLR_0 &= (\\epsilon + \\Delta \\epsilon)(1-\\epsilon - \\Delta \\epsilon)\\sigma T_0^4 \\\\\n",
    "OLR_1 &= (\\epsilon + \\Delta \\epsilon) \\sigma T_1^4 \n",
    "\\end{align*}"
   ]
  },
  {
   "cell_type": "markdown",
   "id": "fe2bcc52",
   "metadata": {
    "slideshow": {
     "slide_type": "slide"
    }
   },
   "source": [
    "Let's subtract off the original components to get the contributions to the **change in OLR** from each layer:"
   ]
  },
  {
   "cell_type": "markdown",
   "id": "95c44b7f",
   "metadata": {},
   "source": [
    "\\begin{align*}\n",
    "\\Delta OLR_s &= \\left[(1-\\epsilon - \\Delta \\epsilon)^2 - (1-\\epsilon)^2\\right]\\sigma T_s^4  \\\\\n",
    "\\Delta OLR_0 &= \\left[(\\epsilon + \\Delta \\epsilon)(1-\\epsilon - \\Delta \\epsilon) - \\epsilon(1-\\epsilon)  \\right] \\sigma T_0^4 \\\\\n",
    "\\Delta OLR_1 &= \\left[(\\epsilon + \\Delta \\epsilon) - \\epsilon \\right] \\sigma T_1^4 \n",
    "\\end{align*}"
   ]
  },
  {
   "cell_type": "markdown",
   "id": "dd35dc6f",
   "metadata": {
    "slideshow": {
     "slide_type": "slide"
    }
   },
   "source": [
    "Now expand this out, but to make things easier to deal with, neglect term in $\\Delta \\epsilon^2$ (very small - we will be considering changes of less than 10% in $\\epsilon$):\n",
    "\n",
    "\\begin{align*}\n",
    "\\Delta OLR_s &\\approx (\\Delta \\epsilon) \\left[ -2(1-\\epsilon) \\right] \\sigma T_s^4  \\\\\n",
    "\\Delta OLR_0 &\\approx (\\Delta \\epsilon) (1 - 2 \\epsilon) \\sigma T_0^4 \\\\\n",
    "\\Delta OLR_1 &\\approx (\\Delta \\epsilon) \\sigma T_1^4 \n",
    "\\end{align*}"
   ]
  },
  {
   "cell_type": "markdown",
   "id": "4289b5e6",
   "metadata": {
    "slideshow": {
     "slide_type": "fragment"
    }
   },
   "source": [
    "Now look at the **sign** of each term. Recall that $0 < \\epsilon < 1$. **Which terms in the OLR go up and which go down?**\n",
    "\n",
    "**THIS IS VERY IMPORTANT, SO STOP AND THINK ABOUT IT.**"
   ]
  },
  {
   "cell_type": "markdown",
   "id": "871d0b47",
   "metadata": {
    "slideshow": {
     "slide_type": "fragment"
    }
   },
   "source": [
    "The contribution from the **surface** must **decrease**, while the contribution from the **top layer** must **increase**.\n",
    "\n",
    "**When we add absorbers, the average level of emission goes up!**"
   ]
  },
  {
   "cell_type": "markdown",
   "id": "7334f73d",
   "metadata": {
    "slideshow": {
     "slide_type": "slide"
    }
   },
   "source": [
    "____________\n",
    "\n",
    "## 6. Radiative forcing in the 2-layer grey gas model\n",
    "____________"
   ]
  },
  {
   "cell_type": "markdown",
   "id": "25a07ce2",
   "metadata": {},
   "source": [
    "### Definition of Radiative Forcing\n",
    "\n",
    "We now define a very important quantity:\n",
    "\n",
    "**\"Radiative forcing\" is the change in total radiative flux at TOA after adding absorbers**"
   ]
  },
  {
   "cell_type": "markdown",
   "id": "955e1610",
   "metadata": {
    "slideshow": {
     "slide_type": "-"
    }
   },
   "source": [
    "In this model, **only the longwave flux can change**, so we calculate the radiative forcing as\n",
    "\n",
    "$$ R = - \\Delta OLR $$\n",
    "\n",
    "(with the minus sign so that $R$ is **positive when the climate system is gaining extra energy**)."
   ]
  },
  {
   "cell_type": "markdown",
   "id": "40e5cec6",
   "metadata": {
    "slideshow": {
     "slide_type": "slide"
    }
   },
   "source": [
    "### Connection between radiative forcing and level of emission\n",
    "\n",
    "We just worked out that whenever we **add some extra absorbers**, the **emissions to space** (on average) will originate from **higher levels** in the atmosphere. \n",
    "\n",
    "What does this mean for OLR? Will it increase or decrease?\n",
    "\n",
    "To get the answer, we just have to sum up the three contributions we wrote above:"
   ]
  },
  {
   "cell_type": "markdown",
   "id": "b8b845f3",
   "metadata": {
    "slideshow": {
     "slide_type": "slide"
    }
   },
   "source": [
    "\\begin{align*}\n",
    "R &= -\\Delta OLR_s - \\Delta OLR_0 - \\Delta OLR_1  \\\\\n",
    "  &= -\\Delta \\epsilon \\left[  -2(1-\\epsilon) \\sigma T_s^4 + (1 - 2 \\epsilon) \\sigma T_0^4  + \\sigma T_1^4 \\right]\n",
    "\\end{align*}"
   ]
  },
  {
   "cell_type": "markdown",
   "id": "24c45776",
   "metadata": {},
   "source": [
    "Is this a positive or negative number? The key point is this:\n",
    "\n",
    "**It depends on the temperatures, i.e. on the lapse rate.**"
   ]
  },
  {
   "cell_type": "markdown",
   "id": "ef254515",
   "metadata": {
    "slideshow": {
     "slide_type": "slide"
    }
   },
   "source": [
    "### Greenhouse effect for an isothermal atmosphere\n",
    "\n",
    "Stop and think about this question:\n",
    "\n",
    "If the **surface and atmosphere are all at the same temperature**, does the OLR go up or down when $\\epsilon$ increases (i.e. we add more absorbers)?\n",
    "\n",
    "Understanding this question is key to understanding how the greenhouse effect works."
   ]
  },
  {
   "cell_type": "markdown",
   "id": "92b76a0e",
   "metadata": {
    "slideshow": {
     "slide_type": "slide"
    }
   },
   "source": [
    "#### Let's solve the isothermal case\n",
    "\n",
    "We will just set $T_s = T_0 = T_1$ in the above expression for the radiative forcing.\n",
    "\n",
    "What do you get?"
   ]
  },
  {
   "cell_type": "code",
   "execution_count": null,
   "id": "38948f41",
   "metadata": {},
   "outputs": [],
   "source": []
  },
  {
   "cell_type": "markdown",
   "id": "cf742f08",
   "metadata": {
    "slideshow": {
     "slide_type": "slide"
    }
   },
   "source": [
    "#### The answer is $R=0$ \n",
    "\n",
    "For an isothermal atmosphere, there is **no change** in OLR when we add extra greenhouse absorbers. Hence, no radiative forcing and no greenhouse effect.\n",
    "\n",
    "Why?\n",
    "\n",
    "The level of emission still must go up. But since the temperature at the upper level is the **same** as everywhere else, the emissions are exactly the same."
   ]
  },
  {
   "cell_type": "markdown",
   "id": "eecfe74f",
   "metadata": {
    "slideshow": {
     "slide_type": "-"
    }
   },
   "source": [
    "### The radiative forcing (change in OLR) depends on the lapse rate!"
   ]
  },
  {
   "cell_type": "markdown",
   "id": "8e228606",
   "metadata": {
    "slideshow": {
     "slide_type": "slide"
    }
   },
   "source": [
    "For a more realistic example of radiative forcing due to an increase in greenhouse absorbers, we use our observed temperatures and the tuned value for $\\epsilon$. \n",
    "\n",
    "We'll express the answer in W m$^{-2}$ for a 2% increase in $\\epsilon$:\n",
    "\n",
    "$$ \\Delta \\epsilon = 0.02 \\times 0.58 $$"
   ]
  },
  {
   "cell_type": "code",
   "execution_count": null,
   "id": "a7184184",
   "metadata": {
    "slideshow": {
     "slide_type": "-"
    }
   },
   "outputs": [],
   "source": [
    "epsilon = 0.586041150248834\n",
    "delta_epsilon = 0.02 * epsilon\n",
    "delta_epsilon"
   ]
  },
  {
   "cell_type": "markdown",
   "id": "6c7efaaf",
   "metadata": {
    "slideshow": {
     "slide_type": "slide"
    }
   },
   "source": [
    "Calculate the three components of the radiative forcing:"
   ]
  },
  {
   "cell_type": "code",
   "execution_count": null,
   "id": "f296fa4c",
   "metadata": {
    "slideshow": {
     "slide_type": "slide"
    }
   },
   "outputs": [],
   "source": [
    "sigma = 5.67E-8\n",
    "Ts = 288.\n",
    "T0 = 275.\n",
    "T1 = 230."
   ]
  },
  {
   "cell_type": "code",
   "execution_count": null,
   "id": "fc076775",
   "metadata": {
    "slideshow": {
     "slide_type": "slide"
    }
   },
   "outputs": [],
   "source": [
    "#  Component originating from the surface\n",
    "Rs = -delta_epsilon * (-2*(1-epsilon)*sigma * Ts**4)\n",
    "Rs"
   ]
  },
  {
   "cell_type": "code",
   "execution_count": null,
   "id": "ddbe5984",
   "metadata": {
    "slideshow": {
     "slide_type": "slide"
    }
   },
   "outputs": [],
   "source": [
    "#  Component originating from level 0\n",
    "R0 = -delta_epsilon * (1-2*epsilon) * sigma * T0**4\n",
    "R0"
   ]
  },
  {
   "cell_type": "code",
   "execution_count": null,
   "id": "cbbf1fc9",
   "metadata": {
    "slideshow": {
     "slide_type": "slide"
    }
   },
   "outputs": [],
   "source": [
    "#  Component originating from level 1\n",
    "R1 = -delta_epsilon * sigma * T1**4\n",
    "R1"
   ]
  },
  {
   "cell_type": "markdown",
   "id": "48196566",
   "metadata": {
    "slideshow": {
     "slide_type": "slide"
    }
   },
   "source": [
    "So just add them up to get the total radiative forcing:"
   ]
  },
  {
   "cell_type": "code",
   "execution_count": null,
   "id": "1d99b227",
   "metadata": {},
   "outputs": [],
   "source": [
    "R = Rs + R0 + R1 \n",
    "R"
   ]
  },
  {
   "cell_type": "markdown",
   "id": "4dcd16a0",
   "metadata": {
    "slideshow": {
     "slide_type": "slide"
    }
   },
   "source": [
    "So in our example, **the OLR decreases by 2.6 W m$^{-2}$**, or equivalently, the **radiative forcing is +2.6 W m$^{-2}$.**\n",
    "\n",
    "What we have just calculated is this:\n",
    "\n",
    "**Given the observed lapse rates, a small increase in absorbers will cause a small decrease in OLR.**\n",
    "\n",
    "The **greenhouse effect** thus gets **stronger**, and energy will begin to accumulate in the system -- which will eventually **cause temperatures to increase** as the system adjusts to a new equilibrium."
   ]
  },
  {
   "cell_type": "markdown",
   "id": "6d656895",
   "metadata": {
    "slideshow": {
     "slide_type": "slide"
    }
   },
   "source": [
    "____________\n",
    "\n",
    "## 7. Summary\n",
    "____________"
   ]
  },
  {
   "cell_type": "markdown",
   "id": "5ffe3079",
   "metadata": {
    "slideshow": {
     "slide_type": "slide"
    }
   },
   "source": [
    "### Key physical lessons\n",
    "\n",
    "- Putting a **layer of longwave absorbers** above the surface keeps the **surface substantially warmer**, because of the **backradiation** from the atmosphere (greenhouse effect).\n",
    "- The **grey gas** model assumes that each layer absorbs and emits a fraction $\\epsilon$ of its blackbody value, independent of wavelength."
   ]
  },
  {
   "cell_type": "markdown",
   "id": "3a82aade",
   "metadata": {
    "slideshow": {
     "slide_type": "slide"
    }
   },
   "source": [
    "- With **incomplete absorption** ($\\epsilon < 1$), there are contributions to the OLR from every level and the surface (there is no single **level of emission**)\n",
    "- Adding more absorbers means that **contributions to the OLR** from **upper levels** go **up**, while contributions from the surface go **down**.\n",
    "- This upward shift in the weighting of different levels is what we mean when we say the **level of emission goes up**."
   ]
  },
  {
   "cell_type": "markdown",
   "id": "543148d8",
   "metadata": {
    "slideshow": {
     "slide_type": "slide"
    }
   },
   "source": [
    "- The **radiative forcing** caused by an increase in absorbers **depends on the lapse rate**.\n",
    "- For an **isothermal atmosphere** the radiative forcing is zero and there is **no greenhouse effect**\n",
    "- The radiative forcing is positive for our atmosphere **because tropospheric temperatures tend to decrease with height**."
   ]
  },
  {
   "cell_type": "markdown",
   "id": "dc76fa0f",
   "metadata": {
    "slideshow": {
     "slide_type": "skip"
    }
   },
   "source": [
    "____________\n",
    "\n",
    "## Credits\n",
    "\n",
    "This notebook is part of [The Climate Laboratory](https://brian-rose.github.io/ClimateLaboratoryBook), an open-source textbook developed and maintained by [Brian E. J. Rose](http://www.atmos.albany.edu/facstaff/brose/index.html), University at Albany.\n",
    "\n",
    "It is licensed for free and open consumption under the\n",
    "[Creative Commons Attribution 4.0 International (CC BY 4.0)](https://creativecommons.org/licenses/by/4.0/) license.\n",
    "\n",
    "Development of these notes and the [climlab software](https://github.com/brian-rose/climlab) is partially supported by the National Science Foundation under award AGS-1455071 to Brian Rose. Any opinions, findings, conclusions or recommendations expressed here are mine and do not necessarily reflect the views of the National Science Foundation.\n",
    "____________"
   ]
  },
  {
   "cell_type": "code",
   "execution_count": null,
   "id": "0c3a06fa",
   "metadata": {},
   "outputs": [],
   "source": []
  }
 ],
 "metadata": {
  "jupytext": {
   "text_representation": {
    "extension": ".md",
    "format_name": "myst",
    "format_version": 0.13,
    "jupytext_version": "1.14.4"
   }
  },
  "kernelspec": {
   "display_name": "Python 3 (ipykernel)",
   "language": "python",
   "name": "python3"
  },
  "source_map": [
   14,
   21,
   31,
   35,
   49,
   62,
   80,
   94,
   104,
   112,
   122,
   130,
   140,
   154,
   165,
   179,
   183,
   187,
   197,
   203,
   215,
   230,
   240,
   254,
   263,
   267,
   274,
   284,
   312,
   329,
   337,
   349,
   367,
   371,
   386,
   393,
   409,
   415,
   419,
   427,
   429,
   435,
   439,
   445,
   453,
   459,
   469,
   479,
   483,
   491,
   501,
   507,
   513,
   520,
   528,
   536,
   546,
   553,
   559,
   569,
   577,
   581,
   591,
   595,
   603,
   613,
   617,
   628,
   638,
   648,
   658,
   662,
   667,
   677,
   684,
   691,
   697,
   703,
   717
  ]
 },
 "nbformat": 4,
 "nbformat_minor": 5
}