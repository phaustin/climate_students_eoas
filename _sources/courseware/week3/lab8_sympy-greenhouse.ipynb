{
 "cells": [
  {
   "cell_type": "markdown",
   "id": "40d58600",
   "metadata": {},
   "source": [
    "# Advanced topic: Solving the two-layer grey gas model analytically with sympy\n",
    "\n",
    "This notebook is part of [The Climate Laboratory](https://brian-rose.github.io/ClimateLaboratoryBook) by [Brian E. J. Rose](http://www.atmos.albany.edu/facstaff/brose/index.html), University at Albany."
   ]
  },
  {
   "cell_type": "markdown",
   "id": "3bfebd0e",
   "metadata": {},
   "source": [
    "____________\n",
    "\n",
    "## 1. Introducing symbolic computation with sympy\n",
    "____________"
   ]
  },
  {
   "cell_type": "markdown",
   "id": "c3e04a61",
   "metadata": {},
   "source": [
    "These notes elaborate on material in the [lecture on elementary greenhouse models](https://brian-rose.github.io/ClimateLaboratoryBook/courseware/elementary-greenhouse.html), demonstrating use of a computer algebra system to make precise calculations."
   ]
  },
  {
   "cell_type": "markdown",
   "id": "42341186",
   "metadata": {},
   "source": [
    "### Symbolic math with the sympy package\n",
    "\n",
    "The two-layer grey gas model is simple enough that we can work out all the details algebraically. There are three temperatures to keep track of $(T_s, T_0, T_1)$, so we will have 3x3 matrix equations.\n",
    "\n",
    "We all know how to work these things out with pencil and paper. But it can be tedious and error-prone. \n",
    "\n",
    "Symbolic math software lets us use the computer to automate a lot of tedious algebra.\n",
    "\n",
    "The [sympy](http://www.sympy.org/en/index.html) package is a powerful open-source symbolic math library that is well-integrated into the scientific Python ecosystem."
   ]
  },
  {
   "cell_type": "markdown",
   "id": "fc75da77",
   "metadata": {},
   "source": [
    "### Getting started with sympy"
   ]
  },
  {
   "cell_type": "code",
   "execution_count": null,
   "id": "dd5bf5c0",
   "metadata": {},
   "outputs": [],
   "source": [
    "import sympy\n",
    "#  Allow sympy to produce nice looking equations as output\n",
    "sympy.init_printing()\n",
    "#  Define some symbols for mathematical quantities\n",
    "#  Assume all quantities are positive (which will help simplify some expressions)\n",
    "epsilon, T_e, T_s, T_0, T_1, sigma = \\\n",
    "    sympy.symbols('epsilon, T_e, T_s, T_0, T_1, sigma', positive=True)\n",
    "#  So far we have just defined some symbols, e.g.\n",
    "T_s"
   ]
  },
  {
   "cell_type": "code",
   "execution_count": null,
   "id": "748c3b10",
   "metadata": {},
   "outputs": [],
   "source": [
    "#  We have hard-coded the assumption that the temperature is positive\n",
    "sympy.ask(T_s>0)"
   ]
  },
  {
   "cell_type": "markdown",
   "id": "0e968bec",
   "metadata": {},
   "source": [
    "____________\n",
    "\n",
    "## 2. Coding up the 2-layer grey gas model in sympy\n",
    "____________"
   ]
  },
  {
   "cell_type": "markdown",
   "id": "d675411f",
   "metadata": {},
   "source": [
    "### Longwave emissions\n",
    "\n",
    "Let's denote the emissions from each layer as\n",
    "\\begin{align}\n",
    "E_s &= \\sigma T_s^4 \\\\\n",
    "E_0 &= \\epsilon \\sigma T_0^4 \\\\\n",
    "E_1 &= \\epsilon \\sigma T_1^4 \n",
    "\\end{align}\n",
    "\n",
    "recognizing that $E_0$ and $E_1$ contribute to **both** the upwelling and downwelling beams."
   ]
  },
  {
   "cell_type": "code",
   "execution_count": null,
   "id": "599f1535",
   "metadata": {},
   "outputs": [],
   "source": [
    "#  Define these operations as sympy symbols \n",
    "#  And display as a column vector:\n",
    "E_s = sigma*T_s**4\n",
    "E_0 = epsilon*sigma*T_0**4\n",
    "E_1 = epsilon*sigma*T_1**4\n",
    "E = sympy.Matrix([E_s, E_0, E_1])\n",
    "E"
   ]
  },
  {
   "cell_type": "markdown",
   "id": "294c2246",
   "metadata": {},
   "source": [
    "### Shortwave radiation\n",
    "\n",
    "Since we have assumed the atmosphere is transparent to shortwave, the incident beam $Q$ passes unchanged from the top to the surface, where a fraction $\\alpha$ is reflected upward out to space."
   ]
  },
  {
   "cell_type": "code",
   "execution_count": null,
   "id": "acb3f44e",
   "metadata": {},
   "outputs": [],
   "source": [
    "#  Define some new symbols for shortwave radiation\n",
    "Q, alpha = sympy.symbols('Q, alpha', positive=True)\n",
    "#  Create a dictionary to hold our numerical values\n",
    "tuned = {}\n",
    "tuned[Q] = 341.3  #  global mean insolation in W/m2\n",
    "tuned[alpha] = 101.9/Q.subs(tuned)  #  observed planetary albedo\n",
    "tuned[sigma] = 5.67E-8  #  Stefan-Boltzmann constant in W/m2/K4\n",
    "tuned\n",
    "#  Numerical value for emission temperature\n",
    "#T_e.subs(tuned)"
   ]
  },
  {
   "cell_type": "markdown",
   "id": "6785e84c",
   "metadata": {
    "slideshow": {
     "slide_type": "slide"
    }
   },
   "source": [
    "### Tracing the upwelling beam of longwave radiation\n",
    "\n",
    "Let $U$ be the upwelling flux of longwave radiation. \n",
    "\n",
    "The upward flux **from the surface to layer 0** is\n",
    "\n",
    "$$ U_0 = E_s $$\n",
    "\n",
    "(just the emission from the suface)."
   ]
  },
  {
   "cell_type": "code",
   "execution_count": null,
   "id": "71a15a25",
   "metadata": {},
   "outputs": [],
   "source": [
    "U_0 = E_s\n",
    "U_0"
   ]
  },
  {
   "cell_type": "markdown",
   "id": "b25e8ba4",
   "metadata": {
    "slideshow": {
     "slide_type": "slide"
    }
   },
   "source": [
    "Following this beam upward, we can write the upward flux from layer 0 to layer 1 as the sum of the transmitted component that originated below layer 0 and the new emissions from layer 0:\n",
    "\n",
    "$$ U_1 = (1-\\epsilon) U_0 + E_0 $$"
   ]
  },
  {
   "cell_type": "code",
   "execution_count": null,
   "id": "53bb61f3",
   "metadata": {},
   "outputs": [],
   "source": [
    "U_1 = (1-epsilon)*U_0 + E_0"
   ]
  },
  {
   "cell_type": "markdown",
   "id": "94c727d2",
   "metadata": {
    "slideshow": {
     "slide_type": "fragment"
    }
   },
   "source": [
    "Continuing to follow the same beam, the upwelling flux above layer 1 is\n",
    "$$ U_2 = (1-\\epsilon) U_1 + E_1 $$"
   ]
  },
  {
   "cell_type": "code",
   "execution_count": null,
   "id": "e21846c7",
   "metadata": {},
   "outputs": [],
   "source": [
    "U_2 = (1-epsilon) * U_1 + E_1"
   ]
  },
  {
   "cell_type": "markdown",
   "id": "79162461",
   "metadata": {
    "slideshow": {
     "slide_type": "slide"
    }
   },
   "source": [
    "Since there is no more atmosphere above layer 1, this upwelling flux is our Outgoing Longwave Radiation for this model:\n",
    "\n",
    "$$ OLR = U_2 $$"
   ]
  },
  {
   "cell_type": "code",
   "execution_count": null,
   "id": "5fa04c58",
   "metadata": {},
   "outputs": [],
   "source": [
    "U_2"
   ]
  },
  {
   "cell_type": "markdown",
   "id": "a61b5127",
   "metadata": {
    "slideshow": {
     "slide_type": "slide"
    }
   },
   "source": [
    "The three terms in the above expression represent the **contributions to the total OLR that originate from each of the three levels**. \n",
    "\n",
    "Let's code this up explicitly for future reference:"
   ]
  },
  {
   "cell_type": "code",
   "execution_count": null,
   "id": "34b0948e",
   "metadata": {
    "slideshow": {
     "slide_type": "-"
    }
   },
   "outputs": [],
   "source": [
    "#  Define the contributions to OLR originating from each level\n",
    "OLR_s = (1-epsilon)**2 *sigma*T_s**4\n",
    "OLR_0 = epsilon*(1-epsilon)*sigma*T_0**4\n",
    "OLR_1 = epsilon*sigma*T_1**4\n",
    "\n",
    "OLR = OLR_s + OLR_0 + OLR_1\n",
    "\n",
    "print( 'The expression for OLR is')\n",
    "OLR"
   ]
  },
  {
   "cell_type": "markdown",
   "id": "763267c5",
   "metadata": {
    "slideshow": {
     "slide_type": "slide"
    }
   },
   "source": [
    "### Downwelling beam\n",
    "\n",
    "Let $D$ be the downwelling longwave beam. Since there is no longwave radiation coming in from space, we begin with"
   ]
  },
  {
   "cell_type": "code",
   "execution_count": null,
   "id": "4bf414cf",
   "metadata": {},
   "outputs": [],
   "source": [
    "fromspace = 0\n",
    "D_2 = fromspace"
   ]
  },
  {
   "cell_type": "markdown",
   "id": "4e43d74b",
   "metadata": {},
   "source": [
    "Between layer 1 and layer 0 the beam contains emissions from layer 1:\n",
    "\n",
    "$$ D_1 = (1-\\epsilon)D_2 + E_1 = E_1 $$"
   ]
  },
  {
   "cell_type": "code",
   "execution_count": null,
   "id": "ceeaa22d",
   "metadata": {},
   "outputs": [],
   "source": [
    "D_1 = (1-epsilon)*D_2 + E_1\n",
    "D_1"
   ]
  },
  {
   "cell_type": "markdown",
   "id": "f838dba3",
   "metadata": {
    "slideshow": {
     "slide_type": "slide"
    }
   },
   "source": [
    "Finally between layer 0 and the surface the beam contains a transmitted component and the emissions from layer 0:\n",
    "\n",
    "$$ D_0 = (1-\\epsilon) D_1 + E_0 = \\epsilon(1-\\epsilon) \\sigma T_1^4 + \\epsilon \\sigma T_0^4$$"
   ]
  },
  {
   "cell_type": "code",
   "execution_count": null,
   "id": "e25fae5c",
   "metadata": {},
   "outputs": [],
   "source": [
    "D_0 = (1-epsilon)*D_1 + E_0\n",
    "D_0"
   ]
  },
  {
   "cell_type": "markdown",
   "id": "1495d094",
   "metadata": {},
   "source": [
    "This $D_0$ is what we call the **back radiation**, i.e. the longwave radiation from the atmosphere to the surface."
   ]
  },
  {
   "cell_type": "markdown",
   "id": "78f2a544",
   "metadata": {
    "slideshow": {
     "slide_type": "slide"
    }
   },
   "source": [
    "____________\n",
    "<a id='section3'></a>\n",
    "\n",
    "## 3. Tuning the grey gas model to observations\n",
    "____________"
   ]
  },
  {
   "cell_type": "markdown",
   "id": "b0079dd7",
   "metadata": {
    "slideshow": {
     "slide_type": "slide"
    }
   },
   "source": [
    "In building our new model we have introduced exactly one parameter, the absorptivity $\\epsilon$. We need to choose a value for $\\epsilon$.\n",
    "\n",
    "We will tune our model so that it **reproduces the observed global mean OLR** given **observed global mean temperatures**.\n",
    "\n",
    "To get appropriate temperatures for $T_s, T_0, T_1$, revisit the global, annual mean lapse rate plot from NCEP Reanalysis data we first encountered in the [Radiation notes](https://brian-rose.github.io/ClimateLaboratoryBook/courseware/radiation.html)."
   ]
  },
  {
   "cell_type": "markdown",
   "id": "ced347d1",
   "metadata": {
    "slideshow": {
     "slide_type": "slide"
    }
   },
   "source": [
    "### Temperatures\n",
    "\n",
    "First, we set \n",
    "$$T_s = 288 \\text{ K}  $$\n",
    "\n",
    "From the lapse rate plot, an average temperature for the layer between 1000 and 500 hPa is \n",
    "\n",
    "$$ T_0 = 275 \\text{ K}$$\n",
    "\n",
    "Defining an average temperature for the layer between 500 and 0 hPa is more ambiguous because of the lapse rate reversal at the tropopause. We will choose\n",
    "\n",
    "$$ T_1 = 230 \\text{ K}$$\n",
    "\n",
    "From the graph, this is approximately the observed global mean temperature at 275 hPa or about 10 km."
   ]
  },
  {
   "cell_type": "code",
   "execution_count": null,
   "id": "297645a9",
   "metadata": {
    "slideshow": {
     "slide_type": "slide"
    }
   },
   "outputs": [],
   "source": [
    "#  add to our dictionary of values:\n",
    "tuned[T_s] = 288.\n",
    "tuned[T_0] = 275.\n",
    "tuned[T_1] = 230.\n",
    "tuned"
   ]
  },
  {
   "cell_type": "markdown",
   "id": "fddb39c6",
   "metadata": {
    "slideshow": {
     "slide_type": "slide"
    }
   },
   "source": [
    "### OLR\n",
    "\n",
    "From the [observed global energy budget](https://brian-rose.github.io/ClimateLaboratoryBook/courseware/models-budgets-fun.html#2.-The-observed-global-energy-budget) we set \n",
    "\n",
    "$$ OLR = 238.5 \\text{ W m}^{-2} $$"
   ]
  },
  {
   "cell_type": "markdown",
   "id": "d19bee90",
   "metadata": {
    "slideshow": {
     "slide_type": "slide"
    }
   },
   "source": [
    "### Solving for $\\epsilon$\n",
    "\n",
    "We wrote down the expression for OLR as a function of temperatures and absorptivity in our model above. \n",
    "\n",
    "We just need to equate this to the observed value and solve a **quadratic equation** for $\\epsilon$.\n",
    "\n",
    "This is where the real power of the symbolic math toolkit comes in."
   ]
  },
  {
   "cell_type": "markdown",
   "id": "d0b77f79",
   "metadata": {
    "slideshow": {
     "slide_type": "slide"
    }
   },
   "source": [
    "Subsitute in the numerical values we are interested in:"
   ]
  },
  {
   "cell_type": "code",
   "execution_count": null,
   "id": "a4e7927a",
   "metadata": {},
   "outputs": [],
   "source": [
    "# the .subs() method for a sympy symbol means\n",
    "#  substitute values in the expression using the supplied dictionary\n",
    "#  Here we use observed values of Ts, T0, T1 \n",
    "OLR2 = OLR.subs(tuned)\n",
    "OLR2"
   ]
  },
  {
   "cell_type": "markdown",
   "id": "3923e926",
   "metadata": {
    "slideshow": {
     "slide_type": "fragment"
    }
   },
   "source": [
    "We have a quadratic equation for $\\epsilon$.\n",
    "\n",
    "Now use the `sympy.solve` function to solve the quadratic:"
   ]
  },
  {
   "cell_type": "code",
   "execution_count": null,
   "id": "b00b24a3",
   "metadata": {
    "slideshow": {
     "slide_type": "-"
    }
   },
   "outputs": [],
   "source": [
    "#  The sympy.solve method takes an expression equal to zero\n",
    "#  So in this case we subtract the tuned value of OLR from our expression\n",
    "eps_solution = sympy.solve(OLR2 - 238.5, epsilon)\n",
    "eps_solution"
   ]
  },
  {
   "cell_type": "markdown",
   "id": "a51fe37c",
   "metadata": {
    "slideshow": {
     "slide_type": "slide"
    }
   },
   "source": [
    "There are two roots, but the second one is unphysical since we must have $0 < \\epsilon < 1$."
   ]
  },
  {
   "cell_type": "markdown",
   "id": "9640e99e",
   "metadata": {},
   "source": [
    "Just for fun, here is a simple of example of *filtering a list* using powerful Python *list comprehension* syntax:"
   ]
  },
  {
   "cell_type": "code",
   "execution_count": null,
   "id": "fb4aeea8",
   "metadata": {},
   "outputs": [],
   "source": [
    "# Give me only the roots that are between zero and 1!\n",
    "list_result = [eps for eps in eps_solution if 0<eps<1]\n",
    "print( list_result)\n",
    "# The result is a list with a single element.\n",
    "#  We need to slice the list to get just the number:\n",
    "eps_tuned = list_result[0]\n",
    "print( eps_tuned)"
   ]
  },
  {
   "cell_type": "markdown",
   "id": "a40f184b",
   "metadata": {
    "slideshow": {
     "slide_type": "slide"
    }
   },
   "source": [
    "We conclude that our tuned value is (to within 3 decimal places):\n",
    "\n",
    "$$ \\epsilon = 0.586 $$\n",
    "\n",
    "This is the absorptivity that guarantees that our model reproduces the observed OLR given the observed tempertures."
   ]
  },
  {
   "cell_type": "code",
   "execution_count": null,
   "id": "650d911e",
   "metadata": {},
   "outputs": [],
   "source": [
    "tuned[epsilon] = eps_tuned\n",
    "tuned"
   ]
  },
  {
   "cell_type": "markdown",
   "id": "333f0a3d",
   "metadata": {
    "slideshow": {
     "slide_type": "slide"
    }
   },
   "source": [
    "____________\n",
    "<a id='section4'></a>\n",
    "\n",
    "## 4. Level of emission\n",
    "____________"
   ]
  },
  {
   "cell_type": "markdown",
   "id": "69c7df3d",
   "metadata": {
    "slideshow": {
     "slide_type": "slide"
    }
   },
   "source": [
    "Even in this very simple greenhouse model, there is **no single level** at which the OLR is generated.\n",
    "\n",
    "The three terms in our formula for OLR tell us the contributions from each level."
   ]
  },
  {
   "cell_type": "code",
   "execution_count": null,
   "id": "cdb71456",
   "metadata": {
    "slideshow": {
     "slide_type": "-"
    }
   },
   "outputs": [],
   "source": [
    "OLRterms = sympy.Matrix([OLR_s, OLR_0, OLR_1])\n",
    "OLRterms"
   ]
  },
  {
   "cell_type": "markdown",
   "id": "f04384d8",
   "metadata": {
    "slideshow": {
     "slide_type": "slide"
    }
   },
   "source": [
    "Now evaluate these expressions for our tuned temperature and absorptivity:"
   ]
  },
  {
   "cell_type": "code",
   "execution_count": null,
   "id": "73a5ee2c",
   "metadata": {
    "slideshow": {
     "slide_type": "-"
    }
   },
   "outputs": [],
   "source": [
    "OLRtuned = OLRterms.subs(tuned)\n",
    "OLRtuned"
   ]
  },
  {
   "cell_type": "markdown",
   "id": "c8fb783e",
   "metadata": {
    "slideshow": {
     "slide_type": "-"
    }
   },
   "source": [
    "So we are getting about 67 W m$^{-2}$ from the surface, 79 W m$^{-2}$ from layer 0, and 93 W m$^{-2}$ from the top layer."
   ]
  },
  {
   "cell_type": "markdown",
   "id": "69b8e3f0",
   "metadata": {
    "slideshow": {
     "slide_type": "slide"
    }
   },
   "source": [
    "In terms of fractional contributions to the total OLR, we have (limiting the output to two decimal places):"
   ]
  },
  {
   "cell_type": "code",
   "execution_count": null,
   "id": "5294abe1",
   "metadata": {},
   "outputs": [],
   "source": [
    "sympy.N(OLRtuned / 238.5, 2)"
   ]
  },
  {
   "cell_type": "markdown",
   "id": "ef6b3871",
   "metadata": {},
   "source": [
    "Notice that the largest single contribution is coming from the top layer. This is in spite of the fact that the emissions from this layer are weak, because it is so cold."
   ]
  },
  {
   "cell_type": "markdown",
   "id": "0c2dedc6",
   "metadata": {
    "slideshow": {
     "slide_type": "slide"
    }
   },
   "source": [
    "Comparing to observations, the actual contribution to OLR from the surface is about 22 W m$^{-2}$ (or about 9% of the total), not 67 W m$^{-2}$. So we certainly don't have all the details worked out yet!\n",
    "\n",
    "As we will see later, to really understand what sets that observed 22 W m$^{-2}$, we will need to start thinking about the spectral dependence of the longwave absorptivity."
   ]
  },
  {
   "cell_type": "markdown",
   "id": "3bd30859",
   "metadata": {
    "slideshow": {
     "slide_type": "slide"
    }
   },
   "source": [
    "____________\n",
    "<a id='section5'></a>\n",
    "\n",
    "## 5. Radiative forcing in the 2-layer grey gas model\n",
    "____________"
   ]
  },
  {
   "cell_type": "markdown",
   "id": "2d00854e",
   "metadata": {
    "slideshow": {
     "slide_type": "-"
    }
   },
   "source": [
    "Adding some extra greenhouse absorbers will mean that a greater fraction of incident longwave radiation is absorbed in each layer.\n",
    "\n",
    "Thus **$\\epsilon$ must increase** as we add greenhouse gases."
   ]
  },
  {
   "cell_type": "markdown",
   "id": "937b6319",
   "metadata": {
    "slideshow": {
     "slide_type": "slide"
    }
   },
   "source": [
    "Suppose we have $\\epsilon$ initially, and the absorptivity increases to $\\epsilon_2 = \\epsilon + \\delta_\\epsilon$.\n",
    "\n",
    "Suppose further that this increase happens **abruptly** so that there is no time for the temperatures to respond to this change. **We hold the temperatures fixed** in the column and ask how the radiative fluxes change.\n",
    "\n",
    "**Do you expect the OLR to increase or decrease?**\n",
    "\n",
    "Let's use our two-layer leaky greenhouse model to investigate the answer."
   ]
  },
  {
   "cell_type": "markdown",
   "id": "83a0c5db",
   "metadata": {
    "slideshow": {
     "slide_type": "slide"
    }
   },
   "source": [
    "The components of the OLR before the perturbation are"
   ]
  },
  {
   "cell_type": "code",
   "execution_count": null,
   "id": "90d6fe87",
   "metadata": {},
   "outputs": [],
   "source": [
    "OLRterms"
   ]
  },
  {
   "cell_type": "markdown",
   "id": "bfbf2e63",
   "metadata": {
    "slideshow": {
     "slide_type": "fragment"
    }
   },
   "source": [
    "After the perturbation we have"
   ]
  },
  {
   "cell_type": "code",
   "execution_count": null,
   "id": "069f014e",
   "metadata": {},
   "outputs": [],
   "source": [
    "delta_epsilon = sympy.symbols('delta_epsilon')\n",
    "OLRterms_pert = OLRterms.subs(epsilon, epsilon+delta_epsilon)\n",
    "OLRterms_pert"
   ]
  },
  {
   "cell_type": "markdown",
   "id": "f8fbc7b9",
   "metadata": {
    "slideshow": {
     "slide_type": "slide"
    }
   },
   "source": [
    "Let's take the difference"
   ]
  },
  {
   "cell_type": "code",
   "execution_count": null,
   "id": "d7861362",
   "metadata": {},
   "outputs": [],
   "source": [
    "deltaOLR = OLRterms_pert - OLRterms\n",
    "deltaOLR"
   ]
  },
  {
   "cell_type": "markdown",
   "id": "48858617",
   "metadata": {
    "slideshow": {
     "slide_type": "slide"
    }
   },
   "source": [
    "To make things simpler, we will neglect the terms in $\\delta_\\epsilon^2$. This is perfectly reasonably because we are dealing with **small perturbations** where $\\delta_\\epsilon << \\epsilon$.\n",
    "\n",
    "Telling `sympy` to set the quadratic terms to zero gives us"
   ]
  },
  {
   "cell_type": "code",
   "execution_count": null,
   "id": "d434c8b1",
   "metadata": {},
   "outputs": [],
   "source": [
    "deltaOLR_linear = sympy.expand(deltaOLR).subs(delta_epsilon**2, 0)\n",
    "deltaOLR_linear"
   ]
  },
  {
   "cell_type": "markdown",
   "id": "48bf17f2",
   "metadata": {},
   "source": [
    "Recall that the three terms are the contributions to the OLR from the three different levels. In this case, the **changes** in those contributions after adding more absorbers."
   ]
  },
  {
   "cell_type": "markdown",
   "id": "72d95bb0",
   "metadata": {
    "slideshow": {
     "slide_type": "slide"
    }
   },
   "source": [
    "Now let's divide through by $\\delta_\\epsilon$ to get the normalized change in OLR per unit change in absorptivity:"
   ]
  },
  {
   "cell_type": "code",
   "execution_count": null,
   "id": "e3a12422",
   "metadata": {},
   "outputs": [],
   "source": [
    "deltaOLR_per_deltaepsilon = \\\n",
    "    sympy.simplify(deltaOLR_linear / delta_epsilon)\n",
    "deltaOLR_per_deltaepsilon"
   ]
  },
  {
   "cell_type": "markdown",
   "id": "e082dfec",
   "metadata": {},
   "source": [
    "Now look at the **sign** of each term. Recall that $0 < \\epsilon < 1$. **Which terms in the OLR go up and which go down?**\n",
    "\n",
    "**THIS IS VERY IMPORTANT, SO STOP AND THINK ABOUT IT.**"
   ]
  },
  {
   "cell_type": "markdown",
   "id": "2f1a9b95",
   "metadata": {
    "slideshow": {
     "slide_type": "fragment"
    }
   },
   "source": [
    "The contribution from the **surface** must **decrease**, while the contribution from the **top layer** must **increase**.\n",
    "\n",
    "**When we add absorbers, the average level of emission goes up!**"
   ]
  },
  {
   "cell_type": "markdown",
   "id": "4717fd90",
   "metadata": {
    "slideshow": {
     "slide_type": "slide"
    }
   },
   "source": [
    "### \"Radiative forcing\" is the change in radiative flux at TOA after adding absorbers\n",
    "\n",
    "In this model, only the longwave flux can change, so we define the radiative forcing as\n",
    "\n",
    "$$ R = - \\delta OLR $$\n",
    "\n",
    "(with the minus sign so that $R$ is positive when the climate system is gaining extra energy)."
   ]
  },
  {
   "cell_type": "markdown",
   "id": "b5af6b37",
   "metadata": {
    "slideshow": {
     "slide_type": "slide"
    }
   },
   "source": [
    "We just worked out that whenever we add some extra absorbers, the emissions to space (on average) will originate from higher levels in the atmosphere. \n",
    "\n",
    "What does this mean for OLR? Will it increase or decrease?\n",
    "\n",
    "To get the answer, we just have to sum up the three contributions we wrote above:"
   ]
  },
  {
   "cell_type": "code",
   "execution_count": null,
   "id": "8c467b54",
   "metadata": {},
   "outputs": [],
   "source": [
    "R_per_deltaepsilon = -sum(deltaOLR_per_deltaepsilon)\n",
    "R_per_deltaepsilon"
   ]
  },
  {
   "cell_type": "markdown",
   "id": "b265f2b2",
   "metadata": {},
   "source": [
    "Is this a positive or negative number? The key point is this:\n",
    "\n",
    "**It depends on the temperatures, i.e. on the lapse rate.**"
   ]
  },
  {
   "cell_type": "markdown",
   "id": "64349782",
   "metadata": {
    "slideshow": {
     "slide_type": "slide"
    }
   },
   "source": [
    "### Greenhouse effect for an isothermal atmosphere\n",
    "\n",
    "Stop and think about this question:\n",
    "\n",
    "If the **surface and atmosphere are all at the same temperature**, does the OLR go up or down when $\\epsilon$ increases (i.e. we add more absorbers)?\n",
    "\n",
    "Understanding this question is key to understanding how the greenhouse effect works."
   ]
  },
  {
   "cell_type": "markdown",
   "id": "3378678a",
   "metadata": {
    "slideshow": {
     "slide_type": "slide"
    }
   },
   "source": [
    "#### Let's solve the isothermal case\n",
    "\n",
    "We will just set $T_s = T_0 = T_1$ in the above expression for the radiative forcing."
   ]
  },
  {
   "cell_type": "code",
   "execution_count": null,
   "id": "19235197",
   "metadata": {},
   "outputs": [],
   "source": [
    "R_per_deltaepsilon.subs([(T_0, T_s), (T_1, T_s)])"
   ]
  },
  {
   "cell_type": "markdown",
   "id": "c82f631e",
   "metadata": {
    "slideshow": {
     "slide_type": "fragment"
    }
   },
   "source": [
    "which then simplifies to"
   ]
  },
  {
   "cell_type": "code",
   "execution_count": null,
   "id": "34d89bfb",
   "metadata": {},
   "outputs": [],
   "source": [
    "sympy.simplify(R_per_deltaepsilon.subs([(T_0, T_s), (T_1, T_s)]))"
   ]
  },
  {
   "cell_type": "markdown",
   "id": "29a9b865",
   "metadata": {
    "slideshow": {
     "slide_type": "slide"
    }
   },
   "source": [
    "#### The answer is zero\n",
    "\n",
    "For an isothermal atmosphere, there is **no change** in OLR when we add extra greenhouse absorbers. Hence, no radiative forcing and no greenhouse effect.\n",
    "\n",
    "Why?\n",
    "\n",
    "The level of emission still must go up. But since the temperature at the upper level is the **same** as everywhere else, the emissions are exactly the same."
   ]
  },
  {
   "cell_type": "markdown",
   "id": "2f178587",
   "metadata": {
    "slideshow": {
     "slide_type": "-"
    }
   },
   "source": [
    "### The radiative forcing (change in OLR) depends on the lapse rate!"
   ]
  },
  {
   "cell_type": "markdown",
   "id": "4d0188f8",
   "metadata": {
    "slideshow": {
     "slide_type": "slide"
    }
   },
   "source": [
    "For a more realistic example of radiative forcing due to an increase in greenhouse absorbers, we can substitute in our tuned values for temperature and $\\epsilon$. \n",
    "\n",
    "We'll express the answer in W m$^{-2}$ for a 2% increase in $\\epsilon$."
   ]
  },
  {
   "cell_type": "code",
   "execution_count": null,
   "id": "43c9d609",
   "metadata": {},
   "outputs": [],
   "source": [
    "delta_epsilon = 0.02 * epsilon\n",
    "delta_epsilon"
   ]
  },
  {
   "cell_type": "markdown",
   "id": "7f369efe",
   "metadata": {},
   "source": [
    "The three components of the OLR change are"
   ]
  },
  {
   "cell_type": "code",
   "execution_count": null,
   "id": "3d29ed54",
   "metadata": {},
   "outputs": [],
   "source": [
    "(deltaOLR_per_deltaepsilon * delta_epsilon).subs(tuned)"
   ]
  },
  {
   "cell_type": "markdown",
   "id": "8a8db225",
   "metadata": {},
   "source": [
    "And the net radiative forcing is"
   ]
  },
  {
   "cell_type": "code",
   "execution_count": null,
   "id": "04582094",
   "metadata": {},
   "outputs": [],
   "source": [
    "(R_per_deltaepsilon*delta_epsilon).subs(tuned)"
   ]
  },
  {
   "cell_type": "markdown",
   "id": "ccb4084b",
   "metadata": {
    "slideshow": {
     "slide_type": "slide"
    }
   },
   "source": [
    "So in our example, **the OLR decreases by 2.6 W m$^{-2}$**, or equivalently, the radiative forcing is +2.6 W m$^{-2}$.\n",
    "\n",
    "What we have just calculated is this:\n",
    "\n",
    "*Given the observed lapse rates, a small increase in absorbers will cause a small decrease in OLR.*\n",
    "\n",
    "The greenhouse effect thus gets stronger, and energy will begin to accumulate in the system -- which will eventually cause temperatures to increase as the system adjusts to a new equilibrium."
   ]
  },
  {
   "cell_type": "markdown",
   "id": "dd27150b",
   "metadata": {
    "slideshow": {
     "slide_type": "slide"
    }
   },
   "source": [
    "____________\n",
    "<a id='section6'></a>\n",
    "\n",
    "## 6. Radiative equilibrium in the 2-layer grey gas model\n",
    "____________"
   ]
  },
  {
   "cell_type": "markdown",
   "id": "b6dabc7e",
   "metadata": {
    "slideshow": {
     "slide_type": "slide"
    }
   },
   "source": [
    "In the previous section we:\n",
    "\n",
    "- made no assumptions about the processes that actually set the temperatures. \n",
    "- used the model to calculate radiative fluxes, **given observed temperatures**. \n",
    "- stressed the importance of knowing the lapse rates in order to know how an increase in emission level would affect the OLR, and thus determine the radiative forcing.\n",
    "\n",
    "A key question in climate dynamics is therefore this:\n",
    "\n",
    "**What sets the lapse rate?**"
   ]
  },
  {
   "cell_type": "markdown",
   "id": "4035b102",
   "metadata": {
    "slideshow": {
     "slide_type": "slide"
    }
   },
   "source": [
    "It turns out that lots of different physical processes contribute to setting the lapse rate. \n",
    "\n",
    "Understanding how these processes acts together and how they change as the climate changes is one of the key reasons for which we need more complex climate models.\n",
    "\n",
    "For now, we will use our prototype greenhouse model to do the most basic lapse rate calculation: the **radiative equilibrium temperature**.\n",
    "\n",
    "We assume that\n",
    "\n",
    "- the only exchange of energy between layers is longwave radiation\n",
    "- equilibrium is achieved when the **net radiative flux convergence** in each layer is zero."
   ]
  },
  {
   "cell_type": "markdown",
   "id": "f32c07fc",
   "metadata": {
    "slideshow": {
     "slide_type": "slide"
    }
   },
   "source": [
    "### Compute the radiative flux convergence\n",
    "\n",
    "First, the **net upwelling flux** is just the difference between flux up and flux down:"
   ]
  },
  {
   "cell_type": "code",
   "execution_count": null,
   "id": "b2786e5e",
   "metadata": {},
   "outputs": [],
   "source": [
    "#  Upwelling and downwelling beams as matrices\n",
    "U = sympy.Matrix([U_0, U_1, U_2])\n",
    "D = sympy.Matrix([D_0, D_1, D_2])\n",
    "# Net flux, positive up\n",
    "F = U-D\n",
    "F"
   ]
  },
  {
   "cell_type": "markdown",
   "id": "76f1b216",
   "metadata": {
    "slideshow": {
     "slide_type": "slide"
    }
   },
   "source": [
    "####  Net absorption is the flux convergence in each layer\n",
    "\n",
    "(difference between what's coming in the bottom and what's going out the top of each layer)"
   ]
  },
  {
   "cell_type": "code",
   "execution_count": null,
   "id": "5d0d8e56",
   "metadata": {},
   "outputs": [],
   "source": [
    "# define a vector of absorbed radiation -- same size as emissions\n",
    "A = E.copy()\n",
    "\n",
    "#  absorbed radiation at surface\n",
    "A[0] = F[0]\n",
    "# Compute the convergence\n",
    "for n in range(2):\n",
    "    A[n+1] = -(F[n+1]-F[n])\n",
    "\n",
    "A"
   ]
  },
  {
   "cell_type": "markdown",
   "id": "76723f0d",
   "metadata": {
    "slideshow": {
     "slide_type": "slide"
    }
   },
   "source": [
    "#### Radiative equilibrium means net absorption is ZERO in the atmosphere\n",
    "\n",
    "The only other heat source is the **shortwave heating** at the **surface**.\n",
    "\n",
    "In matrix form, here is the system of equations to be solved:"
   ]
  },
  {
   "cell_type": "code",
   "execution_count": null,
   "id": "774f2ade",
   "metadata": {},
   "outputs": [],
   "source": [
    "radeq = sympy.Equality(A, sympy.Matrix([(1-alpha)*Q, 0, 0]))\n",
    "radeq"
   ]
  },
  {
   "cell_type": "markdown",
   "id": "f0ddc1dd",
   "metadata": {
    "slideshow": {
     "slide_type": "slide"
    }
   },
   "source": [
    "Just as we did for the 1-layer model, it is helpful to rewrite this system using the definition of the **emission temperture** $T_e$\n",
    "\n",
    "$$ (1-\\alpha) Q = \\sigma T_e^4 $$"
   ]
  },
  {
   "cell_type": "code",
   "execution_count": null,
   "id": "b15b6a77",
   "metadata": {},
   "outputs": [],
   "source": [
    "radeq2 = radeq.subs([((1-alpha)*Q, sigma*T_e**4)])\n",
    "radeq2"
   ]
  },
  {
   "cell_type": "markdown",
   "id": "002b81d6",
   "metadata": {},
   "source": [
    "In this form we can see that we actually have a **linear system** of equations for a set of variables $T_s^4, T_0^4, T_1^4$.\n",
    "\n",
    "We can solve this matrix problem to get these as functions of $T_e^4$."
   ]
  },
  {
   "cell_type": "code",
   "execution_count": null,
   "id": "6da779b8",
   "metadata": {
    "slideshow": {
     "slide_type": "slide"
    }
   },
   "outputs": [],
   "source": [
    "# Solve for radiative equilibrium \n",
    "fourthpower = sympy.solve(radeq2, [T_s**4, T_1**4, T_0**4])\n",
    "fourthpower"
   ]
  },
  {
   "cell_type": "markdown",
   "id": "1339f877",
   "metadata": {},
   "source": [
    "This produces a dictionary of solutions for the fourth power of the temperatures!"
   ]
  },
  {
   "cell_type": "markdown",
   "id": "a5fe15b8",
   "metadata": {
    "slideshow": {
     "slide_type": "slide"
    }
   },
   "source": [
    "A little manipulation gets us the solutions for temperatures that we want:"
   ]
  },
  {
   "cell_type": "code",
   "execution_count": null,
   "id": "0f7b991f",
   "metadata": {},
   "outputs": [],
   "source": [
    "# need the symbolic fourth root operation\n",
    "from sympy.simplify.simplify import nthroot\n",
    "\n",
    "fourthpower_list = [fourthpower[key] for key in [T_s**4, T_0**4, T_1**4]]\n",
    "solution = sympy.Matrix([nthroot(item,4) for item in fourthpower_list])\n",
    "#  Display result as matrix equation!\n",
    "T = sympy.Matrix([T_s, T_0, T_1])\n",
    "sympy.Equality(T, solution)"
   ]
  },
  {
   "cell_type": "markdown",
   "id": "2f92847f",
   "metadata": {
    "slideshow": {
     "slide_type": "slide"
    }
   },
   "source": [
    "In more familiar notation, the radiative equilibrium solution is thus\n",
    "\n",
    "\\begin{align} \n",
    "T_s &= T_e \\left( \\frac{2+\\epsilon}{2-\\epsilon} \\right)^{1/4} \\\\\n",
    "T_0 &= T_e \\left( \\frac{1+\\epsilon}{2-\\epsilon} \\right)^{1/4} \\\\\n",
    "T_1 &= T_e \\left( \\frac{ 1}{2 - \\epsilon} \\right)^{1/4}\n",
    "\\end{align}"
   ]
  },
  {
   "cell_type": "markdown",
   "id": "30143c56",
   "metadata": {
    "slideshow": {
     "slide_type": "slide"
    }
   },
   "source": [
    "Plugging in the tuned value $\\epsilon = 0.586$ gives"
   ]
  },
  {
   "cell_type": "code",
   "execution_count": null,
   "id": "c8862cce",
   "metadata": {},
   "outputs": [],
   "source": [
    "Tsolution = solution.subs(tuned)\n",
    "#  Display result as matrix equation!\n",
    "sympy.Equality(T, Tsolution)"
   ]
  },
  {
   "cell_type": "markdown",
   "id": "940a36e0",
   "metadata": {
    "slideshow": {
     "slide_type": "slide"
    }
   },
   "source": [
    "Now we just need to know the Earth's emission temperature $T_e$!\n",
    "\n",
    "(Which we already know is about 255 K)"
   ]
  },
  {
   "cell_type": "code",
   "execution_count": null,
   "id": "b5887c06",
   "metadata": {},
   "outputs": [],
   "source": [
    "# Here's how to calculate T_e from the observed values\n",
    "sympy.solve(((1-alpha)*Q - sigma*T_e**4).subs(tuned), T_e)"
   ]
  },
  {
   "cell_type": "code",
   "execution_count": null,
   "id": "1d10930d",
   "metadata": {},
   "outputs": [],
   "source": [
    "# Need to unpack the list\n",
    "Te_value = sympy.solve(((1-alpha)*Q - sigma*T_e**4).subs(tuned), T_e)[0]\n",
    "Te_value"
   ]
  },
  {
   "cell_type": "markdown",
   "id": "77851577",
   "metadata": {
    "slideshow": {
     "slide_type": "slide"
    }
   },
   "source": [
    "#### Now we finally get our solution for radiative equilibrium"
   ]
  },
  {
   "cell_type": "code",
   "execution_count": null,
   "id": "b5adc3b0",
   "metadata": {
    "slideshow": {
     "slide_type": "-"
    }
   },
   "outputs": [],
   "source": [
    "#  Output 4 significant digits\n",
    "Trad = sympy.N(Tsolution.subs([(T_e, Te_value)]), 4)\n",
    "sympy.Equality(T, Trad)"
   ]
  },
  {
   "cell_type": "markdown",
   "id": "29ee5947",
   "metadata": {
    "slideshow": {
     "slide_type": "fragment"
    }
   },
   "source": [
    "Compare these to the values we derived from the **observed lapse rates**:"
   ]
  },
  {
   "cell_type": "code",
   "execution_count": null,
   "id": "8ad97403",
   "metadata": {},
   "outputs": [],
   "source": [
    "sympy.Equality(T, T.subs(tuned))"
   ]
  },
  {
   "cell_type": "markdown",
   "id": "116e86bf",
   "metadata": {
    "slideshow": {
     "slide_type": "slide"
    }
   },
   "source": [
    "The **radiative equilibrium** solution is substantially **warmer at the surface** and **colder in the lower troposphere** than reality.\n",
    "\n",
    "This is a very general feature of radiative equilibrium, and we will see it again very soon in this course."
   ]
  },
  {
   "cell_type": "markdown",
   "id": "61a269a7",
   "metadata": {
    "slideshow": {
     "slide_type": "slide"
    }
   },
   "source": [
    "____________\n",
    "<a id='section7'></a>\n",
    "\n",
    "## 7. Summary\n",
    "____________"
   ]
  },
  {
   "cell_type": "markdown",
   "id": "f008dab2",
   "metadata": {
    "slideshow": {
     "slide_type": "-"
    }
   },
   "source": [
    "## Key physical lessons\n",
    "\n",
    "- Putting a **layer of longwave absorbers** above the surface keeps the **surface substantially warmer**, because of the **backradiation** from the atmosphere (greenhouse effect).\n",
    "- The **grey gas** model assumes that each layer absorbs and emits a fraction $\\epsilon$ of its blackbody value, independent of wavelength."
   ]
  },
  {
   "cell_type": "markdown",
   "id": "3444d303",
   "metadata": {
    "slideshow": {
     "slide_type": "slide"
    }
   },
   "source": [
    "- With **incomplete absorption** ($\\epsilon < 1$), there are contributions to the OLR from every level and the surface (there is no single **level of emission**)\n",
    "- Adding more absorbers means that **contributions to the OLR** from **upper levels** go **up**, while contributions from the surface go **down**.\n",
    "- This upward shift in the weighting of different levels is what we mean when we say the **level of emission goes up**."
   ]
  },
  {
   "cell_type": "markdown",
   "id": "da43f07a",
   "metadata": {
    "slideshow": {
     "slide_type": "slide"
    }
   },
   "source": [
    "- The **radiative forcing** caused by an increase in absorbers **depends on the lapse rate**.\n",
    "- For an **isothermal atmosphere** the radiative forcing is zero and there is **no greenhouse effect**\n",
    "- The radiative forcing is positive for our atmosphere **because tropospheric temperatures tends to decrease with height**.\n",
    "- Pure **radiative equilibrium** produces a **warm surface** and **cold lower troposphere**.\n",
    "- This is unrealistic, and suggests that crucial heat transfer mechanisms are missing from our model."
   ]
  },
  {
   "cell_type": "markdown",
   "id": "31c14ffb",
   "metadata": {
    "slideshow": {
     "slide_type": "slide"
    }
   },
   "source": [
    "### And on the Python side...\n",
    "\n",
    "Did we need `sympy` to work all this out? No, of course not. We could have solved the 3x3 matrix problems by hand. But computer algebra can be very useful and save you a lot of time and error, so it's good to invest some effort into learning how to use it. \n",
    "\n",
    "Hopefully these notes provide a useful starting point."
   ]
  },
  {
   "cell_type": "markdown",
   "id": "e13e56ae",
   "metadata": {
    "slideshow": {
     "slide_type": "skip"
    }
   },
   "source": [
    "### A follow-up assignment\n",
    "\n",
    "You are now ready to tackle [Assignment 5](../Assignments/Assignment05 -- Radiative forcing in a grey radiation atmosphere.ipynb), where you are asked to extend this grey-gas analysis to many layers. \n",
    "\n",
    "For more than a few layers, the analytical approach we used here is no longer very useful. You will code up a numerical solution to calculate OLR given temperatures and absorptivity, and look at how the lapse rate determines radiative forcing for a given increase in absorptivity."
   ]
  },
  {
   "cell_type": "markdown",
   "id": "dd857ba2",
   "metadata": {},
   "source": [
    "____________\n",
    "\n",
    "## Credits\n",
    "\n",
    "This notebook is part of [The Climate Laboratory](https://brian-rose.github.io/ClimateLaboratoryBook), an open-source textbook developed and maintained by [Brian E. J. Rose](http://www.atmos.albany.edu/facstaff/brose/index.html), University at Albany.\n",
    "\n",
    "It is licensed for free and open consumption under the\n",
    "[Creative Commons Attribution 4.0 International (CC BY 4.0)](https://creativecommons.org/licenses/by/4.0/) license.\n",
    "\n",
    "Development of these notes and the [climlab software](https://github.com/brian-rose/climlab) is partially supported by the National Science Foundation under award AGS-1455071 to Brian Rose. Any opinions, findings, conclusions or recommendations expressed here are mine and do not necessarily reflect the views of the National Science Foundation.\n",
    "____________"
   ]
  },
  {
   "cell_type": "code",
   "execution_count": null,
   "id": "ca3e62bb",
   "metadata": {},
   "outputs": [],
   "source": []
  }
 ],
 "metadata": {
  "jupytext": {
   "text_representation": {
    "extension": ".md",
    "format_name": "myst",
    "format_version": 0.13,
    "jupytext_version": "1.14.4"
   }
  },
  "kernelspec": {
   "display_name": "Python 3 (ipykernel)",
   "language": "python",
   "name": "python3"
  },
  "source_map": [
   12,
   18,
   25,
   29,
   41,
   45,
   57,
   60,
   67,
   80,
   88,
   94,
   107,
   119,
   124,
   130,
   134,
   139,
   143,
   149,
   153,
   159,
   175,
   181,
   184,
   190,
   195,
   201,
   204,
   208,
   216,
   224,
   241,
   253,
   261,
   271,
   275,
   283,
   289,
   300,
   304,
   308,
   318,
   326,
   331,
   339,
   345,
   354,
   358,
   367,
   371,
   375,
   377,
   381,
   387,
   395,
   401,
   411,
   415,
   419,
   423,
   429,
   433,
   438,
   444,
   447,
   451,
   455,
   459,
   465,
   471,
   481,
   489,
   492,
   498,
   508,
   514,
   518,
   522,
   526,
   536,
   540,
   546,
   549,
   553,
   555,
   559,
   563,
   573,
   581,
   593,
   606,
   612,
   621,
   627,
   640,
   648,
   653,
   659,
   662,
   668,
   676,
   680,
   684,
   695,
   705,
   709,
   715,
   721,
   726,
   732,
   736,
   746,
   750,
   754,
   760,
   768,
   775,
   781,
   789,
   797,
   805,
   819
  ]
 },
 "nbformat": 4,
 "nbformat_minor": 5
}