{
 "cells": [
  {
   "cell_type": "markdown",
   "id": "68241ec1",
   "metadata": {
    "slideshow": {
     "slide_type": "slide"
    }
   },
   "source": [
    "(nb:radiation)=\n",
    "# A Brief Review of Radiation\n",
    "\n",
    "This notebook is part of [The Climate Laboratory](https://brian-rose.github.io/ClimateLaboratoryBook) by [Brian E. J. Rose](http://www.atmos.albany.edu/facstaff/brose/index.html), University at Albany."
   ]
  },
  {
   "cell_type": "markdown",
   "id": "a3b89a73",
   "metadata": {
    "slideshow": {
     "slide_type": "slide"
    }
   },
   "source": [
    "____________\n",
    "<a id='section1'></a>\n",
    "\n",
    "## 1. Emission temperature and lapse rates\n",
    "____________"
   ]
  },
  {
   "cell_type": "markdown",
   "id": "d7862520",
   "metadata": {
    "slideshow": {
     "slide_type": "slide"
    }
   },
   "source": [
    "Planetary energy balance is the foundation for all climate modeling. So far we have expressed this through a globally averaged budget\n",
    "\n",
    "$$C \\frac{d T_s}{dt} = (1-\\alpha) Q - OLR$$\n",
    "\n",
    "and we have written the OLR in terms of an emission temperature $T_e$ where by definition\n",
    "\n",
    "$$ OLR = \\sigma T_e^4 $$"
   ]
  },
  {
   "cell_type": "markdown",
   "id": "bf3d65d8",
   "metadata": {
    "slideshow": {
     "slide_type": "slide"
    }
   },
   "source": [
    "Using values from the observed planetary energy budget, we found that $T_e = 255$ K\n",
    "\n",
    "The emission temperature of the planet is thus about 33 K colder than the mean surface temperature (288 K)."
   ]
  },
  {
   "cell_type": "markdown",
   "id": "5783743c",
   "metadata": {
    "slideshow": {
     "slide_type": "slide"
    }
   },
   "source": [
    "### Where in the atmosphere do we find $T = T_e = 255$ K?\n",
    "\n",
    "That's about -18ºC.\n",
    "\n",
    "Let's plot **global, annual average observed air temperature** from NCEP reanalysis data."
   ]
  },
  {
   "cell_type": "code",
   "execution_count": null,
   "id": "e05a96c5",
   "metadata": {
    "slideshow": {
     "slide_type": "slide"
    }
   },
   "outputs": [],
   "source": [
    "%matplotlib inline\n",
    "import numpy as np\n",
    "import matplotlib.pyplot as plt\n",
    "import xarray as xr"
   ]
  },
  {
   "cell_type": "code",
   "execution_count": null,
   "id": "62f74b53",
   "metadata": {
    "slideshow": {
     "slide_type": "slide"
    }
   },
   "outputs": [],
   "source": [
    "## The NOAA ESRL server is shutdown! January 2019\n",
    "ncep_url = \"http://www.esrl.noaa.gov/psd/thredds/dodsC/Datasets/ncep.reanalysis.derived/\"\n",
    "ncep_air = xr.open_dataset( ncep_url + \"pressure/air.mon.1981-2010.ltm.nc\",\n",
    "                          use_cftime=True)\n",
    "#url = 'http://apdrc.soest.hawaii.edu:80/dods/public_data/Reanalysis_Data/NCEP/NCEP/clima/pressure/air'\n",
    "#air = xr.open_dataset(url)\n",
    "## The name of the vertical axis is different than the NOAA ESRL version..\n",
    "#ncep_air = air.rename({'lev': 'level'})\n",
    "print( ncep_air)"
   ]
  },
  {
   "cell_type": "code",
   "execution_count": null,
   "id": "9371547a",
   "metadata": {
    "slideshow": {
     "slide_type": "slide"
    }
   },
   "outputs": [],
   "source": [
    "#  Take global, annual average and convert to Kelvin\n",
    "coslat = np.cos(np.deg2rad(ncep_air.lat))\n",
    "weight = coslat / coslat.mean(dim='lat')\n",
    "Tglobal = (ncep_air.air * weight).mean(dim=('lat','lon','time'))\n",
    "Tglobal"
   ]
  },
  {
   "cell_type": "code",
   "execution_count": null,
   "id": "3fc2d9a3",
   "metadata": {
    "slideshow": {
     "slide_type": "slide"
    }
   },
   "outputs": [],
   "source": [
    "#  a \"quick and dirty\" visualization of the data\n",
    "Tglobal.plot()"
   ]
  },
  {
   "cell_type": "markdown",
   "id": "40a8db18",
   "metadata": {
    "slideshow": {
     "slide_type": "slide"
    }
   },
   "source": [
    "Let's make a better plot.\n",
    "\n",
    "Here we're going to use a package called `metpy` to automate plotting this temperature profile in a way that's more familiar to meteorologists: a so-called *skew-T* plot."
   ]
  },
  {
   "cell_type": "code",
   "execution_count": null,
   "id": "d94c3a7a",
   "metadata": {
    "slideshow": {
     "slide_type": "slide"
    }
   },
   "outputs": [],
   "source": [
    "from metpy.plots import SkewT"
   ]
  },
  {
   "cell_type": "code",
   "execution_count": null,
   "id": "eafac7e4",
   "metadata": {
    "slideshow": {
     "slide_type": "slide"
    }
   },
   "outputs": [],
   "source": [
    "fig = plt.figure(figsize=(9, 9))\n",
    "skew = SkewT(fig, rotation=30)\n",
    "skew.plot(Tglobal.level, Tglobal, color='black', linestyle='-', linewidth=2, label='Observations')\n",
    "skew.ax.set_ylim(1050, 10)\n",
    "skew.ax.set_xlim(-75, 45)\n",
    "# Add the relevant special lines\n",
    "skew.plot_dry_adiabats(linewidth=0.5)\n",
    "skew.plot_moist_adiabats(linewidth=0.5)\n",
    "#skew.plot_mixing_lines()\n",
    "skew.ax.legend()\n",
    "skew.ax.set_title('Global, annual mean sounding from NCEP Reanalysis', \n",
    "             fontsize = 16)"
   ]
  },
  {
   "cell_type": "markdown",
   "id": "09e05a31",
   "metadata": {
    "slideshow": {
     "slide_type": "slide"
    }
   },
   "source": [
    "Note that surface temperature in global mean is indeed about 288 K or 15ºC as we keep saying.\n",
    "\n",
    "So where do we find temperature $T_e=255$ K or -18ºC?\n",
    "\n",
    "Actually in mid-troposphere, near 500 hPa or about 5 km height.\n",
    "\n",
    "We can infer that much of the outgoing longwave radiation actually originates far above the surface."
   ]
  },
  {
   "cell_type": "markdown",
   "id": "7bc2ebe3",
   "metadata": {
    "slideshow": {
     "slide_type": "slide"
    }
   },
   "source": [
    "Recall that our observed global energy budget diagram shows 217 out of 239 W m$^{-2}$ total OLR emitted by the atmosphere and clouds, only 22 W m$^{-2}$ directly from the surface.\n",
    "\n",
    "This is due to the **greenhouse effect**."
   ]
  },
  {
   "cell_type": "markdown",
   "id": "e9c4a5b1",
   "metadata": {
    "slideshow": {
     "slide_type": "slide"
    }
   },
   "source": [
    "So far we have dealt with the greenhouse in a very artificial way in our energy balance model by simply assuming \n",
    "\n",
    "$$ \\text{OLR} = \\tau \\sigma T_s^4 $$\n",
    "\n",
    "i.e., the OLR is reduced by a constant factor from the value it would have if the Earth emitted as a blackbody at the surface temperature.\n",
    "\n",
    "Now it's time to start thinking a bit more about how the radiative transfer process actually occurs in the atmosphere, and how to model it."
   ]
  },
  {
   "cell_type": "markdown",
   "id": "c36c7d4a",
   "metadata": {
    "slideshow": {
     "slide_type": "slide"
    }
   },
   "source": [
    "____________\n",
    "<a id='section2'></a>\n",
    "\n",
    "## 2. Solar Radiation\n",
    "____________\n",
    "\n",
    "Let's plot a spectrum of solar radiation.\n",
    "\n",
    "For Python details, click to expand the code blocks (or see the code in the notebook)."
   ]
  },
  {
   "cell_type": "code",
   "execution_count": null,
   "id": "a7d65b41",
   "metadata": {
    "slideshow": {
     "slide_type": "skip"
    },
    "tags": [
     "hide_input"
    ]
   },
   "outputs": [],
   "source": [
    "#  Using pre-defined code for the Planck function from the climlab package\n",
    "from climlab.utils.thermo import Planck_wavelength"
   ]
  },
  {
   "cell_type": "code",
   "execution_count": null,
   "id": "fdfecab1",
   "metadata": {
    "slideshow": {
     "slide_type": "skip"
    },
    "tags": [
     "hide_input"
    ]
   },
   "outputs": [],
   "source": [
    "# approximate emission temperature of the sun in Kelvin\n",
    "Tsun = 5780.\n",
    "# boundaries of visible region in nanometers\n",
    "UVbound = 390.\n",
    "IRbound = 700.\n",
    "#  array of wavelengths\n",
    "wavelength_nm = np.linspace(10., 3500., 400)\n",
    "to_meters = 1E-9  # conversion factor"
   ]
  },
  {
   "cell_type": "code",
   "execution_count": null,
   "id": "dd125be1",
   "metadata": {
    "slideshow": {
     "slide_type": "skip"
    },
    "tags": [
     "hide_input"
    ]
   },
   "outputs": [],
   "source": [
    "label_size = 16\n",
    "fig, ax = plt.subplots(figsize=(14,7))\n",
    "ax.plot(wavelength_nm, \n",
    "         Planck_wavelength(wavelength_nm * to_meters, Tsun))\n",
    "ax.grid()\n",
    "ax.set_xlabel('Wavelength (nm)', fontsize=label_size)\n",
    "ax.set_ylabel('Spectral radiance (W sr$^{-1}$ m$^{-3}$)', fontsize=label_size)\n",
    "#  Mask out points outside of this range\n",
    "wavelength_vis = np.ma.masked_outside(wavelength_nm, UVbound, IRbound)\n",
    "#  Shade the visible region\n",
    "ax.fill_between(wavelength_vis, Planck_wavelength(wavelength_vis * to_meters, Tsun))\n",
    "title = 'Blackbody emission curve for the sun (T = {:.0f} K)'.format(Tsun)\n",
    "ax.set_title(title, fontsize=label_size);\n",
    "ax.text(280, 0.8E13, 'Ultraviolet', rotation='vertical', fontsize=12)\n",
    "ax.text(500, 0.8E13, 'Visible', rotation='vertical', fontsize=16, color='w')\n",
    "ax.text(800, 0.8E13, 'Infrared', rotation='vertical', fontsize=12);"
   ]
  },
  {
   "cell_type": "markdown",
   "id": "ea174e45",
   "metadata": {
    "slideshow": {
     "slide_type": "slide"
    }
   },
   "source": [
    "- Spectrum peaks in the visible range\n",
    "- most energy at these wavelength.\n",
    "- No coincidence that our eyes are sensitive to this range of wavelengths!\n",
    "- Longer wavelengths called “infrared”, shorter wavelengths called “ultraviolet”.\n",
    "\n",
    "The shape of the spectrum is a fundamental characteristic of radiative emissions\n",
    "(think about the color of burning coals in a fire – cooler = red, hotter = white)"
   ]
  },
  {
   "cell_type": "markdown",
   "id": "a0ddc018",
   "metadata": {
    "slideshow": {
     "slide_type": "slide"
    }
   },
   "source": [
    "Theory and experiments tell us that both the total flux of emitted radiation, and the wavelength of maximum emission, depend only on the temperature of the source!\n",
    "\n",
    "The theoretical spectrum was worked out by Max Planck and is therefore known as the “Planck” spectrum (or simply blackbody spectrum)."
   ]
  },
  {
   "cell_type": "code",
   "execution_count": null,
   "id": "8149dbf5",
   "metadata": {
    "tags": [
     "hide_input"
    ]
   },
   "outputs": [],
   "source": [
    "fig, ax = plt.subplots(figsize=(14,7))\n",
    "wavelength_um = wavelength_nm / 1000\n",
    "for T in [24000,12000,6000,3000]:\n",
    "    ax.plot(wavelength_um, \n",
    "         (Planck_wavelength(wavelength_nm * to_meters, T) / T**4),\n",
    "           label=str(T) + ' K')\n",
    "ax.legend(fontsize=label_size)\n",
    "ax.set_xlabel('Wavelength (um)', fontsize=label_size)\n",
    "ax.set_ylabel('Normalized spectral radiance (W sr$^{-1}$ m$^{-3}$ K$^{-4}$)', fontsize=label_size)\n",
    "ax.set_title(\"Normalized blackbody emission spectra $T^{-4} B_{\\lambda}$ for different temperatures\");"
   ]
  },
  {
   "cell_type": "markdown",
   "id": "1d8ad11d",
   "metadata": {
    "slideshow": {
     "slide_type": "slide"
    }
   },
   "source": [
    "Going from cool to warm:\n",
    "\n",
    "- total emission increases\n",
    "- maximum emission occurs at shorter wavelengths.\n",
    "\n",
    "The **integral of these curves over all wavelengths** gives us our familiar $\\sigma T^4$"
   ]
  },
  {
   "cell_type": "markdown",
   "id": "a8aa9d6f",
   "metadata": {
    "slideshow": {
     "slide_type": "slide"
    }
   },
   "source": [
    "Mathematically it turns out that \n",
    "\n",
    "$$ λ_{max} T = \\text{constant} $$\n",
    "\n",
    "(known as Wien’s displacement law)."
   ]
  },
  {
   "cell_type": "markdown",
   "id": "f9c31d12",
   "metadata": {
    "slideshow": {
     "slide_type": "slide"
    }
   },
   "source": [
    "By fitting the observed solar emission to a blackbody curve, we can deduce that the emission temperature of the sun is about 6000 K.\n",
    "\n",
    "Knowing this, and knowing that the solar spectrum peaks at 0.6 micrometers, we can calculate the wavelength of maximum terrestrial radiation as\n",
    "\n",
    "$$ λ_{max}^{Earth} = 0.6 ~ \\mu m \\frac{6000}{255} = 14 ~ \\mu m $$\n",
    "\n",
    "This is in the far-infrared part of the spectrum."
   ]
  },
  {
   "cell_type": "markdown",
   "id": "f3fa9a51",
   "metadata": {
    "slideshow": {
     "slide_type": "slide"
    }
   },
   "source": [
    "____________\n",
    "<a id='section3'></a>\n",
    "\n",
    "## 3. Terrestrial Radiation and absorption spectra\n",
    "____________"
   ]
  },
  {
   "cell_type": "markdown",
   "id": "0e647f99",
   "metadata": {},
   "source": [
    "## Terrestrial versus solar wavelengths\n",
    "\n",
    "Now let's look at normalized blackbody curves for Sun and Earth:"
   ]
  },
  {
   "cell_type": "code",
   "execution_count": null,
   "id": "e666c23f",
   "metadata": {
    "tags": [
     "hide_input"
    ]
   },
   "outputs": [],
   "source": [
    "fig, ax = plt.subplots(figsize=(14,7))\n",
    "wavelength_um = np.linspace(0.1, 200, 10000)\n",
    "wavelength_meters = wavelength_um / 1E6\n",
    "\n",
    "for T in [6000, 255]:\n",
    "    ax.semilogx(wavelength_um, \n",
    "         (Planck_wavelength(wavelength_meters, T) / T**4 * wavelength_meters),\n",
    "           label=str(T) + ' K')\n",
    "ax.legend(fontsize=label_size)\n",
    "ax.set_xlabel('Wavelength (um)', fontsize=label_size)\n",
    "ax.set_ylabel('Normalized spectral radiance (W sr$^{-1}$ m$^{-2}$ K$^{-4}$)', fontsize=label_size)\n",
    "ax.set_title(\"Normalized blackbody emission spectra $T^{-4} \\lambda B_{\\lambda}$ for the sun ($T_e = 6000$ K) and Earth ($T_e = 255$ K)\",\n",
    "            fontsize=label_size);"
   ]
  },
  {
   "cell_type": "markdown",
   "id": "de2e8a66",
   "metadata": {
    "slideshow": {
     "slide_type": "slide"
    }
   },
   "source": [
    "There is essentially no overlap between the two spectra.\n",
    "\n",
    "**This is the fundamental reason we can discuss the solar “shortwave” and terrestrial “longwave” radiation as two distinct phenomena.**\n",
    "\n",
    "In reality all radiation exists on a continuum of different wavelengths. But in climate science we can get a long way by thinking in terms of a very simple “two-stream” approximation (short and longwave). We’ve already been doing this throughout the course so far!"
   ]
  },
  {
   "cell_type": "markdown",
   "id": "7be07da6",
   "metadata": {},
   "source": [
    "### Atmospheric absorption spectra\n",
    "\n",
    "Now look at the atmospheric **absorption spectra**.\n",
    "\n",
    "(fraction of radiation at each wavelength that is absorbed on a single vertical path through the atmosphere)"
   ]
  },
  {
   "cell_type": "markdown",
   "id": "39f5f28b",
   "metadata": {},
   "source": [
    "<img src='../../images/MarshallPlumbFig2.5.png'>"
   ]
  },
  {
   "cell_type": "markdown",
   "id": "a697eb21",
   "metadata": {
    "slideshow": {
     "slide_type": "skip"
    }
   },
   "source": [
    "*Figure reproduced from Marshall and Plumb (2008): Atmosphere, Ocean, and Climate Dynamics*"
   ]
  },
  {
   "cell_type": "markdown",
   "id": "d1f2d4b8",
   "metadata": {
    "slideshow": {
     "slide_type": "slide"
    }
   },
   "source": [
    "- Atmosphere is almost completely transparent in the visible range, right at the peak of the solar spectrum\n",
    "- Atmosphere is very opaque in the UV\n",
    "- Opacity across the IR spectrum is highly variable!\n",
    "- Look at the gases associated with various absorption features:\n",
    "- Main players include H$_2$O, CO$_2$, N$_2$O, O$_2$.\n",
    "- Compare to major constituents of atmosphere, in decreasing order: \n",
    "    - 78% N$_2$\n",
    "    - 21% O$_2$\n",
    "    - 1% Ar\n",
    "    - H$_2$O (variable)"
   ]
  },
  {
   "cell_type": "markdown",
   "id": "47968047",
   "metadata": {
    "slideshow": {
     "slide_type": "slide"
    }
   },
   "source": [
    "- The dominant constituent gases N$_2$ and O$_2$ are nearly completely transparent across the entire spectrum (there are O$_2$ absorption features in far UV, but little energy at these wavelengths).\n",
    "- The greenhouse effect mostly involves trace constituents: \n",
    "    - O$_3$ = 500 ppb\n",
    "    - N$_2$O = 310 ppb\n",
    "    - CO$_2$ = 400 ppm (but rapidly increasing!)\n",
    "    - CH$_4$ = 1.7 ppm\n",
    "- Note that most of these are tri-atomic molecules! There are fundamental reasons for this: these molecules have modes of rotational and vibration that are easily excited at IR wavelengths. See courses in radiative transfer!"
   ]
  },
  {
   "cell_type": "markdown",
   "id": "8db3610c",
   "metadata": {
    "slideshow": {
     "slide_type": "skip"
    }
   },
   "source": [
    "____________\n",
    "\n",
    "## Credits\n",
    "\n",
    "This notebook is part of [The Climate Laboratory](https://brian-rose.github.io/ClimateLaboratoryBook), an open-source textbook developed and maintained by [Brian E. J. Rose](http://www.atmos.albany.edu/facstaff/brose/index.html), University at Albany.\n",
    "\n",
    "It is licensed for free and open consumption under the\n",
    "[Creative Commons Attribution 4.0 International (CC BY 4.0)](https://creativecommons.org/licenses/by/4.0/) license.\n",
    "\n",
    "Development of these notes and the [climlab software](https://github.com/brian-rose/climlab) is partially supported by the National Science Foundation under award AGS-1455071 to Brian Rose. Any opinions, findings, conclusions or recommendations expressed here are mine and do not necessarily reflect the views of the National Science Foundation.\n",
    "____________"
   ]
  },
  {
   "cell_type": "code",
   "execution_count": null,
   "id": "18b209c4",
   "metadata": {},
   "outputs": [],
   "source": []
  }
 ],
 "metadata": {
  "jupytext": {
   "text_representation": {
    "extension": ".md",
    "format_name": "myst",
    "format_version": 0.12,
    "jupytext_version": "1.9.1"
   }
  },
  "kernelspec": {
   "display_name": "Python 3",
   "language": "python",
   "name": "python3"
  },
  "source_map": [
   14,
   21,
   29,
   39,
   45,
   53,
   64,
   80,
   92,
   101,
   107,
   115,
   134,
   144,
   150,
   160,
   172,
   182,
   198,
   222,
   232,
   238,
   253,
   262,
   270,
   280,
   288,
   294,
   312,
   320,
   328,
   332,
   336,
   349,
   359,
   373
  ]
 },
 "nbformat": 4,
 "nbformat_minor": 5
}