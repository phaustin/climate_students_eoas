{
 "cells": [
  {
   "cell_type": "markdown",
   "id": "1db45b12",
   "metadata": {},
   "source": [
    "(nb:multi-layer)=\n",
    "# Radiative equilibrium\n",
    "\n",
    "This script calculates pure radiative equilbrium for an nlayer atmosphere over a black surface, where\n",
    "each layer has identical transmissivity and the total atmospheric"
   ]
  },
  {
   "cell_type": "code",
   "execution_count": null,
   "id": "ea4cbbe4",
   "metadata": {},
   "outputs": [],
   "source": [
    "import numpy as np\n",
    "from numpy.linalg import solve\n",
    "np.set_printoptions(precision=2, threshold=50)"
   ]
  },
  {
   "cell_type": "markdown",
   "id": "9c630d67",
   "metadata": {},
   "source": [
    "## Five layer atmosphere\n",
    "\n",
    "Let $A_n$ be the flux from layer n and $G$ be the flux from the black surface.  If upward fluxes are\n",
    "negative and downward fluxes are positive, the the flux at each of the six levels in this problem\n",
    "are shown in the sketch below, where $Tr = \\exp(-\\tau)$ is the longwave transmissivity of each layer."
   ]
  },
  {
   "cell_type": "markdown",
   "id": "c763c4d9",
   "metadata": {},
   "source": [
    "<img src=\"five_layer_sketch.jpg\" width=\"50%\" align=\"left\" >"
   ]
  },
  {
   "cell_type": "markdown",
   "id": "d80d009e",
   "metadata": {},
   "source": [
    "That produces a matrix $M$ which looks like this:"
   ]
  },
  {
   "cell_type": "markdown",
   "id": "d5cbef16",
   "metadata": {},
   "source": [
    "<img src=\"equil_fivelayer.jpg\" width=\"50%\" align=\"left\" >"
   ]
  },
  {
   "cell_type": "markdown",
   "id": "a25c5263",
   "metadata": {},
   "source": [
    "## Creating the matrix equation\n",
    "\n",
    "The idea is to solve the equilibrium problem as six equations in six unknowns,\n",
    "where the unknowns are \n",
    "\n",
    "$$\\vec{E} = \\left [A_4, A_3, A_2, A_1, A_0, G \\right ]$$\n",
    "\n",
    "and the at each level, we need to have an upward flux of\n",
    "$\\vec{S_0} = \\left [ -S_0, -S_0, -S_0, -S_0, -S_0 , -S_0 \\right ]$ to balance\n",
    "the downwelling shortwave flux at that level.\n",
    "\n",
    "$$\n",
    "M \\times \\vec{E} = \\vec{S_0}\n",
    "$$"
   ]
  },
  {
   "cell_type": "markdown",
   "id": "b2b13875",
   "metadata": {},
   "source": [
    "## five layer example\n",
    "\n",
    "The off-diagonal elements will be created with the numpy.diag function which\n",
    "requires a vector v of the proper length, and the number of the diagonal, $k$."
   ]
  },
  {
   "cell_type": "code",
   "execution_count": null,
   "id": "e812c2b6",
   "metadata": {},
   "outputs": [],
   "source": [
    "help(np.diag)"
   ]
  },
  {
   "cell_type": "markdown",
   "id": "0afa1ef0",
   "metadata": {},
   "source": [
    "* Here are the k values for the matrix"
   ]
  },
  {
   "cell_type": "code",
   "execution_count": null,
   "id": "64fea16a",
   "metadata": {},
   "outputs": [],
   "source": [
    "nlayers=5\n",
    "kvals = np.arange(nlayers,-(nlayers+1),-1,dtype=int)\n",
    "kvals"
   ]
  },
  {
   "cell_type": "markdown",
   "id": "6f5c36cc",
   "metadata": {},
   "source": [
    "* Set the total transmissivity to 0.2, and split it evenly among five layers"
   ]
  },
  {
   "cell_type": "code",
   "execution_count": null,
   "id": "c979ad09",
   "metadata": {},
   "outputs": [],
   "source": [
    "tot_trans=0.2\n",
    "log_layer_trans = np.log(tot_trans)/nlayers\n",
    "trans = np.exp(log_layer_trans)\n",
    "print(f\"{(trans**nlayers)=:5.3f}\")"
   ]
  },
  {
   "cell_type": "markdown",
   "id": "c0344229",
   "metadata": {},
   "source": [
    "* create all the off-diagonal elements of the matrix $M$."
   ]
  },
  {
   "cell_type": "code",
   "execution_count": null,
   "id": "b53fef06",
   "metadata": {},
   "outputs": [],
   "source": [
    "import pprint\n",
    "pp = pprint.PrettyPrinter(indent=4)\n",
    "\n",
    "def find_diaglen(kvals,nlayers):\n",
    "    nlevels=kvals[0] + 1\n",
    "    keep_len=[]\n",
    "    for the_k in kvals:\n",
    "        if the_k >=0:\n",
    "            diaglen = nlevels - the_k\n",
    "        else:\n",
    "            diaglen = nlevels+the_k\n",
    "        keep_len.append(diaglen)\n",
    "    return keep_len\n",
    "\n",
    "def find_element(kvals,diaglen,trans):\n",
    "    nlevels=kvals[0] + 1\n",
    "    element_dict={}\n",
    "    for the_k,the_len in zip(kvals,diaglen):\n",
    "        if the_k >= 0:\n",
    "            direction = -1\n",
    "            the_exp=the_k\n",
    "        else:\n",
    "            direction = 1\n",
    "            the_exp=-(the_k+1)\n",
    "        the_element=(trans**the_exp)*direction\n",
    "        element_dict[the_k] = {'element':the_element,\n",
    "                               'exponent':the_exp,'diaglen':the_len}\n",
    "    return element_dict\n",
    "            "
   ]
  },
  {
   "cell_type": "code",
   "execution_count": null,
   "id": "52281c59",
   "metadata": {},
   "outputs": [],
   "source": [
    "diaglen = find_diaglen(kvals,nlayers)\n",
    "element_dict=find_element(kvals,diaglen,trans)\n",
    "pp.pprint(element_dict)\n",
    "all_keys=list(element_dict.keys())\n",
    "print(all_keys[0])"
   ]
  },
  {
   "cell_type": "code",
   "execution_count": null,
   "id": "e95619f3",
   "metadata": {},
   "outputs": [],
   "source": [
    "def build_matrix(element_dict):\n",
    "    num_rows = list(element_dict.keys())[0] + 1\n",
    "    the_mat = np.zeros([num_rows,num_rows])\n",
    "    for the_k,the_dict in element_dict.items():\n",
    "        diaglen=the_dict['diaglen']\n",
    "        the_element=the_dict['element']\n",
    "        the_diag=np.full(shape=diaglen,fill_value=the_element)\n",
    "        diag_mat = np.diag(the_diag,k=the_k)\n",
    "        the_mat+=diag_mat\n",
    "    return the_mat"
   ]
  },
  {
   "cell_type": "code",
   "execution_count": null,
   "id": "b0f0d7c8",
   "metadata": {},
   "outputs": [],
   "source": [
    "A = build_matrix(element_dict)\n",
    "S0= -240\n",
    "rhs = np.full(shape=nlayers+1,fill_value=S0)\n",
    "fluxes = solve(A,rhs)\n",
    "A"
   ]
  },
  {
   "cell_type": "code",
   "execution_count": null,
   "id": "103aa82c",
   "metadata": {},
   "outputs": [],
   "source": [
    "fluxes"
   ]
  },
  {
   "cell_type": "code",
   "execution_count": null,
   "id": "79bf60b9",
   "metadata": {},
   "outputs": [],
   "source": [
    "def calc_temps(fluxes,trans,nlayers):\n",
    "    sigma = 5.67e-8\n",
    "    eps = 1 - trans\n",
    "    eps_vec=[trans]*nlayers\n",
    "    eps_vec.extend([1])\n",
    "    temps=[]\n",
    "    for a_flux, the_eps in zip(fluxes,eps_vec):\n",
    "        the_temp = (a_flux/(sigma*the_eps))**0.25\n",
    "        temps.append(the_temp)\n",
    "    return np.array(temps)"
   ]
  },
  {
   "cell_type": "code",
   "execution_count": null,
   "id": "5a578983",
   "metadata": {},
   "outputs": [],
   "source": [
    "calc_temps(fluxes,trans,nlayers)"
   ]
  }
 ],
 "metadata": {
  "jupytext": {
   "formats": "ipynb,md:myst",
   "text_representation": {
    "extension": ".md",
    "format_name": "myst",
    "format_version": 0.12,
    "jupytext_version": "1.6.0"
   }
  },
  "kernelspec": {
   "display_name": "Python 3",
   "language": "python",
   "name": "python3"
  },
  "source_map": [
   13,
   21,
   25,
   33,
   37,
   41,
   45,
   62,
   69,
   71,
   75,
   79,
   83,
   88,
   92,
   124,
   132,
   145,
   153,
   157,
   170
  ]
 },
 "nbformat": 4,
 "nbformat_minor": 5
}