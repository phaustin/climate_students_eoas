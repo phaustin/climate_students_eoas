{
 "cells": [
  {
   "cell_type": "markdown",
   "id": "342e45f4",
   "metadata": {},
   "source": [
    "(nb:sens)=\n",
    "# Climate sensitivity and feedback\n",
    "\n",
    "This notebook is part of [The Climate Laboratory](https://brian-rose.github.io/ClimateLaboratoryBook) by [Brian E. J. Rose](http://www.atmos.albany.edu/facstaff/brose/index.html), University at Albany."
   ]
  },
  {
   "cell_type": "markdown",
   "id": "d8269687",
   "metadata": {},
   "source": [
    "____________\n",
    "\n",
    "## 1. Radiative forcing\n",
    "____________\n",
    "\n",
    "### The concept\n",
    "\n",
    "We've seen the concept of Radiative Forcing before. It is the short-term change in the TOA energy budget when we add a forcing agent to the climate system, **before the surface has a chance to warm up**.\n",
    "\n",
    "The standard reference forcing is a **doubling of atmospheric CO$_2$**."
   ]
  },
  {
   "cell_type": "markdown",
   "id": "baf6f6b9",
   "metadata": {},
   "source": [
    "The **radiative forcing** is a number in W m$^{-2}$, defined so that it is **positive if the system is gaining energy**:\n",
    "\n",
    "$$ \\Delta R = \\left(\\text{ASR}_{2xCO2} - \\text{OLR}_{2xCO2}\\right) - \\left(\\text{ASR}_{ref} - \\text{OLR}_{ref}\\right)$$\n",
    "\n",
    "$\\Delta R$ is a measure of the rate at which energy begins to accumulate in the climate system after an abrupt increase in greenhouse gases, but *before any change in climate* (i.e. temperature)."
   ]
  },
  {
   "cell_type": "markdown",
   "id": "05ad0bff",
   "metadata": {},
   "source": [
    "### Setting up a single-column Radiative-Convective model"
   ]
  },
  {
   "cell_type": "markdown",
   "id": "d1307af2",
   "metadata": {},
   "source": [
    "Let's set up a single-column Radiative-Convective model and look carefully at what happens when we add extra CO$_2$ to the column."
   ]
  },
  {
   "cell_type": "code",
   "execution_count": null,
   "id": "c3a5b3d3",
   "metadata": {},
   "outputs": [],
   "source": [
    "%matplotlib inline\n",
    "import numpy as np\n",
    "import matplotlib.pyplot as plt\n",
    "import xarray as xr\n",
    "from metpy.plots import SkewT\n",
    "import climlab"
   ]
  },
  {
   "cell_type": "code",
   "execution_count": null,
   "id": "8080a1d2",
   "metadata": {},
   "outputs": [],
   "source": [
    "#  This code is used just to create the skew-T plot of global, annual mean air temperature\n",
    "ncep_url = \"http://www.esrl.noaa.gov/psd/thredds/dodsC/Datasets/ncep.reanalysis.derived/\"\n",
    "ncep_air = xr.open_dataset( ncep_url + \"pressure/air.mon.1981-2010.ltm.nc\", use_cftime=True)\n",
    "#  Take global, annual average \n",
    "coslat = np.cos(np.deg2rad(ncep_air.lat))\n",
    "weight = coslat / coslat.mean(dim='lat')\n",
    "Tglobal = (ncep_air.air * weight).mean(dim=('lat','lon','time'))\n",
    "\n",
    "#  Resuable function to plot the temperature data on a Skew-T chart\n",
    "def make_skewT():\n",
    "    fig = plt.figure(figsize=(9, 9))\n",
    "    skew = SkewT(fig, rotation=30)\n",
    "    skew.plot(Tglobal.level, Tglobal, color='black', linestyle='-', linewidth=2, label='Observations')\n",
    "    skew.ax.set_ylim(1050, 10)\n",
    "    skew.ax.set_xlim(-90, 45)\n",
    "    # Add the relevant special lines\n",
    "    skew.plot_dry_adiabats(linewidth=0.5)\n",
    "    skew.plot_moist_adiabats(linewidth=0.5)\n",
    "    #skew.plot_mixing_lines()\n",
    "    skew.ax.legend()\n",
    "    skew.ax.set_xlabel('Temperature (degC)', fontsize=14)\n",
    "    skew.ax.set_ylabel('Pressure (hPa)', fontsize=14)\n",
    "    return skew\n",
    "\n",
    "#  and a function to add extra profiles to this chart\n",
    "def add_profile(skew, model, linestyle='-', color=None):\n",
    "    line = skew.plot(model.lev, model.Tatm - climlab.constants.tempCtoK,\n",
    "             label=model.name, linewidth=2)[0]\n",
    "    skew.plot(1000, model.Ts - climlab.constants.tempCtoK, 'o', \n",
    "              markersize=8, color=line.get_color())\n",
    "    skew.ax.legend()\n",
    "\n",
    "# Get the water vapor data from CESM output\n",
    "cesm_data_path = \"http://thredds.atmos.albany.edu:8080/thredds/dodsC/CESMA/\"\n",
    "atm_control = xr.open_dataset(cesm_data_path + \"cpl_1850_f19/concatenated/cpl_1850_f19.cam.h0.nc\")\n",
    "# Take global, annual average of the specific humidity\n",
    "weight_factor = atm_control.gw / atm_control.gw.mean(dim='lat')\n",
    "Qglobal = (atm_control.Q * weight_factor).mean(dim=('lat','lon','time'))"
   ]
  },
  {
   "cell_type": "code",
   "execution_count": null,
   "id": "1745846a",
   "metadata": {},
   "outputs": [],
   "source": [
    "#  Make a model on same vertical domain as the GCM\n",
    "mystate = climlab.column_state(lev=Qglobal.lev, water_depth=2.5)\n",
    "#  Build the radiation model -- just like we already did\n",
    "rad = climlab.radiation.RRTMG(name='Radiation',\n",
    "                              state=mystate, \n",
    "                              specific_humidity=Qglobal.values,\n",
    "                              timestep = climlab.constants.seconds_per_day,\n",
    "                              albedo = 0.25,  # surface albedo, tuned to give reasonable ASR for reference cloud-free model\n",
    "                             )\n",
    "#  Now create the convection model\n",
    "conv = climlab.convection.ConvectiveAdjustment(name='Convection',\n",
    "                                               state=mystate,\n",
    "                                               adj_lapse_rate=6.5,\n",
    "                                               timestep=rad.timestep,\n",
    "                                              )\n",
    "#  Here is where we build the model by coupling together the two components\n",
    "rcm = climlab.couple([rad, conv], name='Radiative-Convective Model')"
   ]
  },
  {
   "cell_type": "code",
   "execution_count": null,
   "id": "be22c187",
   "metadata": {},
   "outputs": [],
   "source": [
    "print(rcm)"
   ]
  },
  {
   "cell_type": "markdown",
   "id": "cc77c97c",
   "metadata": {},
   "source": [
    "First let's take a look at the default CO$_2$ amount in our reference model:"
   ]
  },
  {
   "cell_type": "code",
   "execution_count": null,
   "id": "864e0a79",
   "metadata": {},
   "outputs": [],
   "source": [
    "rcm.subprocess['Radiation'].absorber_vmr['CO2']"
   ]
  },
  {
   "cell_type": "markdown",
   "id": "9a2cf5e2",
   "metadata": {},
   "source": [
    "That's 348 parts per million (ppm). Our atmosphere was at this level around the late 1980s."
   ]
  },
  {
   "cell_type": "markdown",
   "id": "3a9ddfd0",
   "metadata": {},
   "source": [
    "Before we can look at the effects of a CO2 perturbation we need to integrate our reference model out to equilibrium:"
   ]
  },
  {
   "cell_type": "code",
   "execution_count": null,
   "id": "7809e8b5",
   "metadata": {},
   "outputs": [],
   "source": [
    "rcm.integrate_years(5)"
   ]
  },
  {
   "cell_type": "markdown",
   "id": "18e62604",
   "metadata": {},
   "source": [
    "Are we close to energy balance?"
   ]
  },
  {
   "cell_type": "code",
   "execution_count": null,
   "id": "ae8db70c",
   "metadata": {},
   "outputs": [],
   "source": [
    "rcm.ASR - rcm.OLR"
   ]
  },
  {
   "cell_type": "markdown",
   "id": "9937c415",
   "metadata": {},
   "source": [
    "### A perturbed CO2 calculation in the RCM"
   ]
  },
  {
   "cell_type": "code",
   "execution_count": null,
   "id": "226d17e4",
   "metadata": {},
   "outputs": [],
   "source": [
    "# Make an exact clone with same temperatures\n",
    "rcm_2xCO2 = climlab.process_like(rcm)\n",
    "rcm_2xCO2.name = 'Radiative-Convective Model (2xCO2 initial)'"
   ]
  },
  {
   "cell_type": "code",
   "execution_count": null,
   "id": "57981063",
   "metadata": {},
   "outputs": [],
   "source": [
    "#  Check to see that we indeed have the same CO2 amount\n",
    "rcm_2xCO2.subprocess['Radiation'].absorber_vmr['CO2']"
   ]
  },
  {
   "cell_type": "code",
   "execution_count": null,
   "id": "ee2d1b35",
   "metadata": {},
   "outputs": [],
   "source": [
    "#  Now double it!\n",
    "rcm_2xCO2.subprocess['Radiation'].absorber_vmr['CO2'] *= 2"
   ]
  },
  {
   "cell_type": "code",
   "execution_count": null,
   "id": "dc303e99",
   "metadata": {},
   "outputs": [],
   "source": [
    "#  and verify\n",
    "rcm_2xCO2.subprocess['Radiation'].absorber_vmr['CO2']"
   ]
  },
  {
   "cell_type": "markdown",
   "id": "7fa2f735",
   "metadata": {},
   "source": [
    "### Calculate instantaneous radiative forcing"
   ]
  },
  {
   "cell_type": "markdown",
   "id": "c664736c",
   "metadata": {},
   "source": [
    "The simplest measure of radiative forcing is **the instantaneous change** in the energy budget **before the temperature have a chance to adjust**.\n",
    "\n",
    "To get this we need to call the `compute_diagnostics` method, but not any forward timestep."
   ]
  },
  {
   "cell_type": "code",
   "execution_count": null,
   "id": "7a49dce7",
   "metadata": {},
   "outputs": [],
   "source": [
    "rcm_2xCO2.compute_diagnostics()"
   ]
  },
  {
   "cell_type": "markdown",
   "id": "565811c8",
   "metadata": {},
   "source": [
    "Now take a look at the changes in the SW and LW budgets:"
   ]
  },
  {
   "cell_type": "code",
   "execution_count": null,
   "id": "54fe7efc",
   "metadata": {},
   "outputs": [],
   "source": [
    "rcm_2xCO2.ASR - rcm.ASR"
   ]
  },
  {
   "cell_type": "code",
   "execution_count": null,
   "id": "625e171b",
   "metadata": {},
   "outputs": [],
   "source": [
    "rcm_2xCO2.OLR - rcm.OLR"
   ]
  },
  {
   "cell_type": "markdown",
   "id": "7021168c",
   "metadata": {},
   "source": [
    "So what is instantaneous radiative forcing for the doubling of CO2?"
   ]
  },
  {
   "cell_type": "code",
   "execution_count": null,
   "id": "5b7fac3c",
   "metadata": {},
   "outputs": [],
   "source": [
    "DeltaR_instant = (rcm_2xCO2.ASR - rcm_2xCO2.OLR) - (rcm.ASR - rcm.OLR)\n",
    "DeltaR_instant"
   ]
  },
  {
   "cell_type": "markdown",
   "id": "ccbdd037",
   "metadata": {},
   "source": [
    "The radiative forcing for a doubling of CO2 in this model is 2.18 W m$^{-2}$."
   ]
  },
  {
   "cell_type": "markdown",
   "id": "0a62b7a5",
   "metadata": {},
   "source": [
    "As we can see above, almost all of the radiative forcing appears in the longwave. We have made the atmosphere **more optically thick** by adding CO$_2$.\n",
    "\n",
    "Think about this the same way we increased the absorptivity / emissivity parameter $\\epsilon$ in the simple grey-gas model."
   ]
  },
  {
   "cell_type": "markdown",
   "id": "42122c64",
   "metadata": {},
   "source": [
    "### Statosphere-adjusted radiative forcing"
   ]
  },
  {
   "cell_type": "markdown",
   "id": "c198d0b3",
   "metadata": {},
   "source": [
    "The point of measuring radiative forcing is that it should give us some information about how much global warming we should expect from a particular forcing agent.\n",
    "\n",
    "We will need to use our model to quantify the **eventual** temperature change associated with this forcing.\n",
    "\n",
    "It turns out, for reasons we won't get into here, that a more useful measure of the global warming impact of a forcing agent comes from thinking about **changes in radiative flux at the tropopause** rather than the Top of Atmosphere.\n",
    "\n",
    "The idea here is that we will **let the stratosphere adjust to the extra CO$_2$** while **holding the troposphere and surface temperatures fixed**."
   ]
  },
  {
   "cell_type": "markdown",
   "id": "3fb9f9c3",
   "metadata": {},
   "source": [
    "In this model levels 0 through 12 are in the statosphere; levels 13 and larger are in the troposphere:"
   ]
  },
  {
   "cell_type": "code",
   "execution_count": null,
   "id": "73165d05",
   "metadata": {},
   "outputs": [],
   "source": [
    "rcm.lev[13:]"
   ]
  },
  {
   "cell_type": "markdown",
   "id": "838f541b",
   "metadata": {},
   "source": [
    "So to compute stratosphere-adjusted forcing, we'll timestep the model, but continually reset the temperatures to their reference values below 226 hPa:"
   ]
  },
  {
   "cell_type": "code",
   "execution_count": null,
   "id": "ef93cd88",
   "metadata": {},
   "outputs": [],
   "source": [
    "rcm_2xCO2_strat = climlab.process_like(rcm_2xCO2)\n",
    "rcm_2xCO2_strat.name = 'Radiative-Convective Model (2xCO2 stratosphere-adjusted)'\n",
    "for n in range(1000):\n",
    "    rcm_2xCO2_strat.step_forward()\n",
    "    # hold tropospheric and surface temperatures fixed\n",
    "    rcm_2xCO2_strat.Tatm[13:] = rcm.Tatm[13:]\n",
    "    rcm_2xCO2_strat.Ts[:] = rcm.Ts[:]"
   ]
  },
  {
   "cell_type": "markdown",
   "id": "c4b2761d",
   "metadata": {},
   "source": [
    "Now we can compute the stratosphere-adjusted radiative forcing for the doubling of CO2:"
   ]
  },
  {
   "cell_type": "code",
   "execution_count": null,
   "id": "e8041080",
   "metadata": {},
   "outputs": [],
   "source": [
    "DeltaR = (rcm_2xCO2_strat.ASR - rcm_2xCO2_strat.OLR) - (rcm.ASR - rcm.OLR)\n",
    "DeltaR"
   ]
  },
  {
   "cell_type": "markdown",
   "id": "869cfc43",
   "metadata": {},
   "source": [
    "The result is about 4.3 W m$^{-2}$."
   ]
  },
  {
   "cell_type": "markdown",
   "id": "0dee158d",
   "metadata": {},
   "source": [
    "____________\n",
    "\n",
    "<a id='section2'></a>\n",
    "\n",
    "## 2. Equilibrium climate sensitivity (without feedback)\n",
    "____________\n",
    "\n",
    "We now ask the question: How much warming will we get (eventually) in response to this positive radiative forcing?"
   ]
  },
  {
   "cell_type": "markdown",
   "id": "0e4d6e51",
   "metadata": {},
   "source": [
    "### Definition\n",
    "\n",
    "We define the **Equilibrium Climate Sensitivity** (denoted **ECS** or $\\Delta T_{2xCO2}$):\n",
    "\n",
    "*The global mean surface warming necessary to balance the planetary energy budget after a doubling of atmospheric CO$_2$.*"
   ]
  },
  {
   "cell_type": "markdown",
   "id": "de2c73ae",
   "metadata": {},
   "source": [
    "### Climate change in the single-column RCM\n",
    "\n",
    "We can go ahead and calculate ECS in our single-column model:"
   ]
  },
  {
   "cell_type": "code",
   "execution_count": null,
   "id": "0a71c1a6",
   "metadata": {},
   "outputs": [],
   "source": [
    "rcm_2xCO2_eq = climlab.process_like(rcm_2xCO2_strat)\n",
    "rcm_2xCO2_eq.name = 'Radiative-Convective Model (2xCO2 equilibrium)'\n",
    "rcm_2xCO2_eq.integrate_years(5)"
   ]
  },
  {
   "cell_type": "code",
   "execution_count": null,
   "id": "18ded210",
   "metadata": {},
   "outputs": [],
   "source": [
    "# are we close to equilibrium?\n",
    "rcm_2xCO2_eq.ASR - rcm_2xCO2_eq.OLR"
   ]
  },
  {
   "cell_type": "markdown",
   "id": "a1be1b97",
   "metadata": {},
   "source": [
    "Let's follow what we have done before and plot the results on a nice Skew-T:"
   ]
  },
  {
   "cell_type": "code",
   "execution_count": null,
   "id": "64f4d140",
   "metadata": {},
   "outputs": [],
   "source": [
    "skew = make_skewT()\n",
    "add_profile(skew, rcm)\n",
    "add_profile(skew, rcm_2xCO2_strat)\n",
    "add_profile(skew, rcm_2xCO2_eq)"
   ]
  },
  {
   "cell_type": "markdown",
   "id": "cbb87cfa",
   "metadata": {},
   "source": [
    "What do you see here? What has changed?"
   ]
  },
  {
   "cell_type": "markdown",
   "id": "9c3d5e6e",
   "metadata": {},
   "source": [
    "### Calculate the ECS\n",
    "\n",
    "It is just the difference in surface temperature:"
   ]
  },
  {
   "cell_type": "code",
   "execution_count": null,
   "id": "b96b724b",
   "metadata": {},
   "outputs": [],
   "source": [
    "ECS_nofeedback = rcm_2xCO2_eq.Ts - rcm.Ts\n",
    "ECS_nofeedback"
   ]
  },
  {
   "cell_type": "markdown",
   "id": "b1c07fc1",
   "metadata": {},
   "source": [
    "Doubling CO$_2$ in this model causes about 1.3 K of warming at equilibrium."
   ]
  },
  {
   "cell_type": "markdown",
   "id": "43d17080",
   "metadata": {},
   "source": [
    "What about the energy budget? \n",
    "\n",
    "Remember that we have let the model warm up to its new equilibrium! \n",
    "\n",
    "If we look at the differences between the two equilibrium states (before and after doubling CO$_2$), we find only very small and offsetting changes in SW and LW:"
   ]
  },
  {
   "cell_type": "code",
   "execution_count": null,
   "id": "a6304173",
   "metadata": {},
   "outputs": [],
   "source": [
    "rcm_2xCO2_eq.OLR - rcm.OLR"
   ]
  },
  {
   "cell_type": "code",
   "execution_count": null,
   "id": "c68a80dd",
   "metadata": {},
   "outputs": [],
   "source": [
    "rcm_2xCO2_eq.ASR - rcm.ASR"
   ]
  },
  {
   "cell_type": "markdown",
   "id": "c1a90c3c",
   "metadata": {},
   "source": [
    "The 1.3 K sensitivity we've just calculated is the warming that we would have *if there were no other changes (feedbacks) in response to the CO$_2$ induced warming!*"
   ]
  },
  {
   "cell_type": "markdown",
   "id": "1b6f1016",
   "metadata": {},
   "source": [
    "### The no-feedback response"
   ]
  },
  {
   "cell_type": "markdown",
   "id": "78b8e597",
   "metadata": {},
   "source": [
    "We have just calculated an equilibrium warming $\\Delta T_0$ (in K) resulting from a radiative forcing $\\Delta R$ (in W m$^{-2}$) for a model without feedback.\n",
    "\n",
    "Let's define the **no-feedback climate response parameter** $\\lambda_0$ as\n",
    "\n",
    "$$ \\lambda_0 = \\frac{\\Delta R}{\\Delta T_0 } $$"
   ]
  },
  {
   "cell_type": "markdown",
   "id": "74f76289",
   "metadata": {},
   "source": [
    "With the numbers we came up with above,"
   ]
  },
  {
   "cell_type": "code",
   "execution_count": null,
   "id": "dbb6cd09",
   "metadata": {},
   "outputs": [],
   "source": [
    "lambda0 = DeltaR / ECS_nofeedback\n",
    "lambda0"
   ]
  },
  {
   "cell_type": "markdown",
   "id": "ff0b4555",
   "metadata": {},
   "source": [
    "The no-feedback climate response parameter is $\\lambda_0 = 3.3$ W m$^{-2}$ K$^{-1}$."
   ]
  },
  {
   "cell_type": "markdown",
   "id": "36b91b6c",
   "metadata": {},
   "source": [
    "What are some important processes that our model has neglected?"
   ]
  },
  {
   "cell_type": "markdown",
   "id": "1bf33e08",
   "metadata": {},
   "source": [
    "____________\n",
    "<a id='section3'></a>\n",
    "\n",
    "## 3. The feedback concept\n",
    "____________\n",
    "\n",
    "A concept borrowed from electrical engineering. You have all heard or used the term before, but we’ll try take a more precise approach today.\n",
    "\n",
    "A feedback occurs when a portion of the output from the action of a system is added to the input and subsequently alters the output:"
   ]
  },
  {
   "cell_type": "markdown",
   "id": "1d302496",
   "metadata": {},
   "source": [
    "<img src=\"http://www.atmos.albany.edu/facstaff/brose/classes/ENV415_Spring2018/images/feedback_sketch.png\" width=\"500\">"
   ]
  },
  {
   "cell_type": "markdown",
   "id": "bc071899",
   "metadata": {},
   "source": [
    "The result of a loop system can either be **amplification** or **dampening** of the process, depending on the sign of the gain in the loop, which we will denote $f$.\n",
    "\n",
    "We will call amplifying feedbacks **positive** ($f>0$) and damping feedbacks **negative** ($f<0$).\n",
    "\n",
    "We can think of the “process” here as the entire climate system, which contains many examples of both positive and negative feedback."
   ]
  },
  {
   "cell_type": "markdown",
   "id": "47788a17",
   "metadata": {},
   "source": [
    "### Example: the water vapor feedback\n",
    "\n",
    "The capacity of the atmosphere to hold water vapor (saturation specific humidity) increases exponentially with temperature. Warming is thus accompanied by moistening (more water vapor), which leads to more warming due to the enhanced water vapor greenhouse effect.\n",
    "\n",
    "**Positive or negative feedback?**"
   ]
  },
  {
   "cell_type": "markdown",
   "id": "d9e2f46a",
   "metadata": {},
   "source": [
    "### Example: the ice-albedo feedback\n",
    "\n",
    "Colder temperatures lead to expansion of the areas covered by ice and snow, which tend to be more reflective than water and vegetation. This causes a reduction in the absorbed solar radiation, which leads to more cooling. \n",
    "\n",
    "**Positive or negative feedback?**\n",
    "\n",
    "*Make sure it’s clear that the sign of the feedback is the same whether we are talking about warming or cooling.*"
   ]
  },
  {
   "cell_type": "markdown",
   "id": "f0f4d54f",
   "metadata": {},
   "source": [
    "_____________\n",
    "<a id='section4'></a>\n",
    "## 4. Climate feedback: some definitions\n",
    "____________\n",
    "\n",
    "We start with an initial radiative forcing , and get a response\n",
    "$$ \\Delta T_0 = \\frac{\\Delta R}{\\lambda_0} $$"
   ]
  },
  {
   "cell_type": "markdown",
   "id": "4b821732",
   "metadata": {},
   "source": [
    "Now consider what happens in the presence of a feedback process. For a concrete example, let’s take the **water vapor feedback**. For every degree of warming, there is an additional increase in the greenhouse effect, and thus additional energy added to the system.\n",
    "\n",
    "Let’s denote this extra energy as \n",
    "$$ f \\lambda_0 \\Delta T_0 $$\n",
    "\n",
    "where $f$ is the **feedback amount**, a number that represents what fraction of the output gets added back to the input. $f$ must be between $-\\infty$ and +1. \n",
    "\n",
    "For the example of the water vapor feedback, $f$ is positive (between 0 and +1) – the process adds extra energy to the original radiative forcing."
   ]
  },
  {
   "cell_type": "markdown",
   "id": "7dce2669",
   "metadata": {},
   "source": [
    "The amount of energy in the full \"input\" is now\n",
    "\n",
    "$$ \\Delta R + f \\lambda_0 \\Delta T_0 $$\n",
    "\n",
    "or\n",
    "\n",
    "$$ (1+f) \\lambda_0 \\Delta T_0 $$"
   ]
  },
  {
   "cell_type": "markdown",
   "id": "104e5ffb",
   "metadata": {},
   "source": [
    "But now we need to consider the next loop. A fraction $f$ of the additional energy is also added to the input, giving us\n",
    "\n",
    "$$ (1+f+f^2) \\lambda_0 \\Delta T_0 $$"
   ]
  },
  {
   "cell_type": "markdown",
   "id": "f2f63c0e",
   "metadata": {},
   "source": [
    "and we can go round and round, leading to the infinite series\n",
    "\n",
    "$$ (1+f+f^2+f^3+ ...) \\lambda_0 \\Delta T_0 = \\lambda_0 \\Delta T_0 \\sum_{n=0}^{\\infty} f^n $$\n",
    "\n",
    "Question: what happens if $f=1$?"
   ]
  },
  {
   "cell_type": "markdown",
   "id": "d17ab685",
   "metadata": {},
   "source": [
    "It so happens that this infinite series has an exact solution\n",
    "\n",
    "$$ \\sum_{n=0}^{\\infty} f^n = \\frac{1}{1-f} $$"
   ]
  },
  {
   "cell_type": "markdown",
   "id": "5fe0b298",
   "metadata": {},
   "source": [
    "So the full response including all the effects of the feedback is actually\n",
    "\n",
    "$$ \\Delta T = \\frac{1}{1-f} \\Delta T_0 $$"
   ]
  },
  {
   "cell_type": "markdown",
   "id": "775d97d3",
   "metadata": {},
   "source": [
    "This is also sometimes written as \n",
    "$$ \\Delta T = g \\Delta T_0 $$\n",
    "\n",
    "where \n",
    "\n",
    "$$ g = \\frac{1}{1-f} = \\frac{\\Delta T}{\\Delta T_0} $$\n",
    "\n",
    "is called the **system gain** -- the ratio of the actual warming (including all feedbacks) to the warming we would have in the absence of feedbacks."
   ]
  },
  {
   "cell_type": "markdown",
   "id": "b2a46f4a",
   "metadata": {},
   "source": [
    "So if the overall feedback is positive, then $f>0$ and $g>1$.\n",
    "\n",
    "And if the overall feedback is negative?"
   ]
  },
  {
   "cell_type": "markdown",
   "id": "4b7336d2",
   "metadata": {},
   "source": [
    "____________\n",
    "## 5. Water vapor feedback in the radiative-convective model\n",
    "____________"
   ]
  },
  {
   "cell_type": "markdown",
   "id": "2ad6fb4b",
   "metadata": {},
   "source": [
    "In nature, as in a complex GCM, water vapor tends to increase as the air temperature warms.\n",
    "\n",
    "The main reason for this is that **the saturation specific humidity** (i.e. how much water vapor the air can hold) **increases strongly with temperature**.\n",
    "\n",
    "We can **parameterize** this effect in the column model by insisting that the **relative humidity remain fixed** as the column warms."
   ]
  },
  {
   "cell_type": "code",
   "execution_count": null,
   "id": "264de30c",
   "metadata": {},
   "outputs": [],
   "source": [
    "#  actual specific humidity\n",
    "q = rcm.subprocess['Radiation'].specific_humidity\n",
    "#  saturation specific humidity (a function of temperature and pressure)\n",
    "qsat = climlab.utils.thermo.qsat(rcm.Tatm, rcm.lev)\n",
    "#  Relative humidity\n",
    "rh = q/qsat"
   ]
  },
  {
   "cell_type": "code",
   "execution_count": null,
   "id": "62b6efcf",
   "metadata": {},
   "outputs": [],
   "source": [
    "#  Plot relative humidity in percent\n",
    "fig,ax = plt.subplots()\n",
    "ax.plot(q*1000, rcm.lev, 'b-')\n",
    "ax.invert_yaxis()\n",
    "ax.grid()\n",
    "ax.set_ylabel('Pressure (hPa)')\n",
    "ax.set_xlabel('Specific humidity (g/kg)', color='b')\n",
    "ax.tick_params('x', colors='b')\n",
    "ax2 = ax.twiny()\n",
    "ax2.plot(rh*100., rcm.lev, 'r-')\n",
    "ax2.set_xlabel('Relative humidity (%)', color='r')\n",
    "ax2.tick_params('x', colors='r')"
   ]
  },
  {
   "cell_type": "markdown",
   "id": "75d57a8d",
   "metadata": {},
   "source": [
    "###  A radiative-convective model with fixed relative humidity"
   ]
  },
  {
   "cell_type": "code",
   "execution_count": null,
   "id": "45fd383d",
   "metadata": {},
   "outputs": [],
   "source": [
    "rcm_2xCO2_h2o = climlab.process_like(rcm_2xCO2)\n",
    "rcm_2xCO2_h2o.name = 'Radiative-Convective Model (2xCO2 equilibrium with H2O feedback)'"
   ]
  },
  {
   "cell_type": "code",
   "execution_count": null,
   "id": "2ab942a7",
   "metadata": {},
   "outputs": [],
   "source": [
    "for n in range(2000):\n",
    "    # At every timestep\n",
    "    # we calculate the new saturation specific humidity for the new temperature\n",
    "    #  and change the water vapor in the radiation model\n",
    "    #  so that relative humidity is always the same\n",
    "    qsat = climlab.utils.thermo.qsat(rcm_2xCO2_h2o.Tatm, rcm_2xCO2_h2o.lev)\n",
    "    rcm_2xCO2_h2o.subprocess['Radiation'].specific_humidity[:] = rh * qsat\n",
    "    rcm_2xCO2_h2o.step_forward()"
   ]
  },
  {
   "cell_type": "code",
   "execution_count": null,
   "id": "3848be21",
   "metadata": {},
   "outputs": [],
   "source": [
    "# Check for energy balance\n",
    "rcm_2xCO2_h2o.ASR - rcm_2xCO2_h2o.OLR"
   ]
  },
  {
   "cell_type": "code",
   "execution_count": null,
   "id": "c5104ad3",
   "metadata": {},
   "outputs": [],
   "source": [
    "skew = make_skewT()\n",
    "add_profile(skew, rcm)\n",
    "add_profile(skew, rcm_2xCO2_strat)\n",
    "add_profile(skew, rcm_2xCO2_eq)\n",
    "add_profile(skew, rcm_2xCO2_h2o)"
   ]
  },
  {
   "cell_type": "markdown",
   "id": "610e22f5",
   "metadata": {},
   "source": [
    "What is the Equilibrium Climate Sensitivity of this new model?"
   ]
  },
  {
   "cell_type": "code",
   "execution_count": null,
   "id": "cb19f075",
   "metadata": {},
   "outputs": [],
   "source": [
    "ECS = rcm_2xCO2_h2o.Ts - rcm.Ts\n",
    "ECS"
   ]
  },
  {
   "cell_type": "markdown",
   "id": "137817e8",
   "metadata": {},
   "source": [
    "With the water vapor feedback, doubling CO$_2$ causes 3 K of warming at equilibrium, rather than the no-feedback sensitivity of 1.3 K.\n",
    "\n",
    "A pretty big difference!"
   ]
  },
  {
   "cell_type": "markdown",
   "id": "6365cc7e",
   "metadata": {},
   "source": [
    "The system gain is the ratio"
   ]
  },
  {
   "cell_type": "code",
   "execution_count": null,
   "id": "251b400b",
   "metadata": {},
   "outputs": [],
   "source": [
    "g = ECS / ECS_nofeedback\n",
    "g"
   ]
  },
  {
   "cell_type": "markdown",
   "id": "c789b60d",
   "metadata": {},
   "source": [
    "So the moistening of the atmosphere more than doubles the global warming effect."
   ]
  },
  {
   "cell_type": "markdown",
   "id": "46e4caa4",
   "metadata": {},
   "source": [
    "____________\n",
    "<a id='section6'></a>\n",
    "## 6. Contribution of individual feedback processes to Equilibrium Climate Sensitivity\n",
    "____________\n",
    "\n",
    "### Adding up the effects of different feedbacks\n",
    "\n",
    "Now what if we have several individual feedback processes occurring simultaneously?\n",
    "\n",
    "We can think of individual feedback amounts $f_1, f_2, f_3, ...$, with each  representing a physically distinct mechanism, e.g. water vapor, surface snow and ice, cloud changes, lapse rate effects, etc."
   ]
  },
  {
   "cell_type": "markdown",
   "id": "0da63fd2",
   "metadata": {},
   "source": [
    "Each individual process takes a fraction $f_i$ of the output and adds to the input. So the feedback amounts are additive,\n",
    "\n",
    "$$ f = f_1 + f_2 + f_3 + ... = \\sum_{i=0}^N f_i $$"
   ]
  },
  {
   "cell_type": "markdown",
   "id": "1f0c3c1c",
   "metadata": {},
   "source": [
    "This gives us a way to compare the importance of individual feedback processes!\n",
    "\n",
    "The climate sensitivity is now\n",
    "\n",
    "$$ \\Delta T_{2xCO2} = \\frac{1}{1- \\sum_{i=0}^N f_i } \\Delta T_0 $$\n",
    "\n",
    "The climate sensitivity is thus **increased by positive feedback processes**, and **decreased by negative feedback processes**."
   ]
  },
  {
   "cell_type": "markdown",
   "id": "6f3fb040",
   "metadata": {},
   "source": [
    "### Climate feedback parameters\n",
    "\n",
    "We can also write this in terms of the original radiative forcing as\t\n",
    "\n",
    "$$ \\Delta T_{2xCO2} = \\frac{\\Delta R}{\\lambda_0 - \\sum_{i=1}^{N} \\lambda_i} $$\n",
    "\n",
    "where\n",
    "\n",
    "$$ \\lambda_i = \\lambda_0 f_i $$\n",
    "\n",
    "known as **climate feedback parameters**, in units of W m$^{-2}$ K$^{-1}$. \n",
    "\n",
    "With this choice of sign conventions, $\\lambda_i > 0$ for a positive feedback process."
   ]
  },
  {
   "cell_type": "markdown",
   "id": "bbe44df4",
   "metadata": {},
   "source": [
    "Individual feedback parameters $\\lambda_i$ are then additive, and can be compared to the no-feedback parameter $\\lambda_0$."
   ]
  },
  {
   "cell_type": "markdown",
   "id": "5edef884",
   "metadata": {},
   "source": [
    "We might decompose the net climate feedback into, for example\n",
    "\n",
    "- longwave and shortwave processes\n",
    "- cloud and non-cloud processes\n",
    "\n",
    "These individual feedback processes may be positive or negative. This is very powerful, because we can **measure the relative importance of different feedback processes** simply by comparing their $\\lambda_i$ values."
   ]
  },
  {
   "cell_type": "markdown",
   "id": "c5c69549",
   "metadata": {},
   "source": [
    "### Every climate model has a Planck feedback\n",
    "\n",
    "Our no-feedback response parameter $\\lambda_0$ is often called the **Planck feedback**.\n",
    "\n",
    "It is not really a feedback at all.  It is the most basic and universal climate process, and is present in every climate model. It is simply an expression of the fact that a warm planet radiates more to space than a cold planet.\n",
    "\n",
    "As we will see, our estimate of $\\lambda_0 = 3.3 ~\\text{W} ~\\text{m}^{-2} ~\\text{K}^{-1} $ is essentially the same as the Planck feedback diagnosed from complex GCMs. Most climate models (and the real climate system) have other radiative feedback processes, such that \n",
    "\n",
    "$$\\lambda = \\lambda_0 - \\sum_{i=1}^{N} \\lambda_i \\ne \\lambda_0 $$"
   ]
  },
  {
   "cell_type": "markdown",
   "id": "bee2b500",
   "metadata": {},
   "source": [
    "### Calculate the feedback parameters in our single-column model\n",
    "\n",
    "We can easily calculate the feedback parameter in our model with water vapor feedback.\n",
    "\n",
    "This is just the ratio of the radiative forcing $\\Delta R$ to the climate sensitivity:"
   ]
  },
  {
   "cell_type": "code",
   "execution_count": null,
   "id": "83aaaabd",
   "metadata": {},
   "outputs": [],
   "source": [
    "lambda_net = DeltaR / ECS\n",
    "lambda_net"
   ]
  },
  {
   "cell_type": "markdown",
   "id": "1420b375",
   "metadata": {},
   "source": [
    "The net feedback is $\\lambda = 1.43$ W m$^{-2}$ K$^{-1}$."
   ]
  },
  {
   "cell_type": "markdown",
   "id": "753c3b6a",
   "metadata": {},
   "source": [
    "Because of the additive nature of the feedbacks, this means that the individual contribution of the water vapor feedback is\n",
    "\n",
    "$$ \\lambda_{h2o} = \\lambda_0 - \\lambda $$"
   ]
  },
  {
   "cell_type": "code",
   "execution_count": null,
   "id": "585d8dc7",
   "metadata": {},
   "outputs": [],
   "source": [
    "lambda_h2o = lambda0 - lambda_net\n",
    "lambda_h2o"
   ]
  },
  {
   "cell_type": "markdown",
   "id": "13cd766a",
   "metadata": {},
   "source": [
    "So we measure a water vapor feedback of $\\lambda_{h2o} = 1.86$ W m$^{-2}$ K$^{-1}$.\n",
    "\n",
    "This is a **positive number** consistent with the **amplifying effect** of the water vapor feedback.\n",
    "\n",
    "The physical meaning of this number:\n",
    "\n",
    "**For every 1 degree of surface warming, the increased water vapor greenhouse effect provides an additional 1.86 W m$^{-2}$ of radiative forcing.**"
   ]
  },
  {
   "cell_type": "markdown",
   "id": "7c7b965b",
   "metadata": {},
   "source": [
    "____________\n",
    "<a id='section7'></a>\n",
    "## 7. Feedbacks diagnosed from complex climate models\n",
    "____________\n",
    "\n",
    "### Data from the IPCC AR5\n",
    "\n",
    "This figure is reproduced from the IPCC AR5 report. It shows the feedbacks diagnosed from the various models that contributed to the assessment.\n",
    "\n",
    "(Later in the term we will discuss how the feedback diagnosis is actually done)\n",
    "\n",
    "See below for complete citation information."
   ]
  },
  {
   "cell_type": "markdown",
   "id": "39f2acb6",
   "metadata": {},
   "source": [
    "<img src=\"./ar6_feedbacks.png\" width=\"110%\">"
   ]
  },
  {
   "cell_type": "markdown",
   "id": "4164f28c",
   "metadata": {},
   "source": [
    "**See Roe for 2013 figure. Figure 9.43** | (a) Strengths of individual feedbacks for CMIP3 and CMIP5 models (left and right columns of symbols) for Planck (P), water vapour (WV), clouds (C), albedo (A), lapse rate (LR), combination of water vapour and lapse rate (WV+LR) and sum of all feedbacks except Planck (ALL), from Soden and Held (2006) and Vial et al. (2013), following Soden et al. (2008). CMIP5 feedbacks are derived from CMIP5 simulations for abrupt fourfold increases in CO2 concentrations (4 × CO2). (b) ECS obtained using regression techniques by Andrews et al. (2012) against ECS estimated from the ratio of CO2 ERF to the sum of all feedbacks. The CO2 ERF is one-half the 4 × CO2 forcings from Andrews et al. (2012), and the total feedback (ALL + Planck) is from Vial et al. (2013).\n",
    "\n",
    "*Figure caption reproduced from the AR5 WG1 report*"
   ]
  },
  {
   "cell_type": "markdown",
   "id": "15dc4c24",
   "metadata": {},
   "source": [
    "Legend:\n",
    "\n",
    "- P: Planck feedback\n",
    "- WV: Water vapor feedback\n",
    "- LR: Lapse rate feedback\n",
    "- WV+LR: combined water vapor plus lapse rate feedback\n",
    "- C: cloud feedback\n",
    "- A: surface albedo feedback\n",
    "- ALL: sum of all feedback except Plank, i.e. ALL = WV+LR+C+A"
   ]
  },
  {
   "cell_type": "markdown",
   "id": "cdde3d11",
   "metadata": {},
   "source": [
    "Things to note:\n",
    "\n",
    "- The models all agree strongly on the Planck feedback. \n",
    "- The Planck feedback is about $-3.3 ~\\text{W} ~\\text{m}^{-2} ~\\text{K}^{-1} $ just like our above estimate of $\\lambda_0$ (but with opposite sign convention -- watch carefully for that in the literature)\n",
    "- The water vapor feedback is strongly positive in every model.\n",
    "- The lapse rate feedback is something we will study later. It is slightly negative.\n",
    "- For reasons we will discuss later, the best way to measure the water vapor feedback is to combine it with lapse rate feedback.\n",
    "- Models agree strongly on the combined water vapor plus lapse rate feedback."
   ]
  },
  {
   "cell_type": "markdown",
   "id": "bfbb9275",
   "metadata": {},
   "source": [
    "- The albedo feedback is slightly positive but rather small globally.\n",
    "- By far the largest spread across the models occurs in the cloud feedback.\n",
    "- Global cloud feedback ranges from slighly negative to strongly positive across the models.\n",
    "- Most of the spread in the total feedback is due to the spread in the cloud feedback.\n",
    "- Therefore, most of the spread in the ECS across the models is due to the spread in the cloud feedback."
   ]
  },
  {
   "cell_type": "markdown",
   "id": "e27c6d8b",
   "metadata": {},
   "source": [
    "Look back at the feedback parameters we calculated in our single-column model. How do they compare to the data in this figure?"
   ]
  },
  {
   "cell_type": "markdown",
   "id": "7380bf0c",
   "metadata": {
    "slideshow": {
     "slide_type": "skip"
    }
   },
   "source": [
    "____________\n",
    "\n",
    "## Credits\n",
    "\n",
    "This notebook is part of [The Climate Laboratory](https://brian-rose.github.io/ClimateLaboratoryBook), an open-source textbook developed and maintained by [Brian E. J. Rose](http://www.atmos.albany.edu/facstaff/brose/index.html), University at Albany.\n",
    "\n",
    "It is licensed for free and open consumption under the\n",
    "[Creative Commons Attribution 4.0 International (CC BY 4.0)](https://creativecommons.org/licenses/by/4.0/) license.\n",
    "\n",
    "Development of these notes and the [climlab software](https://github.com/brian-rose/climlab) is partially supported by the National Science Foundation under award AGS-1455071 to Brian Rose. Any opinions, findings, conclusions or recommendations expressed here are mine and do not necessarily reflect the views of the National Science Foundation.\n",
    "____________"
   ]
  },
  {
   "cell_type": "code",
   "execution_count": null,
   "id": "fecc4c30",
   "metadata": {},
   "outputs": [],
   "source": []
  }
 ],
 "metadata": {
  "jupytext": {
   "text_representation": {
    "extension": ".md",
    "format_name": "myst",
    "format_version": 0.12,
    "jupytext_version": "1.6.0"
   }
  },
  "kernelspec": {
   "display_name": "Python 3",
   "language": "python",
   "name": "python3"
  },
  "source_map": [
   12,
   18,
   31,
   39,
   43,
   47,
   56,
   97,
   117,
   119,
   123,
   125,
   129,
   133,
   135,
   139,
   141,
   145,
   151,
   156,
   161,
   164,
   168,
   174,
   176,
   180,
   184,
   186,
   190,
   193,
   197,
   203,
   207,
   217,
   221,
   223,
   227,
   235,
   239,
   242,
   246,
   257,
   265,
   271,
   277,
   280,
   284,
   289,
   293,
   299,
   302,
   306,
   314,
   318,
   320,
   324,
   328,
   336,
   340,
   343,
   347,
   351,
   363,
   367,
   375,
   383,
   393,
   403,
   414,
   424,
   430,
   438,
   444,
   450,
   461,
   467,
   473,
   481,
   490,
   503,
   507,
   512,
   523,
   528,
   534,
   538,
   541,
   547,
   551,
   554,
   558,
   571,
   577,
   587,
   603,
   607,
   616,
   628,
   636,
   639,
   643,
   649,
   652,
   662,
   677,
   682,
   688,
   700,
   711,
   719,
   723,
   737
  ]
 },
 "nbformat": 4,
 "nbformat_minor": 5
}