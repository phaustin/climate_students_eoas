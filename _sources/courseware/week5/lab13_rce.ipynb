{
 "cells": [
  {
   "cell_type": "markdown",
   "id": "844ee7b4",
   "metadata": {
    "slideshow": {
     "slide_type": "slide"
    }
   },
   "source": [
    "(nb:rce)=\n",
    "# Radiative-Convective Equilibrium\n",
    "\n",
    "This notebook is part of [The Climate Laboratory](https://brian-rose.github.io/ClimateLaboratoryBook) by [Brian E. J. Rose](http://www.atmos.albany.edu/facstaff/brose/index.html), University at Albany."
   ]
  },
  {
   "cell_type": "markdown",
   "id": "1531e924",
   "metadata": {},
   "source": [
    "____________\n",
    "\n",
    "## 1. Recap of radiative equilibrium results\n",
    "____________\n",
    "\n",
    "Here we summarize results we generated in the [Lecture on radiative equilibrium](https://brian-rose.github.io/ClimateLaboratoryBook/courseware/radeq.html).\n",
    "\n",
    "*For Python details, click to expand the code*"
   ]
  },
  {
   "cell_type": "code",
   "execution_count": null,
   "id": "12b74a26",
   "metadata": {
    "tags": [
     "hide_input"
    ]
   },
   "outputs": [],
   "source": [
    "%matplotlib inline\n",
    "import numpy as np\n",
    "import matplotlib.pyplot as plt\n",
    "import xarray as xr\n",
    "from metpy.plots import SkewT\n",
    "#  This code is used just to create the skew-T plot of global, annual mean air temperature\n",
    "ncep_url = \"http://www.esrl.noaa.gov/psd/thredds/dodsC/Datasets/ncep.reanalysis.derived/\"\n",
    "ncep_air = xr.open_dataset( ncep_url + \"pressure/air.mon.1981-2010.ltm.nc\", use_cftime=True)\n",
    "#  Take global, annual average \n",
    "coslat = np.cos(np.deg2rad(ncep_air.lat))\n",
    "weight = coslat / coslat.mean(dim='lat')\n",
    "Tglobal = (ncep_air.air * weight).mean(dim=('lat','lon','time'))\n",
    "#  Resuable function to plot the temperature data on a Skew-T chart\n",
    "def make_skewT():\n",
    "    fig = plt.figure(figsize=(9, 9))\n",
    "    skew = SkewT(fig, rotation=30)\n",
    "    skew.plot(Tglobal.level, Tglobal, color='black', linestyle='-', linewidth=2, label='Observations')\n",
    "    skew.ax.set_ylim(1050, 10)\n",
    "    skew.ax.set_xlim(-90, 45)\n",
    "    # Add the relevant special lines\n",
    "    skew.plot_dry_adiabats(linewidth=0.5)\n",
    "    skew.plot_moist_adiabats(linewidth=0.5)\n",
    "    #skew.plot_mixing_lines()\n",
    "    skew.ax.legend()\n",
    "    skew.ax.set_xlabel('Temperature (degC)', fontsize=14)\n",
    "    skew.ax.set_ylabel('Pressure (hPa)', fontsize=14)\n",
    "    return skew\n",
    "#  and a function to add extra profiles to this chart\n",
    "def add_profile(skew, model, linestyle='-', color=None):\n",
    "    line = skew.plot(model.lev, model.Tatm - climlab.constants.tempCtoK,\n",
    "             label=model.name, linewidth=2)[0]\n",
    "    skew.plot(1000, model.Ts - climlab.constants.tempCtoK, 'o', \n",
    "              markersize=8, color=line.get_color())\n",
    "    skew.ax.legend()\n",
    "\n",
    "# Get the water vapor data from CESM output\n",
    "cesm_data_path = \"http://thredds.atmos.albany.edu:8080/thredds/dodsC/CESMA/\"\n",
    "atm_control = xr.open_dataset(cesm_data_path + \"cpl_1850_f19/concatenated/cpl_1850_f19.cam.h0.nc\")\n",
    "# Take global, annual average of the specific humidity\n",
    "weight_factor = atm_control.gw / atm_control.gw.mean(dim='lat')\n",
    "Qglobal = (atm_control.Q * weight_factor).mean(dim=('lat','lon','time'))\n",
    "#  Create the single-column model domain\n",
    "import climlab\n",
    "#  Make a model on same vertical domain as the GCM\n",
    "mystate = climlab.column_state(lev=Qglobal.lev, water_depth=2.5)\n",
    "#  Create the model itself -- radiation only!\n",
    "rad = climlab.radiation.RRTMG(name='Radiation (all gases)',  # give our model a name!\n",
    "                              state=mystate,   # give our model an initial condition!\n",
    "                              specific_humidity=Qglobal.values,  # tell the model how much water vapor there is\n",
    "                              albedo = 0.25,  # this the SURFACE shortwave albedo\n",
    "                              timestep = climlab.constants.seconds_per_day,  # set the timestep to one day (measured in seconds)\n",
    "                             )\n",
    "\n",
    "#  remove ozone\n",
    "rad_noO3 = climlab.process_like(rad)\n",
    "rad_noO3.absorber_vmr['O3'] *= 0.\n",
    "rad_noO3.name = 'no O3'\n",
    "#  remove water vapor\n",
    "rad_noH2O = climlab.process_like(rad)\n",
    "rad_noH2O.specific_humidity *= 0.\n",
    "rad_noH2O.name = 'no H2O'\n",
    "#  remove both\n",
    "rad_noO3_noH2O = climlab.process_like(rad_noO3)\n",
    "rad_noO3_noH2O.specific_humidity *= 0.\n",
    "rad_noO3_noH2O.name = 'no O3, no H2O'\n",
    "#  put all models together in a list\n",
    "rad_models = [rad, rad_noO3, rad_noH2O, rad_noO3_noH2O]\n",
    "\n",
    "#  Loop through the models and integrate each one out to equilibrium\n",
    "for model in rad_models:\n",
    "    for n in range(100):\n",
    "        model.step_forward()\n",
    "    while (np.abs(model.ASR-model.OLR)>0.01):\n",
    "        model.step_forward()\n",
    "        \n",
    "# Plot all the results\n",
    "skew = make_skewT()\n",
    "for model in rad_models:\n",
    "    add_profile(skew, model)\n",
    "skew.ax.set_title('Pure radiative equilibrium', fontsize=18);"
   ]
  },
  {
   "cell_type": "markdown",
   "id": "3db62a79",
   "metadata": {},
   "source": [
    "As we have already discussed, none of these profiles really looks anything like the observations in the troposphere. This strongly suggests that **other physical processes** (aside from radiation) are important in determining the observed temperature profile.\n",
    "\n",
    "Plotting on the skew-T diagram makes it clear that **all the radiative equilibrium profiles are statically unstable near the surface**.\n",
    "\n",
    "So we're now going to **add a representation of the effects of convective mixing** to the single-column model."
   ]
  },
  {
   "cell_type": "markdown",
   "id": "669f7e04",
   "metadata": {},
   "source": [
    "____________\n",
    "\n",
    "## 2. Building a radiative-convection model in climlab\n",
    "____________"
   ]
  },
  {
   "cell_type": "markdown",
   "id": "ce2fe488",
   "metadata": {},
   "source": [
    "To make a **Radiative-Convective model**, we just take a **radiation** model and couple it to a **convection** model!\n",
    "\n",
    "The \"convection\" model we're going to use here is available as\n",
    "\n",
    "```\n",
    "climlab.convection.ConvectiveAdjustment\n",
    "```\n",
    "\n",
    "It is a simple process that looks for **lapse rates exceeding a critical threshold** and performs an **instantaneous adjustment** that mixes temperatures to the critical lapse rate while conserving energy.\n",
    "\n",
    "This is a **parameterization** of the complex, rapid mixing processes that actually occur in an unstable air column!"
   ]
  },
  {
   "cell_type": "markdown",
   "id": "e961f60c",
   "metadata": {},
   "source": [
    "Here is some code to put this model together in `climlab`:"
   ]
  },
  {
   "cell_type": "code",
   "execution_count": null,
   "id": "71d15b59",
   "metadata": {},
   "outputs": [],
   "source": [
    "#  Make a model on same vertical domain as the GCM\n",
    "mystate = climlab.column_state(lev=Qglobal.lev, water_depth=2.5)\n",
    "#  Build the radiation model -- just like we already did\n",
    "rad = climlab.radiation.RRTMG(name='Radiation (net)',\n",
    "                              state=mystate, \n",
    "                              specific_humidity=Qglobal.values,\n",
    "                              timestep = climlab.constants.seconds_per_day,\n",
    "                              albedo = 0.25,  # surface albedo, tuned to give reasonable ASR for reference cloud-free model\n",
    "                             )\n",
    "#  Now create the convection model\n",
    "conv = climlab.convection.ConvectiveAdjustment(name='Convection',\n",
    "                                               state=mystate,\n",
    "                                               adj_lapse_rate=6.5, # this is the key parameter! We'll discuss below\n",
    "                                               timestep=rad.timestep,  # same timestep!\n",
    "                                              )\n",
    "#  Here is where we build the model by coupling together the two components\n",
    "rcm = climlab.couple([rad, conv], name='Radiative-Convective Model')"
   ]
  },
  {
   "cell_type": "code",
   "execution_count": null,
   "id": "09e771a4",
   "metadata": {},
   "outputs": [],
   "source": [
    "print(rcm)"
   ]
  },
  {
   "cell_type": "markdown",
   "id": "f20ab7e7",
   "metadata": {},
   "source": [
    "____________\n",
    "\n",
    "## 3. Adjustment toward radiative-convective equilibrium\n",
    "____________"
   ]
  },
  {
   "cell_type": "markdown",
   "id": "1e312646",
   "metadata": {},
   "source": [
    "### Adjustment from isothermal initial conditions\n",
    "\n",
    "To get some insight into the interaction between radiation and convection, it's useful to look at the adjustment process from a non-equilibrium initial condition.\n",
    "\n",
    "**Let's make an animation!**\n",
    "\n",
    "*The code below is complicated but it is mostly for generating the animation. Focus on the results, not the code here.*"
   ]
  },
  {
   "cell_type": "code",
   "execution_count": null,
   "id": "3fc2e00b",
   "metadata": {
    "tags": [
     "hide_input"
    ]
   },
   "outputs": [],
   "source": [
    "#  Some imports needed to make and display animations\n",
    "from IPython.display import HTML\n",
    "from matplotlib import animation\n",
    "\n",
    "def get_tendencies(model):\n",
    "    '''Pack all the subprocess tendencies into xarray.Datasets\n",
    "    and convert to units of K / day'''\n",
    "    tendencies_atm = xr.Dataset()\n",
    "    tendencies_sfc = xr.Dataset()\n",
    "    for name, proc, top_proc in climlab.utils.walk.walk_processes(model, topname='Total', topdown=False):\n",
    "        tendencies_atm[name] = proc.tendencies['Tatm'].to_xarray()\n",
    "        tendencies_sfc[name] = proc.tendencies['Ts'].to_xarray()\n",
    "    for tend in [tendencies_atm, tendencies_sfc]:\n",
    "        #  convert to K / day\n",
    "        tend *= climlab.constants.seconds_per_day\n",
    "    return tendencies_atm, tendencies_sfc\n",
    "\n",
    "def initial_figure(model):\n",
    "    fig = plt.figure(figsize=(14,6))\n",
    "    lines = []\n",
    "    \n",
    "    skew = SkewT(fig, subplot=(1,2,1), rotation=30)\n",
    "    #  plot the observations\n",
    "    skew.plot(Tglobal.level, Tglobal, color='black', linestyle='-', linewidth=2, label='Observations')    \n",
    "    lines.append(skew.plot(model.lev, model.Tatm - climlab.constants.tempCtoK, \n",
    "              linestyle='-', linewidth=2, color='C0', label='RC model (all gases)')[0])\n",
    "    skew.ax.legend()\n",
    "    skew.ax.set_ylim(1050, 10)\n",
    "    skew.ax.set_xlim(-60, 75)\n",
    "    # Add the relevant special lines\n",
    "    skew.plot_dry_adiabats(linewidth=0.5)\n",
    "    skew.plot_moist_adiabats(linewidth=0.5)\n",
    "    skew.ax.set_xlabel('Temperature ($^\\circ$C)', fontsize=14)\n",
    "    skew.ax.set_ylabel('Pressure (hPa)', fontsize=14)\n",
    "    lines.append(skew.plot(1000, model.Ts - climlab.constants.tempCtoK, 'o', \n",
    "                  markersize=8, color='C0', )[0])\n",
    "\n",
    "    ax = fig.add_subplot(1,2,2, sharey=skew.ax)\n",
    "    ax.set_ylim(1050, 10)\n",
    "    ax.set_xlim(-8,8)\n",
    "    ax.grid()\n",
    "    ax.set_xlabel('Temperature tendency ($^\\circ$C day$^{-1}$)', fontsize=14)\n",
    "\n",
    "    color_cycle=['g','b','r','y','k']\n",
    "    #color_cycle=['y', 'r', 'b', 'g', 'k']\n",
    "    tendencies_atm, tendencies_sfc = get_tendencies(rcm)\n",
    "    for i, name in enumerate(tendencies_atm.data_vars):\n",
    "        lines.append(ax.plot(tendencies_atm[name], model.lev, label=name, color=color_cycle[i])[0])\n",
    "    for i, name in enumerate(tendencies_sfc.data_vars):\n",
    "        lines.append(ax.plot(tendencies_sfc[name], 1000, 'o', markersize=8, color=color_cycle[i])[0])\n",
    "    ax.legend(loc='center right');\n",
    "    lines.append(skew.ax.text(-100, 50, 'Day {}'.format(int(model.time['days_elapsed'])), fontsize=12)) \n",
    "    return fig, lines\n",
    "\n",
    "def animate(day, model, lines):\n",
    "    lines[0].set_xdata(np.array(model.Tatm)-climlab.constants.tempCtoK)\n",
    "    lines[1].set_xdata(np.array(model.Ts)-climlab.constants.tempCtoK)\n",
    "    #lines[2].set_xdata(np.array(model.q)*1E3)\n",
    "    tendencies_atm, tendencies_sfc = get_tendencies(model)\n",
    "    for i, name in enumerate(tendencies_atm.data_vars):\n",
    "        lines[2+i].set_xdata(tendencies_atm[name])\n",
    "    for i, name in enumerate(tendencies_sfc.data_vars):\n",
    "        lines[2+5+i].set_xdata(tendencies_sfc[name])\n",
    "    lines[-1].set_text('Day {}'.format(int(model.time['days_elapsed'])))\n",
    "    # This is kind of a hack, but without it the initial frame doesn't appear\n",
    "    if day != 0:\n",
    "        model.step_forward()\n",
    "    return lines"
   ]
  },
  {
   "cell_type": "markdown",
   "id": "e9f71811",
   "metadata": {},
   "source": [
    "We are going to start from an **isothermal** initial state, and let the model drift toward equilibrium."
   ]
  },
  {
   "cell_type": "code",
   "execution_count": null,
   "id": "6a4e83c3",
   "metadata": {},
   "outputs": [],
   "source": [
    "#  Start from isothermal state\n",
    "rcm.state.Tatm[:] = rcm.state.Ts\n",
    "#  Call the diagnostics once for initial plotting\n",
    "rcm.compute_diagnostics()\n",
    "#  Plot initial data\n",
    "fig, lines = initial_figure(rcm)"
   ]
  },
  {
   "cell_type": "markdown",
   "id": "aa967163",
   "metadata": {},
   "source": [
    "Notice several things here:\n",
    "\n",
    "- The initial profile is isothermal at 15ºC. This is an arbitrary choice we made.\n",
    "- The initial tendency from **convection** is zero everywhere. Why?\n",
    "- Shortwave radiation tends to **warm everywhere**. Why?\n",
    "- Longwave radiation tends to **cool everywhere**. The cooling is very strong especially aloft. Why?\n",
    "- The total tendency (black) is warming at the surface and cooling in the atmosphere. What should happen next? What are the implications for convective instability?"
   ]
  },
  {
   "cell_type": "markdown",
   "id": "cca3a763",
   "metadata": {},
   "source": [
    "Now let's look at how the model actually adjusts:"
   ]
  },
  {
   "cell_type": "code",
   "execution_count": null,
   "id": "f78d01bb",
   "metadata": {},
   "outputs": [],
   "source": [
    "#  This is where we make a loop over many timesteps and create an animation in the notebook\n",
    "ani = animation.FuncAnimation(fig, animate, 150, fargs=(rcm, lines))\n",
    "HTML(ani.to_html5_video())"
   ]
  },
  {
   "cell_type": "markdown",
   "id": "22614624",
   "metadata": {},
   "source": [
    "Discuss."
   ]
  },
  {
   "cell_type": "markdown",
   "id": "ea41765d",
   "metadata": {},
   "source": [
    "### What if instead we start out from pure Radiative equilibrium?\n",
    "\n",
    "This will represent the effect of a sudden \"switching on\" of convective processes."
   ]
  },
  {
   "cell_type": "code",
   "execution_count": null,
   "id": "ac88b33e",
   "metadata": {},
   "outputs": [],
   "source": [
    "#  Here we take JUST THE RADIATION COMPONENT of the full model and run it out to (near) equilibrium\n",
    "#  This is just to get the initial condition for our animation\n",
    "for n in range(1000):\n",
    "    rcm.subprocess['Radiation (net)'].step_forward()"
   ]
  },
  {
   "cell_type": "code",
   "execution_count": null,
   "id": "b5efc91d",
   "metadata": {},
   "outputs": [],
   "source": [
    "#  Call the diagnostics once for initial plotting\n",
    "rcm.compute_diagnostics()\n",
    "#  Plot initial data\n",
    "fig, lines = initial_figure(rcm)"
   ]
  },
  {
   "cell_type": "code",
   "execution_count": null,
   "id": "8d66debc",
   "metadata": {},
   "outputs": [],
   "source": [
    "#  This is where we make a loop over many timesteps and create an animation in the notebook\n",
    "ani = animation.FuncAnimation(fig, animate, 100, fargs=(rcm, lines))\n",
    "HTML(ani.to_html5_video())"
   ]
  },
  {
   "cell_type": "markdown",
   "id": "e994f252",
   "metadata": {},
   "source": [
    "This animation is not as exciting because the **instability is destroyed immediately** in the first timestep!\n",
    "\n",
    "That is because the `ConvectiveAdjustment` process operates instantaneously whenever there is any instability. It is a parameterization taking advantage of the fact that, in nature, **convection processes are fast compared to radiative processes**.\n",
    "\n",
    "But notice that the final state is pretty much the same as in the first animation.\n",
    "\n",
    "**The column tends toward the same equilibrium state regardless of where it starts.**"
   ]
  },
  {
   "cell_type": "markdown",
   "id": "aa74da00",
   "metadata": {},
   "source": [
    "____________\n",
    "\n",
    "## 4. Compare Radiative- and Radiative-Convective Equilibrium\n",
    "____________"
   ]
  },
  {
   "cell_type": "markdown",
   "id": "9202a287",
   "metadata": {},
   "source": [
    "Let's repeat our experiment with removing certain absorbing gases from the model, but use the Radiative-Convective model."
   ]
  },
  {
   "cell_type": "code",
   "execution_count": null,
   "id": "4a6e2f16",
   "metadata": {
    "tags": [
     "hide_input"
    ]
   },
   "outputs": [],
   "source": [
    "#  Make a model on same vertical domain as the GCM\n",
    "mystate = climlab.column_state(lev=Qglobal.lev, water_depth=2.5)\n",
    "\n",
    "rad = climlab.radiation.RRTMG(name='all gases',\n",
    "                              state=mystate, \n",
    "                              specific_humidity=Qglobal.values,\n",
    "                              timestep = climlab.constants.seconds_per_day,\n",
    "                              albedo = 0.25,  # tuned to give reasonable ASR for reference cloud-free model\n",
    "                             )\n",
    "#  remove ozone\n",
    "rad_noO3 = climlab.process_like(rad)\n",
    "rad_noO3.absorber_vmr['O3'] *= 0.\n",
    "rad_noO3.name = 'no O3'\n",
    "#  remove water vapor\n",
    "rad_noH2O = climlab.process_like(rad)\n",
    "rad_noH2O.specific_humidity *= 0.\n",
    "rad_noH2O.name = 'no H2O'\n",
    "#  remove both\n",
    "rad_noO3_noH2O = climlab.process_like(rad_noO3)\n",
    "rad_noO3_noH2O.specific_humidity *= 0.\n",
    "rad_noO3_noH2O.name = 'no O3, no H2O'\n",
    "#  put all models together in a list\n",
    "rad_models = [rad, rad_noO3, rad_noH2O, rad_noO3_noH2O]\n",
    "\n",
    "rc_models = []\n",
    "for r in rad_models:\n",
    "    newrad = climlab.process_like(r)\n",
    "    conv = climlab.convection.ConvectiveAdjustment(name='Convective Adjustment',\n",
    "                                               state=newrad.state,\n",
    "                                               adj_lapse_rate=6.5,  # the key parameter in the convection model!\n",
    "                                               timestep=newrad.timestep,)\n",
    "    rc = newrad + conv\n",
    "    rc.name = newrad.name\n",
    "    rc_models.append(rc)\n",
    "\n",
    "for model in rad_models:\n",
    "    for n in range(100):\n",
    "        model.step_forward()\n",
    "    while (np.abs(model.ASR-model.OLR)>0.01):\n",
    "        model.step_forward()    \n",
    "    \n",
    "for model in rc_models:\n",
    "    for n in range(100):\n",
    "        model.step_forward()\n",
    "    while (np.abs(model.ASR-model.OLR)>0.01):\n",
    "        model.step_forward()"
   ]
  },
  {
   "cell_type": "code",
   "execution_count": null,
   "id": "4fe832b5",
   "metadata": {
    "tags": [
     "hide_input"
    ]
   },
   "outputs": [],
   "source": [
    "skew = make_skewT()\n",
    "for model in rad_models:\n",
    "    add_profile(skew, model)\n",
    "skew.ax.set_title('Pure radiative equilibrium', fontsize=18);"
   ]
  },
  {
   "cell_type": "code",
   "execution_count": null,
   "id": "bf85b46e",
   "metadata": {
    "tags": [
     "hide_input"
    ]
   },
   "outputs": [],
   "source": [
    "skew2 = make_skewT()\n",
    "for model in rc_models:\n",
    "    add_profile(skew2, model)\n",
    "skew2.ax.set_title('Radiative-convective equilibrium', fontsize=18);"
   ]
  },
  {
   "cell_type": "markdown",
   "id": "c03d2b04",
   "metadata": {},
   "source": [
    "Lots to discuss here.\n",
    "\n",
    "The overall message is that equilibrium temperature profile results from a competition between radiation and convection. Essentially:\n",
    "\n",
    "- Radiation is always trying to push temperatures toward radiative equilibrium, which means\n",
    "    - warm surface\n",
    "    - cold troposphere\n",
    "- Convection cools the surface and warms the troposphere\n",
    "- The troposphere can be defined here as the layer over which convection is active.\n",
    "- This is true whether or not we have the radiative effects of water vapor.\n",
    "- When we remove the water vapor (and its warming greenhouse effect), the surface temperature becomes much colder and the troposphere is much shallower -- but it is still there."
   ]
  },
  {
   "cell_type": "markdown",
   "id": "80f887a9",
   "metadata": {},
   "source": [
    "____________\n",
    "\n",
    "## 5. The role of the critical lapse rate\n",
    "____________"
   ]
  },
  {
   "cell_type": "markdown",
   "id": "8d3021b9",
   "metadata": {},
   "source": [
    "### What have we done above\n",
    "\n",
    "These calculations all used a critical lapse rate of 6.5 K / km, which is a reasonable approximation to observations.\n",
    "\n",
    "We set this with the input argument\n",
    "```\n",
    "adj_lapse_rate\n",
    "```\n",
    "to the `ConvectiveAdjustment` process.\n",
    "\n",
    "The idea is that we are trying to represent the statistical effects of many episodes of moist convection.\n",
    "\n",
    "An air column that is perfectly neutral to moist instability would follow the blue **moist adiabats** on the skew-T diagrams.\n",
    "\n",
    "We can force the model to behave this way by setting\n",
    "```\n",
    "adj_lapse_rate = 'pseudoadiabat'\n",
    "```\n",
    "\n",
    "However the real atmosphere, on average, does not exactly follow these adiabats for several reasons:\n",
    "\n",
    "- the slope of the moist adiabat depends strongly on temperature (as we can see on these diagrams)\n",
    "- We are looking at temperatures averaged over the whole planet, including regions that are warm and moist, warm and dry, and cold.\n",
    "- Heat fluxes by mid-latitude eddies play an important role in **stabilizing** the extra-tropical atmosphere.\n",
    "\n",
    "So here we sweep all this complexity under the rug and just choose a single critical lapse rate for our convective adjustment model.\n",
    "\n",
    "But this is a **parameter** that is uncertain and could be interesting to explore."
   ]
  },
  {
   "cell_type": "markdown",
   "id": "56d99153",
   "metadata": {},
   "source": [
    "### Python exercise: change the critical lapse rate\n",
    "\n",
    "Repeat the whole series of calculations for the different combinations of absorbing gases above, but with different critical lapse rates:\n",
    "\n",
    "- `adj_lapse_rate = 9.8` (in K/km, the dry adiabatic lapse rate, suitable for an atmosphere where condensation does not impact the buoyancy of air parcels)\n",
    "- `adj_lapse_rate = 'pseudoadiabat'` (more suitable for the tropical atmosphere)"
   ]
  },
  {
   "cell_type": "code",
   "execution_count": null,
   "id": "c188aad2",
   "metadata": {},
   "outputs": [],
   "source": []
  },
  {
   "cell_type": "markdown",
   "id": "4ec5d9f8",
   "metadata": {},
   "source": [
    "____________\n",
    "\n",
    "## 6. Summary of radiative-convection equilibrium results\n",
    "____________\n",
    "\n",
    "- We noted that pure radiative equilibrium is **not** a good model for the observed temperature profile.\n",
    "- An air column in radiative equilibrium has a **warm surface** and **cold troposphere**.\n",
    "- In reality this would tend to become **unstable** and cause vertical mixing.\n",
    "\n",
    "To account for this shortcoming of the radiation model, we coupled our single-column radiation model (using the `RRTMG` radiation model) to a simple **convection** model.\n",
    "\n",
    "- The `ConvectiveAdjustment` model instantly mixes out any profiles where the **lapse rate** exceeds some critical threshold value.\n",
    "- This critical lapse rate is the tunable parameter in our combined **Radiative-Convective Model** or RCM.\n",
    "- Using a value of 6.5 K / km and realistic gas profiles gives a reasonable (not perfect) fit to the observed air temperatures.\n",
    "- The **RCM represents the \"tug-of-war\"** between **radiation** (trying to warm the surface and cool the troposphere) and **convection** (cool the surface and warm the troposphere).\n",
    "- The convectively mixed layer extends up to near the top of the troposphere.\n",
    "\n",
    "Our experiments with removing certain absorbing gases show something interesting: the height of the tropopause (boundary bewteen troposphere and stratosphere) changes when we remove absorbers. Warmer columns also appear to have higher tropopause.\n",
    "\n",
    "Now that we know how to build and use this RCM, we'll be able to use to study some climate change processes in more detail."
   ]
  },
  {
   "cell_type": "markdown",
   "id": "e5d9a124",
   "metadata": {
    "slideshow": {
     "slide_type": "skip"
    }
   },
   "source": [
    "____________\n",
    "\n",
    "## Credits\n",
    "\n",
    "This notebook is part of [The Climate Laboratory](https://brian-rose.github.io/ClimateLaboratoryBook), an open-source textbook developed and maintained by [Brian E. J. Rose](http://www.atmos.albany.edu/facstaff/brose/index.html), University at Albany.\n",
    "\n",
    "It is licensed for free and open consumption under the\n",
    "[Creative Commons Attribution 4.0 International (CC BY 4.0)](https://creativecommons.org/licenses/by/4.0/) license.\n",
    "\n",
    "Development of these notes and the [climlab software](https://github.com/brian-rose/climlab) is partially supported by the National Science Foundation under award AGS-1455071 to Brian Rose. Any opinions, findings, conclusions or recommendations expressed here are mine and do not necessarily reflect the views of the National Science Foundation.\n",
    "____________"
   ]
  },
  {
   "cell_type": "code",
   "execution_count": null,
   "id": "886281f6",
   "metadata": {},
   "outputs": [],
   "source": []
  }
 ],
 "metadata": {
  "jupytext": {
   "text_representation": {
    "extension": ".md",
    "format_name": "myst",
    "format_version": 0.12,
    "jupytext_version": "1.6.0"
   }
  },
  "kernelspec": {
   "display_name": "Python 3",
   "language": "python",
   "name": "python3"
  },
  "source_map": [
   14,
   21,
   32,
   115,
   123,
   130,
   144,
   148,
   168,
   170,
   177,
   187,
   258,
   262,
   269,
   279,
   283,
   287,
   291,
   297,
   304,
   311,
   315,
   325,
   332,
   336,
   387,
   396,
   403,
   417,
   424,
   455,
   464,
   466,
   489,
   503
  ]
 },
 "nbformat": 4,
 "nbformat_minor": 5
}