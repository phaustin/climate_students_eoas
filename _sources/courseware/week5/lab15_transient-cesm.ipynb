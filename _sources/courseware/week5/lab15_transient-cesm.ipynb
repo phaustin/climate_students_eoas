{
 "cells": [
  {
   "cell_type": "markdown",
   "id": "3235975b",
   "metadata": {},
   "source": [
    "(nb:transCESM)=\n",
    "# Examing the transient and equilibrium CO$_2$ response in the CESM\n",
    "\n",
    "This notebook is part of [The Climate Laboratory](https://brian-rose.github.io/ClimateLaboratoryBook) by [Brian E. J. Rose](http://www.atmos.albany.edu/facstaff/brose/index.html), University at Albany."
   ]
  },
  {
   "cell_type": "markdown",
   "id": "374e4955",
   "metadata": {},
   "source": [
    "I have run two sets of experiments with the CESM model:\n",
    "\n",
    "- The fully coupled model:\n",
    "    - pre-industrial control\n",
    "    - 1%/year CO2 ramp scenario for 80 years \n",
    "- The slab ocean model:\n",
    "    - pre-industrial control with prescribed q-flux\n",
    "    - 2xCO2 scenario run out to equilibrium"
   ]
  },
  {
   "cell_type": "markdown",
   "id": "e1e67d7f",
   "metadata": {},
   "source": [
    "Our main first task is to compute the two canonical measures of climate sensitivity for this model:\n",
    "\n",
    "- Equilibrium Climate Sensitivity (ECS)\n",
    "- Transient Climate Response (TCR)"
   ]
  },
  {
   "cell_type": "markdown",
   "id": "e91d0a5e",
   "metadata": {},
   "source": [
    "From the IPCC AR5 WG1 report, Chapter 9, page 817:\n",
    "\n",
    "> Equilibrium climate sensitivity (ECS) is the equilibrium change in global and annual mean surface air temperature after doubling the atmos- pheric concentration of CO2 relative to pre-industrial levels. \n",
    "\n",
    "> The transient climate response (TCR) is the change in global and annual mean surface temperature from an experiment in which the CO2 concentration is increased by 1% yr$^{–1}$, and calculated using the difference between the start of the experiment and a 20-year period centred on the time of CO2 doubling."
   ]
  },
  {
   "cell_type": "markdown",
   "id": "e1a9899e",
   "metadata": {},
   "source": [
    "### First, a quick demonstration that 1%/year compounded increase reaches doubling after 70 years"
   ]
  },
  {
   "cell_type": "code",
   "execution_count": null,
   "id": "ead26467",
   "metadata": {},
   "outputs": [],
   "source": [
    "startingamount = 1.\n",
    "amount = startingamount\n",
    "for n in range(70):\n",
    "    amount *= 1.01\n",
    "amount"
   ]
  },
  {
   "cell_type": "markdown",
   "id": "df4b71c8",
   "metadata": {},
   "source": [
    "TCR is always smaller than ECS due to the transient effects of ocean heat uptake.\n",
    "\n",
    "We are going to **estimate** the ECS of the fully coupled model by using the equilibrium response of the Slab Ocean ."
   ]
  },
  {
   "cell_type": "code",
   "execution_count": null,
   "id": "0506ddaa",
   "metadata": {},
   "outputs": [],
   "source": [
    "%matplotlib inline\n",
    "import numpy as np\n",
    "import matplotlib.pyplot as plt\n",
    "import xarray as xr"
   ]
  },
  {
   "cell_type": "markdown",
   "id": "c4bb0ed0",
   "metadata": {},
   "source": [
    "## Load the concatenated output from the CAM output (atmosphere)"
   ]
  },
  {
   "cell_type": "code",
   "execution_count": null,
   "id": "23482be7",
   "metadata": {},
   "outputs": [],
   "source": [
    "casenames = {'cpl_control': 'cpl_1850_f19',\n",
    "             'cpl_CO2ramp': 'cpl_CO2ramp_f19',\n",
    "             'som_control': 'som_1850_f19',\n",
    "             'som_2xCO2':   'som_1850_2xCO2',\n",
    "            }\n",
    "# The path to the THREDDS server, should work from anywhere\n",
    "basepath = 'http://thredds.atmos.albany.edu:8080/thredds/dodsC/CESMA/'\n",
    "# For better performance if you can access the roselab_rit filesystem (e.g. from JupyterHub)\n",
    "#basepath = '/roselab_rit/cesm_archive/'\n",
    "casepaths = {}\n",
    "for name in casenames:\n",
    "    casepaths[name] = basepath + casenames[name] + '/concatenated/'"
   ]
  },
  {
   "cell_type": "code",
   "execution_count": null,
   "id": "518d4772",
   "metadata": {},
   "outputs": [],
   "source": [
    "# make a dictionary of all the CAM atmosphere output\n",
    "atm = {}\n",
    "for name in casenames:\n",
    "    path = casepaths[name] + casenames[name] + '.cam.h0.nc'\n",
    "    print('Attempting to open the dataset ', path)\n",
    "    atm[name] = xr.open_dataset(path, decode_times=False)"
   ]
  },
  {
   "cell_type": "markdown",
   "id": "ed5a1f07",
   "metadata": {},
   "source": [
    "###  A plot of the prescribed CO2 concentrations in the coupled simulations"
   ]
  },
  {
   "cell_type": "code",
   "execution_count": null,
   "id": "6f815134",
   "metadata": {},
   "outputs": [],
   "source": [
    "days_per_year = 365\n",
    "fig, ax = plt.subplots()\n",
    "for name in ['cpl_control', 'cpl_CO2ramp']:\n",
    "    ax.plot(atm[name].time/days_per_year, atm[name].co2vmr*1E6, label=name)\n",
    "ax.set_title('CO2 volume mixing ratio (CESM coupled simulations)')\n",
    "ax.set_xlabel('Years')\n",
    "ax.set_ylabel('pCO2 (ppm)')\n",
    "ax.grid()\n",
    "ax.legend();"
   ]
  },
  {
   "cell_type": "markdown",
   "id": "118d6165",
   "metadata": {},
   "source": [
    "Issues to think about:\n",
    "\n",
    "- Why do we talk about fractional changes in CO2, such as \"doubling atmospheric CO2\", and \"1%/year compounded CO2 increase?\n",
    "- Why not instead talk about changes in absolute amounts of CO2?\n",
    "\n",
    "The answer is closely related to the fact that the **radiative forcing** associated with CO2 increase is approximately **logarithmic** in CO2 amount. So a doubling of CO2 represents roughly the same radiative forcing *regardless of the initial CO2 concentration*."
   ]
  },
  {
   "cell_type": "markdown",
   "id": "c798648b",
   "metadata": {},
   "source": [
    "## Compute and plot time series of global, annual mean near-surface air temperature in all four simulations"
   ]
  },
  {
   "cell_type": "code",
   "execution_count": null,
   "id": "238a04cb",
   "metadata": {},
   "outputs": [],
   "source": [
    "# The surface air temperature, which we will use for our sensitivity metrics\n",
    "atm['cpl_control'].TREFHT"
   ]
  },
  {
   "cell_type": "code",
   "execution_count": null,
   "id": "db8ffb12",
   "metadata": {},
   "outputs": [],
   "source": [
    "#  The area weighting needed for global averaging\n",
    "gw = atm['som_control'].gw\n",
    "print(gw)"
   ]
  },
  {
   "cell_type": "code",
   "execution_count": null,
   "id": "7f205185",
   "metadata": {},
   "outputs": [],
   "source": [
    "def global_mean(field, weight=gw):\n",
    "    '''Return the area-weighted global average of the input field'''\n",
    "    return (field*weight).mean(dim=('lat','lon'))/weight.mean(dim='lat')"
   ]
  },
  {
   "cell_type": "code",
   "execution_count": null,
   "id": "3bf35182",
   "metadata": {},
   "outputs": [],
   "source": [
    "#  Loop through the four simulations and produce the global mean timeseries\n",
    "TREFHT_global = {}\n",
    "for name in casenames:\n",
    "    TREFHT_global[name] = global_mean(atm[name].TREFHT)"
   ]
  },
  {
   "cell_type": "markdown",
   "id": "795870c3",
   "metadata": {},
   "source": [
    "#### Make some pretty timeseries plots, including an **approximate** running annual average"
   ]
  },
  {
   "cell_type": "code",
   "execution_count": null,
   "id": "d765a4cd",
   "metadata": {},
   "outputs": [],
   "source": [
    "fig, axes = plt.subplots(2,1,figsize=(10,8))\n",
    "for name in casenames:\n",
    "    if 'cpl' in name:\n",
    "        ax = axes[0]\n",
    "        ax.set_title('Fully coupled ocean')\n",
    "    else:\n",
    "        ax = axes[1]\n",
    "        ax.set_title('Slab ocean')\n",
    "    field = TREFHT_global[name]\n",
    "    field_running = field.rolling(time=12, center=True).mean()\n",
    "    line = ax.plot(field.time / days_per_year, \n",
    "                   field, \n",
    "                   label=name,\n",
    "                   linewidth=0.75,\n",
    "                   )\n",
    "    ax.plot(field_running.time / days_per_year, \n",
    "            field_running, \n",
    "            color=line[0].get_color(),\n",
    "            linewidth=2,\n",
    "           )\n",
    "for ax in axes:\n",
    "    ax.legend();\n",
    "    ax.set_xlabel('Years')\n",
    "    ax.set_ylabel('Temperature (K)')\n",
    "    ax.grid();\n",
    "    ax.set_xlim(0,100)\n",
    "fig.suptitle('Global mean surface air temperature in CESM simulations', fontsize=16);"
   ]
  },
  {
   "cell_type": "markdown",
   "id": "b480adb4",
   "metadata": {},
   "source": [
    "Issues to think about here include:\n",
    "\n",
    "- Why is the annual average here only approximate? *(think about the calendar)*\n",
    "- Why is there an annual cycle in the global average temperature? (planet is coldest during NH winter)\n",
    "- Different character of the temperature **variability** in the coupled vs. slab model\n",
    "- Much more rapid warming in the Slab Ocean Model"
   ]
  },
  {
   "cell_type": "markdown",
   "id": "9687fd2b",
   "metadata": {},
   "source": [
    "## Now we can work on computing ECS and TCR"
   ]
  },
  {
   "cell_type": "code",
   "execution_count": null,
   "id": "409f7e11",
   "metadata": {},
   "outputs": [],
   "source": [
    "# extract the last 10 years from the slab ocean control simulation\n",
    "# and the last 20 years from the coupled control\n",
    "nyears_slab = 10\n",
    "nyears_cpl = 20\n",
    "clim_slice_slab = slice(-(nyears_slab*12),None)\n",
    "clim_slice_cpl = slice(-(nyears_cpl*12),None)"
   ]
  },
  {
   "cell_type": "code",
   "execution_count": null,
   "id": "0dfd96f5",
   "metadata": {},
   "outputs": [],
   "source": [
    "# extract the last 10 years from the slab ocean control simulation\n",
    "T0_slab = TREFHT_global['som_control'].isel(time=clim_slice_slab).mean(dim='time')\n",
    "T0_slab"
   ]
  },
  {
   "cell_type": "code",
   "execution_count": null,
   "id": "04b2f62f",
   "metadata": {},
   "outputs": [],
   "source": [
    "# and the last 20 years from the coupled control\n",
    "T0_cpl = TREFHT_global['cpl_control'].isel(time=clim_slice_cpl).mean(dim='time')\n",
    "T0_cpl"
   ]
  },
  {
   "cell_type": "code",
   "execution_count": null,
   "id": "5825522b",
   "metadata": {},
   "outputs": [],
   "source": [
    "# extract the last 10 years from the slab 2xCO2 simulation\n",
    "T2x_slab = TREFHT_global['som_2xCO2'].isel(time=clim_slice_slab).mean(dim='time')\n",
    "T2x_slab"
   ]
  },
  {
   "cell_type": "code",
   "execution_count": null,
   "id": "1cfeb5cd",
   "metadata": {},
   "outputs": [],
   "source": [
    "# extract the last 20 years from the coupled CO2 ramp simulation\n",
    "T2x_cpl = TREFHT_global['cpl_CO2ramp'].isel(time=clim_slice_cpl).mean(dim='time')\n",
    "T2x_cpl"
   ]
  },
  {
   "cell_type": "code",
   "execution_count": null,
   "id": "d0febabe",
   "metadata": {},
   "outputs": [],
   "source": [
    "ECS = T2x_slab - T0_slab\n",
    "TCR = T2x_cpl - T0_cpl\n",
    "print('The Equilibrium Climate Sensitivity is {:.3} K.'.format(float(ECS)))\n",
    "print('The Transient Climate Response is {:.3} K.'.format(float(TCR)))"
   ]
  },
  {
   "cell_type": "markdown",
   "id": "80dd794d",
   "metadata": {},
   "source": [
    "## Some CMIP climate sensitivity results to compare against"
   ]
  },
  {
   "cell_type": "markdown",
   "id": "87b6fd23",
   "metadata": {},
   "source": [
    "<img src='http://www.climatechange2013.org/images/figures/WGI_AR5_Fig9-43.jpg' width=800>"
   ]
  },
  {
   "cell_type": "markdown",
   "id": "2f26cc7b",
   "metadata": {},
   "source": [
    "<img src='../../images/AR5_Table9.5.png'>"
   ]
  },
  {
   "cell_type": "markdown",
   "id": "fa656442",
   "metadata": {},
   "source": [
    "Comparing against the multi-model mean of the ECS and TCR, our model is apparently slightly less sensitive than the CMIP5 mean."
   ]
  },
  {
   "cell_type": "markdown",
   "id": "871cabac",
   "metadata": {},
   "source": [
    "## Let's make some maps to compare spatial patterns of transient vs. equilibrium warming"
   ]
  },
  {
   "cell_type": "markdown",
   "id": "28948542",
   "metadata": {},
   "source": [
    "Here is a helper function that takes a 2D lat/lon field and renders it as a nice contour map with accompanying zonal average line plot."
   ]
  },
  {
   "cell_type": "code",
   "execution_count": null,
   "id": "53896ea9",
   "metadata": {},
   "outputs": [],
   "source": [
    "# The map projection capabilities come from the cartopy package. There are many possible projections\n",
    "import cartopy.crs as ccrs"
   ]
  },
  {
   "cell_type": "code",
   "execution_count": null,
   "id": "b3e76c76",
   "metadata": {},
   "outputs": [],
   "source": [
    "def make_map(field):\n",
    "    '''input field should be a 2D xarray.DataArray on a lat/lon grid.\n",
    "        Make a filled contour plot of the field, and a line plot of the zonal mean\n",
    "    '''\n",
    "    fig = plt.figure(figsize=(14,6))\n",
    "    nrows = 10; ncols = 3\n",
    "    mapax = plt.subplot2grid((nrows,ncols), (0,0), colspan=ncols-1, rowspan=nrows-1, projection=ccrs.Robinson())\n",
    "    barax = plt.subplot2grid((nrows,ncols), (nrows-1,0), colspan=ncols-1)\n",
    "    plotax = plt.subplot2grid((nrows,ncols), (0,ncols-1), rowspan=nrows-1)\n",
    "    cx = mapax.contourf(field.lon, field.lat, field, transform=ccrs.PlateCarree())\n",
    "    mapax.set_global(); mapax.coastlines();\n",
    "    plt.colorbar(cx, cax=barax, orientation='horizontal')\n",
    "    plotax.plot(field.mean(dim='lon'), field.lat)\n",
    "    plotax.set_ylabel('Latitude')\n",
    "    plotax.grid()\n",
    "    return fig, (mapax, plotax, barax), cx"
   ]
  },
  {
   "cell_type": "code",
   "execution_count": null,
   "id": "e0e28335",
   "metadata": {},
   "outputs": [],
   "source": [
    "# Plot a single time slice of surface air temperature just as example\n",
    "fig, axes, cx = make_map(atm['cpl_control'].TREFHT.isel(time=0))"
   ]
  },
  {
   "cell_type": "markdown",
   "id": "21a606de",
   "metadata": {},
   "source": [
    "### Make maps of the surface air temperature anomaly due to CO2 doubling in both the slab and coupled models"
   ]
  },
  {
   "cell_type": "code",
   "execution_count": null,
   "id": "82902ace",
   "metadata": {},
   "outputs": [],
   "source": [
    "Tmap_cpl_2x = atm['cpl_CO2ramp'].TREFHT.isel(time=clim_slice_cpl).mean(dim='time')\n",
    "Tmap_cpl_control = atm['cpl_control'].TREFHT.isel(time=clim_slice_cpl).mean(dim='time')\n",
    "DeltaT_cpl = Tmap_cpl_2x - Tmap_cpl_control\n",
    "\n",
    "Tmap_som_2x = atm['som_2xCO2'].TREFHT.isel(time=clim_slice_slab).mean(dim='time')\n",
    "Tmap_som_control = atm['som_control'].TREFHT.isel(time=clim_slice_slab).mean(dim='time')\n",
    "DeltaT_som = Tmap_som_2x - Tmap_som_control"
   ]
  },
  {
   "cell_type": "code",
   "execution_count": null,
   "id": "38f0dfa2",
   "metadata": {},
   "outputs": [],
   "source": [
    "fig, axes, cx = make_map(DeltaT_cpl)\n",
    "fig.suptitle('Surface air temperature anomaly (coupled transient)', fontsize=16);\n",
    "axes[1].set_xlim(0,7)  # ensure the line plots have same axes\n",
    "cx.set_clim([0, 8])    # ensure the contour maps have the same color intervals\n",
    "\n",
    "fig, axes,cx  = make_map(DeltaT_som)\n",
    "fig.suptitle('Surface air temperature anomaly (equilibrium SOM)', fontsize=16);\n",
    "axes[1].set_xlim(0,7)\n",
    "cx.set_clim([0, 8])"
   ]
  },
  {
   "cell_type": "markdown",
   "id": "55d4387a",
   "metadata": {},
   "source": [
    "Lots of intersting phenomena to think about here, including:\n",
    "\n",
    "- Polar amplification of surface warming\n",
    "- Reduction in equator-to-pole temperature gradients\n",
    "- Much larger polar amplification in SOM than in transient -- especially over the Southern Ocean (the *delayed warming of the Southern Ocean*)\n",
    "- North Atlantic *warming hole* present in transient but not in equilibrium SOM.\n",
    "- Land-ocean warming contrast: larger in transient, but still present in equilibrium"
   ]
  },
  {
   "cell_type": "markdown",
   "id": "f666cf1e",
   "metadata": {},
   "source": [
    "## Appendix: for later reference, here is how you can open the other output types\n",
    "\n",
    "The following will open the rest of the CESM output (land, sea ice, river routing, ocean).\n",
    "\n",
    "These are not needed for the above homework assignment, but may be useful later on."
   ]
  },
  {
   "cell_type": "code",
   "execution_count": null,
   "id": "5ae61735",
   "metadata": {},
   "outputs": [],
   "source": [
    "# # make a dictionary of all the CLM land model output\n",
    "# land = {}\n",
    "# for name in casenames:\n",
    "#     path = casepaths[name] + casenames[name] + '.clm2.h0.nc'\n",
    "#     print('Attempting to open the dataset ', path)\n",
    "#     land[name] = xr.open_dataset(path)"
   ]
  },
  {
   "cell_type": "code",
   "execution_count": null,
   "id": "8b17651e",
   "metadata": {},
   "outputs": [],
   "source": [
    "# # make a dictionary of all the sea ice model output\n",
    "# ice = {}\n",
    "# for name in casenames:\n",
    "#     path = casepaths[name] + casenames[name] + '.cice.h.nc'\n",
    "#     print('Attempting to open the dataset ', path)\n",
    "#     ice[name] = xr.open_dataset(path)"
   ]
  },
  {
   "cell_type": "code",
   "execution_count": null,
   "id": "5116537d",
   "metadata": {},
   "outputs": [],
   "source": [
    "# # make a dictionary of all the river transport output\n",
    "# rtm = {}\n",
    "# for name in casenames:\n",
    "#     path = casepaths[name] + casenames[name] + '.rtm.h0.nc'\n",
    "#     print('Attempting to open the dataset ', path)\n",
    "#     rtm[name] = xr.open_dataset(path)"
   ]
  },
  {
   "cell_type": "code",
   "execution_count": null,
   "id": "82bde64f",
   "metadata": {},
   "outputs": [],
   "source": [
    "# ocn = {}\n",
    "# for name in casenames:\n",
    "#     if 'cpl' in name:\n",
    "#         path = casepaths[name] + casenames[name] + '.pop.h.nc'\n",
    "#         print('Attempting to open the dataset ', path)\n",
    "#         ocn[name] = xr.open_dataset(path)"
   ]
  },
  {
   "cell_type": "markdown",
   "id": "a01d4580",
   "metadata": {
    "slideshow": {
     "slide_type": "skip"
    }
   },
   "source": [
    "____________\n",
    "\n",
    "## Credits\n",
    "\n",
    "This notebook is part of [The Climate Laboratory](https://brian-rose.github.io/ClimateLaboratoryBook), an open-source textbook developed and maintained by [Brian E. J. Rose](http://www.atmos.albany.edu/facstaff/brose/index.html), University at Albany.\n",
    "\n",
    "It is licensed for free and open consumption under the\n",
    "[Creative Commons Attribution 4.0 International (CC BY 4.0)](https://creativecommons.org/licenses/by/4.0/) license.\n",
    "\n",
    "Development of these notes and the [climlab software](https://github.com/brian-rose/climlab) is partially supported by the National Science Foundation under award AGS-1455071 to Brian Rose. Any opinions, findings, conclusions or recommendations expressed here are mine and do not necessarily reflect the views of the National Science Foundation.\n",
    "____________"
   ]
  },
  {
   "cell_type": "code",
   "execution_count": null,
   "id": "49c80b88",
   "metadata": {},
   "outputs": [],
   "source": []
  }
 ],
 "metadata": {
  "jupytext": {
   "text_representation": {
    "extension": ".md",
    "format_name": "myst",
    "format_version": 0.12,
    "jupytext_version": "1.6.0"
   }
  },
  "kernelspec": {
   "display_name": "Python 3",
   "language": "python",
   "name": "python3"
  },
  "source_map": [
   12,
   18,
   29,
   36,
   44,
   48,
   54,
   60,
   65,
   69,
   84,
   91,
   95,
   105,
   114,
   118,
   123,
   129,
   135,
   140,
   144,
   172,
   181,
   185,
   194,
   200,
   206,
   212,
   218,
   223,
   227,
   231,
   235,
   239,
   243,
   247,
   252,
   271,
   274,
   278,
   288,
   298,
   308,
   316,
   325,
   334,
   343,
   352,
   366
  ]
 },
 "nbformat": 4,
 "nbformat_minor": 5
}