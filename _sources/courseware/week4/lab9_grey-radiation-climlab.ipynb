{
 "cells": [
  {
   "cell_type": "markdown",
   "id": "966a2899",
   "metadata": {},
   "source": [
    "(nb:grey-radiation)=\n",
    "# Grey radiation modeling with climlab\n",
    "\n",
    "This notebook is part of [The Climate Laboratory](https://brian-rose.github.io/ClimateLaboratoryBook) by [Brian E. J. Rose](http://www.atmos.albany.edu/facstaff/brose/index.html), University at Albany."
   ]
  },
  {
   "cell_type": "markdown",
   "id": "02dee268",
   "metadata": {},
   "source": [
    "____________\n",
    "<a id='section1'></a>\n",
    "\n",
    "## 1. Introducing `climlab`\n",
    "____________\n",
    "\n",
    "``climlab`` is a flexible engine for process-oriented climate modeling.\n",
    "It is based on a very general concept of a model as a collection of individual, \n",
    "interacting processes. ``climlab`` defines a base class called ``Process``, which\n",
    "can contain an arbitrarily complex tree of sub-processes (each also some \n",
    "sub-class of ``Process``). Every climate process (radiative, dynamical, \n",
    "physical, turbulent, convective, chemical, etc.) can be simulated as a stand-alone\n",
    "process model given appropriate input, or as a sub-process of a more complex model. \n",
    "New classes of model can easily be defined and run interactively by putting together an\n",
    "appropriate collection of sub-processes.\n",
    "\n",
    "``climlab`` is a work-in-progress, and the code base will evolve substantially over the course of this semester.\n",
    "The latest code can always be found on ``github``:\n",
    "\n",
    "https://github.com/brian-rose/climlab\n",
    "\n",
    "You are strongly encouraged to clone the ``climlab`` repository and use ``git`` to keep your local copy up-to-date.\n",
    "\n",
    "Running this notebook requires that ``climlab`` is already installed on your system."
   ]
  },
  {
   "cell_type": "code",
   "execution_count": null,
   "id": "8e682318",
   "metadata": {},
   "outputs": [],
   "source": [
    "%matplotlib inline\n",
    "import numpy as np\n",
    "import matplotlib.pyplot as plt\n",
    "import xarray as xr\n",
    "from numpy import cos, deg2rad, log\n",
    "import climlab"
   ]
  },
  {
   "cell_type": "markdown",
   "id": "e52ac73f",
   "metadata": {},
   "source": [
    "____________\n",
    "<a id='section2'></a>\n",
    "\n",
    "## 2. Using `climlab` to implement the two-layer leaky greenhouse model\n",
    "____________\n",
    "\n",
    "One of the things that ``climlab`` is set up to do is the grey-radiation modeling we have already been discussing.\n",
    "\n",
    "Since we already derived a [complete analytical solution to the two-layer leaky greenhouse model](Lecture06 -- Elementary greenhouse models.ipynb), we will use this to validate the `climlab` code."
   ]
  },
  {
   "cell_type": "markdown",
   "id": "8de155f7",
   "metadata": {},
   "source": [
    "### Validation\n",
    "\n",
    "We want to verify that the model reproduces the observed OLR given observed temperatures, and the absorptivity that we tuned in the analytical model. The target numbers are:\n",
    "\n",
    "\\begin{align}\n",
    "T_s &= 288 \\text{ K} \\\\\n",
    "T_0 &= 275 \\text{ K} \\\\\n",
    "T_1 &= 230 \\text{ K} \\\\\n",
    "\\end{align}\n",
    "\n",
    "$$ \\epsilon = 0.586  $$\n",
    "\n",
    "$$ OLR = 238.5 \\text{ W m}^{-2} $$"
   ]
  },
  {
   "cell_type": "markdown",
   "id": "63a72196",
   "metadata": {},
   "source": [
    "### Initialize a model in `climlab`\n",
    "The first thing we do is create a new model.\n",
    "\n",
    "The following example code is sparsely commented but will hopefully orient you on the basics of defining and working with a `climlab Process` object."
   ]
  },
  {
   "cell_type": "code",
   "execution_count": null,
   "id": "a8a2141d",
   "metadata": {},
   "outputs": [],
   "source": [
    "#  Test in a 2-layer atmosphere\n",
    "col = climlab.GreyRadiationModel(num_lev=2)\n",
    "print( col)"
   ]
  },
  {
   "cell_type": "code",
   "execution_count": null,
   "id": "40c82c69",
   "metadata": {},
   "outputs": [],
   "source": [
    "col.subprocess"
   ]
  },
  {
   "cell_type": "markdown",
   "id": "9bfeebe0",
   "metadata": {},
   "source": [
    "Every item in the above dictionary is itself an instance of the `climlab.Process` object:"
   ]
  },
  {
   "cell_type": "code",
   "execution_count": null,
   "id": "44e9ec06",
   "metadata": {},
   "outputs": [],
   "source": [
    "print( col.subprocess['LW'])"
   ]
  },
  {
   "cell_type": "markdown",
   "id": "9642eab4",
   "metadata": {},
   "source": [
    "The `state` dictionary holds the state variables of the model. In this case, temperatures:"
   ]
  },
  {
   "cell_type": "code",
   "execution_count": null,
   "id": "20e478b1",
   "metadata": {},
   "outputs": [],
   "source": [
    "climlab.to_xarray(col.state)"
   ]
  },
  {
   "cell_type": "markdown",
   "id": "5cc411fc",
   "metadata": {},
   "source": [
    "Access these either through dictionary methods or as attributes of the model object:"
   ]
  },
  {
   "cell_type": "code",
   "execution_count": null,
   "id": "8a54c1dc",
   "metadata": {},
   "outputs": [],
   "source": [
    "print( col.state['Ts'])\n",
    "print( col.Ts)\n",
    "col.Ts is col.state['Ts']"
   ]
  },
  {
   "cell_type": "markdown",
   "id": "ed0024da",
   "metadata": {},
   "source": [
    "Now we are assigning the \"observed\" temperatures to our model state:"
   ]
  },
  {
   "cell_type": "code",
   "execution_count": null,
   "id": "94da1605",
   "metadata": {},
   "outputs": [],
   "source": [
    "col.Ts[:] = 288.\n",
    "col.Tatm[:] = np.array([230., 275.])\n",
    "climlab.to_xarray(col.state)"
   ]
  },
  {
   "cell_type": "code",
   "execution_count": null,
   "id": "9fe12fa6",
   "metadata": {},
   "outputs": [],
   "source": [
    "LW = col.subprocess['LW']\n",
    "print(LW)"
   ]
  },
  {
   "cell_type": "code",
   "execution_count": null,
   "id": "4166b7c5",
   "metadata": {},
   "outputs": [],
   "source": [
    "LW.absorptivity"
   ]
  },
  {
   "cell_type": "code",
   "execution_count": null,
   "id": "5649551e",
   "metadata": {},
   "outputs": [],
   "source": [
    "#  copying the tuned value of epsilon from Lecture 6 notes\n",
    "LW.absorptivity = 0.586\n",
    "LW.absorptivity"
   ]
  },
  {
   "cell_type": "code",
   "execution_count": null,
   "id": "653de911",
   "metadata": {},
   "outputs": [],
   "source": [
    "#  This does all the calculations that would be performed at each time step, \n",
    "#  but doesn't actually update the temperatures\n",
    "col.compute_diagnostics()\n",
    "#  Print out the dictionary\n",
    "col.diagnostics"
   ]
  },
  {
   "cell_type": "code",
   "execution_count": null,
   "id": "79863fae",
   "metadata": {},
   "outputs": [],
   "source": [
    "#  Check OLR against our analytical solution\n",
    "col.OLR"
   ]
  },
  {
   "cell_type": "code",
   "execution_count": null,
   "id": "1597cc2e",
   "metadata": {},
   "outputs": [],
   "source": [
    "# Like the state variables, the diagnostics can also be accessed in two different ways\n",
    "col.diagnostics['OLR']"
   ]
  },
  {
   "cell_type": "code",
   "execution_count": null,
   "id": "a2ef8110",
   "metadata": {},
   "outputs": [],
   "source": [
    "col.state"
   ]
  },
  {
   "cell_type": "code",
   "execution_count": null,
   "id": "600bba55",
   "metadata": {},
   "outputs": [],
   "source": [
    "# perform a single time step\n",
    "col.step_forward()"
   ]
  },
  {
   "cell_type": "code",
   "execution_count": null,
   "id": "73e5b7c0",
   "metadata": {},
   "outputs": [],
   "source": [
    "col.state"
   ]
  },
  {
   "cell_type": "markdown",
   "id": "a9864e7f",
   "metadata": {},
   "source": [
    "We just stepped forward one discreet unit in time. Because we didn't specify a timestep when we created the model, it is set to a default value:"
   ]
  },
  {
   "cell_type": "code",
   "execution_count": null,
   "id": "a25844ea",
   "metadata": {},
   "outputs": [],
   "source": [
    "col.timestep"
   ]
  },
  {
   "cell_type": "markdown",
   "id": "21c65e02",
   "metadata": {},
   "source": [
    "which is 1 day (expressed in seconds)."
   ]
  },
  {
   "cell_type": "markdown",
   "id": "7ec61d4f",
   "metadata": {},
   "source": [
    "Now we will integrate the model out to equilibrium.\n",
    "\n",
    "We could easily write a loop to call the `step_forward()` method many times.\n",
    "\n",
    "Or use a handy shortcut that allows us to specify the integration length in physical time units:"
   ]
  },
  {
   "cell_type": "code",
   "execution_count": null,
   "id": "e394a7b4",
   "metadata": {},
   "outputs": [],
   "source": [
    "# integrate out to radiative equilibrium\n",
    "col.integrate_years(2.)"
   ]
  },
  {
   "cell_type": "code",
   "execution_count": null,
   "id": "b9ae9571",
   "metadata": {},
   "outputs": [],
   "source": [
    "# Check for equilibrium\n",
    "col.ASR - col.OLR"
   ]
  },
  {
   "cell_type": "code",
   "execution_count": null,
   "id": "5bc4152b",
   "metadata": {},
   "outputs": [],
   "source": [
    "#  The temperatures at radiative equilibrium\n",
    "col.state"
   ]
  },
  {
   "cell_type": "markdown",
   "id": "746b46de",
   "metadata": {},
   "source": [
    "Compare these to the analytical solutions for radiative equilibrium with $\\epsilon = 0.58$:\n",
    "\n",
    "\\begin{align}\n",
    "T_s &= 296.4 \\text{ K} \\\\\n",
    "T_0 &= 262.3 \\text{ K} \\\\\n",
    "T_1 &= 233.8 \\text{ K} \\\\\n",
    "\\end{align}"
   ]
  },
  {
   "cell_type": "markdown",
   "id": "935083fb",
   "metadata": {},
   "source": [
    "So it looks like `climlab` agrees with our analytical results to within 0.1 K. That's good."
   ]
  },
  {
   "cell_type": "markdown",
   "id": "3ca0b103",
   "metadata": {},
   "source": [
    "____________\n",
    "<a id='section3'></a>\n",
    "\n",
    "## 3. The observed annual, global mean temperature profile\n",
    "____________\n",
    "\n",
    "We want to model the OLR in a column whose temperatures match observations. As we've done before, we'll calculate the global, annual mean air temperature from the NCEP Reanalysis data."
   ]
  },
  {
   "cell_type": "code",
   "execution_count": null,
   "id": "ec6143e0",
   "metadata": {},
   "outputs": [],
   "source": [
    "## The NOAA ESRL server is shutdown! January 2019\n",
    "## This will try to read the data over the internet.\n",
    "ncep_filename = 'air.mon.1981-2010.ltm.nc'\n",
    "##  to read over internet\n",
    "ncep_url = \"http://www.esrl.noaa.gov/psd/thredds/dodsC/Datasets/ncep.reanalysis.derived/pressure/\"\n",
    "path = ncep_url\n",
    "##  Open handle to data\n",
    "ncep_air = xr.open_dataset( path + ncep_filename, decode_times=False )\n",
    "\n",
    "#url = 'http://apdrc.soest.hawaii.edu:80/dods/public_data/Reanalysis_Data/NCEP/NCEP/clima/pressure/air'\n",
    "#air = xr.open_dataset(url)\n",
    "# The name of the vertical axis is different than the NOAA ESRL version..\n",
    "#ncep_air = air.rename({'lev': 'level'})\n",
    "print( ncep_air)"
   ]
  },
  {
   "cell_type": "code",
   "execution_count": null,
   "id": "791efb4f",
   "metadata": {},
   "outputs": [],
   "source": [
    "#  Take global, annual average and convert to Kelvin\n",
    "weight = cos(deg2rad(ncep_air.lat)) / cos(deg2rad(ncep_air.lat)).mean(dim='lat')\n",
    "Tglobal = (ncep_air.air * weight).mean(dim=('lat','lon','time'))\n",
    "print( Tglobal)"
   ]
  },
  {
   "cell_type": "markdown",
   "id": "01d0c61f",
   "metadata": {},
   "source": [
    "We're going to convert this to degrees Kelvin, using a handy list of pre-defined constants in `climlab.constants`"
   ]
  },
  {
   "cell_type": "code",
   "execution_count": null,
   "id": "be1d44b6",
   "metadata": {},
   "outputs": [],
   "source": [
    "climlab.constants.tempCtoK"
   ]
  },
  {
   "cell_type": "code",
   "execution_count": null,
   "id": "96202e21",
   "metadata": {},
   "outputs": [],
   "source": [
    "Tglobal += climlab.constants.tempCtoK\n",
    "print(Tglobal)"
   ]
  },
  {
   "cell_type": "code",
   "execution_count": null,
   "id": "6b5bc40d",
   "metadata": {},
   "outputs": [],
   "source": [
    "#  A handy re-usable routine for making a plot of the temperature profiles\n",
    "#  We will plot temperatures with respect to log(pressure) to get a height-like coordinate\n",
    "\n",
    "def zstar(lev):\n",
    "    return -np.log(lev / climlab.constants.ps)\n",
    "\n",
    "def plot_soundings(result_list, name_list, plot_obs=True, fixed_range=True):\n",
    "    color_cycle=['r', 'g', 'b', 'y']\n",
    "    # col is either a column model object or a list of column model objects\n",
    "    #if isinstance(state_list, climlab.Process):\n",
    "    #    # make a list with a single item\n",
    "    #    collist = [collist]\n",
    "    fig, ax = plt.subplots(figsize=(9,9))\n",
    "    if plot_obs:\n",
    "        ax.plot(Tglobal, zstar(Tglobal.level), color='k', label='Observed')    \n",
    "    for i, state in enumerate(result_list):\n",
    "        Tatm = state['Tatm']\n",
    "        lev = Tatm.domain.axes['lev'].points\n",
    "        Ts = state['Ts']\n",
    "        ax.plot(Tatm, zstar(lev), color=color_cycle[i], label=name_list[i])\n",
    "        ax.plot(Ts, 0, 'o', markersize=12, color=color_cycle[i])\n",
    "    #ax.invert_yaxis()\n",
    "    yticks = np.array([1000., 750., 500., 250., 100., 50., 20., 10., 5.])\n",
    "    ax.set_yticks(-np.log(yticks/1000.))\n",
    "    ax.set_yticklabels(yticks)\n",
    "    ax.set_xlabel('Temperature (K)', fontsize=14)\n",
    "    ax.set_ylabel('Pressure (hPa)', fontsize=14)\n",
    "    ax.grid()\n",
    "    ax.legend()\n",
    "    if fixed_range:\n",
    "        ax.set_xlim([200, 300])\n",
    "        ax.set_ylim(zstar(np.array([1000., 5.])))\n",
    "    #ax2 = ax.twinx()\n",
    "    \n",
    "    return ax"
   ]
  },
  {
   "cell_type": "code",
   "execution_count": null,
   "id": "7bc9f01b",
   "metadata": {},
   "outputs": [],
   "source": [
    "plot_soundings([],[] );"
   ]
  },
  {
   "cell_type": "markdown",
   "id": "fec3bf11",
   "metadata": {},
   "source": [
    "____________\n",
    "<a id='section4'></a>\n",
    "\n",
    "## 4. A 30-layer model using the observed temperatures\n",
    "____________"
   ]
  },
  {
   "cell_type": "code",
   "execution_count": null,
   "id": "863a3513",
   "metadata": {},
   "outputs": [],
   "source": [
    "#  initialize a grey radiation model with 30 levels\n",
    "col = climlab.GreyRadiationModel()\n",
    "print(col)"
   ]
  },
  {
   "cell_type": "code",
   "execution_count": null,
   "id": "c0d21e3a",
   "metadata": {},
   "outputs": [],
   "source": [
    "col.lev"
   ]
  },
  {
   "cell_type": "code",
   "execution_count": null,
   "id": "5d1ee76e",
   "metadata": {},
   "outputs": [],
   "source": [
    "col.lev_bounds"
   ]
  },
  {
   "cell_type": "code",
   "execution_count": null,
   "id": "53c76bba",
   "metadata": {},
   "outputs": [],
   "source": [
    "# interpolate to 30 evenly spaced pressure levels\n",
    "lev = col.lev\n",
    "Tinterp = np.interp(lev, np.flipud(Tglobal.level), np.flipud(Tglobal))\n",
    "Tinterp\n",
    "#  Need to 'flipud' because the interpolation routine \n",
    "#  needs the pressure data to be in increasing order"
   ]
  },
  {
   "cell_type": "code",
   "execution_count": null,
   "id": "78b4740a",
   "metadata": {},
   "outputs": [],
   "source": [
    "# Initialize model with observed temperatures\n",
    "col.Ts[:] = Tglobal[0]\n",
    "col.Tatm[:] = Tinterp"
   ]
  },
  {
   "cell_type": "code",
   "execution_count": null,
   "id": "ec7dd6bb",
   "metadata": {},
   "outputs": [],
   "source": [
    "# This should look just like the observations\n",
    "result_list = [col.state]\n",
    "name_list = ['Observed, interpolated']\n",
    "plot_soundings(result_list, name_list);"
   ]
  },
  {
   "cell_type": "markdown",
   "id": "e339c845",
   "metadata": {},
   "source": [
    "### Tune absorptivity to get observed OLR"
   ]
  },
  {
   "cell_type": "code",
   "execution_count": null,
   "id": "8c62a32c",
   "metadata": {},
   "outputs": [],
   "source": [
    "col.compute_diagnostics()\n",
    "col.OLR"
   ]
  },
  {
   "cell_type": "code",
   "execution_count": null,
   "id": "87bf3832",
   "metadata": {},
   "outputs": [],
   "source": [
    "# Need to tune absorptivity to get OLR = 238.5\n",
    "epsarray = np.linspace(0.01, 0.1, 100)\n",
    "OLRarray = np.zeros_like(epsarray)"
   ]
  },
  {
   "cell_type": "code",
   "execution_count": null,
   "id": "9f797f04",
   "metadata": {},
   "outputs": [],
   "source": [
    "for i in range(epsarray.size):\n",
    "    col.subprocess['LW'].absorptivity = epsarray[i]\n",
    "    col.compute_diagnostics()\n",
    "    OLRarray[i] = col.OLR\n",
    "\n",
    "plt.plot(epsarray, OLRarray)\n",
    "plt.grid()\n",
    "plt.xlabel('epsilon')\n",
    "plt.ylabel('OLR')"
   ]
  },
  {
   "cell_type": "markdown",
   "id": "c259e843",
   "metadata": {},
   "source": [
    "The necessary value seems to lie near 0.055 or so.\n",
    "\n",
    "We can be more precise with a numerical root-finder."
   ]
  },
  {
   "cell_type": "code",
   "execution_count": null,
   "id": "1dc8cbdf",
   "metadata": {},
   "outputs": [],
   "source": [
    "def OLRanom(eps):\n",
    "    col.subprocess['LW'].absorptivity = eps\n",
    "    col.compute_diagnostics()\n",
    "    return col.OLR - 238.5"
   ]
  },
  {
   "cell_type": "code",
   "execution_count": null,
   "id": "b011d385",
   "metadata": {},
   "outputs": [],
   "source": [
    "# Use numerical root-finding to get the equilibria\n",
    "from scipy.optimize import brentq\n",
    "# brentq is a root-finding function\n",
    "#  Need to give it a function and two end-points\n",
    "#  It will look for a zero of the function between those end-points\n",
    "eps = brentq(OLRanom, 0.01, 0.1)\n",
    "print( eps)"
   ]
  },
  {
   "cell_type": "code",
   "execution_count": null,
   "id": "b2a9de47",
   "metadata": {},
   "outputs": [],
   "source": [
    "col.subprocess.LW.absorptivity = eps\n",
    "col.subprocess.LW.absorptivity"
   ]
  },
  {
   "cell_type": "code",
   "execution_count": null,
   "id": "513c6f9e",
   "metadata": {},
   "outputs": [],
   "source": [
    "col.compute_diagnostics()\n",
    "col.OLR"
   ]
  },
  {
   "cell_type": "markdown",
   "id": "56535a1b",
   "metadata": {},
   "source": [
    "____________\n",
    "<a id='section5'></a>\n",
    "\n",
    "## 5. Radiative forcing in the 30-layer model\n",
    "____________\n",
    "\n",
    "Let's compute radiative forcing for a **2% increase in absorptivity**."
   ]
  },
  {
   "cell_type": "code",
   "execution_count": null,
   "id": "33cf9215",
   "metadata": {},
   "outputs": [],
   "source": [
    "#  clone our model using a built-in climlab function\n",
    "col2 = climlab.process_like(col)\n",
    "print(col2)"
   ]
  },
  {
   "cell_type": "code",
   "execution_count": null,
   "id": "499fcf03",
   "metadata": {},
   "outputs": [],
   "source": [
    "col2.subprocess['LW'].absorptivity *= 1.02\n",
    "col2.subprocess['LW'].absorptivity"
   ]
  },
  {
   "cell_type": "code",
   "execution_count": null,
   "id": "3397f663",
   "metadata": {},
   "outputs": [],
   "source": [
    "#  Radiative forcing by definition is the change in TOA radiative flux,\n",
    "# HOLDING THE TEMPERATURES FIXED.\n",
    "col2.Ts - col.Ts"
   ]
  },
  {
   "cell_type": "code",
   "execution_count": null,
   "id": "573695f1",
   "metadata": {},
   "outputs": [],
   "source": [
    "col2.Tatm - col.Tatm"
   ]
  },
  {
   "cell_type": "code",
   "execution_count": null,
   "id": "79355d71",
   "metadata": {},
   "outputs": [],
   "source": [
    "col2.compute_diagnostics()\n",
    "col2.OLR"
   ]
  },
  {
   "cell_type": "markdown",
   "id": "f5d1edfc",
   "metadata": {},
   "source": [
    "The OLR decreased after we added the extra absorbers, as we expect. Now we can calculate the Radiative Forcing:"
   ]
  },
  {
   "cell_type": "code",
   "execution_count": null,
   "id": "e19be615",
   "metadata": {},
   "outputs": [],
   "source": [
    "RF = -(col2.OLR - col.OLR)\n",
    "print( 'The radiative forcing is %.2f W/m2.' %RF)"
   ]
  },
  {
   "cell_type": "markdown",
   "id": "cf601ac1",
   "metadata": {},
   "source": [
    "____________\n",
    "<a id='section6'></a>\n",
    "\n",
    "## 6. Radiative equilibrium in the 30-layer model\n",
    "____________"
   ]
  },
  {
   "cell_type": "code",
   "execution_count": null,
   "id": "81c36fcb",
   "metadata": {},
   "outputs": [],
   "source": [
    "re = climlab.process_like(col)"
   ]
  },
  {
   "cell_type": "code",
   "execution_count": null,
   "id": "aea43961",
   "metadata": {},
   "outputs": [],
   "source": [
    "#  To get to equilibrium, we just time-step the model forward long enough\n",
    "re.integrate_years(1.)"
   ]
  },
  {
   "cell_type": "code",
   "execution_count": null,
   "id": "aeff4942",
   "metadata": {},
   "outputs": [],
   "source": [
    "#  Check for energy balance\n",
    "print( 'The net downward radiative flux at TOA is %.4f W/m2.' %(re.ASR - re.OLR))"
   ]
  },
  {
   "cell_type": "code",
   "execution_count": null,
   "id": "60a58f2f",
   "metadata": {},
   "outputs": [],
   "source": [
    "result_list.append(re.state)\n",
    "name_list.append('Radiative equilibrium (grey gas)')\n",
    "plot_soundings(result_list, name_list)"
   ]
  },
  {
   "cell_type": "markdown",
   "id": "9fdc5bb5",
   "metadata": {},
   "source": [
    "Some properties of the **radiative equilibrium** temperature profile:\n",
    "\n",
    "- The surface is warmer than observed.\n",
    "- The lower troposphere is colder than observed.\n",
    "- Very cold air is sitting immediately above the warm surface.\n",
    "- There is no tropopause, no stratosphere."
   ]
  },
  {
   "cell_type": "markdown",
   "id": "305d5d16",
   "metadata": {},
   "source": [
    "____________\n",
    "<a id='section7'></a>\n",
    "\n",
    "## 7. Radiative-Convective Equilibrium in the 30-layer model\n",
    "____________\n",
    "\n",
    "We recognize that the large drop in temperature just above the surface is unphysical. Parcels of air in direct contact with the ground will be warmed by mechansisms other than radiative transfer.\n",
    "\n",
    "These warm air parcels will then become buoyant, and will convect upward, mixing their heat content with the environment.\n",
    "\n",
    "We **parameterize** the statistical effects of this mixing through a **convective adjustment**. \n",
    "\n",
    "At each timestep, our model checks for any locations at which the **lapse rate** exceeds some threshold. Unstable layers are removed through an energy-conserving mixing formula.\n",
    "\n",
    "This process is assumed to be fast relative to radiative heating. In the model, it is instantaneous."
   ]
  },
  {
   "cell_type": "markdown",
   "id": "f1727bca",
   "metadata": {},
   "source": [
    "### Add the convective adjustment as an additional subprocess"
   ]
  },
  {
   "cell_type": "code",
   "execution_count": null,
   "id": "e478189a",
   "metadata": {},
   "outputs": [],
   "source": [
    "#  Here is the existing model\n",
    "print(re)"
   ]
  },
  {
   "cell_type": "code",
   "execution_count": null,
   "id": "a78ea1c9",
   "metadata": {},
   "outputs": [],
   "source": [
    "#  First we make a new clone\n",
    "rce = climlab.process_like(re)\n",
    "#  Then create a new ConvectiveAdjustment process\n",
    "conv = climlab.convection.ConvectiveAdjustment(state=rce.state, \n",
    "                                               adj_lapse_rate=6.)\n",
    "#  And add it to our model\n",
    "rce.add_subprocess('Convective Adjustment', conv)\n",
    "print( rce)"
   ]
  },
  {
   "cell_type": "markdown",
   "id": "3529182c",
   "metadata": {},
   "source": [
    "This model is exactly like our previous models, except for one additional subprocess called ``Convective Adjustment``. \n",
    "\n",
    "We passed a parameter ``adj_lapse_rate`` (in K / km) that sets the neutrally stable lapse rate -- in this case, 6 K / km.\n",
    "\n",
    "This number is chosed to very loosely represent the net effect of **moist convection**."
   ]
  },
  {
   "cell_type": "code",
   "execution_count": null,
   "id": "933324b0",
   "metadata": {},
   "outputs": [],
   "source": [
    "#  Run out to equilibrium\n",
    "rce.integrate_years(1.)"
   ]
  },
  {
   "cell_type": "code",
   "execution_count": null,
   "id": "3b4f3a73",
   "metadata": {},
   "outputs": [],
   "source": [
    "#  Check for energy balance\n",
    "rce.ASR - rce.OLR"
   ]
  },
  {
   "cell_type": "code",
   "execution_count": null,
   "id": "f9c27254",
   "metadata": {},
   "outputs": [],
   "source": [
    "result_list.append(rce.state)\n",
    "name_list.append('Radiatve-Convective equilibrium (grey gas)')"
   ]
  },
  {
   "cell_type": "code",
   "execution_count": null,
   "id": "2e039b13",
   "metadata": {},
   "outputs": [],
   "source": [
    "plot_soundings(result_list, name_list)"
   ]
  },
  {
   "cell_type": "markdown",
   "id": "95c06081",
   "metadata": {},
   "source": [
    "Introducing convective adjustment into the model cools the surface quite a bit (compared to Radiative Equilibrium, in green here) -- and warms the lower troposphere. It gives us a MUCH better fit to observations.\n",
    "\n",
    "But of course we still have no stratosphere."
   ]
  },
  {
   "cell_type": "markdown",
   "id": "b3e6cdcb",
   "metadata": {},
   "source": [
    "____________\n",
    "<a id='section8'></a>\n",
    "\n",
    "## 8. Putting stratospheric ozone in the grey-gas model\n",
    "____________\n",
    "\n",
    "Our model has no equivalent of the stratosphere, where temperature increases with height. That's because our model has been completely transparent to shortwave radiation up until now.\n",
    "\n",
    "We can load the observed ozone climatology from the input files for the CESM model:"
   ]
  },
  {
   "cell_type": "code",
   "execution_count": null,
   "id": "15bebee9",
   "metadata": {},
   "outputs": [],
   "source": [
    "datapath = \"http://thredds.atmos.albany.edu:8080/thredds/dodsC/CESMA/\"\n",
    "ozone = xr.open_dataset( datapath + \"som_input/ozone_1.9x2.5_L26_2000clim_c091112.nc\")"
   ]
  },
  {
   "cell_type": "code",
   "execution_count": null,
   "id": "117a18ea",
   "metadata": {},
   "outputs": [],
   "source": [
    "print(ozone)"
   ]
  },
  {
   "cell_type": "markdown",
   "id": "fea1b50d",
   "metadata": {},
   "source": [
    "The pressure levels in this dataset are:"
   ]
  },
  {
   "cell_type": "code",
   "execution_count": null,
   "id": "ca8a7a9d",
   "metadata": {},
   "outputs": [],
   "source": [
    "print(ozone.lev)"
   ]
  },
  {
   "cell_type": "markdown",
   "id": "79ebdbe1",
   "metadata": {},
   "source": [
    "### Take the global average of the ozone climatology, and plot it as a function of pressure (or height)"
   ]
  },
  {
   "cell_type": "code",
   "execution_count": null,
   "id": "db07c766",
   "metadata": {},
   "outputs": [],
   "source": [
    "#  Take global, annual average and convert to Kelvin\n",
    "weight_ozone = cos(deg2rad(ozone.lat)) / cos(deg2rad(ozone.lat)).mean(dim='lat')\n",
    "O3_global = (ozone.O3 * weight_ozone).mean(dim=('lat','lon','time'))\n",
    "print(O3_global)"
   ]
  },
  {
   "cell_type": "code",
   "execution_count": null,
   "id": "5cb256c7",
   "metadata": {},
   "outputs": [],
   "source": [
    "ax = plt.figure(figsize=(10,8)).add_subplot(111)\n",
    "ax.plot( O3_global * 1.E6, -np.log(ozone.lev/climlab.constants.ps) )\n",
    "ax.set_xlabel('Ozone (ppm)', fontsize=16)\n",
    "ax.set_ylabel('Pressure (hPa)', fontsize=16 )\n",
    "yticks = np.array([1000., 750., 500., 250., 100., 50., 20., 10., 5.])\n",
    "ax.set_yticks(-np.log(yticks/1000.))\n",
    "ax.set_yticklabels(yticks)\n",
    "ax.grid()\n",
    "ax.set_title('Global, annual mean ozone concentration', fontsize = 24);"
   ]
  },
  {
   "cell_type": "markdown",
   "id": "04349429",
   "metadata": {},
   "source": [
    "This shows that most of the ozone is indeed in the stratosphere, and peaks near the top of the stratosphere.\n",
    "\n",
    "Now create a new column model object **on the same pressure levels as the ozone data**.  We are also going set an adjusted lapse rate of 6 K / km."
   ]
  },
  {
   "cell_type": "code",
   "execution_count": null,
   "id": "5ba23397",
   "metadata": {},
   "outputs": [],
   "source": [
    "# the RadiativeConvectiveModel is pre-defined in climlab\n",
    "#  It contains the same components are our previous model\n",
    "#   But here we are specifying a different set of vertical levels.\n",
    "oz_col = climlab.RadiativeConvectiveModel(lev = ozone.lev, adj_lapse_rate=6)\n",
    "print(oz_col)"
   ]
  },
  {
   "cell_type": "markdown",
   "id": "82bc3988",
   "metadata": {},
   "source": [
    "Now we will do something new: let the column absorb some shortwave radiation. We will assume that the shortwave absorptivity is proportional to the ozone concentration we plotted above."
   ]
  },
  {
   "cell_type": "markdown",
   "id": "ba70384b",
   "metadata": {},
   "source": [
    "Now we need to weight the absorptivity by the pressure (mass) of each layer."
   ]
  },
  {
   "cell_type": "code",
   "execution_count": null,
   "id": "bb35ef00",
   "metadata": {},
   "outputs": [],
   "source": [
    "# This number is an arbitrary parameter that scales how absorptive we are making the ozone\n",
    "# in our grey gas model\n",
    "ozonefactor = 75\n",
    "dp = oz_col.Tatm.domain.lev.delta\n",
    "epsSW = O3_global.values * dp * ozonefactor"
   ]
  },
  {
   "cell_type": "markdown",
   "id": "6f535f70",
   "metadata": {},
   "source": [
    "We want to use the field `epsSW` as the absorptivity for our SW radiation model.\n",
    "\n",
    "Let's see what the absorptivity is current set to:"
   ]
  },
  {
   "cell_type": "code",
   "execution_count": null,
   "id": "e8e82d25",
   "metadata": {},
   "outputs": [],
   "source": [
    "print(oz_col.subprocess['SW'].absorptivity)"
   ]
  },
  {
   "cell_type": "markdown",
   "id": "da0880c1",
   "metadata": {},
   "source": [
    "It defaults to zero.\n",
    "\n",
    "Before changing this (putting in the ozone), let's take a look at the shortwave absorption in the column:"
   ]
  },
  {
   "cell_type": "code",
   "execution_count": null,
   "id": "ef2efe4b",
   "metadata": {},
   "outputs": [],
   "source": [
    "oz_col.compute_diagnostics()"
   ]
  },
  {
   "cell_type": "code",
   "execution_count": null,
   "id": "7a6c759f",
   "metadata": {},
   "outputs": [],
   "source": [
    "oz_col.diagnostics['SW_absorbed_atm']"
   ]
  },
  {
   "cell_type": "markdown",
   "id": "9a14ae96",
   "metadata": {},
   "source": [
    "Let's now put in the ozone:"
   ]
  },
  {
   "cell_type": "code",
   "execution_count": null,
   "id": "00341d33",
   "metadata": {},
   "outputs": [],
   "source": [
    "oz_col.subprocess['SW'].absorptivity = epsSW\n",
    "print(oz_col.subprocess['SW'].absorptivity)"
   ]
  },
  {
   "cell_type": "markdown",
   "id": "186531c7",
   "metadata": {},
   "source": [
    "Let's check how this changes the SW absorption:"
   ]
  },
  {
   "cell_type": "code",
   "execution_count": null,
   "id": "4bea5ac2",
   "metadata": {},
   "outputs": [],
   "source": [
    "oz_col.compute_diagnostics()\n",
    "oz_col.SW_absorbed_atm"
   ]
  },
  {
   "cell_type": "markdown",
   "id": "597cadee",
   "metadata": {},
   "source": [
    "It is now non-zero, and largest near the top of the column (also top of the array) where the ozone concentration is highest."
   ]
  },
  {
   "cell_type": "markdown",
   "id": "8b876a4a",
   "metadata": {},
   "source": [
    "Now it's time to run the model out to radiative-convective equilibrium"
   ]
  },
  {
   "cell_type": "code",
   "execution_count": null,
   "id": "59c33baa",
   "metadata": {},
   "outputs": [],
   "source": [
    "oz_col.integrate_years(1.)"
   ]
  },
  {
   "cell_type": "code",
   "execution_count": null,
   "id": "31db1989",
   "metadata": {},
   "outputs": [],
   "source": [
    "print(oz_col.ASR - oz_col.OLR)"
   ]
  },
  {
   "cell_type": "markdown",
   "id": "84e3130d",
   "metadata": {},
   "source": [
    "And let's now see what we got!"
   ]
  },
  {
   "cell_type": "code",
   "execution_count": null,
   "id": "745bac61",
   "metadata": {},
   "outputs": [],
   "source": [
    "result_list.append(oz_col.state)\n",
    "name_list.append('Radiative-Convective equilibrium with O3')"
   ]
  },
  {
   "cell_type": "code",
   "execution_count": null,
   "id": "ac743e74",
   "metadata": {},
   "outputs": [],
   "source": [
    "#  Make a plot to compare observations, Radiative Equilibrium, Radiative-Convective Equilibrium, and RCE with ozone!\n",
    "plot_soundings(result_list, name_list)"
   ]
  },
  {
   "cell_type": "markdown",
   "id": "863d92d3",
   "metadata": {},
   "source": [
    "And we finally have something that looks looks like the tropopause, with temperature increasing above at approximately the correct rate. \n",
    "\n",
    "There are still plenty of discrepancies between this model solution and the observations, including:\n",
    "\n",
    "- Tropopause temperature is too warm, by about 15 degrees.\n",
    "- Surface temperature is too cold\n",
    "\n",
    "There are a number of parameters we might adjust if we wanted to improve the fit, including:\n",
    "\n",
    "- Longwave absorptivity\n",
    "- Surface albedo\n",
    "\n",
    "Feel free to experiment! (That's what models are for, after all)."
   ]
  },
  {
   "cell_type": "markdown",
   "id": "1f042bc0",
   "metadata": {},
   "source": [
    "### The take home message\n",
    "\n",
    "The dominant effect of stratospheric ozone is to vastly increase the radiative equilibrium temperature in the ozone layer. The temperature needs to be higher so that the longwave emission can balance the shortwave absorption.\n",
    "\n",
    "Without ozone to absorb incoming solar radiation, the **temperature does not increase with height**.\n",
    "\n",
    "This simple grey-gas model illustrates this principle very clearly."
   ]
  },
  {
   "cell_type": "markdown",
   "id": "2fc67785",
   "metadata": {
    "slideshow": {
     "slide_type": "skip"
    }
   },
   "source": [
    "____________\n",
    "\n",
    "## Credits\n",
    "\n",
    "This notebook is part of [The Climate Laboratory](https://brian-rose.github.io/ClimateLaboratoryBook), an open-source textbook developed and maintained by [Brian E. J. Rose](http://www.atmos.albany.edu/facstaff/brose/index.html), University at Albany.\n",
    "\n",
    "It is licensed for free and open consumption under the\n",
    "[Creative Commons Attribution 4.0 International (CC BY 4.0)](https://creativecommons.org/licenses/by/4.0/) license.\n",
    "\n",
    "Development of these notes and the [climlab software](https://github.com/brian-rose/climlab) is partially supported by the National Science Foundation under award AGS-1455071 to Brian Rose. Any opinions, findings, conclusions or recommendations expressed here are mine and do not necessarily reflect the views of the National Science Foundation.\n",
    "____________"
   ]
  },
  {
   "cell_type": "code",
   "execution_count": null,
   "id": "78acd861",
   "metadata": {},
   "outputs": [],
   "source": []
  }
 ],
 "metadata": {
  "jupytext": {
   "text_representation": {
    "extension": ".md",
    "format_name": "myst",
    "format_version": 0.12,
    "jupytext_version": "1.6.0"
   }
  },
  "kernelspec": {
   "display_name": "Python 3",
   "language": "python",
   "name": "python3"
  },
  "source_map": [
   12,
   19,
   46,
   53,
   66,
   82,
   89,
   95,
   97,
   101,
   103,
   107,
   109,
   113,
   117,
   121,
   127,
   132,
   136,
   142,
   150,
   155,
   160,
   164,
   169,
   171,
   175,
   177,
   181,
   189,
   194,
   199,
   202,
   212,
   216,
   226,
   243,
   248,
   252,
   256,
   261,
   299,
   301,
   310,
   316,
   320,
   324,
   333,
   339,
   344,
   348,
   353,
   359,
   369,
   375,
   382,
   392,
   397,
   400,
   410,
   416,
   421,
   427,
   431,
   434,
   438,
   441,
   449,
   453,
   458,
   463,
   467,
   476,
   494,
   498,
   503,
   512,
   520,
   525,
   530,
   535,
   537,
   543,
   555,
   560,
   562,
   566,
   568,
   572,
   579,
   589,
   595,
   601,
   605,
   609,
   615,
   621,
   623,
   629,
   633,
   635,
   639,
   642,
   646,
   649,
   653,
   657,
   661,
   663,
   667,
   672,
   675,
   691,
   701,
   715
  ]
 },
 "nbformat": 4,
 "nbformat_minor": 5
}