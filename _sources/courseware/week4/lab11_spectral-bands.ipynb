{
 "cells": [
  {
   "cell_type": "markdown",
   "id": "673cda3d",
   "metadata": {
    "slideshow": {
     "slide_type": "slide"
    }
   },
   "source": [
    "(nb:spectral-bands)=\n",
    "# Who needs spectral bands? We do. Some baby steps...\n",
    "\n",
    "This notebook is part of [The Climate Laboratory](https://brian-rose.github.io/ClimateLaboratoryBook) by [Brian E. J. Rose](http://www.atmos.albany.edu/facstaff/brose/index.html), University at Albany."
   ]
  },
  {
   "cell_type": "markdown",
   "id": "530db062",
   "metadata": {
    "slideshow": {
     "slide_type": "slide"
    }
   },
   "source": [
    "____________\n",
    "<a id='section1'></a>\n",
    "\n",
    "## 1. What if CO$_2$ actually behaved like a Grey Gas?\n",
    "____________"
   ]
  },
  {
   "cell_type": "markdown",
   "id": "d0b2e849",
   "metadata": {
    "slideshow": {
     "slide_type": "slide"
    }
   },
   "source": [
    "Suppose that CO$_2$ actually behaved as a grey gas. In other words, no spectral dependence in absorptivity.\n",
    "\n",
    "If we then **double the CO2 concentration** in the atmosphere, we double the number of absorbers. This should imply that we also **double the absorption cross-section** $\\kappa$. Following the notation from our [lecture on grey-gas radiative transfer](https://brian-rose.github.io/ClimateLaboratoryBook/courseware/radiative-transfer.html#2.-The-Grey-Gas-Model), we have:\n",
    "\n",
    "$$ \\kappa^\\prime = 2 ~ \\kappa $$"
   ]
  },
  {
   "cell_type": "markdown",
   "id": "eaaa466b",
   "metadata": {
    "slideshow": {
     "slide_type": "slide"
    }
   },
   "source": [
    "This would imply that we **double the optical thickness of every layer**:\n",
    "\n",
    "$$ \\Delta \\tau^\\prime  = 2 \\left( -\\frac{\\kappa}{g} \\Delta p \\right) = 2 ~ \\Delta \\tau$$"
   ]
  },
  {
   "cell_type": "markdown",
   "id": "5a5b706c",
   "metadata": {
    "slideshow": {
     "slide_type": "slide"
    }
   },
   "source": [
    "And since [the absorptivity / emissivity of each layer](https://brian-rose.github.io/ClimateLaboratoryBook/courseware/radiative-transfer.html#Emissivity) is\n",
    "\n",
    "$$  \\epsilon = 1 - \\exp\\big( - \\Delta \\tau \\big)  $$\n",
    "\n",
    "the **modified absorptivity** is\n",
    "\n",
    "$$ \\epsilon^\\prime = 1 - \\exp\\big( - 2\\Delta \\tau \\big) = 1 - \\left( \\exp\\big( - \\Delta \\tau \\big)\\right)^2 = 1 - (1-\\epsilon)^2 $$\n",
    "or simply\n",
    "$$ \\epsilon^\\prime = 2 \\epsilon  - \\epsilon^2 $$\n",
    "\n",
    "(Note that $\\epsilon^\\prime = 2 \\epsilon$ for very thin layers, for which $\\epsilon$ is small)."
   ]
  },
  {
   "cell_type": "markdown",
   "id": "b485f29d",
   "metadata": {
    "slideshow": {
     "slide_type": "slide"
    }
   },
   "source": [
    "### What does our 2-layer analytical model then say about the radiative forcing?\n",
    "\n",
    "Recall that [we tuned the two-layer grey gas model](https://brian-rose.github.io/ClimateLaboratoryBook/courseware/elementary-greenhouse.html#4.-Tuning-the-grey-gas-model-to-observations) with\n",
    "\n",
    "$$ \\epsilon = 0.586 $$\n",
    "\n",
    "to get the observed OLR with observed temperatures."
   ]
  },
  {
   "cell_type": "code",
   "execution_count": null,
   "id": "a6272015",
   "metadata": {
    "slideshow": {
     "slide_type": "slide"
    }
   },
   "outputs": [],
   "source": [
    "#  Applying the above formula\n",
    "eps = 0.586\n",
    "print('Doubling a grey gas absorber would change the absorptivity from {:.3} to {:.3}'.format(eps, 2*eps - eps**2))"
   ]
  },
  {
   "cell_type": "markdown",
   "id": "7cf4325f",
   "metadata": {
    "slideshow": {
     "slide_type": "-"
    }
   },
   "source": [
    "**If CO2 behaved like a grey gas**, doubling it would cause a huge increase in the absorptivity of each layer!"
   ]
  },
  {
   "cell_type": "markdown",
   "id": "56317bfc",
   "metadata": {
    "slideshow": {
     "slide_type": "slide"
    }
   },
   "source": [
    "[We previously worked out that the radiative forcing in this model](https://brian-rose.github.io/ClimateLaboratoryBook/courseware/elementary-greenhouse.html#The-radiative-forcing-(change-in-OLR)-depends-on-the-lapse-rate!) (with the observed lapse rate) is about +2.6 W m$^{-2}$ for a 2% increase in $\\epsilon$."
   ]
  },
  {
   "cell_type": "code",
   "execution_count": null,
   "id": "0e121e0d",
   "metadata": {},
   "outputs": [],
   "source": [
    "forcing_rate = 2.6 / 0.02   # W/m2 forcing per fractional increase in epsilon"
   ]
  },
  {
   "cell_type": "markdown",
   "id": "e789f8da",
   "metadata": {},
   "source": [
    "Our hypothetical doubling of \"grey CO$_2$\" yields an increase from 0.586 to 0.829, or more than 40%:"
   ]
  },
  {
   "cell_type": "code",
   "execution_count": null,
   "id": "bcde1778",
   "metadata": {},
   "outputs": [],
   "source": [
    "fractional_increase = (0.829 - 0.586) / 0.586"
   ]
  },
  {
   "cell_type": "markdown",
   "id": "3e0cc564",
   "metadata": {},
   "source": [
    "So roughly speaking, this should yield a radiative forcing 20 times larger than +2.6 W m$^{-2}$:"
   ]
  },
  {
   "cell_type": "code",
   "execution_count": null,
   "id": "ca55f3fd",
   "metadata": {},
   "outputs": [],
   "source": [
    "radiative_forcing = forcing_rate * fractional_increase  # W/m2\n",
    "print(radiative_forcing)"
   ]
  },
  {
   "cell_type": "markdown",
   "id": "350df316",
   "metadata": {},
   "source": [
    "**Our hypothetical doubling of \"grey CO$_2$\" gives a radiative forcing greater than 50 W m$^{-2}$.** \n",
    "\n",
    "This is an absolutely enormous number. Assuming a [net climate feedback of -1.3 W m$^{-2}$ K$^{-1}$](https://brian-rose.github.io/ClimateLaboratoryBook/courseware/sensitivity-feedback.html#7.-Feedbacks-diagnosed-from-complex-climate-models) (consistent with the CMIP5 model ensemble)\n",
    "would then give us a truly astronomical **equilibrium climate sensitivity of 41 K**:"
   ]
  },
  {
   "cell_type": "code",
   "execution_count": null,
   "id": "c01f7a12",
   "metadata": {},
   "outputs": [],
   "source": [
    "lambda_net = -1.3  #  W/m2/K\n",
    "ecs = radiative_forcing / -(lambda_net)  # K\n",
    "print(ecs)"
   ]
  },
  {
   "cell_type": "markdown",
   "id": "a247afcd",
   "metadata": {
    "slideshow": {
     "slide_type": "slide"
    }
   },
   "source": [
    "### Conclusions:\n",
    "\n",
    "1. **If CO2 did behave like a grey gas, we would be toast\\*!** \n",
    "2. The Grey Gas model is insufficient for understanding radiative forcing and feedback.\n",
    "\n",
    "\\* *Phrase borrowed with great respect from [R. Pierrehumbert (2010), Principles of Planetary Climate, Cambridge University Press.](https://geosci.uchicago.edu/~rtp1/PrinciplesPlanetaryClimate/), which is easily to best textbook that exists on this subject.*"
   ]
  },
  {
   "cell_type": "markdown",
   "id": "35fb9a13",
   "metadata": {
    "slideshow": {
     "slide_type": "slide"
    }
   },
   "source": [
    "____________\n",
    "<a id='section2'></a>\n",
    "\n",
    "## 2. Another look at observed spectra\n",
    "____________\n",
    "\n",
    "It's time to move away from the Grey Gas approximation and look more carefully at the actual observed spectra of solar and terrestrial radiation."
   ]
  },
  {
   "cell_type": "markdown",
   "id": "175d4eb4",
   "metadata": {
    "slideshow": {
     "slide_type": "slide"
    }
   },
   "source": [
    "### Observed solar spectra\n",
    "\n",
    "The following figure shows observed spectra of solar radiation at TOA and at the surface, along with the theoretical Planck function for a blackbody at 5525 K."
   ]
  },
  {
   "cell_type": "markdown",
   "id": "cd4aea18",
   "metadata": {},
   "source": [
    "<img src='https://upload.wikimedia.org/wikipedia/commons/e/e7/Solar_spectrum_en.svg'>"
   ]
  },
  {
   "cell_type": "markdown",
   "id": "314a9cab",
   "metadata": {
    "slideshow": {
     "slide_type": "slide"
    }
   },
   "source": [
    "> This figure shows the solar radiation spectrum for direct light at both the top of the Earth's atmosphere and at sea level. The sun produces light with a distribution similar to what would be expected from a 5525 K (5250 °C) blackbody, which is approximately the sun's surface temperature. As light passes through the atmosphere, some is absorbed by gases with specific absorption bands. Additional light is redistributed by Raleigh scattering, which is responsible for the atmosphere's blue color. These curves are based on the American Society for Testing and Materials (ASTM) Terrestrial Reference Spectra, which are standards adopted by the photovoltaics industry to ensure consistent test conditions and are similar to the light that could be expected in North America. Regions for ultraviolet, visible and infrared light are indicated.\n",
    "\n",
    "Source: http://commons.wikimedia.org/wiki/File:Solar_spectrum_en.svg"
   ]
  },
  {
   "cell_type": "markdown",
   "id": "b57608ef",
   "metadata": {
    "slideshow": {
     "slide_type": "slide"
    }
   },
   "source": [
    "- The figure shows that that the incident beam at TOA has the shape of a blackbody radiator. \n",
    "- By the time the beam arrives at the surface, it is strongly depleted at specific wavelengths.\n",
    "- Absorption by O$_3$ (ozone) depletes almost the entire ultraviolet spectrum.\n",
    "- Weaker absorption features, mostly due to H$_2$O, deplete some parts of the near-infrared.\n",
    "- Note that the depletion in the visible band is mostly due to scattering, which depletes the direct beam but contributes diffuse radiation (so we can still see when it's cloudy!)"
   ]
  },
  {
   "cell_type": "markdown",
   "id": "71b74f04",
   "metadata": {
    "slideshow": {
     "slide_type": "slide"
    }
   },
   "source": [
    "### Observed terrestrial spectra\n",
    "\n",
    "This figure shows the Planck function for Earth's surface temperature compared with the spectrum observed from space."
   ]
  },
  {
   "cell_type": "markdown",
   "id": "26e9b109",
   "metadata": {},
   "source": [
    "<img src='../../images/Terrestrial_spectrum.png'>"
   ]
  },
  {
   "cell_type": "markdown",
   "id": "4ff5ddb2",
   "metadata": {},
   "source": [
    "Source: https://www.e-education.psu.edu/earth103/node/671"
   ]
  },
  {
   "cell_type": "markdown",
   "id": "d05e16ee",
   "metadata": {
    "slideshow": {
     "slide_type": "slide"
    }
   },
   "source": [
    "Careful: I'm pretty sure what is plotted here is not the **total** observed spectrum, but rather the part of the **emissions from the surface** that **actual make it out to space**.\n",
    "\n",
    "As we now, the terrestrial beam from the surface is depleted by absorption by many greenhouse gases, but principally CO$_2$ and H$_2$O.\n",
    "\n",
    "However there is a spectral band centered on 10 $\\mu$m in which the greenhouse effect is very weak. This is the so-called **window region** in the spectrum.\n",
    "\n",
    "Since absorption is so strong across most of the rest of the infrared spectrum, this window region is a key determinant of the overall greenhouse effect."
   ]
  },
  {
   "cell_type": "markdown",
   "id": "5c1942f3",
   "metadata": {
    "slideshow": {
     "slide_type": "slide"
    }
   },
   "source": [
    "#### One very big shortcoming of the Grey Gas model: it ignores the window region\n",
    "\n",
    "We would therefore like to start using a model that includes enough spectral information that it represents\n",
    "\n",
    "- the mostly strong CO2 absorption outside the window region\n",
    "- the weak absorption inside the window region"
   ]
  },
  {
   "cell_type": "markdown",
   "id": "f36429c0",
   "metadata": {
    "slideshow": {
     "slide_type": "slide"
    }
   },
   "source": [
    "____________\n",
    "<a id='section3'></a>\n",
    "\n",
    "## 3. Water vapor changes under global warming\n",
    "____________"
   ]
  },
  {
   "cell_type": "markdown",
   "id": "670eaa3b",
   "metadata": {
    "slideshow": {
     "slide_type": "slide"
    }
   },
   "source": [
    "Another big shortcoming of the Grey Gas model is that it cannot represent the **water vapor feedback**.\n",
    "\n",
    "We have seen above that H$_2$O is an important absorber in both longwave and shortwave spectra.\n",
    "\n",
    "We also know that the water vapor load in the atmosphere increases as the climate warms. The primary reason is that the **saturation vapor pressure** increases strongly with temperature."
   ]
  },
  {
   "cell_type": "markdown",
   "id": "c4bc75c5",
   "metadata": {
    "slideshow": {
     "slide_type": "slide"
    }
   },
   "source": [
    "### Evidence from CESM simulations\n",
    "\n",
    "Let's take at changes in the mean water vapor fields in the CESM model after a doubling of CO$_2$"
   ]
  },
  {
   "cell_type": "code",
   "execution_count": null,
   "id": "75abc645",
   "metadata": {
    "slideshow": {
     "slide_type": "-"
    }
   },
   "outputs": [],
   "source": [
    "%matplotlib inline\n",
    "import numpy as np\n",
    "import matplotlib.pyplot as plt\n",
    "import xarray as xr\n",
    "from numpy import cos, deg2rad, log"
   ]
  },
  {
   "cell_type": "code",
   "execution_count": null,
   "id": "60365914",
   "metadata": {},
   "outputs": [],
   "source": [
    "#  Open handles to the data files\n",
    "#  These files are climatologies calculated over the final years of each simulation\n",
    "datapath = \"http://thredds.atmos.albany.edu:8080/thredds/dodsC/CESMA/\"        \n",
    "ctrl = xr.open_dataset(datapath + 'som_1850_f19/clim/som_1850_f19.cam.h0.clim.nc', decode_times=False)\n",
    "co2 = xr.open_dataset(datapath + 'som_1850_2xCO2/clim/som_1850_2xCO2.cam.h0.clim.nc', decode_times=False)"
   ]
  },
  {
   "cell_type": "code",
   "execution_count": null,
   "id": "db4d8979",
   "metadata": {
    "slideshow": {
     "slide_type": "-"
    }
   },
   "outputs": [],
   "source": [
    "#  Plot cross-sections of the following anomalies under 2xCO2:\n",
    "#   - Temperature \n",
    "#   - Specific humidity\n",
    "#   - Relative humidity\n",
    "\n",
    "fig, axes = plt.subplots(1,3, figsize=(16,6))\n",
    "\n",
    "ax = axes[0]\n",
    "CS = ax.contourf(ctrl.lat, ctrl.lev, (co2['T'] - ctrl['T']).mean(dim=('time','lon')), \n",
    "                 levels=np.arange(-11,12,1), cmap=plt.cm.seismic)\n",
    "ax.set_title('Temperature (K)')\n",
    "fig.colorbar(CS, orientation='horizontal', ax=ax)\n",
    "\n",
    "ax = axes[1]\n",
    "CS = ax.contourf(ctrl.lat, ctrl.lev, (co2['Q'] - ctrl['Q']).mean(dim=('time','lon'))*1000,\n",
    "                 levels=np.arange(-3,3.25,0.25), cmap=plt.cm.seismic)\n",
    "ax.set_title('Specific humidity (g/kg)')\n",
    "fig.colorbar(CS, orientation='horizontal', ax=ax)\n",
    "\n",
    "ax = axes[2]\n",
    "CS = ax.contourf(ctrl.lat, ctrl.lev, (co2['RELHUM'] - ctrl['RELHUM']).mean(dim=('time','lon')),\n",
    "                 levels=np.arange(-11,12,1), cmap=plt.cm.seismic)\n",
    "ax.set_title('Relative humidity (%)')\n",
    "fig.colorbar(CS, orientation='horizontal', ax=ax)\n",
    "\n",
    "for ax in axes:\n",
    "    ax.invert_yaxis()\n",
    "    ax.set_xticks([-90, -60, -30, 0, 30, 60, 90]);\n",
    "    ax.set_xlabel('Latitude')\n",
    "    ax.set_ylabel('Pressure')\n",
    "    \n",
    "fig.suptitle('Anomalies for 2xCO2 in CESM slab ocean simulations', fontsize=16);"
   ]
  },
  {
   "cell_type": "markdown",
   "id": "c732eb1f",
   "metadata": {
    "slideshow": {
     "slide_type": "slide"
    }
   },
   "source": [
    "### What do you see here?\n",
    "\n",
    "- Where does the largest warming occur?\n",
    "- Where does the largest moistening occur?"
   ]
  },
  {
   "cell_type": "markdown",
   "id": "c392aac4",
   "metadata": {
    "slideshow": {
     "slide_type": "slide"
    }
   },
   "source": [
    "In fact the specific humidity anomaly has roughly the same shape of the specific humidity field itself -- **it is largest where the temperature is highest**. This is a consequence of the Clausius-Clapeyron relation.\n",
    "\n",
    "The **relative humidity** anomaly is\n",
    "\n",
    "- overall rather small (just a few percent)\n",
    "- Largest in places cold places where the specific humidity is very small."
   ]
  },
  {
   "cell_type": "markdown",
   "id": "d5beba98",
   "metadata": {
    "slideshow": {
     "slide_type": "slide"
    }
   },
   "source": [
    "The smallness of the relative humidity change is a rather remarkable result.\n",
    "\n",
    "This is not something we can derive from first principles. It is an emergent property of the GCMs. However it is a very robust feature of global warming simulations."
   ]
  },
  {
   "cell_type": "markdown",
   "id": "0f27b6eb",
   "metadata": {
    "slideshow": {
     "slide_type": "slide"
    }
   },
   "source": [
    "____________\n",
    "<a id='section4'></a>\n",
    "\n",
    "## 4. A simple water vapor parameterization\n",
    "____________"
   ]
  },
  {
   "cell_type": "markdown",
   "id": "b26ee0c1",
   "metadata": {
    "slideshow": {
     "slide_type": "slide"
    }
   },
   "source": [
    "### A credible climate model needs a water vapor feedback\n",
    "\n",
    "If relative humidity is nearly constant under global warming, and water vapor is a greenhouse gas, this implies a positive feedback that will amplify the warming for a given radiative forcing.\n",
    "\n",
    "Thus far our simple models have ignored this process, and we have not been able to use them to assess the climate sensitivity."
   ]
  },
  {
   "cell_type": "markdown",
   "id": "632e66ab",
   "metadata": {
    "slideshow": {
     "slide_type": "slide"
    }
   },
   "source": [
    "To proceed towards more realistic models, we have two options:\n",
    "\n",
    "- **Simulate** all the evaporation, condensation and transport processes that determine the time-mean water vapor field (as is done in the CESM).\n",
    "- **Parameterize** the dependence of water vapor on temperature by insisting that relative humidity stays constant as the climate changes.\n",
    "\n",
    "We will now explore this second option, so that we can continue to think of the global energy budget under climate change as a process occurring in a single column."
   ]
  },
  {
   "cell_type": "markdown",
   "id": "cdf2a0d1",
   "metadata": {
    "slideshow": {
     "slide_type": "slide"
    }
   },
   "source": [
    "### Manabe's constant relative humidity parameterization\n",
    "\n",
    "We are going to adopt a parameterization first used in a very famous paper:\n",
    "\n",
    "> Manabe, S. and Wetherald, R. T. (1967). Thermal equilibrium of the atmosphere with a given distribution of relative humidity. J. Atmos. Sci., 24(3):241–259.\n",
    "\n",
    "This paper was the first to give a really credible calculation of climate sensitivity to a doubling of CO2 by accounting for the known spectral properties of CO2 and H2O absorption, as well as the water vapor feedback!"
   ]
  },
  {
   "cell_type": "markdown",
   "id": "4c859074",
   "metadata": {
    "slideshow": {
     "slide_type": "slide"
    }
   },
   "source": [
    "The parameterization is very simple:\n",
    "\n",
    "We assume that the relative humidity $r$ is a linear function of pressure $p$:\n",
    "\n",
    "$$ r = r_s \\left( \\frac{p/p_s - 0.02}{1 - 0.02} \\right) $$\n",
    "\n",
    "where $p_s = 1000$ hPa is the surface pressure, and $r_s$ is a prescribed surface value of relative humidity. Manabe and Wetherald set $r_s = 0.77$, but we should consider this a tunable parameter in our parameterization."
   ]
  },
  {
   "cell_type": "markdown",
   "id": "b9c55a2d",
   "metadata": {
    "slideshow": {
     "slide_type": "slide"
    }
   },
   "source": [
    "Since this formula gives a negative number above 20 hPa, we also assume that the **specific humidity** has a minimum value of $0.005$ g/kg (a typical stratospheric value).\n",
    "\n",
    "This formula is implemented in `climlab.radiation.ManabeWaterVapor()`\n",
    "\n",
    "Using this parameterization, the surface and tropospheric specific humidity will always increase as the temperature increases."
   ]
  },
  {
   "cell_type": "markdown",
   "id": "6eafa163",
   "metadata": {
    "slideshow": {
     "slide_type": "slide"
    }
   },
   "source": [
    "____________\n",
    "<a id='section5'></a>\n",
    "\n",
    "## 5. Modeling spectral bands with the `climlab.BandRCModel` process\n",
    "____________"
   ]
  },
  {
   "cell_type": "markdown",
   "id": "81677b3b",
   "metadata": {
    "slideshow": {
     "slide_type": "slide"
    }
   },
   "source": [
    "Here is a brief introduction to the `climlab.BandRCModel` process.\n",
    "\n",
    "This is a model that divides the spectrum into 7 distinct bands: three shortwave and four longwave.\n",
    "\n",
    "As we will see, the process works much like the familiar `climlab.RadiativeConvectiveModel`."
   ]
  },
  {
   "cell_type": "markdown",
   "id": "5e6676d5",
   "metadata": {
    "slideshow": {
     "slide_type": "slide"
    }
   },
   "source": [
    "## About the spectra\n",
    "\n",
    "### Shortwave\n",
    "\n",
    "The shortwave is divided into three channels:\n",
    "\n",
    "- Channel 0 is the Hartley and Huggins band (extreme UV, 200 - 340 nm, 1% of total flux, strong ozone absorption)\n",
    "- Channel 1 is Chappuis band (450 - 800 nm, 27% of total flux, moderate ozone absorption)\n",
    "- Channel 2 is remaining radiation (72% of total flux, largely in the visible range, no ozone absorption)"
   ]
  },
  {
   "cell_type": "markdown",
   "id": "7040434d",
   "metadata": {
    "slideshow": {
     "slide_type": "slide"
    }
   },
   "source": [
    "### Longwave\n",
    "\n",
    "The longwave is divided into four bands:\n",
    "\n",
    "- Band 0 is the **window region** (between 8.5 and 11 $\\mu$m), 17% of total flux.\n",
    "- Band 1 is the CO2 absorption channel (the band of strong absorption by CO2 around 15 $\\mu$m), 15% of total flux\n",
    "- Band 2 is a weak water vapor absorption channel, 35% of total flux\n",
    "- Band 3 is a strong water vapor absorption channel, 33% of total flux\n",
    "\n",
    "The longwave decomposition is not as easily related to specific wavelengths, as in reality there is a lot of overlap between H$_2$O and CO$_2$ absorption features (as well as absorption by other greenhouse gases such as CH$_4$ and N$_2$O that we are not representing)."
   ]
  },
  {
   "cell_type": "markdown",
   "id": "df209f2c",
   "metadata": {
    "slideshow": {
     "slide_type": "slide"
    }
   },
   "source": [
    "### Example usage of the spectral model"
   ]
  },
  {
   "cell_type": "code",
   "execution_count": null,
   "id": "6abb6c7a",
   "metadata": {},
   "outputs": [],
   "source": [
    "import climlab\n",
    "from climlab import constants as const"
   ]
  },
  {
   "cell_type": "markdown",
   "id": "d0169e85",
   "metadata": {},
   "source": [
    "First try a model with all default parameters. Usage is very similar to the familiar `RadiativeConvectiveModel`."
   ]
  },
  {
   "cell_type": "code",
   "execution_count": null,
   "id": "196f82d1",
   "metadata": {},
   "outputs": [],
   "source": [
    "col1 = climlab.BandRCModel()\n",
    "print(col1)"
   ]
  },
  {
   "cell_type": "markdown",
   "id": "0a600322",
   "metadata": {
    "slideshow": {
     "slide_type": "slide"
    }
   },
   "source": [
    "Check out the list of subprocesses.\n",
    "\n",
    "We now have a process called `H2O`, in addition to things we've seen before.\n",
    "\n",
    "The state variables are still just temperatures:"
   ]
  },
  {
   "cell_type": "code",
   "execution_count": null,
   "id": "fe211dcd",
   "metadata": {},
   "outputs": [],
   "source": [
    "col1.state"
   ]
  },
  {
   "cell_type": "markdown",
   "id": "737f577f",
   "metadata": {
    "slideshow": {
     "slide_type": "slide"
    }
   },
   "source": [
    "But the model has a new input field for specific humidity:"
   ]
  },
  {
   "cell_type": "code",
   "execution_count": null,
   "id": "1751d41c",
   "metadata": {},
   "outputs": [],
   "source": [
    "col1.q"
   ]
  },
  {
   "cell_type": "markdown",
   "id": "56c5cd5f",
   "metadata": {
    "slideshow": {
     "slide_type": "slide"
    }
   },
   "source": [
    "The `H2O` process sets the specific humidity field at every timestep to a specified profile, determined by air temperatures. More on that below. For now, let's compute a radiative equilibrium state."
   ]
  },
  {
   "cell_type": "code",
   "execution_count": null,
   "id": "01704505",
   "metadata": {},
   "outputs": [],
   "source": [
    "col1.integrate_years(2)"
   ]
  },
  {
   "cell_type": "code",
   "execution_count": null,
   "id": "0a657c0b",
   "metadata": {},
   "outputs": [],
   "source": [
    "# Check for energy balance\n",
    "col1.ASR - col1.OLR"
   ]
  },
  {
   "cell_type": "code",
   "execution_count": null,
   "id": "adfa0740",
   "metadata": {
    "slideshow": {
     "slide_type": "slide"
    }
   },
   "outputs": [],
   "source": [
    "fig, ax = plt.subplots()\n",
    "ax.plot(col1.Tatm, col1.lev, 'c-', label='default')\n",
    "ax.plot(col1.Ts, climlab.constants.ps, 'co', markersize=16)\n",
    "ax.invert_yaxis()\n",
    "ax.set_xlabel('Temperature (K)', fontsize=16)\n",
    "ax.set_ylabel('Pressure (hPa)', fontsize=16 )\n",
    "ax.set_title('Temperature profiles', fontsize = 18)\n",
    "ax.grid()"
   ]
  },
  {
   "cell_type": "markdown",
   "id": "0ffecf8e",
   "metadata": {
    "slideshow": {
     "slide_type": "slide"
    }
   },
   "source": [
    "By default this model has convective adjustment.  We can set the adjusted lapse rate by passing a parameter when we create the model.\n",
    "\n",
    "The model currently has no ozone (so there is no stratosphere). Not very realistic!"
   ]
  },
  {
   "cell_type": "markdown",
   "id": "c392755e",
   "metadata": {
    "slideshow": {
     "slide_type": "slide"
    }
   },
   "source": [
    "### About the radiatively active gases"
   ]
  },
  {
   "cell_type": "markdown",
   "id": "0b1e81d0",
   "metadata": {},
   "source": [
    "The Band model is aware of three different absorbing gases: O3 (ozone), CO2, and H2O (water vapor). The abundances of these gases are stored in a dictionary of arrays as follows:"
   ]
  },
  {
   "cell_type": "code",
   "execution_count": null,
   "id": "0c04a4ca",
   "metadata": {},
   "outputs": [],
   "source": [
    "col1.absorber_vmr"
   ]
  },
  {
   "cell_type": "markdown",
   "id": "1ce612c9",
   "metadata": {
    "slideshow": {
     "slide_type": "slide"
    }
   },
   "source": [
    "Ozone and CO2 are both specified in the model. The default, as you see above, is zero ozone, and constant (well-mixed) CO2 at a volume mixing ratio of 3.8E-4 or 380 ppm."
   ]
  },
  {
   "cell_type": "markdown",
   "id": "63a8f233",
   "metadata": {
    "slideshow": {
     "slide_type": "slide"
    }
   },
   "source": [
    "Water vapor is handled differently: it is determined by the model at each timestep. We make the following assumptions, following a classic paper on radiative-convective equilibrium by Manabe and Wetherald (J. Atmos. Sci. 1967):\n",
    "\n",
    "- the relative humidity just above the surface is fixed at 77% (can be changed of course... see the parameter `col1.relative_humidity`\n",
    "- water vapor drops off linearly with pressure\n",
    "- there is a small specified amount of water vapor in the stratosphere."
   ]
  },
  {
   "cell_type": "markdown",
   "id": "96c4d795",
   "metadata": {
    "slideshow": {
     "slide_type": "slide"
    }
   },
   "source": [
    "## Putting in some ozone"
   ]
  },
  {
   "cell_type": "markdown",
   "id": "d55ba0ef",
   "metadata": {},
   "source": [
    "We need to provide some ozone data to the model in order to simulate a stratosphere. We will read in some ozone data just as we did in [the previous lecture on grey-gas modeling in climlab](https://brian-rose.github.io/ClimateLaboratoryBook/courseware/grey-radiation-climlab.html#8.-Putting-stratospheric-ozone-in-the-grey-gas-model)."
   ]
  },
  {
   "cell_type": "code",
   "execution_count": null,
   "id": "106dc1f9",
   "metadata": {},
   "outputs": [],
   "source": [
    "ozone = xr.open_dataset( datapath + 'som_input/ozone_1.9x2.5_L26_2000clim_c091112.nc')"
   ]
  },
  {
   "cell_type": "code",
   "execution_count": null,
   "id": "7657b764",
   "metadata": {
    "slideshow": {
     "slide_type": "slide"
    }
   },
   "outputs": [],
   "source": [
    "#  Take global (area-weighted) and annual average\n",
    "weight_ozone = cos(deg2rad(ozone.lat)) / cos(deg2rad(ozone.lat)).mean(dim='lat')\n",
    "O3_global = (ozone.O3 * weight_ozone).mean(dim=('lat','lon','time'))\n",
    "print(O3_global)"
   ]
  },
  {
   "cell_type": "code",
   "execution_count": null,
   "id": "1b75ba91",
   "metadata": {
    "slideshow": {
     "slide_type": "slide"
    }
   },
   "outputs": [],
   "source": [
    "fig, ax = plt.subplots()\n",
    "ax.plot( O3_global*1E6, ozone.lev)\n",
    "ax.invert_yaxis()\n",
    "ax.set_xlabel('Ozone (ppm)', fontsize=16)\n",
    "ax.set_ylabel('Pressure (hPa)', fontsize=16 )\n",
    "ax.set_title('Global, annual mean ozone concentration', fontsize = 16);"
   ]
  },
  {
   "cell_type": "markdown",
   "id": "d6d4f236",
   "metadata": {
    "slideshow": {
     "slide_type": "slide"
    }
   },
   "source": [
    "We are going to create another instance of the model, this time using the same vertical coordinates as the ozone data."
   ]
  },
  {
   "cell_type": "code",
   "execution_count": null,
   "id": "c9a71136",
   "metadata": {},
   "outputs": [],
   "source": [
    "#  Create the column with appropriate vertical coordinate, surface albedo and convective adjustment\n",
    "col2 = climlab.BandRCModel(lev=ozone.lev)\n",
    "print( col2)"
   ]
  },
  {
   "cell_type": "code",
   "execution_count": null,
   "id": "d4990a68",
   "metadata": {
    "slideshow": {
     "slide_type": "slide"
    }
   },
   "outputs": [],
   "source": [
    "#  Set the ozone mixing ratio\n",
    "col2.absorber_vmr['O3'] = O3_global.values"
   ]
  },
  {
   "cell_type": "code",
   "execution_count": null,
   "id": "fa6d442b",
   "metadata": {},
   "outputs": [],
   "source": [
    "#  Run the model out to equilibrium!\n",
    "col2.integrate_years(2.)"
   ]
  },
  {
   "cell_type": "code",
   "execution_count": null,
   "id": "b3ba586b",
   "metadata": {
    "slideshow": {
     "slide_type": "slide"
    }
   },
   "outputs": [],
   "source": [
    "fig, ax = plt.subplots()\n",
    "ax.plot( col1.Tatm, np.log(col1.lev/1000), 'c-', label='RCE' )\n",
    "ax.plot( col1.Ts, 0, 'co', markersize=16 )\n",
    "ax.plot(col2.Tatm, np.log(col2.lev/1000), 'r-', label='RCE O3' )\n",
    "ax.plot(col2.Ts, 0, 'ro', markersize=16 )\n",
    "ax.invert_yaxis()\n",
    "ax.set_xlabel('Temperature (K)', fontsize=16)\n",
    "ax.set_ylabel('log(Pressure)', fontsize=16 )\n",
    "ax.set_title('Temperature profiles', fontsize = 18)\n",
    "ax.grid(); ax.legend()"
   ]
  },
  {
   "cell_type": "markdown",
   "id": "c5e5fc7a",
   "metadata": {
    "slideshow": {
     "slide_type": "slide"
    }
   },
   "source": [
    "Once we include ozone we get a well-defined stratosphere. \n",
    "\n",
    "Things to consider / try:\n",
    "\n",
    "- Here we used the global annual mean Q = 341.3 W m$^{-2}$. We might want to consider latitudinal or seasonal variations in Q.\n",
    "- We also used the global annual mean ozone profile! Ozone varies tremendously in latitude and by season. That information is all contained in the ozone data file we opened above. We might explore the effects of those variations.\n",
    "- We can calculate climate sensitivity in this model by doubling the CO2 concentration and re-running out to the new equilibrium. Does the amount of ozone affect the climate sensitivity?  (example below)\n",
    "- An important shortcoming of the model: there are no clouds! (that would be the next step in the hierarchy of column models)\n",
    "- Clouds would act both in the shortwave (increasing the albedo, cooling the climate) and in the longwave (greenhouse effect, warming the climate). Which effect is stronger depends on the vertical structure of the clouds (high or low clouds) and their optical properties (e.g. thin cirrus clouds are nearly transparent to solar radiation but are good longwave absorbers)."
   ]
  },
  {
   "cell_type": "code",
   "execution_count": null,
   "id": "9b275e23",
   "metadata": {
    "slideshow": {
     "slide_type": "slide"
    }
   },
   "outputs": [],
   "source": [
    "col3 = climlab.process_like(col2)\n",
    "print( col3)"
   ]
  },
  {
   "cell_type": "code",
   "execution_count": null,
   "id": "caa3c4e6",
   "metadata": {},
   "outputs": [],
   "source": [
    "# Let's double CO2.\n",
    "col3.absorber_vmr['CO2'] *= 2."
   ]
  },
  {
   "cell_type": "code",
   "execution_count": null,
   "id": "9315301e",
   "metadata": {},
   "outputs": [],
   "source": [
    "col3.compute_diagnostics()\n",
    "print( 'The radiative forcing for doubling CO2 is %f W/m2.' % (col2.diagnostics['OLR'] - col3.diagnostics['OLR']))"
   ]
  },
  {
   "cell_type": "code",
   "execution_count": null,
   "id": "e60c073e",
   "metadata": {
    "slideshow": {
     "slide_type": "slide"
    }
   },
   "outputs": [],
   "source": [
    "col3.integrate_years(3)"
   ]
  },
  {
   "cell_type": "code",
   "execution_count": null,
   "id": "4ea5acc3",
   "metadata": {},
   "outputs": [],
   "source": [
    "col3.ASR - col3.OLR"
   ]
  },
  {
   "cell_type": "code",
   "execution_count": null,
   "id": "116c093a",
   "metadata": {},
   "outputs": [],
   "source": [
    "print( 'The Equilibrium Climate Sensitivity is %f K.' % (col3.Ts - col2.Ts))"
   ]
  },
  {
   "cell_type": "code",
   "execution_count": null,
   "id": "b2740dba",
   "metadata": {
    "slideshow": {
     "slide_type": "slide"
    }
   },
   "outputs": [],
   "source": [
    "#  An example with no ozone\n",
    "col4 = climlab.process_like(col1)\n",
    "print( col4)"
   ]
  },
  {
   "cell_type": "code",
   "execution_count": null,
   "id": "aac8c99f",
   "metadata": {},
   "outputs": [],
   "source": [
    "col4.absorber_vmr['CO2'] *= 2.\n",
    "col4.compute_diagnostics()\n",
    "print( 'The radiative forcing for doubling CO2 is %f W/m2.' % (col1.OLR - col4.OLR))"
   ]
  },
  {
   "cell_type": "code",
   "execution_count": null,
   "id": "61bda0b2",
   "metadata": {
    "slideshow": {
     "slide_type": "slide"
    }
   },
   "outputs": [],
   "source": [
    "col4.integrate_years(3.)\n",
    "col4.ASR - col4.OLR"
   ]
  },
  {
   "cell_type": "code",
   "execution_count": null,
   "id": "f15968e9",
   "metadata": {},
   "outputs": [],
   "source": [
    "print( 'The Equilibrium Climate Sensitivity is %f K.' % (col4.Ts - col1.Ts))"
   ]
  },
  {
   "cell_type": "markdown",
   "id": "77314a48",
   "metadata": {},
   "source": [
    "Interesting that the model is MORE sensitive when ozone is set to zero."
   ]
  },
  {
   "cell_type": "markdown",
   "id": "8cc45ba5",
   "metadata": {
    "slideshow": {
     "slide_type": "skip"
    }
   },
   "source": [
    "____________\n",
    "\n",
    "## Credits\n",
    "\n",
    "This notebook is part of [The Climate Laboratory](https://brian-rose.github.io/ClimateLaboratoryBook), an open-source textbook developed and maintained by [Brian E. J. Rose](http://www.atmos.albany.edu/facstaff/brose/index.html), University at Albany.\n",
    "\n",
    "It is licensed for free and open consumption under the\n",
    "[Creative Commons Attribution 4.0 International (CC BY 4.0)](https://creativecommons.org/licenses/by/4.0/) license.\n",
    "\n",
    "Development of these notes and the [climlab software](https://github.com/brian-rose/climlab) is partially supported by the National Science Foundation under award AGS-1455071 to Brian Rose. Any opinions, findings, conclusions or recommendations expressed here are mine and do not necessarily reflect the views of the National Science Foundation.\n",
    "____________"
   ]
  },
  {
   "cell_type": "code",
   "execution_count": null,
   "id": "506590e5",
   "metadata": {
    "slideshow": {
     "slide_type": "skip"
    }
   },
   "outputs": [],
   "source": []
  }
 ],
 "metadata": {
  "jupytext": {
   "text_representation": {
    "extension": ".md",
    "format_name": "myst",
    "format_version": 0.12,
    "jupytext_version": "1.6.0"
   }
  },
  "kernelspec": {
   "display_name": "Python 3",
   "language": "python",
   "name": "python3"
  },
  "source_map": [
   14,
   21,
   29,
   37,
   43,
   57,
   67,
   77,
   81,
   85,
   87,
   91,
   93,
   97,
   100,
   107,
   113,
   122,
   132,
   138,
   142,
   148,
   156,
   162,
   166,
   170,
   180,
   189,
   197,
   205,
   211,
   223,
   231,
   270,
   277,
   286,
   292,
   300,
   308,
   317,
   327,
   337,
   345,
   353,
   361,
   375,
   388,
   392,
   395,
   399,
   404,
   412,
   416,
   420,
   424,
   428,
   432,
   437,
   452,
   458,
   462,
   466,
   470,
   474,
   482,
   486,
   490,
   494,
   505,
   518,
   522,
   528,
   537,
   542,
   559,
   571,
   580,
   585,
   590,
   598,
   602,
   606,
   616,
   622,
   631,
   633,
   637,
   651
  ]
 },
 "nbformat": 4,
 "nbformat_minor": 5
}