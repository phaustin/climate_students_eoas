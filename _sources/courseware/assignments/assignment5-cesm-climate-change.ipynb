{
 "cells": [
  {
   "cell_type": "markdown",
   "id": "987a7e82",
   "metadata": {},
   "source": [
    "(nb:aclimchange)=\n",
    "# Assignment: Climate change in the CESM simulations\n",
    "\n",
    "This notebook is part of [The Climate Laboratory](https://brian-rose.github.io/ClimateLaboratoryBook) by [Brian E. J. Rose](http://www.atmos.albany.edu/facstaff/brose/index.html), University at Albany."
   ]
  },
  {
   "cell_type": "markdown",
   "id": "ef15fb83",
   "metadata": {},
   "source": [
    "## Part 1\n",
    "\n",
    "Following the examples in the [lecture notes](https://brian-rose.github.io/ClimateLaboratoryBook/courseware/transient-cesm.html), open the four CESM simulations (fully coupled and slab ocean versions). \n",
    "\n",
    "Calculate timeseries of **global mean ASR and OLR** and store each of these as a new variable. *Recall that ASR is called `FSNT` in the CESM output, and OLR is called `FLNT`.*\n",
    "\n",
    "Plot a timeseries of **(ASR - OLR), the net downward energy flux at the top of the model**, along with a **12 month rolling mean**, analogous to the plot of global mean surface air temperature in the lecture notes.  \n",
    "\n",
    "*Note that the rolling mean is important here because, just like with surface air temperature, there is a large seasonal cycle which makes it harder to see evidence of the climate change signal we wish to focus on.*"
   ]
  },
  {
   "cell_type": "code",
   "execution_count": null,
   "id": "dab111a0",
   "metadata": {},
   "outputs": [],
   "source": []
  },
  {
   "cell_type": "markdown",
   "id": "d11f2ecf",
   "metadata": {},
   "source": [
    "## Part 2\n",
    "\n",
    "Calculate and show the **time-average ASR** and **time-average OLR** over the final 10 or 20 years of each simulation. Following the lecture notes, use the 20-year slice for the fully coupled simulations, and the 10-year slice for the slab ocean simulations."
   ]
  },
  {
   "cell_type": "code",
   "execution_count": null,
   "id": "9750ea94",
   "metadata": {},
   "outputs": [],
   "source": []
  },
  {
   "cell_type": "markdown",
   "id": "89707c15",
   "metadata": {},
   "source": [
    "## Part 3\n",
    "\n",
    "Based on your plots and numerical results from Parts 1 and 2, answer these questions:\n",
    "\n",
    "1. Are the two control simulations (fully coupled and slab ocean) near energy balance?\n",
    "2. In the fully coupled CO2 ramp simulation, does the energy imbalance (ASR-OLR) increase or decrease with time? What is the imbalance at the end of the 80 year simulation?\n",
    "3. Answer the same questions for the slab ocean abrupt 2xCO2 simulation.\n",
    "4. Explain in words why the timeseries of ASR-OLR look very different in the fully coupled simulation (1%/year CO2 ramp) versus the slab ocean simulation (abrupt 2xCO2). *Think about both the different radiative forcings and the different ocean heat capacities.*"
   ]
  },
  {
   "cell_type": "code",
   "execution_count": null,
   "id": "c6061ac6",
   "metadata": {},
   "outputs": [],
   "source": []
  },
  {
   "cell_type": "markdown",
   "id": "6ec33a47",
   "metadata": {},
   "source": [
    "## Part 4\n",
    "\n",
    "Does the global average ASR **increase** or **decrease** because of CO2-driven warming in the CESM? \n",
    "\n",
    "Would you describe this as a **positive** or **negative** feedback?"
   ]
  },
  {
   "cell_type": "code",
   "execution_count": null,
   "id": "2fcae33a",
   "metadata": {},
   "outputs": [],
   "source": []
  },
  {
   "cell_type": "markdown",
   "id": "a4fe20ec",
   "metadata": {},
   "source": [
    "## Part 5\n",
    "\n",
    "In the previous question you looked at the global average change in ASR. Now I want you to look at how different parts of the world contribute to this change.\n",
    "\n",
    "**Make a map** of the **change in ASR** due to the CO2 forcing. Use the average over the last 20 years of the coupled CO2 ramp simulation, comparing against the average over the last 20 years of the control simulation."
   ]
  },
  {
   "cell_type": "code",
   "execution_count": null,
   "id": "16b298dd",
   "metadata": {},
   "outputs": [],
   "source": []
  },
  {
   "cell_type": "markdown",
   "id": "31a7929a",
   "metadata": {},
   "source": [
    "## Part 6\n",
    "\n",
    "Repeat part 5, but this time instead of the change in ASR, look at the just change in the **clear-sky** component of ASR. You can find this in the output field called `FSNTC`.\n",
    "\n",
    "*The `FSNTC` field shows shortwave absorption in the absence of clouds, so the **change** in `FSNTC` shows how absorption and reflection of shortwave are affected by processes other than clouds.*"
   ]
  },
  {
   "cell_type": "code",
   "execution_count": null,
   "id": "0fadd93d",
   "metadata": {},
   "outputs": [],
   "source": []
  },
  {
   "cell_type": "markdown",
   "id": "3c856503",
   "metadata": {},
   "source": [
    "## Part 7\n",
    "\n",
    "Discussion:\n",
    "\n",
    "- Do your two maps (change in ASR, change in clear-sky ASR) look the same? \n",
    "- Offer some ideas about why the clear-sky map looks the way it does.\n",
    "- Comment on anything interesting, unusual or surprising you found in the maps."
   ]
  },
  {
   "cell_type": "code",
   "execution_count": null,
   "id": "5b0bd7ab",
   "metadata": {},
   "outputs": [],
   "source": []
  },
  {
   "cell_type": "markdown",
   "id": "46b756ac",
   "metadata": {},
   "source": [
    "____________\n",
    "\n",
    "## Credits\n",
    "\n",
    "This notebook is part of [The Climate Laboratory](https://brian-rose.github.io/ClimateLaboratoryBook), an open-source textbook developed and maintained by [Brian E. J. Rose](http://www.atmos.albany.edu/facstaff/brose/index.html), University at Albany.\n",
    "\n",
    "It is licensed for free and open consumption under the\n",
    "[Creative Commons Attribution 4.0 International (CC BY 4.0)](https://creativecommons.org/licenses/by/4.0/) license.\n",
    "\n",
    "Development of these notes and the [climlab software](https://github.com/brian-rose/climlab) is partially supported by the National Science Foundation under award AGS-1455071 to Brian Rose. Any opinions, findings, conclusions or recommendations expressed here are mine and do not necessarily reflect the views of the National Science Foundation.\n",
    "____________"
   ]
  },
  {
   "cell_type": "code",
   "execution_count": null,
   "id": "0451f020",
   "metadata": {},
   "outputs": [],
   "source": []
  }
 ],
 "metadata": {
  "jupytext": {
   "text_representation": {
    "extension": ".md",
    "format_name": "myst",
    "format_version": 0.12,
    "jupytext_version": "1.6.0"
   }
  },
  "kernelspec": {
   "display_name": "Python 3",
   "language": "python",
   "name": "python3"
  },
  "source_map": [
   12,
   18,
   30,
   32,
   38,
   40,
   51,
   53,
   61,
   63,
   71,
   73,
   81,
   83,
   93,
   95,
   109
  ]
 },
 "nbformat": 4,
 "nbformat_minor": 5
}