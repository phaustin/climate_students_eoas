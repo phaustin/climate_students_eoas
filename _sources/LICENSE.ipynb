{
 "cells": [
  {
   "cell_type": "markdown",
   "id": "96c107a8",
   "metadata": {},
   "source": [
    "# License for this book\n",
    "\n",
    "All content in this book (ie, any files and content in the `content/` folder)\n",
    "is licensed under the [Creative Commons Attribution 4.0 International](https://creativecommons.org/licenses/by/4.0/)\n",
    "(CC BY 4.0) license."
   ]
  }
 ],
 "metadata": {
  "jupytext": {
   "cell_metadata_filter": "-all",
   "formats": "md:myst",
   "text_representation": {
    "extension": ".md",
    "format_name": "myst",
    "format_version": 0.12,
    "jupytext_version": "1.6.0"
   }
  },
  "kernelspec": {
   "display_name": "Python 3",
   "language": "python",
   "name": "python3"
  },
  "source_map": [
   14
  ]
 },
 "nbformat": 4,
 "nbformat_minor": 5
}