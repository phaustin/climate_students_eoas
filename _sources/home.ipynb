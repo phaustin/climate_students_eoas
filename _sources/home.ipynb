{
 "cells": [
  {
   "cell_type": "markdown",
   "id": "50f1c04a",
   "metadata": {},
   "source": [
    "# The Climate Laboratory\n",
    "\n",
    "***A hands-on approach to climate physics and climate modeling***\n",
    "\n",
    "**By [Brian E. J. Rose][brian], University at Albany**\n",
    "\n",
    "This will evolve into the textbook for both\n",
    "[ENV 415: Climate Laboratory][env415] and [ATM 623: Climate Modeling][atm623]\n",
    "at the [University at Albany][ualbany].\n",
    "\n",
    "This book is powered by [JupyterBook][jupyterbook],\n",
    "and aims to be all of the following:\n",
    "- **self-reproducing** *(most figures are self-generating in the notebooks)*\n",
    "- **free** and **open** *(permissive license, sources and content available through github)*\n",
    "- **interactive** *(integration with JupyterHub and Binder will allow readers to run and modify code examples)*\n",
    "- a **living document** *(content will continue to evolve, and collaboration is welcome)*\n",
    "\n",
    "[To view the book online, go here][book].\n",
    "\n",
    "The JupyterBook source and all book content (mostly [Jupyter Notebook][notebook] files)\n",
    "are all in [this github repository][repo].\n",
    "\n",
    "Much of the content is made possible by [climlab][climlab], an open-source\n",
    "Python toolkit for interactive, process-oriented climate modeling.\n",
    "[Brian Rose][brian] is the principle developer of climlab as well as the author of this book.\n",
    "\n",
    "The contents of this book are licensed for free and open consumption under the\n",
    "[Creative Commons Attribution 4.0 International (CC BY 4.0)](https://creativecommons.org/licenses/by/4.0/)\n",
    "license.\n",
    "\n",
    "[brian]: http://www.atmos.albany.edu/facstaff/brose/index.html\n",
    "[env415]: http://www.atmos.albany.edu/facstaff/brose/classes/ENV415_Spring2018/\n",
    "[atm623]: http://www.atmos.albany.edu/facstaff/brose/classes/ATM623_Spring2019/\n",
    "[ualbany]: https://www.albany.edu\n",
    "[about]: /about\n",
    "[jupyterbook]: https://jupyterbook.org\n",
    "[climlab]: https://github.com/brian-rose/climlab\n",
    "[book]: https://brian-rose.github.io/ClimateLaboratoryBook/\n",
    "[repo]: https://github.com/brian-rose/ClimateLaboratoryBook\n",
    "[notebook]: https://jupyter-notebook.readthedocs.io/en/stable/"
   ]
  }
 ],
 "metadata": {
  "jupytext": {
   "cell_metadata_filter": "-all",
   "formats": "md:myst",
   "text_representation": {
    "extension": ".md",
    "format_name": "myst",
    "format_version": 0.12,
    "jupytext_version": "1.6.0"
   }
  },
  "kernelspec": {
   "display_name": "Python 3",
   "language": "python",
   "name": "python3"
  },
  "source_map": [
   14
  ]
 },
 "nbformat": 4,
 "nbformat_minor": 5
}