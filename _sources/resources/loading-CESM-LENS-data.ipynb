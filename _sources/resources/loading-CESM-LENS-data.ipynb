{
 "cells": [
  {
   "cell_type": "markdown",
   "id": "d8c8b51c",
   "metadata": {
    "user_expressions": []
   },
   "source": [
    "(resource:intake_esm_LENS)=\n",
    "# Accessing CESM LENS (and LENS2) data with intake-esm\n",
    "\n",
    "Preliminary:  You'll need to install `intake-esm`, `xarray-datatree`, and `s3fs` into \n",
    "\n",
    "```\n",
    "mamba install -c conda-forge intake-esm\n",
    "mamba install -c conda-forge xarray-datatree\n",
    "mamba install -c conda-forge s3fs\n",
    "```\n",
    "\n",
    "This notebook demonstrates how to access Google Cloud CMIP6 data using intake-esm.\n",
    "\n",
    "Intake-esm is a data cataloging utility built on top of intake, pandas, and\n",
    "xarray. Intake-esm aims to facilitate:\n",
    "\n",
    "- the discovery of earth’s climate and weather datasets.\n",
    "- the ingestion of these datasets into xarray dataset containers.\n",
    "\n",
    "It's basic usage is shown below. To begin, let's import `intake`:"
   ]
  },
  {
   "cell_type": "code",
   "execution_count": null,
   "id": "97fe0edc",
   "metadata": {},
   "outputs": [],
   "source": [
    "import intake\n",
    "import xarray as xr"
   ]
  },
  {
   "cell_type": "markdown",
   "id": "a2b383b0",
   "metadata": {
    "user_expressions": []
   },
   "source": [
    "## Load the catalog - CESM LENS1\n",
    "\n",
    "At import time, intake-esm plugin is available in intake’s registry as\n",
    "`esm_datastore` and can be accessed with `intake.open_esm_datastore()` function.\n",
    "Use the `intake_esm.tutorial.get_url()` method to access smaller subsetted catalogs for tutorial purposes."
   ]
  },
  {
   "cell_type": "code",
   "execution_count": null,
   "id": "025b1a08",
   "metadata": {},
   "outputs": [],
   "source": [
    "import intake_esm\n",
    "#url = intake_esm.tutorial.get_url('google_cmip6')\n",
    "#print(url)\n",
    "# If you want CESM LENS1:\n",
    "url =\"https://raw.githubusercontent.com/NCAR/cesm-lens-aws/main/intake-catalogs/aws-cesm1-le.json\"\n",
    "\n",
    "# If you want CESM LENS2:\n",
    "#url = \"https://raw.githubusercontent.com/NCAR/cesm2-le-aws/main/intake-catalogs/aws-cesm2-le.json\""
   ]
  },
  {
   "cell_type": "code",
   "execution_count": null,
   "id": "e4695fbe",
   "metadata": {},
   "outputs": [],
   "source": [
    "cat = intake.open_esm_datastore(url)\n",
    "cat"
   ]
  },
  {
   "cell_type": "markdown",
   "id": "5fc350ae",
   "metadata": {
    "user_expressions": []
   },
   "source": [
    "The summary above tells us that this catalog contains 442 data assets (for CESM LENS1).\n",
    "We can get more information on the individual data assets contained in the\n",
    "catalog by looking at the underlying dataframe created when we load the catalog:"
   ]
  },
  {
   "cell_type": "code",
   "execution_count": null,
   "id": "047d839a",
   "metadata": {},
   "outputs": [],
   "source": [
    "cat.df"
   ]
  },
  {
   "cell_type": "markdown",
   "id": "561ab902",
   "metadata": {
    "user_expressions": []
   },
   "source": [
    "The first data asset listed in the catalog contains:\n",
    "\n",
    "- the net longwave flux at the surface (variable_id='FLNS'), on daily timescales, from 1920-01-01 to 2005-12-31. \n",
    "\n",
    "\n",
    "## Finding unique entries\n",
    "\n",
    "To get unique values for given columns in the catalog, intake-esm provides a\n",
    "{py:meth}`~intake_esm.core.esm_datastore.unique` method:\n",
    "\n",
    "Let's query the data catalog to see what models(`source_id`), experiments\n",
    "(`experiment_id`) and temporal frequencies (`table_id`) are available."
   ]
  },
  {
   "cell_type": "code",
   "execution_count": null,
   "id": "926bb0a6",
   "metadata": {},
   "outputs": [],
   "source": [
    "unique = cat.unique()\n",
    "unique"
   ]
  },
  {
   "cell_type": "code",
   "execution_count": null,
   "id": "9dfa8b90",
   "metadata": {},
   "outputs": [],
   "source": [
    "# Let's look at the different variables that are available:\n",
    "unique['variable']"
   ]
  },
  {
   "cell_type": "code",
   "execution_count": null,
   "id": "01f3c3d4",
   "metadata": {},
   "outputs": [],
   "source": [
    "# If you don't know the shorthand for the variable you're interested in, we can look \n",
    "# at the \"long_name\" instead, which is a more descriptive version of the variable name:\n",
    "unique['long_name']"
   ]
  },
  {
   "cell_type": "code",
   "execution_count": null,
   "id": "009b5b59",
   "metadata": {},
   "outputs": [],
   "source": [
    "# Let's look at the different experiments that are available:\n",
    "unique['experiment']"
   ]
  },
  {
   "cell_type": "markdown",
   "id": "83eef7af",
   "metadata": {
    "user_expressions": []
   },
   "source": [
    "## Search for specific datasets\n",
    "\n",
    "The {py:meth}`~intake_esm.core.esm_datastore.search` method allows the user to\n",
    "perform a query on a catalog using keyword arguments. The keyword argument names\n",
    "must match column names in the catalog. The search method returns a\n",
    "subset of the catalog with all the entries that match the provided query.\n",
    "\n",
    "In the example below, we are are going to search for the following:\n",
    "\n",
    "- long_name: `sea level pressure` which stands for\n",
    "- experiments: ['CTRL','20C', 'HIST','RCP85']:\n",
    "  - 20C: all forcing of the recent past (20th century).\n",
    "  - RCP85: emission-driven RCP8.5."
   ]
  },
  {
   "cell_type": "code",
   "execution_count": null,
   "id": "52239dd9",
   "metadata": {},
   "outputs": [],
   "source": [
    "cat_subset = cat.search(\n",
    "    experiment=[\"CTRL\",\"20C\",\"HIST\", \"RCP85\"],\n",
    "    long_name=\"sea level pressure\",\n",
    ")\n",
    "\n",
    "cat_subset"
   ]
  },
  {
   "cell_type": "code",
   "execution_count": null,
   "id": "4a022db5",
   "metadata": {},
   "outputs": [],
   "source": [
    "cat_subset.df"
   ]
  },
  {
   "cell_type": "markdown",
   "id": "fe1509c0",
   "metadata": {},
   "source": [
    "We can see that sea level pressure uses the variable name 'PSL' ('pressure sea level'). We can also see that this variable is available on 3 different time frequencies: daily, 6-hourly (hourly6) and monthly averages"
   ]
  },
  {
   "cell_type": "markdown",
   "id": "b68db682",
   "metadata": {},
   "source": [
    "## Explore the catalog - CESM LENS2"
   ]
  },
  {
   "cell_type": "code",
   "execution_count": null,
   "id": "11705be6",
   "metadata": {},
   "outputs": [],
   "source": [
    "url2 = \"https://raw.githubusercontent.com/NCAR/cesm2-le-aws/main/intake-catalogs/aws-cesm2-le.json\"\n",
    "cat2 = intake.open_esm_datastore(url2)\n",
    "cat2"
   ]
  },
  {
   "cell_type": "code",
   "execution_count": null,
   "id": "35c8706e",
   "metadata": {},
   "outputs": [],
   "source": [
    "cat2.df"
   ]
  },
  {
   "cell_type": "code",
   "execution_count": null,
   "id": "1054e631",
   "metadata": {},
   "outputs": [],
   "source": [
    "unique2 = cat2.unique()\n",
    "unique2"
   ]
  },
  {
   "cell_type": "code",
   "execution_count": null,
   "id": "f5d24365",
   "metadata": {},
   "outputs": [],
   "source": [
    "# If you don't know the shorthand for the variable you're interested in, we can look \n",
    "# at the \"long_name\" instead, which is a more descriptive version of the variable name:\n",
    "unique2['long_name']"
   ]
  },
  {
   "cell_type": "code",
   "execution_count": null,
   "id": "177b274e",
   "metadata": {},
   "outputs": [],
   "source": [
    "cat_subset2 = cat2.search(\n",
    "    experiment=[\"historical\",\"ssp370\"],\n",
    "    long_name=\"sea level pressure\",\n",
    ")\n",
    "\n",
    "cat_subset2"
   ]
  },
  {
   "cell_type": "markdown",
   "id": "fdbd1672",
   "metadata": {
    "user_expressions": []
   },
   "source": [
    "## Load datasets using `to_dataset_dict()`\n",
    "\n",
    "Intake-esm implements convenience utilities for loading the query results into\n",
    "higher level xarray datasets. The logic for merging/concatenating the query\n",
    "results into higher level xarray datasets is provided in the input JSON file and\n",
    "is available under `.aggregation_info` property of the catalog:"
   ]
  },
  {
   "cell_type": "code",
   "execution_count": null,
   "id": "b1da4713",
   "metadata": {},
   "outputs": [],
   "source": [
    "cat.esmcat.aggregation_control"
   ]
  },
  {
   "cell_type": "markdown",
   "id": "37097d4e",
   "metadata": {
    "user_expressions": []
   },
   "source": [
    "To load data assets into xarray datasets, we need to use the\n",
    "{py:meth}`~intake_esm.core.esm_datastore.to_dataset_dict` method. This method\n",
    "returns a dictionary of aggregate xarray datasets as the name hints."
   ]
  },
  {
   "cell_type": "code",
   "execution_count": null,
   "id": "f1b37ef1",
   "metadata": {},
   "outputs": [],
   "source": [
    "# For loading CESM LENS1:\n",
    "dset_dict = cat_subset.to_dataset_dict(zarr_kwargs={\"consolidated\": True}, storage_options={\"anon\": True})"
   ]
  },
  {
   "cell_type": "code",
   "execution_count": null,
   "id": "fcae4619",
   "metadata": {},
   "outputs": [],
   "source": [
    "[key for key in dset_dict.keys()][:10]"
   ]
  },
  {
   "cell_type": "markdown",
   "id": "77b332a0",
   "metadata": {
    "user_expressions": []
   },
   "source": [
    "We can access a particular dataset as follows:"
   ]
  },
  {
   "cell_type": "code",
   "execution_count": null,
   "id": "079276c3",
   "metadata": {},
   "outputs": [],
   "source": [
    "ds = dset_dict[\"atm.20C.monthly\"]\n",
    "ds"
   ]
  },
  {
   "cell_type": "markdown",
   "id": "d5216259",
   "metadata": {},
   "source": [
    "We can see that there are 40 different ensemble members (as we expect for CESM LENS1)"
   ]
  },
  {
   "cell_type": "markdown",
   "id": "f104e240",
   "metadata": {
    "user_expressions": []
   },
   "source": [
    "Let’s create a quick plot for a slice of the data for a subset of the ensemble members"
   ]
  },
  {
   "cell_type": "code",
   "execution_count": null,
   "id": "a8cf44f0",
   "metadata": {},
   "outputs": [],
   "source": [
    "ds.PSL.isel(time=0, member_id=range(1, 40, 4)).plot(col=\"member_id\", col_wrap=3, robust=True)"
   ]
  },
  {
   "cell_type": "code",
   "execution_count": null,
   "id": "5c2df585",
   "metadata": {},
   "outputs": [],
   "source": [
    "# Let's look at how sea level pressure has changed over time in different ensemble member, \n",
    "# for a grid box close to Vancouer \n",
    "for iens in range(1,40,4): # only selecting every 4th ensemble member so the plot isn't too messy. \n",
    "    ds.PSL.sel(lat = 50, lon=237, method = 'nearest').isel(member_id=iens).plot()\n",
    "    \n",
    "# Plot the ensemble mean on top\n",
    "ds.PSL.sel(lat = 50, lon=237, method = 'nearest').mean(dim='member_id').plot(color='k')"
   ]
  },
  {
   "cell_type": "code",
   "execution_count": null,
   "id": "f930b4d0",
   "metadata": {},
   "outputs": [],
   "source": [
    "# What if we look at the CTRL simulation instead?\n",
    "ds_ctrl = dset_dict[\"atm.CTRL.monthly\"]\n",
    "ds_ctrl"
   ]
  },
  {
   "cell_type": "markdown",
   "id": "f5111e94",
   "metadata": {},
   "source": [
    "There are now no separate ensemble members: this is just one long control simulation of 21612/12 = 1801 years! In this case, the forcing (approximating pre-industrial forcing) is constant over time, unlike in the 20th century simulations, where the forcing changes with time. Think about why this means that it's reasonable to run a single 1801-year simulation for the control simulation, but necessary to have multiple ensemble members for the 20th century simulations."
   ]
  },
  {
   "cell_type": "markdown",
   "id": "ed1a2046",
   "metadata": {},
   "source": [
    "### For CESM LENS2"
   ]
  },
  {
   "cell_type": "code",
   "execution_count": null,
   "id": "354f991b",
   "metadata": {},
   "outputs": [],
   "source": [
    "cat2.esmcat.aggregation_control"
   ]
  },
  {
   "cell_type": "code",
   "execution_count": null,
   "id": "bef7e55e",
   "metadata": {},
   "outputs": [],
   "source": [
    "## For CESM LENS2:\n",
    "dset_dict2 = cat_subset2.to_dataset_dict(\n",
    "    xarray_open_kwargs={\"consolidated\": True, \"decode_times\": True}, storage_options={\"anon\": True}\n",
    ")"
   ]
  },
  {
   "cell_type": "code",
   "execution_count": null,
   "id": "f71927d0",
   "metadata": {},
   "outputs": [],
   "source": [
    "[key for key in dset_dict2.keys()][:10]"
   ]
  },
  {
   "cell_type": "code",
   "execution_count": null,
   "id": "747acaf1",
   "metadata": {},
   "outputs": [],
   "source": [
    "ds_cmip6 = dset_dict2[\"atm.ssp370.monthly.cmip6\"]\n",
    "ds_cmip6"
   ]
  },
  {
   "cell_type": "code",
   "execution_count": null,
   "id": "d2f9acf5",
   "metadata": {},
   "outputs": [],
   "source": [
    "# Here we have 50 members. There are 50 other members under the 'smbb' \n",
    "# (see https://www.cesm.ucar.edu/community-projects/lens2 ) for more details on these differences, related\n",
    "# to biomass burning emissions\n",
    "ds_smbb = dset_dict2[\"atm.ssp370.monthly.smbb\"]\n",
    "ds_smbb"
   ]
  },
  {
   "cell_type": "code",
   "execution_count": null,
   "id": "0f006616",
   "metadata": {},
   "outputs": [],
   "source": [
    "# Unless you think your results will be critically sensitive to the exact biomass burning specification, \n",
    "# you can combine these two sets of 50 members to create one 100 member ensemble.\n",
    "merge_ds= xr.concat([ds_cmip6, ds_smbb], dim='member_id')\n",
    "merge_ds"
   ]
  },
  {
   "cell_type": "code",
   "execution_count": null,
   "id": "2d87f0bd",
   "metadata": {},
   "outputs": [],
   "source": [
    "# information about the start year can be found in the member_id:\n",
    "# e.g. r10i1181p1f1 is initialized on year 1181\n",
    "# In the print-out below, you can see that some initialization dates have just one member, e.g. 1181: r10i1181p1f1, \n",
    "# whilst others have mutliple members, with micro-perturbations to the initial conditions, e.g. 1281: r1i1281p1f1,\n",
    "# r2i1281p1f1, r3i1281p1f1 etc...\n",
    "merge_ds.member_id"
   ]
  },
  {
   "cell_type": "code",
   "execution_count": null,
   "id": "87e11406",
   "metadata": {},
   "outputs": [],
   "source": []
  }
 ],
 "metadata": {
  "jupytext": {
   "text_representation": {
    "extension": ".md",
    "format_name": "myst",
    "format_version": 0.13,
    "jupytext_version": "1.14.4"
   }
  },
  "kernelspec": {
   "display_name": "Python 3 (ipykernel)",
   "language": "python",
   "name": "python3"
  },
  "source_map": [
   14,
   37,
   42,
   50,
   61,
   66,
   72,
   76,
   91,
   96,
   101,
   107,
   112,
   128,
   137,
   139,
   143,
   147,
   153,
   157,
   162,
   168,
   177,
   186,
   190,
   196,
   201,
   205,
   209,
   212,
   216,
   220,
   224,
   234,
   238,
   242,
   246,
   250,
   257,
   261,
   266,
   274,
   281,
   290
  ]
 },
 "nbformat": 4,
 "nbformat_minor": 5
}