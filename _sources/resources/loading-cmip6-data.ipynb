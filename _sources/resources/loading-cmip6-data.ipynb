{
 "cells": [
  {
   "cell_type": "markdown",
   "id": "3b8d6bc1",
   "metadata": {
    "user_expressions": []
   },
   "source": [
    "(resource:intake_esm)=\n",
    "# Accessing CMIP6 data with intake-esm\n",
    "\n",
    "Prelimnary:  You'll need to install both `intake-esm` and `xarray-datatree`:\n",
    "\n",
    "```\n",
    "mamba install -c conda-forge intake-esm\n",
    "mamba install -c conda-forge xarray-datatree\n",
    "```\n",
    "\n",
    "This notebook demonstrates how to access Google Cloud CMIP6 data using intake-esm.\n",
    "\n",
    "Intake-esm is a data cataloging utility built on top of intake, pandas, and\n",
    "xarray. Intake-esm aims to facilitate:\n",
    "\n",
    "- the discovery of earth’s climate and weather datasets.\n",
    "- the ingestion of these datasets into xarray dataset containers.\n",
    "\n",
    "It's basic usage is shown below. To begin, let's import `intake`:"
   ]
  },
  {
   "cell_type": "code",
   "execution_count": null,
   "id": "145be07d",
   "metadata": {},
   "outputs": [],
   "source": [
    "import intake"
   ]
  },
  {
   "cell_type": "markdown",
   "id": "a4738991",
   "metadata": {
    "user_expressions": []
   },
   "source": [
    "## Load the catalog\n",
    "\n",
    "At import time, intake-esm plugin is available in intake’s registry as\n",
    "`esm_datastore` and can be accessed with `intake.open_esm_datastore()` function.\n",
    "Use the `intake_esm.tutorial.get_url()` method to access smaller subsetted catalogs for tutorial purposes."
   ]
  },
  {
   "cell_type": "code",
   "execution_count": null,
   "id": "d91c7ec3",
   "metadata": {},
   "outputs": [],
   "source": [
    "import intake_esm\n",
    "#url = intake_esm.tutorial.get_url('google_cmip6')\n",
    "#print(url)\n",
    "url =\"https://raw.githubusercontent.com/NCAR/intake-esm-datastore/master/catalogs/pangeo-cmip6.json\""
   ]
  },
  {
   "cell_type": "code",
   "execution_count": null,
   "id": "eaa1085e",
   "metadata": {},
   "outputs": [],
   "source": [
    "cat = intake.open_esm_datastore(url)\n",
    "cat"
   ]
  },
  {
   "cell_type": "markdown",
   "id": "b36970ce",
   "metadata": {
    "user_expressions": []
   },
   "source": [
    "The summary above tells us that this catalog contains 514818 data assets.\n",
    "We can get more information on the individual data assets contained in the\n",
    "catalog by looking at the underlying dataframe created when we load the catalog:"
   ]
  },
  {
   "cell_type": "code",
   "execution_count": null,
   "id": "cd4f81c6",
   "metadata": {},
   "outputs": [],
   "source": [
    "cat.df"
   ]
  },
  {
   "cell_type": "markdown",
   "id": "23c49391",
   "metadata": {
    "user_expressions": []
   },
   "source": [
    "The first data asset listed in the catalog contains:\n",
    "\n",
    "- the surace pressure (variable_id='ps'), as a function of latitude, longitude, time,\n",
    "\n",
    "- the high resolution version of the CMCC climate model (source_id='CMCC-CM2-HR4'),\n",
    "\n",
    "- the high resolution model intercomparison expermenet (experiment_id='HighResMIP'),\n",
    "\n",
    "- developed by the Euro-Mediterranean Centre on Climate Change (instution_id='CMCC'),\n",
    "\n",
    "- run as part of the Coupled Model Intercomparison Project (activity_id='CMIP')\n",
    "\n",
    "And is located in Google Cloud Storage at 'gs://cmip6/CMIP6/HighResMIP/CMCC/CMCC-CM2-HR4/highresSST-present/r1i1p1f1/Amon/ps/gn/v20170706/\"\n",
    "\n",
    "## Finding unique entries\n",
    "\n",
    "To get unique values for given columns in the catalog, intake-esm provides a\n",
    "{py:meth}`~intake_esm.core.esm_datastore.unique` method:\n",
    "\n",
    "Let's query the data catalog to see what models(`source_id`), experiments\n",
    "(`experiment_id`) and temporal frequencies (`table_id`) are available."
   ]
  },
  {
   "cell_type": "code",
   "execution_count": null,
   "id": "fbbedc6b",
   "metadata": {},
   "outputs": [],
   "source": [
    "unique = cat.unique()\n",
    "unique"
   ]
  },
  {
   "cell_type": "code",
   "execution_count": null,
   "id": "5c239c56",
   "metadata": {},
   "outputs": [],
   "source": [
    "unique['source_id'][:10]"
   ]
  },
  {
   "cell_type": "code",
   "execution_count": null,
   "id": "af17ad0a",
   "metadata": {},
   "outputs": [],
   "source": [
    "experiments = unique['experiment_id']"
   ]
  },
  {
   "cell_type": "code",
   "execution_count": null,
   "id": "413cb6fa",
   "metadata": {},
   "outputs": [],
   "source": [
    "experiments.sort()\n",
    "experiments"
   ]
  },
  {
   "cell_type": "code",
   "execution_count": null,
   "id": "64f76039",
   "metadata": {},
   "outputs": [],
   "source": [
    "unique['table_id'][:10]"
   ]
  },
  {
   "cell_type": "markdown",
   "id": "39075e9e",
   "metadata": {
    "user_expressions": []
   },
   "source": [
    "## Search for specific datasets\n",
    "\n",
    "The {py:meth}`~intake_esm.core.esm_datastore.search` method allows the user to\n",
    "perform a query on a catalog using keyword arguments. The keyword argument names\n",
    "must match column names in the catalog. The search method returns a\n",
    "subset of the catalog with all the entries that match the provided query.\n",
    "\n",
    "In the example below, we are are going to search for the following:\n",
    "\n",
    "- variable_d: `o2` which stands for\n",
    "  `mole_concentration_of_dissolved_molecular_oxygen_in_sea_water`\n",
    "- experiments: ['historical', 'ssp585']:\n",
    "  - historical: all forcing of the recent past.\n",
    "  - ssp585: emission-driven RCP8.5 based on SSP5.\n",
    "- table_id: `0yr` which stands for annual mean variables on the ocean grid.\n",
    "- grid_label: `gn` which stands for data reported on a model's native grid.\n",
    "\n",
    "```{note}\n",
    "For more details on the CMIP6 vocabulary, please check this\n",
    "[website](http://clipc-services.ceda.ac.uk/dreq/index.html), and\n",
    "[Core Controlled Vocabularies (CVs) for use in CMIP6](https://github.com/WCRP-CMIP/CMIP6_CVs)\n",
    "GitHub repository.\n",
    "```"
   ]
  },
  {
   "cell_type": "code",
   "execution_count": null,
   "id": "eda82c52",
   "metadata": {},
   "outputs": [],
   "source": [
    "cat_subset = cat.search(\n",
    "    experiment_id=[\"historical\", \"ssp585\"],\n",
    "    table_id=\"Oyr\",\n",
    "    variable_id=\"o2\",\n",
    "    grid_label=\"gn\",\n",
    ")\n",
    "\n",
    "cat_subset"
   ]
  },
  {
   "cell_type": "markdown",
   "id": "e5aa9867",
   "metadata": {
    "user_expressions": []
   },
   "source": [
    "## Load datasets using `to_dataset_dict()`\n",
    "\n",
    "Intake-esm implements convenience utilities for loading the query results into\n",
    "higher level xarray datasets. The logic for merging/concatenating the query\n",
    "results into higher level xarray datasets is provided in the input JSON file and\n",
    "is available under `.aggregation_info` property of the catalog:"
   ]
  },
  {
   "cell_type": "code",
   "execution_count": null,
   "id": "1e35332b",
   "metadata": {},
   "outputs": [],
   "source": [
    "cat.esmcat.aggregation_control"
   ]
  },
  {
   "cell_type": "markdown",
   "id": "4786b4cc",
   "metadata": {
    "user_expressions": []
   },
   "source": [
    "To load data assets into xarray datasets, we need to use the\n",
    "{py:meth}`~intake_esm.core.esm_datastore.to_dataset_dict` method. This method\n",
    "returns a dictionary of aggregate xarray datasets as the name hints."
   ]
  },
  {
   "cell_type": "code",
   "execution_count": null,
   "id": "b71a544b",
   "metadata": {},
   "outputs": [],
   "source": [
    "dset_dict = cat_subset.to_dataset_dict(\n",
    "    xarray_open_kwargs={\"consolidated\": True, \"decode_times\": True, \"use_cftime\": True}\n",
    ")"
   ]
  },
  {
   "cell_type": "code",
   "execution_count": null,
   "id": "b8a8b452",
   "metadata": {},
   "outputs": [],
   "source": [
    "[key for key in dset_dict.keys()][:10]"
   ]
  },
  {
   "cell_type": "markdown",
   "id": "29b01d52",
   "metadata": {
    "user_expressions": []
   },
   "source": [
    "We can access a particular dataset as follows:"
   ]
  },
  {
   "cell_type": "code",
   "execution_count": null,
   "id": "1f890d22",
   "metadata": {},
   "outputs": [],
   "source": [
    "ds = dset_dict[\"CMIP.CCCma.CanESM5.historical.Oyr.gn\"]\n",
    "ds"
   ]
  },
  {
   "cell_type": "markdown",
   "id": "632963db",
   "metadata": {
    "user_expressions": []
   },
   "source": [
    "Let’s create a quick plot for a slice of the data:"
   ]
  },
  {
   "cell_type": "code",
   "execution_count": null,
   "id": "5b6efc59",
   "metadata": {},
   "outputs": [],
   "source": [
    "ds.o2.isel(time=0, lev=0, member_id=range(1, 24, 4)).plot(col=\"member_id\", col_wrap=3, robust=True)"
   ]
  },
  {
   "cell_type": "markdown",
   "id": "a9cfe4ac",
   "metadata": {
    "user_expressions": []
   },
   "source": [
    "## Use custom preprocessing functions\n",
    "\n",
    "When comparing many models it is often necessary to preprocess (e.g. rename\n",
    "certain variables) them before running some analysis step. The `preprocess`\n",
    "argument lets the user pass a function, which is executed for each loaded asset\n",
    "before combining datasets."
   ]
  },
  {
   "cell_type": "code",
   "execution_count": null,
   "id": "24408693",
   "metadata": {},
   "outputs": [],
   "source": [
    "cat_pp = cat.search(\n",
    "    experiment_id=[\"historical\"],\n",
    "    table_id=\"Oyr\",\n",
    "    variable_id=\"o2\",\n",
    "    grid_label=\"gn\",\n",
    "    source_id=[\"IPSL-CM6A-LR\", \"CanESM5\"],\n",
    "    member_id=\"r10i1p1f1\",\n",
    ")\n",
    "cat_pp.df"
   ]
  },
  {
   "cell_type": "code",
   "execution_count": null,
   "id": "892d8f54",
   "metadata": {},
   "outputs": [],
   "source": [
    "dset_dict_raw = cat_pp.to_dataset_dict(xarray_open_kwargs={\"consolidated\": True})\n",
    "\n",
    "for k, ds in dset_dict_raw.items():\n",
    "    print(f\"dataset key={k}\\n\\tdimensions={sorted(list(ds.dims))}\\n\")"
   ]
  },
  {
   "cell_type": "markdown",
   "id": "1965ef3a",
   "metadata": {
    "user_expressions": []
   },
   "source": [
    "```{note}\n",
    "Note that both models follow a different naming scheme. We can define a little\n",
    "helper function and pass it to `.to_dataset_dict()` to fix this. For\n",
    "demonstration purposes we will focus on the vertical level dimension which is\n",
    "called `lev` in `CanESM5` and `olevel` in `IPSL-CM6A-LR`.\n",
    "```"
   ]
  },
  {
   "cell_type": "code",
   "execution_count": null,
   "id": "ebc2285b",
   "metadata": {},
   "outputs": [],
   "source": [
    "def helper_func(ds):\n",
    "    \"\"\"Rename `olevel` dim to `lev`\"\"\"\n",
    "    ds = ds.copy()\n",
    "    # a short example\n",
    "    if \"olevel\" in ds.dims:\n",
    "        ds = ds.rename({\"olevel\": \"lev\"})\n",
    "    return ds"
   ]
  },
  {
   "cell_type": "code",
   "execution_count": null,
   "id": "577e28a6",
   "metadata": {},
   "outputs": [],
   "source": [
    "dset_dict_fixed = cat_pp.to_dataset_dict(xarray_open_kwargs={\"consolidated\": True}, preprocess=helper_func)\n",
    "\n",
    "for k, ds in dset_dict_fixed.items():\n",
    "    print(f\"dataset key={k}\\n\\tdimensions={sorted(list(ds.dims))}\\n\")"
   ]
  },
  {
   "cell_type": "markdown",
   "id": "ae89ad38",
   "metadata": {
    "user_expressions": []
   },
   "source": [
    "This was just an example for one dimension.\n",
    "\n",
    "```{note}\n",
    "Check out [xmip package](https://github.com/jbusecke/xMIP)\n",
    "for a full renaming function for all available CMIP6 models and some other\n",
    "utilities.\n",
    "```\n",
    "\n",
    "## Load datasets into an xarray-datatree using `to_datatree()`\n",
    "\n",
    "We can also load our data into an [xarray-datatree](https://xarray-datatree.readthedocs.io/en/latest/) object using the following:"
   ]
  },
  {
   "cell_type": "code",
   "execution_count": null,
   "id": "4fb4488f",
   "metadata": {},
   "outputs": [],
   "source": [
    "tree = cat_pp.to_datatree(xarray_open_kwargs={\"consolidated\": True}, preprocess=helper_func)\n",
    "\n",
    "print(tree)"
   ]
  },
  {
   "cell_type": "code",
   "execution_count": null,
   "id": "cff4de33",
   "metadata": {
    "tags": [
     "hide-input",
     "hide-output"
    ]
   },
   "outputs": [],
   "source": [
    "import intake_esm  # just to display version information\n",
    "intake_esm.show_versions()"
   ]
  }
 ],
 "metadata": {
  "jupytext": {
   "text_representation": {
    "extension": ".md",
    "format_name": "myst",
    "format_version": 0.13,
    "jupytext_version": "1.14.5"
   }
  },
  "kernelspec": {
   "display_name": "Python 3 (ipykernel)",
   "language": "python",
   "name": "python3"
  },
  "source_map": [
   14,
   36,
   40,
   48,
   55,
   60,
   66,
   70,
   94,
   99,
   103,
   107,
   112,
   116,
   142,
   153,
   162,
   166,
   172,
   178,
   182,
   186,
   191,
   195,
   199,
   208,
   220,
   227,
   236,
   246,
   253,
   267,
   273
  ]
 },
 "nbformat": 4,
 "nbformat_minor": 5
}