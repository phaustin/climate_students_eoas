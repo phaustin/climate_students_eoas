{
 "cells": [
  {
   "cell_type": "markdown",
   "id": "1619e448",
   "metadata": {},
   "source": [
    "# About this Book\n",
    "\n",
    "*under construction*\n",
    "\n",
    "This is a work in progress! The book first went live on Monday January 20, 2020.\n",
    "The content is likely to change rapidly for the next few weeks,\n",
    "and then start to settle down.\n",
    "\n",
    "*This book is dedicated to my children, Eleanor and Annabel.*"
   ]
  }
 ],
 "metadata": {
  "jupytext": {
   "cell_metadata_filter": "-all",
   "formats": "md:myst",
   "text_representation": {
    "extension": ".md",
    "format_name": "myst",
    "format_version": 0.12,
    "jupytext_version": "1.6.0"
   }
  },
  "kernelspec": {
   "display_name": "Python 3",
   "language": "python",
   "name": "python3"
  },
  "source_map": [
   14
  ]
 },
 "nbformat": 4,
 "nbformat_minor": 5
}