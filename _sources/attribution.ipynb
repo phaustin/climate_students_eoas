{
 "cells": [
  {
   "cell_type": "markdown",
   "id": "e756d65d",
   "metadata": {},
   "source": [
    "# How to cite and reuse this material\n",
    "\n",
    "The material is licensed for permissive re-use under the\n",
    "[Creative Commons Attribution 4.0 International (CC BY 4.0)](https://creativecommons.org/licenses/by/4.0/)\n",
    "license. This means you are free to share and adapt this material under the condition that\n",
    "you give appropriate credit to the original author (Brian E. J. Rose).\n",
    "\n",
    "Every release of the [source code repository](https://github.com/brian-rose/ClimateLaboratoryBook)\n",
    "is archived with a DOI:\n",
    "[![DOI](https://zenodo.org/badge/231609808.svg)](https://zenodo.org/badge/latestdoi/231609808)\n",
    "\n",
    "You can use this DOI to cite anything in the source code\n",
    "(including code and calculations in the notebooks that comprise each chapter).\n",
    "\n",
    "Alternatively, you can cite the text of individual chapters by linking directly to the URL,\n",
    "for example\n",
    "\n",
    "> Rose, Brian E. J. (2020, November 9). *Insolation*, **The Climate Laboratory**, https://brian-rose.github.io/ClimateLaboratoryBook/courseware/insolation.html"
   ]
  }
 ],
 "metadata": {
  "jupytext": {
   "cell_metadata_filter": "-all",
   "formats": "md:myst",
   "text_representation": {
    "extension": ".md",
    "format_name": "myst",
    "format_version": 0.12,
    "jupytext_version": "1.6.0"
   }
  },
  "kernelspec": {
   "display_name": "Python 3",
   "language": "python",
   "name": "python3"
  },
  "source_map": [
   14
  ]
 },
 "nbformat": 4,
 "nbformat_minor": 5
}